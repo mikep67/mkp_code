{
 "cells": [
  {
   "cell_type": "code",
   "execution_count": 35,
   "metadata": {},
   "outputs": [
    {
     "output_type": "error",
     "ename": "ModuleNotFoundError",
     "evalue": "No module named 'data'",
     "traceback": [
      "\u001b[1;31m---------------------------------------------------------------------------\u001b[0m",
      "\u001b[1;31mModuleNotFoundError\u001b[0m                       Traceback (most recent call last)",
      "\u001b[1;32m<ipython-input-35-f2db0ab5afa7>\u001b[0m in \u001b[0;36m<module>\u001b[1;34m\u001b[0m\n\u001b[0;32m     18\u001b[0m \u001b[1;31m# Add our local functions to the path\u001b[0m\u001b[1;33m\u001b[0m\u001b[1;33m\u001b[0m\u001b[1;33m\u001b[0m\u001b[0m\n\u001b[0;32m     19\u001b[0m \u001b[0msys\u001b[0m\u001b[1;33m.\u001b[0m\u001b[0mpath\u001b[0m\u001b[1;33m.\u001b[0m\u001b[0mappend\u001b[0m\u001b[1;33m(\u001b[0m\u001b[0mos\u001b[0m\u001b[1;33m.\u001b[0m\u001b[0mpath\u001b[0m\u001b[1;33m.\u001b[0m\u001b[0mjoin\u001b[0m\u001b[1;33m(\u001b[0m\u001b[0mos\u001b[0m\u001b[1;33m.\u001b[0m\u001b[0mpardir\u001b[0m\u001b[1;33m,\u001b[0m \u001b[1;34m'src'\u001b[0m\u001b[1;33m)\u001b[0m\u001b[1;33m)\u001b[0m\u001b[1;33m\u001b[0m\u001b[1;33m\u001b[0m\u001b[0m\n\u001b[1;32m---> 20\u001b[1;33m \u001b[1;32mfrom\u001b[0m \u001b[0mdata\u001b[0m \u001b[1;32mimport\u001b[0m \u001b[0mload_data\u001b[0m\u001b[1;33m\u001b[0m\u001b[1;33m\u001b[0m\u001b[0m\n\u001b[0m\u001b[0;32m     21\u001b[0m \u001b[1;32mfrom\u001b[0m \u001b[0mfeatures\u001b[0m \u001b[1;32mimport\u001b[0m \u001b[0mprocess_features\u001b[0m\u001b[1;33m\u001b[0m\u001b[1;33m\u001b[0m\u001b[0m\n",
      "\u001b[1;31mModuleNotFoundError\u001b[0m: No module named 'data'"
     ]
    }
   ],
   "source": [
    "%matplotlib inline\n",
    "\n",
    "import os\n",
    "import sys\n",
    "import json\n",
    "\n",
    "import numpy as np\n",
    "import pandas as pd\n",
    "from pandas.io.stata import StataReader\n",
    "\n",
    "from matplotlib import pyplot as plt\n",
    "from IPython.display import display\n",
    "import seaborn as sns\n",
    "sns.set()\n",
    "\n",
    "from sklearn.model_selection import train_test_split\n",
    "\n",
    "# Add our local functions to the path\n",
    "sys.path.append(os.path.join(os.pardir, 'src'))\n",
    "from data import load_data\n",
    "from features import process_features"
   ]
  },
  {
   "cell_type": "code",
   "execution_count": null,
   "metadata": {},
   "outputs": [],
   "source": []
  },
  {
   "cell_type": "code",
   "execution_count": null,
   "metadata": {},
   "outputs": [],
   "source": []
  },
  {
   "cell_type": "code",
   "execution_count": null,
   "metadata": {},
   "outputs": [],
   "source": []
  },
  {
   "cell_type": "code",
   "execution_count": 31,
   "metadata": {},
   "outputs": [
    {
     "output_type": "stream",
     "name": "stdout",
     "text": "..\n"
    }
   ],
   "source": [
    "print(os.pardir)"
   ]
  },
  {
   "cell_type": "code",
   "execution_count": 5,
   "metadata": {},
   "outputs": [],
   "source": [
    "# Read stata data into dataframe:\n",
    "survey = pd.read_stata(r\"C:\\Users\\micha\\Documents\\GitHub\\mkp_code\\Institute of Data Course\\Project 3\\data\\MWI_2010_IHS-III_v01_M_v01_A_ML_Stata\\MWI_2010_community.dta\")"
   ]
  },
  {
   "cell_type": "code",
   "execution_count": 7,
   "metadata": {},
   "outputs": [
    {
     "output_type": "stream",
     "name": "stdout",
     "text": "<class 'pandas.core.frame.DataFrame'>\nInt64Index: 768 entries, 0 to 767\nData columns (total 16 columns):\n #   Column           Non-Null Count  Dtype   \n---  ------           --------------  -----   \n 0   ea_id            768 non-null    object  \n 1   com_roadtype     768 non-null    category\n 2   com_vehicles     768 non-null    category\n 3   com_bus          768 non-null    category\n 4   com_urbancenter  768 non-null    category\n 5   com_dailymrkt    768 non-null    category\n 6   com_weeklymrkt   768 non-null    category\n 7   com_postoffice   768 non-null    category\n 8   com_publicphone  768 non-null    category\n 9   com_distprimary  679 non-null    category\n 10  com_classrooms   767 non-null    category\n 11  com_schoolelec   768 non-null    category\n 12  com_medicines    768 non-null    category\n 13  com_clinic       768 non-null    category\n 14  com_distclinic   566 non-null    category\n 15  com_bank         768 non-null    category\ndtypes: category(15), object(1)\nmemory usage: 45.1+ KB\n"
    }
   ],
   "source": [
    "survey.info()"
   ]
  },
  {
   "cell_type": "markdown",
   "metadata": {},
   "source": [
    "### Source: <br> The World Bank data preparation notebook available @ GitHub: <br> https://github.com/worldbank/ML-classification-algorithms-poverty/tree/master/notebooks\n"
   ]
  },
  {
   "cell_type": "code",
   "execution_count": 12,
   "metadata": {},
   "outputs": [],
   "source": [
    "# This function loads the sample stata file:\n",
    "def load_stata_file(filepath, \n",
    "                    index_cols, \n",
    "                    update_education=False, \n",
    "                    drop_minornans=False, \n",
    "                    drop_unlabeled=False):\n",
    "    \"\"\" Load data and metadata from Stata file\"\"\"\n",
    "    data = pd.read_stata(filepath, convert_categoricals=False).set_index(index_cols)\n",
    "\n",
    "    with StataReader(filepath) as reader:\n",
    "        reader.value_labels()\n",
    "            \n",
    "        mapping = {col: reader.value_label_dict[t] for col, t in \n",
    "                   zip(reader.varlist, reader.lbllist)\n",
    "                   if t in reader.value_label_dict}\n",
    "        \n",
    "        # manually update some specific columns\n",
    "        # in the Malawi dataset\n",
    "        if update_education and 'ind_educ09' in mapping:\n",
    "            mapping['ind_educ09'][13] = \"Primary - \" + mapping['ind_educ09'][13]\n",
    "            mapping['ind_educ09'][14] = \"Primary - \" + mapping['ind_educ09'][14]\n",
    "            \n",
    "            mapping['ind_educ09'][23] = \"Secondary - \" + mapping['ind_educ09'][23]\n",
    "            mapping['ind_educ09'][24] = \"Secondary - \" + mapping['ind_educ09'][24]\n",
    "        \n",
    "        data.replace(mapping, inplace=True)\n",
    "        \n",
    "        # convert the categorical variables into\n",
    "        # the category type\n",
    "        for c in data.columns:\n",
    "            if c in mapping:\n",
    "                data[c] = data[c].astype('category')\n",
    "                        \n",
    "        # drop records with only a few nans\n",
    "        if drop_minornans: \n",
    "            nan_counts = (data.applymap(pd.isnull)\n",
    "                          .sum(axis=0)\n",
    "                          .sort_values(ascending=False))\n",
    "            nan_cols = nan_counts[(nan_counts > 0) & (nan_counts < 10)].index.values\n",
    "            data = data.dropna(subset=nan_cols)\n",
    "        # drop unlabeled categorical values\n",
    "        def find_unlabeled(x):\n",
    "            if x.name in mapping.keys():\n",
    "                return [val if (val in mapping[x.name].values() or pd.isnull(val)) \n",
    "                        else 'UNLABELED' for val in x]\n",
    "            else:\n",
    "                return x\n",
    "            \n",
    "        data = data.apply(find_unlabeled)\n",
    "        data = data[~data.applymap(lambda x: x == \"UNLABELED\").any(axis=1)]\n",
    "        \n",
    "        # read the actual questions that were asked for reference\n",
    "        questions = reader.variable_labels()\n",
    "        \n",
    "    return data, questions"
   ]
  },
  {
   "cell_type": "code",
   "execution_count": 11,
   "metadata": {},
   "outputs": [
    {
     "output_type": "error",
     "ename": "NameError",
     "evalue": "name 'load_data' is not defined",
     "traceback": [
      "\u001b[1;31m---------------------------------------------------------------------------\u001b[0m",
      "\u001b[1;31mNameError\u001b[0m                                 Traceback (most recent call last)",
      "\u001b[1;32m<ipython-input-11-b66bc613b401>\u001b[0m in \u001b[0;36m<module>\u001b[1;34m\u001b[0m\n\u001b[0;32m      1\u001b[0m \u001b[1;31m# Load Malawi household data\u001b[0m\u001b[1;33m\u001b[0m\u001b[1;33m\u001b[0m\u001b[1;33m\u001b[0m\u001b[0m\n\u001b[1;32m----> 2\u001b[1;33m \u001b[0mfilepath\u001b[0m \u001b[1;33m=\u001b[0m \u001b[0mload_data\u001b[0m\u001b[1;33m.\u001b[0m\u001b[0mMWI_HOUSEHOLD\u001b[0m\u001b[1;33m\u001b[0m\u001b[1;33m\u001b[0m\u001b[0m\n\u001b[0m\u001b[0;32m      3\u001b[0m mwi_hhold, mwi_hhold_questions = load_stata_file(filepath, \n\u001b[0;32m      4\u001b[0m                                                  \u001b[1;33m[\u001b[0m\u001b[1;34m'hid'\u001b[0m\u001b[1;33m]\u001b[0m\u001b[1;33m,\u001b[0m\u001b[1;33m\u001b[0m\u001b[1;33m\u001b[0m\u001b[0m\n\u001b[0;32m      5\u001b[0m                                                  \u001b[0mdrop_minornans\u001b[0m\u001b[1;33m=\u001b[0m\u001b[1;32mTrue\u001b[0m\u001b[1;33m,\u001b[0m\u001b[1;33m\u001b[0m\u001b[1;33m\u001b[0m\u001b[0m\n",
      "\u001b[1;31mNameError\u001b[0m: name 'load_data' is not defined"
     ]
    }
   ],
   "source": [
    "# Load Malawi household data\n",
    "filepath = load_data.MWI_HOUSEHOLD\n",
    "mwi_hhold, mwi_hhold_questions = load_stata_file(filepath, \n",
    "                                                 ['hid'], \n",
    "                                                 drop_minornans=True, \n",
    "                                                 drop_unlabeled=True)\n",
    "\n",
    "s = 'Malawi household data has {:,} rows and {:,} columns'\n",
    "print(s.format(mwi_hhold.shape[0], mwi_hhold.shape[1]))\n",
    "s = 'Percent poor: {:0.1%} \\tPercent non-poor: {:0.1%}'\n",
    "print(s.format(mwi_hhold.poor.value_counts(normalize=True).loc['Poor'], \n",
    "               mwi_hhold.poor.value_counts(normalize=True).loc['Non-poor']))\n",
    "mwi_hhold.head()"
   ]
  },
  {
   "cell_type": "code",
   "execution_count": null,
   "metadata": {},
   "outputs": [],
   "source": []
  },
  {
   "cell_type": "code",
   "execution_count": null,
   "metadata": {},
   "outputs": [],
   "source": []
  },
  {
   "cell_type": "code",
   "execution_count": null,
   "metadata": {},
   "outputs": [],
   "source": []
  }
 ],
 "metadata": {
  "kernelspec": {
   "display_name": "Python 3",
   "language": "python",
   "name": "python3"
  },
  "language_info": {
   "codemirror_mode": {
    "name": "ipython",
    "version": 3
   },
   "file_extension": ".py",
   "mimetype": "text/x-python",
   "name": "python",
   "nbconvert_exporter": "python",
   "pygments_lexer": "ipython3",
   "version": "3.7.7-final"
  }
 },
 "nbformat": 4,
 "nbformat_minor": 4
}