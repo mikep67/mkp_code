{
 "cells": [
  {
   "cell_type": "code",
   "execution_count": null,
   "metadata": {},
   "outputs": [],
   "source": []
  },
  {
   "cell_type": "markdown",
   "metadata": {},
   "source": [
    "### Linear Discrimination Analysis - Malwai"
   ]
  },
  {
   "cell_type": "code",
   "execution_count": 74,
   "metadata": {},
   "outputs": [],
   "source": [
    "%matplotlib inline\n",
    "\n",
    "import os\n",
    "import sys\n",
    "import json\n",
    "\n",
    "import numpy as np\n",
    "import pandas as pd\n",
    "\n",
    "from matplotlib import pyplot as plt\n",
    "from IPython.display import display\n",
    "import seaborn as sns\n",
    "sns.set()\n",
    "\n",
    "# Use for \n",
    "from statsmodels.stats.outliers_influence import variance_inflation_factor\n",
    "from sklearn.linear_model import LogisticRegression\n",
    "from sklearn.model_selection import cross_val_score\n",
    "from sklearn.model_selection import KFold\n",
    "from sklearn import metrics\n",
    "\n",
    "from sklearn.discriminant_analysis import LinearDiscriminantAnalysis\n",
    "from sklearn.preprocessing import LabelEncoder\n",
    "from sklearn.tree import DecisionTreeClassifier\n",
    "from sklearn.model_selection import train_test_split\n",
    "from sklearn.metrics import confusion_matrix\n",
    "\n",
    "# Add our local functions to the path\n",
    "sys.path.append(os.path.join(os.pardir, 'src'))\n",
    "\n",
    "ALGORITHM_NAME = 'lda'\n",
    "COUNTRY = 'mwi'\n",
    "TRAIN_PATH, TEST_PATH, QUESTIONS_PATH = get_country_filepaths(COUNTRY)\n",
    "\n",
    "# load text of survey questions for reference\n",
    "with open(QUESTIONS_PATH, 'r') as fp:\n",
    "    questions = json.load(fp)"
   ]
  },
  {
   "cell_type": "code",
   "execution_count": 75,
   "metadata": {},
   "outputs": [],
   "source": [
    "# Definition of Main Variables to Predict Poverty from the Household Survey\n",
    "\n",
    "MWI_BASIC_FEATURES = [\n",
    "    'der_nchild10under', \n",
    "    'der_nmalesover10', \n",
    "    'der_nfemalesover10',\n",
    "    'der_nliterate', \n",
    "    'der_nemployedpastyear',\n",
    "    'hld_electricity__Yes',\n",
    "    'hld_toilet__None',\n",
    "    'cons_0504__Yes',\n",
    "    'cons_0508__Yes'\n",
    "]"
   ]
  },
  {
   "cell_type": "code",
   "execution_count": null,
   "metadata": {},
   "outputs": [],
   "source": []
  },
  {
   "cell_type": "code",
   "execution_count": 76,
   "metadata": {},
   "outputs": [],
   "source": [
    "# Standardise Data\n",
    "def standardize(df, numeric_only=True):\n",
    "    if numeric_only is True:\n",
    "    # find non-boolean columns\n",
    "        cols = df.loc[:,df.dtypes != 'uint8'].columns\n",
    "    else:\n",
    "        cols = df.columns\n",
    "    for field in cols:\n",
    "        mean, std = df[field].mean(), df[field].std()\n",
    "        # account for constant columns\n",
    "        if np.all(df[field]-mean != 0):\n",
    "            df.loc[:,field] = (df[field]-mean)/std\n",
    "    \n",
    "    return df"
   ]
  },
  {
   "cell_type": "code",
   "execution_count": null,
   "metadata": {},
   "outputs": [],
   "source": []
  },
  {
   "cell_type": "code",
   "execution_count": 77,
   "metadata": {},
   "outputs": [],
   "source": [
    "def drop_duplicate_columns(df, ignore=[], inplace=False):\n",
    "    if not inplace:\n",
    "        df = df.copy()\n",
    "\n",
    "    # pairwise correlations\n",
    "    corr = df.corr()\n",
    "    corr[corr.columns] = np.triu(corr, k=1)\n",
    "    corr = corr.stack()\n",
    "\n",
    "    # for any perfectly correlated variables, drop one of them\n",
    "    for ix, r in corr[(corr == 1)].to_frame().iterrows():\n",
    "        first, second = ix\n",
    "\n",
    "        if second in df.columns and second not in ignore:\n",
    "            df.drop(second, inplace=True, axis=1)\n",
    "\n",
    "    if not inplace:\n",
    "        return df"
   ]
  },
  {
   "cell_type": "code",
   "execution_count": null,
   "metadata": {},
   "outputs": [],
   "source": []
  },
  {
   "cell_type": "code",
   "execution_count": 52,
   "metadata": {},
   "outputs": [],
   "source": [
    "# Split the data for analysis\n",
    "def split_features_labels_weights(df,\n",
    "                                  weights=['wta_pop', 'wta_hh'],\n",
    "                                  weights_col=['wta_pop'],\n",
    "                                  label_col=['poor']):\n",
    "\n",
    "    '''Split data into features, labels, and weights dataframes'''\n",
    "    data = df\n",
    "    return (data.drop(weights + label_col, axis=1),\n",
    "            data[label_col],\n",
    "            data[weights_col])"
   ]
  },
  {
   "cell_type": "code",
   "execution_count": null,
   "metadata": {},
   "outputs": [],
   "source": []
  },
  {
   "cell_type": "code",
   "execution_count": 80,
   "metadata": {},
   "outputs": [],
   "source": [
    "# Load the processed Mwai household:\n",
    "mwi_hhold = pd.read_csv(r\"C:\\Users\\micha\\Documents\\GitHub\\mkp_code\\Institute of Data Course\\Project 3\\data\\csv_data\\MWI_2010_household.csv\")"
   ]
  },
  {
   "cell_type": "code",
   "execution_count": null,
   "metadata": {},
   "outputs": [],
   "source": []
  },
  {
   "cell_type": "code",
   "execution_count": 78,
   "metadata": {},
   "outputs": [
    {
     "output_type": "error",
     "ename": "NameError",
     "evalue": "name 'X' is not defined",
     "traceback": [
      "\u001b[1;31m---------------------------------------------------------------------------\u001b[0m",
      "\u001b[1;31mNameError\u001b[0m                                 Traceback (most recent call last)",
      "\u001b[1;32m<ipython-input-78-fdc383a63b9e>\u001b[0m in \u001b[0;36m<module>\u001b[1;34m\u001b[0m\n\u001b[0;32m      1\u001b[0m \u001b[1;31m# Split the dataset\u001b[0m\u001b[1;33m\u001b[0m\u001b[1;33m\u001b[0m\u001b[1;33m\u001b[0m\u001b[0m\n\u001b[1;32m----> 2\u001b[1;33m \u001b[0mX_train\u001b[0m\u001b[1;33m,\u001b[0m \u001b[0mX_test\u001b[0m\u001b[1;33m,\u001b[0m \u001b[0my_train\u001b[0m\u001b[1;33m,\u001b[0m \u001b[0my_test\u001b[0m \u001b[1;33m=\u001b[0m \u001b[0mtrain_test_split\u001b[0m\u001b[1;33m(\u001b[0m\u001b[0mX\u001b[0m\u001b[1;33m,\u001b[0m \u001b[0my\u001b[0m\u001b[1;33m,\u001b[0m \u001b[0mrandom_state\u001b[0m\u001b[1;33m=\u001b[0m\u001b[1;36m1\u001b[0m\u001b[1;33m)\u001b[0m\u001b[1;33m\u001b[0m\u001b[1;33m\u001b[0m\u001b[0m\n\u001b[0m",
      "\u001b[1;31mNameError\u001b[0m: name 'X' is not defined"
     ]
    }
   ],
   "source": [
    "# Split the dataset\n",
    "X_train, X_test, y_train, y_test = train_test_split(X, y, random_state=1)"
   ]
  },
  {
   "cell_type": "code",
   "execution_count": null,
   "metadata": {},
   "outputs": [],
   "source": []
  },
  {
   "cell_type": "code",
   "execution_count": 81,
   "metadata": {},
   "outputs": [],
   "source": [
    "# load training data\n",
    "X_train, y_train, w_train = split_features_labels_weights(mwi_hhold)"
   ]
  },
  {
   "cell_type": "code",
   "execution_count": null,
   "metadata": {},
   "outputs": [],
   "source": []
  },
  {
   "cell_type": "code",
   "execution_count": 82,
   "metadata": {},
   "outputs": [
    {
     "output_type": "execute_result",
     "data": {
      "text/plain": "<bound method NDFrame.head of                 hid  der_hhsize  hld_rooms  hld_nbcellpho  hld_selfscale  \\\n0      101010160009           6          2            0.0            2.0   \n1      101010160033           4          3            0.0            1.0   \n2      101010160060          10          6            1.0            1.0   \n3      101010160068           9          3            0.0            2.0   \n4      101010160069           1          2            0.0            3.0   \n...             ...         ...        ...            ...            ...   \n12239  315556140342           3          2            1.0            1.0   \n12240  315556140365           2          1            0.0            2.0   \n12241  315556140388           2          2            1.0            2.0   \n12242  315556140411           5          2            1.0            1.0   \n12243  315556140434           7          4            1.0            3.0   \n\n       der_nchild10under  der_nmalesover10  der_nfemalesover10  der_nliterate  \\\n0                      4                 1                   1              2   \n1                      1                 2                   1              1   \n2                      4                 3                   3              4   \n3                      4                 3                   2              6   \n4                      0                 1                   0              1   \n...                  ...               ...                 ...            ...   \n12239                  1                 1                   1              2   \n12240                  0                 1                   1              1   \n12241                  0                 1                   1              2   \n12242                  2                 2                   1              2   \n12243                  2                 2                   3              7   \n\n       der_nemployedpastyear  ...  com_medicines__Yes  com_clinic__Yes  \\\n0                          0  ...                   0                0   \n1                          0  ...                   0                0   \n2                          1  ...                   0                0   \n3                          0  ...                   0                0   \n4                          0  ...                   0                0   \n...                      ...  ...                 ...              ...   \n12239                      1  ...                   1                0   \n12240                      1  ...                   1                0   \n12241                      1  ...                   1                0   \n12242                      2  ...                   1                0   \n12243                      1  ...                   1                0   \n\n       com_distclinic__11 to 15 kilometers  \\\n0                                        0   \n1                                        0   \n2                                        0   \n3                                        0   \n4                                        0   \n...                                    ...   \n12239                                    0   \n12240                                    0   \n12241                                    0   \n12242                                    0   \n12243                                    0   \n\n       com_distclinic__16 to 20 kilometers  \\\n0                                        0   \n1                                        0   \n2                                        0   \n3                                        0   \n4                                        0   \n...                                    ...   \n12239                                    0   \n12240                                    0   \n12241                                    0   \n12242                                    0   \n12243                                    0   \n\n       com_distclinic__21 to 25 kilometers  \\\n0                                        1   \n1                                        1   \n2                                        1   \n3                                        1   \n4                                        1   \n...                                    ...   \n12239                                    0   \n12240                                    0   \n12241                                    0   \n12242                                    0   \n12243                                    0   \n\n       com_distclinic__26 to 30 kilometers  \\\n0                                        0   \n1                                        0   \n2                                        0   \n3                                        0   \n4                                        0   \n...                                    ...   \n12239                                    0   \n12240                                    0   \n12241                                    0   \n12242                                    0   \n12243                                    0   \n\n       com_distclinic__6 to 10 kilometers  \\\n0                                       0   \n1                                       0   \n2                                       0   \n3                                       0   \n4                                       0   \n...                                   ...   \n12239                                   1   \n12240                                   1   \n12241                                   1   \n12242                                   1   \n12243                                   1   \n\n       com_distclinic__Above 30 kilometers  com_distclinic__nan  com_bank__Yes  \n0                                        0                    0              0  \n1                                        0                    0              0  \n2                                        0                    0              0  \n3                                        0                    0              0  \n4                                        0                    0              0  \n...                                    ...                  ...            ...  \n12239                                    0                    0              0  \n12240                                    0                    0              0  \n12241                                    0                    0              0  \n12242                                    0                    0              0  \n12243                                    0                    0              0  \n\n[12244 rows x 485 columns]>"
     },
     "metadata": {},
     "execution_count": 82
    }
   ],
   "source": [
    "X_train.head"
   ]
  },
  {
   "cell_type": "code",
   "execution_count": 83,
   "metadata": {},
   "outputs": [
    {
     "output_type": "execute_result",
     "data": {
      "text/plain": "<bound method NDFrame.head of                 hid    wta_hh    wta_pop  der_hhsize   poor  hld_rooms  \\\n10396  311040860017  154.1838  1079.2866           7   True          2   \n5957   210370300058   38.0793   228.4758           6  False          3   \n7847   304034440117  171.6786  1030.0717           6  False          5   \n10050  310016470133  304.8801  2134.1606           7   True          2   \n7475   303055060022  438.8862   877.7724           2   True          2   \n...             ...       ...        ...         ...    ...        ...   \n6461   210875310120  383.0713  2298.4277           6  False          5   \n6367   210815730169  338.8980  3050.0820           9  False          7   \n1624   105022680350  538.7578  2155.0312           4   True          3   \n1780   105055080092  414.3365  2900.3555           7   True          4   \n7889   304037660001  205.5182   205.5182           1  False          2   \n\n       hld_nbcellpho  hld_selfscale  der_nchild10under  der_nmalesover10  ...  \\\n10396            0.0            3.0                  0                 3  ...   \n5957             5.0            4.0                  0                 4  ...   \n7847             1.0            3.0                  3                 2  ...   \n10050            0.0            2.0                  4                 1  ...   \n7475             1.0            2.0                  0                 1  ...   \n...              ...            ...                ...               ...  ...   \n6461             2.0            2.0                  3                 1  ...   \n6367             2.0            3.0                  3                 2  ...   \n1624             1.0            1.0                  2                 1  ...   \n1780             0.0            1.0                  2                 2  ...   \n7889             0.0            1.0                  0                 0  ...   \n\n       com_medicines__Yes  com_clinic__Yes  \\\n10396                   1                0   \n5957                    1                0   \n7847                    1                1   \n10050                   1                0   \n7475                    1                0   \n...                   ...              ...   \n6461                    1                0   \n6367                    1                0   \n1624                    1                0   \n1780                    1                0   \n7889                    0                0   \n\n       com_distclinic__11 to 15 kilometers  \\\n10396                                    0   \n5957                                     0   \n7847                                     0   \n10050                                    0   \n7475                                     0   \n...                                    ...   \n6461                                     0   \n6367                                     0   \n1624                                     1   \n1780                                     0   \n7889                                     0   \n\n       com_distclinic__16 to 20 kilometers  \\\n10396                                    0   \n5957                                     0   \n7847                                     0   \n10050                                    0   \n7475                                     0   \n...                                    ...   \n6461                                     0   \n6367                                     0   \n1624                                     0   \n1780                                     0   \n7889                                     0   \n\n       com_distclinic__21 to 25 kilometers  \\\n10396                                    0   \n5957                                     0   \n7847                                     0   \n10050                                    0   \n7475                                     0   \n...                                    ...   \n6461                                     0   \n6367                                     0   \n1624                                     0   \n1780                                     0   \n7889                                     0   \n\n       com_distclinic__26 to 30 kilometers  \\\n10396                                    0   \n5957                                     0   \n7847                                     0   \n10050                                    0   \n7475                                     0   \n...                                    ...   \n6461                                     0   \n6367                                     0   \n1624                                     0   \n1780                                     0   \n7889                                     0   \n\n       com_distclinic__6 to 10 kilometers  \\\n10396                                   0   \n5957                                    0   \n7847                                    0   \n10050                                   1   \n7475                                    0   \n...                                   ...   \n6461                                    0   \n6367                                    0   \n1624                                    0   \n1780                                    0   \n7889                                    0   \n\n       com_distclinic__Above 30 kilometers  com_distclinic__nan  com_bank__Yes  \n10396                                    0                    0              0  \n5957                                     0                    0              0  \n7847                                     0                    1              0  \n10050                                    0                    0              0  \n7475                                     0                    0              0  \n...                                    ...                  ...            ...  \n6461                                     0                    0              0  \n6367                                     0                    0              0  \n1624                                     0                    0              0  \n1780                                     0                    0              0  \n7889                                     0                    0              0  \n\n[3061 rows x 488 columns]>"
     },
     "metadata": {},
     "execution_count": 83
    }
   ],
   "source": [
    "y_test = "
   ]
  },
  {
   "cell_type": "code",
   "execution_count": null,
   "metadata": {},
   "outputs": [],
   "source": []
  },
  {
   "cell_type": "code",
   "execution_count": 55,
   "metadata": {},
   "outputs": [
    {
     "output_type": "stream",
     "name": "stdout",
     "text": "Data has 12,244 rows and 485 columns\nPercent poor: 45.1% \tPercent non-poor: 54.9%\n"
    },
    {
     "output_type": "execute_result",
     "data": {
      "text/plain": "            hid  der_hhsize  hld_rooms  hld_nbcellpho  hld_selfscale  \\\n0  101010160009           6          2            0.0            2.0   \n1  101010160033           4          3            0.0            1.0   \n2  101010160060          10          6            1.0            1.0   \n3  101010160068           9          3            0.0            2.0   \n4  101010160069           1          2            0.0            3.0   \n\n   der_nchild10under  der_nmalesover10  der_nfemalesover10  der_nliterate  \\\n0                  4                 1                   1              2   \n1                  1                 2                   1              1   \n2                  4                 3                   3              4   \n3                  4                 3                   2              6   \n4                  0                 1                   0              1   \n\n   der_nemployedpastyear  ...  com_medicines__Yes  com_clinic__Yes  \\\n0                      0  ...                   0                0   \n1                      0  ...                   0                0   \n2                      1  ...                   0                0   \n3                      0  ...                   0                0   \n4                      0  ...                   0                0   \n\n   com_distclinic__11 to 15 kilometers  com_distclinic__16 to 20 kilometers  \\\n0                                    0                                    0   \n1                                    0                                    0   \n2                                    0                                    0   \n3                                    0                                    0   \n4                                    0                                    0   \n\n   com_distclinic__21 to 25 kilometers  com_distclinic__26 to 30 kilometers  \\\n0                                    1                                    0   \n1                                    1                                    0   \n2                                    1                                    0   \n3                                    1                                    0   \n4                                    1                                    0   \n\n   com_distclinic__6 to 10 kilometers  com_distclinic__Above 30 kilometers  \\\n0                                   0                                    0   \n1                                   0                                    0   \n2                                   0                                    0   \n3                                   0                                    0   \n4                                   0                                    0   \n\n   com_distclinic__nan  com_bank__Yes  \n0                    0              0  \n1                    0              0  \n2                    0              0  \n3                    0              0  \n4                    0              0  \n\n[5 rows x 485 columns]",
      "text/html": "<div>\n<style scoped>\n    .dataframe tbody tr th:only-of-type {\n        vertical-align: middle;\n    }\n\n    .dataframe tbody tr th {\n        vertical-align: top;\n    }\n\n    .dataframe thead th {\n        text-align: right;\n    }\n</style>\n<table border=\"1\" class=\"dataframe\">\n  <thead>\n    <tr style=\"text-align: right;\">\n      <th></th>\n      <th>hid</th>\n      <th>der_hhsize</th>\n      <th>hld_rooms</th>\n      <th>hld_nbcellpho</th>\n      <th>hld_selfscale</th>\n      <th>der_nchild10under</th>\n      <th>der_nmalesover10</th>\n      <th>der_nfemalesover10</th>\n      <th>der_nliterate</th>\n      <th>der_nemployedpastyear</th>\n      <th>...</th>\n      <th>com_medicines__Yes</th>\n      <th>com_clinic__Yes</th>\n      <th>com_distclinic__11 to 15 kilometers</th>\n      <th>com_distclinic__16 to 20 kilometers</th>\n      <th>com_distclinic__21 to 25 kilometers</th>\n      <th>com_distclinic__26 to 30 kilometers</th>\n      <th>com_distclinic__6 to 10 kilometers</th>\n      <th>com_distclinic__Above 30 kilometers</th>\n      <th>com_distclinic__nan</th>\n      <th>com_bank__Yes</th>\n    </tr>\n  </thead>\n  <tbody>\n    <tr>\n      <th>0</th>\n      <td>101010160009</td>\n      <td>6</td>\n      <td>2</td>\n      <td>0.0</td>\n      <td>2.0</td>\n      <td>4</td>\n      <td>1</td>\n      <td>1</td>\n      <td>2</td>\n      <td>0</td>\n      <td>...</td>\n      <td>0</td>\n      <td>0</td>\n      <td>0</td>\n      <td>0</td>\n      <td>1</td>\n      <td>0</td>\n      <td>0</td>\n      <td>0</td>\n      <td>0</td>\n      <td>0</td>\n    </tr>\n    <tr>\n      <th>1</th>\n      <td>101010160033</td>\n      <td>4</td>\n      <td>3</td>\n      <td>0.0</td>\n      <td>1.0</td>\n      <td>1</td>\n      <td>2</td>\n      <td>1</td>\n      <td>1</td>\n      <td>0</td>\n      <td>...</td>\n      <td>0</td>\n      <td>0</td>\n      <td>0</td>\n      <td>0</td>\n      <td>1</td>\n      <td>0</td>\n      <td>0</td>\n      <td>0</td>\n      <td>0</td>\n      <td>0</td>\n    </tr>\n    <tr>\n      <th>2</th>\n      <td>101010160060</td>\n      <td>10</td>\n      <td>6</td>\n      <td>1.0</td>\n      <td>1.0</td>\n      <td>4</td>\n      <td>3</td>\n      <td>3</td>\n      <td>4</td>\n      <td>1</td>\n      <td>...</td>\n      <td>0</td>\n      <td>0</td>\n      <td>0</td>\n      <td>0</td>\n      <td>1</td>\n      <td>0</td>\n      <td>0</td>\n      <td>0</td>\n      <td>0</td>\n      <td>0</td>\n    </tr>\n    <tr>\n      <th>3</th>\n      <td>101010160068</td>\n      <td>9</td>\n      <td>3</td>\n      <td>0.0</td>\n      <td>2.0</td>\n      <td>4</td>\n      <td>3</td>\n      <td>2</td>\n      <td>6</td>\n      <td>0</td>\n      <td>...</td>\n      <td>0</td>\n      <td>0</td>\n      <td>0</td>\n      <td>0</td>\n      <td>1</td>\n      <td>0</td>\n      <td>0</td>\n      <td>0</td>\n      <td>0</td>\n      <td>0</td>\n    </tr>\n    <tr>\n      <th>4</th>\n      <td>101010160069</td>\n      <td>1</td>\n      <td>2</td>\n      <td>0.0</td>\n      <td>3.0</td>\n      <td>0</td>\n      <td>1</td>\n      <td>0</td>\n      <td>1</td>\n      <td>0</td>\n      <td>...</td>\n      <td>0</td>\n      <td>0</td>\n      <td>0</td>\n      <td>0</td>\n      <td>1</td>\n      <td>0</td>\n      <td>0</td>\n      <td>0</td>\n      <td>0</td>\n      <td>0</td>\n    </tr>\n  </tbody>\n</table>\n<p>5 rows × 485 columns</p>\n</div>"
     },
     "metadata": {},
     "execution_count": 55
    }
   ],
   "source": [
    "# summarize loaded data\n",
    "print('Data has {:,} rows and {:,} columns' \\\n",
    "        .format(*X_train.shape))\n",
    "\n",
    "print('Percent poor: {:0.1%} \\tPercent non-poor: {:0.1%}' \\\n",
    "        .format(*y_train.poor.value_counts(normalize=True, ascending=True)))\n",
    "\n",
    "# print first 5 rows of data\n",
    "X_train.head()"
   ]
  },
  {
   "cell_type": "code",
   "execution_count": null,
   "metadata": {},
   "outputs": [],
   "source": []
  },
  {
   "cell_type": "code",
   "execution_count": 56,
   "metadata": {},
   "outputs": [
    {
     "output_type": "stream",
     "name": "stdout",
     "text": "X shape with selected columns: (12244, 9)\n"
    }
   ],
   "source": [
    "selected_columns = MWI_BASIC_FEATURES\n",
    "print(\"X shape with selected columns:\", X_train[selected_columns].shape)"
   ]
  },
  {
   "cell_type": "code",
   "execution_count": 63,
   "metadata": {},
   "outputs": [
    {
     "output_type": "stream",
     "name": "stdout",
     "text": "X shape with selected columns: (9183, 10)\n"
    }
   ],
   "source": [
    "# Select a few columns for this example\n",
    "selected_columns = [\n",
    "    'der_hhsize', \n",
    "    'der_nchild10under', \n",
    "    'der_nmalesover10', \n",
    "    'der_nfemalesover10',\n",
    "    'der_nliterate', \n",
    "    'der_nemployedpastyear',\n",
    "    'hld_electricity__Yes',\n",
    "    'hld_toilet__None',\n",
    "    'cons_0504__Yes',\n",
    "    'cons_0508__Yes'\n",
    "]\n",
    "\n",
    "print(\"X shape with selected columns:\", mwi_train[selected_columns].shape)"
   ]
  },
  {
   "cell_type": "code",
   "execution_count": 64,
   "metadata": {},
   "outputs": [],
   "source": [
    "# Same method for getting the coefficients as we used with Malawi\n",
    "def get_coefs_df(X, coefs, index=None):\n",
    "    coefs_df = pd.DataFrame(np.std(X, 0)*coefs)\n",
    "    coefs_df.columns = [\"coef_std\"]\n",
    "    coefs_df['coef'] = coefs\n",
    "    coefs_df['abs'] = coefs_df.coef_std.apply(abs)\n",
    "    if index is not None:\n",
    "        coefs_df.index = index\n",
    "    return coefs_df"
   ]
  },
  {
   "cell_type": "code",
   "execution_count": 65,
   "metadata": {},
   "outputs": [
    {
     "output_type": "stream",
     "name": "stdout",
     "text": "Wall time: 2.38 s\nWall time: 74 ms\nIn-sample score: 87.94%\n"
    }
   ],
   "source": [
    "# Fit the model\n",
    "model = LinearDiscriminantAnalysis()\n",
    "%time model.fit(X_train, y_train)\n",
    "\n",
    "# Get an initial score\n",
    "%time score = model.score(X_train, y_train)\n",
    "print(\"In-sample score: {:0.2%}\".format(score))\n",
    "\n"
   ]
  },
  {
   "cell_type": "code",
   "execution_count": null,
   "metadata": {},
   "outputs": [],
   "source": []
  },
  {
   "cell_type": "code",
   "execution_count": 71,
   "metadata": {},
   "outputs": [],
   "source": [
    "# Store coefficients\n",
    "coefs = get_coefs_df(X_train, model.coef_[0])\n"
   ]
  },
  {
   "cell_type": "code",
   "execution_count": null,
   "metadata": {},
   "outputs": [],
   "source": [
    "# Load the test set\n",
    "X_test, y_test, w_test = load_data(TEST_PATH, selected_columns=selected_columns)\n",
    "\n",
    "# Run the model\n",
    "y_pred = model.predict(X_test)\n",
    "y_prob = model.predict_proba(X_test)[:,1]"
   ]
  },
  {
   "cell_type": "code",
   "execution_count": 72,
   "metadata": {},
   "outputs": [],
   "source": [
    "# Run the model\n",
    "y_pred = model.predict(X_train)\n",
    "y_prob = model.predict_proba(X_train)[:,1]"
   ]
  },
  {
   "cell_type": "code",
   "execution_count": 73,
   "metadata": {},
   "outputs": [
    {
     "output_type": "error",
     "ename": "TypeError",
     "evalue": "auc() got an unexpected keyword argument 'reorder'",
     "traceback": [
      "\u001b[1;31m---------------------------------------------------------------------------\u001b[0m",
      "\u001b[1;31mTypeError\u001b[0m                                 Traceback (most recent call last)",
      "\u001b[1;32m<ipython-input-73-84765858ec9f>\u001b[0m in \u001b[0;36m<module>\u001b[1;34m\u001b[0m\n\u001b[0;32m      7\u001b[0m                                     \u001b[0mcountry\u001b[0m\u001b[1;33m=\u001b[0m\u001b[0mCOUNTRY\u001b[0m\u001b[1;33m,\u001b[0m\u001b[1;33m\u001b[0m\u001b[1;33m\u001b[0m\u001b[0m\n\u001b[0;32m      8\u001b[0m                                     \u001b[0mmodel\u001b[0m\u001b[1;33m=\u001b[0m\u001b[0mmodel\u001b[0m\u001b[1;33m,\u001b[0m\u001b[1;33m\u001b[0m\u001b[1;33m\u001b[0m\u001b[0m\n\u001b[1;32m----> 9\u001b[1;33m                                     features=coefs)\n\u001b[0m",
      "\u001b[1;32mc:\\Users\\micha\\Documents\\GitHub\\mkp_code\\Institute of Data Course\\Project 3\\src\\models\\evaluation.py\u001b[0m in \u001b[0;36mevaluate_model\u001b[1;34m(y_test, y_pred, y_prob, sample_weights, show, compare_models, store_model, model_name, prefix, country, model, features, predict_pov_rate)\u001b[0m\n\u001b[0;32m    118\u001b[0m     \u001b[1;34m\"\"\"Evaluate model performance. Options to display results and store model\"\"\"\u001b[0m\u001b[1;33m\u001b[0m\u001b[1;33m\u001b[0m\u001b[0m\n\u001b[0;32m    119\u001b[0m \u001b[1;33m\u001b[0m\u001b[0m\n\u001b[1;32m--> 120\u001b[1;33m     \u001b[0mmetrics\u001b[0m \u001b[1;33m=\u001b[0m \u001b[0mcalculate_metrics\u001b[0m\u001b[1;33m(\u001b[0m\u001b[0my_test\u001b[0m\u001b[1;33m,\u001b[0m \u001b[0my_pred\u001b[0m\u001b[1;33m,\u001b[0m \u001b[0my_prob\u001b[0m\u001b[1;33m,\u001b[0m \u001b[0msample_weights\u001b[0m\u001b[1;33m)\u001b[0m\u001b[1;33m\u001b[0m\u001b[1;33m\u001b[0m\u001b[0m\n\u001b[0m\u001b[0;32m    121\u001b[0m \u001b[1;33m\u001b[0m\u001b[0m\n\u001b[0;32m    122\u001b[0m     \u001b[1;31m# Predict national poverty rate\u001b[0m\u001b[1;33m\u001b[0m\u001b[1;33m\u001b[0m\u001b[1;33m\u001b[0m\u001b[0m\n",
      "\u001b[1;32mc:\\Users\\micha\\Documents\\GitHub\\mkp_code\\Institute of Data Course\\Project 3\\src\\models\\evaluation.py\u001b[0m in \u001b[0;36mcalculate_metrics\u001b[1;34m(y_test, y_pred, y_prob, sample_weights)\u001b[0m\n\u001b[0;32m     77\u001b[0m         \u001b[0mmetrics\u001b[0m\u001b[1;33m[\u001b[0m\u001b[1;34m'fpr'\u001b[0m\u001b[1;33m]\u001b[0m               \u001b[1;33m=\u001b[0m \u001b[0mfpr\u001b[0m\u001b[1;33m\u001b[0m\u001b[1;33m\u001b[0m\u001b[0m\n\u001b[0;32m     78\u001b[0m         \u001b[0mmetrics\u001b[0m\u001b[1;33m[\u001b[0m\u001b[1;34m'tpr'\u001b[0m\u001b[1;33m]\u001b[0m               \u001b[1;33m=\u001b[0m \u001b[0mtpr\u001b[0m\u001b[1;33m\u001b[0m\u001b[1;33m\u001b[0m\u001b[0m\n\u001b[1;32m---> 79\u001b[1;33m         \u001b[0mmetrics\u001b[0m\u001b[1;33m[\u001b[0m\u001b[1;34m'auc'\u001b[0m\u001b[1;33m]\u001b[0m               \u001b[1;33m=\u001b[0m \u001b[0mauc\u001b[0m\u001b[1;33m(\u001b[0m\u001b[0mfpr\u001b[0m\u001b[1;33m,\u001b[0m \u001b[0mtpr\u001b[0m\u001b[1;33m,\u001b[0m \u001b[0mreorder\u001b[0m\u001b[1;33m=\u001b[0m\u001b[1;32mTrue\u001b[0m\u001b[1;33m)\u001b[0m\u001b[1;33m\u001b[0m\u001b[1;33m\u001b[0m\u001b[0m\n\u001b[0m\u001b[0;32m     80\u001b[0m \u001b[1;33m\u001b[0m\u001b[0m\n\u001b[0;32m     81\u001b[0m     \u001b[1;32mreturn\u001b[0m \u001b[0mmetrics\u001b[0m\u001b[1;33m\u001b[0m\u001b[1;33m\u001b[0m\u001b[0m\n",
      "\u001b[1;31mTypeError\u001b[0m: auc() got an unexpected keyword argument 'reorder'"
     ]
    }
   ],
   "source": [
    "# Evaluate performance and store model\n",
    "metrics = evaluation.evaluate_model(y_train, y_pred, y_prob, \n",
    "                                    compare_models=['lr_simple'],\n",
    "                                    store_model=True,\n",
    "                                    model_name='simple', \n",
    "                                    prefix=ALGORITHM_NAME,\n",
    "                                    country=COUNTRY,\n",
    "                                    model=model, \n",
    "                                    features=coefs)"
   ]
  },
  {
   "cell_type": "code",
   "execution_count": null,
   "metadata": {},
   "outputs": [],
   "source": []
  },
  {
   "cell_type": "code",
   "execution_count": null,
   "metadata": {},
   "outputs": [],
   "source": []
  },
  {
   "cell_type": "code",
   "execution_count": null,
   "metadata": {},
   "outputs": [],
   "source": []
  },
  {
   "cell_type": "code",
   "execution_count": null,
   "metadata": {},
   "outputs": [],
   "source": []
  },
  {
   "cell_type": "code",
   "execution_count": null,
   "metadata": {},
   "outputs": [],
   "source": []
  },
  {
   "cell_type": "code",
   "execution_count": 24,
   "metadata": {},
   "outputs": [
    {
     "output_type": "error",
     "ename": "NameError",
     "evalue": "name 'X' is not defined",
     "traceback": [
      "\u001b[1;31m---------------------------------------------------------------------------\u001b[0m",
      "\u001b[1;31mNameError\u001b[0m                                 Traceback (most recent call last)",
      "\u001b[1;32m<ipython-input-24-fdc383a63b9e>\u001b[0m in \u001b[0;36m<module>\u001b[1;34m\u001b[0m\n\u001b[0;32m      1\u001b[0m \u001b[1;31m# Split the dataset\u001b[0m\u001b[1;33m\u001b[0m\u001b[1;33m\u001b[0m\u001b[1;33m\u001b[0m\u001b[0m\n\u001b[1;32m----> 2\u001b[1;33m \u001b[0mX_train\u001b[0m\u001b[1;33m,\u001b[0m \u001b[0mX_test\u001b[0m\u001b[1;33m,\u001b[0m \u001b[0my_train\u001b[0m\u001b[1;33m,\u001b[0m \u001b[0my_test\u001b[0m \u001b[1;33m=\u001b[0m \u001b[0mtrain_test_split\u001b[0m\u001b[1;33m(\u001b[0m\u001b[0mX\u001b[0m\u001b[1;33m,\u001b[0m \u001b[0my\u001b[0m\u001b[1;33m,\u001b[0m \u001b[0mrandom_state\u001b[0m\u001b[1;33m=\u001b[0m\u001b[1;36m1\u001b[0m\u001b[1;33m)\u001b[0m\u001b[1;33m\u001b[0m\u001b[1;33m\u001b[0m\u001b[0m\n\u001b[0m",
      "\u001b[1;31mNameError\u001b[0m: name 'X' is not defined"
     ]
    }
   ],
   "source": [
    "# Split the dataset\n",
    "X_train, X_test, y_train, y_test = train_test_split(X, y, random_state=1)"
   ]
  },
  {
   "cell_type": "code",
   "execution_count": null,
   "metadata": {},
   "outputs": [],
   "source": []
  },
  {
   "cell_type": "code",
   "execution_count": null,
   "metadata": {},
   "outputs": [],
   "source": []
  },
  {
   "cell_type": "code",
   "execution_count": null,
   "metadata": {},
   "outputs": [],
   "source": []
  },
  {
   "cell_type": "code",
   "execution_count": null,
   "metadata": {},
   "outputs": [],
   "source": []
  },
  {
   "cell_type": "code",
   "execution_count": null,
   "metadata": {},
   "outputs": [],
   "source": []
  }
 ],
 "metadata": {
  "kernelspec": {
   "display_name": "Python 3",
   "language": "python",
   "name": "python3"
  },
  "language_info": {
   "codemirror_mode": {
    "name": "ipython",
    "version": 3
   },
   "file_extension": ".py",
   "mimetype": "text/x-python",
   "name": "python",
   "nbconvert_exporter": "python",
   "pygments_lexer": "ipython3",
   "version": "3.7.7-final"
  }
 },
 "nbformat": 4,
 "nbformat_minor": 4
}