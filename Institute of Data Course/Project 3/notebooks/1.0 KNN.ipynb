{
 "cells": [
  {
   "cell_type": "markdown",
   "metadata": {},
   "source": [
    "## K-Nearest Neighbors Classifier - Malwai"
   ]
  },
  {
   "cell_type": "code",
   "execution_count": 5,
   "metadata": {},
   "outputs": [],
   "source": [
    "%matplotlib inline\n",
    "\n",
    "import os\n",
    "import sys\n",
    "import json\n",
    "\n",
    "import numpy as np\n",
    "import pandas as pd\n",
    "\n",
    "from matplotlib import pyplot as plt\n",
    "from IPython.display import display\n",
    "from sklearn.neighbors import KNeighborsClassifier\n",
    "# from models import evaluation\n",
    "from sklearn.model_selection import train_test_split\n",
    "import seaborn as sns\n",
    "sns.set()\n",
    "\n",
    "# Add our local functions to the path\n",
    "sys.path.append(os.path.join(os.pardir, 'src'))\n",
    "from data.load_data import (get_country_filepaths, \n",
    "                            split_features_labels_weights, \n",
    "                            load_data)\n",
    "from features.process_features import get_vif, standardize\n",
    "from features.process_features import MWI_BASIC_FEATURES\n",
    "\n",
    "ALGORITHM_NAME = 'knn'\n",
    "COUNTRY = 'mwi'\n",
    "TRAIN_PATH, TEST_PATH, QUESTIONS_PATH = get_country_filepaths(COUNTRY)\n",
    "\n",
    "# load text of survey questions for reference\n",
    "with open(QUESTIONS_PATH, 'r') as fp:\n",
    "    questions = json.load(fp)"
   ]
  },
  {
   "cell_type": "code",
   "execution_count": null,
   "metadata": {},
   "outputs": [],
   "source": []
  },
  {
   "cell_type": "code",
   "execution_count": 17,
   "metadata": {},
   "outputs": [],
   "source": [
    "# Definition of Main Variables to Predict Poverty from the Household Survey\n",
    "\n",
    "MWI_BASIC_FEATURES = [\n",
    "    'der_nchild10under', \n",
    "    'der_nmalesover10', \n",
    "    'der_nfemalesover10',\n",
    "    'der_nliterate', \n",
    "    'der_nemployedpastyear',\n",
    "    'hld_electricity__Yes',\n",
    "    'hld_toilet__None',\n",
    "    'cons_0504__Yes',\n",
    "    'cons_0508__Yes'\n",
    "]"
   ]
  },
  {
   "cell_type": "code",
   "execution_count": null,
   "metadata": {},
   "outputs": [],
   "source": []
  },
  {
   "cell_type": "code",
   "execution_count": 18,
   "metadata": {},
   "outputs": [],
   "source": [
    "# Standardise Data\n",
    "def standardize(df, numeric_only=True):\n",
    "    if numeric_only is True:\n",
    "    # find non-boolean columns\n",
    "        cols = df.loc[:,df.dtypes != 'uint8'].columns\n",
    "    else:\n",
    "        cols = df.columns\n",
    "    for field in cols:\n",
    "        mean, std = df[field].mean(), df[field].std()\n",
    "        # account for constant columns\n",
    "        if np.all(df[field]-mean != 0):\n",
    "            df.loc[:,field] = (df[field]-mean)/std\n",
    "    \n",
    "    return df"
   ]
  },
  {
   "cell_type": "code",
   "execution_count": null,
   "metadata": {},
   "outputs": [],
   "source": []
  },
  {
   "cell_type": "code",
   "execution_count": 19,
   "metadata": {},
   "outputs": [],
   "source": [
    "def drop_duplicate_columns(df, ignore=[], inplace=False):\n",
    "    if not inplace:\n",
    "        df = df.copy()\n",
    "\n",
    "    # pairwise correlations\n",
    "    corr = df.corr()\n",
    "    corr[corr.columns] = np.triu(corr, k=1)\n",
    "    corr = corr.stack()\n",
    "\n",
    "    # for any perfectly correlated variables, drop one of them\n",
    "    for ix, r in corr[(corr == 1)].to_frame().iterrows():\n",
    "        first, second = ix\n",
    "\n",
    "        if second in df.columns and second not in ignore:\n",
    "            df.drop(second, inplace=True, axis=1)\n",
    "\n",
    "    if not inplace:\n",
    "        return df"
   ]
  },
  {
   "cell_type": "code",
   "execution_count": null,
   "metadata": {},
   "outputs": [],
   "source": []
  },
  {
   "cell_type": "code",
   "execution_count": 20,
   "metadata": {},
   "outputs": [],
   "source": [
    "# Split the data for analysis\n",
    "def split_features_labels_weights(df,\n",
    "                                  weights=['wta_pop', 'wta_hh'],\n",
    "                                  weights_col=['wta_pop'],\n",
    "                                  label_col=['poor']):\n",
    "\n",
    "    '''Split data into features, labels, and weights dataframes'''\n",
    "    data = df\n",
    "    return (data.drop(weights + label_col, axis=1),\n",
    "            data[label_col],\n",
    "            data[weights_col])"
   ]
  },
  {
   "cell_type": "code",
   "execution_count": null,
   "metadata": {},
   "outputs": [],
   "source": []
  },
  {
   "cell_type": "code",
   "execution_count": 21,
   "metadata": {},
   "outputs": [],
   "source": [
    "# Load the processed Mwai household:\n",
    "mwi_hhold = pd.read_csv(r\"C:\\Users\\micha\\Documents\\GitHub\\mkp_code\\Institute of Data Course\\Project 3\\data\\csv_data\\MWI_2010_household.csv\")"
   ]
  },
  {
   "cell_type": "code",
   "execution_count": null,
   "metadata": {},
   "outputs": [],
   "source": []
  },
  {
   "cell_type": "code",
   "execution_count": 22,
   "metadata": {},
   "outputs": [],
   "source": [
    "# load training data\n",
    "X_train, y_train, w_train = split_features_labels_weights(mwi_hhold)"
   ]
  },
  {
   "cell_type": "code",
   "execution_count": null,
   "metadata": {},
   "outputs": [],
   "source": []
  },
  {
   "cell_type": "code",
   "execution_count": 23,
   "metadata": {},
   "outputs": [
    {
     "output_type": "stream",
     "name": "stdout",
     "text": "Data has 12,244 rows and 485 columns\nPercent poor: 45.1% \tPercent non-poor: 54.9%\n"
    },
    {
     "output_type": "execute_result",
     "data": {
      "text/plain": "            hid  der_hhsize  hld_rooms  hld_nbcellpho  hld_selfscale  \\\n0  101010160009           6          2            0.0            2.0   \n1  101010160033           4          3            0.0            1.0   \n2  101010160060          10          6            1.0            1.0   \n3  101010160068           9          3            0.0            2.0   \n4  101010160069           1          2            0.0            3.0   \n\n   der_nchild10under  der_nmalesover10  der_nfemalesover10  der_nliterate  \\\n0                  4                 1                   1              2   \n1                  1                 2                   1              1   \n2                  4                 3                   3              4   \n3                  4                 3                   2              6   \n4                  0                 1                   0              1   \n\n   der_nemployedpastyear  ...  com_medicines__Yes  com_clinic__Yes  \\\n0                      0  ...                   0                0   \n1                      0  ...                   0                0   \n2                      1  ...                   0                0   \n3                      0  ...                   0                0   \n4                      0  ...                   0                0   \n\n   com_distclinic__11 to 15 kilometers  com_distclinic__16 to 20 kilometers  \\\n0                                    0                                    0   \n1                                    0                                    0   \n2                                    0                                    0   \n3                                    0                                    0   \n4                                    0                                    0   \n\n   com_distclinic__21 to 25 kilometers  com_distclinic__26 to 30 kilometers  \\\n0                                    1                                    0   \n1                                    1                                    0   \n2                                    1                                    0   \n3                                    1                                    0   \n4                                    1                                    0   \n\n   com_distclinic__6 to 10 kilometers  com_distclinic__Above 30 kilometers  \\\n0                                   0                                    0   \n1                                   0                                    0   \n2                                   0                                    0   \n3                                   0                                    0   \n4                                   0                                    0   \n\n   com_distclinic__nan  com_bank__Yes  \n0                    0              0  \n1                    0              0  \n2                    0              0  \n3                    0              0  \n4                    0              0  \n\n[5 rows x 485 columns]",
      "text/html": "<div>\n<style scoped>\n    .dataframe tbody tr th:only-of-type {\n        vertical-align: middle;\n    }\n\n    .dataframe tbody tr th {\n        vertical-align: top;\n    }\n\n    .dataframe thead th {\n        text-align: right;\n    }\n</style>\n<table border=\"1\" class=\"dataframe\">\n  <thead>\n    <tr style=\"text-align: right;\">\n      <th></th>\n      <th>hid</th>\n      <th>der_hhsize</th>\n      <th>hld_rooms</th>\n      <th>hld_nbcellpho</th>\n      <th>hld_selfscale</th>\n      <th>der_nchild10under</th>\n      <th>der_nmalesover10</th>\n      <th>der_nfemalesover10</th>\n      <th>der_nliterate</th>\n      <th>der_nemployedpastyear</th>\n      <th>...</th>\n      <th>com_medicines__Yes</th>\n      <th>com_clinic__Yes</th>\n      <th>com_distclinic__11 to 15 kilometers</th>\n      <th>com_distclinic__16 to 20 kilometers</th>\n      <th>com_distclinic__21 to 25 kilometers</th>\n      <th>com_distclinic__26 to 30 kilometers</th>\n      <th>com_distclinic__6 to 10 kilometers</th>\n      <th>com_distclinic__Above 30 kilometers</th>\n      <th>com_distclinic__nan</th>\n      <th>com_bank__Yes</th>\n    </tr>\n  </thead>\n  <tbody>\n    <tr>\n      <th>0</th>\n      <td>101010160009</td>\n      <td>6</td>\n      <td>2</td>\n      <td>0.0</td>\n      <td>2.0</td>\n      <td>4</td>\n      <td>1</td>\n      <td>1</td>\n      <td>2</td>\n      <td>0</td>\n      <td>...</td>\n      <td>0</td>\n      <td>0</td>\n      <td>0</td>\n      <td>0</td>\n      <td>1</td>\n      <td>0</td>\n      <td>0</td>\n      <td>0</td>\n      <td>0</td>\n      <td>0</td>\n    </tr>\n    <tr>\n      <th>1</th>\n      <td>101010160033</td>\n      <td>4</td>\n      <td>3</td>\n      <td>0.0</td>\n      <td>1.0</td>\n      <td>1</td>\n      <td>2</td>\n      <td>1</td>\n      <td>1</td>\n      <td>0</td>\n      <td>...</td>\n      <td>0</td>\n      <td>0</td>\n      <td>0</td>\n      <td>0</td>\n      <td>1</td>\n      <td>0</td>\n      <td>0</td>\n      <td>0</td>\n      <td>0</td>\n      <td>0</td>\n    </tr>\n    <tr>\n      <th>2</th>\n      <td>101010160060</td>\n      <td>10</td>\n      <td>6</td>\n      <td>1.0</td>\n      <td>1.0</td>\n      <td>4</td>\n      <td>3</td>\n      <td>3</td>\n      <td>4</td>\n      <td>1</td>\n      <td>...</td>\n      <td>0</td>\n      <td>0</td>\n      <td>0</td>\n      <td>0</td>\n      <td>1</td>\n      <td>0</td>\n      <td>0</td>\n      <td>0</td>\n      <td>0</td>\n      <td>0</td>\n    </tr>\n    <tr>\n      <th>3</th>\n      <td>101010160068</td>\n      <td>9</td>\n      <td>3</td>\n      <td>0.0</td>\n      <td>2.0</td>\n      <td>4</td>\n      <td>3</td>\n      <td>2</td>\n      <td>6</td>\n      <td>0</td>\n      <td>...</td>\n      <td>0</td>\n      <td>0</td>\n      <td>0</td>\n      <td>0</td>\n      <td>1</td>\n      <td>0</td>\n      <td>0</td>\n      <td>0</td>\n      <td>0</td>\n      <td>0</td>\n    </tr>\n    <tr>\n      <th>4</th>\n      <td>101010160069</td>\n      <td>1</td>\n      <td>2</td>\n      <td>0.0</td>\n      <td>3.0</td>\n      <td>0</td>\n      <td>1</td>\n      <td>0</td>\n      <td>1</td>\n      <td>0</td>\n      <td>...</td>\n      <td>0</td>\n      <td>0</td>\n      <td>0</td>\n      <td>0</td>\n      <td>1</td>\n      <td>0</td>\n      <td>0</td>\n      <td>0</td>\n      <td>0</td>\n      <td>0</td>\n    </tr>\n  </tbody>\n</table>\n<p>5 rows × 485 columns</p>\n</div>"
     },
     "metadata": {},
     "execution_count": 23
    }
   ],
   "source": [
    "# summarize loaded data\n",
    "print('Data has {:,} rows and {:,} columns' \\\n",
    "        .format(*X_train.shape))\n",
    "\n",
    "print('Percent poor: {:0.1%} \\tPercent non-poor: {:0.1%}' \\\n",
    "        .format(*y_train.poor.value_counts(normalize=True, ascending=True)))\n",
    "\n",
    "# print first 5 rows of data\n",
    "X_train.head()"
   ]
  },
  {
   "cell_type": "code",
   "execution_count": null,
   "metadata": {},
   "outputs": [],
   "source": []
  },
  {
   "cell_type": "code",
   "execution_count": 24,
   "metadata": {},
   "outputs": [
    {
     "output_type": "stream",
     "name": "stdout",
     "text": "X shape with selected columns: (12244, 10)\n"
    }
   ],
   "source": [
    "# Select a few columns for this example\n",
    "selected_columns = [\n",
    "    'der_hhsize', \n",
    "    'der_nchild10under', \n",
    "    'der_nmalesover10', \n",
    "    'der_nfemalesover10',\n",
    "    'der_nliterate', \n",
    "    'der_nemployedpastyear',\n",
    "    'hld_electricity__Yes',\n",
    "    'hld_toilet__None',\n",
    "    'cons_0504__Yes',\n",
    "    'cons_0508__Yes'\n",
    "]\n",
    "\n",
    "print(\"X shape with selected columns:\", X_train[selected_columns].shape)"
   ]
  },
  {
   "cell_type": "code",
   "execution_count": null,
   "metadata": {},
   "outputs": [],
   "source": []
  },
  {
   "cell_type": "code",
   "execution_count": 25,
   "metadata": {},
   "outputs": [],
   "source": [
    "SUBSAMPLE = 0.1\n",
    "\n",
    "def subsample(X, y, w, stratify=True, seed=566):\n",
    "    n_samples = int(SUBSAMPLE * X.shape[0])\n",
    "    \n",
    "    rng = np.random.RandomState(seed)\n",
    "    \n",
    "    if stratify:\n",
    "        y_rate = y.mean()\n",
    "        n_true = int(n_samples * y_rate)\n",
    "        n_false = n_samples - n_true\n",
    "        \n",
    "        true_idx = rng.choice(np.where(y)[0], n_true, replace=False)\n",
    "        false_idx = rng.choice(np.where(~y)[0], n_false, replace=False)\n",
    "        \n",
    "        sample_idx = np.union1d(true_idx, false_idx)\n",
    "    else:\n",
    "        sample_idx = rng.choice(np.arange(X.shape[0]), n_samples, replace=False)\n",
    "    \n",
    "    return X.iloc[sample_idx, :], y[sample_idx], w[sample_idx]"
   ]
  },
  {
   "cell_type": "code",
   "execution_count": null,
   "metadata": {},
   "outputs": [],
   "source": []
  },
  {
   "cell_type": "code",
   "execution_count": 26,
   "metadata": {},
   "outputs": [
    {
     "output_type": "stream",
     "name": "stdout",
     "text": "X shape with selected columns: (12244, 9)\n"
    }
   ],
   "source": [
    "selected_columns = MWI_BASIC_FEATURES\n",
    "print(\"X shape with selected columns:\", X_train[selected_columns].shape)"
   ]
  },
  {
   "cell_type": "code",
   "execution_count": null,
   "metadata": {},
   "outputs": [],
   "source": []
  },
  {
   "cell_type": "code",
   "execution_count": 27,
   "metadata": {},
   "outputs": [],
   "source": [
    "# Load and transform the training data\n",
    "X_train, y_train, w_train = load_data(mwi_hhold, \n",
    "                                      selected_columns=selected_columns)       \n",
    "# Create sub samples                                      \n",
    "X_train, y_train, w_train = subsample(X_train, y_train, w_train)"
   ]
  },
  {
   "cell_type": "code",
   "execution_count": null,
   "metadata": {},
   "outputs": [],
   "source": []
  },
  {
   "cell_type": "code",
   "execution_count": 28,
   "metadata": {},
   "outputs": [
    {
     "output_type": "error",
     "ename": "NameError",
     "evalue": "name 'model' is not defined",
     "traceback": [
      "\u001b[1;31m---------------------------------------------------------------------------\u001b[0m",
      "\u001b[1;31mNameError\u001b[0m                                 Traceback (most recent call last)",
      "\u001b[1;32m<ipython-input-28-98d1ef289c1b>\u001b[0m in \u001b[0;36m<module>\u001b[1;34m\u001b[0m\n\u001b[0;32m      1\u001b[0m \u001b[1;31m# Run the model\u001b[0m\u001b[1;33m\u001b[0m\u001b[1;33m\u001b[0m\u001b[1;33m\u001b[0m\u001b[0m\n\u001b[1;32m----> 2\u001b[1;33m \u001b[0my_pred\u001b[0m \u001b[1;33m=\u001b[0m \u001b[0mmodel\u001b[0m\u001b[1;33m.\u001b[0m\u001b[0mpredict\u001b[0m\u001b[1;33m(\u001b[0m\u001b[0mX_test\u001b[0m\u001b[1;33m)\u001b[0m\u001b[1;33m\u001b[0m\u001b[1;33m\u001b[0m\u001b[0m\n\u001b[0m\u001b[0;32m      3\u001b[0m \u001b[0my_prob\u001b[0m \u001b[1;33m=\u001b[0m \u001b[0mmodel\u001b[0m\u001b[1;33m.\u001b[0m\u001b[0mpredict_proba\u001b[0m\u001b[1;33m(\u001b[0m\u001b[0mX_test\u001b[0m\u001b[1;33m)\u001b[0m\u001b[1;33m[\u001b[0m\u001b[1;33m:\u001b[0m\u001b[1;33m,\u001b[0m\u001b[1;36m1\u001b[0m\u001b[1;33m]\u001b[0m\u001b[1;33m\u001b[0m\u001b[1;33m\u001b[0m\u001b[0m\n",
      "\u001b[1;31mNameError\u001b[0m: name 'model' is not defined"
     ]
    }
   ],
   "source": [
    "# Run the model\n",
    "y_pred = model.predict(X_test)\n",
    "y_prob = model.predict_proba(X_test)[:,1]"
   ]
  },
  {
   "cell_type": "code",
   "execution_count": null,
   "metadata": {},
   "outputs": [],
   "source": []
  },
  {
   "cell_type": "code",
   "execution_count": 29,
   "metadata": {},
   "outputs": [
    {
     "output_type": "error",
     "ename": "NameError",
     "evalue": "name 'evaluation' is not defined",
     "traceback": [
      "\u001b[1;31m---------------------------------------------------------------------------\u001b[0m",
      "\u001b[1;31mNameError\u001b[0m                                 Traceback (most recent call last)",
      "\u001b[1;32m<ipython-input-29-e76d1d2c6594>\u001b[0m in \u001b[0;36m<module>\u001b[1;34m\u001b[0m\n\u001b[0;32m      1\u001b[0m \u001b[1;31m# Evaluate performance and store model\u001b[0m\u001b[1;33m\u001b[0m\u001b[1;33m\u001b[0m\u001b[1;33m\u001b[0m\u001b[0m\n\u001b[1;32m----> 2\u001b[1;33m metrics = evaluation.evaluate_model(y_test, y_pred, y_prob, \n\u001b[0m\u001b[0;32m      3\u001b[0m                                     \u001b[0mcompare_models\u001b[0m\u001b[1;33m=\u001b[0m\u001b[1;33m[\u001b[0m\u001b[1;34m'lr_simple'\u001b[0m\u001b[1;33m]\u001b[0m\u001b[1;33m,\u001b[0m\u001b[1;33m\u001b[0m\u001b[1;33m\u001b[0m\u001b[0m\n\u001b[0;32m      4\u001b[0m                                     \u001b[0mstore_model\u001b[0m\u001b[1;33m=\u001b[0m\u001b[1;32mTrue\u001b[0m\u001b[1;33m,\u001b[0m\u001b[1;33m\u001b[0m\u001b[1;33m\u001b[0m\u001b[0m\n\u001b[0;32m      5\u001b[0m                                     \u001b[0mmodel_name\u001b[0m\u001b[1;33m=\u001b[0m\u001b[1;34m'simple'\u001b[0m\u001b[1;33m,\u001b[0m\u001b[1;33m\u001b[0m\u001b[1;33m\u001b[0m\u001b[0m\n",
      "\u001b[1;31mNameError\u001b[0m: name 'evaluation' is not defined"
     ]
    }
   ],
   "source": [
    "# Evaluate performance and store model\n",
    "metrics = evaluation.evaluate_model(y_test, y_pred, y_prob, \n",
    "                                    compare_models=['lr_simple'],\n",
    "                                    store_model=True,\n",
    "                                    model_name='simple', \n",
    "                                    prefix=ALGORITHM_NAME,\n",
    "                                    country=COUNTRY,\n",
    "                                    model=model,\n",
    "                                    features=X_test.columns.values)"
   ]
  },
  {
   "cell_type": "code",
   "execution_count": null,
   "metadata": {},
   "outputs": [],
   "source": []
  },
  {
   "cell_type": "code",
   "execution_count": null,
   "metadata": {},
   "outputs": [],
   "source": []
  },
  {
   "cell_type": "code",
   "execution_count": null,
   "metadata": {},
   "outputs": [],
   "source": []
  },
  {
   "cell_type": "code",
   "execution_count": null,
   "metadata": {},
   "outputs": [],
   "source": []
  },
  {
   "cell_type": "code",
   "execution_count": null,
   "metadata": {},
   "outputs": [],
   "source": []
  },
  {
   "cell_type": "code",
   "execution_count": null,
   "metadata": {},
   "outputs": [],
   "source": []
  },
  {
   "cell_type": "code",
   "execution_count": 30,
   "metadata": {},
   "outputs": [],
   "source": [
    "# Same method for getting the coefficients as we used with Malawi\n",
    "def get_coefs_df(X, coefs, index=None):\n",
    "    coefs_df = pd.DataFrame(np.std(X, 0)*coefs)\n",
    "    coefs_df.columns = [\"coef_std\"]\n",
    "    coefs_df['coef'] = coefs\n",
    "    coefs_df['abs'] = coefs_df.coef_std.apply(abs)\n",
    "    if index is not None:\n",
    "        coefs_df.index = index\n",
    "    return coefs_df"
   ]
  },
  {
   "cell_type": "code",
   "execution_count": null,
   "metadata": {},
   "outputs": [],
   "source": []
  },
  {
   "cell_type": "code",
   "execution_count": null,
   "metadata": {},
   "outputs": [],
   "source": []
  },
  {
   "cell_type": "code",
   "execution_count": null,
   "metadata": {},
   "outputs": [],
   "source": []
  },
  {
   "cell_type": "code",
   "execution_count": null,
   "metadata": {},
   "outputs": [],
   "source": []
  },
  {
   "cell_type": "code",
   "execution_count": null,
   "metadata": {},
   "outputs": [],
   "source": []
  },
  {
   "cell_type": "code",
   "execution_count": null,
   "metadata": {},
   "outputs": [],
   "source": []
  },
  {
   "cell_type": "code",
   "execution_count": null,
   "metadata": {},
   "outputs": [],
   "source": []
  },
  {
   "cell_type": "code",
   "execution_count": null,
   "metadata": {},
   "outputs": [],
   "source": []
  }
 ],
 "metadata": {
  "kernelspec": {
   "display_name": "Python 3.7.6 64-bit",
   "language": "python",
   "name": "python37664bit5e7f243f90044a85b4ce79f058a38976"
  },
  "language_info": {
   "codemirror_mode": {
    "name": "ipython",
    "version": 3
   },
   "file_extension": ".py",
   "mimetype": "text/x-python",
   "name": "python",
   "nbconvert_exporter": "python",
   "pygments_lexer": "ipython3",
   "version": "3.7.6-final"
  }
 },
 "nbformat": 4,
 "nbformat_minor": 4
}