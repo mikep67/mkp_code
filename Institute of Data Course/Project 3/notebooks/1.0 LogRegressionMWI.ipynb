{
 "cells": [
  {
   "cell_type": "code",
   "execution_count": null,
   "metadata": {},
   "outputs": [],
   "source": []
  },
  {
   "cell_type": "markdown",
   "metadata": {},
   "source": [
    "### Logistic Regression Classifier - Malwai"
   ]
  },
  {
   "cell_type": "code",
   "execution_count": 1,
   "metadata": {},
   "outputs": [
    {
     "output_type": "stream",
     "name": "stderr",
     "text": "Using TensorFlow backend.\n"
    }
   ],
   "source": [
    "%matplotlib inline\n",
    "\n",
    "import os\n",
    "import sys\n",
    "import json\n",
    "import keras\n",
    "\n",
    "from pathlib import Path\n",
    "from pathlib import PureWindowsPath\n",
    "\n",
    "import numpy as np\n",
    "import pandas as pd\n",
    "\n",
    "from matplotlib import pyplot as plt\n",
    "from IPython.display import display\n",
    "import seaborn as sns\n",
    "sns.set()\n",
    "\n",
    "import statsmodels.api as sm\n",
    "from statsmodels.stats.outliers_influence import variance_inflation_factor\n",
    "\n",
    "from sklearn.model_selection import train_test_split\n",
    "from sklearn.linear_model import LogisticRegression\n",
    "from sklearn.model_selection import cross_val_score\n",
    "from sklearn.model_selection import KFold\n",
    "from sklearn import metrics\n",
    "\n",
    "# Add our local functions to the path\n",
    "sys.path.append(os.path.join(os.pardir, 'src'))\n",
    "from models import evaluation\n",
    "from data.load_data import (get_country_filepaths, \n",
    "                            split_features_labels_weights)\n",
    "\n",
    "# Constants for Functions\n",
    "ALGORITHM_NAME = 'lr'\n",
    "COUNTRY = 'mwi'\n"
   ]
  },
  {
   "cell_type": "code",
   "execution_count": null,
   "metadata": {},
   "outputs": [],
   "source": []
  },
  {
   "cell_type": "code",
   "execution_count": null,
   "metadata": {},
   "outputs": [],
   "source": []
  },
  {
   "cell_type": "code",
   "execution_count": 2,
   "metadata": {},
   "outputs": [],
   "source": [
    "# Load the processed Mwai household:\n",
    "mwi_hhold = pd.read_csv(\"/home/mike/Documents/mkp_code/Institute of Data Course/Project 3/data/csv_data/MWI_2010_household.csv\")\n",
    "\n",
    "#(r\"C:\\Users\\micha\\Documents\\GitHub\\mkp_code\\Institute of Data Course\\Project 3\\data\\csv_data\\MWI_2010_household.csv\")"
   ]
  },
  {
   "cell_type": "code",
   "execution_count": null,
   "metadata": {},
   "outputs": [],
   "source": []
  },
  {
   "cell_type": "code",
   "execution_count": 3,
   "metadata": {},
   "outputs": [],
   "source": [
    "# Split Malawi data \n",
    "mwi_train, mwi_test = train_test_split(mwi_hhold, \n",
    "                                       test_size=0.25,\n",
    "                                       random_state=1443,\n",
    "                                       stratify=mwi_hhold.poor)"
   ]
  },
  {
   "cell_type": "code",
   "execution_count": null,
   "metadata": {},
   "outputs": [],
   "source": []
  },
  {
   "cell_type": "code",
   "execution_count": 4,
   "metadata": {},
   "outputs": [],
   "source": [
    "# load training data\n",
    "X_train, y_train, w_train = split_features_labels_weights(mwi_train)"
   ]
  },
  {
   "cell_type": "code",
   "execution_count": null,
   "metadata": {},
   "outputs": [],
   "source": []
  },
  {
   "cell_type": "code",
   "execution_count": 5,
   "metadata": {},
   "outputs": [
    {
     "output_type": "stream",
     "name": "stdout",
     "text": "Data has 9,183 rows and 488 columns\nPercent poor: 45.1% \tPercent non-poor: 54.9%\n"
    },
    {
     "output_type": "execute_result",
     "data": {
      "text/plain": "                hid    wta_hh   wta_pop  der_hhsize   poor  hld_rooms  \\\n7927   304044580160  170.1948  850.9740           5   True          3   \n4210   205205820123  188.8692  566.6076           3  False          2   \n457    102016880095  143.9194  863.5164           6   True          5   \n11951  315356330210  234.7279  704.1837           3  False          3   \n11428  313061660067   78.5482  157.0964           2  False          1   \n\n       hld_nbcellpho  hld_selfscale  der_nchild10under  der_nmalesover10  ...  \\\n7927             0.0            1.0                  3                 1  ...   \n4210             1.0            3.0                  1                 1  ...   \n457              0.0            2.0                  3                 1  ...   \n11951            3.0            3.0                  1                 1  ...   \n11428            0.0            2.0                  0                 1  ...   \n\n       com_medicines__Yes  com_clinic__Yes  \\\n7927                    0                0   \n4210                    1                0   \n457                     0                0   \n11951                   1                1   \n11428                   1                0   \n\n       com_distclinic__11 to 15 kilometers  \\\n7927                                     0   \n4210                                     0   \n457                                      0   \n11951                                    0   \n11428                                    0   \n\n       com_distclinic__16 to 20 kilometers  \\\n7927                                     0   \n4210                                     0   \n457                                      0   \n11951                                    0   \n11428                                    1   \n\n       com_distclinic__21 to 25 kilometers  \\\n7927                                     0   \n4210                                     0   \n457                                      0   \n11951                                    0   \n11428                                    0   \n\n       com_distclinic__26 to 30 kilometers  \\\n7927                                     0   \n4210                                     0   \n457                                      0   \n11951                                    0   \n11428                                    0   \n\n       com_distclinic__6 to 10 kilometers  \\\n7927                                    0   \n4210                                    0   \n457                                     0   \n11951                                   0   \n11428                                   0   \n\n       com_distclinic__Above 30 kilometers  com_distclinic__nan  com_bank__Yes  \n7927                                     0                    0              0  \n4210                                     0                    0              0  \n457                                      0                    0              0  \n11951                                    0                    1              1  \n11428                                    0                    0              0  \n\n[5 rows x 488 columns]",
      "text/html": "<div>\n<style scoped>\n    .dataframe tbody tr th:only-of-type {\n        vertical-align: middle;\n    }\n\n    .dataframe tbody tr th {\n        vertical-align: top;\n    }\n\n    .dataframe thead th {\n        text-align: right;\n    }\n</style>\n<table border=\"1\" class=\"dataframe\">\n  <thead>\n    <tr style=\"text-align: right;\">\n      <th></th>\n      <th>hid</th>\n      <th>wta_hh</th>\n      <th>wta_pop</th>\n      <th>der_hhsize</th>\n      <th>poor</th>\n      <th>hld_rooms</th>\n      <th>hld_nbcellpho</th>\n      <th>hld_selfscale</th>\n      <th>der_nchild10under</th>\n      <th>der_nmalesover10</th>\n      <th>...</th>\n      <th>com_medicines__Yes</th>\n      <th>com_clinic__Yes</th>\n      <th>com_distclinic__11 to 15 kilometers</th>\n      <th>com_distclinic__16 to 20 kilometers</th>\n      <th>com_distclinic__21 to 25 kilometers</th>\n      <th>com_distclinic__26 to 30 kilometers</th>\n      <th>com_distclinic__6 to 10 kilometers</th>\n      <th>com_distclinic__Above 30 kilometers</th>\n      <th>com_distclinic__nan</th>\n      <th>com_bank__Yes</th>\n    </tr>\n  </thead>\n  <tbody>\n    <tr>\n      <th>7927</th>\n      <td>304044580160</td>\n      <td>170.1948</td>\n      <td>850.9740</td>\n      <td>5</td>\n      <td>True</td>\n      <td>3</td>\n      <td>0.0</td>\n      <td>1.0</td>\n      <td>3</td>\n      <td>1</td>\n      <td>...</td>\n      <td>0</td>\n      <td>0</td>\n      <td>0</td>\n      <td>0</td>\n      <td>0</td>\n      <td>0</td>\n      <td>0</td>\n      <td>0</td>\n      <td>0</td>\n      <td>0</td>\n    </tr>\n    <tr>\n      <th>4210</th>\n      <td>205205820123</td>\n      <td>188.8692</td>\n      <td>566.6076</td>\n      <td>3</td>\n      <td>False</td>\n      <td>2</td>\n      <td>1.0</td>\n      <td>3.0</td>\n      <td>1</td>\n      <td>1</td>\n      <td>...</td>\n      <td>1</td>\n      <td>0</td>\n      <td>0</td>\n      <td>0</td>\n      <td>0</td>\n      <td>0</td>\n      <td>0</td>\n      <td>0</td>\n      <td>0</td>\n      <td>0</td>\n    </tr>\n    <tr>\n      <th>457</th>\n      <td>102016880095</td>\n      <td>143.9194</td>\n      <td>863.5164</td>\n      <td>6</td>\n      <td>True</td>\n      <td>5</td>\n      <td>0.0</td>\n      <td>2.0</td>\n      <td>3</td>\n      <td>1</td>\n      <td>...</td>\n      <td>0</td>\n      <td>0</td>\n      <td>0</td>\n      <td>0</td>\n      <td>0</td>\n      <td>0</td>\n      <td>0</td>\n      <td>0</td>\n      <td>0</td>\n      <td>0</td>\n    </tr>\n    <tr>\n      <th>11951</th>\n      <td>315356330210</td>\n      <td>234.7279</td>\n      <td>704.1837</td>\n      <td>3</td>\n      <td>False</td>\n      <td>3</td>\n      <td>3.0</td>\n      <td>3.0</td>\n      <td>1</td>\n      <td>1</td>\n      <td>...</td>\n      <td>1</td>\n      <td>1</td>\n      <td>0</td>\n      <td>0</td>\n      <td>0</td>\n      <td>0</td>\n      <td>0</td>\n      <td>0</td>\n      <td>1</td>\n      <td>1</td>\n    </tr>\n    <tr>\n      <th>11428</th>\n      <td>313061660067</td>\n      <td>78.5482</td>\n      <td>157.0964</td>\n      <td>2</td>\n      <td>False</td>\n      <td>1</td>\n      <td>0.0</td>\n      <td>2.0</td>\n      <td>0</td>\n      <td>1</td>\n      <td>...</td>\n      <td>1</td>\n      <td>0</td>\n      <td>0</td>\n      <td>1</td>\n      <td>0</td>\n      <td>0</td>\n      <td>0</td>\n      <td>0</td>\n      <td>0</td>\n      <td>0</td>\n    </tr>\n  </tbody>\n</table>\n<p>5 rows × 488 columns</p>\n</div>"
     },
     "metadata": {},
     "execution_count": 5
    }
   ],
   "source": [
    "# summarize Train loaded data\n",
    "print('Data has {:,} rows and {:,} columns' \\\n",
    "        .format(*mwi_train.shape))\n",
    "\n",
    "print('Percent poor: {:0.1%} \\tPercent non-poor: {:0.1%}' \\\n",
    "        .format(*mwi_train.poor.value_counts(normalize=True, ascending=True)))\n",
    "\n",
    "# print first 5 rows of data\n",
    "mwi_train.head()"
   ]
  },
  {
   "cell_type": "code",
   "execution_count": null,
   "metadata": {},
   "outputs": [],
   "source": []
  },
  {
   "cell_type": "code",
   "execution_count": 6,
   "metadata": {},
   "outputs": [
    {
     "output_type": "stream",
     "name": "stdout",
     "text": "X shape with selected columns: (9183, 10)\n"
    }
   ],
   "source": [
    "# Select a few columns for this example\n",
    "selected_columns = [\n",
    "    'der_hhsize', \n",
    "    'der_nchild10under', \n",
    "    'der_nmalesover10', \n",
    "    'der_nfemalesover10',\n",
    "    'der_nliterate', \n",
    "    'der_nemployedpastyear',\n",
    "    'hld_electricity__Yes',\n",
    "    'hld_toilet__None',\n",
    "    'cons_0504__Yes',\n",
    "    'cons_0508__Yes'\n",
    "]\n",
    "\n",
    "print(\"X shape with selected columns:\", mwi_train[selected_columns].shape)"
   ]
  },
  {
   "cell_type": "markdown",
   "metadata": {},
   "source": [
    "## Checking for Multicollinearity:\n",
    "### Calcualting the variance inflation factor (VIF) of each feature."
   ]
  },
  {
   "cell_type": "code",
   "execution_count": 7,
   "metadata": {},
   "outputs": [],
   "source": [
    "def get_vif(X, intercept_col='intercept'):\n",
    "    if intercept_col is not None and intercept_col in X.columns:\n",
    "        X = X.copy().drop(intercept_col, axis=1)\n",
    "    \n",
    "    vi_factors = [variance_inflation_factor(X.values, i)\n",
    "                             for i in range(X.shape[1])]\n",
    "    \n",
    "    return pd.Series(vi_factors,\n",
    "                     index=X.columns,\n",
    "                     name='variance_inflaction_factor')"
   ]
  },
  {
   "cell_type": "code",
   "execution_count": null,
   "metadata": {},
   "outputs": [],
   "source": []
  },
  {
   "cell_type": "code",
   "execution_count": 8,
   "metadata": {},
   "outputs": [
    {
     "output_type": "execute_result",
     "data": {
      "text/plain": "der_hhsize               1142.050480\nder_nchild10under         206.466307\nder_nmalesover10          138.021692\nder_nfemalesover10        141.867242\nder_nliterate               5.616642\nder_nemployedpastyear       1.533041\nhld_electricity__Yes        1.471163\nhld_toilet__None            1.091630\ncons_0504__Yes              1.344652\ncons_0508__Yes              1.341629\nName: variance_inflaction_factor, dtype: float64"
     },
     "metadata": {},
     "execution_count": 8
    }
   ],
   "source": [
    "get_vif(mwi_train[selected_columns])"
   ]
  },
  {
   "cell_type": "code",
   "execution_count": null,
   "metadata": {},
   "outputs": [],
   "source": []
  },
  {
   "cell_type": "markdown",
   "metadata": {},
   "source": [
    "### Standardization "
   ]
  },
  {
   "cell_type": "code",
   "execution_count": 9,
   "metadata": {},
   "outputs": [],
   "source": [
    "# Standardize features\n",
    "def standardize(df, numeric_only=True):\n",
    "    if numeric_only is True:\n",
    "    # find non-boolean columns\n",
    "        cols = df.loc[:, df.dtypes != 'uint8'].columns\n",
    "    else:\n",
    "        cols = df.columns\n",
    "    for field in cols:\n",
    "        mean, std = df[field].mean(), df[field].std()\n",
    "        # account for constant columns\n",
    "        if np.all(df[field] - mean != 0):\n",
    "            df.loc[:, field] = (df[field] - mean) / std\n",
    "    \n",
    "    return df"
   ]
  },
  {
   "cell_type": "code",
   "execution_count": null,
   "metadata": {},
   "outputs": [],
   "source": []
  },
  {
   "cell_type": "code",
   "execution_count": 10,
   "metadata": {},
   "outputs": [
    {
     "output_type": "execute_result",
     "data": {
      "text/plain": "            hid    wta_hh   wta_pop  der_hhsize      poor  hld_rooms  \\\n7927   0.898019 -0.463091 -0.289299    0.183527  1.102410   0.326073   \n4210  -0.375839 -0.356672 -0.560014   -0.721591 -0.907005  -0.512205   \n457   -1.705763 -0.612824 -0.277359    0.636087  1.102410   2.002628   \n11951  1.043807 -0.095341 -0.429043   -0.721591 -0.907005   0.326073   \n11428  1.014233 -0.985350 -0.949866   -1.174151 -0.907005  -1.350483   \n...         ...       ...       ...         ...       ...        ...   \n5430  -0.339037  1.670244  2.011053    0.636087  1.102410  -0.512205   \n11107  1.013599 -0.966039 -0.709404    0.183527 -0.907005  -0.512205   \n769   -1.692960 -0.698943 -0.976797   -1.626710 -0.907005  -1.350483   \n8471   0.923374 -0.730534 -0.747383   -0.721591 -0.907005  -1.350483   \n7712   0.897624 -0.635471 -0.699740   -0.721591 -0.907005   0.326073   \n\n       hld_nbcellpho  hld_selfscale  der_nchild10under  der_nmalesover10  ...  \\\n7927       -0.597364      -1.131563           0.977090         -0.398378  ...   \n4210        0.398207       1.089716          -0.483297         -0.398378  ...   \n457        -0.597364      -0.020924           0.977090         -0.398378  ...   \n11951       2.389348       1.089716          -0.483297         -0.398378  ...   \n11428      -0.597364      -0.020924          -1.213490         -0.398378  ...   \n...              ...            ...                ...               ...  ...   \n5430       -0.597364      -1.131563          -0.483297          0.572252  ...   \n11107      -0.597364       1.089716           0.246897         -0.398378  ...   \n769        -0.597364      -0.020924          -1.213490         -0.398378  ...   \n8471       -0.597364      -0.020924          -0.483297         -0.398378  ...   \n7712        0.398207      -0.020924          -0.483297         -0.398378  ...   \n\n       com_medicines__Yes  com_clinic__Yes  \\\n7927            -1.700716        -0.593458   \n4210             0.587923        -0.593458   \n457             -1.700716        -0.593458   \n11951            0.587923         1.684855   \n11428            0.587923        -0.593458   \n...                   ...              ...   \n5430             0.587923         1.684855   \n11107            0.587923        -0.593458   \n769              0.587923        -0.593458   \n8471             0.587923        -0.593458   \n7712             0.587923         1.684855   \n\n       com_distclinic__11 to 15 kilometers  \\\n7927                             -0.321636   \n4210                             -0.321636   \n457                              -0.321636   \n11951                            -0.321636   \n11428                            -0.321636   \n...                                    ...   \n5430                             -0.321636   \n11107                            -0.321636   \n769                              -0.321636   \n8471                             -0.321636   \n7712                             -0.321636   \n\n       com_distclinic__16 to 20 kilometers  \\\n7927                             -0.198159   \n4210                             -0.198159   \n457                              -0.198159   \n11951                            -0.198159   \n11428                             5.045910   \n...                                    ...   \n5430                             -0.198159   \n11107                            -0.198159   \n769                              -0.198159   \n8471                             -0.198159   \n7712                             -0.198159   \n\n       com_distclinic__21 to 25 kilometers  \\\n7927                             -0.096077   \n4210                             -0.096077   \n457                              -0.096077   \n11951                            -0.096077   \n11428                            -0.096077   \n...                                    ...   \n5430                             -0.096077   \n11107                            -0.096077   \n769                              -0.096077   \n8471                             -0.096077   \n7712                             -0.096077   \n\n       com_distclinic__26 to 30 kilometers  \\\n7927                             -0.150344   \n4210                             -0.150344   \n457                              -0.150344   \n11951                            -0.150344   \n11428                            -0.150344   \n...                                    ...   \n5430                             -0.150344   \n11107                            -0.150344   \n769                               6.650687   \n8471                             -0.150344   \n7712                             -0.150344   \n\n       com_distclinic__6 to 10 kilometers  \\\n7927                            -0.545987   \n4210                            -0.545987   \n457                             -0.545987   \n11951                           -0.545987   \n11428                           -0.545987   \n...                                   ...   \n5430                            -0.545987   \n11107                           -0.545987   \n769                             -0.545987   \n8471                            -0.545987   \n7712                            -0.545987   \n\n       com_distclinic__Above 30 kilometers  com_distclinic__nan  com_bank__Yes  \n7927                             -0.150344            -0.592787      -0.258440  \n4210                             -0.150344            -0.592787      -0.258440  \n457                              -0.150344            -0.592787      -0.258440  \n11951                            -0.150344             1.686762       3.868954  \n11428                            -0.150344            -0.592787      -0.258440  \n...                                    ...                  ...            ...  \n5430                             -0.150344             1.686762      -0.258440  \n11107                            -0.150344            -0.592787      -0.258440  \n769                              -0.150344            -0.592787      -0.258440  \n8471                              6.650687            -0.592787      -0.258440  \n7712                             -0.150344             1.686762      -0.258440  \n\n[9183 rows x 488 columns]",
      "text/html": "<div>\n<style scoped>\n    .dataframe tbody tr th:only-of-type {\n        vertical-align: middle;\n    }\n\n    .dataframe tbody tr th {\n        vertical-align: top;\n    }\n\n    .dataframe thead th {\n        text-align: right;\n    }\n</style>\n<table border=\"1\" class=\"dataframe\">\n  <thead>\n    <tr style=\"text-align: right;\">\n      <th></th>\n      <th>hid</th>\n      <th>wta_hh</th>\n      <th>wta_pop</th>\n      <th>der_hhsize</th>\n      <th>poor</th>\n      <th>hld_rooms</th>\n      <th>hld_nbcellpho</th>\n      <th>hld_selfscale</th>\n      <th>der_nchild10under</th>\n      <th>der_nmalesover10</th>\n      <th>...</th>\n      <th>com_medicines__Yes</th>\n      <th>com_clinic__Yes</th>\n      <th>com_distclinic__11 to 15 kilometers</th>\n      <th>com_distclinic__16 to 20 kilometers</th>\n      <th>com_distclinic__21 to 25 kilometers</th>\n      <th>com_distclinic__26 to 30 kilometers</th>\n      <th>com_distclinic__6 to 10 kilometers</th>\n      <th>com_distclinic__Above 30 kilometers</th>\n      <th>com_distclinic__nan</th>\n      <th>com_bank__Yes</th>\n    </tr>\n  </thead>\n  <tbody>\n    <tr>\n      <th>7927</th>\n      <td>0.898019</td>\n      <td>-0.463091</td>\n      <td>-0.289299</td>\n      <td>0.183527</td>\n      <td>1.102410</td>\n      <td>0.326073</td>\n      <td>-0.597364</td>\n      <td>-1.131563</td>\n      <td>0.977090</td>\n      <td>-0.398378</td>\n      <td>...</td>\n      <td>-1.700716</td>\n      <td>-0.593458</td>\n      <td>-0.321636</td>\n      <td>-0.198159</td>\n      <td>-0.096077</td>\n      <td>-0.150344</td>\n      <td>-0.545987</td>\n      <td>-0.150344</td>\n      <td>-0.592787</td>\n      <td>-0.258440</td>\n    </tr>\n    <tr>\n      <th>4210</th>\n      <td>-0.375839</td>\n      <td>-0.356672</td>\n      <td>-0.560014</td>\n      <td>-0.721591</td>\n      <td>-0.907005</td>\n      <td>-0.512205</td>\n      <td>0.398207</td>\n      <td>1.089716</td>\n      <td>-0.483297</td>\n      <td>-0.398378</td>\n      <td>...</td>\n      <td>0.587923</td>\n      <td>-0.593458</td>\n      <td>-0.321636</td>\n      <td>-0.198159</td>\n      <td>-0.096077</td>\n      <td>-0.150344</td>\n      <td>-0.545987</td>\n      <td>-0.150344</td>\n      <td>-0.592787</td>\n      <td>-0.258440</td>\n    </tr>\n    <tr>\n      <th>457</th>\n      <td>-1.705763</td>\n      <td>-0.612824</td>\n      <td>-0.277359</td>\n      <td>0.636087</td>\n      <td>1.102410</td>\n      <td>2.002628</td>\n      <td>-0.597364</td>\n      <td>-0.020924</td>\n      <td>0.977090</td>\n      <td>-0.398378</td>\n      <td>...</td>\n      <td>-1.700716</td>\n      <td>-0.593458</td>\n      <td>-0.321636</td>\n      <td>-0.198159</td>\n      <td>-0.096077</td>\n      <td>-0.150344</td>\n      <td>-0.545987</td>\n      <td>-0.150344</td>\n      <td>-0.592787</td>\n      <td>-0.258440</td>\n    </tr>\n    <tr>\n      <th>11951</th>\n      <td>1.043807</td>\n      <td>-0.095341</td>\n      <td>-0.429043</td>\n      <td>-0.721591</td>\n      <td>-0.907005</td>\n      <td>0.326073</td>\n      <td>2.389348</td>\n      <td>1.089716</td>\n      <td>-0.483297</td>\n      <td>-0.398378</td>\n      <td>...</td>\n      <td>0.587923</td>\n      <td>1.684855</td>\n      <td>-0.321636</td>\n      <td>-0.198159</td>\n      <td>-0.096077</td>\n      <td>-0.150344</td>\n      <td>-0.545987</td>\n      <td>-0.150344</td>\n      <td>1.686762</td>\n      <td>3.868954</td>\n    </tr>\n    <tr>\n      <th>11428</th>\n      <td>1.014233</td>\n      <td>-0.985350</td>\n      <td>-0.949866</td>\n      <td>-1.174151</td>\n      <td>-0.907005</td>\n      <td>-1.350483</td>\n      <td>-0.597364</td>\n      <td>-0.020924</td>\n      <td>-1.213490</td>\n      <td>-0.398378</td>\n      <td>...</td>\n      <td>0.587923</td>\n      <td>-0.593458</td>\n      <td>-0.321636</td>\n      <td>5.045910</td>\n      <td>-0.096077</td>\n      <td>-0.150344</td>\n      <td>-0.545987</td>\n      <td>-0.150344</td>\n      <td>-0.592787</td>\n      <td>-0.258440</td>\n    </tr>\n    <tr>\n      <th>...</th>\n      <td>...</td>\n      <td>...</td>\n      <td>...</td>\n      <td>...</td>\n      <td>...</td>\n      <td>...</td>\n      <td>...</td>\n      <td>...</td>\n      <td>...</td>\n      <td>...</td>\n      <td>...</td>\n      <td>...</td>\n      <td>...</td>\n      <td>...</td>\n      <td>...</td>\n      <td>...</td>\n      <td>...</td>\n      <td>...</td>\n      <td>...</td>\n      <td>...</td>\n      <td>...</td>\n    </tr>\n    <tr>\n      <th>5430</th>\n      <td>-0.339037</td>\n      <td>1.670244</td>\n      <td>2.011053</td>\n      <td>0.636087</td>\n      <td>1.102410</td>\n      <td>-0.512205</td>\n      <td>-0.597364</td>\n      <td>-1.131563</td>\n      <td>-0.483297</td>\n      <td>0.572252</td>\n      <td>...</td>\n      <td>0.587923</td>\n      <td>1.684855</td>\n      <td>-0.321636</td>\n      <td>-0.198159</td>\n      <td>-0.096077</td>\n      <td>-0.150344</td>\n      <td>-0.545987</td>\n      <td>-0.150344</td>\n      <td>1.686762</td>\n      <td>-0.258440</td>\n    </tr>\n    <tr>\n      <th>11107</th>\n      <td>1.013599</td>\n      <td>-0.966039</td>\n      <td>-0.709404</td>\n      <td>0.183527</td>\n      <td>-0.907005</td>\n      <td>-0.512205</td>\n      <td>-0.597364</td>\n      <td>1.089716</td>\n      <td>0.246897</td>\n      <td>-0.398378</td>\n      <td>...</td>\n      <td>0.587923</td>\n      <td>-0.593458</td>\n      <td>-0.321636</td>\n      <td>-0.198159</td>\n      <td>-0.096077</td>\n      <td>-0.150344</td>\n      <td>-0.545987</td>\n      <td>-0.150344</td>\n      <td>-0.592787</td>\n      <td>-0.258440</td>\n    </tr>\n    <tr>\n      <th>769</th>\n      <td>-1.692960</td>\n      <td>-0.698943</td>\n      <td>-0.976797</td>\n      <td>-1.626710</td>\n      <td>-0.907005</td>\n      <td>-1.350483</td>\n      <td>-0.597364</td>\n      <td>-0.020924</td>\n      <td>-1.213490</td>\n      <td>-0.398378</td>\n      <td>...</td>\n      <td>0.587923</td>\n      <td>-0.593458</td>\n      <td>-0.321636</td>\n      <td>-0.198159</td>\n      <td>-0.096077</td>\n      <td>6.650687</td>\n      <td>-0.545987</td>\n      <td>-0.150344</td>\n      <td>-0.592787</td>\n      <td>-0.258440</td>\n    </tr>\n    <tr>\n      <th>8471</th>\n      <td>0.923374</td>\n      <td>-0.730534</td>\n      <td>-0.747383</td>\n      <td>-0.721591</td>\n      <td>-0.907005</td>\n      <td>-1.350483</td>\n      <td>-0.597364</td>\n      <td>-0.020924</td>\n      <td>-0.483297</td>\n      <td>-0.398378</td>\n      <td>...</td>\n      <td>0.587923</td>\n      <td>-0.593458</td>\n      <td>-0.321636</td>\n      <td>-0.198159</td>\n      <td>-0.096077</td>\n      <td>-0.150344</td>\n      <td>-0.545987</td>\n      <td>6.650687</td>\n      <td>-0.592787</td>\n      <td>-0.258440</td>\n    </tr>\n    <tr>\n      <th>7712</th>\n      <td>0.897624</td>\n      <td>-0.635471</td>\n      <td>-0.699740</td>\n      <td>-0.721591</td>\n      <td>-0.907005</td>\n      <td>0.326073</td>\n      <td>0.398207</td>\n      <td>-0.020924</td>\n      <td>-0.483297</td>\n      <td>-0.398378</td>\n      <td>...</td>\n      <td>0.587923</td>\n      <td>1.684855</td>\n      <td>-0.321636</td>\n      <td>-0.198159</td>\n      <td>-0.096077</td>\n      <td>-0.150344</td>\n      <td>-0.545987</td>\n      <td>-0.150344</td>\n      <td>1.686762</td>\n      <td>-0.258440</td>\n    </tr>\n  </tbody>\n</table>\n<p>9183 rows × 488 columns</p>\n</div>"
     },
     "metadata": {},
     "execution_count": 10
    }
   ],
   "source": [
    "standardize(mwi_train)"
   ]
  },
  {
   "cell_type": "code",
   "execution_count": null,
   "metadata": {},
   "outputs": [],
   "source": []
  },
  {
   "cell_type": "code",
   "execution_count": 11,
   "metadata": {},
   "outputs": [
    {
     "output_type": "execute_result",
     "data": {
      "text/plain": "       der_hhsize  der_nchild10under  der_nmalesover10  der_nfemalesover10  \\\n7927     0.183527           0.977090         -0.398378           -0.549568   \n4210    -0.721591          -0.483297         -0.398378           -0.549568   \n457      0.636087           0.977090         -0.398378            0.535040   \n11951   -0.721591          -0.483297         -0.398378           -0.549568   \n11428   -1.174151          -1.213490         -0.398378           -0.549568   \n...           ...                ...               ...                 ...   \n5430     0.636087          -0.483297          0.572252            1.619648   \n11107    0.183527           0.246897         -0.398378            0.535040   \n769     -1.626710          -1.213490         -0.398378           -1.634176   \n8471    -0.721591          -0.483297         -0.398378           -0.549568   \n7712    -0.721591          -0.483297         -0.398378           -0.549568   \n\n       der_nliterate  der_nemployedpastyear  hld_electricity__Yes  \\\n7927       -0.083075              -0.503193             -0.307632   \n4210       -0.083075               1.318897             -0.307632   \n457        -0.083075              -0.503193             -0.307632   \n11951       0.492247               1.318897              3.250283   \n11428      -0.083075              -0.503193             -0.307632   \n...              ...                    ...                   ...   \n5430       -0.658397              -0.503193             -0.307632   \n11107      -0.083075              -0.503193             -0.307632   \n769        -0.658397              -0.503193             -0.307632   \n8471       -0.083075              -0.503193             -0.307632   \n7712       -0.083075              -0.503193             -0.307632   \n\n       hld_toilet__None  cons_0504__Yes  cons_0508__Yes  \n7927          -0.316665       -0.361605       -0.513617  \n4210          -0.316665       -0.361605       -0.513617  \n457           -0.316665       -0.361605       -0.513617  \n11951         -0.316665        2.765151        1.946763  \n11428         -0.316665       -0.361605       -0.513617  \n...                 ...             ...             ...  \n5430          -0.316665       -0.361605       -0.513617  \n11107         -0.316665       -0.361605       -0.513617  \n769            3.157569       -0.361605       -0.513617  \n8471          -0.316665       -0.361605       -0.513617  \n7712           3.157569       -0.361605        1.946763  \n\n[9183 rows x 10 columns]",
      "text/html": "<div>\n<style scoped>\n    .dataframe tbody tr th:only-of-type {\n        vertical-align: middle;\n    }\n\n    .dataframe tbody tr th {\n        vertical-align: top;\n    }\n\n    .dataframe thead th {\n        text-align: right;\n    }\n</style>\n<table border=\"1\" class=\"dataframe\">\n  <thead>\n    <tr style=\"text-align: right;\">\n      <th></th>\n      <th>der_hhsize</th>\n      <th>der_nchild10under</th>\n      <th>der_nmalesover10</th>\n      <th>der_nfemalesover10</th>\n      <th>der_nliterate</th>\n      <th>der_nemployedpastyear</th>\n      <th>hld_electricity__Yes</th>\n      <th>hld_toilet__None</th>\n      <th>cons_0504__Yes</th>\n      <th>cons_0508__Yes</th>\n    </tr>\n  </thead>\n  <tbody>\n    <tr>\n      <th>7927</th>\n      <td>0.183527</td>\n      <td>0.977090</td>\n      <td>-0.398378</td>\n      <td>-0.549568</td>\n      <td>-0.083075</td>\n      <td>-0.503193</td>\n      <td>-0.307632</td>\n      <td>-0.316665</td>\n      <td>-0.361605</td>\n      <td>-0.513617</td>\n    </tr>\n    <tr>\n      <th>4210</th>\n      <td>-0.721591</td>\n      <td>-0.483297</td>\n      <td>-0.398378</td>\n      <td>-0.549568</td>\n      <td>-0.083075</td>\n      <td>1.318897</td>\n      <td>-0.307632</td>\n      <td>-0.316665</td>\n      <td>-0.361605</td>\n      <td>-0.513617</td>\n    </tr>\n    <tr>\n      <th>457</th>\n      <td>0.636087</td>\n      <td>0.977090</td>\n      <td>-0.398378</td>\n      <td>0.535040</td>\n      <td>-0.083075</td>\n      <td>-0.503193</td>\n      <td>-0.307632</td>\n      <td>-0.316665</td>\n      <td>-0.361605</td>\n      <td>-0.513617</td>\n    </tr>\n    <tr>\n      <th>11951</th>\n      <td>-0.721591</td>\n      <td>-0.483297</td>\n      <td>-0.398378</td>\n      <td>-0.549568</td>\n      <td>0.492247</td>\n      <td>1.318897</td>\n      <td>3.250283</td>\n      <td>-0.316665</td>\n      <td>2.765151</td>\n      <td>1.946763</td>\n    </tr>\n    <tr>\n      <th>11428</th>\n      <td>-1.174151</td>\n      <td>-1.213490</td>\n      <td>-0.398378</td>\n      <td>-0.549568</td>\n      <td>-0.083075</td>\n      <td>-0.503193</td>\n      <td>-0.307632</td>\n      <td>-0.316665</td>\n      <td>-0.361605</td>\n      <td>-0.513617</td>\n    </tr>\n    <tr>\n      <th>...</th>\n      <td>...</td>\n      <td>...</td>\n      <td>...</td>\n      <td>...</td>\n      <td>...</td>\n      <td>...</td>\n      <td>...</td>\n      <td>...</td>\n      <td>...</td>\n      <td>...</td>\n    </tr>\n    <tr>\n      <th>5430</th>\n      <td>0.636087</td>\n      <td>-0.483297</td>\n      <td>0.572252</td>\n      <td>1.619648</td>\n      <td>-0.658397</td>\n      <td>-0.503193</td>\n      <td>-0.307632</td>\n      <td>-0.316665</td>\n      <td>-0.361605</td>\n      <td>-0.513617</td>\n    </tr>\n    <tr>\n      <th>11107</th>\n      <td>0.183527</td>\n      <td>0.246897</td>\n      <td>-0.398378</td>\n      <td>0.535040</td>\n      <td>-0.083075</td>\n      <td>-0.503193</td>\n      <td>-0.307632</td>\n      <td>-0.316665</td>\n      <td>-0.361605</td>\n      <td>-0.513617</td>\n    </tr>\n    <tr>\n      <th>769</th>\n      <td>-1.626710</td>\n      <td>-1.213490</td>\n      <td>-0.398378</td>\n      <td>-1.634176</td>\n      <td>-0.658397</td>\n      <td>-0.503193</td>\n      <td>-0.307632</td>\n      <td>3.157569</td>\n      <td>-0.361605</td>\n      <td>-0.513617</td>\n    </tr>\n    <tr>\n      <th>8471</th>\n      <td>-0.721591</td>\n      <td>-0.483297</td>\n      <td>-0.398378</td>\n      <td>-0.549568</td>\n      <td>-0.083075</td>\n      <td>-0.503193</td>\n      <td>-0.307632</td>\n      <td>-0.316665</td>\n      <td>-0.361605</td>\n      <td>-0.513617</td>\n    </tr>\n    <tr>\n      <th>7712</th>\n      <td>-0.721591</td>\n      <td>-0.483297</td>\n      <td>-0.398378</td>\n      <td>-0.549568</td>\n      <td>-0.083075</td>\n      <td>-0.503193</td>\n      <td>-0.307632</td>\n      <td>3.157569</td>\n      <td>-0.361605</td>\n      <td>1.946763</td>\n    </tr>\n  </tbody>\n</table>\n<p>9183 rows × 10 columns</p>\n</div>"
     },
     "metadata": {},
     "execution_count": 11
    }
   ],
   "source": [
    "mwi_train[selected_columns]"
   ]
  },
  {
   "cell_type": "code",
   "execution_count": null,
   "metadata": {},
   "outputs": [],
   "source": []
  },
  {
   "cell_type": "code",
   "execution_count": 12,
   "metadata": {},
   "outputs": [
    {
     "output_type": "execute_result",
     "data": {
      "text/plain": "der_hhsize               214.615373\nder_nchild10under         83.536365\nder_nmalesover10          48.129934\nder_nfemalesover10        38.840336\nder_nliterate              2.256896\nder_nemployedpastyear      1.240740\nhld_electricity__Yes       1.344728\nhld_toilet__None           1.043755\ncons_0504__Yes             1.194788\ncons_0508__Yes             1.077015\nName: variance_inflaction_factor, dtype: float64"
     },
     "metadata": {},
     "execution_count": 12
    }
   ],
   "source": [
    "get_vif(mwi_train[selected_columns])"
   ]
  },
  {
   "cell_type": "code",
   "execution_count": null,
   "metadata": {},
   "outputs": [],
   "source": []
  },
  {
   "cell_type": "code",
   "execution_count": 13,
   "metadata": {},
   "outputs": [
    {
     "output_type": "stream",
     "name": "stdout",
     "text": "['der_nchild10under', 'der_nmalesover10', 'der_nfemalesover10', 'der_nliterate', 'der_nemployedpastyear', 'hld_electricity__Yes', 'hld_toilet__None', 'cons_0504__Yes', 'cons_0508__Yes']\n"
    }
   ],
   "source": [
    "selected_columns.remove('der_hhsize')\n",
    "print(selected_columns)"
   ]
  },
  {
   "cell_type": "code",
   "execution_count": null,
   "metadata": {},
   "outputs": [],
   "source": []
  },
  {
   "cell_type": "code",
   "execution_count": 14,
   "metadata": {},
   "outputs": [
    {
     "output_type": "execute_result",
     "data": {
      "text/plain": "der_nchild10under        1.054748\nder_nmalesover10         1.511700\nder_nfemalesover10       1.422928\nder_nliterate            2.256803\nder_nemployedpastyear    1.237311\nhld_electricity__Yes     1.344378\nhld_toilet__None         1.043731\ncons_0504__Yes           1.194295\ncons_0508__Yes           1.077012\nName: variance_inflaction_factor, dtype: float64"
     },
     "metadata": {},
     "execution_count": 14
    }
   ],
   "source": [
    "get_vif(mwi_train[selected_columns])"
   ]
  },
  {
   "cell_type": "code",
   "execution_count": null,
   "metadata": {},
   "outputs": [],
   "source": []
  },
  {
   "cell_type": "code",
   "execution_count": 15,
   "metadata": {},
   "outputs": [
    {
     "output_type": "stream",
     "name": "stdout",
     "text": "Optimization terminated successfully.\n         Current function value: 0.517076\n         Iterations 8\n"
    }
   ],
   "source": [
    "model = sm.Logit(y_train, X_train[selected_columns])\n",
    "model = model.fit()"
   ]
  },
  {
   "cell_type": "code",
   "execution_count": null,
   "metadata": {},
   "outputs": [],
   "source": []
  },
  {
   "cell_type": "code",
   "execution_count": 16,
   "metadata": {},
   "outputs": [],
   "source": [
    "# The co-efficients \n",
    "def get_coefs_df(X, coefs, index=None, sort=True):\n",
    "    coefs_df = pd.DataFrame(np.std(X, 0) * coefs)\n",
    "    coefs_df.columns = [\"coef_std\"]\n",
    "    coefs_df['coef'] = coefs\n",
    "    coefs_df['abs'] = coefs_df.coef_std.apply(abs)\n",
    "    if index is not None:\n",
    "        coefs_df.index = index\n",
    "    if sort:\n",
    "        coefs_df = coefs_df.sort_values('abs', ascending=False)\n",
    "    return coefs_df"
   ]
  },
  {
   "cell_type": "code",
   "execution_count": null,
   "metadata": {},
   "outputs": [],
   "source": []
  },
  {
   "cell_type": "code",
   "execution_count": 17,
   "metadata": {},
   "outputs": [
    {
     "output_type": "execute_result",
     "data": {
      "text/plain": "                       coef_std      coef       abs\nhld_electricity__Yes  -0.803023 -2.857245  0.803023\ncons_0508__Yes        -0.734580 -1.807445  0.734580\ncons_0504__Yes        -0.633129 -1.979747  0.633129\nder_nchild10under      0.597818  0.436547  0.597818\nder_nliterate         -0.534401 -0.307470  0.534401\nder_nemployedpastyear -0.482136 -0.878544  0.482136\nder_nmalesover10       0.275717  0.267634  0.275717\nder_nfemalesover10     0.189929  0.206010  0.189929\nhld_toilet__None       0.019980  0.069420  0.019980",
      "text/html": "<div>\n<style scoped>\n    .dataframe tbody tr th:only-of-type {\n        vertical-align: middle;\n    }\n\n    .dataframe tbody tr th {\n        vertical-align: top;\n    }\n\n    .dataframe thead th {\n        text-align: right;\n    }\n</style>\n<table border=\"1\" class=\"dataframe\">\n  <thead>\n    <tr style=\"text-align: right;\">\n      <th></th>\n      <th>coef_std</th>\n      <th>coef</th>\n      <th>abs</th>\n    </tr>\n  </thead>\n  <tbody>\n    <tr>\n      <th>hld_electricity__Yes</th>\n      <td>-0.803023</td>\n      <td>-2.857245</td>\n      <td>0.803023</td>\n    </tr>\n    <tr>\n      <th>cons_0508__Yes</th>\n      <td>-0.734580</td>\n      <td>-1.807445</td>\n      <td>0.734580</td>\n    </tr>\n    <tr>\n      <th>cons_0504__Yes</th>\n      <td>-0.633129</td>\n      <td>-1.979747</td>\n      <td>0.633129</td>\n    </tr>\n    <tr>\n      <th>der_nchild10under</th>\n      <td>0.597818</td>\n      <td>0.436547</td>\n      <td>0.597818</td>\n    </tr>\n    <tr>\n      <th>der_nliterate</th>\n      <td>-0.534401</td>\n      <td>-0.307470</td>\n      <td>0.534401</td>\n    </tr>\n    <tr>\n      <th>der_nemployedpastyear</th>\n      <td>-0.482136</td>\n      <td>-0.878544</td>\n      <td>0.482136</td>\n    </tr>\n    <tr>\n      <th>der_nmalesover10</th>\n      <td>0.275717</td>\n      <td>0.267634</td>\n      <td>0.275717</td>\n    </tr>\n    <tr>\n      <th>der_nfemalesover10</th>\n      <td>0.189929</td>\n      <td>0.206010</td>\n      <td>0.189929</td>\n    </tr>\n    <tr>\n      <th>hld_toilet__None</th>\n      <td>0.019980</td>\n      <td>0.069420</td>\n      <td>0.019980</td>\n    </tr>\n  </tbody>\n</table>\n</div>"
     },
     "metadata": {},
     "execution_count": 17
    }
   ],
   "source": [
    "coefs = get_coefs_df(X_train[selected_columns], model.params)\n",
    "coefs"
   ]
  },
  {
   "cell_type": "code",
   "execution_count": null,
   "metadata": {},
   "outputs": [],
   "source": []
  },
  {
   "cell_type": "code",
   "execution_count": 18,
   "metadata": {},
   "outputs": [
    {
     "output_type": "execute_result",
     "data": {
      "text/plain": "7927     0.762846\n4210     0.358175\n457      0.798083\n11951    0.000534\n11428    0.464735\ndtype: float64"
     },
     "metadata": {},
     "execution_count": 18
    }
   ],
   "source": [
    "# Run the model\n",
    "y_prob = model.predict(X_train[selected_columns])\n",
    "y_prob.head()"
   ]
  },
  {
   "cell_type": "code",
   "execution_count": null,
   "metadata": {},
   "outputs": [],
   "source": []
  },
  {
   "cell_type": "code",
   "execution_count": 19,
   "metadata": {},
   "outputs": [
    {
     "output_type": "execute_result",
     "data": {
      "text/plain": "7927      True\n4210     False\n457       True\n11951    False\n11428    False\ndtype: bool"
     },
     "metadata": {},
     "execution_count": 19
    }
   ],
   "source": [
    "y_pred = (y_prob > 0.5)\n",
    "y_pred.head()"
   ]
  },
  {
   "cell_type": "code",
   "execution_count": null,
   "metadata": {},
   "outputs": [],
   "source": []
  },
  {
   "cell_type": "code",
   "execution_count": 20,
   "metadata": {},
   "outputs": [],
   "source": [
    "# Evaluate performance\n",
    "metrics = evaluation.evaluate_model(y_train, y_pred, y_prob, \n",
    "                                    store_model=True, \n",
    "                                    model_name='logit_simple', \n",
    "                                    prefix=ALGORITHM_NAME, \n",
    "                                    country=COUNTRY, \n",
    "                                    model=model, \n",
    "                                    features=coefs)"
   ]
  },
  {
   "cell_type": "code",
   "execution_count": null,
   "metadata": {},
   "outputs": [],
   "source": []
  },
  {
   "cell_type": "code",
   "execution_count": null,
   "metadata": {},
   "outputs": [],
   "source": []
  },
  {
   "cell_type": "markdown",
   "metadata": {},
   "source": [
    "### Logit Model Evaluation"
   ]
  },
  {
   "cell_type": "code",
   "execution_count": 21,
   "metadata": {},
   "outputs": [],
   "source": [
    "X_test, y_test, w_test = split_features_labels_weights(mwi_test)"
   ]
  },
  {
   "cell_type": "code",
   "execution_count": 22,
   "metadata": {},
   "outputs": [
    {
     "output_type": "execute_result",
     "data": {
      "text/plain": "            hid  der_hhsize  hld_rooms  hld_nbcellpho  hld_selfscale  \\\n10396  0.967268    1.061136  -0.511339      -0.625151       1.079129   \n5957  -0.320235    0.617886   0.328816       4.437249       2.174723   \n7847   0.877661    0.617886   2.009127       0.387329       1.079129   \n10050  0.954167    1.061136  -0.511339      -0.625151      -0.016464   \n7475   0.865135   -1.155115  -0.511339       0.387329      -0.016464   \n...         ...         ...        ...            ...            ...   \n6461  -0.313776    0.617886   2.009127       1.399809      -0.016464   \n6367  -0.314538    1.947636   3.689437       1.399809       1.079129   \n1624  -1.667554   -0.268614   0.328816       0.387329      -1.112058   \n1780  -1.667140    1.061136   1.168971      -0.625151      -1.112058   \n7889   0.877702   -1.598365  -0.511339      -0.625151      -1.112058   \n\n       der_nchild10under  der_nmalesover10  der_nfemalesover10  der_nliterate  \\\n10396          -1.189113          1.485105            2.697553      -1.242231   \n5957           -1.189113          2.440530            0.539933       1.045312   \n7847            0.982650          0.529681           -0.538876      -0.098459   \n10050           1.706571         -0.425743            0.539933      -0.098459   \n7475           -1.189113         -0.425743           -0.538876      -0.098459   \n...                  ...               ...                 ...            ...   \n6461            0.982650         -0.425743            0.539933       1.045312   \n6367            0.982650          0.529681            2.697553       2.189084   \n1624            0.258729         -0.425743           -0.538876      -0.098459   \n1780            0.258729          0.529681            1.618743       2.189084   \n7889           -1.189113         -1.381167           -0.538876      -1.242231   \n\n       der_nemployedpastyear  ...  com_medicines__Yes  com_clinic__Yes  \\\n10396              -0.536733  ...            0.561538        -0.609843   \n5957                1.294862  ...            0.561538        -0.609843   \n7847                1.294862  ...            0.561538         1.639230   \n10050              -0.536733  ...            0.561538        -0.609843   \n7475               -0.536733  ...            0.561538        -0.609843   \n...                      ...  ...                 ...              ...   \n6461               -0.536733  ...            0.561538        -0.609843   \n6367                1.294862  ...            0.561538        -0.609843   \n1624               -0.536733  ...            0.561538        -0.609843   \n1780               -0.536733  ...            0.561538        -0.609843   \n7889               -0.536733  ...           -1.780243        -0.609843   \n\n       com_distclinic__11 to 15 kilometers  \\\n10396                            -0.319742   \n5957                             -0.319742   \n7847                             -0.319742   \n10050                            -0.319742   \n7475                             -0.319742   \n...                                    ...   \n6461                             -0.319742   \n6367                             -0.319742   \n1624                              3.126496   \n1780                             -0.319742   \n7889                             -0.319742   \n\n       com_distclinic__16 to 20 kilometers  \\\n10396                            -0.199321   \n5957                             -0.199321   \n7847                             -0.199321   \n10050                            -0.199321   \n7475                             -0.199321   \n...                                    ...   \n6461                             -0.199321   \n6367                             -0.199321   \n1624                             -0.199321   \n1780                             -0.199321   \n7889                             -0.199321   \n\n       com_distclinic__21 to 25 kilometers  \\\n10396                             -0.09432   \n5957                              -0.09432   \n7847                              -0.09432   \n10050                             -0.09432   \n7475                              -0.09432   \n...                                    ...   \n6461                              -0.09432   \n6367                              -0.09432   \n1624                              -0.09432   \n1780                              -0.09432   \n7889                              -0.09432   \n\n       com_distclinic__26 to 30 kilometers  \\\n10396                            -0.150706   \n5957                             -0.150706   \n7847                             -0.150706   \n10050                            -0.150706   \n7475                             -0.150706   \n...                                    ...   \n6461                             -0.150706   \n6367                             -0.150706   \n1624                             -0.150706   \n1780                             -0.150706   \n7889                             -0.150706   \n\n       com_distclinic__6 to 10 kilometers  \\\n10396                           -0.542902   \n5957                            -0.542902   \n7847                            -0.542902   \n10050                            1.841350   \n7475                            -0.542902   \n...                                   ...   \n6461                            -0.542902   \n6367                            -0.542902   \n1624                            -0.542902   \n1780                            -0.542902   \n7889                            -0.542902   \n\n       com_distclinic__Above 30 kilometers  com_distclinic__nan  com_bank__Yes  \n10396                            -0.130146            -0.611860      -0.257211  \n5957                             -0.130146            -0.611860      -0.257211  \n7847                             -0.130146             1.633827      -0.257211  \n10050                            -0.130146            -0.611860      -0.257211  \n7475                             -0.130146            -0.611860      -0.257211  \n...                                    ...                  ...            ...  \n6461                             -0.130146            -0.611860      -0.257211  \n6367                             -0.130146            -0.611860      -0.257211  \n1624                             -0.130146            -0.611860      -0.257211  \n1780                             -0.130146            -0.611860      -0.257211  \n7889                             -0.130146            -0.611860      -0.257211  \n\n[3061 rows x 485 columns]",
      "text/html": "<div>\n<style scoped>\n    .dataframe tbody tr th:only-of-type {\n        vertical-align: middle;\n    }\n\n    .dataframe tbody tr th {\n        vertical-align: top;\n    }\n\n    .dataframe thead th {\n        text-align: right;\n    }\n</style>\n<table border=\"1\" class=\"dataframe\">\n  <thead>\n    <tr style=\"text-align: right;\">\n      <th></th>\n      <th>hid</th>\n      <th>der_hhsize</th>\n      <th>hld_rooms</th>\n      <th>hld_nbcellpho</th>\n      <th>hld_selfscale</th>\n      <th>der_nchild10under</th>\n      <th>der_nmalesover10</th>\n      <th>der_nfemalesover10</th>\n      <th>der_nliterate</th>\n      <th>der_nemployedpastyear</th>\n      <th>...</th>\n      <th>com_medicines__Yes</th>\n      <th>com_clinic__Yes</th>\n      <th>com_distclinic__11 to 15 kilometers</th>\n      <th>com_distclinic__16 to 20 kilometers</th>\n      <th>com_distclinic__21 to 25 kilometers</th>\n      <th>com_distclinic__26 to 30 kilometers</th>\n      <th>com_distclinic__6 to 10 kilometers</th>\n      <th>com_distclinic__Above 30 kilometers</th>\n      <th>com_distclinic__nan</th>\n      <th>com_bank__Yes</th>\n    </tr>\n  </thead>\n  <tbody>\n    <tr>\n      <th>10396</th>\n      <td>0.967268</td>\n      <td>1.061136</td>\n      <td>-0.511339</td>\n      <td>-0.625151</td>\n      <td>1.079129</td>\n      <td>-1.189113</td>\n      <td>1.485105</td>\n      <td>2.697553</td>\n      <td>-1.242231</td>\n      <td>-0.536733</td>\n      <td>...</td>\n      <td>0.561538</td>\n      <td>-0.609843</td>\n      <td>-0.319742</td>\n      <td>-0.199321</td>\n      <td>-0.09432</td>\n      <td>-0.150706</td>\n      <td>-0.542902</td>\n      <td>-0.130146</td>\n      <td>-0.611860</td>\n      <td>-0.257211</td>\n    </tr>\n    <tr>\n      <th>5957</th>\n      <td>-0.320235</td>\n      <td>0.617886</td>\n      <td>0.328816</td>\n      <td>4.437249</td>\n      <td>2.174723</td>\n      <td>-1.189113</td>\n      <td>2.440530</td>\n      <td>0.539933</td>\n      <td>1.045312</td>\n      <td>1.294862</td>\n      <td>...</td>\n      <td>0.561538</td>\n      <td>-0.609843</td>\n      <td>-0.319742</td>\n      <td>-0.199321</td>\n      <td>-0.09432</td>\n      <td>-0.150706</td>\n      <td>-0.542902</td>\n      <td>-0.130146</td>\n      <td>-0.611860</td>\n      <td>-0.257211</td>\n    </tr>\n    <tr>\n      <th>7847</th>\n      <td>0.877661</td>\n      <td>0.617886</td>\n      <td>2.009127</td>\n      <td>0.387329</td>\n      <td>1.079129</td>\n      <td>0.982650</td>\n      <td>0.529681</td>\n      <td>-0.538876</td>\n      <td>-0.098459</td>\n      <td>1.294862</td>\n      <td>...</td>\n      <td>0.561538</td>\n      <td>1.639230</td>\n      <td>-0.319742</td>\n      <td>-0.199321</td>\n      <td>-0.09432</td>\n      <td>-0.150706</td>\n      <td>-0.542902</td>\n      <td>-0.130146</td>\n      <td>1.633827</td>\n      <td>-0.257211</td>\n    </tr>\n    <tr>\n      <th>10050</th>\n      <td>0.954167</td>\n      <td>1.061136</td>\n      <td>-0.511339</td>\n      <td>-0.625151</td>\n      <td>-0.016464</td>\n      <td>1.706571</td>\n      <td>-0.425743</td>\n      <td>0.539933</td>\n      <td>-0.098459</td>\n      <td>-0.536733</td>\n      <td>...</td>\n      <td>0.561538</td>\n      <td>-0.609843</td>\n      <td>-0.319742</td>\n      <td>-0.199321</td>\n      <td>-0.09432</td>\n      <td>-0.150706</td>\n      <td>1.841350</td>\n      <td>-0.130146</td>\n      <td>-0.611860</td>\n      <td>-0.257211</td>\n    </tr>\n    <tr>\n      <th>7475</th>\n      <td>0.865135</td>\n      <td>-1.155115</td>\n      <td>-0.511339</td>\n      <td>0.387329</td>\n      <td>-0.016464</td>\n      <td>-1.189113</td>\n      <td>-0.425743</td>\n      <td>-0.538876</td>\n      <td>-0.098459</td>\n      <td>-0.536733</td>\n      <td>...</td>\n      <td>0.561538</td>\n      <td>-0.609843</td>\n      <td>-0.319742</td>\n      <td>-0.199321</td>\n      <td>-0.09432</td>\n      <td>-0.150706</td>\n      <td>-0.542902</td>\n      <td>-0.130146</td>\n      <td>-0.611860</td>\n      <td>-0.257211</td>\n    </tr>\n    <tr>\n      <th>...</th>\n      <td>...</td>\n      <td>...</td>\n      <td>...</td>\n      <td>...</td>\n      <td>...</td>\n      <td>...</td>\n      <td>...</td>\n      <td>...</td>\n      <td>...</td>\n      <td>...</td>\n      <td>...</td>\n      <td>...</td>\n      <td>...</td>\n      <td>...</td>\n      <td>...</td>\n      <td>...</td>\n      <td>...</td>\n      <td>...</td>\n      <td>...</td>\n      <td>...</td>\n      <td>...</td>\n    </tr>\n    <tr>\n      <th>6461</th>\n      <td>-0.313776</td>\n      <td>0.617886</td>\n      <td>2.009127</td>\n      <td>1.399809</td>\n      <td>-0.016464</td>\n      <td>0.982650</td>\n      <td>-0.425743</td>\n      <td>0.539933</td>\n      <td>1.045312</td>\n      <td>-0.536733</td>\n      <td>...</td>\n      <td>0.561538</td>\n      <td>-0.609843</td>\n      <td>-0.319742</td>\n      <td>-0.199321</td>\n      <td>-0.09432</td>\n      <td>-0.150706</td>\n      <td>-0.542902</td>\n      <td>-0.130146</td>\n      <td>-0.611860</td>\n      <td>-0.257211</td>\n    </tr>\n    <tr>\n      <th>6367</th>\n      <td>-0.314538</td>\n      <td>1.947636</td>\n      <td>3.689437</td>\n      <td>1.399809</td>\n      <td>1.079129</td>\n      <td>0.982650</td>\n      <td>0.529681</td>\n      <td>2.697553</td>\n      <td>2.189084</td>\n      <td>1.294862</td>\n      <td>...</td>\n      <td>0.561538</td>\n      <td>-0.609843</td>\n      <td>-0.319742</td>\n      <td>-0.199321</td>\n      <td>-0.09432</td>\n      <td>-0.150706</td>\n      <td>-0.542902</td>\n      <td>-0.130146</td>\n      <td>-0.611860</td>\n      <td>-0.257211</td>\n    </tr>\n    <tr>\n      <th>1624</th>\n      <td>-1.667554</td>\n      <td>-0.268614</td>\n      <td>0.328816</td>\n      <td>0.387329</td>\n      <td>-1.112058</td>\n      <td>0.258729</td>\n      <td>-0.425743</td>\n      <td>-0.538876</td>\n      <td>-0.098459</td>\n      <td>-0.536733</td>\n      <td>...</td>\n      <td>0.561538</td>\n      <td>-0.609843</td>\n      <td>3.126496</td>\n      <td>-0.199321</td>\n      <td>-0.09432</td>\n      <td>-0.150706</td>\n      <td>-0.542902</td>\n      <td>-0.130146</td>\n      <td>-0.611860</td>\n      <td>-0.257211</td>\n    </tr>\n    <tr>\n      <th>1780</th>\n      <td>-1.667140</td>\n      <td>1.061136</td>\n      <td>1.168971</td>\n      <td>-0.625151</td>\n      <td>-1.112058</td>\n      <td>0.258729</td>\n      <td>0.529681</td>\n      <td>1.618743</td>\n      <td>2.189084</td>\n      <td>-0.536733</td>\n      <td>...</td>\n      <td>0.561538</td>\n      <td>-0.609843</td>\n      <td>-0.319742</td>\n      <td>-0.199321</td>\n      <td>-0.09432</td>\n      <td>-0.150706</td>\n      <td>-0.542902</td>\n      <td>-0.130146</td>\n      <td>-0.611860</td>\n      <td>-0.257211</td>\n    </tr>\n    <tr>\n      <th>7889</th>\n      <td>0.877702</td>\n      <td>-1.598365</td>\n      <td>-0.511339</td>\n      <td>-0.625151</td>\n      <td>-1.112058</td>\n      <td>-1.189113</td>\n      <td>-1.381167</td>\n      <td>-0.538876</td>\n      <td>-1.242231</td>\n      <td>-0.536733</td>\n      <td>...</td>\n      <td>-1.780243</td>\n      <td>-0.609843</td>\n      <td>-0.319742</td>\n      <td>-0.199321</td>\n      <td>-0.09432</td>\n      <td>-0.150706</td>\n      <td>-0.542902</td>\n      <td>-0.130146</td>\n      <td>-0.611860</td>\n      <td>-0.257211</td>\n    </tr>\n  </tbody>\n</table>\n<p>3061 rows × 485 columns</p>\n</div>"
     },
     "metadata": {},
     "execution_count": 22
    }
   ],
   "source": [
    "standardize(X_test)"
   ]
  },
  {
   "cell_type": "code",
   "execution_count": 23,
   "metadata": {},
   "outputs": [
    {
     "output_type": "execute_result",
     "data": {
      "text/plain": "10396    9.781147e-01\n5957     4.041793e-09\n7847     8.658366e-01\n10050    9.820115e-01\n7475     9.063613e-01\ndtype: float64"
     },
     "metadata": {},
     "execution_count": 23
    }
   ],
   "source": [
    "# Run the model\n",
    "y_prob = model.predict(X_test[selected_columns])\n",
    "y_prob.head()"
   ]
  },
  {
   "cell_type": "code",
   "execution_count": null,
   "metadata": {},
   "outputs": [],
   "source": []
  },
  {
   "cell_type": "code",
   "execution_count": 24,
   "metadata": {},
   "outputs": [
    {
     "output_type": "execute_result",
     "data": {
      "text/plain": "10396     True\n5957     False\n7847      True\n10050     True\n7475      True\ndtype: bool"
     },
     "metadata": {},
     "execution_count": 24
    }
   ],
   "source": [
    "y_pred = (y_prob > 0.5)\n",
    "y_pred.head()"
   ]
  },
  {
   "cell_type": "code",
   "execution_count": 25,
   "metadata": {},
   "outputs": [],
   "source": [
    "# Evaluate performance\n",
    "metrics = evaluation.evaluate_model(y_test, y_pred, y_prob, \n",
    "                                    store_model=True, \n",
    "                                    model_name='logit_simple', \n",
    "                                    prefix=ALGORITHM_NAME, \n",
    "                                    country=COUNTRY, \n",
    "                                    model=model, \n",
    "                                    features=coefs)"
   ]
  },
  {
   "cell_type": "code",
   "execution_count": null,
   "metadata": {},
   "outputs": [],
   "source": []
  },
  {
   "cell_type": "code",
   "execution_count": null,
   "metadata": {},
   "outputs": [],
   "source": []
  },
  {
   "cell_type": "code",
   "execution_count": null,
   "metadata": {},
   "outputs": [],
   "source": []
  }
 ],
 "metadata": {
  "kernelspec": {
   "display_name": "Python 3",
   "language": "python",
   "name": "python3"
  },
  "language_info": {
   "codemirror_mode": {
    "name": "ipython",
    "version": 3
   },
   "file_extension": ".py",
   "mimetype": "text/x-python",
   "name": "python",
   "nbconvert_exporter": "python",
   "pygments_lexer": "ipython3",
   "version": "3.6.9-final"
  }
 },
 "nbformat": 4,
 "nbformat_minor": 4
}