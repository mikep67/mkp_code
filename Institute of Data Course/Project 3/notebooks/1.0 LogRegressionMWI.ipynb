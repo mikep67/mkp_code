{
 "cells": [
  {
   "cell_type": "code",
   "execution_count": null,
   "metadata": {},
   "outputs": [],
   "source": []
  },
  {
   "cell_type": "markdown",
   "metadata": {},
   "source": [
    "### Logistic Regression Classifier - Malwai"
   ]
  },
  {
   "cell_type": "code",
   "execution_count": 42,
   "metadata": {},
   "outputs": [],
   "source": [
    "%matplotlib inline\n",
    "\n",
    "import os\n",
    "import sys\n",
    "import json\n",
    "import keras\n",
    "\n",
    "import numpy as np\n",
    "import pandas as pd\n",
    "\n",
    "from pathlib import Path\n",
    "from pathlib import PureWindowsPath\n",
    "\n",
    "from matplotlib import pyplot as plt\n",
    "from IPython.display import display\n",
    "import seaborn as sns\n",
    "sns.set()\n",
    "\n",
    "\n",
    "import statsmodels.api as sm\n",
    "from statsmodels.stats.outliers_influence import variance_inflation_factor\n",
    "\n",
    "from sklearn.model_selection import train_test_split\n",
    "from sklearn.linear_model import LogisticRegression\n",
    "from sklearn.model_selection import cross_val_score\n",
    "from sklearn.model_selection import KFold\n",
    "from sklearn import metrics\n",
    "\n",
    "# Add our local functions to the path\n",
    "sys.path.append(os.path.join(os.pardir, 'src'))\n",
    "from models import evaluation\n",
    "from data.load_data import (get_country_filepaths, \n",
    "                            split_features_labels_weights)\n",
    "\n",
    "\n",
    "ALGORITHM_NAME = 'lr'\n",
    "COUNTRY = 'mwi'\n"
   ]
  },
  {
   "cell_type": "code",
   "execution_count": null,
   "metadata": {},
   "outputs": [],
   "source": []
  },
  {
   "cell_type": "code",
   "execution_count": 63,
   "metadata": {},
   "outputs": [],
   "source": [
    "# Load the processed Mwai household:\n",
    "mwi_hhold = pd.read_csv(r\"C:\\Users\\micha\\Documents\\GitHub\\mkp_code\\Institute of Data Course\\Project 3\\data\\csv_data\\MWI_2010_household.csv\")"
   ]
  },
  {
   "cell_type": "code",
   "execution_count": null,
   "metadata": {},
   "outputs": [],
   "source": []
  },
  {
   "cell_type": "code",
   "execution_count": 65,
   "metadata": {},
   "outputs": [],
   "source": [
    "mwi_hhold.poor = mwi_hhold.poor.replace('Poor',0)\n",
    "mwi_hhold.poor = mwi_hhold.poor.replace('Non-poor',1)"
   ]
  },
  {
   "cell_type": "code",
   "execution_count": null,
   "metadata": {},
   "outputs": [],
   "source": []
  },
  {
   "cell_type": "code",
   "execution_count": 66,
   "metadata": {},
   "outputs": [],
   "source": [
    "# Split Malawi data and Indonesia data\n",
    "mwi_train, mwi_test = train_test_split(mwi_hhold, \n",
    "                                       test_size=0.25,\n",
    "                                       random_state=1443,\n",
    "                                       stratify=mwi_hhold.poor)"
   ]
  },
  {
   "cell_type": "code",
   "execution_count": 67,
   "metadata": {},
   "outputs": [
    {
     "output_type": "stream",
     "name": "stdout",
     "text": "Data has 9,183 rows and 488 columns\nPercent poor: 45.1% \tPercent non-poor: 54.9%\n"
    },
    {
     "output_type": "execute_result",
     "data": {
      "text/plain": "                hid    wta_hh   wta_pop  der_hhsize   poor  hld_rooms  \\\n7927   304044580160  170.1948  850.9740           5   True          3   \n4210   205205820123  188.8692  566.6076           3  False          2   \n457    102016880095  143.9194  863.5164           6   True          5   \n11951  315356330210  234.7279  704.1837           3  False          3   \n11428  313061660067   78.5482  157.0964           2  False          1   \n\n       hld_nbcellpho  hld_selfscale  der_nchild10under  der_nmalesover10  ...  \\\n7927             0.0            1.0                  3                 1  ...   \n4210             1.0            3.0                  1                 1  ...   \n457              0.0            2.0                  3                 1  ...   \n11951            3.0            3.0                  1                 1  ...   \n11428            0.0            2.0                  0                 1  ...   \n\n       com_medicines__Yes  com_clinic__Yes  \\\n7927                    0                0   \n4210                    1                0   \n457                     0                0   \n11951                   1                1   \n11428                   1                0   \n\n       com_distclinic__11 to 15 kilometers  \\\n7927                                     0   \n4210                                     0   \n457                                      0   \n11951                                    0   \n11428                                    0   \n\n       com_distclinic__16 to 20 kilometers  \\\n7927                                     0   \n4210                                     0   \n457                                      0   \n11951                                    0   \n11428                                    1   \n\n       com_distclinic__21 to 25 kilometers  \\\n7927                                     0   \n4210                                     0   \n457                                      0   \n11951                                    0   \n11428                                    0   \n\n       com_distclinic__26 to 30 kilometers  \\\n7927                                     0   \n4210                                     0   \n457                                      0   \n11951                                    0   \n11428                                    0   \n\n       com_distclinic__6 to 10 kilometers  \\\n7927                                    0   \n4210                                    0   \n457                                     0   \n11951                                   0   \n11428                                   0   \n\n       com_distclinic__Above 30 kilometers  com_distclinic__nan  com_bank__Yes  \n7927                                     0                    0              0  \n4210                                     0                    0              0  \n457                                      0                    0              0  \n11951                                    0                    1              1  \n11428                                    0                    0              0  \n\n[5 rows x 488 columns]",
      "text/html": "<div>\n<style scoped>\n    .dataframe tbody tr th:only-of-type {\n        vertical-align: middle;\n    }\n\n    .dataframe tbody tr th {\n        vertical-align: top;\n    }\n\n    .dataframe thead th {\n        text-align: right;\n    }\n</style>\n<table border=\"1\" class=\"dataframe\">\n  <thead>\n    <tr style=\"text-align: right;\">\n      <th></th>\n      <th>hid</th>\n      <th>wta_hh</th>\n      <th>wta_pop</th>\n      <th>der_hhsize</th>\n      <th>poor</th>\n      <th>hld_rooms</th>\n      <th>hld_nbcellpho</th>\n      <th>hld_selfscale</th>\n      <th>der_nchild10under</th>\n      <th>der_nmalesover10</th>\n      <th>...</th>\n      <th>com_medicines__Yes</th>\n      <th>com_clinic__Yes</th>\n      <th>com_distclinic__11 to 15 kilometers</th>\n      <th>com_distclinic__16 to 20 kilometers</th>\n      <th>com_distclinic__21 to 25 kilometers</th>\n      <th>com_distclinic__26 to 30 kilometers</th>\n      <th>com_distclinic__6 to 10 kilometers</th>\n      <th>com_distclinic__Above 30 kilometers</th>\n      <th>com_distclinic__nan</th>\n      <th>com_bank__Yes</th>\n    </tr>\n  </thead>\n  <tbody>\n    <tr>\n      <th>7927</th>\n      <td>304044580160</td>\n      <td>170.1948</td>\n      <td>850.9740</td>\n      <td>5</td>\n      <td>True</td>\n      <td>3</td>\n      <td>0.0</td>\n      <td>1.0</td>\n      <td>3</td>\n      <td>1</td>\n      <td>...</td>\n      <td>0</td>\n      <td>0</td>\n      <td>0</td>\n      <td>0</td>\n      <td>0</td>\n      <td>0</td>\n      <td>0</td>\n      <td>0</td>\n      <td>0</td>\n      <td>0</td>\n    </tr>\n    <tr>\n      <th>4210</th>\n      <td>205205820123</td>\n      <td>188.8692</td>\n      <td>566.6076</td>\n      <td>3</td>\n      <td>False</td>\n      <td>2</td>\n      <td>1.0</td>\n      <td>3.0</td>\n      <td>1</td>\n      <td>1</td>\n      <td>...</td>\n      <td>1</td>\n      <td>0</td>\n      <td>0</td>\n      <td>0</td>\n      <td>0</td>\n      <td>0</td>\n      <td>0</td>\n      <td>0</td>\n      <td>0</td>\n      <td>0</td>\n    </tr>\n    <tr>\n      <th>457</th>\n      <td>102016880095</td>\n      <td>143.9194</td>\n      <td>863.5164</td>\n      <td>6</td>\n      <td>True</td>\n      <td>5</td>\n      <td>0.0</td>\n      <td>2.0</td>\n      <td>3</td>\n      <td>1</td>\n      <td>...</td>\n      <td>0</td>\n      <td>0</td>\n      <td>0</td>\n      <td>0</td>\n      <td>0</td>\n      <td>0</td>\n      <td>0</td>\n      <td>0</td>\n      <td>0</td>\n      <td>0</td>\n    </tr>\n    <tr>\n      <th>11951</th>\n      <td>315356330210</td>\n      <td>234.7279</td>\n      <td>704.1837</td>\n      <td>3</td>\n      <td>False</td>\n      <td>3</td>\n      <td>3.0</td>\n      <td>3.0</td>\n      <td>1</td>\n      <td>1</td>\n      <td>...</td>\n      <td>1</td>\n      <td>1</td>\n      <td>0</td>\n      <td>0</td>\n      <td>0</td>\n      <td>0</td>\n      <td>0</td>\n      <td>0</td>\n      <td>1</td>\n      <td>1</td>\n    </tr>\n    <tr>\n      <th>11428</th>\n      <td>313061660067</td>\n      <td>78.5482</td>\n      <td>157.0964</td>\n      <td>2</td>\n      <td>False</td>\n      <td>1</td>\n      <td>0.0</td>\n      <td>2.0</td>\n      <td>0</td>\n      <td>1</td>\n      <td>...</td>\n      <td>1</td>\n      <td>0</td>\n      <td>0</td>\n      <td>1</td>\n      <td>0</td>\n      <td>0</td>\n      <td>0</td>\n      <td>0</td>\n      <td>0</td>\n      <td>0</td>\n    </tr>\n  </tbody>\n</table>\n<p>5 rows × 488 columns</p>\n</div>"
     },
     "metadata": {},
     "execution_count": 67
    }
   ],
   "source": [
    "# summarize Train loaded data\n",
    "print('Data has {:,} rows and {:,} columns' \\\n",
    "        .format(*mwi_train.shape))\n",
    "\n",
    "print('Percent poor: {:0.1%} \\tPercent non-poor: {:0.1%}' \\\n",
    "        .format(*mwi_train.poor.value_counts(normalize=True, ascending=True)))\n",
    "\n",
    "# print first 5 rows of data\n",
    "mwi_train.head()"
   ]
  },
  {
   "cell_type": "code",
   "execution_count": null,
   "metadata": {},
   "outputs": [],
   "source": []
  },
  {
   "cell_type": "code",
   "execution_count": 68,
   "metadata": {},
   "outputs": [
    {
     "output_type": "stream",
     "name": "stdout",
     "text": "X shape with selected columns: (9183, 10)\n"
    }
   ],
   "source": [
    "# Select a few columns for this example\n",
    "selected_columns = [\n",
    "    'der_hhsize', \n",
    "    'der_nchild10under', \n",
    "    'der_nmalesover10', \n",
    "    'der_nfemalesover10',\n",
    "    'der_nliterate', \n",
    "    'der_nemployedpastyear',\n",
    "    'hld_electricity__Yes',\n",
    "    'hld_toilet__None',\n",
    "    'cons_0504__Yes',\n",
    "    'cons_0508__Yes'\n",
    "]\n",
    "\n",
    "print(\"X shape with selected columns:\", mwi_train[selected_columns].shape)"
   ]
  },
  {
   "cell_type": "markdown",
   "metadata": {},
   "source": [
    "## Checking for Multicollinearity:\n",
    "### Calcualting the variance inflation factor (VIF) of each feature."
   ]
  },
  {
   "cell_type": "code",
   "execution_count": 69,
   "metadata": {},
   "outputs": [],
   "source": [
    "def get_vif(X, intercept_col='intercept'):\n",
    "    if intercept_col is not None and intercept_col in X.columns:\n",
    "        X = X.copy().drop(intercept_col, axis=1)\n",
    "    \n",
    "    vi_factors = [variance_inflation_factor(X.values, i)\n",
    "                             for i in range(X.shape[1])]\n",
    "    \n",
    "    return pd.Series(vi_factors,\n",
    "                     index=X.columns,\n",
    "                     name='variance_inflaction_factor')"
   ]
  },
  {
   "cell_type": "code",
   "execution_count": null,
   "metadata": {},
   "outputs": [],
   "source": []
  },
  {
   "cell_type": "code",
   "execution_count": 70,
   "metadata": {},
   "outputs": [
    {
     "output_type": "execute_result",
     "data": {
      "text/plain": "der_hhsize               1142.050480\nder_nchild10under         206.466307\nder_nmalesover10          138.021692\nder_nfemalesover10        141.867242\nder_nliterate               5.616642\nder_nemployedpastyear       1.533041\nhld_electricity__Yes        1.471163\nhld_toilet__None            1.091630\ncons_0504__Yes              1.344652\ncons_0508__Yes              1.341629\nName: variance_inflaction_factor, dtype: float64"
     },
     "metadata": {},
     "execution_count": 70
    }
   ],
   "source": [
    "get_vif(mwi_train[selected_columns])"
   ]
  },
  {
   "cell_type": "code",
   "execution_count": null,
   "metadata": {},
   "outputs": [],
   "source": []
  },
  {
   "cell_type": "markdown",
   "metadata": {},
   "source": [
    "### Standardization "
   ]
  },
  {
   "cell_type": "code",
   "execution_count": 71,
   "metadata": {},
   "outputs": [],
   "source": [
    "# Standardize features\n",
    "def standardize(df, numeric_only=True):\n",
    "    if numeric_only is True:\n",
    "    # find non-boolean columns\n",
    "        cols = df.loc[:, df.dtypes != 'uint8'].columns\n",
    "    else:\n",
    "        cols = df.columns\n",
    "    for field in cols:\n",
    "        mean, std = df[field].mean(), df[field].std()\n",
    "        # account for constant columns\n",
    "        if np.all(df[field] - mean != 0):\n",
    "            df.loc[:, field] = (df[field] - mean) / std\n",
    "    \n",
    "    return df"
   ]
  },
  {
   "cell_type": "code",
   "execution_count": null,
   "metadata": {},
   "outputs": [],
   "source": []
  },
  {
   "cell_type": "code",
   "execution_count": 72,
   "metadata": {},
   "outputs": [
    {
     "output_type": "stream",
     "name": "stderr",
     "text": "C:\\Users\\micha\\Anaconda3\\lib\\site-packages\\pandas\\core\\indexing.py:966: SettingWithCopyWarning: \nA value is trying to be set on a copy of a slice from a DataFrame.\nTry using .loc[row_indexer,col_indexer] = value instead\n\nSee the caveats in the documentation: https://pandas.pydata.org/pandas-docs/stable/user_guide/indexing.html#returning-a-view-versus-a-copy\n  self.obj[item] = s\nC:\\Users\\micha\\Anaconda3\\lib\\site-packages\\pandas\\core\\indexing.py:966: SettingWithCopyWarning: \nA value is trying to be set on a copy of a slice from a DataFrame.\nTry using .loc[row_indexer,col_indexer] = value instead\n\nSee the caveats in the documentation: https://pandas.pydata.org/pandas-docs/stable/user_guide/indexing.html#returning-a-view-versus-a-copy\n  self.obj[item] = s\n"
    },
    {
     "output_type": "execute_result",
     "data": {
      "text/plain": "            hid    wta_hh   wta_pop  der_hhsize      poor  hld_rooms  \\\n7927   0.898019 -0.463091 -0.289299    0.183527  1.102410   0.326073   \n4210  -0.375839 -0.356672 -0.560014   -0.721591 -0.907005  -0.512205   \n457   -1.705763 -0.612824 -0.277359    0.636087  1.102410   2.002628   \n11951  1.043807 -0.095341 -0.429043   -0.721591 -0.907005   0.326073   \n11428  1.014233 -0.985350 -0.949866   -1.174151 -0.907005  -1.350483   \n\n       hld_nbcellpho  hld_selfscale  der_nchild10under  der_nmalesover10  ...  \\\n7927       -0.597364      -1.131563           0.977090         -0.398378  ...   \n4210        0.398207       1.089716          -0.483297         -0.398378  ...   \n457        -0.597364      -0.020924           0.977090         -0.398378  ...   \n11951       2.389348       1.089716          -0.483297         -0.398378  ...   \n11428      -0.597364      -0.020924          -1.213490         -0.398378  ...   \n\n       com_medicines__Yes  com_clinic__Yes  \\\n7927            -1.700716        -0.593458   \n4210             0.587923        -0.593458   \n457             -1.700716        -0.593458   \n11951            0.587923         1.684855   \n11428            0.587923        -0.593458   \n\n       com_distclinic__11 to 15 kilometers  \\\n7927                             -0.321636   \n4210                             -0.321636   \n457                              -0.321636   \n11951                            -0.321636   \n11428                            -0.321636   \n\n       com_distclinic__16 to 20 kilometers  \\\n7927                             -0.198159   \n4210                             -0.198159   \n457                              -0.198159   \n11951                            -0.198159   \n11428                             5.045910   \n\n       com_distclinic__21 to 25 kilometers  \\\n7927                             -0.096077   \n4210                             -0.096077   \n457                              -0.096077   \n11951                            -0.096077   \n11428                            -0.096077   \n\n       com_distclinic__26 to 30 kilometers  \\\n7927                             -0.150344   \n4210                             -0.150344   \n457                              -0.150344   \n11951                            -0.150344   \n11428                            -0.150344   \n\n       com_distclinic__6 to 10 kilometers  \\\n7927                            -0.545987   \n4210                            -0.545987   \n457                             -0.545987   \n11951                           -0.545987   \n11428                           -0.545987   \n\n       com_distclinic__Above 30 kilometers  com_distclinic__nan  com_bank__Yes  \n7927                             -0.150344            -0.592787      -0.258440  \n4210                             -0.150344            -0.592787      -0.258440  \n457                              -0.150344            -0.592787      -0.258440  \n11951                            -0.150344             1.686762       3.868954  \n11428                            -0.150344            -0.592787      -0.258440  \n\n[5 rows x 488 columns]",
      "text/html": "<div>\n<style scoped>\n    .dataframe tbody tr th:only-of-type {\n        vertical-align: middle;\n    }\n\n    .dataframe tbody tr th {\n        vertical-align: top;\n    }\n\n    .dataframe thead th {\n        text-align: right;\n    }\n</style>\n<table border=\"1\" class=\"dataframe\">\n  <thead>\n    <tr style=\"text-align: right;\">\n      <th></th>\n      <th>hid</th>\n      <th>wta_hh</th>\n      <th>wta_pop</th>\n      <th>der_hhsize</th>\n      <th>poor</th>\n      <th>hld_rooms</th>\n      <th>hld_nbcellpho</th>\n      <th>hld_selfscale</th>\n      <th>der_nchild10under</th>\n      <th>der_nmalesover10</th>\n      <th>...</th>\n      <th>com_medicines__Yes</th>\n      <th>com_clinic__Yes</th>\n      <th>com_distclinic__11 to 15 kilometers</th>\n      <th>com_distclinic__16 to 20 kilometers</th>\n      <th>com_distclinic__21 to 25 kilometers</th>\n      <th>com_distclinic__26 to 30 kilometers</th>\n      <th>com_distclinic__6 to 10 kilometers</th>\n      <th>com_distclinic__Above 30 kilometers</th>\n      <th>com_distclinic__nan</th>\n      <th>com_bank__Yes</th>\n    </tr>\n  </thead>\n  <tbody>\n    <tr>\n      <th>7927</th>\n      <td>0.898019</td>\n      <td>-0.463091</td>\n      <td>-0.289299</td>\n      <td>0.183527</td>\n      <td>1.102410</td>\n      <td>0.326073</td>\n      <td>-0.597364</td>\n      <td>-1.131563</td>\n      <td>0.977090</td>\n      <td>-0.398378</td>\n      <td>...</td>\n      <td>-1.700716</td>\n      <td>-0.593458</td>\n      <td>-0.321636</td>\n      <td>-0.198159</td>\n      <td>-0.096077</td>\n      <td>-0.150344</td>\n      <td>-0.545987</td>\n      <td>-0.150344</td>\n      <td>-0.592787</td>\n      <td>-0.258440</td>\n    </tr>\n    <tr>\n      <th>4210</th>\n      <td>-0.375839</td>\n      <td>-0.356672</td>\n      <td>-0.560014</td>\n      <td>-0.721591</td>\n      <td>-0.907005</td>\n      <td>-0.512205</td>\n      <td>0.398207</td>\n      <td>1.089716</td>\n      <td>-0.483297</td>\n      <td>-0.398378</td>\n      <td>...</td>\n      <td>0.587923</td>\n      <td>-0.593458</td>\n      <td>-0.321636</td>\n      <td>-0.198159</td>\n      <td>-0.096077</td>\n      <td>-0.150344</td>\n      <td>-0.545987</td>\n      <td>-0.150344</td>\n      <td>-0.592787</td>\n      <td>-0.258440</td>\n    </tr>\n    <tr>\n      <th>457</th>\n      <td>-1.705763</td>\n      <td>-0.612824</td>\n      <td>-0.277359</td>\n      <td>0.636087</td>\n      <td>1.102410</td>\n      <td>2.002628</td>\n      <td>-0.597364</td>\n      <td>-0.020924</td>\n      <td>0.977090</td>\n      <td>-0.398378</td>\n      <td>...</td>\n      <td>-1.700716</td>\n      <td>-0.593458</td>\n      <td>-0.321636</td>\n      <td>-0.198159</td>\n      <td>-0.096077</td>\n      <td>-0.150344</td>\n      <td>-0.545987</td>\n      <td>-0.150344</td>\n      <td>-0.592787</td>\n      <td>-0.258440</td>\n    </tr>\n    <tr>\n      <th>11951</th>\n      <td>1.043807</td>\n      <td>-0.095341</td>\n      <td>-0.429043</td>\n      <td>-0.721591</td>\n      <td>-0.907005</td>\n      <td>0.326073</td>\n      <td>2.389348</td>\n      <td>1.089716</td>\n      <td>-0.483297</td>\n      <td>-0.398378</td>\n      <td>...</td>\n      <td>0.587923</td>\n      <td>1.684855</td>\n      <td>-0.321636</td>\n      <td>-0.198159</td>\n      <td>-0.096077</td>\n      <td>-0.150344</td>\n      <td>-0.545987</td>\n      <td>-0.150344</td>\n      <td>1.686762</td>\n      <td>3.868954</td>\n    </tr>\n    <tr>\n      <th>11428</th>\n      <td>1.014233</td>\n      <td>-0.985350</td>\n      <td>-0.949866</td>\n      <td>-1.174151</td>\n      <td>-0.907005</td>\n      <td>-1.350483</td>\n      <td>-0.597364</td>\n      <td>-0.020924</td>\n      <td>-1.213490</td>\n      <td>-0.398378</td>\n      <td>...</td>\n      <td>0.587923</td>\n      <td>-0.593458</td>\n      <td>-0.321636</td>\n      <td>5.045910</td>\n      <td>-0.096077</td>\n      <td>-0.150344</td>\n      <td>-0.545987</td>\n      <td>-0.150344</td>\n      <td>-0.592787</td>\n      <td>-0.258440</td>\n    </tr>\n  </tbody>\n</table>\n<p>5 rows × 488 columns</p>\n</div>"
     },
     "metadata": {},
     "execution_count": 72
    }
   ],
   "source": [
    "standardize(mwi_train)\n",
    "mwi_train.head()"
   ]
  },
  {
   "cell_type": "code",
   "execution_count": null,
   "metadata": {},
   "outputs": [],
   "source": []
  },
  {
   "cell_type": "code",
   "execution_count": 73,
   "metadata": {},
   "outputs": [
    {
     "output_type": "execute_result",
     "data": {
      "text/plain": "der_hhsize               214.615373\nder_nchild10under         83.536365\nder_nmalesover10          48.129934\nder_nfemalesover10        38.840336\nder_nliterate              2.256896\nder_nemployedpastyear      1.240740\nhld_electricity__Yes       1.344728\nhld_toilet__None           1.043755\ncons_0504__Yes             1.194788\ncons_0508__Yes             1.077015\nName: variance_inflaction_factor, dtype: float64"
     },
     "metadata": {},
     "execution_count": 73
    }
   ],
   "source": [
    "get_vif(mwi_train[selected_columns])"
   ]
  },
  {
   "cell_type": "code",
   "execution_count": 74,
   "metadata": {},
   "outputs": [
    {
     "output_type": "stream",
     "name": "stdout",
     "text": "['der_nchild10under', 'der_nmalesover10', 'der_nfemalesover10', 'der_nliterate', 'der_nemployedpastyear', 'hld_electricity__Yes', 'hld_toilet__None', 'cons_0504__Yes', 'cons_0508__Yes']\n"
    },
    {
     "output_type": "execute_result",
     "data": {
      "text/plain": "der_nchild10under        1.054748\nder_nmalesover10         1.511700\nder_nfemalesover10       1.422928\nder_nliterate            2.256803\nder_nemployedpastyear    1.237311\nhld_electricity__Yes     1.344378\nhld_toilet__None         1.043731\ncons_0504__Yes           1.194295\ncons_0508__Yes           1.077012\nName: variance_inflaction_factor, dtype: float64"
     },
     "metadata": {},
     "execution_count": 74
    }
   ],
   "source": [
    "selected_columns.remove('der_hhsize')\n",
    "print(selected_columns)\n",
    "\n",
    "get_vif(mwi_train[selected_columns])"
   ]
  },
  {
   "cell_type": "code",
   "execution_count": null,
   "metadata": {},
   "outputs": [],
   "source": []
  },
  {
   "cell_type": "code",
   "execution_count": 75,
   "metadata": {},
   "outputs": [
    {
     "output_type": "execute_result",
     "data": {
      "text/plain": "7927     1.102410\n4210    -0.907005\n457      1.102410\n11951   -0.907005\n11428   -0.907005\n           ...   \n5430     1.102410\n11107   -0.907005\n769     -0.907005\n8471    -0.907005\n7712    -0.907005\nName: poor, Length: 9183, dtype: float64"
     },
     "metadata": {},
     "execution_count": 75
    }
   ],
   "source": [
    " mwi_train.poor"
   ]
  },
  {
   "cell_type": "code",
   "execution_count": null,
   "metadata": {},
   "outputs": [],
   "source": []
  },
  {
   "cell_type": "code",
   "execution_count": null,
   "metadata": {},
   "outputs": [],
   "source": []
  },
  {
   "cell_type": "code",
   "execution_count": null,
   "metadata": {},
   "outputs": [],
   "source": []
  },
  {
   "cell_type": "code",
   "execution_count": 76,
   "metadata": {},
   "outputs": [],
   "source": [
    "X_train = mwi_train[selected_columns]\n",
    "y_train = mwi_train.poor"
   ]
  },
  {
   "cell_type": "code",
   "execution_count": 53,
   "metadata": {},
   "outputs": [
    {
     "output_type": "execute_result",
     "data": {
      "text/plain": "<bound method NDFrame.head of        der_nchild10under  der_nmalesover10  der_nfemalesover10  der_nliterate  \\\n7927            0.977090         -0.398378           -0.549568      -0.083075   \n4210           -0.483297         -0.398378           -0.549568      -0.083075   \n457             0.977090         -0.398378            0.535040      -0.083075   \n11951          -0.483297         -0.398378           -0.549568       0.492247   \n11428          -1.213490         -0.398378           -0.549568      -0.083075   \n...                  ...               ...                 ...            ...   \n5430           -0.483297          0.572252            1.619648      -0.658397   \n11107           0.246897         -0.398378            0.535040      -0.083075   \n769            -1.213490         -0.398378           -1.634176      -0.658397   \n8471           -0.483297         -0.398378           -0.549568      -0.083075   \n7712           -0.483297         -0.398378           -0.549568      -0.083075   \n\n       der_nemployedpastyear  hld_electricity__Yes  hld_toilet__None  \\\n7927               -0.503193             -0.307632         -0.316665   \n4210                1.318897             -0.307632         -0.316665   \n457                -0.503193             -0.307632         -0.316665   \n11951               1.318897              3.250283         -0.316665   \n11428              -0.503193             -0.307632         -0.316665   \n...                      ...                   ...               ...   \n5430               -0.503193             -0.307632         -0.316665   \n11107              -0.503193             -0.307632         -0.316665   \n769                -0.503193             -0.307632          3.157569   \n8471               -0.503193             -0.307632         -0.316665   \n7712               -0.503193             -0.307632          3.157569   \n\n       cons_0504__Yes  cons_0508__Yes  \n7927        -0.361605       -0.513617  \n4210        -0.361605       -0.513617  \n457         -0.361605       -0.513617  \n11951        2.765151        1.946763  \n11428       -0.361605       -0.513617  \n...               ...             ...  \n5430        -0.361605       -0.513617  \n11107       -0.361605       -0.513617  \n769         -0.361605       -0.513617  \n8471        -0.361605       -0.513617  \n7712        -0.361605        1.946763  \n\n[9183 rows x 9 columns]>"
     },
     "metadata": {},
     "execution_count": 53
    }
   ],
   "source": [
    "X_train.head"
   ]
  },
  {
   "cell_type": "code",
   "execution_count": null,
   "metadata": {},
   "outputs": [],
   "source": []
  },
  {
   "cell_type": "code",
   "execution_count": null,
   "metadata": {},
   "outputs": [],
   "source": []
  },
  {
   "cell_type": "code",
   "execution_count": 77,
   "metadata": {},
   "outputs": [],
   "source": [
    "logreg = LogisticRegression()"
   ]
  },
  {
   "cell_type": "code",
   "execution_count": null,
   "metadata": {},
   "outputs": [],
   "source": []
  },
  {
   "cell_type": "code",
   "execution_count": 78,
   "metadata": {},
   "outputs": [
    {
     "output_type": "error",
     "ename": "ValueError",
     "evalue": "Unknown label type: 'continuous'",
     "traceback": [
      "\u001b[1;31m---------------------------------------------------------------------------\u001b[0m",
      "\u001b[1;31mValueError\u001b[0m                                Traceback (most recent call last)",
      "\u001b[1;32m<ipython-input-78-6034aa8b3482>\u001b[0m in \u001b[0;36m<module>\u001b[1;34m\u001b[0m\n\u001b[0;32m      1\u001b[0m \u001b[1;31m# Fit Model\u001b[0m\u001b[1;33m\u001b[0m\u001b[1;33m\u001b[0m\u001b[1;33m\u001b[0m\u001b[0m\n\u001b[1;32m----> 2\u001b[1;33m \u001b[0mlogreg\u001b[0m\u001b[1;33m.\u001b[0m\u001b[0mfit\u001b[0m\u001b[1;33m(\u001b[0m\u001b[0mX_train\u001b[0m\u001b[1;33m,\u001b[0m \u001b[0my_train\u001b[0m\u001b[1;33m)\u001b[0m\u001b[1;33m\u001b[0m\u001b[1;33m\u001b[0m\u001b[0m\n\u001b[0m",
      "\u001b[1;32m~\\Anaconda3\\lib\\site-packages\\sklearn\\linear_model\\_logistic.py\u001b[0m in \u001b[0;36mfit\u001b[1;34m(self, X, y, sample_weight)\u001b[0m\n\u001b[0;32m   1526\u001b[0m         X, y = check_X_y(X, y, accept_sparse='csr', dtype=_dtype, order=\"C\",\n\u001b[0;32m   1527\u001b[0m                          accept_large_sparse=solver != 'liblinear')\n\u001b[1;32m-> 1528\u001b[1;33m         \u001b[0mcheck_classification_targets\u001b[0m\u001b[1;33m(\u001b[0m\u001b[0my\u001b[0m\u001b[1;33m)\u001b[0m\u001b[1;33m\u001b[0m\u001b[1;33m\u001b[0m\u001b[0m\n\u001b[0m\u001b[0;32m   1529\u001b[0m         \u001b[0mself\u001b[0m\u001b[1;33m.\u001b[0m\u001b[0mclasses_\u001b[0m \u001b[1;33m=\u001b[0m \u001b[0mnp\u001b[0m\u001b[1;33m.\u001b[0m\u001b[0munique\u001b[0m\u001b[1;33m(\u001b[0m\u001b[0my\u001b[0m\u001b[1;33m)\u001b[0m\u001b[1;33m\u001b[0m\u001b[1;33m\u001b[0m\u001b[0m\n\u001b[0;32m   1530\u001b[0m         \u001b[0mn_samples\u001b[0m\u001b[1;33m,\u001b[0m \u001b[0mn_features\u001b[0m \u001b[1;33m=\u001b[0m \u001b[0mX\u001b[0m\u001b[1;33m.\u001b[0m\u001b[0mshape\u001b[0m\u001b[1;33m\u001b[0m\u001b[1;33m\u001b[0m\u001b[0m\n",
      "\u001b[1;32m~\\Anaconda3\\lib\\site-packages\\sklearn\\utils\\multiclass.py\u001b[0m in \u001b[0;36mcheck_classification_targets\u001b[1;34m(y)\u001b[0m\n\u001b[0;32m    167\u001b[0m     if y_type not in ['binary', 'multiclass', 'multiclass-multioutput',\n\u001b[0;32m    168\u001b[0m                       'multilabel-indicator', 'multilabel-sequences']:\n\u001b[1;32m--> 169\u001b[1;33m         \u001b[1;32mraise\u001b[0m \u001b[0mValueError\u001b[0m\u001b[1;33m(\u001b[0m\u001b[1;34m\"Unknown label type: %r\"\u001b[0m \u001b[1;33m%\u001b[0m \u001b[0my_type\u001b[0m\u001b[1;33m)\u001b[0m\u001b[1;33m\u001b[0m\u001b[1;33m\u001b[0m\u001b[0m\n\u001b[0m\u001b[0;32m    170\u001b[0m \u001b[1;33m\u001b[0m\u001b[0m\n\u001b[0;32m    171\u001b[0m \u001b[1;33m\u001b[0m\u001b[0m\n",
      "\u001b[1;31mValueError\u001b[0m: Unknown label type: 'continuous'"
     ]
    }
   ],
   "source": [
    "# Fit Model\n",
    "logreg.fit(X_train, y_train)"
   ]
  },
  {
   "cell_type": "code",
   "execution_count": null,
   "metadata": {},
   "outputs": [],
   "source": []
  },
  {
   "cell_type": "code",
   "execution_count": null,
   "metadata": {},
   "outputs": [],
   "source": []
  },
  {
   "cell_type": "code",
   "execution_count": null,
   "metadata": {},
   "outputs": [],
   "source": []
  },
  {
   "cell_type": "code",
   "execution_count": null,
   "metadata": {},
   "outputs": [],
   "source": []
  },
  {
   "cell_type": "code",
   "execution_count": null,
   "metadata": {},
   "outputs": [],
   "source": []
  },
  {
   "cell_type": "code",
   "execution_count": null,
   "metadata": {},
   "outputs": [],
   "source": []
  },
  {
   "cell_type": "code",
   "execution_count": null,
   "metadata": {},
   "outputs": [],
   "source": []
  },
  {
   "cell_type": "code",
   "execution_count": null,
   "metadata": {},
   "outputs": [],
   "source": []
  },
  {
   "cell_type": "code",
   "execution_count": null,
   "metadata": {},
   "outputs": [],
   "source": [
    "# Split the dataset\n",
    "X_train, X_test, y_train, y_test = train_test_split(X, y, random_state=1)"
   ]
  },
  {
   "cell_type": "code",
   "execution_count": null,
   "metadata": {},
   "outputs": [],
   "source": []
  },
  {
   "cell_type": "code",
   "execution_count": null,
   "metadata": {},
   "outputs": [],
   "source": []
  },
  {
   "cell_type": "code",
   "execution_count": null,
   "metadata": {},
   "outputs": [],
   "source": []
  },
  {
   "cell_type": "code",
   "execution_count": null,
   "metadata": {},
   "outputs": [],
   "source": []
  },
  {
   "cell_type": "code",
   "execution_count": null,
   "metadata": {},
   "outputs": [],
   "source": []
  }
 ],
 "metadata": {
  "kernelspec": {
   "display_name": "Python 3",
   "language": "python",
   "name": "python3"
  },
  "language_info": {
   "codemirror_mode": {
    "name": "ipython",
    "version": 3
   },
   "file_extension": ".py",
   "mimetype": "text/x-python",
   "name": "python",
   "nbconvert_exporter": "python",
   "pygments_lexer": "ipython3",
   "version": "3.7.7-final"
  }
 },
 "nbformat": 4,
 "nbformat_minor": 4
}