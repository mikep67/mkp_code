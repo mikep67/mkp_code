{
 "cells": [
  {
   "cell_type": "code",
   "execution_count": null,
   "metadata": {},
   "outputs": [],
   "source": []
  },
  {
   "cell_type": "markdown",
   "metadata": {},
   "source": [
    "### Logistic Regression Classifier - Malwai"
   ]
  },
  {
   "cell_type": "code",
   "execution_count": 24,
   "metadata": {},
   "outputs": [],
   "source": [
    "%matplotlib inline\n",
    "\n",
    "import os\n",
    "import sys\n",
    "import json\n",
    "import keras\n",
    "\n",
    "import numpy as np\n",
    "import pandas as pd\n",
    "\n",
    "from pathlib import Path\n",
    "from pathlib import PureWindowsPath\n",
    "\n",
    "from matplotlib import pyplot as plt\n",
    "from IPython.display import display\n",
    "import seaborn as sns\n",
    "sns.set()\n",
    "\n",
    "\n",
    "import statsmodels.api as sm\n",
    "from statsmodels.stats.outliers_influence import variance_inflation_factor\n",
    "\n",
    "from sklearn.model_selection import train_test_split\n",
    "from sklearn.linear_model import LogisticRegression\n",
    "from sklearn.model_selection import cross_val_score\n",
    "from sklearn.model_selection import KFold\n",
    "from sklearn import metrics\n",
    "\n",
    "# For plots\n",
    "from sklearn.metrics import (\n",
    "    confusion_matrix,\n",
    "    log_loss,\n",
    "    roc_auc_score,\n",
    "    accuracy_score,\n",
    "    precision_score\n",
    ")\n",
    "\n",
    "from sklearn.metrics import (\n",
    "    recall_score,\n",
    "    f1_score,\n",
    "    cohen_kappa_score,\n",
    "    roc_curve,\n",
    "    auc\n",
    ")\n",
    "\n",
    "\n",
    "\n",
    "\n",
    "\n",
    "# Add our local functions to the path\n",
    "sys.path.append(os.path.join(os.pardir, 'src'))\n",
    "from models import evaluation\n",
    "from data.load_data import (get_country_filepaths, \n",
    "                            split_features_labels_weights)\n",
    "\n",
    "\n",
    "ALGORITHM_NAME = 'lr'\n",
    "COUNTRY = 'mwi'\n"
   ]
  },
  {
   "cell_type": "code",
   "execution_count": null,
   "metadata": {},
   "outputs": [],
   "source": []
  },
  {
   "cell_type": "code",
   "execution_count": 25,
   "metadata": {},
   "outputs": [],
   "source": [
    "def load_data(path, selected_columns=None, ravel=True, standardize_columns='numeric'):\n",
    "    X, y, w = split_features_labels_weights(path)\n",
    "    if selected_columns is not None:\n",
    "        X = X[[col for col in X.columns.values if col in selected_columns]]\n",
    "    if standardize_columns == 'numeric':\n",
    "        standardize(X)\n",
    "    elif standardize_columns == 'all':\n",
    "        standardize(X, numeric_only=False)\n",
    "    if ravel is True:\n",
    "        y = np.ravel(y)\n",
    "        w = np.ravel(w)\n",
    "    return (X, y, w)"
   ]
  },
  {
   "cell_type": "code",
   "execution_count": null,
   "metadata": {},
   "outputs": [],
   "source": []
  },
  {
   "cell_type": "code",
   "execution_count": 26,
   "metadata": {},
   "outputs": [],
   "source": [
    "# Split the data for analysis\n",
    "def split_features_labels_weights(df,\n",
    "                                  weights=['wta_pop', 'wta_hh'],\n",
    "                                  weights_col=['wta_pop'],\n",
    "                                  label_col=['poor']):\n",
    "\n",
    "    '''Split data into features, labels, and weights dataframes'''\n",
    "    data = df\n",
    "    return (data.drop(weights + label_col, axis=1),\n",
    "            data[label_col],\n",
    "            data[weights_col])\n",
    "            "
   ]
  },
  {
   "cell_type": "code",
   "execution_count": null,
   "metadata": {},
   "outputs": [],
   "source": []
  },
  {
   "cell_type": "code",
   "execution_count": 27,
   "metadata": {},
   "outputs": [],
   "source": [
    "# Load the processed Mwai household:\n",
    "mwi_hhold = pd.read_csv(r\"C:\\Users\\micha\\Documents\\GitHub\\mkp_code\\Institute of Data Course\\Project 3\\data\\csv_data\\MWI_2010_household.csv\")"
   ]
  },
  {
   "cell_type": "code",
   "execution_count": null,
   "metadata": {},
   "outputs": [],
   "source": []
  },
  {
   "cell_type": "code",
   "execution_count": 28,
   "metadata": {},
   "outputs": [],
   "source": [
    "# Split Malawi data \n",
    "mwi_train, mwi_test = train_test_split(mwi_hhold, \n",
    "                                       test_size=0.25,\n",
    "                                       random_state=1443,\n",
    "                                       stratify=mwi_hhold.poor)"
   ]
  },
  {
   "cell_type": "code",
   "execution_count": null,
   "metadata": {},
   "outputs": [],
   "source": []
  },
  {
   "cell_type": "code",
   "execution_count": 29,
   "metadata": {},
   "outputs": [],
   "source": [
    "# load training data\n",
    "X_train, y_train, w_train = split_features_labels_weights(mwi_hhold)"
   ]
  },
  {
   "cell_type": "code",
   "execution_count": null,
   "metadata": {},
   "outputs": [],
   "source": []
  },
  {
   "cell_type": "code",
   "execution_count": null,
   "metadata": {},
   "outputs": [],
   "source": []
  },
  {
   "cell_type": "code",
   "execution_count": 30,
   "metadata": {},
   "outputs": [
    {
     "output_type": "stream",
     "name": "stdout",
     "text": "Data has 9,183 rows and 488 columns\nPercent poor: 45.1% \tPercent non-poor: 54.9%\n"
    },
    {
     "output_type": "execute_result",
     "data": {
      "text/plain": "                hid    wta_hh   wta_pop  der_hhsize   poor  hld_rooms  \\\n7927   304044580160  170.1948  850.9740           5   True          3   \n4210   205205820123  188.8692  566.6076           3  False          2   \n457    102016880095  143.9194  863.5164           6   True          5   \n11951  315356330210  234.7279  704.1837           3  False          3   \n11428  313061660067   78.5482  157.0964           2  False          1   \n\n       hld_nbcellpho  hld_selfscale  der_nchild10under  der_nmalesover10  ...  \\\n7927             0.0            1.0                  3                 1  ...   \n4210             1.0            3.0                  1                 1  ...   \n457              0.0            2.0                  3                 1  ...   \n11951            3.0            3.0                  1                 1  ...   \n11428            0.0            2.0                  0                 1  ...   \n\n       com_medicines__Yes  com_clinic__Yes  \\\n7927                    0                0   \n4210                    1                0   \n457                     0                0   \n11951                   1                1   \n11428                   1                0   \n\n       com_distclinic__11 to 15 kilometers  \\\n7927                                     0   \n4210                                     0   \n457                                      0   \n11951                                    0   \n11428                                    0   \n\n       com_distclinic__16 to 20 kilometers  \\\n7927                                     0   \n4210                                     0   \n457                                      0   \n11951                                    0   \n11428                                    1   \n\n       com_distclinic__21 to 25 kilometers  \\\n7927                                     0   \n4210                                     0   \n457                                      0   \n11951                                    0   \n11428                                    0   \n\n       com_distclinic__26 to 30 kilometers  \\\n7927                                     0   \n4210                                     0   \n457                                      0   \n11951                                    0   \n11428                                    0   \n\n       com_distclinic__6 to 10 kilometers  \\\n7927                                    0   \n4210                                    0   \n457                                     0   \n11951                                   0   \n11428                                   0   \n\n       com_distclinic__Above 30 kilometers  com_distclinic__nan  com_bank__Yes  \n7927                                     0                    0              0  \n4210                                     0                    0              0  \n457                                      0                    0              0  \n11951                                    0                    1              1  \n11428                                    0                    0              0  \n\n[5 rows x 488 columns]",
      "text/html": "<div>\n<style scoped>\n    .dataframe tbody tr th:only-of-type {\n        vertical-align: middle;\n    }\n\n    .dataframe tbody tr th {\n        vertical-align: top;\n    }\n\n    .dataframe thead th {\n        text-align: right;\n    }\n</style>\n<table border=\"1\" class=\"dataframe\">\n  <thead>\n    <tr style=\"text-align: right;\">\n      <th></th>\n      <th>hid</th>\n      <th>wta_hh</th>\n      <th>wta_pop</th>\n      <th>der_hhsize</th>\n      <th>poor</th>\n      <th>hld_rooms</th>\n      <th>hld_nbcellpho</th>\n      <th>hld_selfscale</th>\n      <th>der_nchild10under</th>\n      <th>der_nmalesover10</th>\n      <th>...</th>\n      <th>com_medicines__Yes</th>\n      <th>com_clinic__Yes</th>\n      <th>com_distclinic__11 to 15 kilometers</th>\n      <th>com_distclinic__16 to 20 kilometers</th>\n      <th>com_distclinic__21 to 25 kilometers</th>\n      <th>com_distclinic__26 to 30 kilometers</th>\n      <th>com_distclinic__6 to 10 kilometers</th>\n      <th>com_distclinic__Above 30 kilometers</th>\n      <th>com_distclinic__nan</th>\n      <th>com_bank__Yes</th>\n    </tr>\n  </thead>\n  <tbody>\n    <tr>\n      <th>7927</th>\n      <td>304044580160</td>\n      <td>170.1948</td>\n      <td>850.9740</td>\n      <td>5</td>\n      <td>True</td>\n      <td>3</td>\n      <td>0.0</td>\n      <td>1.0</td>\n      <td>3</td>\n      <td>1</td>\n      <td>...</td>\n      <td>0</td>\n      <td>0</td>\n      <td>0</td>\n      <td>0</td>\n      <td>0</td>\n      <td>0</td>\n      <td>0</td>\n      <td>0</td>\n      <td>0</td>\n      <td>0</td>\n    </tr>\n    <tr>\n      <th>4210</th>\n      <td>205205820123</td>\n      <td>188.8692</td>\n      <td>566.6076</td>\n      <td>3</td>\n      <td>False</td>\n      <td>2</td>\n      <td>1.0</td>\n      <td>3.0</td>\n      <td>1</td>\n      <td>1</td>\n      <td>...</td>\n      <td>1</td>\n      <td>0</td>\n      <td>0</td>\n      <td>0</td>\n      <td>0</td>\n      <td>0</td>\n      <td>0</td>\n      <td>0</td>\n      <td>0</td>\n      <td>0</td>\n    </tr>\n    <tr>\n      <th>457</th>\n      <td>102016880095</td>\n      <td>143.9194</td>\n      <td>863.5164</td>\n      <td>6</td>\n      <td>True</td>\n      <td>5</td>\n      <td>0.0</td>\n      <td>2.0</td>\n      <td>3</td>\n      <td>1</td>\n      <td>...</td>\n      <td>0</td>\n      <td>0</td>\n      <td>0</td>\n      <td>0</td>\n      <td>0</td>\n      <td>0</td>\n      <td>0</td>\n      <td>0</td>\n      <td>0</td>\n      <td>0</td>\n    </tr>\n    <tr>\n      <th>11951</th>\n      <td>315356330210</td>\n      <td>234.7279</td>\n      <td>704.1837</td>\n      <td>3</td>\n      <td>False</td>\n      <td>3</td>\n      <td>3.0</td>\n      <td>3.0</td>\n      <td>1</td>\n      <td>1</td>\n      <td>...</td>\n      <td>1</td>\n      <td>1</td>\n      <td>0</td>\n      <td>0</td>\n      <td>0</td>\n      <td>0</td>\n      <td>0</td>\n      <td>0</td>\n      <td>1</td>\n      <td>1</td>\n    </tr>\n    <tr>\n      <th>11428</th>\n      <td>313061660067</td>\n      <td>78.5482</td>\n      <td>157.0964</td>\n      <td>2</td>\n      <td>False</td>\n      <td>1</td>\n      <td>0.0</td>\n      <td>2.0</td>\n      <td>0</td>\n      <td>1</td>\n      <td>...</td>\n      <td>1</td>\n      <td>0</td>\n      <td>0</td>\n      <td>1</td>\n      <td>0</td>\n      <td>0</td>\n      <td>0</td>\n      <td>0</td>\n      <td>0</td>\n      <td>0</td>\n    </tr>\n  </tbody>\n</table>\n<p>5 rows × 488 columns</p>\n</div>"
     },
     "metadata": {},
     "execution_count": 30
    }
   ],
   "source": [
    "# summarize Train loaded data\n",
    "print('Data has {:,} rows and {:,} columns' \\\n",
    "        .format(*mwi_train.shape))\n",
    "\n",
    "print('Percent poor: {:0.1%} \\tPercent non-poor: {:0.1%}' \\\n",
    "        .format(*mwi_train.poor.value_counts(normalize=True, ascending=True)))\n",
    "\n",
    "# print first 5 rows of data\n",
    "mwi_train.head()"
   ]
  },
  {
   "cell_type": "code",
   "execution_count": null,
   "metadata": {},
   "outputs": [],
   "source": []
  },
  {
   "cell_type": "code",
   "execution_count": 31,
   "metadata": {},
   "outputs": [
    {
     "output_type": "stream",
     "name": "stdout",
     "text": "X shape with selected columns: (9183, 10)\n"
    }
   ],
   "source": [
    "# Select a few columns for this example\n",
    "selected_columns = [\n",
    "    'der_hhsize', \n",
    "    'der_nchild10under', \n",
    "    'der_nmalesover10', \n",
    "    'der_nfemalesover10',\n",
    "    'der_nliterate', \n",
    "    'der_nemployedpastyear',\n",
    "    'hld_electricity__Yes',\n",
    "    'hld_toilet__None',\n",
    "    'cons_0504__Yes',\n",
    "    'cons_0508__Yes'\n",
    "]\n",
    "\n",
    "print(\"X shape with selected columns:\", mwi_train[selected_columns].shape)"
   ]
  },
  {
   "cell_type": "markdown",
   "metadata": {},
   "source": [
    "## Checking for Multicollinearity:\n",
    "### Calcualting the variance inflation factor (VIF) of each feature."
   ]
  },
  {
   "cell_type": "code",
   "execution_count": 32,
   "metadata": {},
   "outputs": [],
   "source": [
    "def get_vif(X, intercept_col='intercept'):\n",
    "    if intercept_col is not None and intercept_col in X.columns:\n",
    "        X = X.copy().drop(intercept_col, axis=1)\n",
    "    \n",
    "    vi_factors = [variance_inflation_factor(X.values, i)\n",
    "                             for i in range(X.shape[1])]\n",
    "    \n",
    "    return pd.Series(vi_factors,\n",
    "                     index=X.columns,\n",
    "                     name='variance_inflaction_factor')"
   ]
  },
  {
   "cell_type": "code",
   "execution_count": null,
   "metadata": {},
   "outputs": [],
   "source": []
  },
  {
   "cell_type": "code",
   "execution_count": 33,
   "metadata": {},
   "outputs": [
    {
     "output_type": "execute_result",
     "data": {
      "text/plain": "der_hhsize               1142.050480\nder_nchild10under         206.466307\nder_nmalesover10          138.021692\nder_nfemalesover10        141.867242\nder_nliterate               5.616642\nder_nemployedpastyear       1.533041\nhld_electricity__Yes        1.471163\nhld_toilet__None            1.091630\ncons_0504__Yes              1.344652\ncons_0508__Yes              1.341629\nName: variance_inflaction_factor, dtype: float64"
     },
     "metadata": {},
     "execution_count": 33
    }
   ],
   "source": [
    "get_vif(mwi_train[selected_columns])"
   ]
  },
  {
   "cell_type": "code",
   "execution_count": null,
   "metadata": {},
   "outputs": [],
   "source": []
  },
  {
   "cell_type": "markdown",
   "metadata": {},
   "source": [
    "### Standardization "
   ]
  },
  {
   "cell_type": "code",
   "execution_count": 34,
   "metadata": {},
   "outputs": [],
   "source": [
    "# Standardize features\n",
    "def standardize(df, numeric_only=True):\n",
    "    if numeric_only is True:\n",
    "    # find non-boolean columns\n",
    "        cols = df.loc[:, df.dtypes != 'uint8'].columns\n",
    "    else:\n",
    "        cols = df.columns\n",
    "    for field in cols:\n",
    "        mean, std = df[field].mean(), df[field].std()\n",
    "        # account for constant columns\n",
    "        if np.all(df[field] - mean != 0):\n",
    "            df.loc[:, field] = (df[field] - mean) / std\n",
    "    \n",
    "    return df"
   ]
  },
  {
   "cell_type": "code",
   "execution_count": null,
   "metadata": {},
   "outputs": [],
   "source": []
  },
  {
   "cell_type": "code",
   "execution_count": 42,
   "metadata": {},
   "outputs": [
    {
     "output_type": "stream",
     "name": "stderr",
     "text": "C:\\Users\\micha\\Anaconda3\\lib\\site-packages\\pandas\\core\\indexing.py:1048: SettingWithCopyWarning: \nA value is trying to be set on a copy of a slice from a DataFrame.\nTry using .loc[row_indexer,col_indexer] = value instead\n\nSee the caveats in the documentation: https://pandas.pydata.org/pandas-docs/stable/user_guide/indexing.html#returning-a-view-versus-a-copy\n  self.obj[item_labels[indexer[info_axis]]] = value\n"
    },
    {
     "output_type": "execute_result",
     "data": {
      "text/plain": "            hid    wta_hh   wta_pop  der_hhsize      poor  hld_rooms  \\\n7927   0.898019 -0.463091 -0.289299    0.183527  1.102410   0.326073   \n4210  -0.375839 -0.356672 -0.560014   -0.721591 -0.907005  -0.512205   \n457   -1.705763 -0.612824 -0.277359    0.636087  1.102410   2.002628   \n11951  1.043807 -0.095341 -0.429043   -0.721591 -0.907005   0.326073   \n11428  1.014233 -0.985350 -0.949866   -1.174151 -0.907005  -1.350483   \n...         ...       ...       ...         ...       ...        ...   \n5430  -0.339037  1.670244  2.011053    0.636087  1.102410  -0.512205   \n11107  1.013599 -0.966039 -0.709404    0.183527 -0.907005  -0.512205   \n769   -1.692960 -0.698943 -0.976797   -1.626710 -0.907005  -1.350483   \n8471   0.923374 -0.730534 -0.747383   -0.721591 -0.907005  -1.350483   \n7712   0.897624 -0.635471 -0.699740   -0.721591 -0.907005   0.326073   \n\n       hld_nbcellpho  hld_selfscale  der_nchild10under  der_nmalesover10  ...  \\\n7927       -0.597364      -1.131563           0.977090         -0.398378  ...   \n4210        0.398207       1.089716          -0.483297         -0.398378  ...   \n457        -0.597364      -0.020924           0.977090         -0.398378  ...   \n11951       2.389348       1.089716          -0.483297         -0.398378  ...   \n11428      -0.597364      -0.020924          -1.213490         -0.398378  ...   \n...              ...            ...                ...               ...  ...   \n5430       -0.597364      -1.131563          -0.483297          0.572252  ...   \n11107      -0.597364       1.089716           0.246897         -0.398378  ...   \n769        -0.597364      -0.020924          -1.213490         -0.398378  ...   \n8471       -0.597364      -0.020924          -0.483297         -0.398378  ...   \n7712        0.398207      -0.020924          -0.483297         -0.398378  ...   \n\n       com_medicines__Yes  com_clinic__Yes  \\\n7927            -1.700716        -0.593458   \n4210             0.587923        -0.593458   \n457             -1.700716        -0.593458   \n11951            0.587923         1.684855   \n11428            0.587923        -0.593458   \n...                   ...              ...   \n5430             0.587923         1.684855   \n11107            0.587923        -0.593458   \n769              0.587923        -0.593458   \n8471             0.587923        -0.593458   \n7712             0.587923         1.684855   \n\n       com_distclinic__11 to 15 kilometers  \\\n7927                             -0.321636   \n4210                             -0.321636   \n457                              -0.321636   \n11951                            -0.321636   \n11428                            -0.321636   \n...                                    ...   \n5430                             -0.321636   \n11107                            -0.321636   \n769                              -0.321636   \n8471                             -0.321636   \n7712                             -0.321636   \n\n       com_distclinic__16 to 20 kilometers  \\\n7927                             -0.198159   \n4210                             -0.198159   \n457                              -0.198159   \n11951                            -0.198159   \n11428                             5.045910   \n...                                    ...   \n5430                             -0.198159   \n11107                            -0.198159   \n769                              -0.198159   \n8471                             -0.198159   \n7712                             -0.198159   \n\n       com_distclinic__21 to 25 kilometers  \\\n7927                             -0.096077   \n4210                             -0.096077   \n457                              -0.096077   \n11951                            -0.096077   \n11428                            -0.096077   \n...                                    ...   \n5430                             -0.096077   \n11107                            -0.096077   \n769                              -0.096077   \n8471                             -0.096077   \n7712                             -0.096077   \n\n       com_distclinic__26 to 30 kilometers  \\\n7927                             -0.150344   \n4210                             -0.150344   \n457                              -0.150344   \n11951                            -0.150344   \n11428                            -0.150344   \n...                                    ...   \n5430                             -0.150344   \n11107                            -0.150344   \n769                               6.650687   \n8471                             -0.150344   \n7712                             -0.150344   \n\n       com_distclinic__6 to 10 kilometers  \\\n7927                            -0.545987   \n4210                            -0.545987   \n457                             -0.545987   \n11951                           -0.545987   \n11428                           -0.545987   \n...                                   ...   \n5430                            -0.545987   \n11107                           -0.545987   \n769                             -0.545987   \n8471                            -0.545987   \n7712                            -0.545987   \n\n       com_distclinic__Above 30 kilometers  com_distclinic__nan  com_bank__Yes  \n7927                             -0.150344            -0.592787      -0.258440  \n4210                             -0.150344            -0.592787      -0.258440  \n457                              -0.150344            -0.592787      -0.258440  \n11951                            -0.150344             1.686762       3.868954  \n11428                            -0.150344            -0.592787      -0.258440  \n...                                    ...                  ...            ...  \n5430                             -0.150344             1.686762      -0.258440  \n11107                            -0.150344            -0.592787      -0.258440  \n769                              -0.150344            -0.592787      -0.258440  \n8471                              6.650687            -0.592787      -0.258440  \n7712                             -0.150344             1.686762      -0.258440  \n\n[9183 rows x 488 columns]",
      "text/html": "<div>\n<style scoped>\n    .dataframe tbody tr th:only-of-type {\n        vertical-align: middle;\n    }\n\n    .dataframe tbody tr th {\n        vertical-align: top;\n    }\n\n    .dataframe thead th {\n        text-align: right;\n    }\n</style>\n<table border=\"1\" class=\"dataframe\">\n  <thead>\n    <tr style=\"text-align: right;\">\n      <th></th>\n      <th>hid</th>\n      <th>wta_hh</th>\n      <th>wta_pop</th>\n      <th>der_hhsize</th>\n      <th>poor</th>\n      <th>hld_rooms</th>\n      <th>hld_nbcellpho</th>\n      <th>hld_selfscale</th>\n      <th>der_nchild10under</th>\n      <th>der_nmalesover10</th>\n      <th>...</th>\n      <th>com_medicines__Yes</th>\n      <th>com_clinic__Yes</th>\n      <th>com_distclinic__11 to 15 kilometers</th>\n      <th>com_distclinic__16 to 20 kilometers</th>\n      <th>com_distclinic__21 to 25 kilometers</th>\n      <th>com_distclinic__26 to 30 kilometers</th>\n      <th>com_distclinic__6 to 10 kilometers</th>\n      <th>com_distclinic__Above 30 kilometers</th>\n      <th>com_distclinic__nan</th>\n      <th>com_bank__Yes</th>\n    </tr>\n  </thead>\n  <tbody>\n    <tr>\n      <th>7927</th>\n      <td>0.898019</td>\n      <td>-0.463091</td>\n      <td>-0.289299</td>\n      <td>0.183527</td>\n      <td>1.102410</td>\n      <td>0.326073</td>\n      <td>-0.597364</td>\n      <td>-1.131563</td>\n      <td>0.977090</td>\n      <td>-0.398378</td>\n      <td>...</td>\n      <td>-1.700716</td>\n      <td>-0.593458</td>\n      <td>-0.321636</td>\n      <td>-0.198159</td>\n      <td>-0.096077</td>\n      <td>-0.150344</td>\n      <td>-0.545987</td>\n      <td>-0.150344</td>\n      <td>-0.592787</td>\n      <td>-0.258440</td>\n    </tr>\n    <tr>\n      <th>4210</th>\n      <td>-0.375839</td>\n      <td>-0.356672</td>\n      <td>-0.560014</td>\n      <td>-0.721591</td>\n      <td>-0.907005</td>\n      <td>-0.512205</td>\n      <td>0.398207</td>\n      <td>1.089716</td>\n      <td>-0.483297</td>\n      <td>-0.398378</td>\n      <td>...</td>\n      <td>0.587923</td>\n      <td>-0.593458</td>\n      <td>-0.321636</td>\n      <td>-0.198159</td>\n      <td>-0.096077</td>\n      <td>-0.150344</td>\n      <td>-0.545987</td>\n      <td>-0.150344</td>\n      <td>-0.592787</td>\n      <td>-0.258440</td>\n    </tr>\n    <tr>\n      <th>457</th>\n      <td>-1.705763</td>\n      <td>-0.612824</td>\n      <td>-0.277359</td>\n      <td>0.636087</td>\n      <td>1.102410</td>\n      <td>2.002628</td>\n      <td>-0.597364</td>\n      <td>-0.020924</td>\n      <td>0.977090</td>\n      <td>-0.398378</td>\n      <td>...</td>\n      <td>-1.700716</td>\n      <td>-0.593458</td>\n      <td>-0.321636</td>\n      <td>-0.198159</td>\n      <td>-0.096077</td>\n      <td>-0.150344</td>\n      <td>-0.545987</td>\n      <td>-0.150344</td>\n      <td>-0.592787</td>\n      <td>-0.258440</td>\n    </tr>\n    <tr>\n      <th>11951</th>\n      <td>1.043807</td>\n      <td>-0.095341</td>\n      <td>-0.429043</td>\n      <td>-0.721591</td>\n      <td>-0.907005</td>\n      <td>0.326073</td>\n      <td>2.389348</td>\n      <td>1.089716</td>\n      <td>-0.483297</td>\n      <td>-0.398378</td>\n      <td>...</td>\n      <td>0.587923</td>\n      <td>1.684855</td>\n      <td>-0.321636</td>\n      <td>-0.198159</td>\n      <td>-0.096077</td>\n      <td>-0.150344</td>\n      <td>-0.545987</td>\n      <td>-0.150344</td>\n      <td>1.686762</td>\n      <td>3.868954</td>\n    </tr>\n    <tr>\n      <th>11428</th>\n      <td>1.014233</td>\n      <td>-0.985350</td>\n      <td>-0.949866</td>\n      <td>-1.174151</td>\n      <td>-0.907005</td>\n      <td>-1.350483</td>\n      <td>-0.597364</td>\n      <td>-0.020924</td>\n      <td>-1.213490</td>\n      <td>-0.398378</td>\n      <td>...</td>\n      <td>0.587923</td>\n      <td>-0.593458</td>\n      <td>-0.321636</td>\n      <td>5.045910</td>\n      <td>-0.096077</td>\n      <td>-0.150344</td>\n      <td>-0.545987</td>\n      <td>-0.150344</td>\n      <td>-0.592787</td>\n      <td>-0.258440</td>\n    </tr>\n    <tr>\n      <th>...</th>\n      <td>...</td>\n      <td>...</td>\n      <td>...</td>\n      <td>...</td>\n      <td>...</td>\n      <td>...</td>\n      <td>...</td>\n      <td>...</td>\n      <td>...</td>\n      <td>...</td>\n      <td>...</td>\n      <td>...</td>\n      <td>...</td>\n      <td>...</td>\n      <td>...</td>\n      <td>...</td>\n      <td>...</td>\n      <td>...</td>\n      <td>...</td>\n      <td>...</td>\n      <td>...</td>\n    </tr>\n    <tr>\n      <th>5430</th>\n      <td>-0.339037</td>\n      <td>1.670244</td>\n      <td>2.011053</td>\n      <td>0.636087</td>\n      <td>1.102410</td>\n      <td>-0.512205</td>\n      <td>-0.597364</td>\n      <td>-1.131563</td>\n      <td>-0.483297</td>\n      <td>0.572252</td>\n      <td>...</td>\n      <td>0.587923</td>\n      <td>1.684855</td>\n      <td>-0.321636</td>\n      <td>-0.198159</td>\n      <td>-0.096077</td>\n      <td>-0.150344</td>\n      <td>-0.545987</td>\n      <td>-0.150344</td>\n      <td>1.686762</td>\n      <td>-0.258440</td>\n    </tr>\n    <tr>\n      <th>11107</th>\n      <td>1.013599</td>\n      <td>-0.966039</td>\n      <td>-0.709404</td>\n      <td>0.183527</td>\n      <td>-0.907005</td>\n      <td>-0.512205</td>\n      <td>-0.597364</td>\n      <td>1.089716</td>\n      <td>0.246897</td>\n      <td>-0.398378</td>\n      <td>...</td>\n      <td>0.587923</td>\n      <td>-0.593458</td>\n      <td>-0.321636</td>\n      <td>-0.198159</td>\n      <td>-0.096077</td>\n      <td>-0.150344</td>\n      <td>-0.545987</td>\n      <td>-0.150344</td>\n      <td>-0.592787</td>\n      <td>-0.258440</td>\n    </tr>\n    <tr>\n      <th>769</th>\n      <td>-1.692960</td>\n      <td>-0.698943</td>\n      <td>-0.976797</td>\n      <td>-1.626710</td>\n      <td>-0.907005</td>\n      <td>-1.350483</td>\n      <td>-0.597364</td>\n      <td>-0.020924</td>\n      <td>-1.213490</td>\n      <td>-0.398378</td>\n      <td>...</td>\n      <td>0.587923</td>\n      <td>-0.593458</td>\n      <td>-0.321636</td>\n      <td>-0.198159</td>\n      <td>-0.096077</td>\n      <td>6.650687</td>\n      <td>-0.545987</td>\n      <td>-0.150344</td>\n      <td>-0.592787</td>\n      <td>-0.258440</td>\n    </tr>\n    <tr>\n      <th>8471</th>\n      <td>0.923374</td>\n      <td>-0.730534</td>\n      <td>-0.747383</td>\n      <td>-0.721591</td>\n      <td>-0.907005</td>\n      <td>-1.350483</td>\n      <td>-0.597364</td>\n      <td>-0.020924</td>\n      <td>-0.483297</td>\n      <td>-0.398378</td>\n      <td>...</td>\n      <td>0.587923</td>\n      <td>-0.593458</td>\n      <td>-0.321636</td>\n      <td>-0.198159</td>\n      <td>-0.096077</td>\n      <td>-0.150344</td>\n      <td>-0.545987</td>\n      <td>6.650687</td>\n      <td>-0.592787</td>\n      <td>-0.258440</td>\n    </tr>\n    <tr>\n      <th>7712</th>\n      <td>0.897624</td>\n      <td>-0.635471</td>\n      <td>-0.699740</td>\n      <td>-0.721591</td>\n      <td>-0.907005</td>\n      <td>0.326073</td>\n      <td>0.398207</td>\n      <td>-0.020924</td>\n      <td>-0.483297</td>\n      <td>-0.398378</td>\n      <td>...</td>\n      <td>0.587923</td>\n      <td>1.684855</td>\n      <td>-0.321636</td>\n      <td>-0.198159</td>\n      <td>-0.096077</td>\n      <td>-0.150344</td>\n      <td>-0.545987</td>\n      <td>-0.150344</td>\n      <td>1.686762</td>\n      <td>-0.258440</td>\n    </tr>\n  </tbody>\n</table>\n<p>9183 rows × 488 columns</p>\n</div>"
     },
     "metadata": {},
     "execution_count": 42
    }
   ],
   "source": [
    "standardize(mwi_train)"
   ]
  },
  {
   "cell_type": "code",
   "execution_count": null,
   "metadata": {},
   "outputs": [],
   "source": []
  },
  {
   "cell_type": "code",
   "execution_count": 43,
   "metadata": {},
   "outputs": [
    {
     "output_type": "execute_result",
     "data": {
      "text/plain": "       der_nchild10under  der_nmalesover10  der_nfemalesover10  der_nliterate  \\\n7927            0.977090         -0.398378           -0.549568      -0.083075   \n4210           -0.483297         -0.398378           -0.549568      -0.083075   \n457             0.977090         -0.398378            0.535040      -0.083075   \n11951          -0.483297         -0.398378           -0.549568       0.492247   \n11428          -1.213490         -0.398378           -0.549568      -0.083075   \n...                  ...               ...                 ...            ...   \n5430           -0.483297          0.572252            1.619648      -0.658397   \n11107           0.246897         -0.398378            0.535040      -0.083075   \n769            -1.213490         -0.398378           -1.634176      -0.658397   \n8471           -0.483297         -0.398378           -0.549568      -0.083075   \n7712           -0.483297         -0.398378           -0.549568      -0.083075   \n\n       der_nemployedpastyear  hld_electricity__Yes  hld_toilet__None  \\\n7927               -0.503193             -0.307632         -0.316665   \n4210                1.318897             -0.307632         -0.316665   \n457                -0.503193             -0.307632         -0.316665   \n11951               1.318897              3.250283         -0.316665   \n11428              -0.503193             -0.307632         -0.316665   \n...                      ...                   ...               ...   \n5430               -0.503193             -0.307632         -0.316665   \n11107              -0.503193             -0.307632         -0.316665   \n769                -0.503193             -0.307632          3.157569   \n8471               -0.503193             -0.307632         -0.316665   \n7712               -0.503193             -0.307632          3.157569   \n\n       cons_0504__Yes  cons_0508__Yes  \n7927        -0.361605       -0.513617  \n4210        -0.361605       -0.513617  \n457         -0.361605       -0.513617  \n11951        2.765151        1.946763  \n11428       -0.361605       -0.513617  \n...               ...             ...  \n5430        -0.361605       -0.513617  \n11107       -0.361605       -0.513617  \n769         -0.361605       -0.513617  \n8471        -0.361605       -0.513617  \n7712        -0.361605        1.946763  \n\n[9183 rows x 9 columns]",
      "text/html": "<div>\n<style scoped>\n    .dataframe tbody tr th:only-of-type {\n        vertical-align: middle;\n    }\n\n    .dataframe tbody tr th {\n        vertical-align: top;\n    }\n\n    .dataframe thead th {\n        text-align: right;\n    }\n</style>\n<table border=\"1\" class=\"dataframe\">\n  <thead>\n    <tr style=\"text-align: right;\">\n      <th></th>\n      <th>der_nchild10under</th>\n      <th>der_nmalesover10</th>\n      <th>der_nfemalesover10</th>\n      <th>der_nliterate</th>\n      <th>der_nemployedpastyear</th>\n      <th>hld_electricity__Yes</th>\n      <th>hld_toilet__None</th>\n      <th>cons_0504__Yes</th>\n      <th>cons_0508__Yes</th>\n    </tr>\n  </thead>\n  <tbody>\n    <tr>\n      <th>7927</th>\n      <td>0.977090</td>\n      <td>-0.398378</td>\n      <td>-0.549568</td>\n      <td>-0.083075</td>\n      <td>-0.503193</td>\n      <td>-0.307632</td>\n      <td>-0.316665</td>\n      <td>-0.361605</td>\n      <td>-0.513617</td>\n    </tr>\n    <tr>\n      <th>4210</th>\n      <td>-0.483297</td>\n      <td>-0.398378</td>\n      <td>-0.549568</td>\n      <td>-0.083075</td>\n      <td>1.318897</td>\n      <td>-0.307632</td>\n      <td>-0.316665</td>\n      <td>-0.361605</td>\n      <td>-0.513617</td>\n    </tr>\n    <tr>\n      <th>457</th>\n      <td>0.977090</td>\n      <td>-0.398378</td>\n      <td>0.535040</td>\n      <td>-0.083075</td>\n      <td>-0.503193</td>\n      <td>-0.307632</td>\n      <td>-0.316665</td>\n      <td>-0.361605</td>\n      <td>-0.513617</td>\n    </tr>\n    <tr>\n      <th>11951</th>\n      <td>-0.483297</td>\n      <td>-0.398378</td>\n      <td>-0.549568</td>\n      <td>0.492247</td>\n      <td>1.318897</td>\n      <td>3.250283</td>\n      <td>-0.316665</td>\n      <td>2.765151</td>\n      <td>1.946763</td>\n    </tr>\n    <tr>\n      <th>11428</th>\n      <td>-1.213490</td>\n      <td>-0.398378</td>\n      <td>-0.549568</td>\n      <td>-0.083075</td>\n      <td>-0.503193</td>\n      <td>-0.307632</td>\n      <td>-0.316665</td>\n      <td>-0.361605</td>\n      <td>-0.513617</td>\n    </tr>\n    <tr>\n      <th>...</th>\n      <td>...</td>\n      <td>...</td>\n      <td>...</td>\n      <td>...</td>\n      <td>...</td>\n      <td>...</td>\n      <td>...</td>\n      <td>...</td>\n      <td>...</td>\n    </tr>\n    <tr>\n      <th>5430</th>\n      <td>-0.483297</td>\n      <td>0.572252</td>\n      <td>1.619648</td>\n      <td>-0.658397</td>\n      <td>-0.503193</td>\n      <td>-0.307632</td>\n      <td>-0.316665</td>\n      <td>-0.361605</td>\n      <td>-0.513617</td>\n    </tr>\n    <tr>\n      <th>11107</th>\n      <td>0.246897</td>\n      <td>-0.398378</td>\n      <td>0.535040</td>\n      <td>-0.083075</td>\n      <td>-0.503193</td>\n      <td>-0.307632</td>\n      <td>-0.316665</td>\n      <td>-0.361605</td>\n      <td>-0.513617</td>\n    </tr>\n    <tr>\n      <th>769</th>\n      <td>-1.213490</td>\n      <td>-0.398378</td>\n      <td>-1.634176</td>\n      <td>-0.658397</td>\n      <td>-0.503193</td>\n      <td>-0.307632</td>\n      <td>3.157569</td>\n      <td>-0.361605</td>\n      <td>-0.513617</td>\n    </tr>\n    <tr>\n      <th>8471</th>\n      <td>-0.483297</td>\n      <td>-0.398378</td>\n      <td>-0.549568</td>\n      <td>-0.083075</td>\n      <td>-0.503193</td>\n      <td>-0.307632</td>\n      <td>-0.316665</td>\n      <td>-0.361605</td>\n      <td>-0.513617</td>\n    </tr>\n    <tr>\n      <th>7712</th>\n      <td>-0.483297</td>\n      <td>-0.398378</td>\n      <td>-0.549568</td>\n      <td>-0.083075</td>\n      <td>-0.503193</td>\n      <td>-0.307632</td>\n      <td>3.157569</td>\n      <td>-0.361605</td>\n      <td>1.946763</td>\n    </tr>\n  </tbody>\n</table>\n<p>9183 rows × 9 columns</p>\n</div>"
     },
     "metadata": {},
     "execution_count": 43
    }
   ],
   "source": [
    "mwi_train[selected_columns]"
   ]
  },
  {
   "cell_type": "code",
   "execution_count": null,
   "metadata": {},
   "outputs": [],
   "source": []
  },
  {
   "cell_type": "code",
   "execution_count": 44,
   "metadata": {},
   "outputs": [
    {
     "output_type": "execute_result",
     "data": {
      "text/plain": "der_nchild10under        1.054748\nder_nmalesover10         1.511700\nder_nfemalesover10       1.422928\nder_nliterate            2.256803\nder_nemployedpastyear    1.237311\nhld_electricity__Yes     1.344378\nhld_toilet__None         1.043731\ncons_0504__Yes           1.194295\ncons_0508__Yes           1.077012\nName: variance_inflaction_factor, dtype: float64"
     },
     "metadata": {},
     "execution_count": 44
    }
   ],
   "source": [
    "get_vif(mwi_train[selected_columns])"
   ]
  },
  {
   "cell_type": "code",
   "execution_count": null,
   "metadata": {},
   "outputs": [],
   "source": []
  },
  {
   "cell_type": "code",
   "execution_count": 45,
   "metadata": {},
   "outputs": [
    {
     "output_type": "error",
     "ename": "ValueError",
     "evalue": "list.remove(x): x not in list",
     "traceback": [
      "\u001b[1;31m---------------------------------------------------------------------------\u001b[0m",
      "\u001b[1;31mValueError\u001b[0m                                Traceback (most recent call last)",
      "\u001b[1;32m<ipython-input-45-908e7eaa7ae5>\u001b[0m in \u001b[0;36m<module>\u001b[1;34m\u001b[0m\n\u001b[1;32m----> 1\u001b[1;33m \u001b[0mselected_columns\u001b[0m\u001b[1;33m.\u001b[0m\u001b[0mremove\u001b[0m\u001b[1;33m(\u001b[0m\u001b[1;34m'der_hhsize'\u001b[0m\u001b[1;33m)\u001b[0m\u001b[1;33m\u001b[0m\u001b[1;33m\u001b[0m\u001b[0m\n\u001b[0m\u001b[0;32m      2\u001b[0m \u001b[0mprint\u001b[0m\u001b[1;33m(\u001b[0m\u001b[0mselected_columns\u001b[0m\u001b[1;33m)\u001b[0m\u001b[1;33m\u001b[0m\u001b[1;33m\u001b[0m\u001b[0m\n\u001b[0;32m      3\u001b[0m \u001b[1;33m\u001b[0m\u001b[0m\n\u001b[0;32m      4\u001b[0m \u001b[0mget_vif\u001b[0m\u001b[1;33m(\u001b[0m\u001b[0mmwi_train\u001b[0m\u001b[1;33m[\u001b[0m\u001b[0mselected_columns\u001b[0m\u001b[1;33m]\u001b[0m\u001b[1;33m)\u001b[0m\u001b[1;33m\u001b[0m\u001b[1;33m\u001b[0m\u001b[0m\n",
      "\u001b[1;31mValueError\u001b[0m: list.remove(x): x not in list"
     ]
    }
   ],
   "source": [
    "selected_columns.remove('der_hhsize')\n",
    "print(selected_columns)"
   ]
  },
  {
   "cell_type": "code",
   "execution_count": null,
   "metadata": {},
   "outputs": [],
   "source": []
  },
  {
   "cell_type": "code",
   "execution_count": 46,
   "metadata": {},
   "outputs": [
    {
     "output_type": "execute_result",
     "data": {
      "text/plain": "der_nchild10under        1.054748\nder_nmalesover10         1.511700\nder_nfemalesover10       1.422928\nder_nliterate            2.256803\nder_nemployedpastyear    1.237311\nhld_electricity__Yes     1.344378\nhld_toilet__None         1.043731\ncons_0504__Yes           1.194295\ncons_0508__Yes           1.077012\nName: variance_inflaction_factor, dtype: float64"
     },
     "metadata": {},
     "execution_count": 46
    }
   ],
   "source": [
    "get_vif(mwi_train[selected_columns])"
   ]
  },
  {
   "cell_type": "code",
   "execution_count": null,
   "metadata": {},
   "outputs": [],
   "source": []
  },
  {
   "cell_type": "code",
   "execution_count": 47,
   "metadata": {},
   "outputs": [
    {
     "output_type": "stream",
     "name": "stdout",
     "text": "Optimization terminated successfully.\n         Current function value: 0.518673\n         Iterations 8\n"
    }
   ],
   "source": [
    "model = sm.Logit(y_train, X_train[selected_columns])\n",
    "model = model.fit()"
   ]
  },
  {
   "cell_type": "code",
   "execution_count": null,
   "metadata": {},
   "outputs": [],
   "source": []
  },
  {
   "cell_type": "code",
   "execution_count": 48,
   "metadata": {},
   "outputs": [],
   "source": [
    "# The co-efficients \n",
    "def get_coefs_df(X, coefs, index=None, sort=True):\n",
    "    coefs_df = pd.DataFrame(np.std(X, 0) * coefs)\n",
    "    coefs_df.columns = [\"coef_std\"]\n",
    "    coefs_df['coef'] = coefs\n",
    "    coefs_df['abs'] = coefs_df.coef_std.apply(abs)\n",
    "    if index is not None:\n",
    "        coefs_df.index = index\n",
    "    if sort:\n",
    "        coefs_df = coefs_df.sort_values('abs', ascending=False)\n",
    "    return coefs_df"
   ]
  },
  {
   "cell_type": "code",
   "execution_count": null,
   "metadata": {},
   "outputs": [],
   "source": []
  },
  {
   "cell_type": "code",
   "execution_count": 49,
   "metadata": {},
   "outputs": [
    {
     "output_type": "execute_result",
     "data": {
      "text/plain": "                       coef_std      coef       abs\nhld_electricity__Yes  -0.790587 -2.803033  0.790587\ncons_0508__Yes        -0.727161 -1.793858  0.727161\ncons_0504__Yes        -0.624495 -1.946197  0.624495\nder_nchild10under      0.588446  0.428775  0.588446\nder_nliterate         -0.533349 -0.306404  0.533349\nder_nemployedpastyear -0.478337 -0.872697  0.478337\nder_nmalesover10       0.274751  0.265612  0.274751\nder_nfemalesover10     0.203557  0.220500  0.203557\nhld_toilet__None       0.016672  0.058066  0.016672",
      "text/html": "<div>\n<style scoped>\n    .dataframe tbody tr th:only-of-type {\n        vertical-align: middle;\n    }\n\n    .dataframe tbody tr th {\n        vertical-align: top;\n    }\n\n    .dataframe thead th {\n        text-align: right;\n    }\n</style>\n<table border=\"1\" class=\"dataframe\">\n  <thead>\n    <tr style=\"text-align: right;\">\n      <th></th>\n      <th>coef_std</th>\n      <th>coef</th>\n      <th>abs</th>\n    </tr>\n  </thead>\n  <tbody>\n    <tr>\n      <th>hld_electricity__Yes</th>\n      <td>-0.790587</td>\n      <td>-2.803033</td>\n      <td>0.790587</td>\n    </tr>\n    <tr>\n      <th>cons_0508__Yes</th>\n      <td>-0.727161</td>\n      <td>-1.793858</td>\n      <td>0.727161</td>\n    </tr>\n    <tr>\n      <th>cons_0504__Yes</th>\n      <td>-0.624495</td>\n      <td>-1.946197</td>\n      <td>0.624495</td>\n    </tr>\n    <tr>\n      <th>der_nchild10under</th>\n      <td>0.588446</td>\n      <td>0.428775</td>\n      <td>0.588446</td>\n    </tr>\n    <tr>\n      <th>der_nliterate</th>\n      <td>-0.533349</td>\n      <td>-0.306404</td>\n      <td>0.533349</td>\n    </tr>\n    <tr>\n      <th>der_nemployedpastyear</th>\n      <td>-0.478337</td>\n      <td>-0.872697</td>\n      <td>0.478337</td>\n    </tr>\n    <tr>\n      <th>der_nmalesover10</th>\n      <td>0.274751</td>\n      <td>0.265612</td>\n      <td>0.274751</td>\n    </tr>\n    <tr>\n      <th>der_nfemalesover10</th>\n      <td>0.203557</td>\n      <td>0.220500</td>\n      <td>0.203557</td>\n    </tr>\n    <tr>\n      <th>hld_toilet__None</th>\n      <td>0.016672</td>\n      <td>0.058066</td>\n      <td>0.016672</td>\n    </tr>\n  </tbody>\n</table>\n</div>"
     },
     "metadata": {},
     "execution_count": 49
    }
   ],
   "source": [
    "coefs = get_coefs_df(X_train[selected_columns], model.params)\n",
    "coefs"
   ]
  },
  {
   "cell_type": "markdown",
   "metadata": {},
   "source": [
    "### Logit Model Evaluation"
   ]
  },
  {
   "cell_type": "code",
   "execution_count": 50,
   "metadata": {},
   "outputs": [],
   "source": [
    "X_test, y_test, w_test = split_features_labels_weights(mwi_hhold)"
   ]
  },
  {
   "cell_type": "code",
   "execution_count": 51,
   "metadata": {},
   "outputs": [
    {
     "output_type": "execute_result",
     "data": {
      "text/plain": "            hid  der_hhsize  hld_rooms  hld_nbcellpho  hld_selfscale  \\\n0     -1.718803    0.631464  -0.512009      -0.604215      -0.019798   \n1     -1.718803   -0.268926   0.326771      -0.604215      -1.126661   \n2     -1.718803    2.432243   2.843110       0.395516      -1.126661   \n3     -1.718803    1.982048   0.326771      -0.604215      -0.019798   \n4     -1.718803   -1.619510  -0.512009      -0.604215       1.087066   \n...         ...         ...        ...            ...            ...   \n12239  1.041029   -0.719120  -0.512009       0.395516      -1.126661   \n12240  1.041029   -1.169315  -1.350789      -0.604215      -0.019798   \n12241  1.041029   -1.169315  -0.512009       0.395516      -0.019798   \n12242  1.041029    0.181269  -0.512009       0.395516      -1.126661   \n12243  1.041029    1.081659   1.165550       0.395516       1.087066   \n\n       der_nchild10under  der_nmalesover10  der_nfemalesover10  der_nliterate  \\\n0               1.707131         -0.405264           -0.546902      -0.086940   \n1              -0.478749          0.561432           -0.546902      -0.661407   \n2               1.707131          1.528128            1.619474       1.061995   \n3               1.707131          1.528128            0.536286       2.210930   \n4              -1.207376         -0.405264           -1.630090      -0.661407   \n...                  ...               ...                 ...            ...   \n12239          -0.478749         -0.405264           -0.546902      -0.086940   \n12240          -1.207376         -0.405264           -0.546902      -0.661407   \n12241          -1.207376         -0.405264           -0.546902      -0.086940   \n12242           0.249878          0.561432           -0.546902      -0.086940   \n12243           0.249878          0.561432            1.619474       2.785397   \n\n       der_nemployedpastyear  ...  com_medicines__Yes  com_clinic__Yes  \\\n0                  -0.511519  ...           -1.719993        -0.597577   \n1                  -0.511519  ...           -1.719993        -0.597577   \n2                   1.312845  ...           -1.719993        -0.597577   \n3                  -0.511519  ...           -1.719993        -0.597577   \n4                  -0.511519  ...           -1.719993        -0.597577   \n...                      ...  ...                 ...              ...   \n12239               1.312845  ...            0.581350        -0.597577   \n12240               1.312845  ...            0.581350        -0.597577   \n12241               1.312845  ...            0.581350        -0.597577   \n12242               3.137210  ...            0.581350        -0.597577   \n12243               1.312845  ...            0.581350        -0.597577   \n\n       com_distclinic__11 to 15 kilometers  \\\n0                                -0.321176   \n1                                -0.321176   \n2                                -0.321176   \n3                                -0.321176   \n4                                -0.321176   \n...                                    ...   \n12239                            -0.321176   \n12240                            -0.321176   \n12241                            -0.321176   \n12242                            -0.321176   \n12243                            -0.321176   \n\n       com_distclinic__16 to 20 kilometers  \\\n0                                -0.198458   \n1                                -0.198458   \n2                                -0.198458   \n3                                -0.198458   \n4                                -0.198458   \n...                                    ...   \n12239                            -0.198458   \n12240                            -0.198458   \n12241                            -0.198458   \n12242                            -0.198458   \n12243                            -0.198458   \n\n       com_distclinic__21 to 25 kilometers  \\\n0                                10.454539   \n1                                10.454539   \n2                                10.454539   \n3                                10.454539   \n4                                10.454539   \n...                                    ...   \n12239                            -0.095644   \n12240                            -0.095644   \n12241                            -0.095644   \n12242                            -0.095644   \n12243                            -0.095644   \n\n       com_distclinic__26 to 30 kilometers  \\\n0                                -0.150441   \n1                                -0.150441   \n2                                -0.150441   \n3                                -0.150441   \n4                                -0.150441   \n...                                    ...   \n12239                            -0.150441   \n12240                            -0.150441   \n12241                            -0.150441   \n12242                            -0.150441   \n12243                            -0.150441   \n\n       com_distclinic__6 to 10 kilometers  \\\n0                               -0.545238   \n1                               -0.545238   \n2                               -0.545238   \n3                               -0.545238   \n4                               -0.545238   \n...                                   ...   \n12239                            1.833912   \n12240                            1.833912   \n12241                            1.833912   \n12242                            1.833912   \n12243                            1.833912   \n\n       com_distclinic__Above 30 kilometers  com_distclinic__nan  com_bank__Yes  \n0                                -0.145542            -0.597577      -0.258143  \n1                                -0.145542            -0.597577      -0.258143  \n2                                -0.145542            -0.597577      -0.258143  \n3                                -0.145542            -0.597577      -0.258143  \n4                                -0.145542            -0.597577      -0.258143  \n...                                    ...                  ...            ...  \n12239                            -0.145542            -0.597577      -0.258143  \n12240                            -0.145542            -0.597577      -0.258143  \n12241                            -0.145542            -0.597577      -0.258143  \n12242                            -0.145542            -0.597577      -0.258143  \n12243                            -0.145542            -0.597577      -0.258143  \n\n[12244 rows x 485 columns]",
      "text/html": "<div>\n<style scoped>\n    .dataframe tbody tr th:only-of-type {\n        vertical-align: middle;\n    }\n\n    .dataframe tbody tr th {\n        vertical-align: top;\n    }\n\n    .dataframe thead th {\n        text-align: right;\n    }\n</style>\n<table border=\"1\" class=\"dataframe\">\n  <thead>\n    <tr style=\"text-align: right;\">\n      <th></th>\n      <th>hid</th>\n      <th>der_hhsize</th>\n      <th>hld_rooms</th>\n      <th>hld_nbcellpho</th>\n      <th>hld_selfscale</th>\n      <th>der_nchild10under</th>\n      <th>der_nmalesover10</th>\n      <th>der_nfemalesover10</th>\n      <th>der_nliterate</th>\n      <th>der_nemployedpastyear</th>\n      <th>...</th>\n      <th>com_medicines__Yes</th>\n      <th>com_clinic__Yes</th>\n      <th>com_distclinic__11 to 15 kilometers</th>\n      <th>com_distclinic__16 to 20 kilometers</th>\n      <th>com_distclinic__21 to 25 kilometers</th>\n      <th>com_distclinic__26 to 30 kilometers</th>\n      <th>com_distclinic__6 to 10 kilometers</th>\n      <th>com_distclinic__Above 30 kilometers</th>\n      <th>com_distclinic__nan</th>\n      <th>com_bank__Yes</th>\n    </tr>\n  </thead>\n  <tbody>\n    <tr>\n      <th>0</th>\n      <td>-1.718803</td>\n      <td>0.631464</td>\n      <td>-0.512009</td>\n      <td>-0.604215</td>\n      <td>-0.019798</td>\n      <td>1.707131</td>\n      <td>-0.405264</td>\n      <td>-0.546902</td>\n      <td>-0.086940</td>\n      <td>-0.511519</td>\n      <td>...</td>\n      <td>-1.719993</td>\n      <td>-0.597577</td>\n      <td>-0.321176</td>\n      <td>-0.198458</td>\n      <td>10.454539</td>\n      <td>-0.150441</td>\n      <td>-0.545238</td>\n      <td>-0.145542</td>\n      <td>-0.597577</td>\n      <td>-0.258143</td>\n    </tr>\n    <tr>\n      <th>1</th>\n      <td>-1.718803</td>\n      <td>-0.268926</td>\n      <td>0.326771</td>\n      <td>-0.604215</td>\n      <td>-1.126661</td>\n      <td>-0.478749</td>\n      <td>0.561432</td>\n      <td>-0.546902</td>\n      <td>-0.661407</td>\n      <td>-0.511519</td>\n      <td>...</td>\n      <td>-1.719993</td>\n      <td>-0.597577</td>\n      <td>-0.321176</td>\n      <td>-0.198458</td>\n      <td>10.454539</td>\n      <td>-0.150441</td>\n      <td>-0.545238</td>\n      <td>-0.145542</td>\n      <td>-0.597577</td>\n      <td>-0.258143</td>\n    </tr>\n    <tr>\n      <th>2</th>\n      <td>-1.718803</td>\n      <td>2.432243</td>\n      <td>2.843110</td>\n      <td>0.395516</td>\n      <td>-1.126661</td>\n      <td>1.707131</td>\n      <td>1.528128</td>\n      <td>1.619474</td>\n      <td>1.061995</td>\n      <td>1.312845</td>\n      <td>...</td>\n      <td>-1.719993</td>\n      <td>-0.597577</td>\n      <td>-0.321176</td>\n      <td>-0.198458</td>\n      <td>10.454539</td>\n      <td>-0.150441</td>\n      <td>-0.545238</td>\n      <td>-0.145542</td>\n      <td>-0.597577</td>\n      <td>-0.258143</td>\n    </tr>\n    <tr>\n      <th>3</th>\n      <td>-1.718803</td>\n      <td>1.982048</td>\n      <td>0.326771</td>\n      <td>-0.604215</td>\n      <td>-0.019798</td>\n      <td>1.707131</td>\n      <td>1.528128</td>\n      <td>0.536286</td>\n      <td>2.210930</td>\n      <td>-0.511519</td>\n      <td>...</td>\n      <td>-1.719993</td>\n      <td>-0.597577</td>\n      <td>-0.321176</td>\n      <td>-0.198458</td>\n      <td>10.454539</td>\n      <td>-0.150441</td>\n      <td>-0.545238</td>\n      <td>-0.145542</td>\n      <td>-0.597577</td>\n      <td>-0.258143</td>\n    </tr>\n    <tr>\n      <th>4</th>\n      <td>-1.718803</td>\n      <td>-1.619510</td>\n      <td>-0.512009</td>\n      <td>-0.604215</td>\n      <td>1.087066</td>\n      <td>-1.207376</td>\n      <td>-0.405264</td>\n      <td>-1.630090</td>\n      <td>-0.661407</td>\n      <td>-0.511519</td>\n      <td>...</td>\n      <td>-1.719993</td>\n      <td>-0.597577</td>\n      <td>-0.321176</td>\n      <td>-0.198458</td>\n      <td>10.454539</td>\n      <td>-0.150441</td>\n      <td>-0.545238</td>\n      <td>-0.145542</td>\n      <td>-0.597577</td>\n      <td>-0.258143</td>\n    </tr>\n    <tr>\n      <th>...</th>\n      <td>...</td>\n      <td>...</td>\n      <td>...</td>\n      <td>...</td>\n      <td>...</td>\n      <td>...</td>\n      <td>...</td>\n      <td>...</td>\n      <td>...</td>\n      <td>...</td>\n      <td>...</td>\n      <td>...</td>\n      <td>...</td>\n      <td>...</td>\n      <td>...</td>\n      <td>...</td>\n      <td>...</td>\n      <td>...</td>\n      <td>...</td>\n      <td>...</td>\n      <td>...</td>\n    </tr>\n    <tr>\n      <th>12239</th>\n      <td>1.041029</td>\n      <td>-0.719120</td>\n      <td>-0.512009</td>\n      <td>0.395516</td>\n      <td>-1.126661</td>\n      <td>-0.478749</td>\n      <td>-0.405264</td>\n      <td>-0.546902</td>\n      <td>-0.086940</td>\n      <td>1.312845</td>\n      <td>...</td>\n      <td>0.581350</td>\n      <td>-0.597577</td>\n      <td>-0.321176</td>\n      <td>-0.198458</td>\n      <td>-0.095644</td>\n      <td>-0.150441</td>\n      <td>1.833912</td>\n      <td>-0.145542</td>\n      <td>-0.597577</td>\n      <td>-0.258143</td>\n    </tr>\n    <tr>\n      <th>12240</th>\n      <td>1.041029</td>\n      <td>-1.169315</td>\n      <td>-1.350789</td>\n      <td>-0.604215</td>\n      <td>-0.019798</td>\n      <td>-1.207376</td>\n      <td>-0.405264</td>\n      <td>-0.546902</td>\n      <td>-0.661407</td>\n      <td>1.312845</td>\n      <td>...</td>\n      <td>0.581350</td>\n      <td>-0.597577</td>\n      <td>-0.321176</td>\n      <td>-0.198458</td>\n      <td>-0.095644</td>\n      <td>-0.150441</td>\n      <td>1.833912</td>\n      <td>-0.145542</td>\n      <td>-0.597577</td>\n      <td>-0.258143</td>\n    </tr>\n    <tr>\n      <th>12241</th>\n      <td>1.041029</td>\n      <td>-1.169315</td>\n      <td>-0.512009</td>\n      <td>0.395516</td>\n      <td>-0.019798</td>\n      <td>-1.207376</td>\n      <td>-0.405264</td>\n      <td>-0.546902</td>\n      <td>-0.086940</td>\n      <td>1.312845</td>\n      <td>...</td>\n      <td>0.581350</td>\n      <td>-0.597577</td>\n      <td>-0.321176</td>\n      <td>-0.198458</td>\n      <td>-0.095644</td>\n      <td>-0.150441</td>\n      <td>1.833912</td>\n      <td>-0.145542</td>\n      <td>-0.597577</td>\n      <td>-0.258143</td>\n    </tr>\n    <tr>\n      <th>12242</th>\n      <td>1.041029</td>\n      <td>0.181269</td>\n      <td>-0.512009</td>\n      <td>0.395516</td>\n      <td>-1.126661</td>\n      <td>0.249878</td>\n      <td>0.561432</td>\n      <td>-0.546902</td>\n      <td>-0.086940</td>\n      <td>3.137210</td>\n      <td>...</td>\n      <td>0.581350</td>\n      <td>-0.597577</td>\n      <td>-0.321176</td>\n      <td>-0.198458</td>\n      <td>-0.095644</td>\n      <td>-0.150441</td>\n      <td>1.833912</td>\n      <td>-0.145542</td>\n      <td>-0.597577</td>\n      <td>-0.258143</td>\n    </tr>\n    <tr>\n      <th>12243</th>\n      <td>1.041029</td>\n      <td>1.081659</td>\n      <td>1.165550</td>\n      <td>0.395516</td>\n      <td>1.087066</td>\n      <td>0.249878</td>\n      <td>0.561432</td>\n      <td>1.619474</td>\n      <td>2.785397</td>\n      <td>1.312845</td>\n      <td>...</td>\n      <td>0.581350</td>\n      <td>-0.597577</td>\n      <td>-0.321176</td>\n      <td>-0.198458</td>\n      <td>-0.095644</td>\n      <td>-0.150441</td>\n      <td>1.833912</td>\n      <td>-0.145542</td>\n      <td>-0.597577</td>\n      <td>-0.258143</td>\n    </tr>\n  </tbody>\n</table>\n<p>12244 rows × 485 columns</p>\n</div>"
     },
     "metadata": {},
     "execution_count": 51
    }
   ],
   "source": [
    "standardize(X_test)"
   ]
  },
  {
   "cell_type": "code",
   "execution_count": 21,
   "metadata": {},
   "outputs": [
    {
     "output_type": "execute_result",
     "data": {
      "text/plain": "0    0.969189\n1    0.949985\n2    0.126806\n3    0.283278\n4    0.894363\ndtype: float64"
     },
     "metadata": {},
     "execution_count": 21
    }
   ],
   "source": [
    "# Run the model\n",
    "y_prob = model.predict(X_test[selected_columns])\n",
    "y_prob.head()"
   ]
  },
  {
   "cell_type": "code",
   "execution_count": null,
   "metadata": {},
   "outputs": [],
   "source": []
  },
  {
   "cell_type": "code",
   "execution_count": 22,
   "metadata": {},
   "outputs": [
    {
     "output_type": "execute_result",
     "data": {
      "text/plain": "0     True\n1     True\n2    False\n3    False\n4     True\ndtype: bool"
     },
     "metadata": {},
     "execution_count": 22
    }
   ],
   "source": [
    "y_pred = (y_prob > 0.5)\n",
    "y_pred.head()"
   ]
  },
  {
   "cell_type": "code",
   "execution_count": 23,
   "metadata": {},
   "outputs": [
    {
     "output_type": "error",
     "ename": "FileNotFoundError",
     "evalue": "[Errno 2] No such file or directory: 'c:\\\\Users\\\\micha\\\\Documents\\\\GitHub\\\\mkp_code\\\\Institute of Data Course\\\\Project 3\\\\data\\\\processed\\\\mwi\\\\train.pkl'",
     "traceback": [
      "\u001b[1;31m---------------------------------------------------------------------------\u001b[0m",
      "\u001b[1;31mFileNotFoundError\u001b[0m                         Traceback (most recent call last)",
      "\u001b[1;32m<ipython-input-23-7ddeb4db2df3>\u001b[0m in \u001b[0;36m<module>\u001b[1;34m\u001b[0m\n\u001b[0;32m      6\u001b[0m                                     \u001b[0mcountry\u001b[0m\u001b[1;33m=\u001b[0m\u001b[0mCOUNTRY\u001b[0m\u001b[1;33m,\u001b[0m\u001b[1;33m\u001b[0m\u001b[1;33m\u001b[0m\u001b[0m\n\u001b[0;32m      7\u001b[0m                                     \u001b[0mmodel\u001b[0m\u001b[1;33m=\u001b[0m\u001b[0mmodel\u001b[0m\u001b[1;33m,\u001b[0m\u001b[1;33m\u001b[0m\u001b[1;33m\u001b[0m\u001b[0m\n\u001b[1;32m----> 8\u001b[1;33m                                     features=coefs)\n\u001b[0m",
      "\u001b[1;32mc:\\Users\\micha\\Documents\\GitHub\\mkp_code\\Institute of Data Course\\Project 3\\src\\models\\evaluation.py\u001b[0m in \u001b[0;36mevaluate_model\u001b[1;34m(y_test, y_pred, y_prob, sample_weights, show, compare_models, store_model, model_name, prefix, country, model, features, predict_pov_rate)\u001b[0m\n\u001b[0;32m    132\u001b[0m                                                 \u001b[0mselected_columns\u001b[0m\u001b[1;33m=\u001b[0m\u001b[0mselected_columns\u001b[0m\u001b[1;33m,\u001b[0m\u001b[1;33m\u001b[0m\u001b[1;33m\u001b[0m\u001b[0m\n\u001b[0;32m    133\u001b[0m                                                 \u001b[0mshow\u001b[0m\u001b[1;33m=\u001b[0m\u001b[1;32mFalse\u001b[0m\u001b[1;33m,\u001b[0m\u001b[1;33m\u001b[0m\u001b[1;33m\u001b[0m\u001b[0m\n\u001b[1;32m--> 134\u001b[1;33m                                                 return_values=True)\n\u001b[0m\u001b[0;32m    135\u001b[0m         \u001b[0mmetrics\u001b[0m\u001b[1;33m[\u001b[0m\u001b[1;34m'pov_rate_error'\u001b[0m\u001b[1;33m]\u001b[0m \u001b[1;33m=\u001b[0m \u001b[0mpov_rate_pred\u001b[0m \u001b[1;33m-\u001b[0m \u001b[0mpov_rate_actual\u001b[0m\u001b[1;33m\u001b[0m\u001b[1;33m\u001b[0m\u001b[0m\n\u001b[0;32m    136\u001b[0m     \u001b[1;32melse\u001b[0m\u001b[1;33m:\u001b[0m\u001b[1;33m\u001b[0m\u001b[1;33m\u001b[0m\u001b[0m\n",
      "\u001b[1;32mc:\\Users\\micha\\Documents\\GitHub\\mkp_code\\Institute of Data Course\\Project 3\\src\\models\\evaluation.py\u001b[0m in \u001b[0;36mpredict_poverty_rate\u001b[1;34m(train_path, test_path, model, standardize_columns, ravel, selected_columns, show, return_values)\u001b[0m\n\u001b[0;32m    220\u001b[0m                                           \u001b[0mstandardize_columns\u001b[0m\u001b[1;33m=\u001b[0m\u001b[0mstandardize_columns\u001b[0m\u001b[1;33m,\u001b[0m\u001b[1;33m\u001b[0m\u001b[1;33m\u001b[0m\u001b[0m\n\u001b[0;32m    221\u001b[0m                                           \u001b[0mravel\u001b[0m\u001b[1;33m=\u001b[0m\u001b[0mravel\u001b[0m\u001b[1;33m,\u001b[0m\u001b[1;33m\u001b[0m\u001b[1;33m\u001b[0m\u001b[0m\n\u001b[1;32m--> 222\u001b[1;33m                                           selected_columns=selected_columns)\n\u001b[0m\u001b[0;32m    223\u001b[0m     X_test, y_test, w_test = load_data(test_path,\n\u001b[0;32m    224\u001b[0m                                        \u001b[0mstandardize_columns\u001b[0m\u001b[1;33m=\u001b[0m\u001b[0mstandardize_columns\u001b[0m\u001b[1;33m,\u001b[0m\u001b[1;33m\u001b[0m\u001b[1;33m\u001b[0m\u001b[0m\n",
      "\u001b[1;32mc:\\Users\\micha\\Documents\\GitHub\\mkp_code\\Institute of Data Course\\Project 3\\src\\data\\load_data.py\u001b[0m in \u001b[0;36mload_data\u001b[1;34m(path, selected_columns, ravel, standardize_columns)\u001b[0m\n\u001b[0;32m     66\u001b[0m \u001b[1;33m\u001b[0m\u001b[0m\n\u001b[0;32m     67\u001b[0m \u001b[1;32mdef\u001b[0m \u001b[0mload_data\u001b[0m\u001b[1;33m(\u001b[0m\u001b[0mpath\u001b[0m\u001b[1;33m,\u001b[0m \u001b[0mselected_columns\u001b[0m\u001b[1;33m=\u001b[0m\u001b[1;32mNone\u001b[0m\u001b[1;33m,\u001b[0m \u001b[0mravel\u001b[0m\u001b[1;33m=\u001b[0m\u001b[1;32mTrue\u001b[0m\u001b[1;33m,\u001b[0m \u001b[0mstandardize_columns\u001b[0m\u001b[1;33m=\u001b[0m\u001b[1;34m'numeric'\u001b[0m\u001b[1;33m)\u001b[0m\u001b[1;33m:\u001b[0m\u001b[1;33m\u001b[0m\u001b[1;33m\u001b[0m\u001b[0m\n\u001b[1;32m---> 68\u001b[1;33m     \u001b[0mX\u001b[0m\u001b[1;33m,\u001b[0m \u001b[0my\u001b[0m\u001b[1;33m,\u001b[0m \u001b[0mw\u001b[0m \u001b[1;33m=\u001b[0m \u001b[0msplit_features_labels_weights\u001b[0m\u001b[1;33m(\u001b[0m\u001b[0mpath\u001b[0m\u001b[1;33m)\u001b[0m\u001b[1;33m\u001b[0m\u001b[1;33m\u001b[0m\u001b[0m\n\u001b[0m\u001b[0;32m     69\u001b[0m     \u001b[1;32mif\u001b[0m \u001b[0mselected_columns\u001b[0m \u001b[1;32mis\u001b[0m \u001b[1;32mnot\u001b[0m \u001b[1;32mNone\u001b[0m\u001b[1;33m:\u001b[0m\u001b[1;33m\u001b[0m\u001b[1;33m\u001b[0m\u001b[0m\n\u001b[0;32m     70\u001b[0m         \u001b[0mX\u001b[0m \u001b[1;33m=\u001b[0m \u001b[0mX\u001b[0m\u001b[1;33m[\u001b[0m\u001b[1;33m[\u001b[0m\u001b[0mcol\u001b[0m \u001b[1;32mfor\u001b[0m \u001b[0mcol\u001b[0m \u001b[1;32min\u001b[0m \u001b[0mX\u001b[0m\u001b[1;33m.\u001b[0m\u001b[0mcolumns\u001b[0m\u001b[1;33m.\u001b[0m\u001b[0mvalues\u001b[0m \u001b[1;32mif\u001b[0m \u001b[0mcol\u001b[0m \u001b[1;32min\u001b[0m \u001b[0mselected_columns\u001b[0m\u001b[1;33m]\u001b[0m\u001b[1;33m]\u001b[0m\u001b[1;33m\u001b[0m\u001b[1;33m\u001b[0m\u001b[0m\n",
      "\u001b[1;32mc:\\Users\\micha\\Documents\\GitHub\\mkp_code\\Institute of Data Course\\Project 3\\src\\data\\load_data.py\u001b[0m in \u001b[0;36msplit_features_labels_weights\u001b[1;34m(path, weights, weights_col, label_col)\u001b[0m\n\u001b[0;32m     59\u001b[0m                                   label_col=['poor']):\n\u001b[0;32m     60\u001b[0m     \u001b[1;34m'''Split data into features, labels, and weights dataframes'''\u001b[0m\u001b[1;33m\u001b[0m\u001b[1;33m\u001b[0m\u001b[0m\n\u001b[1;32m---> 61\u001b[1;33m     \u001b[0mdata\u001b[0m \u001b[1;33m=\u001b[0m \u001b[0mpd\u001b[0m\u001b[1;33m.\u001b[0m\u001b[0mread_pickle\u001b[0m\u001b[1;33m(\u001b[0m\u001b[0mpath\u001b[0m\u001b[1;33m)\u001b[0m\u001b[1;33m\u001b[0m\u001b[1;33m\u001b[0m\u001b[0m\n\u001b[0m\u001b[0;32m     62\u001b[0m     return (data.drop(weights + label_col, axis=1),\n\u001b[0;32m     63\u001b[0m             \u001b[0mdata\u001b[0m\u001b[1;33m[\u001b[0m\u001b[0mlabel_col\u001b[0m\u001b[1;33m]\u001b[0m\u001b[1;33m,\u001b[0m\u001b[1;33m\u001b[0m\u001b[1;33m\u001b[0m\u001b[0m\n",
      "\u001b[1;32m~\\Anaconda3\\lib\\site-packages\\pandas\\io\\pickle.py\u001b[0m in \u001b[0;36mread_pickle\u001b[1;34m(filepath_or_buffer, compression)\u001b[0m\n\u001b[0;32m    168\u001b[0m     \u001b[1;32mif\u001b[0m \u001b[1;32mnot\u001b[0m \u001b[0misinstance\u001b[0m\u001b[1;33m(\u001b[0m\u001b[0mfp_or_buf\u001b[0m\u001b[1;33m,\u001b[0m \u001b[0mstr\u001b[0m\u001b[1;33m)\u001b[0m \u001b[1;32mand\u001b[0m \u001b[0mcompression\u001b[0m \u001b[1;33m==\u001b[0m \u001b[1;34m\"infer\"\u001b[0m\u001b[1;33m:\u001b[0m\u001b[1;33m\u001b[0m\u001b[1;33m\u001b[0m\u001b[0m\n\u001b[0;32m    169\u001b[0m         \u001b[0mcompression\u001b[0m \u001b[1;33m=\u001b[0m \u001b[1;32mNone\u001b[0m\u001b[1;33m\u001b[0m\u001b[1;33m\u001b[0m\u001b[0m\n\u001b[1;32m--> 170\u001b[1;33m     \u001b[0mf\u001b[0m\u001b[1;33m,\u001b[0m \u001b[0mfh\u001b[0m \u001b[1;33m=\u001b[0m \u001b[0mget_handle\u001b[0m\u001b[1;33m(\u001b[0m\u001b[0mfp_or_buf\u001b[0m\u001b[1;33m,\u001b[0m \u001b[1;34m\"rb\"\u001b[0m\u001b[1;33m,\u001b[0m \u001b[0mcompression\u001b[0m\u001b[1;33m=\u001b[0m\u001b[0mcompression\u001b[0m\u001b[1;33m,\u001b[0m \u001b[0mis_text\u001b[0m\u001b[1;33m=\u001b[0m\u001b[1;32mFalse\u001b[0m\u001b[1;33m)\u001b[0m\u001b[1;33m\u001b[0m\u001b[1;33m\u001b[0m\u001b[0m\n\u001b[0m\u001b[0;32m    171\u001b[0m \u001b[1;33m\u001b[0m\u001b[0m\n\u001b[0;32m    172\u001b[0m     \u001b[1;31m# 1) try standard library Pickle\u001b[0m\u001b[1;33m\u001b[0m\u001b[1;33m\u001b[0m\u001b[1;33m\u001b[0m\u001b[0m\n",
      "\u001b[1;32m~\\Anaconda3\\lib\\site-packages\\pandas\\io\\common.py\u001b[0m in \u001b[0;36mget_handle\u001b[1;34m(path_or_buf, mode, encoding, compression, memory_map, is_text)\u001b[0m\n\u001b[0;32m    432\u001b[0m         \u001b[1;32melse\u001b[0m\u001b[1;33m:\u001b[0m\u001b[1;33m\u001b[0m\u001b[1;33m\u001b[0m\u001b[0m\n\u001b[0;32m    433\u001b[0m             \u001b[1;31m# Binary mode\u001b[0m\u001b[1;33m\u001b[0m\u001b[1;33m\u001b[0m\u001b[1;33m\u001b[0m\u001b[0m\n\u001b[1;32m--> 434\u001b[1;33m             \u001b[0mf\u001b[0m \u001b[1;33m=\u001b[0m \u001b[0mopen\u001b[0m\u001b[1;33m(\u001b[0m\u001b[0mpath_or_buf\u001b[0m\u001b[1;33m,\u001b[0m \u001b[0mmode\u001b[0m\u001b[1;33m)\u001b[0m\u001b[1;33m\u001b[0m\u001b[1;33m\u001b[0m\u001b[0m\n\u001b[0m\u001b[0;32m    435\u001b[0m         \u001b[0mhandles\u001b[0m\u001b[1;33m.\u001b[0m\u001b[0mappend\u001b[0m\u001b[1;33m(\u001b[0m\u001b[0mf\u001b[0m\u001b[1;33m)\u001b[0m\u001b[1;33m\u001b[0m\u001b[1;33m\u001b[0m\u001b[0m\n\u001b[0;32m    436\u001b[0m \u001b[1;33m\u001b[0m\u001b[0m\n",
      "\u001b[1;31mFileNotFoundError\u001b[0m: [Errno 2] No such file or directory: 'c:\\\\Users\\\\micha\\\\Documents\\\\GitHub\\\\mkp_code\\\\Institute of Data Course\\\\Project 3\\\\data\\\\processed\\\\mwi\\\\train.pkl'"
     ]
    }
   ],
   "source": [
    "# Evaluate performance\n",
    "metrics = evaluation.evaluate_model(y_test, y_pred, y_prob, \n",
    "                                    store_model=True, \n",
    "                                    model_name='logit_simple', \n",
    "                                    prefix=ALGORITHM_NAME, \n",
    "                                    country=COUNTRY, \n",
    "                                    model=model, \n",
    "                                    features=coefs)"
   ]
  },
  {
   "cell_type": "code",
   "execution_count": null,
   "metadata": {},
   "outputs": [],
   "source": []
  },
  {
   "cell_type": "code",
   "execution_count": null,
   "metadata": {},
   "outputs": [],
   "source": []
  },
  {
   "cell_type": "code",
   "execution_count": null,
   "metadata": {},
   "outputs": [],
   "source": []
  }
 ],
 "metadata": {
  "kernelspec": {
   "display_name": "Python 3",
   "language": "python",
   "name": "python3"
  },
  "language_info": {
   "codemirror_mode": {
    "name": "ipython",
    "version": 3
   },
   "file_extension": ".py",
   "mimetype": "text/x-python",
   "name": "python",
   "nbconvert_exporter": "python",
   "pygments_lexer": "ipython3",
   "version": "3.7.7-final"
  }
 },
 "nbformat": 4,
 "nbformat_minor": 4
}