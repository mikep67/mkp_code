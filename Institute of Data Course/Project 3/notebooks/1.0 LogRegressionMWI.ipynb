{
 "cells": [
  {
   "cell_type": "code",
   "execution_count": null,
   "metadata": {},
   "outputs": [],
   "source": []
  },
  {
   "cell_type": "markdown",
   "metadata": {},
   "source": [
    "### Logistic Regression Classifier - Malwai"
   ]
  },
  {
   "cell_type": "code",
   "execution_count": 1,
   "metadata": {},
   "outputs": [
    {
<<<<<<< HEAD
     "name": "stderr",
     "output_type": "stream",
     "text": [
      "Using TensorFlow backend.\n",
      "C:\\Users\\micha\\Anaconda3\\lib\\site-packages\\tensorflow\\python\\framework\\dtypes.py:516: FutureWarning: Passing (type, 1) or '1type' as a synonym of type is deprecated; in a future version of numpy, it will be understood as (type, (1,)) / '(1,)type'.\n",
      "  _np_qint8 = np.dtype([(\"qint8\", np.int8, 1)])\n",
      "C:\\Users\\micha\\Anaconda3\\lib\\site-packages\\tensorflow\\python\\framework\\dtypes.py:517: FutureWarning: Passing (type, 1) or '1type' as a synonym of type is deprecated; in a future version of numpy, it will be understood as (type, (1,)) / '(1,)type'.\n",
      "  _np_quint8 = np.dtype([(\"quint8\", np.uint8, 1)])\n",
      "C:\\Users\\micha\\Anaconda3\\lib\\site-packages\\tensorflow\\python\\framework\\dtypes.py:518: FutureWarning: Passing (type, 1) or '1type' as a synonym of type is deprecated; in a future version of numpy, it will be understood as (type, (1,)) / '(1,)type'.\n",
      "  _np_qint16 = np.dtype([(\"qint16\", np.int16, 1)])\n",
      "C:\\Users\\micha\\Anaconda3\\lib\\site-packages\\tensorflow\\python\\framework\\dtypes.py:519: FutureWarning: Passing (type, 1) or '1type' as a synonym of type is deprecated; in a future version of numpy, it will be understood as (type, (1,)) / '(1,)type'.\n",
      "  _np_quint16 = np.dtype([(\"quint16\", np.uint16, 1)])\n",
      "C:\\Users\\micha\\Anaconda3\\lib\\site-packages\\tensorflow\\python\\framework\\dtypes.py:520: FutureWarning: Passing (type, 1) or '1type' as a synonym of type is deprecated; in a future version of numpy, it will be understood as (type, (1,)) / '(1,)type'.\n",
      "  _np_qint32 = np.dtype([(\"qint32\", np.int32, 1)])\n",
      "C:\\Users\\micha\\Anaconda3\\lib\\site-packages\\tensorflow\\python\\framework\\dtypes.py:525: FutureWarning: Passing (type, 1) or '1type' as a synonym of type is deprecated; in a future version of numpy, it will be understood as (type, (1,)) / '(1,)type'.\n",
      "  np_resource = np.dtype([(\"resource\", np.ubyte, 1)])\n",
      "C:\\Users\\micha\\Anaconda3\\lib\\site-packages\\tensorboard\\compat\\tensorflow_stub\\dtypes.py:541: FutureWarning: Passing (type, 1) or '1type' as a synonym of type is deprecated; in a future version of numpy, it will be understood as (type, (1,)) / '(1,)type'.\n",
      "  _np_qint8 = np.dtype([(\"qint8\", np.int8, 1)])\n",
      "C:\\Users\\micha\\Anaconda3\\lib\\site-packages\\tensorboard\\compat\\tensorflow_stub\\dtypes.py:542: FutureWarning: Passing (type, 1) or '1type' as a synonym of type is deprecated; in a future version of numpy, it will be understood as (type, (1,)) / '(1,)type'.\n",
      "  _np_quint8 = np.dtype([(\"quint8\", np.uint8, 1)])\n",
      "C:\\Users\\micha\\Anaconda3\\lib\\site-packages\\tensorboard\\compat\\tensorflow_stub\\dtypes.py:543: FutureWarning: Passing (type, 1) or '1type' as a synonym of type is deprecated; in a future version of numpy, it will be understood as (type, (1,)) / '(1,)type'.\n",
      "  _np_qint16 = np.dtype([(\"qint16\", np.int16, 1)])\n",
      "C:\\Users\\micha\\Anaconda3\\lib\\site-packages\\tensorboard\\compat\\tensorflow_stub\\dtypes.py:544: FutureWarning: Passing (type, 1) or '1type' as a synonym of type is deprecated; in a future version of numpy, it will be understood as (type, (1,)) / '(1,)type'.\n",
      "  _np_quint16 = np.dtype([(\"quint16\", np.uint16, 1)])\n",
      "C:\\Users\\micha\\Anaconda3\\lib\\site-packages\\tensorboard\\compat\\tensorflow_stub\\dtypes.py:545: FutureWarning: Passing (type, 1) or '1type' as a synonym of type is deprecated; in a future version of numpy, it will be understood as (type, (1,)) / '(1,)type'.\n",
      "  _np_qint32 = np.dtype([(\"qint32\", np.int32, 1)])\n",
      "C:\\Users\\micha\\Anaconda3\\lib\\site-packages\\tensorboard\\compat\\tensorflow_stub\\dtypes.py:550: FutureWarning: Passing (type, 1) or '1type' as a synonym of type is deprecated; in a future version of numpy, it will be understood as (type, (1,)) / '(1,)type'.\n",
      "  np_resource = np.dtype([(\"resource\", np.ubyte, 1)])\n"
     ]
=======
     "output_type": "stream",
     "name": "stderr",
     "text": "Using TensorFlow backend.\n"
>>>>>>> b3ed9f8899027b655fd03724d2ac40c7f315cd0e
    }
   ],
   "source": [
    "%matplotlib inline\n",
    "\n",
    "import os\n",
    "import sys\n",
    "import json\n",
    "import keras\n",
    "\n",
    "from pathlib import Path\n",
    "from pathlib import PureWindowsPath\n",
    "\n",
    "import numpy as np\n",
    "import pandas as pd\n",
    "\n",
    "from matplotlib import pyplot as plt\n",
    "from IPython.display import display\n",
    "import seaborn as sns\n",
    "sns.set()\n",
    "\n",
    "import statsmodels.api as sm\n",
    "from statsmodels.stats.outliers_influence import variance_inflation_factor\n",
    "\n",
    "from sklearn.model_selection import train_test_split\n",
    "from sklearn.linear_model import LogisticRegression\n",
    "from sklearn.model_selection import cross_val_score\n",
    "from sklearn.model_selection import KFold\n",
    "from sklearn import metrics\n",
    "\n",
    "# Add our local functions to the path\n",
    "sys.path.append(os.path.join(os.pardir, 'src'))\n",
    "from models import evaluation\n",
    "from data.load_data import (get_country_filepaths, \n",
    "                            split_features_labels_weights)\n",
    "\n",
    "# Constants for Functions\n",
    "ALGORITHM_NAME = 'lr'\n",
    "COUNTRY = 'mwi'\n"
   ]
  },
  {
   "cell_type": "code",
   "execution_count": null,
   "metadata": {},
   "outputs": [],
   "source": []
  },
  {
   "cell_type": "code",
<<<<<<< HEAD
   "execution_count": 2,
   "metadata": {},
   "outputs": [],
   "source": [
    "def load_data(path, selected_columns=None, ravel=True, standardize_columns='numeric'):\n",
    "    X, y, w = split_features_labels_weights(path)\n",
    "    if selected_columns is not None:\n",
    "        X = X[[col for col in X.columns.values if col in selected_columns]]\n",
    "    if standardize_columns == 'numeric':\n",
    "        standardize(X)\n",
    "    elif standardize_columns == 'all':\n",
    "        standardize(X, numeric_only=False)\n",
    "    if ravel is True:\n",
    "        y = np.ravel(y)\n",
    "        w = np.ravel(w)\n",
    "    return (X, y, w)"
   ]
  },
  {
   "cell_type": "code",
   "execution_count": null,
   "metadata": {},
   "outputs": [],
   "source": []
  },
  {
   "cell_type": "code",
   "execution_count": 3,
   "metadata": {},
   "outputs": [],
   "source": [
    "# Split the data for analysis\n",
    "def split_features_labels_weights(df,\n",
    "                                  weights=['wta_pop', 'wta_hh'],\n",
    "                                  weights_col=['wta_pop'],\n",
    "                                  label_col=['poor']):\n",
    "\n",
    "    '''Split data into features, labels, and weights dataframes'''\n",
    "    data = df\n",
    "    return (data.drop(weights + label_col, axis=1),\n",
    "            data[label_col],\n",
    "            data[weights_col])\n",
    "            "
   ]
  },
  {
   "cell_type": "code",
=======
>>>>>>> b3ed9f8899027b655fd03724d2ac40c7f315cd0e
   "execution_count": null,
   "metadata": {},
   "outputs": [],
   "source": []
  },
  {
   "cell_type": "code",
<<<<<<< HEAD
   "execution_count": 4,
=======
   "execution_count": 2,
>>>>>>> b3ed9f8899027b655fd03724d2ac40c7f315cd0e
   "metadata": {},
   "outputs": [],
   "source": [
    "# Load the processed Mwai household:\n",
    "mwi_hhold = pd.read_csv(\"/home/mike/Documents/mkp_code/Institute of Data Course/Project 3/data/csv_data/MWI_2010_household.csv\")\n",
    "\n",
    "#(r\"C:\\Users\\micha\\Documents\\GitHub\\mkp_code\\Institute of Data Course\\Project 3\\data\\csv_data\\MWI_2010_household.csv\")"
   ]
  },
  {
   "cell_type": "code",
   "execution_count": null,
   "metadata": {},
   "outputs": [],
   "source": []
  },
  {
   "cell_type": "code",
<<<<<<< HEAD
   "execution_count": 5,
=======
   "execution_count": 3,
>>>>>>> b3ed9f8899027b655fd03724d2ac40c7f315cd0e
   "metadata": {},
   "outputs": [],
   "source": [
    "# Split Malawi data \n",
    "mwi_train, mwi_test = train_test_split(mwi_hhold, \n",
    "                                       test_size=0.25,\n",
    "                                       random_state=1443,\n",
    "                                       stratify=mwi_hhold.poor)"
   ]
  },
  {
   "cell_type": "code",
   "execution_count": null,
   "metadata": {},
   "outputs": [],
   "source": []
  },
  {
   "cell_type": "code",
<<<<<<< HEAD
   "execution_count": 6,
=======
   "execution_count": 4,
>>>>>>> b3ed9f8899027b655fd03724d2ac40c7f315cd0e
   "metadata": {},
   "outputs": [],
   "source": [
    "# load training data\n",
    "X_train, y_train, w_train = split_features_labels_weights(mwi_train)"
   ]
  },
  {
   "cell_type": "code",
   "execution_count": null,
   "metadata": {},
   "outputs": [],
   "source": []
  },
  {
   "cell_type": "code",
<<<<<<< HEAD
   "execution_count": 7,
=======
   "execution_count": 5,
>>>>>>> b3ed9f8899027b655fd03724d2ac40c7f315cd0e
   "metadata": {},
   "outputs": [
    {
     "name": "stdout",
     "output_type": "stream",
     "text": [
      "Data has 9,183 rows and 488 columns\n",
      "Percent poor: 45.1% \tPercent non-poor: 54.9%\n"
     ]
    },
    {
     "data": {
      "text/html": [
       "<div>\n",
       "<style scoped>\n",
       "    .dataframe tbody tr th:only-of-type {\n",
       "        vertical-align: middle;\n",
       "    }\n",
       "\n",
       "    .dataframe tbody tr th {\n",
       "        vertical-align: top;\n",
       "    }\n",
       "\n",
       "    .dataframe thead th {\n",
       "        text-align: right;\n",
       "    }\n",
       "</style>\n",
       "<table border=\"1\" class=\"dataframe\">\n",
       "  <thead>\n",
       "    <tr style=\"text-align: right;\">\n",
       "      <th></th>\n",
       "      <th>hid</th>\n",
       "      <th>wta_hh</th>\n",
       "      <th>wta_pop</th>\n",
       "      <th>der_hhsize</th>\n",
       "      <th>poor</th>\n",
       "      <th>hld_rooms</th>\n",
       "      <th>hld_nbcellpho</th>\n",
       "      <th>hld_selfscale</th>\n",
       "      <th>der_nchild10under</th>\n",
       "      <th>der_nmalesover10</th>\n",
       "      <th>...</th>\n",
       "      <th>com_medicines__Yes</th>\n",
       "      <th>com_clinic__Yes</th>\n",
       "      <th>com_distclinic__11 to 15 kilometers</th>\n",
       "      <th>com_distclinic__16 to 20 kilometers</th>\n",
       "      <th>com_distclinic__21 to 25 kilometers</th>\n",
       "      <th>com_distclinic__26 to 30 kilometers</th>\n",
       "      <th>com_distclinic__6 to 10 kilometers</th>\n",
       "      <th>com_distclinic__Above 30 kilometers</th>\n",
       "      <th>com_distclinic__nan</th>\n",
       "      <th>com_bank__Yes</th>\n",
       "    </tr>\n",
       "  </thead>\n",
       "  <tbody>\n",
       "    <tr>\n",
       "      <th>7927</th>\n",
       "      <td>304044580160</td>\n",
       "      <td>170.1948</td>\n",
       "      <td>850.9740</td>\n",
       "      <td>5</td>\n",
       "      <td>True</td>\n",
       "      <td>3</td>\n",
       "      <td>0.0</td>\n",
       "      <td>1.0</td>\n",
       "      <td>3</td>\n",
       "      <td>1</td>\n",
       "      <td>...</td>\n",
       "      <td>0</td>\n",
       "      <td>0</td>\n",
       "      <td>0</td>\n",
       "      <td>0</td>\n",
       "      <td>0</td>\n",
       "      <td>0</td>\n",
       "      <td>0</td>\n",
       "      <td>0</td>\n",
       "      <td>0</td>\n",
       "      <td>0</td>\n",
       "    </tr>\n",
       "    <tr>\n",
       "      <th>4210</th>\n",
       "      <td>205205820123</td>\n",
       "      <td>188.8692</td>\n",
       "      <td>566.6076</td>\n",
       "      <td>3</td>\n",
       "      <td>False</td>\n",
       "      <td>2</td>\n",
       "      <td>1.0</td>\n",
       "      <td>3.0</td>\n",
       "      <td>1</td>\n",
       "      <td>1</td>\n",
       "      <td>...</td>\n",
       "      <td>1</td>\n",
       "      <td>0</td>\n",
       "      <td>0</td>\n",
       "      <td>0</td>\n",
       "      <td>0</td>\n",
       "      <td>0</td>\n",
       "      <td>0</td>\n",
       "      <td>0</td>\n",
       "      <td>0</td>\n",
       "      <td>0</td>\n",
       "    </tr>\n",
       "    <tr>\n",
       "      <th>457</th>\n",
       "      <td>102016880095</td>\n",
       "      <td>143.9194</td>\n",
       "      <td>863.5164</td>\n",
       "      <td>6</td>\n",
       "      <td>True</td>\n",
       "      <td>5</td>\n",
       "      <td>0.0</td>\n",
       "      <td>2.0</td>\n",
       "      <td>3</td>\n",
       "      <td>1</td>\n",
       "      <td>...</td>\n",
       "      <td>0</td>\n",
       "      <td>0</td>\n",
       "      <td>0</td>\n",
       "      <td>0</td>\n",
       "      <td>0</td>\n",
       "      <td>0</td>\n",
       "      <td>0</td>\n",
       "      <td>0</td>\n",
       "      <td>0</td>\n",
       "      <td>0</td>\n",
       "    </tr>\n",
       "    <tr>\n",
       "      <th>11951</th>\n",
       "      <td>315356330210</td>\n",
       "      <td>234.7279</td>\n",
       "      <td>704.1837</td>\n",
       "      <td>3</td>\n",
       "      <td>False</td>\n",
       "      <td>3</td>\n",
       "      <td>3.0</td>\n",
       "      <td>3.0</td>\n",
       "      <td>1</td>\n",
       "      <td>1</td>\n",
       "      <td>...</td>\n",
       "      <td>1</td>\n",
       "      <td>1</td>\n",
       "      <td>0</td>\n",
       "      <td>0</td>\n",
       "      <td>0</td>\n",
       "      <td>0</td>\n",
       "      <td>0</td>\n",
       "      <td>0</td>\n",
       "      <td>1</td>\n",
       "      <td>1</td>\n",
       "    </tr>\n",
       "    <tr>\n",
       "      <th>11428</th>\n",
       "      <td>313061660067</td>\n",
       "      <td>78.5482</td>\n",
       "      <td>157.0964</td>\n",
       "      <td>2</td>\n",
       "      <td>False</td>\n",
       "      <td>1</td>\n",
       "      <td>0.0</td>\n",
       "      <td>2.0</td>\n",
       "      <td>0</td>\n",
       "      <td>1</td>\n",
       "      <td>...</td>\n",
       "      <td>1</td>\n",
       "      <td>0</td>\n",
       "      <td>0</td>\n",
       "      <td>1</td>\n",
       "      <td>0</td>\n",
       "      <td>0</td>\n",
       "      <td>0</td>\n",
       "      <td>0</td>\n",
       "      <td>0</td>\n",
       "      <td>0</td>\n",
       "    </tr>\n",
       "  </tbody>\n",
       "</table>\n",
       "<p>5 rows × 488 columns</p>\n",
       "</div>"
      ],
      "text/plain": [
       "                hid    wta_hh   wta_pop  der_hhsize   poor  hld_rooms  \\\n",
       "7927   304044580160  170.1948  850.9740           5   True          3   \n",
       "4210   205205820123  188.8692  566.6076           3  False          2   \n",
       "457    102016880095  143.9194  863.5164           6   True          5   \n",
       "11951  315356330210  234.7279  704.1837           3  False          3   \n",
       "11428  313061660067   78.5482  157.0964           2  False          1   \n",
       "\n",
       "       hld_nbcellpho  hld_selfscale  der_nchild10under  der_nmalesover10  ...  \\\n",
       "7927             0.0            1.0                  3                 1  ...   \n",
       "4210             1.0            3.0                  1                 1  ...   \n",
       "457              0.0            2.0                  3                 1  ...   \n",
       "11951            3.0            3.0                  1                 1  ...   \n",
       "11428            0.0            2.0                  0                 1  ...   \n",
       "\n",
       "       com_medicines__Yes  com_clinic__Yes  \\\n",
       "7927                    0                0   \n",
       "4210                    1                0   \n",
       "457                     0                0   \n",
       "11951                   1                1   \n",
       "11428                   1                0   \n",
       "\n",
       "       com_distclinic__11 to 15 kilometers  \\\n",
       "7927                                     0   \n",
       "4210                                     0   \n",
       "457                                      0   \n",
       "11951                                    0   \n",
       "11428                                    0   \n",
       "\n",
       "       com_distclinic__16 to 20 kilometers  \\\n",
       "7927                                     0   \n",
       "4210                                     0   \n",
       "457                                      0   \n",
       "11951                                    0   \n",
       "11428                                    1   \n",
       "\n",
       "       com_distclinic__21 to 25 kilometers  \\\n",
       "7927                                     0   \n",
       "4210                                     0   \n",
       "457                                      0   \n",
       "11951                                    0   \n",
       "11428                                    0   \n",
       "\n",
       "       com_distclinic__26 to 30 kilometers  \\\n",
       "7927                                     0   \n",
       "4210                                     0   \n",
       "457                                      0   \n",
       "11951                                    0   \n",
       "11428                                    0   \n",
       "\n",
       "       com_distclinic__6 to 10 kilometers  \\\n",
       "7927                                    0   \n",
       "4210                                    0   \n",
       "457                                     0   \n",
       "11951                                   0   \n",
       "11428                                   0   \n",
       "\n",
       "       com_distclinic__Above 30 kilometers  com_distclinic__nan  com_bank__Yes  \n",
       "7927                                     0                    0              0  \n",
       "4210                                     0                    0              0  \n",
       "457                                      0                    0              0  \n",
       "11951                                    0                    1              1  \n",
       "11428                                    0                    0              0  \n",
       "\n",
       "[5 rows x 488 columns]"
      ]
     },
     "execution_count": 7,
     "metadata": {},
<<<<<<< HEAD
     "output_type": "execute_result"
=======
     "execution_count": 5
>>>>>>> b3ed9f8899027b655fd03724d2ac40c7f315cd0e
    }
   ],
   "source": [
    "# summarize Train loaded data\n",
    "print('Data has {:,} rows and {:,} columns' \\\n",
    "        .format(*mwi_train.shape))\n",
    "\n",
    "print('Percent poor: {:0.1%} \\tPercent non-poor: {:0.1%}' \\\n",
    "        .format(*mwi_train.poor.value_counts(normalize=True, ascending=True)))\n",
    "\n",
    "# print first 5 rows of data\n",
    "mwi_train.head()"
   ]
  },
  {
   "cell_type": "code",
   "execution_count": null,
   "metadata": {},
   "outputs": [],
   "source": []
  },
  {
   "cell_type": "code",
<<<<<<< HEAD
   "execution_count": 8,
=======
   "execution_count": 6,
>>>>>>> b3ed9f8899027b655fd03724d2ac40c7f315cd0e
   "metadata": {},
   "outputs": [
    {
     "name": "stdout",
     "output_type": "stream",
     "text": [
      "X shape with selected columns: (9183, 10)\n"
     ]
    }
   ],
   "source": [
    "# Select a few columns for this example\n",
    "selected_columns = [\n",
    "    'der_hhsize', \n",
    "    'der_nchild10under', \n",
    "    'der_nmalesover10', \n",
    "    'der_nfemalesover10',\n",
    "    'der_nliterate', \n",
    "    'der_nemployedpastyear',\n",
    "    'hld_electricity__Yes',\n",
    "    'hld_toilet__None',\n",
    "    'cons_0504__Yes',\n",
    "    'cons_0508__Yes'\n",
    "]\n",
    "\n",
    "print(\"X shape with selected columns:\", mwi_train[selected_columns].shape)"
   ]
  },
  {
   "cell_type": "markdown",
   "metadata": {},
   "source": [
    "## Checking for Multicollinearity:\n",
    "### Calcualting the variance inflation factor (VIF) of each feature."
   ]
  },
  {
   "cell_type": "code",
<<<<<<< HEAD
   "execution_count": 9,
=======
   "execution_count": 7,
>>>>>>> b3ed9f8899027b655fd03724d2ac40c7f315cd0e
   "metadata": {},
   "outputs": [],
   "source": [
    "def get_vif(X, intercept_col='intercept'):\n",
    "    if intercept_col is not None and intercept_col in X.columns:\n",
    "        X = X.copy().drop(intercept_col, axis=1)\n",
    "    \n",
    "    vi_factors = [variance_inflation_factor(X.values, i)\n",
    "                             for i in range(X.shape[1])]\n",
    "    \n",
    "    return pd.Series(vi_factors,\n",
    "                     index=X.columns,\n",
    "                     name='variance_inflaction_factor')"
   ]
  },
  {
   "cell_type": "code",
   "execution_count": null,
   "metadata": {},
   "outputs": [],
   "source": []
  },
  {
   "cell_type": "code",
<<<<<<< HEAD
   "execution_count": 10,
=======
   "execution_count": 8,
>>>>>>> b3ed9f8899027b655fd03724d2ac40c7f315cd0e
   "metadata": {},
   "outputs": [
    {
     "data": {
      "text/plain": [
       "der_hhsize               1142.050480\n",
       "der_nchild10under         206.466307\n",
       "der_nmalesover10          138.021692\n",
       "der_nfemalesover10        141.867242\n",
       "der_nliterate               5.616642\n",
       "der_nemployedpastyear       1.533041\n",
       "hld_electricity__Yes        1.471163\n",
       "hld_toilet__None            1.091630\n",
       "cons_0504__Yes              1.344652\n",
       "cons_0508__Yes              1.341629\n",
       "Name: variance_inflaction_factor, dtype: float64"
      ]
     },
     "execution_count": 10,
     "metadata": {},
<<<<<<< HEAD
     "output_type": "execute_result"
=======
     "execution_count": 8
>>>>>>> b3ed9f8899027b655fd03724d2ac40c7f315cd0e
    }
   ],
   "source": [
    "get_vif(mwi_train[selected_columns])"
   ]
  },
  {
   "cell_type": "code",
   "execution_count": null,
   "metadata": {},
   "outputs": [],
   "source": []
  },
  {
   "cell_type": "markdown",
   "metadata": {},
   "source": [
    "### Standardization "
   ]
  },
  {
   "cell_type": "code",
<<<<<<< HEAD
   "execution_count": 11,
=======
   "execution_count": 9,
>>>>>>> b3ed9f8899027b655fd03724d2ac40c7f315cd0e
   "metadata": {},
   "outputs": [],
   "source": [
    "# Standardize features\n",
    "def standardize(df, numeric_only=True):\n",
    "    if numeric_only is True:\n",
    "    # find non-boolean columns\n",
    "        cols = df.loc[:, df.dtypes != 'uint8'].columns\n",
    "    else:\n",
    "        cols = df.columns\n",
    "    for field in cols:\n",
    "        mean, std = df[field].mean(), df[field].std()\n",
    "        # account for constant columns\n",
    "        if np.all(df[field] - mean != 0):\n",
    "            df.loc[:, field] = (df[field] - mean) / std\n",
    "    \n",
    "    return df"
   ]
  },
  {
   "cell_type": "code",
   "execution_count": null,
   "metadata": {},
   "outputs": [],
   "source": []
  },
  {
   "cell_type": "code",
<<<<<<< HEAD
   "execution_count": 12,
   "metadata": {},
   "outputs": [
    {
     "name": "stderr",
     "output_type": "stream",
     "text": [
      "C:\\Users\\micha\\Anaconda3\\lib\\site-packages\\pandas\\core\\indexing.py:966: SettingWithCopyWarning: \n",
      "A value is trying to be set on a copy of a slice from a DataFrame.\n",
      "Try using .loc[row_indexer,col_indexer] = value instead\n",
      "\n",
      "See the caveats in the documentation: https://pandas.pydata.org/pandas-docs/stable/user_guide/indexing.html#returning-a-view-versus-a-copy\n",
      "  self.obj[item] = s\n",
      "C:\\Users\\micha\\Anaconda3\\lib\\site-packages\\pandas\\core\\indexing.py:966: SettingWithCopyWarning: \n",
      "A value is trying to be set on a copy of a slice from a DataFrame.\n",
      "Try using .loc[row_indexer,col_indexer] = value instead\n",
      "\n",
      "See the caveats in the documentation: https://pandas.pydata.org/pandas-docs/stable/user_guide/indexing.html#returning-a-view-versus-a-copy\n",
      "  self.obj[item] = s\n"
     ]
    },
    {
=======
   "execution_count": 10,
   "metadata": {},
   "outputs": [
    {
     "output_type": "execute_result",
>>>>>>> b3ed9f8899027b655fd03724d2ac40c7f315cd0e
     "data": {
      "text/html": [
       "<div>\n",
       "<style scoped>\n",
       "    .dataframe tbody tr th:only-of-type {\n",
       "        vertical-align: middle;\n",
       "    }\n",
       "\n",
       "    .dataframe tbody tr th {\n",
       "        vertical-align: top;\n",
       "    }\n",
       "\n",
       "    .dataframe thead th {\n",
       "        text-align: right;\n",
       "    }\n",
       "</style>\n",
       "<table border=\"1\" class=\"dataframe\">\n",
       "  <thead>\n",
       "    <tr style=\"text-align: right;\">\n",
       "      <th></th>\n",
       "      <th>hid</th>\n",
       "      <th>wta_hh</th>\n",
       "      <th>wta_pop</th>\n",
       "      <th>der_hhsize</th>\n",
       "      <th>poor</th>\n",
       "      <th>hld_rooms</th>\n",
       "      <th>hld_nbcellpho</th>\n",
       "      <th>hld_selfscale</th>\n",
       "      <th>der_nchild10under</th>\n",
       "      <th>der_nmalesover10</th>\n",
       "      <th>...</th>\n",
       "      <th>com_medicines__Yes</th>\n",
       "      <th>com_clinic__Yes</th>\n",
       "      <th>com_distclinic__11 to 15 kilometers</th>\n",
       "      <th>com_distclinic__16 to 20 kilometers</th>\n",
       "      <th>com_distclinic__21 to 25 kilometers</th>\n",
       "      <th>com_distclinic__26 to 30 kilometers</th>\n",
       "      <th>com_distclinic__6 to 10 kilometers</th>\n",
       "      <th>com_distclinic__Above 30 kilometers</th>\n",
       "      <th>com_distclinic__nan</th>\n",
       "      <th>com_bank__Yes</th>\n",
       "    </tr>\n",
       "  </thead>\n",
       "  <tbody>\n",
       "    <tr>\n",
       "      <th>7927</th>\n",
       "      <td>0.898019</td>\n",
       "      <td>-0.463091</td>\n",
       "      <td>-0.289299</td>\n",
       "      <td>0.183527</td>\n",
       "      <td>1.102410</td>\n",
       "      <td>0.326073</td>\n",
       "      <td>-0.597364</td>\n",
       "      <td>-1.131563</td>\n",
       "      <td>0.977090</td>\n",
       "      <td>-0.398378</td>\n",
       "      <td>...</td>\n",
       "      <td>-1.700716</td>\n",
       "      <td>-0.593458</td>\n",
       "      <td>-0.321636</td>\n",
       "      <td>-0.198159</td>\n",
       "      <td>-0.096077</td>\n",
       "      <td>-0.150344</td>\n",
       "      <td>-0.545987</td>\n",
       "      <td>-0.150344</td>\n",
       "      <td>-0.592787</td>\n",
       "      <td>-0.258440</td>\n",
       "    </tr>\n",
       "    <tr>\n",
       "      <th>4210</th>\n",
       "      <td>-0.375839</td>\n",
       "      <td>-0.356672</td>\n",
       "      <td>-0.560014</td>\n",
       "      <td>-0.721591</td>\n",
       "      <td>-0.907005</td>\n",
       "      <td>-0.512205</td>\n",
       "      <td>0.398207</td>\n",
       "      <td>1.089716</td>\n",
       "      <td>-0.483297</td>\n",
       "      <td>-0.398378</td>\n",
       "      <td>...</td>\n",
       "      <td>0.587923</td>\n",
       "      <td>-0.593458</td>\n",
       "      <td>-0.321636</td>\n",
       "      <td>-0.198159</td>\n",
       "      <td>-0.096077</td>\n",
       "      <td>-0.150344</td>\n",
       "      <td>-0.545987</td>\n",
       "      <td>-0.150344</td>\n",
       "      <td>-0.592787</td>\n",
       "      <td>-0.258440</td>\n",
       "    </tr>\n",
       "    <tr>\n",
       "      <th>457</th>\n",
       "      <td>-1.705763</td>\n",
       "      <td>-0.612824</td>\n",
       "      <td>-0.277359</td>\n",
       "      <td>0.636087</td>\n",
       "      <td>1.102410</td>\n",
       "      <td>2.002628</td>\n",
       "      <td>-0.597364</td>\n",
       "      <td>-0.020924</td>\n",
       "      <td>0.977090</td>\n",
       "      <td>-0.398378</td>\n",
       "      <td>...</td>\n",
       "      <td>-1.700716</td>\n",
       "      <td>-0.593458</td>\n",
       "      <td>-0.321636</td>\n",
       "      <td>-0.198159</td>\n",
       "      <td>-0.096077</td>\n",
       "      <td>-0.150344</td>\n",
       "      <td>-0.545987</td>\n",
       "      <td>-0.150344</td>\n",
       "      <td>-0.592787</td>\n",
       "      <td>-0.258440</td>\n",
       "    </tr>\n",
       "    <tr>\n",
       "      <th>11951</th>\n",
       "      <td>1.043807</td>\n",
       "      <td>-0.095341</td>\n",
       "      <td>-0.429043</td>\n",
       "      <td>-0.721591</td>\n",
       "      <td>-0.907005</td>\n",
       "      <td>0.326073</td>\n",
       "      <td>2.389348</td>\n",
       "      <td>1.089716</td>\n",
       "      <td>-0.483297</td>\n",
       "      <td>-0.398378</td>\n",
       "      <td>...</td>\n",
       "      <td>0.587923</td>\n",
       "      <td>1.684855</td>\n",
       "      <td>-0.321636</td>\n",
       "      <td>-0.198159</td>\n",
       "      <td>-0.096077</td>\n",
       "      <td>-0.150344</td>\n",
       "      <td>-0.545987</td>\n",
       "      <td>-0.150344</td>\n",
       "      <td>1.686762</td>\n",
       "      <td>3.868954</td>\n",
       "    </tr>\n",
       "    <tr>\n",
       "      <th>11428</th>\n",
       "      <td>1.014233</td>\n",
       "      <td>-0.985350</td>\n",
       "      <td>-0.949866</td>\n",
       "      <td>-1.174151</td>\n",
       "      <td>-0.907005</td>\n",
       "      <td>-1.350483</td>\n",
       "      <td>-0.597364</td>\n",
       "      <td>-0.020924</td>\n",
       "      <td>-1.213490</td>\n",
       "      <td>-0.398378</td>\n",
       "      <td>...</td>\n",
       "      <td>0.587923</td>\n",
       "      <td>-0.593458</td>\n",
       "      <td>-0.321636</td>\n",
       "      <td>5.045910</td>\n",
       "      <td>-0.096077</td>\n",
       "      <td>-0.150344</td>\n",
       "      <td>-0.545987</td>\n",
       "      <td>-0.150344</td>\n",
       "      <td>-0.592787</td>\n",
       "      <td>-0.258440</td>\n",
       "    </tr>\n",
       "    <tr>\n",
       "      <th>...</th>\n",
       "      <td>...</td>\n",
       "      <td>...</td>\n",
       "      <td>...</td>\n",
       "      <td>...</td>\n",
       "      <td>...</td>\n",
       "      <td>...</td>\n",
       "      <td>...</td>\n",
       "      <td>...</td>\n",
       "      <td>...</td>\n",
       "      <td>...</td>\n",
       "      <td>...</td>\n",
       "      <td>...</td>\n",
       "      <td>...</td>\n",
       "      <td>...</td>\n",
       "      <td>...</td>\n",
       "      <td>...</td>\n",
       "      <td>...</td>\n",
       "      <td>...</td>\n",
       "      <td>...</td>\n",
       "      <td>...</td>\n",
       "      <td>...</td>\n",
       "    </tr>\n",
       "    <tr>\n",
       "      <th>5430</th>\n",
       "      <td>-0.339037</td>\n",
       "      <td>1.670244</td>\n",
       "      <td>2.011053</td>\n",
       "      <td>0.636087</td>\n",
       "      <td>1.102410</td>\n",
       "      <td>-0.512205</td>\n",
       "      <td>-0.597364</td>\n",
       "      <td>-1.131563</td>\n",
       "      <td>-0.483297</td>\n",
       "      <td>0.572252</td>\n",
       "      <td>...</td>\n",
       "      <td>0.587923</td>\n",
       "      <td>1.684855</td>\n",
       "      <td>-0.321636</td>\n",
       "      <td>-0.198159</td>\n",
       "      <td>-0.096077</td>\n",
       "      <td>-0.150344</td>\n",
       "      <td>-0.545987</td>\n",
       "      <td>-0.150344</td>\n",
       "      <td>1.686762</td>\n",
       "      <td>-0.258440</td>\n",
       "    </tr>\n",
       "    <tr>\n",
       "      <th>11107</th>\n",
       "      <td>1.013599</td>\n",
       "      <td>-0.966039</td>\n",
       "      <td>-0.709404</td>\n",
       "      <td>0.183527</td>\n",
       "      <td>-0.907005</td>\n",
       "      <td>-0.512205</td>\n",
       "      <td>-0.597364</td>\n",
       "      <td>1.089716</td>\n",
       "      <td>0.246897</td>\n",
       "      <td>-0.398378</td>\n",
       "      <td>...</td>\n",
       "      <td>0.587923</td>\n",
       "      <td>-0.593458</td>\n",
       "      <td>-0.321636</td>\n",
       "      <td>-0.198159</td>\n",
       "      <td>-0.096077</td>\n",
       "      <td>-0.150344</td>\n",
       "      <td>-0.545987</td>\n",
       "      <td>-0.150344</td>\n",
       "      <td>-0.592787</td>\n",
       "      <td>-0.258440</td>\n",
       "    </tr>\n",
       "    <tr>\n",
       "      <th>769</th>\n",
       "      <td>-1.692960</td>\n",
       "      <td>-0.698943</td>\n",
       "      <td>-0.976797</td>\n",
       "      <td>-1.626710</td>\n",
       "      <td>-0.907005</td>\n",
       "      <td>-1.350483</td>\n",
       "      <td>-0.597364</td>\n",
       "      <td>-0.020924</td>\n",
       "      <td>-1.213490</td>\n",
       "      <td>-0.398378</td>\n",
       "      <td>...</td>\n",
       "      <td>0.587923</td>\n",
       "      <td>-0.593458</td>\n",
       "      <td>-0.321636</td>\n",
       "      <td>-0.198159</td>\n",
       "      <td>-0.096077</td>\n",
       "      <td>6.650687</td>\n",
       "      <td>-0.545987</td>\n",
       "      <td>-0.150344</td>\n",
       "      <td>-0.592787</td>\n",
       "      <td>-0.258440</td>\n",
       "    </tr>\n",
       "    <tr>\n",
       "      <th>8471</th>\n",
       "      <td>0.923374</td>\n",
       "      <td>-0.730534</td>\n",
       "      <td>-0.747383</td>\n",
       "      <td>-0.721591</td>\n",
       "      <td>-0.907005</td>\n",
       "      <td>-1.350483</td>\n",
       "      <td>-0.597364</td>\n",
       "      <td>-0.020924</td>\n",
       "      <td>-0.483297</td>\n",
       "      <td>-0.398378</td>\n",
       "      <td>...</td>\n",
       "      <td>0.587923</td>\n",
       "      <td>-0.593458</td>\n",
       "      <td>-0.321636</td>\n",
       "      <td>-0.198159</td>\n",
       "      <td>-0.096077</td>\n",
       "      <td>-0.150344</td>\n",
       "      <td>-0.545987</td>\n",
       "      <td>6.650687</td>\n",
       "      <td>-0.592787</td>\n",
       "      <td>-0.258440</td>\n",
       "    </tr>\n",
       "    <tr>\n",
       "      <th>7712</th>\n",
       "      <td>0.897624</td>\n",
       "      <td>-0.635471</td>\n",
       "      <td>-0.699740</td>\n",
       "      <td>-0.721591</td>\n",
       "      <td>-0.907005</td>\n",
       "      <td>0.326073</td>\n",
       "      <td>0.398207</td>\n",
       "      <td>-0.020924</td>\n",
       "      <td>-0.483297</td>\n",
       "      <td>-0.398378</td>\n",
       "      <td>...</td>\n",
       "      <td>0.587923</td>\n",
       "      <td>1.684855</td>\n",
       "      <td>-0.321636</td>\n",
       "      <td>-0.198159</td>\n",
       "      <td>-0.096077</td>\n",
       "      <td>-0.150344</td>\n",
       "      <td>-0.545987</td>\n",
       "      <td>-0.150344</td>\n",
       "      <td>1.686762</td>\n",
       "      <td>-0.258440</td>\n",
       "    </tr>\n",
       "  </tbody>\n",
       "</table>\n",
       "<p>9183 rows × 488 columns</p>\n",
       "</div>"
      ],
      "text/plain": [
       "            hid    wta_hh   wta_pop  der_hhsize      poor  hld_rooms  \\\n",
       "7927   0.898019 -0.463091 -0.289299    0.183527  1.102410   0.326073   \n",
       "4210  -0.375839 -0.356672 -0.560014   -0.721591 -0.907005  -0.512205   \n",
       "457   -1.705763 -0.612824 -0.277359    0.636087  1.102410   2.002628   \n",
       "11951  1.043807 -0.095341 -0.429043   -0.721591 -0.907005   0.326073   \n",
       "11428  1.014233 -0.985350 -0.949866   -1.174151 -0.907005  -1.350483   \n",
       "...         ...       ...       ...         ...       ...        ...   \n",
       "5430  -0.339037  1.670244  2.011053    0.636087  1.102410  -0.512205   \n",
       "11107  1.013599 -0.966039 -0.709404    0.183527 -0.907005  -0.512205   \n",
       "769   -1.692960 -0.698943 -0.976797   -1.626710 -0.907005  -1.350483   \n",
       "8471   0.923374 -0.730534 -0.747383   -0.721591 -0.907005  -1.350483   \n",
       "7712   0.897624 -0.635471 -0.699740   -0.721591 -0.907005   0.326073   \n",
       "\n",
       "       hld_nbcellpho  hld_selfscale  der_nchild10under  der_nmalesover10  ...  \\\n",
       "7927       -0.597364      -1.131563           0.977090         -0.398378  ...   \n",
       "4210        0.398207       1.089716          -0.483297         -0.398378  ...   \n",
       "457        -0.597364      -0.020924           0.977090         -0.398378  ...   \n",
       "11951       2.389348       1.089716          -0.483297         -0.398378  ...   \n",
       "11428      -0.597364      -0.020924          -1.213490         -0.398378  ...   \n",
       "...              ...            ...                ...               ...  ...   \n",
       "5430       -0.597364      -1.131563          -0.483297          0.572252  ...   \n",
       "11107      -0.597364       1.089716           0.246897         -0.398378  ...   \n",
       "769        -0.597364      -0.020924          -1.213490         -0.398378  ...   \n",
       "8471       -0.597364      -0.020924          -0.483297         -0.398378  ...   \n",
       "7712        0.398207      -0.020924          -0.483297         -0.398378  ...   \n",
       "\n",
       "       com_medicines__Yes  com_clinic__Yes  \\\n",
       "7927            -1.700716        -0.593458   \n",
       "4210             0.587923        -0.593458   \n",
       "457             -1.700716        -0.593458   \n",
       "11951            0.587923         1.684855   \n",
       "11428            0.587923        -0.593458   \n",
       "...                   ...              ...   \n",
       "5430             0.587923         1.684855   \n",
       "11107            0.587923        -0.593458   \n",
       "769              0.587923        -0.593458   \n",
       "8471             0.587923        -0.593458   \n",
       "7712             0.587923         1.684855   \n",
       "\n",
       "       com_distclinic__11 to 15 kilometers  \\\n",
       "7927                             -0.321636   \n",
       "4210                             -0.321636   \n",
       "457                              -0.321636   \n",
       "11951                            -0.321636   \n",
       "11428                            -0.321636   \n",
       "...                                    ...   \n",
       "5430                             -0.321636   \n",
       "11107                            -0.321636   \n",
       "769                              -0.321636   \n",
       "8471                             -0.321636   \n",
       "7712                             -0.321636   \n",
       "\n",
       "       com_distclinic__16 to 20 kilometers  \\\n",
       "7927                             -0.198159   \n",
       "4210                             -0.198159   \n",
       "457                              -0.198159   \n",
       "11951                            -0.198159   \n",
       "11428                             5.045910   \n",
       "...                                    ...   \n",
       "5430                             -0.198159   \n",
       "11107                            -0.198159   \n",
       "769                              -0.198159   \n",
       "8471                             -0.198159   \n",
       "7712                             -0.198159   \n",
       "\n",
       "       com_distclinic__21 to 25 kilometers  \\\n",
       "7927                             -0.096077   \n",
       "4210                             -0.096077   \n",
       "457                              -0.096077   \n",
       "11951                            -0.096077   \n",
       "11428                            -0.096077   \n",
       "...                                    ...   \n",
       "5430                             -0.096077   \n",
       "11107                            -0.096077   \n",
       "769                              -0.096077   \n",
       "8471                             -0.096077   \n",
       "7712                             -0.096077   \n",
       "\n",
       "       com_distclinic__26 to 30 kilometers  \\\n",
       "7927                             -0.150344   \n",
       "4210                             -0.150344   \n",
       "457                              -0.150344   \n",
       "11951                            -0.150344   \n",
       "11428                            -0.150344   \n",
       "...                                    ...   \n",
       "5430                             -0.150344   \n",
       "11107                            -0.150344   \n",
       "769                               6.650687   \n",
       "8471                             -0.150344   \n",
       "7712                             -0.150344   \n",
       "\n",
       "       com_distclinic__6 to 10 kilometers  \\\n",
       "7927                            -0.545987   \n",
       "4210                            -0.545987   \n",
       "457                             -0.545987   \n",
       "11951                           -0.545987   \n",
       "11428                           -0.545987   \n",
       "...                                   ...   \n",
       "5430                            -0.545987   \n",
       "11107                           -0.545987   \n",
       "769                             -0.545987   \n",
       "8471                            -0.545987   \n",
       "7712                            -0.545987   \n",
       "\n",
       "       com_distclinic__Above 30 kilometers  com_distclinic__nan  com_bank__Yes  \n",
       "7927                             -0.150344            -0.592787      -0.258440  \n",
       "4210                             -0.150344            -0.592787      -0.258440  \n",
       "457                              -0.150344            -0.592787      -0.258440  \n",
       "11951                            -0.150344             1.686762       3.868954  \n",
       "11428                            -0.150344            -0.592787      -0.258440  \n",
       "...                                    ...                  ...            ...  \n",
       "5430                             -0.150344             1.686762      -0.258440  \n",
       "11107                            -0.150344            -0.592787      -0.258440  \n",
       "769                              -0.150344            -0.592787      -0.258440  \n",
       "8471                              6.650687            -0.592787      -0.258440  \n",
       "7712                             -0.150344             1.686762      -0.258440  \n",
       "\n",
       "[9183 rows x 488 columns]"
      ]
     },
     "execution_count": 12,
     "metadata": {},
<<<<<<< HEAD
     "output_type": "execute_result"
=======
     "execution_count": 10
>>>>>>> b3ed9f8899027b655fd03724d2ac40c7f315cd0e
    }
   ],
   "source": [
    "standardize(mwi_train)"
   ]
  },
  {
   "cell_type": "code",
   "execution_count": null,
   "metadata": {},
   "outputs": [],
   "source": []
  },
  {
   "cell_type": "code",
<<<<<<< HEAD
   "execution_count": 13,
=======
   "execution_count": 11,
>>>>>>> b3ed9f8899027b655fd03724d2ac40c7f315cd0e
   "metadata": {},
   "outputs": [
    {
     "data": {
<<<<<<< HEAD
      "text/html": [
       "<div>\n",
       "<style scoped>\n",
       "    .dataframe tbody tr th:only-of-type {\n",
       "        vertical-align: middle;\n",
       "    }\n",
       "\n",
       "    .dataframe tbody tr th {\n",
       "        vertical-align: top;\n",
       "    }\n",
       "\n",
       "    .dataframe thead th {\n",
       "        text-align: right;\n",
       "    }\n",
       "</style>\n",
       "<table border=\"1\" class=\"dataframe\">\n",
       "  <thead>\n",
       "    <tr style=\"text-align: right;\">\n",
       "      <th></th>\n",
       "      <th>der_hhsize</th>\n",
       "      <th>der_nchild10under</th>\n",
       "      <th>der_nmalesover10</th>\n",
       "      <th>der_nfemalesover10</th>\n",
       "      <th>der_nliterate</th>\n",
       "      <th>der_nemployedpastyear</th>\n",
       "      <th>hld_electricity__Yes</th>\n",
       "      <th>hld_toilet__None</th>\n",
       "      <th>cons_0504__Yes</th>\n",
       "      <th>cons_0508__Yes</th>\n",
       "    </tr>\n",
       "  </thead>\n",
       "  <tbody>\n",
       "    <tr>\n",
       "      <th>7927</th>\n",
       "      <td>0.183527</td>\n",
       "      <td>0.977090</td>\n",
       "      <td>-0.398378</td>\n",
       "      <td>-0.549568</td>\n",
       "      <td>-0.083075</td>\n",
       "      <td>-0.503193</td>\n",
       "      <td>-0.307632</td>\n",
       "      <td>-0.316665</td>\n",
       "      <td>-0.361605</td>\n",
       "      <td>-0.513617</td>\n",
       "    </tr>\n",
       "    <tr>\n",
       "      <th>4210</th>\n",
       "      <td>-0.721591</td>\n",
       "      <td>-0.483297</td>\n",
       "      <td>-0.398378</td>\n",
       "      <td>-0.549568</td>\n",
       "      <td>-0.083075</td>\n",
       "      <td>1.318897</td>\n",
       "      <td>-0.307632</td>\n",
       "      <td>-0.316665</td>\n",
       "      <td>-0.361605</td>\n",
       "      <td>-0.513617</td>\n",
       "    </tr>\n",
       "    <tr>\n",
       "      <th>457</th>\n",
       "      <td>0.636087</td>\n",
       "      <td>0.977090</td>\n",
       "      <td>-0.398378</td>\n",
       "      <td>0.535040</td>\n",
       "      <td>-0.083075</td>\n",
       "      <td>-0.503193</td>\n",
       "      <td>-0.307632</td>\n",
       "      <td>-0.316665</td>\n",
       "      <td>-0.361605</td>\n",
       "      <td>-0.513617</td>\n",
       "    </tr>\n",
       "    <tr>\n",
       "      <th>11951</th>\n",
       "      <td>-0.721591</td>\n",
       "      <td>-0.483297</td>\n",
       "      <td>-0.398378</td>\n",
       "      <td>-0.549568</td>\n",
       "      <td>0.492247</td>\n",
       "      <td>1.318897</td>\n",
       "      <td>3.250283</td>\n",
       "      <td>-0.316665</td>\n",
       "      <td>2.765151</td>\n",
       "      <td>1.946763</td>\n",
       "    </tr>\n",
       "    <tr>\n",
       "      <th>11428</th>\n",
       "      <td>-1.174151</td>\n",
       "      <td>-1.213490</td>\n",
       "      <td>-0.398378</td>\n",
       "      <td>-0.549568</td>\n",
       "      <td>-0.083075</td>\n",
       "      <td>-0.503193</td>\n",
       "      <td>-0.307632</td>\n",
       "      <td>-0.316665</td>\n",
       "      <td>-0.361605</td>\n",
       "      <td>-0.513617</td>\n",
       "    </tr>\n",
       "    <tr>\n",
       "      <th>...</th>\n",
       "      <td>...</td>\n",
       "      <td>...</td>\n",
       "      <td>...</td>\n",
       "      <td>...</td>\n",
       "      <td>...</td>\n",
       "      <td>...</td>\n",
       "      <td>...</td>\n",
       "      <td>...</td>\n",
       "      <td>...</td>\n",
       "      <td>...</td>\n",
       "    </tr>\n",
       "    <tr>\n",
       "      <th>5430</th>\n",
       "      <td>0.636087</td>\n",
       "      <td>-0.483297</td>\n",
       "      <td>0.572252</td>\n",
       "      <td>1.619648</td>\n",
       "      <td>-0.658397</td>\n",
       "      <td>-0.503193</td>\n",
       "      <td>-0.307632</td>\n",
       "      <td>-0.316665</td>\n",
       "      <td>-0.361605</td>\n",
       "      <td>-0.513617</td>\n",
       "    </tr>\n",
       "    <tr>\n",
       "      <th>11107</th>\n",
       "      <td>0.183527</td>\n",
       "      <td>0.246897</td>\n",
       "      <td>-0.398378</td>\n",
       "      <td>0.535040</td>\n",
       "      <td>-0.083075</td>\n",
       "      <td>-0.503193</td>\n",
       "      <td>-0.307632</td>\n",
       "      <td>-0.316665</td>\n",
       "      <td>-0.361605</td>\n",
       "      <td>-0.513617</td>\n",
       "    </tr>\n",
       "    <tr>\n",
       "      <th>769</th>\n",
       "      <td>-1.626710</td>\n",
       "      <td>-1.213490</td>\n",
       "      <td>-0.398378</td>\n",
       "      <td>-1.634176</td>\n",
       "      <td>-0.658397</td>\n",
       "      <td>-0.503193</td>\n",
       "      <td>-0.307632</td>\n",
       "      <td>3.157569</td>\n",
       "      <td>-0.361605</td>\n",
       "      <td>-0.513617</td>\n",
       "    </tr>\n",
       "    <tr>\n",
       "      <th>8471</th>\n",
       "      <td>-0.721591</td>\n",
       "      <td>-0.483297</td>\n",
       "      <td>-0.398378</td>\n",
       "      <td>-0.549568</td>\n",
       "      <td>-0.083075</td>\n",
       "      <td>-0.503193</td>\n",
       "      <td>-0.307632</td>\n",
       "      <td>-0.316665</td>\n",
       "      <td>-0.361605</td>\n",
       "      <td>-0.513617</td>\n",
       "    </tr>\n",
       "    <tr>\n",
       "      <th>7712</th>\n",
       "      <td>-0.721591</td>\n",
       "      <td>-0.483297</td>\n",
       "      <td>-0.398378</td>\n",
       "      <td>-0.549568</td>\n",
       "      <td>-0.083075</td>\n",
       "      <td>-0.503193</td>\n",
       "      <td>-0.307632</td>\n",
       "      <td>3.157569</td>\n",
       "      <td>-0.361605</td>\n",
       "      <td>1.946763</td>\n",
       "    </tr>\n",
       "  </tbody>\n",
       "</table>\n",
       "<p>9183 rows × 10 columns</p>\n",
       "</div>"
      ],
      "text/plain": [
       "       der_hhsize  der_nchild10under  der_nmalesover10  der_nfemalesover10  \\\n",
       "7927     0.183527           0.977090         -0.398378           -0.549568   \n",
       "4210    -0.721591          -0.483297         -0.398378           -0.549568   \n",
       "457      0.636087           0.977090         -0.398378            0.535040   \n",
       "11951   -0.721591          -0.483297         -0.398378           -0.549568   \n",
       "11428   -1.174151          -1.213490         -0.398378           -0.549568   \n",
       "...           ...                ...               ...                 ...   \n",
       "5430     0.636087          -0.483297          0.572252            1.619648   \n",
       "11107    0.183527           0.246897         -0.398378            0.535040   \n",
       "769     -1.626710          -1.213490         -0.398378           -1.634176   \n",
       "8471    -0.721591          -0.483297         -0.398378           -0.549568   \n",
       "7712    -0.721591          -0.483297         -0.398378           -0.549568   \n",
       "\n",
       "       der_nliterate  der_nemployedpastyear  hld_electricity__Yes  \\\n",
       "7927       -0.083075              -0.503193             -0.307632   \n",
       "4210       -0.083075               1.318897             -0.307632   \n",
       "457        -0.083075              -0.503193             -0.307632   \n",
       "11951       0.492247               1.318897              3.250283   \n",
       "11428      -0.083075              -0.503193             -0.307632   \n",
       "...              ...                    ...                   ...   \n",
       "5430       -0.658397              -0.503193             -0.307632   \n",
       "11107      -0.083075              -0.503193             -0.307632   \n",
       "769        -0.658397              -0.503193             -0.307632   \n",
       "8471       -0.083075              -0.503193             -0.307632   \n",
       "7712       -0.083075              -0.503193             -0.307632   \n",
       "\n",
       "       hld_toilet__None  cons_0504__Yes  cons_0508__Yes  \n",
       "7927          -0.316665       -0.361605       -0.513617  \n",
       "4210          -0.316665       -0.361605       -0.513617  \n",
       "457           -0.316665       -0.361605       -0.513617  \n",
       "11951         -0.316665        2.765151        1.946763  \n",
       "11428         -0.316665       -0.361605       -0.513617  \n",
       "...                 ...             ...             ...  \n",
       "5430          -0.316665       -0.361605       -0.513617  \n",
       "11107         -0.316665       -0.361605       -0.513617  \n",
       "769            3.157569       -0.361605       -0.513617  \n",
       "8471          -0.316665       -0.361605       -0.513617  \n",
       "7712           3.157569       -0.361605        1.946763  \n",
       "\n",
       "[9183 rows x 10 columns]"
      ]
=======
      "text/plain": "       der_hhsize  der_nchild10under  der_nmalesover10  der_nfemalesover10  \\\n7927     0.183527           0.977090         -0.398378           -0.549568   \n4210    -0.721591          -0.483297         -0.398378           -0.549568   \n457      0.636087           0.977090         -0.398378            0.535040   \n11951   -0.721591          -0.483297         -0.398378           -0.549568   \n11428   -1.174151          -1.213490         -0.398378           -0.549568   \n...           ...                ...               ...                 ...   \n5430     0.636087          -0.483297          0.572252            1.619648   \n11107    0.183527           0.246897         -0.398378            0.535040   \n769     -1.626710          -1.213490         -0.398378           -1.634176   \n8471    -0.721591          -0.483297         -0.398378           -0.549568   \n7712    -0.721591          -0.483297         -0.398378           -0.549568   \n\n       der_nliterate  der_nemployedpastyear  hld_electricity__Yes  \\\n7927       -0.083075              -0.503193             -0.307632   \n4210       -0.083075               1.318897             -0.307632   \n457        -0.083075              -0.503193             -0.307632   \n11951       0.492247               1.318897              3.250283   \n11428      -0.083075              -0.503193             -0.307632   \n...              ...                    ...                   ...   \n5430       -0.658397              -0.503193             -0.307632   \n11107      -0.083075              -0.503193             -0.307632   \n769        -0.658397              -0.503193             -0.307632   \n8471       -0.083075              -0.503193             -0.307632   \n7712       -0.083075              -0.503193             -0.307632   \n\n       hld_toilet__None  cons_0504__Yes  cons_0508__Yes  \n7927          -0.316665       -0.361605       -0.513617  \n4210          -0.316665       -0.361605       -0.513617  \n457           -0.316665       -0.361605       -0.513617  \n11951         -0.316665        2.765151        1.946763  \n11428         -0.316665       -0.361605       -0.513617  \n...                 ...             ...             ...  \n5430          -0.316665       -0.361605       -0.513617  \n11107         -0.316665       -0.361605       -0.513617  \n769            3.157569       -0.361605       -0.513617  \n8471          -0.316665       -0.361605       -0.513617  \n7712           3.157569       -0.361605        1.946763  \n\n[9183 rows x 10 columns]",
      "text/html": "<div>\n<style scoped>\n    .dataframe tbody tr th:only-of-type {\n        vertical-align: middle;\n    }\n\n    .dataframe tbody tr th {\n        vertical-align: top;\n    }\n\n    .dataframe thead th {\n        text-align: right;\n    }\n</style>\n<table border=\"1\" class=\"dataframe\">\n  <thead>\n    <tr style=\"text-align: right;\">\n      <th></th>\n      <th>der_hhsize</th>\n      <th>der_nchild10under</th>\n      <th>der_nmalesover10</th>\n      <th>der_nfemalesover10</th>\n      <th>der_nliterate</th>\n      <th>der_nemployedpastyear</th>\n      <th>hld_electricity__Yes</th>\n      <th>hld_toilet__None</th>\n      <th>cons_0504__Yes</th>\n      <th>cons_0508__Yes</th>\n    </tr>\n  </thead>\n  <tbody>\n    <tr>\n      <th>7927</th>\n      <td>0.183527</td>\n      <td>0.977090</td>\n      <td>-0.398378</td>\n      <td>-0.549568</td>\n      <td>-0.083075</td>\n      <td>-0.503193</td>\n      <td>-0.307632</td>\n      <td>-0.316665</td>\n      <td>-0.361605</td>\n      <td>-0.513617</td>\n    </tr>\n    <tr>\n      <th>4210</th>\n      <td>-0.721591</td>\n      <td>-0.483297</td>\n      <td>-0.398378</td>\n      <td>-0.549568</td>\n      <td>-0.083075</td>\n      <td>1.318897</td>\n      <td>-0.307632</td>\n      <td>-0.316665</td>\n      <td>-0.361605</td>\n      <td>-0.513617</td>\n    </tr>\n    <tr>\n      <th>457</th>\n      <td>0.636087</td>\n      <td>0.977090</td>\n      <td>-0.398378</td>\n      <td>0.535040</td>\n      <td>-0.083075</td>\n      <td>-0.503193</td>\n      <td>-0.307632</td>\n      <td>-0.316665</td>\n      <td>-0.361605</td>\n      <td>-0.513617</td>\n    </tr>\n    <tr>\n      <th>11951</th>\n      <td>-0.721591</td>\n      <td>-0.483297</td>\n      <td>-0.398378</td>\n      <td>-0.549568</td>\n      <td>0.492247</td>\n      <td>1.318897</td>\n      <td>3.250283</td>\n      <td>-0.316665</td>\n      <td>2.765151</td>\n      <td>1.946763</td>\n    </tr>\n    <tr>\n      <th>11428</th>\n      <td>-1.174151</td>\n      <td>-1.213490</td>\n      <td>-0.398378</td>\n      <td>-0.549568</td>\n      <td>-0.083075</td>\n      <td>-0.503193</td>\n      <td>-0.307632</td>\n      <td>-0.316665</td>\n      <td>-0.361605</td>\n      <td>-0.513617</td>\n    </tr>\n    <tr>\n      <th>...</th>\n      <td>...</td>\n      <td>...</td>\n      <td>...</td>\n      <td>...</td>\n      <td>...</td>\n      <td>...</td>\n      <td>...</td>\n      <td>...</td>\n      <td>...</td>\n      <td>...</td>\n    </tr>\n    <tr>\n      <th>5430</th>\n      <td>0.636087</td>\n      <td>-0.483297</td>\n      <td>0.572252</td>\n      <td>1.619648</td>\n      <td>-0.658397</td>\n      <td>-0.503193</td>\n      <td>-0.307632</td>\n      <td>-0.316665</td>\n      <td>-0.361605</td>\n      <td>-0.513617</td>\n    </tr>\n    <tr>\n      <th>11107</th>\n      <td>0.183527</td>\n      <td>0.246897</td>\n      <td>-0.398378</td>\n      <td>0.535040</td>\n      <td>-0.083075</td>\n      <td>-0.503193</td>\n      <td>-0.307632</td>\n      <td>-0.316665</td>\n      <td>-0.361605</td>\n      <td>-0.513617</td>\n    </tr>\n    <tr>\n      <th>769</th>\n      <td>-1.626710</td>\n      <td>-1.213490</td>\n      <td>-0.398378</td>\n      <td>-1.634176</td>\n      <td>-0.658397</td>\n      <td>-0.503193</td>\n      <td>-0.307632</td>\n      <td>3.157569</td>\n      <td>-0.361605</td>\n      <td>-0.513617</td>\n    </tr>\n    <tr>\n      <th>8471</th>\n      <td>-0.721591</td>\n      <td>-0.483297</td>\n      <td>-0.398378</td>\n      <td>-0.549568</td>\n      <td>-0.083075</td>\n      <td>-0.503193</td>\n      <td>-0.307632</td>\n      <td>-0.316665</td>\n      <td>-0.361605</td>\n      <td>-0.513617</td>\n    </tr>\n    <tr>\n      <th>7712</th>\n      <td>-0.721591</td>\n      <td>-0.483297</td>\n      <td>-0.398378</td>\n      <td>-0.549568</td>\n      <td>-0.083075</td>\n      <td>-0.503193</td>\n      <td>-0.307632</td>\n      <td>3.157569</td>\n      <td>-0.361605</td>\n      <td>1.946763</td>\n    </tr>\n  </tbody>\n</table>\n<p>9183 rows × 10 columns</p>\n</div>"
>>>>>>> b3ed9f8899027b655fd03724d2ac40c7f315cd0e
     },
     "execution_count": 13,
     "metadata": {},
<<<<<<< HEAD
     "output_type": "execute_result"
=======
     "execution_count": 11
>>>>>>> b3ed9f8899027b655fd03724d2ac40c7f315cd0e
    }
   ],
   "source": [
    "mwi_train[selected_columns]"
   ]
  },
  {
   "cell_type": "code",
   "execution_count": null,
   "metadata": {},
   "outputs": [],
   "source": []
  },
  {
   "cell_type": "code",
<<<<<<< HEAD
   "execution_count": 14,
=======
   "execution_count": 12,
>>>>>>> b3ed9f8899027b655fd03724d2ac40c7f315cd0e
   "metadata": {},
   "outputs": [
    {
     "data": {
<<<<<<< HEAD
      "text/plain": [
       "der_hhsize               214.615373\n",
       "der_nchild10under         83.536365\n",
       "der_nmalesover10          48.129934\n",
       "der_nfemalesover10        38.840336\n",
       "der_nliterate              2.256896\n",
       "der_nemployedpastyear      1.240740\n",
       "hld_electricity__Yes       1.344728\n",
       "hld_toilet__None           1.043755\n",
       "cons_0504__Yes             1.194788\n",
       "cons_0508__Yes             1.077015\n",
       "Name: variance_inflaction_factor, dtype: float64"
      ]
=======
      "text/plain": "der_hhsize               214.615373\nder_nchild10under         83.536365\nder_nmalesover10          48.129934\nder_nfemalesover10        38.840336\nder_nliterate              2.256896\nder_nemployedpastyear      1.240740\nhld_electricity__Yes       1.344728\nhld_toilet__None           1.043755\ncons_0504__Yes             1.194788\ncons_0508__Yes             1.077015\nName: variance_inflaction_factor, dtype: float64"
>>>>>>> b3ed9f8899027b655fd03724d2ac40c7f315cd0e
     },
     "execution_count": 14,
     "metadata": {},
<<<<<<< HEAD
     "output_type": "execute_result"
=======
     "execution_count": 12
>>>>>>> b3ed9f8899027b655fd03724d2ac40c7f315cd0e
    }
   ],
   "source": [
    "get_vif(mwi_train[selected_columns])"
   ]
  },
  {
   "cell_type": "code",
   "execution_count": null,
   "metadata": {},
   "outputs": [],
   "source": []
  },
  {
   "cell_type": "code",
<<<<<<< HEAD
   "execution_count": 15,
   "metadata": {},
   "outputs": [
    {
     "name": "stdout",
     "output_type": "stream",
     "text": [
      "['der_nchild10under', 'der_nmalesover10', 'der_nfemalesover10', 'der_nliterate', 'der_nemployedpastyear', 'hld_electricity__Yes', 'hld_toilet__None', 'cons_0504__Yes', 'cons_0508__Yes']\n"
     ]
=======
   "execution_count": 13,
   "metadata": {},
   "outputs": [
    {
     "output_type": "stream",
     "name": "stdout",
     "text": "['der_nchild10under', 'der_nmalesover10', 'der_nfemalesover10', 'der_nliterate', 'der_nemployedpastyear', 'hld_electricity__Yes', 'hld_toilet__None', 'cons_0504__Yes', 'cons_0508__Yes']\n"
>>>>>>> b3ed9f8899027b655fd03724d2ac40c7f315cd0e
    }
   ],
   "source": [
    "selected_columns.remove('der_hhsize')\n",
    "print(selected_columns)"
   ]
  },
  {
   "cell_type": "code",
   "execution_count": null,
   "metadata": {},
   "outputs": [],
   "source": []
  },
  {
   "cell_type": "code",
<<<<<<< HEAD
   "execution_count": 16,
=======
   "execution_count": 14,
>>>>>>> b3ed9f8899027b655fd03724d2ac40c7f315cd0e
   "metadata": {},
   "outputs": [
    {
     "data": {
      "text/plain": [
       "der_nchild10under        1.054748\n",
       "der_nmalesover10         1.511700\n",
       "der_nfemalesover10       1.422928\n",
       "der_nliterate            2.256803\n",
       "der_nemployedpastyear    1.237311\n",
       "hld_electricity__Yes     1.344378\n",
       "hld_toilet__None         1.043731\n",
       "cons_0504__Yes           1.194295\n",
       "cons_0508__Yes           1.077012\n",
       "Name: variance_inflaction_factor, dtype: float64"
      ]
     },
     "execution_count": 16,
     "metadata": {},
<<<<<<< HEAD
     "output_type": "execute_result"
=======
     "execution_count": 14
>>>>>>> b3ed9f8899027b655fd03724d2ac40c7f315cd0e
    }
   ],
   "source": [
    "get_vif(mwi_train[selected_columns])"
   ]
  },
  {
   "cell_type": "code",
   "execution_count": null,
   "metadata": {},
   "outputs": [],
   "source": []
  },
  {
   "cell_type": "code",
<<<<<<< HEAD
   "execution_count": 18,
=======
   "execution_count": 15,
>>>>>>> b3ed9f8899027b655fd03724d2ac40c7f315cd0e
   "metadata": {},
   "outputs": [
    {
     "name": "stdout",
<<<<<<< HEAD
     "output_type": "stream",
     "text": [
      "Optimization terminated successfully.\n",
      "         Current function value: 0.518673\n",
      "         Iterations 8\n"
     ]
=======
     "text": "Optimization terminated successfully.\n         Current function value: 0.517076\n         Iterations 8\n"
>>>>>>> b3ed9f8899027b655fd03724d2ac40c7f315cd0e
    }
   ],
   "source": [
    "model = sm.Logit(y_train, X_train[selected_columns])\n",
    "model = model.fit()"
   ]
  },
  {
   "cell_type": "code",
   "execution_count": null,
   "metadata": {},
   "outputs": [],
   "source": []
  },
  {
   "cell_type": "code",
<<<<<<< HEAD
   "execution_count": 17,
=======
   "execution_count": 16,
>>>>>>> b3ed9f8899027b655fd03724d2ac40c7f315cd0e
   "metadata": {},
   "outputs": [],
   "source": [
    "# The co-efficients \n",
    "def get_coefs_df(X, coefs, index=None, sort=True):\n",
    "    coefs_df = pd.DataFrame(np.std(X, 0) * coefs)\n",
    "    coefs_df.columns = [\"coef_std\"]\n",
    "    coefs_df['coef'] = coefs\n",
    "    coefs_df['abs'] = coefs_df.coef_std.apply(abs)\n",
    "    if index is not None:\n",
    "        coefs_df.index = index\n",
    "    if sort:\n",
    "        coefs_df = coefs_df.sort_values('abs', ascending=False)\n",
    "    return coefs_df"
   ]
  },
  {
   "cell_type": "code",
   "execution_count": null,
   "metadata": {},
   "outputs": [],
   "source": []
  },
  {
   "cell_type": "code",
<<<<<<< HEAD
   "execution_count": 19,
=======
   "execution_count": 17,
>>>>>>> b3ed9f8899027b655fd03724d2ac40c7f315cd0e
   "metadata": {},
   "outputs": [
    {
     "data": {
<<<<<<< HEAD
      "text/html": [
       "<div>\n",
       "<style scoped>\n",
       "    .dataframe tbody tr th:only-of-type {\n",
       "        vertical-align: middle;\n",
       "    }\n",
       "\n",
       "    .dataframe tbody tr th {\n",
       "        vertical-align: top;\n",
       "    }\n",
       "\n",
       "    .dataframe thead th {\n",
       "        text-align: right;\n",
       "    }\n",
       "</style>\n",
       "<table border=\"1\" class=\"dataframe\">\n",
       "  <thead>\n",
       "    <tr style=\"text-align: right;\">\n",
       "      <th></th>\n",
       "      <th>coef_std</th>\n",
       "      <th>coef</th>\n",
       "      <th>abs</th>\n",
       "    </tr>\n",
       "  </thead>\n",
       "  <tbody>\n",
       "    <tr>\n",
       "      <th>hld_electricity__Yes</th>\n",
       "      <td>-0.790587</td>\n",
       "      <td>-2.803033</td>\n",
       "      <td>0.790587</td>\n",
       "    </tr>\n",
       "    <tr>\n",
       "      <th>cons_0508__Yes</th>\n",
       "      <td>-0.727161</td>\n",
       "      <td>-1.793858</td>\n",
       "      <td>0.727161</td>\n",
       "    </tr>\n",
       "    <tr>\n",
       "      <th>cons_0504__Yes</th>\n",
       "      <td>-0.624495</td>\n",
       "      <td>-1.946197</td>\n",
       "      <td>0.624495</td>\n",
       "    </tr>\n",
       "    <tr>\n",
       "      <th>der_nchild10under</th>\n",
       "      <td>0.588446</td>\n",
       "      <td>0.428775</td>\n",
       "      <td>0.588446</td>\n",
       "    </tr>\n",
       "    <tr>\n",
       "      <th>der_nliterate</th>\n",
       "      <td>-0.533349</td>\n",
       "      <td>-0.306404</td>\n",
       "      <td>0.533349</td>\n",
       "    </tr>\n",
       "    <tr>\n",
       "      <th>der_nemployedpastyear</th>\n",
       "      <td>-0.478337</td>\n",
       "      <td>-0.872697</td>\n",
       "      <td>0.478337</td>\n",
       "    </tr>\n",
       "    <tr>\n",
       "      <th>der_nmalesover10</th>\n",
       "      <td>0.274751</td>\n",
       "      <td>0.265612</td>\n",
       "      <td>0.274751</td>\n",
       "    </tr>\n",
       "    <tr>\n",
       "      <th>der_nfemalesover10</th>\n",
       "      <td>0.203557</td>\n",
       "      <td>0.220500</td>\n",
       "      <td>0.203557</td>\n",
       "    </tr>\n",
       "    <tr>\n",
       "      <th>hld_toilet__None</th>\n",
       "      <td>0.016672</td>\n",
       "      <td>0.058066</td>\n",
       "      <td>0.016672</td>\n",
       "    </tr>\n",
       "  </tbody>\n",
       "</table>\n",
       "</div>"
      ],
      "text/plain": [
       "                       coef_std      coef       abs\n",
       "hld_electricity__Yes  -0.790587 -2.803033  0.790587\n",
       "cons_0508__Yes        -0.727161 -1.793858  0.727161\n",
       "cons_0504__Yes        -0.624495 -1.946197  0.624495\n",
       "der_nchild10under      0.588446  0.428775  0.588446\n",
       "der_nliterate         -0.533349 -0.306404  0.533349\n",
       "der_nemployedpastyear -0.478337 -0.872697  0.478337\n",
       "der_nmalesover10       0.274751  0.265612  0.274751\n",
       "der_nfemalesover10     0.203557  0.220500  0.203557\n",
       "hld_toilet__None       0.016672  0.058066  0.016672"
      ]
=======
      "text/plain": "                       coef_std      coef       abs\nhld_electricity__Yes  -0.803023 -2.857245  0.803023\ncons_0508__Yes        -0.734580 -1.807445  0.734580\ncons_0504__Yes        -0.633129 -1.979747  0.633129\nder_nchild10under      0.597818  0.436547  0.597818\nder_nliterate         -0.534401 -0.307470  0.534401\nder_nemployedpastyear -0.482136 -0.878544  0.482136\nder_nmalesover10       0.275717  0.267634  0.275717\nder_nfemalesover10     0.189929  0.206010  0.189929\nhld_toilet__None       0.019980  0.069420  0.019980",
      "text/html": "<div>\n<style scoped>\n    .dataframe tbody tr th:only-of-type {\n        vertical-align: middle;\n    }\n\n    .dataframe tbody tr th {\n        vertical-align: top;\n    }\n\n    .dataframe thead th {\n        text-align: right;\n    }\n</style>\n<table border=\"1\" class=\"dataframe\">\n  <thead>\n    <tr style=\"text-align: right;\">\n      <th></th>\n      <th>coef_std</th>\n      <th>coef</th>\n      <th>abs</th>\n    </tr>\n  </thead>\n  <tbody>\n    <tr>\n      <th>hld_electricity__Yes</th>\n      <td>-0.803023</td>\n      <td>-2.857245</td>\n      <td>0.803023</td>\n    </tr>\n    <tr>\n      <th>cons_0508__Yes</th>\n      <td>-0.734580</td>\n      <td>-1.807445</td>\n      <td>0.734580</td>\n    </tr>\n    <tr>\n      <th>cons_0504__Yes</th>\n      <td>-0.633129</td>\n      <td>-1.979747</td>\n      <td>0.633129</td>\n    </tr>\n    <tr>\n      <th>der_nchild10under</th>\n      <td>0.597818</td>\n      <td>0.436547</td>\n      <td>0.597818</td>\n    </tr>\n    <tr>\n      <th>der_nliterate</th>\n      <td>-0.534401</td>\n      <td>-0.307470</td>\n      <td>0.534401</td>\n    </tr>\n    <tr>\n      <th>der_nemployedpastyear</th>\n      <td>-0.482136</td>\n      <td>-0.878544</td>\n      <td>0.482136</td>\n    </tr>\n    <tr>\n      <th>der_nmalesover10</th>\n      <td>0.275717</td>\n      <td>0.267634</td>\n      <td>0.275717</td>\n    </tr>\n    <tr>\n      <th>der_nfemalesover10</th>\n      <td>0.189929</td>\n      <td>0.206010</td>\n      <td>0.189929</td>\n    </tr>\n    <tr>\n      <th>hld_toilet__None</th>\n      <td>0.019980</td>\n      <td>0.069420</td>\n      <td>0.019980</td>\n    </tr>\n  </tbody>\n</table>\n</div>"
>>>>>>> b3ed9f8899027b655fd03724d2ac40c7f315cd0e
     },
     "execution_count": 19,
     "metadata": {},
<<<<<<< HEAD
     "output_type": "execute_result"
=======
     "execution_count": 17
>>>>>>> b3ed9f8899027b655fd03724d2ac40c7f315cd0e
    }
   ],
   "source": [
    "coefs = get_coefs_df(X_train[selected_columns], model.params)\n",
    "coefs"
   ]
  },
  {
   "cell_type": "code",
   "execution_count": null,
   "metadata": {},
   "outputs": [],
   "source": []
  },
  {
   "cell_type": "code",
   "execution_count": 18,
   "metadata": {},
   "outputs": [
    {
     "output_type": "execute_result",
     "data": {
      "text/plain": "7927     0.762846\n4210     0.358175\n457      0.798083\n11951    0.000534\n11428    0.464735\ndtype: float64"
     },
     "metadata": {},
     "execution_count": 18
    }
   ],
   "source": [
    "# Run the model\n",
    "y_prob = model.predict(X_train[selected_columns])\n",
    "y_prob.head()"
   ]
  },
  {
   "cell_type": "code",
   "execution_count": null,
   "metadata": {},
   "outputs": [],
   "source": []
  },
  {
   "cell_type": "code",
   "execution_count": 19,
   "metadata": {},
   "outputs": [
    {
     "output_type": "execute_result",
     "data": {
      "text/plain": "7927      True\n4210     False\n457       True\n11951    False\n11428    False\ndtype: bool"
     },
     "metadata": {},
     "execution_count": 19
    }
   ],
   "source": [
    "y_pred = (y_prob > 0.5)\n",
    "y_pred.head()"
   ]
  },
  {
   "cell_type": "code",
   "execution_count": null,
   "metadata": {},
   "outputs": [],
   "source": []
  },
  {
   "cell_type": "code",
   "execution_count": 20,
   "metadata": {},
   "outputs": [
    {
     "output_type": "display_data",
     "data": {
      "text/plain": "<Figure size 720x288 with 3 Axes>",
      "image/svg+xml": "<?xml version=\"1.0\" encoding=\"utf-8\" standalone=\"no\"?>\n<!DOCTYPE svg PUBLIC \"-//W3C//DTD SVG 1.1//EN\"\n  \"http://www.w3.org/Graphics/SVG/1.1/DTD/svg11.dtd\">\n<!-- Created with matplotlib (https://matplotlib.org/) -->\n<svg height=\"274.857813pt\" version=\"1.1\" viewBox=\"0 0 704.187475 274.857813\" width=\"704.187475pt\" xmlns=\"http://www.w3.org/2000/svg\" xmlns:xlink=\"http://www.w3.org/1999/xlink\">\n <defs>\n  <style type=\"text/css\">\n*{stroke-linecap:butt;stroke-linejoin:round;}\n  </style>\n </defs>\n <g id=\"figure_1\">\n  <g id=\"patch_1\">\n   <path d=\"M 0 274.857813 \nL 704.187475 274.857813 \nL 704.187475 0 \nL 0 0 \nz\n\" style=\"fill:#ffffff;\"/>\n  </g>\n  <g id=\"axes_1\">\n   <g id=\"patch_2\">\n    <path d=\"M 49.807188 231.898125 \nL 321.740965 231.898125 \nL 321.740965 22.318125 \nL 49.807188 22.318125 \nz\n\" style=\"fill:#eaeaf2;\"/>\n   </g>\n   <g id=\"matplotlib.axis_1\">\n    <g id=\"xtick_1\">\n     <g id=\"line2d_1\">\n      <path clip-path=\"url(#pca4bf7c28e)\" d=\"M 52.499601 231.898125 \nL 52.499601 22.318125 \n\" style=\"fill:none;stroke:#ffffff;stroke-linecap:round;\"/>\n     </g>\n     <g id=\"text_1\">\n      <!-- 0.0 -->\n      <defs>\n       <path d=\"M 31.78125 66.40625 \nQ 24.171875 66.40625 20.328125 58.90625 \nQ 16.5 51.421875 16.5 36.375 \nQ 16.5 21.390625 20.328125 13.890625 \nQ 24.171875 6.390625 31.78125 6.390625 \nQ 39.453125 6.390625 43.28125 13.890625 \nQ 47.125 21.390625 47.125 36.375 \nQ 47.125 51.421875 43.28125 58.90625 \nQ 39.453125 66.40625 31.78125 66.40625 \nz\nM 31.78125 74.21875 \nQ 44.046875 74.21875 50.515625 64.515625 \nQ 56.984375 54.828125 56.984375 36.375 \nQ 56.984375 17.96875 50.515625 8.265625 \nQ 44.046875 -1.421875 31.78125 -1.421875 \nQ 19.53125 -1.421875 13.0625 8.265625 \nQ 6.59375 17.96875 6.59375 36.375 \nQ 6.59375 54.828125 13.0625 64.515625 \nQ 19.53125 74.21875 31.78125 74.21875 \nz\n\" id=\"DejaVuSans-48\"/>\n       <path d=\"M 10.6875 12.40625 \nL 21 12.40625 \nL 21 0 \nL 10.6875 0 \nz\n\" id=\"DejaVuSans-46\"/>\n      </defs>\n      <g style=\"fill:#262626;\" transform=\"translate(43.752882 249.756406)scale(0.11 -0.11)\">\n       <use xlink:href=\"#DejaVuSans-48\"/>\n       <use x=\"63.623047\" xlink:href=\"#DejaVuSans-46\"/>\n       <use x=\"95.410156\" xlink:href=\"#DejaVuSans-48\"/>\n      </g>\n     </g>\n    </g>\n    <g id=\"xtick_2\">\n     <g id=\"line2d_2\">\n      <path clip-path=\"url(#pca4bf7c28e)\" d=\"M 106.347874 231.898125 \nL 106.347874 22.318125 \n\" style=\"fill:none;stroke:#ffffff;stroke-linecap:round;\"/>\n     </g>\n     <g id=\"text_2\">\n      <!-- 0.2 -->\n      <defs>\n       <path d=\"M 19.1875 8.296875 \nL 53.609375 8.296875 \nL 53.609375 0 \nL 7.328125 0 \nL 7.328125 8.296875 \nQ 12.9375 14.109375 22.625 23.890625 \nQ 32.328125 33.6875 34.8125 36.53125 \nQ 39.546875 41.84375 41.421875 45.53125 \nQ 43.3125 49.21875 43.3125 52.78125 \nQ 43.3125 58.59375 39.234375 62.25 \nQ 35.15625 65.921875 28.609375 65.921875 \nQ 23.96875 65.921875 18.8125 64.3125 \nQ 13.671875 62.703125 7.8125 59.421875 \nL 7.8125 69.390625 \nQ 13.765625 71.78125 18.9375 73 \nQ 24.125 74.21875 28.421875 74.21875 \nQ 39.75 74.21875 46.484375 68.546875 \nQ 53.21875 62.890625 53.21875 53.421875 \nQ 53.21875 48.921875 51.53125 44.890625 \nQ 49.859375 40.875 45.40625 35.40625 \nQ 44.1875 33.984375 37.640625 27.21875 \nQ 31.109375 20.453125 19.1875 8.296875 \nz\n\" id=\"DejaVuSans-50\"/>\n      </defs>\n      <g style=\"fill:#262626;\" transform=\"translate(97.601155 249.756406)scale(0.11 -0.11)\">\n       <use xlink:href=\"#DejaVuSans-48\"/>\n       <use x=\"63.623047\" xlink:href=\"#DejaVuSans-46\"/>\n       <use x=\"95.410156\" xlink:href=\"#DejaVuSans-50\"/>\n      </g>\n     </g>\n    </g>\n    <g id=\"xtick_3\">\n     <g id=\"line2d_3\">\n      <path clip-path=\"url(#pca4bf7c28e)\" d=\"M 160.196147 231.898125 \nL 160.196147 22.318125 \n\" style=\"fill:none;stroke:#ffffff;stroke-linecap:round;\"/>\n     </g>\n     <g id=\"text_3\">\n      <!-- 0.4 -->\n      <defs>\n       <path d=\"M 37.796875 64.3125 \nL 12.890625 25.390625 \nL 37.796875 25.390625 \nz\nM 35.203125 72.90625 \nL 47.609375 72.90625 \nL 47.609375 25.390625 \nL 58.015625 25.390625 \nL 58.015625 17.1875 \nL 47.609375 17.1875 \nL 47.609375 0 \nL 37.796875 0 \nL 37.796875 17.1875 \nL 4.890625 17.1875 \nL 4.890625 26.703125 \nz\n\" id=\"DejaVuSans-52\"/>\n      </defs>\n      <g style=\"fill:#262626;\" transform=\"translate(151.449428 249.756406)scale(0.11 -0.11)\">\n       <use xlink:href=\"#DejaVuSans-48\"/>\n       <use x=\"63.623047\" xlink:href=\"#DejaVuSans-46\"/>\n       <use x=\"95.410156\" xlink:href=\"#DejaVuSans-52\"/>\n      </g>\n     </g>\n    </g>\n    <g id=\"xtick_4\">\n     <g id=\"line2d_4\">\n      <path clip-path=\"url(#pca4bf7c28e)\" d=\"M 214.044419 231.898125 \nL 214.044419 22.318125 \n\" style=\"fill:none;stroke:#ffffff;stroke-linecap:round;\"/>\n     </g>\n     <g id=\"text_4\">\n      <!-- 0.6 -->\n      <defs>\n       <path d=\"M 33.015625 40.375 \nQ 26.375 40.375 22.484375 35.828125 \nQ 18.609375 31.296875 18.609375 23.390625 \nQ 18.609375 15.53125 22.484375 10.953125 \nQ 26.375 6.390625 33.015625 6.390625 \nQ 39.65625 6.390625 43.53125 10.953125 \nQ 47.40625 15.53125 47.40625 23.390625 \nQ 47.40625 31.296875 43.53125 35.828125 \nQ 39.65625 40.375 33.015625 40.375 \nz\nM 52.59375 71.296875 \nL 52.59375 62.3125 \nQ 48.875 64.0625 45.09375 64.984375 \nQ 41.3125 65.921875 37.59375 65.921875 \nQ 27.828125 65.921875 22.671875 59.328125 \nQ 17.53125 52.734375 16.796875 39.40625 \nQ 19.671875 43.65625 24.015625 45.921875 \nQ 28.375 48.1875 33.59375 48.1875 \nQ 44.578125 48.1875 50.953125 41.515625 \nQ 57.328125 34.859375 57.328125 23.390625 \nQ 57.328125 12.15625 50.6875 5.359375 \nQ 44.046875 -1.421875 33.015625 -1.421875 \nQ 20.359375 -1.421875 13.671875 8.265625 \nQ 6.984375 17.96875 6.984375 36.375 \nQ 6.984375 53.65625 15.1875 63.9375 \nQ 23.390625 74.21875 37.203125 74.21875 \nQ 40.921875 74.21875 44.703125 73.484375 \nQ 48.484375 72.75 52.59375 71.296875 \nz\n\" id=\"DejaVuSans-54\"/>\n      </defs>\n      <g style=\"fill:#262626;\" transform=\"translate(205.297701 249.756406)scale(0.11 -0.11)\">\n       <use xlink:href=\"#DejaVuSans-48\"/>\n       <use x=\"63.623047\" xlink:href=\"#DejaVuSans-46\"/>\n       <use x=\"95.410156\" xlink:href=\"#DejaVuSans-54\"/>\n      </g>\n     </g>\n    </g>\n    <g id=\"xtick_5\">\n     <g id=\"line2d_5\">\n      <path clip-path=\"url(#pca4bf7c28e)\" d=\"M 267.892692 231.898125 \nL 267.892692 22.318125 \n\" style=\"fill:none;stroke:#ffffff;stroke-linecap:round;\"/>\n     </g>\n     <g id=\"text_5\">\n      <!-- 0.8 -->\n      <defs>\n       <path d=\"M 31.78125 34.625 \nQ 24.75 34.625 20.71875 30.859375 \nQ 16.703125 27.09375 16.703125 20.515625 \nQ 16.703125 13.921875 20.71875 10.15625 \nQ 24.75 6.390625 31.78125 6.390625 \nQ 38.8125 6.390625 42.859375 10.171875 \nQ 46.921875 13.96875 46.921875 20.515625 \nQ 46.921875 27.09375 42.890625 30.859375 \nQ 38.875 34.625 31.78125 34.625 \nz\nM 21.921875 38.8125 \nQ 15.578125 40.375 12.03125 44.71875 \nQ 8.5 49.078125 8.5 55.328125 \nQ 8.5 64.0625 14.71875 69.140625 \nQ 20.953125 74.21875 31.78125 74.21875 \nQ 42.671875 74.21875 48.875 69.140625 \nQ 55.078125 64.0625 55.078125 55.328125 \nQ 55.078125 49.078125 51.53125 44.71875 \nQ 48 40.375 41.703125 38.8125 \nQ 48.828125 37.15625 52.796875 32.3125 \nQ 56.78125 27.484375 56.78125 20.515625 \nQ 56.78125 9.90625 50.3125 4.234375 \nQ 43.84375 -1.421875 31.78125 -1.421875 \nQ 19.734375 -1.421875 13.25 4.234375 \nQ 6.78125 9.90625 6.78125 20.515625 \nQ 6.78125 27.484375 10.78125 32.3125 \nQ 14.796875 37.15625 21.921875 38.8125 \nz\nM 18.3125 54.390625 \nQ 18.3125 48.734375 21.84375 45.5625 \nQ 25.390625 42.390625 31.78125 42.390625 \nQ 38.140625 42.390625 41.71875 45.5625 \nQ 45.3125 48.734375 45.3125 54.390625 \nQ 45.3125 60.0625 41.71875 63.234375 \nQ 38.140625 66.40625 31.78125 66.40625 \nQ 25.390625 66.40625 21.84375 63.234375 \nQ 18.3125 60.0625 18.3125 54.390625 \nz\n\" id=\"DejaVuSans-56\"/>\n      </defs>\n      <g style=\"fill:#262626;\" transform=\"translate(259.145973 249.756406)scale(0.11 -0.11)\">\n       <use xlink:href=\"#DejaVuSans-48\"/>\n       <use x=\"63.623047\" xlink:href=\"#DejaVuSans-46\"/>\n       <use x=\"95.410156\" xlink:href=\"#DejaVuSans-56\"/>\n      </g>\n     </g>\n    </g>\n    <g id=\"xtick_6\">\n     <g id=\"line2d_6\">\n      <path clip-path=\"url(#pca4bf7c28e)\" d=\"M 321.740965 231.898125 \nL 321.740965 22.318125 \n\" style=\"fill:none;stroke:#ffffff;stroke-linecap:round;\"/>\n     </g>\n     <g id=\"text_6\">\n      <!-- 1.0 -->\n      <defs>\n       <path d=\"M 12.40625 8.296875 \nL 28.515625 8.296875 \nL 28.515625 63.921875 \nL 10.984375 60.40625 \nL 10.984375 69.390625 \nL 28.421875 72.90625 \nL 38.28125 72.90625 \nL 38.28125 8.296875 \nL 54.390625 8.296875 \nL 54.390625 0 \nL 12.40625 0 \nz\n\" id=\"DejaVuSans-49\"/>\n      </defs>\n      <g style=\"fill:#262626;\" transform=\"translate(312.994246 249.756406)scale(0.11 -0.11)\">\n       <use xlink:href=\"#DejaVuSans-49\"/>\n       <use x=\"63.623047\" xlink:href=\"#DejaVuSans-46\"/>\n       <use x=\"95.410156\" xlink:href=\"#DejaVuSans-48\"/>\n      </g>\n     </g>\n    </g>\n    <g id=\"text_7\">\n     <!-- False Positive Rate -->\n     <defs>\n      <path d=\"M 9.8125 72.90625 \nL 51.703125 72.90625 \nL 51.703125 64.59375 \nL 19.671875 64.59375 \nL 19.671875 43.109375 \nL 48.578125 43.109375 \nL 48.578125 34.8125 \nL 19.671875 34.8125 \nL 19.671875 0 \nL 9.8125 0 \nz\n\" id=\"DejaVuSans-70\"/>\n      <path d=\"M 34.28125 27.484375 \nQ 23.390625 27.484375 19.1875 25 \nQ 14.984375 22.515625 14.984375 16.5 \nQ 14.984375 11.71875 18.140625 8.90625 \nQ 21.296875 6.109375 26.703125 6.109375 \nQ 34.1875 6.109375 38.703125 11.40625 \nQ 43.21875 16.703125 43.21875 25.484375 \nL 43.21875 27.484375 \nz\nM 52.203125 31.203125 \nL 52.203125 0 \nL 43.21875 0 \nL 43.21875 8.296875 \nQ 40.140625 3.328125 35.546875 0.953125 \nQ 30.953125 -1.421875 24.3125 -1.421875 \nQ 15.921875 -1.421875 10.953125 3.296875 \nQ 6 8.015625 6 15.921875 \nQ 6 25.140625 12.171875 29.828125 \nQ 18.359375 34.515625 30.609375 34.515625 \nL 43.21875 34.515625 \nL 43.21875 35.40625 \nQ 43.21875 41.609375 39.140625 45 \nQ 35.0625 48.390625 27.6875 48.390625 \nQ 23 48.390625 18.546875 47.265625 \nQ 14.109375 46.140625 10.015625 43.890625 \nL 10.015625 52.203125 \nQ 14.9375 54.109375 19.578125 55.046875 \nQ 24.21875 56 28.609375 56 \nQ 40.484375 56 46.34375 49.84375 \nQ 52.203125 43.703125 52.203125 31.203125 \nz\n\" id=\"DejaVuSans-97\"/>\n      <path d=\"M 9.421875 75.984375 \nL 18.40625 75.984375 \nL 18.40625 0 \nL 9.421875 0 \nz\n\" id=\"DejaVuSans-108\"/>\n      <path d=\"M 44.28125 53.078125 \nL 44.28125 44.578125 \nQ 40.484375 46.53125 36.375 47.5 \nQ 32.28125 48.484375 27.875 48.484375 \nQ 21.1875 48.484375 17.84375 46.4375 \nQ 14.5 44.390625 14.5 40.28125 \nQ 14.5 37.15625 16.890625 35.375 \nQ 19.28125 33.59375 26.515625 31.984375 \nL 29.59375 31.296875 \nQ 39.15625 29.25 43.1875 25.515625 \nQ 47.21875 21.78125 47.21875 15.09375 \nQ 47.21875 7.46875 41.1875 3.015625 \nQ 35.15625 -1.421875 24.609375 -1.421875 \nQ 20.21875 -1.421875 15.453125 -0.5625 \nQ 10.6875 0.296875 5.421875 2 \nL 5.421875 11.28125 \nQ 10.40625 8.6875 15.234375 7.390625 \nQ 20.0625 6.109375 24.8125 6.109375 \nQ 31.15625 6.109375 34.5625 8.28125 \nQ 37.984375 10.453125 37.984375 14.40625 \nQ 37.984375 18.0625 35.515625 20.015625 \nQ 33.0625 21.96875 24.703125 23.78125 \nL 21.578125 24.515625 \nQ 13.234375 26.265625 9.515625 29.90625 \nQ 5.8125 33.546875 5.8125 39.890625 \nQ 5.8125 47.609375 11.28125 51.796875 \nQ 16.75 56 26.8125 56 \nQ 31.78125 56 36.171875 55.265625 \nQ 40.578125 54.546875 44.28125 53.078125 \nz\n\" id=\"DejaVuSans-115\"/>\n      <path d=\"M 56.203125 29.59375 \nL 56.203125 25.203125 \nL 14.890625 25.203125 \nQ 15.484375 15.921875 20.484375 11.0625 \nQ 25.484375 6.203125 34.421875 6.203125 \nQ 39.59375 6.203125 44.453125 7.46875 \nQ 49.3125 8.734375 54.109375 11.28125 \nL 54.109375 2.78125 \nQ 49.265625 0.734375 44.1875 -0.34375 \nQ 39.109375 -1.421875 33.890625 -1.421875 \nQ 20.796875 -1.421875 13.15625 6.1875 \nQ 5.515625 13.8125 5.515625 26.8125 \nQ 5.515625 40.234375 12.765625 48.109375 \nQ 20.015625 56 32.328125 56 \nQ 43.359375 56 49.78125 48.890625 \nQ 56.203125 41.796875 56.203125 29.59375 \nz\nM 47.21875 32.234375 \nQ 47.125 39.59375 43.09375 43.984375 \nQ 39.0625 48.390625 32.421875 48.390625 \nQ 24.90625 48.390625 20.390625 44.140625 \nQ 15.875 39.890625 15.1875 32.171875 \nz\n\" id=\"DejaVuSans-101\"/>\n      <path id=\"DejaVuSans-32\"/>\n      <path d=\"M 19.671875 64.796875 \nL 19.671875 37.40625 \nL 32.078125 37.40625 \nQ 38.96875 37.40625 42.71875 40.96875 \nQ 46.484375 44.53125 46.484375 51.125 \nQ 46.484375 57.671875 42.71875 61.234375 \nQ 38.96875 64.796875 32.078125 64.796875 \nz\nM 9.8125 72.90625 \nL 32.078125 72.90625 \nQ 44.34375 72.90625 50.609375 67.359375 \nQ 56.890625 61.8125 56.890625 51.125 \nQ 56.890625 40.328125 50.609375 34.8125 \nQ 44.34375 29.296875 32.078125 29.296875 \nL 19.671875 29.296875 \nL 19.671875 0 \nL 9.8125 0 \nz\n\" id=\"DejaVuSans-80\"/>\n      <path d=\"M 30.609375 48.390625 \nQ 23.390625 48.390625 19.1875 42.75 \nQ 14.984375 37.109375 14.984375 27.296875 \nQ 14.984375 17.484375 19.15625 11.84375 \nQ 23.34375 6.203125 30.609375 6.203125 \nQ 37.796875 6.203125 41.984375 11.859375 \nQ 46.1875 17.53125 46.1875 27.296875 \nQ 46.1875 37.015625 41.984375 42.703125 \nQ 37.796875 48.390625 30.609375 48.390625 \nz\nM 30.609375 56 \nQ 42.328125 56 49.015625 48.375 \nQ 55.71875 40.765625 55.71875 27.296875 \nQ 55.71875 13.875 49.015625 6.21875 \nQ 42.328125 -1.421875 30.609375 -1.421875 \nQ 18.84375 -1.421875 12.171875 6.21875 \nQ 5.515625 13.875 5.515625 27.296875 \nQ 5.515625 40.765625 12.171875 48.375 \nQ 18.84375 56 30.609375 56 \nz\n\" id=\"DejaVuSans-111\"/>\n      <path d=\"M 9.421875 54.6875 \nL 18.40625 54.6875 \nL 18.40625 0 \nL 9.421875 0 \nz\nM 9.421875 75.984375 \nL 18.40625 75.984375 \nL 18.40625 64.59375 \nL 9.421875 64.59375 \nz\n\" id=\"DejaVuSans-105\"/>\n      <path d=\"M 18.3125 70.21875 \nL 18.3125 54.6875 \nL 36.8125 54.6875 \nL 36.8125 47.703125 \nL 18.3125 47.703125 \nL 18.3125 18.015625 \nQ 18.3125 11.328125 20.140625 9.421875 \nQ 21.96875 7.515625 27.59375 7.515625 \nL 36.8125 7.515625 \nL 36.8125 0 \nL 27.59375 0 \nQ 17.1875 0 13.234375 3.875 \nQ 9.28125 7.765625 9.28125 18.015625 \nL 9.28125 47.703125 \nL 2.6875 47.703125 \nL 2.6875 54.6875 \nL 9.28125 54.6875 \nL 9.28125 70.21875 \nz\n\" id=\"DejaVuSans-116\"/>\n      <path d=\"M 2.984375 54.6875 \nL 12.5 54.6875 \nL 29.59375 8.796875 \nL 46.6875 54.6875 \nL 56.203125 54.6875 \nL 35.6875 0 \nL 23.484375 0 \nz\n\" id=\"DejaVuSans-118\"/>\n      <path d=\"M 44.390625 34.1875 \nQ 47.5625 33.109375 50.5625 29.59375 \nQ 53.5625 26.078125 56.59375 19.921875 \nL 66.609375 0 \nL 56 0 \nL 46.6875 18.703125 \nQ 43.0625 26.03125 39.671875 28.421875 \nQ 36.28125 30.8125 30.421875 30.8125 \nL 19.671875 30.8125 \nL 19.671875 0 \nL 9.8125 0 \nL 9.8125 72.90625 \nL 32.078125 72.90625 \nQ 44.578125 72.90625 50.734375 67.671875 \nQ 56.890625 62.453125 56.890625 51.90625 \nQ 56.890625 45.015625 53.6875 40.46875 \nQ 50.484375 35.9375 44.390625 34.1875 \nz\nM 19.671875 64.796875 \nL 19.671875 38.921875 \nL 32.078125 38.921875 \nQ 39.203125 38.921875 42.84375 42.21875 \nQ 46.484375 45.515625 46.484375 51.90625 \nQ 46.484375 58.296875 42.84375 61.546875 \nQ 39.203125 64.796875 32.078125 64.796875 \nz\n\" id=\"DejaVuSans-82\"/>\n     </defs>\n     <g style=\"fill:#262626;\" transform=\"translate(130.014389 265.162188)scale(0.12 -0.12)\">\n      <use xlink:href=\"#DejaVuSans-70\"/>\n      <use x=\"48.394531\" xlink:href=\"#DejaVuSans-97\"/>\n      <use x=\"109.673828\" xlink:href=\"#DejaVuSans-108\"/>\n      <use x=\"137.457031\" xlink:href=\"#DejaVuSans-115\"/>\n      <use x=\"189.556641\" xlink:href=\"#DejaVuSans-101\"/>\n      <use x=\"251.080078\" xlink:href=\"#DejaVuSans-32\"/>\n      <use x=\"282.867188\" xlink:href=\"#DejaVuSans-80\"/>\n      <use x=\"339.544922\" xlink:href=\"#DejaVuSans-111\"/>\n      <use x=\"400.726562\" xlink:href=\"#DejaVuSans-115\"/>\n      <use x=\"452.826172\" xlink:href=\"#DejaVuSans-105\"/>\n      <use x=\"480.609375\" xlink:href=\"#DejaVuSans-116\"/>\n      <use x=\"519.818359\" xlink:href=\"#DejaVuSans-105\"/>\n      <use x=\"547.601562\" xlink:href=\"#DejaVuSans-118\"/>\n      <use x=\"606.78125\" xlink:href=\"#DejaVuSans-101\"/>\n      <use x=\"668.304688\" xlink:href=\"#DejaVuSans-32\"/>\n      <use x=\"700.091797\" xlink:href=\"#DejaVuSans-82\"/>\n      <use x=\"767.324219\" xlink:href=\"#DejaVuSans-97\"/>\n      <use x=\"828.603516\" xlink:href=\"#DejaVuSans-116\"/>\n      <use x=\"867.8125\" xlink:href=\"#DejaVuSans-101\"/>\n     </g>\n    </g>\n   </g>\n   <g id=\"matplotlib.axis_2\">\n    <g id=\"ytick_1\">\n     <g id=\"line2d_7\">\n      <path clip-path=\"url(#pca4bf7c28e)\" d=\"M 49.807188 231.898125 \nL 321.740965 231.898125 \n\" style=\"fill:none;stroke:#ffffff;stroke-linecap:round;\"/>\n     </g>\n     <g id=\"text_8\">\n      <!-- 0.0 -->\n      <g style=\"fill:#262626;\" transform=\"translate(22.81375 236.077266)scale(0.11 -0.11)\">\n       <use xlink:href=\"#DejaVuSans-48\"/>\n       <use x=\"63.623047\" xlink:href=\"#DejaVuSans-46\"/>\n       <use x=\"95.410156\" xlink:href=\"#DejaVuSans-48\"/>\n      </g>\n     </g>\n    </g>\n    <g id=\"ytick_2\">\n     <g id=\"line2d_8\">\n      <path clip-path=\"url(#pca4bf7c28e)\" d=\"M 49.807188 190.397135 \nL 321.740965 190.397135 \n\" style=\"fill:none;stroke:#ffffff;stroke-linecap:round;\"/>\n     </g>\n     <g id=\"text_9\">\n      <!-- 0.2 -->\n      <g style=\"fill:#262626;\" transform=\"translate(22.81375 194.576276)scale(0.11 -0.11)\">\n       <use xlink:href=\"#DejaVuSans-48\"/>\n       <use x=\"63.623047\" xlink:href=\"#DejaVuSans-46\"/>\n       <use x=\"95.410156\" xlink:href=\"#DejaVuSans-50\"/>\n      </g>\n     </g>\n    </g>\n    <g id=\"ytick_3\">\n     <g id=\"line2d_9\">\n      <path clip-path=\"url(#pca4bf7c28e)\" d=\"M 49.807188 148.896145 \nL 321.740965 148.896145 \n\" style=\"fill:none;stroke:#ffffff;stroke-linecap:round;\"/>\n     </g>\n     <g id=\"text_10\">\n      <!-- 0.4 -->\n      <g style=\"fill:#262626;\" transform=\"translate(22.81375 153.075285)scale(0.11 -0.11)\">\n       <use xlink:href=\"#DejaVuSans-48\"/>\n       <use x=\"63.623047\" xlink:href=\"#DejaVuSans-46\"/>\n       <use x=\"95.410156\" xlink:href=\"#DejaVuSans-52\"/>\n      </g>\n     </g>\n    </g>\n    <g id=\"ytick_4\">\n     <g id=\"line2d_10\">\n      <path clip-path=\"url(#pca4bf7c28e)\" d=\"M 49.807188 107.395155 \nL 321.740965 107.395155 \n\" style=\"fill:none;stroke:#ffffff;stroke-linecap:round;\"/>\n     </g>\n     <g id=\"text_11\">\n      <!-- 0.6 -->\n      <g style=\"fill:#262626;\" transform=\"translate(22.81375 111.574295)scale(0.11 -0.11)\">\n       <use xlink:href=\"#DejaVuSans-48\"/>\n       <use x=\"63.623047\" xlink:href=\"#DejaVuSans-46\"/>\n       <use x=\"95.410156\" xlink:href=\"#DejaVuSans-54\"/>\n      </g>\n     </g>\n    </g>\n    <g id=\"ytick_5\">\n     <g id=\"line2d_11\">\n      <path clip-path=\"url(#pca4bf7c28e)\" d=\"M 49.807188 65.894165 \nL 321.740965 65.894165 \n\" style=\"fill:none;stroke:#ffffff;stroke-linecap:round;\"/>\n     </g>\n     <g id=\"text_12\">\n      <!-- 0.8 -->\n      <g style=\"fill:#262626;\" transform=\"translate(22.81375 70.073305)scale(0.11 -0.11)\">\n       <use xlink:href=\"#DejaVuSans-48\"/>\n       <use x=\"63.623047\" xlink:href=\"#DejaVuSans-46\"/>\n       <use x=\"95.410156\" xlink:href=\"#DejaVuSans-56\"/>\n      </g>\n     </g>\n    </g>\n    <g id=\"ytick_6\">\n     <g id=\"line2d_12\">\n      <path clip-path=\"url(#pca4bf7c28e)\" d=\"M 49.807188 24.393175 \nL 321.740965 24.393175 \n\" style=\"fill:none;stroke:#ffffff;stroke-linecap:round;\"/>\n     </g>\n     <g id=\"text_13\">\n      <!-- 1.0 -->\n      <g style=\"fill:#262626;\" transform=\"translate(22.81375 28.572315)scale(0.11 -0.11)\">\n       <use xlink:href=\"#DejaVuSans-49\"/>\n       <use x=\"63.623047\" xlink:href=\"#DejaVuSans-46\"/>\n       <use x=\"95.410156\" xlink:href=\"#DejaVuSans-48\"/>\n      </g>\n     </g>\n    </g>\n    <g id=\"text_14\">\n     <!-- True Positive Rate -->\n     <defs>\n      <path d=\"M -0.296875 72.90625 \nL 61.375 72.90625 \nL 61.375 64.59375 \nL 35.5 64.59375 \nL 35.5 0 \nL 25.59375 0 \nL 25.59375 64.59375 \nL -0.296875 64.59375 \nz\n\" id=\"DejaVuSans-84\"/>\n      <path d=\"M 41.109375 46.296875 \nQ 39.59375 47.171875 37.8125 47.578125 \nQ 36.03125 48 33.890625 48 \nQ 26.265625 48 22.1875 43.046875 \nQ 18.109375 38.09375 18.109375 28.8125 \nL 18.109375 0 \nL 9.078125 0 \nL 9.078125 54.6875 \nL 18.109375 54.6875 \nL 18.109375 46.1875 \nQ 20.953125 51.171875 25.484375 53.578125 \nQ 30.03125 56 36.53125 56 \nQ 37.453125 56 38.578125 55.875 \nQ 39.703125 55.765625 41.0625 55.515625 \nz\n\" id=\"DejaVuSans-114\"/>\n      <path d=\"M 8.5 21.578125 \nL 8.5 54.6875 \nL 17.484375 54.6875 \nL 17.484375 21.921875 \nQ 17.484375 14.15625 20.5 10.265625 \nQ 23.53125 6.390625 29.59375 6.390625 \nQ 36.859375 6.390625 41.078125 11.03125 \nQ 45.3125 15.671875 45.3125 23.6875 \nL 45.3125 54.6875 \nL 54.296875 54.6875 \nL 54.296875 0 \nL 45.3125 0 \nL 45.3125 8.40625 \nQ 42.046875 3.421875 37.71875 1 \nQ 33.40625 -1.421875 27.6875 -1.421875 \nQ 18.265625 -1.421875 13.375 4.4375 \nQ 8.5 10.296875 8.5 21.578125 \nz\nM 31.109375 56 \nz\n\" id=\"DejaVuSans-117\"/>\n     </defs>\n     <g style=\"fill:#262626;\" transform=\"translate(16.318125 180.54375)rotate(-90)scale(0.12 -0.12)\">\n      <use xlink:href=\"#DejaVuSans-84\"/>\n      <use x=\"46.333984\" xlink:href=\"#DejaVuSans-114\"/>\n      <use x=\"87.447266\" xlink:href=\"#DejaVuSans-117\"/>\n      <use x=\"150.826172\" xlink:href=\"#DejaVuSans-101\"/>\n      <use x=\"212.349609\" xlink:href=\"#DejaVuSans-32\"/>\n      <use x=\"244.136719\" xlink:href=\"#DejaVuSans-80\"/>\n      <use x=\"300.814453\" xlink:href=\"#DejaVuSans-111\"/>\n      <use x=\"361.996094\" xlink:href=\"#DejaVuSans-115\"/>\n      <use x=\"414.095703\" xlink:href=\"#DejaVuSans-105\"/>\n      <use x=\"441.878906\" xlink:href=\"#DejaVuSans-116\"/>\n      <use x=\"481.087891\" xlink:href=\"#DejaVuSans-105\"/>\n      <use x=\"508.871094\" xlink:href=\"#DejaVuSans-118\"/>\n      <use x=\"568.050781\" xlink:href=\"#DejaVuSans-101\"/>\n      <use x=\"629.574219\" xlink:href=\"#DejaVuSans-32\"/>\n      <use x=\"661.361328\" xlink:href=\"#DejaVuSans-82\"/>\n      <use x=\"728.59375\" xlink:href=\"#DejaVuSans-97\"/>\n      <use x=\"789.873047\" xlink:href=\"#DejaVuSans-116\"/>\n      <use x=\"829.082031\" xlink:href=\"#DejaVuSans-101\"/>\n     </g>\n    </g>\n   </g>\n   <g id=\"line2d_13\">\n    <path clip-path=\"url(#pca4bf7c28e)\" d=\"M 52.499601 231.898125 \nL 52.606485 230.095911 \nL 52.766812 229.995788 \nL 52.873696 225.890744 \nL 52.927138 225.189883 \nL 53.034022 223.738099 \nL 53.247791 221.885823 \nL 53.301233 221.7857 \nL 53.72877 219.43281 \nL 53.835654 217.079919 \nL 53.889096 216.829611 \nL 53.99598 214.977335 \nL 54.049422 214.977335 \nL 54.156307 213.625675 \nL 56.133665 204.714726 \nL 56.240549 203.613373 \nL 56.50776 202.161589 \nL 56.561202 201.060236 \nL 56.828412 199.808698 \nL 56.935296 199.508329 \nL 56.988739 199.508329 \nL 56.988739 199.408206 \nL 57.095623 199.107837 \nL 57.362833 197.806238 \nL 57.362833 197.756177 \nL 58.164465 195.102917 \nL 58.324791 193.400825 \nL 58.645444 189.546089 \nL 58.698886 189.496028 \nL 58.80577 189.345843 \nL 59.019539 188.845228 \nL 59.126423 188.544859 \nL 59.126423 188.344613 \nL 60.30215 181.386063 \nL 60.783129 179.233419 \nL 60.783129 179.033173 \nL 61.210666 176.730343 \nL 62.493276 171.223577 \nL 62.760487 170.422593 \nL 62.867371 169.771794 \nL 62.974255 169.771794 \nL 63.508676 166.517796 \nL 63.562118 166.417673 \nL 63.669003 166.067242 \nL 63.775887 165.566627 \nL 64.043097 162.462813 \nL 64.203424 161.862075 \nL 64.203424 161.661829 \nL 66.875529 156.755802 \nL 66.928972 156.004879 \nL 68.051256 152.851004 \nL 68.425351 152.100081 \nL 68.478793 151.549405 \nL 68.746003 151.198974 \nL 69.333867 149.597006 \nL 69.975172 148.345468 \nL 72.647278 144.991347 \nL 72.647278 144.791101 \nL 72.914488 144.390609 \nL 73.128257 142.738579 \nL 73.128257 142.588395 \nL 73.71612 141.637226 \nL 73.823004 141.587165 \nL 74.250541 139.935135 \nL 74.464309 139.634766 \nL 74.678078 138.733659 \nL 75.105615 137.231813 \nL 75.159057 137.181752 \nL 75.265941 136.480891 \nL 75.265941 136.330706 \nL 77.296741 132.976585 \nL 77.296741 132.876462 \nL 77.884605 130.423448 \nL 78.900005 128.871542 \nL 79.487868 128.120619 \nL 79.54131 128.120619 \nL 79.54131 128.070557 \nL 79.755079 127.670065 \nL 79.755079 127.419758 \nL 79.915405 126.618774 \nL 80.342942 124.916682 \nL 81.465226 123.815329 \nL 82.213416 121.662684 \nL 87.717953 115.955673 \nL 87.824838 115.354934 \nL 87.931722 114.704135 \nL 88.038606 114.453827 \nL 88.198932 114.303643 \nL 88.89368 113.602782 \nL 88.947122 113.402536 \nL 89.321217 112.951982 \nL 89.428101 111.800567 \nL 89.695312 111.650383 \nL 90.015964 110.749276 \nL 90.069406 110.749276 \nL 90.069406 110.649153 \nL 91.298575 109.798107 \nL 91.726112 109.24743 \nL 92.741512 108.346323 \nL 92.848396 108.146077 \nL 93.008723 108.045954 \nL 93.115607 107.645462 \nL 96.856555 104.59171 \nL 96.856555 104.391464 \nL 97.123765 103.390234 \nL 97.49786 102.93968 \nL 97.604744 102.138696 \nL 100.009639 99.235129 \nL 100.27685 99.034883 \nL 100.437176 98.634391 \nL 100.650945 98.484206 \nL 100.650945 98.133776 \nL 101.559461 97.032423 \nL 101.559461 96.231438 \nL 101.773229 95.881008 \nL 105.460735 94.028732 \nL 105.567619 93.778425 \nL 105.621061 93.778425 \nL 105.621061 93.728363 \nL 105.941714 93.227748 \nL 106.10204 92.777194 \nL 106.262366 92.677071 \nL 106.315809 92.126395 \nL 106.369251 92.126395 \nL 106.796788 90.724673 \nL 107.705304 90.374242 \nL 107.758746 90.123934 \nL 108.025956 90.023811 \nL 108.774146 88.97252 \nL 108.774146 88.872397 \nL 109.201683 88.021351 \nL 109.468893 87.620859 \nL 109.522335 87.32049 \nL 109.62922 87.32049 \nL 110.110199 86.369321 \nL 110.270525 86.369321 \nL 111.072157 85.117784 \nL 111.125599 84.617169 \nL 113.263283 83.916307 \nL 114.225241 82.364401 \nL 114.43901 82.364401 \nL 121.814021 78.559726 \nL 121.867463 78.259357 \nL 122.989748 77.458373 \nL 123.04319 77.308188 \nL 125.341201 76.757512 \nL 125.394643 76.457143 \nL 128.120191 76.056651 \nL 128.280517 75.756282 \nL 128.440843 75.656159 \nL 129.028706 75.155544 \nL 129.242475 75.055421 \nL 129.242475 74.855175 \nL 129.670012 74.554805 \nL 129.723454 74.404621 \nL 130.471644 74.004129 \nL 130.578528 73.803883 \nL 130.738854 73.70376 \nL 135.495202 72.552345 \nL 135.602086 72.101792 \nL 136.884697 70.900315 \nL 136.938139 70.700069 \nL 137.045023 70.650008 \nL 137.151908 70.149393 \nL 141.053182 68.597486 \nL 141.480719 67.496133 \nL 141.641045 66.845333 \nL 141.747929 66.645087 \nL 141.801371 66.544964 \nL 142.068582 66.444841 \nL 142.068582 66.244595 \nL 143.03054 65.643857 \nL 143.137424 65.09318 \nL 144.152824 64.342258 \nL 144.526919 63.841643 \nL 144.633803 63.541274 \nL 144.79413 63.491212 \nL 145.756088 62.339798 \nL 145.969856 62.239675 \nL 146.290509 61.538813 \nL 146.557719 61.188383 \nL 147.626562 61.038198 \nL 148.054099 60.487522 \nL 148.321309 60.487522 \nL 148.58852 59.786661 \nL 148.748846 59.586415 \nL 149.443594 59.486292 \nL 149.497036 59.185923 \nL 149.924573 58.985677 \nL 150.245225 58.585184 \nL 150.61932 58.585184 \nL 150.61932 58.535123 \nL 150.779646 58.284815 \nL 155.856647 57.984446 \nL 155.856647 57.884323 \nL 156.070415 57.634016 \nL 156.604837 57.383708 \nL 156.711721 57.133401 \nL 156.872047 56.933155 \nL 157.673679 56.78297 \nL 157.887447 56.682847 \nL 160.666437 56.482601 \nL 161.414627 55.78174 \nL 167.186375 54.630325 \nL 169.59127 53.178542 \nL 169.644712 53.028357 \nL 169.751596 53.028357 \nL 169.911923 52.727988 \nL 169.911923 52.227373 \nL 171.301418 51.626635 \nL 171.782397 51.276204 \nL 172.316818 51.176081 \nL 172.690913 50.725528 \nL 173.492544 50.325036 \nL 174.614829 50.174851 \nL 174.614829 50.024667 \nL 176.43186 49.323805 \nL 176.805955 48.923313 \nL 176.966282 48.82319 \nL 176.966282 48.622944 \nL 177.607587 48.522821 \nL 177.714471 48.372637 \nL 178.142008 47.922083 \nL 178.890198 47.671776 \nL 178.94364 47.671776 \nL 178.94364 47.621714 \nL 179.264292 47.020976 \nL 179.317735 46.870792 \nL 179.745271 46.82073 \nL 179.745271 46.770669 \nL 179.798714 46.520361 \nL 181.081324 46.119869 \nL 181.134766 45.919623 \nL 181.188208 45.919623 \nL 181.72263 45.318885 \nL 181.72263 45.118639 \nL 183.219009 44.16747 \nL 184.555062 42.965994 \nL 185.089483 42.765748 \nL 185.142925 42.665625 \nL 185.570462 42.565502 \nL 185.570462 42.465379 \nL 189.525178 41.464149 \nL 189.685504 41.364026 \nL 190.32681 41.364026 \nL 190.861231 41.113718 \nL 191.823189 40.412857 \nL 192.036957 40.362796 \nL 192.35761 40.112488 \nL 193.052357 40.012365 \nL 193.533336 39.661934 \nL 193.747105 39.561811 \nL 193.800547 39.411627 \nL 194.174642 39.261442 \nL 194.922831 39.111258 \nL 195.671021 38.660704 \nL 196.098558 38.410397 \nL 198.556895 37.809659 \nL 199.144758 37.709536 \nL 199.1982 37.559351 \nL 199.732622 37.459228 \nL 199.786064 37.359105 \nL 200.427369 37.258982 \nL 200.480811 37.108798 \nL 200.854906 37.008675 \nL 201.015232 36.758367 \nL 201.70998 36.608182 \nL 201.763422 36.508059 \nL 201.816864 36.508059 \nL 202.137517 36.407936 \nL 205.985349 36.357875 \nL 205.985349 36.307813 \nL 206.573212 36.057506 \nL 206.573212 35.907321 \nL 206.680096 35.907321 \nL 207.161075 35.85726 \nL 207.161075 35.757137 \nL 208.176475 35.657014 \nL 208.176475 35.556891 \nL 208.229917 35.556891 \nL 208.336802 35.556891 \nL 210.902023 35.20646 \nL 211.062349 35.006214 \nL 211.703655 34.906091 \nL 211.703655 34.805968 \nL 214.696413 34.155169 \nL 214.696413 34.055046 \nL 215.284276 33.8548 \nL 215.818697 33.704615 \nL 216.032466 33.454307 \nL 216.513445 33.404246 \nL 216.620329 33.204 \nL 217.261635 33.103877 \nL 217.582287 32.903631 \nL 218.811456 32.803508 \nL 219.66653 32.503139 \nL 219.719972 32.503139 \nL 219.719972 32.453077 \nL 221.269793 32.052585 \nL 221.269793 31.952462 \nL 221.376677 31.952462 \nL 221.643888 31.902401 \nL 221.750772 31.702155 \nL 222.979941 31.602032 \nL 223.354035 31.401786 \nL 223.354035 31.351724 \nL 224.209109 31.251601 \nL 224.262551 31.151478 \nL 224.690088 31.051355 \nL 224.74353 30.951232 \nL 225.75893 30.851109 \nL 226.239909 30.450617 \nL 227.469078 30.350494 \nL 227.52252 30.300432 \nL 232.0651 30.150248 \nL 232.171984 30.000063 \nL 232.33231 29.89994 \nL 232.33231 29.849879 \nL 232.439194 29.849879 \nL 233.0805 29.849879 \nL 233.0805 29.749756 \nL 233.294268 29.699694 \nL 233.508037 29.599571 \nL 233.721805 29.54951 \nL 234.523437 29.249141 \nL 235.645721 29.199079 \nL 236.1267 29.098956 \nL 237.89029 28.998833 \nL 237.89029 28.948772 \nL 238.210943 28.698464 \nL 238.798806 28.698464 \nL 239.333227 28.54828 \nL 241.738122 28.247911 \nL 242.219101 27.997603 \nL 242.806964 27.89748 \nL 243.074175 27.797357 \nL 244.837765 27.747296 \nL 244.837765 27.697234 \nL 247.296102 27.446926 \nL 247.296102 27.346803 \nL 247.349544 27.346803 \nL 248.632155 27.24668 \nL 248.845923 27.096496 \nL 250.181976 27.096496 \nL 250.181976 26.996373 \nL 253.495387 26.696004 \nL 253.495387 26.595881 \nL 255.258977 26.545819 \nL 255.526187 26.445696 \nL 256.167493 26.345573 \nL 256.167493 26.295512 \nL 256.220935 26.295512 \nL 257.931082 26.195389 \nL 258.251735 26.145327 \nL 260.282535 26.045204 \nL 260.442862 25.945081 \nL 261.618588 25.844958 \nL 261.618588 25.794897 \nL 261.67203 25.794897 \nL 262.633988 25.744835 \nL 262.633988 25.644712 \nL 262.68743 25.644712 \nL 268.298852 25.544589 \nL 268.298852 25.494528 \nL 269.153926 25.394405 \nL 269.207368 25.344343 \nL 270.970958 25.24422 \nL 270.970958 25.144097 \nL 271.0244 25.144097 \nL 274.0706 25.043974 \nL 274.0706 24.993913 \nL 274.177484 24.993913 \nL 278.292527 24.89379 \nL 278.345969 24.843728 \nL 280.216443 24.793667 \nL 280.216443 24.693544 \nL 280.269885 24.693544 \nL 282.140359 24.593421 \nL 282.140359 24.543359 \nL 282.193801 24.543359 \nL 293.149434 24.443236 \nL 293.149434 24.393175 \nL 321.740965 24.393175 \nL 321.740965 24.393175 \n\" style=\"fill:none;stroke:#4c72b0;stroke-linecap:round;stroke-width:3;\"/>\n   </g>\n   <g id=\"line2d_14\">\n    <path clip-path=\"url(#pca4bf7c28e)\" d=\"M 52.499601 231.898125 \nL 321.740965 24.393175 \n\" style=\"fill:none;stroke:#1a1a1a;stroke-dasharray:5.55,2.4;stroke-dashoffset:0;stroke-width:1.5;\"/>\n   </g>\n   <g id=\"patch_3\">\n    <path d=\"M 49.807188 231.898125 \nL 49.807188 22.318125 \n\" style=\"fill:none;stroke:#ffffff;stroke-linecap:square;stroke-linejoin:miter;stroke-width:1.25;\"/>\n   </g>\n   <g id=\"patch_4\">\n    <path d=\"M 321.740965 231.898125 \nL 321.740965 22.318125 \n\" style=\"fill:none;stroke:#ffffff;stroke-linecap:square;stroke-linejoin:miter;stroke-width:1.25;\"/>\n   </g>\n   <g id=\"patch_5\">\n    <path d=\"M 49.807188 231.898125 \nL 321.740965 231.898125 \n\" style=\"fill:none;stroke:#ffffff;stroke-linecap:square;stroke-linejoin:miter;stroke-width:1.25;\"/>\n   </g>\n   <g id=\"patch_6\">\n    <path d=\"M 49.807188 22.318125 \nL 321.740965 22.318125 \n\" style=\"fill:none;stroke:#ffffff;stroke-linecap:square;stroke-linejoin:miter;stroke-width:1.25;\"/>\n   </g>\n   <g id=\"text_15\">\n    <!-- Receiver Operating Characteristic -->\n    <defs>\n     <path d=\"M 48.78125 52.59375 \nL 48.78125 44.1875 \nQ 44.96875 46.296875 41.140625 47.34375 \nQ 37.3125 48.390625 33.40625 48.390625 \nQ 24.65625 48.390625 19.8125 42.84375 \nQ 14.984375 37.3125 14.984375 27.296875 \nQ 14.984375 17.28125 19.8125 11.734375 \nQ 24.65625 6.203125 33.40625 6.203125 \nQ 37.3125 6.203125 41.140625 7.25 \nQ 44.96875 8.296875 48.78125 10.40625 \nL 48.78125 2.09375 \nQ 45.015625 0.34375 40.984375 -0.53125 \nQ 36.96875 -1.421875 32.421875 -1.421875 \nQ 20.0625 -1.421875 12.78125 6.34375 \nQ 5.515625 14.109375 5.515625 27.296875 \nQ 5.515625 40.671875 12.859375 48.328125 \nQ 20.21875 56 33.015625 56 \nQ 37.15625 56 41.109375 55.140625 \nQ 45.0625 54.296875 48.78125 52.59375 \nz\n\" id=\"DejaVuSans-99\"/>\n     <path d=\"M 39.40625 66.21875 \nQ 28.65625 66.21875 22.328125 58.203125 \nQ 16.015625 50.203125 16.015625 36.375 \nQ 16.015625 22.609375 22.328125 14.59375 \nQ 28.65625 6.59375 39.40625 6.59375 \nQ 50.140625 6.59375 56.421875 14.59375 \nQ 62.703125 22.609375 62.703125 36.375 \nQ 62.703125 50.203125 56.421875 58.203125 \nQ 50.140625 66.21875 39.40625 66.21875 \nz\nM 39.40625 74.21875 \nQ 54.734375 74.21875 63.90625 63.9375 \nQ 73.09375 53.65625 73.09375 36.375 \nQ 73.09375 19.140625 63.90625 8.859375 \nQ 54.734375 -1.421875 39.40625 -1.421875 \nQ 24.03125 -1.421875 14.8125 8.828125 \nQ 5.609375 19.09375 5.609375 36.375 \nQ 5.609375 53.65625 14.8125 63.9375 \nQ 24.03125 74.21875 39.40625 74.21875 \nz\n\" id=\"DejaVuSans-79\"/>\n     <path d=\"M 18.109375 8.203125 \nL 18.109375 -20.796875 \nL 9.078125 -20.796875 \nL 9.078125 54.6875 \nL 18.109375 54.6875 \nL 18.109375 46.390625 \nQ 20.953125 51.265625 25.265625 53.625 \nQ 29.59375 56 35.59375 56 \nQ 45.5625 56 51.78125 48.09375 \nQ 58.015625 40.1875 58.015625 27.296875 \nQ 58.015625 14.40625 51.78125 6.484375 \nQ 45.5625 -1.421875 35.59375 -1.421875 \nQ 29.59375 -1.421875 25.265625 0.953125 \nQ 20.953125 3.328125 18.109375 8.203125 \nz\nM 48.6875 27.296875 \nQ 48.6875 37.203125 44.609375 42.84375 \nQ 40.53125 48.484375 33.40625 48.484375 \nQ 26.265625 48.484375 22.1875 42.84375 \nQ 18.109375 37.203125 18.109375 27.296875 \nQ 18.109375 17.390625 22.1875 11.75 \nQ 26.265625 6.109375 33.40625 6.109375 \nQ 40.53125 6.109375 44.609375 11.75 \nQ 48.6875 17.390625 48.6875 27.296875 \nz\n\" id=\"DejaVuSans-112\"/>\n     <path d=\"M 54.890625 33.015625 \nL 54.890625 0 \nL 45.90625 0 \nL 45.90625 32.71875 \nQ 45.90625 40.484375 42.875 44.328125 \nQ 39.84375 48.1875 33.796875 48.1875 \nQ 26.515625 48.1875 22.3125 43.546875 \nQ 18.109375 38.921875 18.109375 30.90625 \nL 18.109375 0 \nL 9.078125 0 \nL 9.078125 54.6875 \nL 18.109375 54.6875 \nL 18.109375 46.1875 \nQ 21.34375 51.125 25.703125 53.5625 \nQ 30.078125 56 35.796875 56 \nQ 45.21875 56 50.046875 50.171875 \nQ 54.890625 44.34375 54.890625 33.015625 \nz\n\" id=\"DejaVuSans-110\"/>\n     <path d=\"M 45.40625 27.984375 \nQ 45.40625 37.75 41.375 43.109375 \nQ 37.359375 48.484375 30.078125 48.484375 \nQ 22.859375 48.484375 18.828125 43.109375 \nQ 14.796875 37.75 14.796875 27.984375 \nQ 14.796875 18.265625 18.828125 12.890625 \nQ 22.859375 7.515625 30.078125 7.515625 \nQ 37.359375 7.515625 41.375 12.890625 \nQ 45.40625 18.265625 45.40625 27.984375 \nz\nM 54.390625 6.78125 \nQ 54.390625 -7.171875 48.1875 -13.984375 \nQ 42 -20.796875 29.203125 -20.796875 \nQ 24.46875 -20.796875 20.265625 -20.09375 \nQ 16.0625 -19.390625 12.109375 -17.921875 \nL 12.109375 -9.1875 \nQ 16.0625 -11.328125 19.921875 -12.34375 \nQ 23.78125 -13.375 27.78125 -13.375 \nQ 36.625 -13.375 41.015625 -8.765625 \nQ 45.40625 -4.15625 45.40625 5.171875 \nL 45.40625 9.625 \nQ 42.625 4.78125 38.28125 2.390625 \nQ 33.9375 0 27.875 0 \nQ 17.828125 0 11.671875 7.65625 \nQ 5.515625 15.328125 5.515625 27.984375 \nQ 5.515625 40.671875 11.671875 48.328125 \nQ 17.828125 56 27.875 56 \nQ 33.9375 56 38.28125 53.609375 \nQ 42.625 51.21875 45.40625 46.390625 \nL 45.40625 54.6875 \nL 54.390625 54.6875 \nz\n\" id=\"DejaVuSans-103\"/>\n     <path d=\"M 64.40625 67.28125 \nL 64.40625 56.890625 \nQ 59.421875 61.53125 53.78125 63.8125 \nQ 48.140625 66.109375 41.796875 66.109375 \nQ 29.296875 66.109375 22.65625 58.46875 \nQ 16.015625 50.828125 16.015625 36.375 \nQ 16.015625 21.96875 22.65625 14.328125 \nQ 29.296875 6.6875 41.796875 6.6875 \nQ 48.140625 6.6875 53.78125 8.984375 \nQ 59.421875 11.28125 64.40625 15.921875 \nL 64.40625 5.609375 \nQ 59.234375 2.09375 53.4375 0.328125 \nQ 47.65625 -1.421875 41.21875 -1.421875 \nQ 24.65625 -1.421875 15.125 8.703125 \nQ 5.609375 18.84375 5.609375 36.375 \nQ 5.609375 53.953125 15.125 64.078125 \nQ 24.65625 74.21875 41.21875 74.21875 \nQ 47.75 74.21875 53.53125 72.484375 \nQ 59.328125 70.75 64.40625 67.28125 \nz\n\" id=\"DejaVuSans-67\"/>\n     <path d=\"M 54.890625 33.015625 \nL 54.890625 0 \nL 45.90625 0 \nL 45.90625 32.71875 \nQ 45.90625 40.484375 42.875 44.328125 \nQ 39.84375 48.1875 33.796875 48.1875 \nQ 26.515625 48.1875 22.3125 43.546875 \nQ 18.109375 38.921875 18.109375 30.90625 \nL 18.109375 0 \nL 9.078125 0 \nL 9.078125 75.984375 \nL 18.109375 75.984375 \nL 18.109375 46.1875 \nQ 21.34375 51.125 25.703125 53.5625 \nQ 30.078125 56 35.796875 56 \nQ 45.21875 56 50.046875 50.171875 \nQ 54.890625 44.34375 54.890625 33.015625 \nz\n\" id=\"DejaVuSans-104\"/>\n    </defs>\n    <g style=\"fill:#262626;\" transform=\"translate(84.270951 16.318125)scale(0.12 -0.12)\">\n     <use xlink:href=\"#DejaVuSans-82\"/>\n     <use x=\"64.982422\" xlink:href=\"#DejaVuSans-101\"/>\n     <use x=\"126.505859\" xlink:href=\"#DejaVuSans-99\"/>\n     <use x=\"181.486328\" xlink:href=\"#DejaVuSans-101\"/>\n     <use x=\"243.009766\" xlink:href=\"#DejaVuSans-105\"/>\n     <use x=\"270.792969\" xlink:href=\"#DejaVuSans-118\"/>\n     <use x=\"329.972656\" xlink:href=\"#DejaVuSans-101\"/>\n     <use x=\"391.496094\" xlink:href=\"#DejaVuSans-114\"/>\n     <use x=\"432.609375\" xlink:href=\"#DejaVuSans-32\"/>\n     <use x=\"464.396484\" xlink:href=\"#DejaVuSans-79\"/>\n     <use x=\"543.107422\" xlink:href=\"#DejaVuSans-112\"/>\n     <use x=\"606.583984\" xlink:href=\"#DejaVuSans-101\"/>\n     <use x=\"668.107422\" xlink:href=\"#DejaVuSans-114\"/>\n     <use x=\"709.220703\" xlink:href=\"#DejaVuSans-97\"/>\n     <use x=\"770.5\" xlink:href=\"#DejaVuSans-116\"/>\n     <use x=\"809.708984\" xlink:href=\"#DejaVuSans-105\"/>\n     <use x=\"837.492188\" xlink:href=\"#DejaVuSans-110\"/>\n     <use x=\"900.871094\" xlink:href=\"#DejaVuSans-103\"/>\n     <use x=\"964.347656\" xlink:href=\"#DejaVuSans-32\"/>\n     <use x=\"996.134766\" xlink:href=\"#DejaVuSans-67\"/>\n     <use x=\"1065.958984\" xlink:href=\"#DejaVuSans-104\"/>\n     <use x=\"1129.337891\" xlink:href=\"#DejaVuSans-97\"/>\n     <use x=\"1190.617188\" xlink:href=\"#DejaVuSans-114\"/>\n     <use x=\"1231.730469\" xlink:href=\"#DejaVuSans-97\"/>\n     <use x=\"1293.009766\" xlink:href=\"#DejaVuSans-99\"/>\n     <use x=\"1347.990234\" xlink:href=\"#DejaVuSans-116\"/>\n     <use x=\"1387.199219\" xlink:href=\"#DejaVuSans-101\"/>\n     <use x=\"1448.722656\" xlink:href=\"#DejaVuSans-114\"/>\n     <use x=\"1489.835938\" xlink:href=\"#DejaVuSans-105\"/>\n     <use x=\"1517.619141\" xlink:href=\"#DejaVuSans-115\"/>\n     <use x=\"1569.71875\" xlink:href=\"#DejaVuSans-116\"/>\n     <use x=\"1608.927734\" xlink:href=\"#DejaVuSans-105\"/>\n     <use x=\"1636.710938\" xlink:href=\"#DejaVuSans-99\"/>\n    </g>\n   </g>\n   <g id=\"legend_1\">\n    <g id=\"patch_7\">\n     <path d=\"M 132.362215 226.398125 \nL 314.040965 226.398125 \nQ 316.240965 226.398125 316.240965 224.198125 \nL 316.240965 208.84625 \nQ 316.240965 206.64625 314.040965 206.64625 \nL 132.362215 206.64625 \nQ 130.162215 206.64625 130.162215 208.84625 \nL 130.162215 224.198125 \nQ 130.162215 226.398125 132.362215 226.398125 \nz\n\" style=\"fill:#eaeaf2;opacity:0.8;stroke:#cccccc;stroke-linejoin:miter;\"/>\n    </g>\n    <g id=\"line2d_15\">\n     <path d=\"M 134.562215 215.554531 \nL 156.562215 215.554531 \n\" style=\"fill:none;stroke:#4c72b0;stroke-linecap:round;stroke-width:3;\"/>\n    </g>\n    <g id=\"line2d_16\"/>\n    <g id=\"text_16\">\n     <!-- lr_logit_simple AUC = 0.82 -->\n     <defs>\n      <path d=\"M 50.984375 -16.609375 \nL 50.984375 -23.578125 \nL -0.984375 -23.578125 \nL -0.984375 -16.609375 \nz\n\" id=\"DejaVuSans-95\"/>\n      <path d=\"M 52 44.1875 \nQ 55.375 50.25 60.0625 53.125 \nQ 64.75 56 71.09375 56 \nQ 79.640625 56 84.28125 50.015625 \nQ 88.921875 44.046875 88.921875 33.015625 \nL 88.921875 0 \nL 79.890625 0 \nL 79.890625 32.71875 \nQ 79.890625 40.578125 77.09375 44.375 \nQ 74.3125 48.1875 68.609375 48.1875 \nQ 61.625 48.1875 57.5625 43.546875 \nQ 53.515625 38.921875 53.515625 30.90625 \nL 53.515625 0 \nL 44.484375 0 \nL 44.484375 32.71875 \nQ 44.484375 40.625 41.703125 44.40625 \nQ 38.921875 48.1875 33.109375 48.1875 \nQ 26.21875 48.1875 22.15625 43.53125 \nQ 18.109375 38.875 18.109375 30.90625 \nL 18.109375 0 \nL 9.078125 0 \nL 9.078125 54.6875 \nL 18.109375 54.6875 \nL 18.109375 46.1875 \nQ 21.1875 51.21875 25.484375 53.609375 \nQ 29.78125 56 35.6875 56 \nQ 41.65625 56 45.828125 52.96875 \nQ 50 49.953125 52 44.1875 \nz\n\" id=\"DejaVuSans-109\"/>\n      <path d=\"M 34.1875 63.1875 \nL 20.796875 26.90625 \nL 47.609375 26.90625 \nz\nM 28.609375 72.90625 \nL 39.796875 72.90625 \nL 67.578125 0 \nL 57.328125 0 \nL 50.6875 18.703125 \nL 17.828125 18.703125 \nL 11.1875 0 \nL 0.78125 0 \nz\n\" id=\"DejaVuSans-65\"/>\n      <path d=\"M 8.6875 72.90625 \nL 18.609375 72.90625 \nL 18.609375 28.609375 \nQ 18.609375 16.890625 22.84375 11.734375 \nQ 27.09375 6.59375 36.625 6.59375 \nQ 46.09375 6.59375 50.34375 11.734375 \nQ 54.59375 16.890625 54.59375 28.609375 \nL 54.59375 72.90625 \nL 64.5 72.90625 \nL 64.5 27.390625 \nQ 64.5 13.140625 57.4375 5.859375 \nQ 50.390625 -1.421875 36.625 -1.421875 \nQ 22.796875 -1.421875 15.734375 5.859375 \nQ 8.6875 13.140625 8.6875 27.390625 \nz\n\" id=\"DejaVuSans-85\"/>\n      <path d=\"M 10.59375 45.40625 \nL 73.1875 45.40625 \nL 73.1875 37.203125 \nL 10.59375 37.203125 \nz\nM 10.59375 25.484375 \nL 73.1875 25.484375 \nL 73.1875 17.1875 \nL 10.59375 17.1875 \nz\n\" id=\"DejaVuSans-61\"/>\n     </defs>\n     <g style=\"fill:#262626;\" transform=\"translate(165.362215 219.404531)scale(0.11 -0.11)\">\n      <use xlink:href=\"#DejaVuSans-108\"/>\n      <use x=\"27.783203\" xlink:href=\"#DejaVuSans-114\"/>\n      <use x=\"68.896484\" xlink:href=\"#DejaVuSans-95\"/>\n      <use x=\"118.896484\" xlink:href=\"#DejaVuSans-108\"/>\n      <use x=\"146.679688\" xlink:href=\"#DejaVuSans-111\"/>\n      <use x=\"207.861328\" xlink:href=\"#DejaVuSans-103\"/>\n      <use x=\"271.337891\" xlink:href=\"#DejaVuSans-105\"/>\n      <use x=\"299.121094\" xlink:href=\"#DejaVuSans-116\"/>\n      <use x=\"338.330078\" xlink:href=\"#DejaVuSans-95\"/>\n      <use x=\"388.330078\" xlink:href=\"#DejaVuSans-115\"/>\n      <use x=\"440.429688\" xlink:href=\"#DejaVuSans-105\"/>\n      <use x=\"468.212891\" xlink:href=\"#DejaVuSans-109\"/>\n      <use x=\"565.625\" xlink:href=\"#DejaVuSans-112\"/>\n      <use x=\"629.101562\" xlink:href=\"#DejaVuSans-108\"/>\n      <use x=\"656.884766\" xlink:href=\"#DejaVuSans-101\"/>\n      <use x=\"718.408203\" xlink:href=\"#DejaVuSans-32\"/>\n      <use x=\"750.195312\" xlink:href=\"#DejaVuSans-65\"/>\n      <use x=\"818.603516\" xlink:href=\"#DejaVuSans-85\"/>\n      <use x=\"891.796875\" xlink:href=\"#DejaVuSans-67\"/>\n      <use x=\"961.621094\" xlink:href=\"#DejaVuSans-32\"/>\n      <use x=\"993.408203\" xlink:href=\"#DejaVuSans-61\"/>\n      <use x=\"1077.197266\" xlink:href=\"#DejaVuSans-32\"/>\n      <use x=\"1108.984375\" xlink:href=\"#DejaVuSans-48\"/>\n      <use x=\"1172.607422\" xlink:href=\"#DejaVuSans-46\"/>\n      <use x=\"1204.394531\" xlink:href=\"#DejaVuSans-56\"/>\n      <use x=\"1268.017578\" xlink:href=\"#DejaVuSans-50\"/>\n     </g>\n    </g>\n   </g>\n  </g>\n  <g id=\"axes_2\">\n   <g id=\"patch_8\">\n    <path d=\"M 428.980487 231.898125 \nL 638.560487 231.898125 \nL 638.560487 22.318125 \nL 428.980487 22.318125 \nz\n\" style=\"fill:#eaeaf2;\"/>\n   </g>\n   <g clip-path=\"url(#pea6dda7644)\">\n    <image height=\"210\" id=\"image609038bf03\" transform=\"scale(1 -1)translate(0 -210)\" width=\"210\" x=\"428.980487\" xlink:href=\"data:image/png;base64,\niVBORw0KGgoAAAANSUhEUgAAANIAAADSCAYAAAA/mZ5CAAAABHNCSVQICAgIfAhkiAAAAoZJREFUeJzt1TENwlAARVHKVDn1xcyKCSoCId3wgAUkFAd0uckn5BwFb7l503177Sd+2vX2GD2BA+fRA+AfCAkCQoKAkCAgJAgICQJCgoCQICAkCAgJAkKCgJAgICQICAkCQoKAkCAgJAgICQJCgoCQICAkCAgJAkKCgJAgICQICAkCQoKAkCAgJAgICQJCgoCQICAkCAgJAkKCgJAgICQICAkCQoKAkCAgJAgICQJCgoCQICAkCAgJAkKCgJAgICQICAkCQoKAkCAgJAgICQJCgoCQICAkCAgJAkKCgJAgICQICAkCQoKAkCAgJAgICQJCgoCQICAkCAgJAkKCgJAgICQICAkCQoKAkCAgJAgICQJCgoCQICAkCAgJAkKCgJAgICQICAkCQoKAkCAgJAgICQJCgoCQICAkCAgJAkKCgJAgICQICAkCQoKAkCAgJAgICQJCgoCQIDDNy2UfPYLv3s919AQOeCQICAkCQoKAkCAgJAgICQJCgoCQICAkCAgJAkKCgJAgICQICAkCQoKAkCAgJAgICQJCgoCQICAkCAgJAkKCgJAgICQICAkCQoKAkCAgJAgICQJCgoCQICAkCAgJAkKCgJAgICQICAkCQoKAkCAgJAgICQJCgoCQICAkCAgJAkKCgJAgICQICAkCQoKAkCAgJAgICQJCgoCQICAkCAgJAkKCgJAgICQICAkCQoKAkCAgJAgICQJCgoCQICAkCAgJAkKCgJAgICQICAkCQoKAkCAgJAgICQJCgoCQICAkCAgJAkKCgJAgICQICAkCQoKAkCAgJAgICQJCgoCQICAkCAgJAkKCgJAgICQICAkCQoKAkCAgJAgICQJCgoCQIPABiZoKYn9Sl5wAAAAASUVORK5CYII=\" y=\"-21.898125\"/>\n   </g>\n   <g id=\"matplotlib.axis_3\">\n    <g id=\"xtick_7\">\n     <g id=\"line2d_17\">\n      <path clip-path=\"url(#pea6dda7644)\" d=\"M 481.375487 231.898125 \nL 481.375487 22.318125 \n\" style=\"fill:none;stroke:#ffffff;stroke-linecap:round;\"/>\n     </g>\n     <g id=\"text_17\">\n      <!-- Poor -->\n      <g style=\"fill:#262626;\" transform=\"translate(469.266893 249.756406)scale(0.11 -0.11)\">\n       <use xlink:href=\"#DejaVuSans-80\"/>\n       <use x=\"56.677734\" xlink:href=\"#DejaVuSans-111\"/>\n       <use x=\"117.859375\" xlink:href=\"#DejaVuSans-111\"/>\n       <use x=\"179.041016\" xlink:href=\"#DejaVuSans-114\"/>\n      </g>\n     </g>\n    </g>\n    <g id=\"xtick_8\">\n     <g id=\"line2d_18\">\n      <path clip-path=\"url(#pea6dda7644)\" d=\"M 586.165487 231.898125 \nL 586.165487 22.318125 \n\" style=\"fill:none;stroke:#ffffff;stroke-linecap:round;\"/>\n     </g>\n     <g id=\"text_18\">\n      <!-- Non-poor -->\n      <defs>\n       <path d=\"M 9.8125 72.90625 \nL 23.09375 72.90625 \nL 55.421875 11.921875 \nL 55.421875 72.90625 \nL 64.984375 72.90625 \nL 64.984375 0 \nL 51.703125 0 \nL 19.390625 60.984375 \nL 19.390625 0 \nL 9.8125 0 \nz\n\" id=\"DejaVuSans-78\"/>\n       <path d=\"M 4.890625 31.390625 \nL 31.203125 31.390625 \nL 31.203125 23.390625 \nL 4.890625 23.390625 \nz\n\" id=\"DejaVuSans-45\"/>\n      </defs>\n      <g style=\"fill:#262626;\" transform=\"translate(560.732283 249.756406)scale(0.11 -0.11)\">\n       <use xlink:href=\"#DejaVuSans-78\"/>\n       <use x=\"74.804688\" xlink:href=\"#DejaVuSans-111\"/>\n       <use x=\"135.986328\" xlink:href=\"#DejaVuSans-110\"/>\n       <use x=\"199.365234\" xlink:href=\"#DejaVuSans-45\"/>\n       <use x=\"235.449219\" xlink:href=\"#DejaVuSans-112\"/>\n       <use x=\"298.925781\" xlink:href=\"#DejaVuSans-111\"/>\n       <use x=\"360.107422\" xlink:href=\"#DejaVuSans-111\"/>\n       <use x=\"421.289062\" xlink:href=\"#DejaVuSans-114\"/>\n      </g>\n     </g>\n    </g>\n    <g id=\"text_19\">\n     <!-- Predicted label -->\n     <defs>\n      <path d=\"M 45.40625 46.390625 \nL 45.40625 75.984375 \nL 54.390625 75.984375 \nL 54.390625 0 \nL 45.40625 0 \nL 45.40625 8.203125 \nQ 42.578125 3.328125 38.25 0.953125 \nQ 33.9375 -1.421875 27.875 -1.421875 \nQ 17.96875 -1.421875 11.734375 6.484375 \nQ 5.515625 14.40625 5.515625 27.296875 \nQ 5.515625 40.1875 11.734375 48.09375 \nQ 17.96875 56 27.875 56 \nQ 33.9375 56 38.25 53.625 \nQ 42.578125 51.265625 45.40625 46.390625 \nz\nM 14.796875 27.296875 \nQ 14.796875 17.390625 18.875 11.75 \nQ 22.953125 6.109375 30.078125 6.109375 \nQ 37.203125 6.109375 41.296875 11.75 \nQ 45.40625 17.390625 45.40625 27.296875 \nQ 45.40625 37.203125 41.296875 42.84375 \nQ 37.203125 48.484375 30.078125 48.484375 \nQ 22.953125 48.484375 18.875 42.84375 \nQ 14.796875 37.203125 14.796875 27.296875 \nz\n\" id=\"DejaVuSans-100\"/>\n      <path d=\"M 48.6875 27.296875 \nQ 48.6875 37.203125 44.609375 42.84375 \nQ 40.53125 48.484375 33.40625 48.484375 \nQ 26.265625 48.484375 22.1875 42.84375 \nQ 18.109375 37.203125 18.109375 27.296875 \nQ 18.109375 17.390625 22.1875 11.75 \nQ 26.265625 6.109375 33.40625 6.109375 \nQ 40.53125 6.109375 44.609375 11.75 \nQ 48.6875 17.390625 48.6875 27.296875 \nz\nM 18.109375 46.390625 \nQ 20.953125 51.265625 25.265625 53.625 \nQ 29.59375 56 35.59375 56 \nQ 45.5625 56 51.78125 48.09375 \nQ 58.015625 40.1875 58.015625 27.296875 \nQ 58.015625 14.40625 51.78125 6.484375 \nQ 45.5625 -1.421875 35.59375 -1.421875 \nQ 29.59375 -1.421875 25.265625 0.953125 \nQ 20.953125 3.328125 18.109375 8.203125 \nL 18.109375 0 \nL 9.078125 0 \nL 9.078125 75.984375 \nL 18.109375 75.984375 \nz\n\" id=\"DejaVuSans-98\"/>\n     </defs>\n     <g style=\"fill:#262626;\" transform=\"translate(489.187674 265.162188)scale(0.12 -0.12)\">\n      <use xlink:href=\"#DejaVuSans-80\"/>\n      <use x=\"58.552734\" xlink:href=\"#DejaVuSans-114\"/>\n      <use x=\"97.416016\" xlink:href=\"#DejaVuSans-101\"/>\n      <use x=\"158.939453\" xlink:href=\"#DejaVuSans-100\"/>\n      <use x=\"222.416016\" xlink:href=\"#DejaVuSans-105\"/>\n      <use x=\"250.199219\" xlink:href=\"#DejaVuSans-99\"/>\n      <use x=\"305.179688\" xlink:href=\"#DejaVuSans-116\"/>\n      <use x=\"344.388672\" xlink:href=\"#DejaVuSans-101\"/>\n      <use x=\"405.912109\" xlink:href=\"#DejaVuSans-100\"/>\n      <use x=\"469.388672\" xlink:href=\"#DejaVuSans-32\"/>\n      <use x=\"501.175781\" xlink:href=\"#DejaVuSans-108\"/>\n      <use x=\"528.958984\" xlink:href=\"#DejaVuSans-97\"/>\n      <use x=\"590.238281\" xlink:href=\"#DejaVuSans-98\"/>\n      <use x=\"653.714844\" xlink:href=\"#DejaVuSans-101\"/>\n      <use x=\"715.238281\" xlink:href=\"#DejaVuSans-108\"/>\n     </g>\n    </g>\n   </g>\n   <g id=\"matplotlib.axis_4\">\n    <g id=\"ytick_7\">\n     <g id=\"line2d_19\">\n      <path clip-path=\"url(#pea6dda7644)\" d=\"M 428.980487 74.713125 \nL 638.560487 74.713125 \n\" style=\"fill:none;stroke:#ffffff;stroke-linecap:round;\"/>\n     </g>\n     <g id=\"text_20\">\n      <!-- Poor -->\n      <g style=\"fill:#262626;\" transform=\"translate(395.263299 78.892266)scale(0.11 -0.11)\">\n       <use xlink:href=\"#DejaVuSans-80\"/>\n       <use x=\"56.677734\" xlink:href=\"#DejaVuSans-111\"/>\n       <use x=\"117.859375\" xlink:href=\"#DejaVuSans-111\"/>\n       <use x=\"179.041016\" xlink:href=\"#DejaVuSans-114\"/>\n      </g>\n     </g>\n    </g>\n    <g id=\"ytick_8\">\n     <g id=\"line2d_20\">\n      <path clip-path=\"url(#pea6dda7644)\" d=\"M 428.980487 179.503125 \nL 638.560487 179.503125 \n\" style=\"fill:none;stroke:#ffffff;stroke-linecap:round;\"/>\n     </g>\n     <g id=\"text_21\">\n      <!-- Non-poor -->\n      <g style=\"fill:#262626;\" transform=\"translate(368.61408 183.682266)scale(0.11 -0.11)\">\n       <use xlink:href=\"#DejaVuSans-78\"/>\n       <use x=\"74.804688\" xlink:href=\"#DejaVuSans-111\"/>\n       <use x=\"135.986328\" xlink:href=\"#DejaVuSans-110\"/>\n       <use x=\"199.365234\" xlink:href=\"#DejaVuSans-45\"/>\n       <use x=\"235.449219\" xlink:href=\"#DejaVuSans-112\"/>\n       <use x=\"298.925781\" xlink:href=\"#DejaVuSans-111\"/>\n       <use x=\"360.107422\" xlink:href=\"#DejaVuSans-111\"/>\n       <use x=\"421.289062\" xlink:href=\"#DejaVuSans-114\"/>\n      </g>\n     </g>\n    </g>\n    <g id=\"text_22\">\n     <!-- True label -->\n     <g style=\"fill:#262626;\" transform=\"translate(362.118455 156.267188)rotate(-90)scale(0.12 -0.12)\">\n      <use xlink:href=\"#DejaVuSans-84\"/>\n      <use x=\"46.333984\" xlink:href=\"#DejaVuSans-114\"/>\n      <use x=\"87.447266\" xlink:href=\"#DejaVuSans-117\"/>\n      <use x=\"150.826172\" xlink:href=\"#DejaVuSans-101\"/>\n      <use x=\"212.349609\" xlink:href=\"#DejaVuSans-32\"/>\n      <use x=\"244.136719\" xlink:href=\"#DejaVuSans-108\"/>\n      <use x=\"271.919922\" xlink:href=\"#DejaVuSans-97\"/>\n      <use x=\"333.199219\" xlink:href=\"#DejaVuSans-98\"/>\n      <use x=\"396.675781\" xlink:href=\"#DejaVuSans-101\"/>\n      <use x=\"458.199219\" xlink:href=\"#DejaVuSans-108\"/>\n     </g>\n    </g>\n   </g>\n   <g id=\"patch_9\">\n    <path d=\"M 428.980487 231.898125 \nL 428.980487 22.318125 \n\" style=\"fill:none;stroke:#ffffff;stroke-linecap:square;stroke-linejoin:miter;stroke-width:1.25;\"/>\n   </g>\n   <g id=\"patch_10\">\n    <path d=\"M 638.560487 231.898125 \nL 638.560487 22.318125 \n\" style=\"fill:none;stroke:#ffffff;stroke-linecap:square;stroke-linejoin:miter;stroke-width:1.25;\"/>\n   </g>\n   <g id=\"patch_11\">\n    <path d=\"M 428.980487 231.898125 \nL 638.560487 231.898125 \n\" style=\"fill:none;stroke:#ffffff;stroke-linecap:square;stroke-linejoin:miter;stroke-width:1.25;\"/>\n   </g>\n   <g id=\"patch_12\">\n    <path d=\"M 428.980487 22.318125 \nL 638.560487 22.318125 \n\" style=\"fill:none;stroke:#ffffff;stroke-linecap:square;stroke-linejoin:miter;stroke-width:1.25;\"/>\n   </g>\n   <g id=\"text_23\">\n    <!-- 3437 -->\n    <defs>\n     <path d=\"M 46.578125 39.3125 \nQ 53.953125 37.40625 57.78125 32.6875 \nQ 61.625 27.984375 61.625 20.703125 \nQ 61.625 9.859375 53.3125 4.21875 \nQ 45.015625 -1.421875 29.109375 -1.421875 \nQ 23.484375 -1.421875 17.84375 -0.515625 \nQ 12.203125 0.390625 6.6875 2.203125 \nL 6.6875 16.703125 \nQ 11.96875 14.0625 17.15625 12.71875 \nQ 22.359375 11.375 27.390625 11.375 \nQ 34.859375 11.375 38.84375 13.953125 \nQ 42.828125 16.546875 42.828125 21.390625 \nQ 42.828125 26.375 38.75 28.9375 \nQ 34.671875 31.5 26.703125 31.5 \nL 19.1875 31.5 \nL 19.1875 43.609375 \nL 27.09375 43.609375 \nQ 34.1875 43.609375 37.640625 45.828125 \nQ 41.109375 48.046875 41.109375 52.59375 \nQ 41.109375 56.78125 37.734375 59.078125 \nQ 34.375 61.375 28.21875 61.375 \nQ 23.6875 61.375 19.046875 60.34375 \nQ 14.40625 59.328125 9.8125 57.328125 \nL 9.8125 71.09375 \nQ 15.375 72.65625 20.84375 73.4375 \nQ 26.3125 74.21875 31.59375 74.21875 \nQ 45.796875 74.21875 52.84375 69.546875 \nQ 59.90625 64.890625 59.90625 55.515625 \nQ 59.90625 49.125 56.53125 45.046875 \nQ 53.171875 40.96875 46.578125 39.3125 \nz\n\" id=\"DejaVuSans-Bold-51\"/>\n     <path d=\"M 36.8125 57.421875 \nL 16.21875 26.90625 \nL 36.8125 26.90625 \nz\nM 33.6875 72.90625 \nL 54.59375 72.90625 \nL 54.59375 26.90625 \nL 64.984375 26.90625 \nL 64.984375 13.28125 \nL 54.59375 13.28125 \nL 54.59375 0 \nL 36.8125 0 \nL 36.8125 13.28125 \nL 4.5 13.28125 \nL 4.5 29.390625 \nz\n\" id=\"DejaVuSans-Bold-52\"/>\n     <path d=\"M 6.6875 72.90625 \nL 61.625 72.90625 \nL 61.625 62.3125 \nL 33.203125 0 \nL 14.890625 0 \nL 41.796875 59.078125 \nL 6.6875 59.078125 \nz\n\" id=\"DejaVuSans-Bold-55\"/>\n    </defs>\n    <g style=\"fill:#ffffff;\" transform=\"translate(461.893612 70.737781)scale(0.14 -0.14)\">\n     <use xlink:href=\"#DejaVuSans-Bold-51\"/>\n     <use x=\"69.580078\" xlink:href=\"#DejaVuSans-Bold-52\"/>\n     <use x=\"139.160156\" xlink:href=\"#DejaVuSans-Bold-51\"/>\n     <use x=\"208.740234\" xlink:href=\"#DejaVuSans-Bold-55\"/>\n    </g>\n    <!-- 82.9% -->\n    <defs>\n     <path d=\"M 34.8125 32.625 \nQ 29.546875 32.625 26.703125 29.734375 \nQ 23.875 26.859375 23.875 21.484375 \nQ 23.875 16.109375 26.703125 13.25 \nQ 29.546875 10.40625 34.8125 10.40625 \nQ 40.046875 10.40625 42.828125 13.25 \nQ 45.609375 16.109375 45.609375 21.484375 \nQ 45.609375 26.90625 42.828125 29.765625 \nQ 40.046875 32.625 34.8125 32.625 \nz\nM 21.09375 38.8125 \nQ 14.453125 40.828125 11.078125 44.96875 \nQ 7.71875 49.125 7.71875 55.328125 \nQ 7.71875 64.546875 14.59375 69.375 \nQ 21.484375 74.21875 34.8125 74.21875 \nQ 48.046875 74.21875 54.921875 69.40625 \nQ 61.8125 64.59375 61.8125 55.328125 \nQ 61.8125 49.125 58.421875 44.96875 \nQ 55.03125 40.828125 48.390625 38.8125 \nQ 55.8125 36.765625 59.59375 32.15625 \nQ 63.375 27.546875 63.375 20.515625 \nQ 63.375 9.671875 56.171875 4.125 \nQ 48.96875 -1.421875 34.8125 -1.421875 \nQ 20.609375 -1.421875 13.359375 4.125 \nQ 6.109375 9.671875 6.109375 20.515625 \nQ 6.109375 27.546875 9.890625 32.15625 \nQ 13.671875 36.765625 21.09375 38.8125 \nz\nM 25.484375 53.421875 \nQ 25.484375 49.078125 27.90625 46.734375 \nQ 30.328125 44.390625 34.8125 44.390625 \nQ 39.203125 44.390625 41.59375 46.734375 \nQ 44 49.078125 44 53.421875 \nQ 44 57.765625 41.59375 60.078125 \nQ 39.203125 62.40625 34.8125 62.40625 \nQ 30.328125 62.40625 27.90625 60.0625 \nQ 25.484375 57.71875 25.484375 53.421875 \nz\n\" id=\"DejaVuSans-Bold-56\"/>\n     <path d=\"M 28.8125 13.8125 \nL 60.890625 13.8125 \nL 60.890625 0 \nL 7.90625 0 \nL 7.90625 13.8125 \nL 34.515625 37.3125 \nQ 38.09375 40.53125 39.796875 43.609375 \nQ 41.5 46.6875 41.5 50 \nQ 41.5 55.125 38.0625 58.25 \nQ 34.625 61.375 28.90625 61.375 \nQ 24.515625 61.375 19.28125 59.5 \nQ 14.0625 57.625 8.109375 53.90625 \nL 8.109375 69.921875 \nQ 14.453125 72.015625 20.65625 73.109375 \nQ 26.859375 74.21875 32.8125 74.21875 \nQ 45.90625 74.21875 53.15625 68.453125 \nQ 60.40625 62.703125 60.40625 52.390625 \nQ 60.40625 46.4375 57.328125 41.28125 \nQ 54.25 36.140625 44.390625 27.484375 \nz\n\" id=\"DejaVuSans-Bold-50\"/>\n     <path d=\"M 10.203125 18.890625 \nL 27.78125 18.890625 \nL 27.78125 0 \nL 10.203125 0 \nz\n\" id=\"DejaVuSans-Bold-46\"/>\n     <path d=\"M 10.015625 1.609375 \nL 10.015625 15.09375 \nQ 14.5 12.984375 18.59375 11.9375 \nQ 22.703125 10.890625 26.703125 10.890625 \nQ 35.109375 10.890625 39.796875 15.546875 \nQ 44.484375 20.21875 45.3125 29.390625 \nQ 42 26.953125 38.234375 25.734375 \nQ 34.46875 24.515625 30.078125 24.515625 \nQ 18.890625 24.515625 12.03125 31.03125 \nQ 5.171875 37.546875 5.171875 48.1875 \nQ 5.171875 59.96875 12.8125 67.046875 \nQ 20.453125 74.125 33.296875 74.125 \nQ 47.5625 74.125 55.375 64.5 \nQ 63.1875 54.890625 63.1875 37.3125 \nQ 63.1875 19.234375 54.046875 8.90625 \nQ 44.921875 -1.421875 29 -1.421875 \nQ 23.875 -1.421875 19.1875 -0.65625 \nQ 14.5 0.09375 10.015625 1.609375 \nz\nM 33.203125 36.71875 \nQ 38.140625 36.71875 40.625 39.90625 \nQ 43.109375 43.109375 43.109375 49.515625 \nQ 43.109375 55.859375 40.625 59.078125 \nQ 38.140625 62.3125 33.203125 62.3125 \nQ 28.265625 62.3125 25.78125 59.078125 \nQ 23.296875 55.859375 23.296875 49.515625 \nQ 23.296875 43.109375 25.78125 39.90625 \nQ 28.265625 36.71875 33.203125 36.71875 \nz\n\" id=\"DejaVuSans-Bold-57\"/>\n     <path d=\"M 77.484375 30.078125 \nQ 74.03125 30.078125 72.125 27.078125 \nQ 70.21875 24.078125 70.21875 18.5 \nQ 70.21875 12.890625 72.09375 9.890625 \nQ 73.96875 6.890625 77.484375 6.890625 \nQ 81 6.890625 82.859375 9.890625 \nQ 84.71875 12.890625 84.71875 18.5 \nQ 84.71875 24.078125 82.828125 27.078125 \nQ 80.953125 30.078125 77.484375 30.078125 \nz\nM 77.484375 38.28125 \nQ 86.578125 38.28125 91.796875 33 \nQ 97.015625 27.734375 97.015625 18.5 \nQ 97.015625 9.28125 91.796875 3.921875 \nQ 86.578125 -1.421875 77.484375 -1.421875 \nQ 68.40625 -1.421875 63.15625 3.921875 \nQ 57.90625 9.28125 57.90625 18.5 \nQ 57.90625 27.6875 63.15625 32.984375 \nQ 68.40625 38.28125 77.484375 38.28125 \nz\nM 32.71875 -1.421875 \nL 21.921875 -1.421875 \nL 67.484375 74.21875 \nL 78.328125 74.21875 \nz\nM 22.703125 74.21875 \nQ 31.78125 74.21875 36.984375 68.921875 \nQ 42.1875 63.625 42.1875 54.390625 \nQ 42.1875 45.171875 36.984375 39.84375 \nQ 31.78125 34.515625 22.703125 34.515625 \nQ 13.625 34.515625 8.421875 39.84375 \nQ 3.21875 45.171875 3.21875 54.390625 \nQ 3.21875 63.625 8.421875 68.921875 \nQ 13.625 74.21875 22.703125 74.21875 \nz\nM 22.703125 66.015625 \nQ 19.1875 66.015625 17.28125 62.984375 \nQ 15.375 59.96875 15.375 54.390625 \nQ 15.375 48.78125 17.28125 45.71875 \nQ 19.1875 42.671875 22.703125 42.671875 \nQ 26.21875 42.671875 28.09375 45.71875 \nQ 29.984375 48.78125 29.984375 54.390625 \nQ 29.984375 59.96875 28.078125 62.984375 \nQ 26.171875 66.015625 22.703125 66.015625 \nz\n\" id=\"DejaVuSans-Bold-37\"/>\n    </defs>\n    <g style=\"fill:#ffffff;\" transform=\"translate(457.090955 86.414719)scale(0.14 -0.14)\">\n     <use xlink:href=\"#DejaVuSans-Bold-56\"/>\n     <use x=\"69.580078\" xlink:href=\"#DejaVuSans-Bold-50\"/>\n     <use x=\"139.160156\" xlink:href=\"#DejaVuSans-Bold-46\"/>\n     <use x=\"177.148438\" xlink:href=\"#DejaVuSans-Bold-57\"/>\n     <use x=\"246.728516\" xlink:href=\"#DejaVuSans-Bold-37\"/>\n    </g>\n   </g>\n   <g id=\"text_24\">\n    <!-- 708 -->\n    <defs>\n     <path d=\"M 46 36.53125 \nQ 46 50.203125 43.4375 55.78125 \nQ 40.875 61.375 34.8125 61.375 \nQ 28.765625 61.375 26.171875 55.78125 \nQ 23.578125 50.203125 23.578125 36.53125 \nQ 23.578125 22.703125 26.171875 17.03125 \nQ 28.765625 11.375 34.8125 11.375 \nQ 40.828125 11.375 43.40625 17.03125 \nQ 46 22.703125 46 36.53125 \nz\nM 64.796875 36.375 \nQ 64.796875 18.265625 56.984375 8.421875 \nQ 49.171875 -1.421875 34.8125 -1.421875 \nQ 20.40625 -1.421875 12.59375 8.421875 \nQ 4.78125 18.265625 4.78125 36.375 \nQ 4.78125 54.546875 12.59375 64.375 \nQ 20.40625 74.21875 34.8125 74.21875 \nQ 49.171875 74.21875 56.984375 64.375 \nQ 64.796875 54.546875 64.796875 36.375 \nz\n\" id=\"DejaVuSans-Bold-48\"/>\n    </defs>\n    <g transform=\"translate(571.55408 70.737781)scale(0.14 -0.14)\">\n     <use xlink:href=\"#DejaVuSans-Bold-55\"/>\n     <use x=\"69.580078\" xlink:href=\"#DejaVuSans-Bold-48\"/>\n     <use x=\"139.160156\" xlink:href=\"#DejaVuSans-Bold-56\"/>\n    </g>\n    <!-- 17.1% -->\n    <defs>\n     <path d=\"M 11.71875 12.984375 \nL 28.328125 12.984375 \nL 28.328125 60.109375 \nL 11.28125 56.59375 \nL 11.28125 69.390625 \nL 28.21875 72.90625 \nL 46.09375 72.90625 \nL 46.09375 12.984375 \nL 62.703125 12.984375 \nL 62.703125 0 \nL 11.71875 0 \nz\n\" id=\"DejaVuSans-Bold-49\"/>\n    </defs>\n    <g transform=\"translate(561.880955 86.414719)scale(0.14 -0.14)\">\n     <use xlink:href=\"#DejaVuSans-Bold-49\"/>\n     <use x=\"69.580078\" xlink:href=\"#DejaVuSans-Bold-55\"/>\n     <use x=\"139.160156\" xlink:href=\"#DejaVuSans-Bold-46\"/>\n     <use x=\"177.148438\" xlink:href=\"#DejaVuSans-Bold-49\"/>\n     <use x=\"246.728516\" xlink:href=\"#DejaVuSans-Bold-37\"/>\n    </g>\n   </g>\n   <g id=\"text_25\">\n    <!-- 1798 -->\n    <g style=\"fill:#ffffff;\" transform=\"translate(461.893612 175.527781)scale(0.14 -0.14)\">\n     <use xlink:href=\"#DejaVuSans-Bold-49\"/>\n     <use x=\"69.580078\" xlink:href=\"#DejaVuSans-Bold-55\"/>\n     <use x=\"139.160156\" xlink:href=\"#DejaVuSans-Bold-57\"/>\n     <use x=\"208.740234\" xlink:href=\"#DejaVuSans-Bold-56\"/>\n    </g>\n    <!-- 35.7% -->\n    <defs>\n     <path d=\"M 10.59375 72.90625 \nL 57.328125 72.90625 \nL 57.328125 59.078125 \nL 25.59375 59.078125 \nL 25.59375 47.796875 \nQ 27.734375 48.390625 29.90625 48.703125 \nQ 32.078125 49.03125 34.421875 49.03125 \nQ 47.75 49.03125 55.171875 42.359375 \nQ 62.59375 35.6875 62.59375 23.78125 \nQ 62.59375 11.96875 54.515625 5.265625 \nQ 46.4375 -1.421875 32.078125 -1.421875 \nQ 25.875 -1.421875 19.796875 -0.21875 \nQ 13.71875 0.984375 7.71875 3.421875 \nL 7.71875 18.21875 \nQ 13.671875 14.796875 19.015625 13.078125 \nQ 24.359375 11.375 29.109375 11.375 \nQ 35.9375 11.375 39.859375 14.71875 \nQ 43.796875 18.0625 43.796875 23.78125 \nQ 43.796875 29.546875 39.859375 32.859375 \nQ 35.9375 36.1875 29.109375 36.1875 \nQ 25.046875 36.1875 20.453125 35.125 \nQ 15.875 34.078125 10.59375 31.890625 \nz\n\" id=\"DejaVuSans-Bold-53\"/>\n    </defs>\n    <g style=\"fill:#ffffff;\" transform=\"translate(457.090955 191.204719)scale(0.14 -0.14)\">\n     <use xlink:href=\"#DejaVuSans-Bold-51\"/>\n     <use x=\"69.580078\" xlink:href=\"#DejaVuSans-Bold-53\"/>\n     <use x=\"139.160156\" xlink:href=\"#DejaVuSans-Bold-46\"/>\n     <use x=\"177.148438\" xlink:href=\"#DejaVuSans-Bold-55\"/>\n     <use x=\"246.728516\" xlink:href=\"#DejaVuSans-Bold-37\"/>\n    </g>\n   </g>\n   <g id=\"text_26\">\n    <!-- 3240 -->\n    <g style=\"fill:#ffffff;\" transform=\"translate(566.683612 175.527781)scale(0.14 -0.14)\">\n     <use xlink:href=\"#DejaVuSans-Bold-51\"/>\n     <use x=\"69.580078\" xlink:href=\"#DejaVuSans-Bold-50\"/>\n     <use x=\"139.160156\" xlink:href=\"#DejaVuSans-Bold-52\"/>\n     <use x=\"208.740234\" xlink:href=\"#DejaVuSans-Bold-48\"/>\n    </g>\n    <!-- 64.3% -->\n    <defs>\n     <path d=\"M 36.1875 35.984375 \nQ 31.25 35.984375 28.78125 32.78125 \nQ 26.3125 29.59375 26.3125 23.1875 \nQ 26.3125 16.796875 28.78125 13.59375 \nQ 31.25 10.40625 36.1875 10.40625 \nQ 41.15625 10.40625 43.625 13.59375 \nQ 46.09375 16.796875 46.09375 23.1875 \nQ 46.09375 29.59375 43.625 32.78125 \nQ 41.15625 35.984375 36.1875 35.984375 \nz\nM 59.421875 71 \nL 59.421875 57.515625 \nQ 54.78125 59.71875 50.671875 60.765625 \nQ 46.578125 61.8125 42.671875 61.8125 \nQ 34.28125 61.8125 29.59375 57.140625 \nQ 24.90625 52.484375 24.125 43.3125 \nQ 27.34375 45.703125 31.09375 46.890625 \nQ 34.859375 48.09375 39.3125 48.09375 \nQ 50.484375 48.09375 57.34375 41.546875 \nQ 64.203125 35.015625 64.203125 24.421875 \nQ 64.203125 12.703125 56.53125 5.640625 \nQ 48.875 -1.421875 35.984375 -1.421875 \nQ 21.78125 -1.421875 13.984375 8.171875 \nQ 6.203125 17.78125 6.203125 35.40625 \nQ 6.203125 53.46875 15.3125 63.796875 \nQ 24.421875 74.125 40.28125 74.125 \nQ 45.3125 74.125 50.046875 73.34375 \nQ 54.78125 72.5625 59.421875 71 \nz\n\" id=\"DejaVuSans-Bold-54\"/>\n    </defs>\n    <g style=\"fill:#ffffff;\" transform=\"translate(561.880955 191.204719)scale(0.14 -0.14)\">\n     <use xlink:href=\"#DejaVuSans-Bold-54\"/>\n     <use x=\"69.580078\" xlink:href=\"#DejaVuSans-Bold-52\"/>\n     <use x=\"139.160156\" xlink:href=\"#DejaVuSans-Bold-46\"/>\n     <use x=\"177.148438\" xlink:href=\"#DejaVuSans-Bold-51\"/>\n     <use x=\"246.728516\" xlink:href=\"#DejaVuSans-Bold-37\"/>\n    </g>\n   </g>\n   <g id=\"text_27\">\n    <!-- Confusion matrix -->\n    <defs>\n     <path d=\"M 37.109375 75.984375 \nL 37.109375 68.5 \nL 28.515625 68.5 \nQ 23.6875 68.5 21.796875 66.546875 \nQ 19.921875 64.59375 19.921875 59.515625 \nL 19.921875 54.6875 \nL 34.71875 54.6875 \nL 34.71875 47.703125 \nL 19.921875 47.703125 \nL 19.921875 0 \nL 10.890625 0 \nL 10.890625 47.703125 \nL 2.296875 47.703125 \nL 2.296875 54.6875 \nL 10.890625 54.6875 \nL 10.890625 58.5 \nQ 10.890625 67.625 15.140625 71.796875 \nQ 19.390625 75.984375 28.609375 75.984375 \nz\n\" id=\"DejaVuSans-102\"/>\n     <path d=\"M 54.890625 54.6875 \nL 35.109375 28.078125 \nL 55.90625 0 \nL 45.3125 0 \nL 29.390625 21.484375 \nL 13.484375 0 \nL 2.875 0 \nL 24.125 28.609375 \nL 4.6875 54.6875 \nL 15.28125 54.6875 \nL 29.78125 35.203125 \nL 44.28125 54.6875 \nz\n\" id=\"DejaVuSans-120\"/>\n    </defs>\n    <g style=\"fill:#262626;\" transform=\"translate(482.461112 16.318125)scale(0.12 -0.12)\">\n     <use xlink:href=\"#DejaVuSans-67\"/>\n     <use x=\"69.824219\" xlink:href=\"#DejaVuSans-111\"/>\n     <use x=\"131.005859\" xlink:href=\"#DejaVuSans-110\"/>\n     <use x=\"194.384766\" xlink:href=\"#DejaVuSans-102\"/>\n     <use x=\"229.589844\" xlink:href=\"#DejaVuSans-117\"/>\n     <use x=\"292.96875\" xlink:href=\"#DejaVuSans-115\"/>\n     <use x=\"345.068359\" xlink:href=\"#DejaVuSans-105\"/>\n     <use x=\"372.851562\" xlink:href=\"#DejaVuSans-111\"/>\n     <use x=\"434.033203\" xlink:href=\"#DejaVuSans-110\"/>\n     <use x=\"497.412109\" xlink:href=\"#DejaVuSans-32\"/>\n     <use x=\"529.199219\" xlink:href=\"#DejaVuSans-109\"/>\n     <use x=\"626.611328\" xlink:href=\"#DejaVuSans-97\"/>\n     <use x=\"687.890625\" xlink:href=\"#DejaVuSans-116\"/>\n     <use x=\"727.099609\" xlink:href=\"#DejaVuSans-114\"/>\n     <use x=\"768.212891\" xlink:href=\"#DejaVuSans-105\"/>\n     <use x=\"795.996094\" xlink:href=\"#DejaVuSans-120\"/>\n    </g>\n   </g>\n  </g>\n  <g id=\"axes_3\">\n   <g id=\"patch_13\">\n    <path clip-path=\"url(#pd243b89bdc)\" d=\"M 652.157175 200.461125 \nL 652.157175 199.888055 \nL 652.157175 54.328195 \nL 652.157175 53.755125 \nL 659.492475 53.755125 \nL 659.492475 54.328195 \nL 659.492475 199.888055 \nL 659.492475 200.461125 \nz\n\" style=\"fill:#eaeaf2;stroke:#eaeaf2;stroke-linejoin:miter;stroke-width:0.01;\"/>\n   </g>\n   <g id=\"matplotlib.axis_5\"/>\n   <g id=\"matplotlib.axis_6\">\n    <g id=\"ytick_9\">\n     <g id=\"line2d_21\">\n      <defs>\n       <path d=\"M 0 0 \nL 6 0 \n\" id=\"md00c71fb43\" style=\"stroke:#262626;stroke-width:1.25;\"/>\n      </defs>\n      <g>\n       <use style=\"fill:#262626;stroke:#262626;stroke-width:1.25;\" x=\"659.492475\" xlink:href=\"#md00c71fb43\" y=\"184.763744\"/>\n      </g>\n     </g>\n     <g id=\"text_28\">\n      <!-- 1000 -->\n      <g style=\"fill:#262626;\" transform=\"translate(668.992475 188.942885)scale(0.11 -0.11)\">\n       <use xlink:href=\"#DejaVuSans-49\"/>\n       <use x=\"63.623047\" xlink:href=\"#DejaVuSans-48\"/>\n       <use x=\"127.246094\" xlink:href=\"#DejaVuSans-48\"/>\n       <use x=\"190.869141\" xlink:href=\"#DejaVuSans-48\"/>\n      </g>\n     </g>\n    </g>\n    <g id=\"ytick_10\">\n     <g id=\"line2d_22\">\n      <g>\n       <use style=\"fill:#262626;stroke:#262626;stroke-width:1.25;\" x=\"659.492475\" xlink:href=\"#md00c71fb43\" y=\"157.884668\"/>\n      </g>\n     </g>\n     <g id=\"text_29\">\n      <!-- 1500 -->\n      <defs>\n       <path d=\"M 10.796875 72.90625 \nL 49.515625 72.90625 \nL 49.515625 64.59375 \nL 19.828125 64.59375 \nL 19.828125 46.734375 \nQ 21.96875 47.46875 24.109375 47.828125 \nQ 26.265625 48.1875 28.421875 48.1875 \nQ 40.625 48.1875 47.75 41.5 \nQ 54.890625 34.8125 54.890625 23.390625 \nQ 54.890625 11.625 47.5625 5.09375 \nQ 40.234375 -1.421875 26.90625 -1.421875 \nQ 22.3125 -1.421875 17.546875 -0.640625 \nQ 12.796875 0.140625 7.71875 1.703125 \nL 7.71875 11.625 \nQ 12.109375 9.234375 16.796875 8.0625 \nQ 21.484375 6.890625 26.703125 6.890625 \nQ 35.15625 6.890625 40.078125 11.328125 \nQ 45.015625 15.765625 45.015625 23.390625 \nQ 45.015625 31 40.078125 35.4375 \nQ 35.15625 39.890625 26.703125 39.890625 \nQ 22.75 39.890625 18.8125 39.015625 \nQ 14.890625 38.140625 10.796875 36.28125 \nz\n\" id=\"DejaVuSans-53\"/>\n      </defs>\n      <g style=\"fill:#262626;\" transform=\"translate(668.992475 162.063808)scale(0.11 -0.11)\">\n       <use xlink:href=\"#DejaVuSans-49\"/>\n       <use x=\"63.623047\" xlink:href=\"#DejaVuSans-53\"/>\n       <use x=\"127.246094\" xlink:href=\"#DejaVuSans-48\"/>\n       <use x=\"190.869141\" xlink:href=\"#DejaVuSans-48\"/>\n      </g>\n     </g>\n    </g>\n    <g id=\"ytick_11\">\n     <g id=\"line2d_23\">\n      <g>\n       <use style=\"fill:#262626;stroke:#262626;stroke-width:1.25;\" x=\"659.492475\" xlink:href=\"#md00c71fb43\" y=\"131.005591\"/>\n      </g>\n     </g>\n     <g id=\"text_30\">\n      <!-- 2000 -->\n      <g style=\"fill:#262626;\" transform=\"translate(668.992475 135.184732)scale(0.11 -0.11)\">\n       <use xlink:href=\"#DejaVuSans-50\"/>\n       <use x=\"63.623047\" xlink:href=\"#DejaVuSans-48\"/>\n       <use x=\"127.246094\" xlink:href=\"#DejaVuSans-48\"/>\n       <use x=\"190.869141\" xlink:href=\"#DejaVuSans-48\"/>\n      </g>\n     </g>\n    </g>\n    <g id=\"ytick_12\">\n     <g id=\"line2d_24\">\n      <g>\n       <use style=\"fill:#262626;stroke:#262626;stroke-width:1.25;\" x=\"659.492475\" xlink:href=\"#md00c71fb43\" y=\"104.126515\"/>\n      </g>\n     </g>\n     <g id=\"text_31\">\n      <!-- 2500 -->\n      <g style=\"fill:#262626;\" transform=\"translate(668.992475 108.305655)scale(0.11 -0.11)\">\n       <use xlink:href=\"#DejaVuSans-50\"/>\n       <use x=\"63.623047\" xlink:href=\"#DejaVuSans-53\"/>\n       <use x=\"127.246094\" xlink:href=\"#DejaVuSans-48\"/>\n       <use x=\"190.869141\" xlink:href=\"#DejaVuSans-48\"/>\n      </g>\n     </g>\n    </g>\n    <g id=\"ytick_13\">\n     <g id=\"line2d_25\">\n      <g>\n       <use style=\"fill:#262626;stroke:#262626;stroke-width:1.25;\" x=\"659.492475\" xlink:href=\"#md00c71fb43\" y=\"77.247438\"/>\n      </g>\n     </g>\n     <g id=\"text_32\">\n      <!-- 3000 -->\n      <defs>\n       <path d=\"M 40.578125 39.3125 \nQ 47.65625 37.796875 51.625 33 \nQ 55.609375 28.21875 55.609375 21.1875 \nQ 55.609375 10.40625 48.1875 4.484375 \nQ 40.765625 -1.421875 27.09375 -1.421875 \nQ 22.515625 -1.421875 17.65625 -0.515625 \nQ 12.796875 0.390625 7.625 2.203125 \nL 7.625 11.71875 \nQ 11.71875 9.328125 16.59375 8.109375 \nQ 21.484375 6.890625 26.8125 6.890625 \nQ 36.078125 6.890625 40.9375 10.546875 \nQ 45.796875 14.203125 45.796875 21.1875 \nQ 45.796875 27.640625 41.28125 31.265625 \nQ 36.765625 34.90625 28.71875 34.90625 \nL 20.21875 34.90625 \nL 20.21875 43.015625 \nL 29.109375 43.015625 \nQ 36.375 43.015625 40.234375 45.921875 \nQ 44.09375 48.828125 44.09375 54.296875 \nQ 44.09375 59.90625 40.109375 62.90625 \nQ 36.140625 65.921875 28.71875 65.921875 \nQ 24.65625 65.921875 20.015625 65.03125 \nQ 15.375 64.15625 9.8125 62.3125 \nL 9.8125 71.09375 \nQ 15.4375 72.65625 20.34375 73.4375 \nQ 25.25 74.21875 29.59375 74.21875 \nQ 40.828125 74.21875 47.359375 69.109375 \nQ 53.90625 64.015625 53.90625 55.328125 \nQ 53.90625 49.265625 50.4375 45.09375 \nQ 46.96875 40.921875 40.578125 39.3125 \nz\n\" id=\"DejaVuSans-51\"/>\n      </defs>\n      <g style=\"fill:#262626;\" transform=\"translate(668.992475 81.426579)scale(0.11 -0.11)\">\n       <use xlink:href=\"#DejaVuSans-51\"/>\n       <use x=\"63.623047\" xlink:href=\"#DejaVuSans-48\"/>\n       <use x=\"127.246094\" xlink:href=\"#DejaVuSans-48\"/>\n       <use x=\"190.869141\" xlink:href=\"#DejaVuSans-48\"/>\n      </g>\n     </g>\n    </g>\n   </g>\n   <image height=\"147\" id=\"imagec021da0ed8\" transform=\"scale(1 -1)translate(0 -147)\" width=\"7\" x=\"652\" xlink:href=\"data:image/png;base64,\niVBORw0KGgoAAAANSUhEUgAAAAcAAACTCAYAAABCpQOGAAAABHNCSVQICAgIfAhkiAAAANNJREFUWIXtl1EOwzAIQ5nE/Y+7jymBnoCH5IhtldpfZIxtkrav9yfTisfTypp5jTPzgCojh9oysgaaJyGDOMG9ZiBsiwOhlCH7Gp1Q1L39u9U8kHKrPLesE5GYJ07LAwUMFEOccthNWxWJm3DCCW0ZCRb5psgOto85R5YapSzi5MgIueSBcDWXngp7qyKbyNQ8xzhndMp7q5/PoTz1Ir95pzjL2t10brjHpzj5k4fb1hcRIxspaltGPjq7aamtxYZiyki9+AtOss9ijXDi78H3vb0AL/F6+9ia/8gAAAAASUVORK5CYII=\" y=\"-53\"/>\n   <g id=\"patch_14\">\n    <path d=\"M 652.157175 200.461125 \nL 652.157175 199.888055 \nL 652.157175 54.328195 \nL 652.157175 53.755125 \nL 659.492475 53.755125 \nL 659.492475 54.328195 \nL 659.492475 199.888055 \nL 659.492475 200.461125 \nz\n\" style=\"fill:none;stroke:#ffffff;stroke-linejoin:miter;stroke-width:1.25;\"/>\n   </g>\n  </g>\n </g>\n <defs>\n  <clipPath id=\"pca4bf7c28e\">\n   <rect height=\"209.58\" width=\"271.933777\" x=\"49.807188\" y=\"22.318125\"/>\n  </clipPath>\n  <clipPath id=\"pea6dda7644\">\n   <rect height=\"209.58\" width=\"209.58\" x=\"428.980487\" y=\"22.318125\"/>\n  </clipPath>\n  <clipPath id=\"pd243b89bdc\">\n   <rect height=\"146.706\" width=\"7.3353\" x=\"652.157175\" y=\"53.755125\"/>\n  </clipPath>\n </defs>\n</svg>\n",
      "image/png": "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\n"
     },
     "metadata": {}
    },
    {
     "output_type": "display_data",
     "data": {
      "text/plain": "<pandas.io.formats.style.Styler at 0x7fe8c66c7e10>",
      "text/html": "<style  type=\"text/css\" >\n</style><table id=\"T_114e08e2_ac63_11ea_bd14_00155d003219\" ><caption>Model Scores</caption><thead>    <tr>        <th class=\"blank level0\" ></th>        <th class=\"col_heading level0 col0\" >lr_logit_simple</th>    </tr></thead><tbody>\n                <tr>\n                        <th id=\"T_114e08e2_ac63_11ea_bd14_00155d003219level0_row0\" class=\"row_heading level0 row0\" >accuracy</th>\n                        <td id=\"T_114e08e2_ac63_11ea_bd14_00155d003219row0_col0\" class=\"data row0 col0\" >0.727104</td>\n            </tr>\n            <tr>\n                        <th id=\"T_114e08e2_ac63_11ea_bd14_00155d003219level0_row1\" class=\"row_heading level0 row1\" >recall</th>\n                        <td id=\"T_114e08e2_ac63_11ea_bd14_00155d003219row1_col0\" class=\"data row1 col0\" >0.829192</td>\n            </tr>\n            <tr>\n                        <th id=\"T_114e08e2_ac63_11ea_bd14_00155d003219level0_row2\" class=\"row_heading level0 row2\" >precision</th>\n                        <td id=\"T_114e08e2_ac63_11ea_bd14_00155d003219row2_col0\" class=\"data row2 col0\" >0.656543</td>\n            </tr>\n            <tr>\n                        <th id=\"T_114e08e2_ac63_11ea_bd14_00155d003219level0_row3\" class=\"row_heading level0 row3\" >f1</th>\n                        <td id=\"T_114e08e2_ac63_11ea_bd14_00155d003219row3_col0\" class=\"data row3 col0\" >0.732836</td>\n            </tr>\n            <tr>\n                        <th id=\"T_114e08e2_ac63_11ea_bd14_00155d003219level0_row4\" class=\"row_heading level0 row4\" >cross_entropy</th>\n                        <td id=\"T_114e08e2_ac63_11ea_bd14_00155d003219row4_col0\" class=\"data row4 col0\" >0.517076</td>\n            </tr>\n            <tr>\n                        <th id=\"T_114e08e2_ac63_11ea_bd14_00155d003219level0_row5\" class=\"row_heading level0 row5\" >roc_auc</th>\n                        <td id=\"T_114e08e2_ac63_11ea_bd14_00155d003219row5_col0\" class=\"data row5 col0\" >0.822459</td>\n            </tr>\n            <tr>\n                        <th id=\"T_114e08e2_ac63_11ea_bd14_00155d003219level0_row6\" class=\"row_heading level0 row6\" >cohen_kappa</th>\n                        <td id=\"T_114e08e2_ac63_11ea_bd14_00155d003219row6_col0\" class=\"data row6 col0\" >0.461547</td>\n            </tr>\n    </tbody></table>"
     },
     "metadata": {}
    },
    {
     "output_type": "error",
     "ename": "NameError",
     "evalue": "name 'pov_rate_actual' is not defined",
     "traceback": [
      "\u001b[0;31m---------------------------------------------------------------------------\u001b[0m",
      "\u001b[0;31mNameError\u001b[0m                                 Traceback (most recent call last)",
      "\u001b[0;32m<ipython-input-20-73567bce13c8>\u001b[0m in \u001b[0;36m<module>\u001b[0;34m\u001b[0m\n\u001b[1;32m      6\u001b[0m                                     \u001b[0mcountry\u001b[0m\u001b[0;34m=\u001b[0m\u001b[0mCOUNTRY\u001b[0m\u001b[0;34m,\u001b[0m\u001b[0;34m\u001b[0m\u001b[0;34m\u001b[0m\u001b[0m\n\u001b[1;32m      7\u001b[0m                                     \u001b[0mmodel\u001b[0m\u001b[0;34m=\u001b[0m\u001b[0mmodel\u001b[0m\u001b[0;34m,\u001b[0m\u001b[0;34m\u001b[0m\u001b[0;34m\u001b[0m\u001b[0m\n\u001b[0;32m----> 8\u001b[0;31m                                     features=coefs)\n\u001b[0m",
      "\u001b[0;32m~/Documents/mkp_code/Institute of Data Course/Project 3/src/models/evaluation.py\u001b[0m in \u001b[0;36mevaluate_model\u001b[0;34m(y_test, y_pred, y_prob, sample_weights, show, compare_models, store_model, model_name, prefix, country, model, features, predict_pov_rate)\u001b[0m\n\u001b[1;32m    166\u001b[0m \u001b[0;34m\u001b[0m\u001b[0m\n\u001b[1;32m    167\u001b[0m         \u001b[0;32mif\u001b[0m \u001b[0;34m(\u001b[0m\u001b[0mpredict_pov_rate\u001b[0m \u001b[0;34m==\u001b[0m \u001b[0;32mTrue\u001b[0m\u001b[0;34m)\u001b[0m \u001b[0;34m&\u001b[0m \u001b[0;34m(\u001b[0m\u001b[0mcountry\u001b[0m \u001b[0;32mis\u001b[0m \u001b[0;32mnot\u001b[0m \u001b[0;32mNone\u001b[0m\u001b[0;34m)\u001b[0m\u001b[0;34m:\u001b[0m\u001b[0;34m\u001b[0m\u001b[0;34m\u001b[0m\u001b[0m\n\u001b[0;32m--> 168\u001b[0;31m             \u001b[0mprint\u001b[0m\u001b[0;34m(\u001b[0m\u001b[0;34m\"Actual poverty rate: {:0.2%} \"\u001b[0m\u001b[0;34m.\u001b[0m\u001b[0mformat\u001b[0m\u001b[0;34m(\u001b[0m\u001b[0mpov_rate_actual\u001b[0m\u001b[0;34m)\u001b[0m\u001b[0;34m)\u001b[0m\u001b[0;34m\u001b[0m\u001b[0;34m\u001b[0m\u001b[0m\n\u001b[0m\u001b[1;32m    169\u001b[0m             \u001b[0mprint\u001b[0m\u001b[0;34m(\u001b[0m\u001b[0;34m\"Predicted poverty rate: {:0.2%} \"\u001b[0m\u001b[0;34m.\u001b[0m\u001b[0mformat\u001b[0m\u001b[0;34m(\u001b[0m\u001b[0mpov_rate_pred\u001b[0m\u001b[0;34m)\u001b[0m\u001b[0;34m)\u001b[0m\u001b[0;34m\u001b[0m\u001b[0;34m\u001b[0m\u001b[0m\n\u001b[1;32m    170\u001b[0m \u001b[0;34m\u001b[0m\u001b[0m\n",
      "\u001b[0;31mNameError\u001b[0m: name 'pov_rate_actual' is not defined"
     ]
    }
   ],
   "source": [
    "# Evaluate performance\n",
    "metrics = evaluation.evaluate_model(y_train, y_pred, y_prob, \n",
    "                                    store_model=True, \n",
    "                                    model_name='logit_simple', \n",
    "                                    prefix=ALGORITHM_NAME, \n",
    "                                    country=COUNTRY, \n",
    "                                    model=model, \n",
    "                                    features=coefs)"
   ]
  },
  {
   "cell_type": "code",
   "execution_count": null,
   "metadata": {},
   "outputs": [],
   "source": []
  },
  {
   "cell_type": "code",
   "execution_count": null,
   "metadata": {},
   "outputs": [],
   "source": []
  },
  {
   "cell_type": "markdown",
   "metadata": {},
   "source": [
    "### Logit Model Evaluation"
   ]
  },
  {
   "cell_type": "code",
<<<<<<< HEAD
   "execution_count": 20,
=======
   "execution_count": 21,
>>>>>>> b3ed9f8899027b655fd03724d2ac40c7f315cd0e
   "metadata": {},
   "outputs": [],
   "source": [
    "X_test, y_test, w_test = split_features_labels_weights(mwi_test)"
   ]
  },
  {
   "cell_type": "code",
<<<<<<< HEAD
   "execution_count": 21,
=======
   "execution_count": 22,
>>>>>>> b3ed9f8899027b655fd03724d2ac40c7f315cd0e
   "metadata": {},
   "outputs": [
    {
     "data": {
<<<<<<< HEAD
      "text/html": [
       "<div>\n",
       "<style scoped>\n",
       "    .dataframe tbody tr th:only-of-type {\n",
       "        vertical-align: middle;\n",
       "    }\n",
       "\n",
       "    .dataframe tbody tr th {\n",
       "        vertical-align: top;\n",
       "    }\n",
       "\n",
       "    .dataframe thead th {\n",
       "        text-align: right;\n",
       "    }\n",
       "</style>\n",
       "<table border=\"1\" class=\"dataframe\">\n",
       "  <thead>\n",
       "    <tr style=\"text-align: right;\">\n",
       "      <th></th>\n",
       "      <th>hid</th>\n",
       "      <th>der_hhsize</th>\n",
       "      <th>hld_rooms</th>\n",
       "      <th>hld_nbcellpho</th>\n",
       "      <th>hld_selfscale</th>\n",
       "      <th>der_nchild10under</th>\n",
       "      <th>der_nmalesover10</th>\n",
       "      <th>der_nfemalesover10</th>\n",
       "      <th>der_nliterate</th>\n",
       "      <th>der_nemployedpastyear</th>\n",
       "      <th>...</th>\n",
       "      <th>com_medicines__Yes</th>\n",
       "      <th>com_clinic__Yes</th>\n",
       "      <th>com_distclinic__11 to 15 kilometers</th>\n",
       "      <th>com_distclinic__16 to 20 kilometers</th>\n",
       "      <th>com_distclinic__21 to 25 kilometers</th>\n",
       "      <th>com_distclinic__26 to 30 kilometers</th>\n",
       "      <th>com_distclinic__6 to 10 kilometers</th>\n",
       "      <th>com_distclinic__Above 30 kilometers</th>\n",
       "      <th>com_distclinic__nan</th>\n",
       "      <th>com_bank__Yes</th>\n",
       "    </tr>\n",
       "  </thead>\n",
       "  <tbody>\n",
       "    <tr>\n",
       "      <th>0</th>\n",
       "      <td>-1.718803</td>\n",
       "      <td>0.631464</td>\n",
       "      <td>-0.512009</td>\n",
       "      <td>-0.604215</td>\n",
       "      <td>-0.019798</td>\n",
       "      <td>1.707131</td>\n",
       "      <td>-0.405264</td>\n",
       "      <td>-0.546902</td>\n",
       "      <td>-0.086940</td>\n",
       "      <td>-0.511519</td>\n",
       "      <td>...</td>\n",
       "      <td>-1.719993</td>\n",
       "      <td>-0.597577</td>\n",
       "      <td>-0.321176</td>\n",
       "      <td>-0.198458</td>\n",
       "      <td>10.454539</td>\n",
       "      <td>-0.150441</td>\n",
       "      <td>-0.545238</td>\n",
       "      <td>-0.145542</td>\n",
       "      <td>-0.597577</td>\n",
       "      <td>-0.258143</td>\n",
       "    </tr>\n",
       "    <tr>\n",
       "      <th>1</th>\n",
       "      <td>-1.718803</td>\n",
       "      <td>-0.268926</td>\n",
       "      <td>0.326771</td>\n",
       "      <td>-0.604215</td>\n",
       "      <td>-1.126661</td>\n",
       "      <td>-0.478749</td>\n",
       "      <td>0.561432</td>\n",
       "      <td>-0.546902</td>\n",
       "      <td>-0.661407</td>\n",
       "      <td>-0.511519</td>\n",
       "      <td>...</td>\n",
       "      <td>-1.719993</td>\n",
       "      <td>-0.597577</td>\n",
       "      <td>-0.321176</td>\n",
       "      <td>-0.198458</td>\n",
       "      <td>10.454539</td>\n",
       "      <td>-0.150441</td>\n",
       "      <td>-0.545238</td>\n",
       "      <td>-0.145542</td>\n",
       "      <td>-0.597577</td>\n",
       "      <td>-0.258143</td>\n",
       "    </tr>\n",
       "    <tr>\n",
       "      <th>2</th>\n",
       "      <td>-1.718803</td>\n",
       "      <td>2.432243</td>\n",
       "      <td>2.843110</td>\n",
       "      <td>0.395516</td>\n",
       "      <td>-1.126661</td>\n",
       "      <td>1.707131</td>\n",
       "      <td>1.528128</td>\n",
       "      <td>1.619474</td>\n",
       "      <td>1.061995</td>\n",
       "      <td>1.312845</td>\n",
       "      <td>...</td>\n",
       "      <td>-1.719993</td>\n",
       "      <td>-0.597577</td>\n",
       "      <td>-0.321176</td>\n",
       "      <td>-0.198458</td>\n",
       "      <td>10.454539</td>\n",
       "      <td>-0.150441</td>\n",
       "      <td>-0.545238</td>\n",
       "      <td>-0.145542</td>\n",
       "      <td>-0.597577</td>\n",
       "      <td>-0.258143</td>\n",
       "    </tr>\n",
       "    <tr>\n",
       "      <th>3</th>\n",
       "      <td>-1.718803</td>\n",
       "      <td>1.982048</td>\n",
       "      <td>0.326771</td>\n",
       "      <td>-0.604215</td>\n",
       "      <td>-0.019798</td>\n",
       "      <td>1.707131</td>\n",
       "      <td>1.528128</td>\n",
       "      <td>0.536286</td>\n",
       "      <td>2.210930</td>\n",
       "      <td>-0.511519</td>\n",
       "      <td>...</td>\n",
       "      <td>-1.719993</td>\n",
       "      <td>-0.597577</td>\n",
       "      <td>-0.321176</td>\n",
       "      <td>-0.198458</td>\n",
       "      <td>10.454539</td>\n",
       "      <td>-0.150441</td>\n",
       "      <td>-0.545238</td>\n",
       "      <td>-0.145542</td>\n",
       "      <td>-0.597577</td>\n",
       "      <td>-0.258143</td>\n",
       "    </tr>\n",
       "    <tr>\n",
       "      <th>4</th>\n",
       "      <td>-1.718803</td>\n",
       "      <td>-1.619510</td>\n",
       "      <td>-0.512009</td>\n",
       "      <td>-0.604215</td>\n",
       "      <td>1.087066</td>\n",
       "      <td>-1.207376</td>\n",
       "      <td>-0.405264</td>\n",
       "      <td>-1.630090</td>\n",
       "      <td>-0.661407</td>\n",
       "      <td>-0.511519</td>\n",
       "      <td>...</td>\n",
       "      <td>-1.719993</td>\n",
       "      <td>-0.597577</td>\n",
       "      <td>-0.321176</td>\n",
       "      <td>-0.198458</td>\n",
       "      <td>10.454539</td>\n",
       "      <td>-0.150441</td>\n",
       "      <td>-0.545238</td>\n",
       "      <td>-0.145542</td>\n",
       "      <td>-0.597577</td>\n",
       "      <td>-0.258143</td>\n",
       "    </tr>\n",
       "    <tr>\n",
       "      <th>...</th>\n",
       "      <td>...</td>\n",
       "      <td>...</td>\n",
       "      <td>...</td>\n",
       "      <td>...</td>\n",
       "      <td>...</td>\n",
       "      <td>...</td>\n",
       "      <td>...</td>\n",
       "      <td>...</td>\n",
       "      <td>...</td>\n",
       "      <td>...</td>\n",
       "      <td>...</td>\n",
       "      <td>...</td>\n",
       "      <td>...</td>\n",
       "      <td>...</td>\n",
       "      <td>...</td>\n",
       "      <td>...</td>\n",
       "      <td>...</td>\n",
       "      <td>...</td>\n",
       "      <td>...</td>\n",
       "      <td>...</td>\n",
       "      <td>...</td>\n",
       "    </tr>\n",
       "    <tr>\n",
       "      <th>12239</th>\n",
       "      <td>1.041029</td>\n",
       "      <td>-0.719120</td>\n",
       "      <td>-0.512009</td>\n",
       "      <td>0.395516</td>\n",
       "      <td>-1.126661</td>\n",
       "      <td>-0.478749</td>\n",
       "      <td>-0.405264</td>\n",
       "      <td>-0.546902</td>\n",
       "      <td>-0.086940</td>\n",
       "      <td>1.312845</td>\n",
       "      <td>...</td>\n",
       "      <td>0.581350</td>\n",
       "      <td>-0.597577</td>\n",
       "      <td>-0.321176</td>\n",
       "      <td>-0.198458</td>\n",
       "      <td>-0.095644</td>\n",
       "      <td>-0.150441</td>\n",
       "      <td>1.833912</td>\n",
       "      <td>-0.145542</td>\n",
       "      <td>-0.597577</td>\n",
       "      <td>-0.258143</td>\n",
       "    </tr>\n",
       "    <tr>\n",
       "      <th>12240</th>\n",
       "      <td>1.041029</td>\n",
       "      <td>-1.169315</td>\n",
       "      <td>-1.350789</td>\n",
       "      <td>-0.604215</td>\n",
       "      <td>-0.019798</td>\n",
       "      <td>-1.207376</td>\n",
       "      <td>-0.405264</td>\n",
       "      <td>-0.546902</td>\n",
       "      <td>-0.661407</td>\n",
       "      <td>1.312845</td>\n",
       "      <td>...</td>\n",
       "      <td>0.581350</td>\n",
       "      <td>-0.597577</td>\n",
       "      <td>-0.321176</td>\n",
       "      <td>-0.198458</td>\n",
       "      <td>-0.095644</td>\n",
       "      <td>-0.150441</td>\n",
       "      <td>1.833912</td>\n",
       "      <td>-0.145542</td>\n",
       "      <td>-0.597577</td>\n",
       "      <td>-0.258143</td>\n",
       "    </tr>\n",
       "    <tr>\n",
       "      <th>12241</th>\n",
       "      <td>1.041029</td>\n",
       "      <td>-1.169315</td>\n",
       "      <td>-0.512009</td>\n",
       "      <td>0.395516</td>\n",
       "      <td>-0.019798</td>\n",
       "      <td>-1.207376</td>\n",
       "      <td>-0.405264</td>\n",
       "      <td>-0.546902</td>\n",
       "      <td>-0.086940</td>\n",
       "      <td>1.312845</td>\n",
       "      <td>...</td>\n",
       "      <td>0.581350</td>\n",
       "      <td>-0.597577</td>\n",
       "      <td>-0.321176</td>\n",
       "      <td>-0.198458</td>\n",
       "      <td>-0.095644</td>\n",
       "      <td>-0.150441</td>\n",
       "      <td>1.833912</td>\n",
       "      <td>-0.145542</td>\n",
       "      <td>-0.597577</td>\n",
       "      <td>-0.258143</td>\n",
       "    </tr>\n",
       "    <tr>\n",
       "      <th>12242</th>\n",
       "      <td>1.041029</td>\n",
       "      <td>0.181269</td>\n",
       "      <td>-0.512009</td>\n",
       "      <td>0.395516</td>\n",
       "      <td>-1.126661</td>\n",
       "      <td>0.249878</td>\n",
       "      <td>0.561432</td>\n",
       "      <td>-0.546902</td>\n",
       "      <td>-0.086940</td>\n",
       "      <td>3.137210</td>\n",
       "      <td>...</td>\n",
       "      <td>0.581350</td>\n",
       "      <td>-0.597577</td>\n",
       "      <td>-0.321176</td>\n",
       "      <td>-0.198458</td>\n",
       "      <td>-0.095644</td>\n",
       "      <td>-0.150441</td>\n",
       "      <td>1.833912</td>\n",
       "      <td>-0.145542</td>\n",
       "      <td>-0.597577</td>\n",
       "      <td>-0.258143</td>\n",
       "    </tr>\n",
       "    <tr>\n",
       "      <th>12243</th>\n",
       "      <td>1.041029</td>\n",
       "      <td>1.081659</td>\n",
       "      <td>1.165550</td>\n",
       "      <td>0.395516</td>\n",
       "      <td>1.087066</td>\n",
       "      <td>0.249878</td>\n",
       "      <td>0.561432</td>\n",
       "      <td>1.619474</td>\n",
       "      <td>2.785397</td>\n",
       "      <td>1.312845</td>\n",
       "      <td>...</td>\n",
       "      <td>0.581350</td>\n",
       "      <td>-0.597577</td>\n",
       "      <td>-0.321176</td>\n",
       "      <td>-0.198458</td>\n",
       "      <td>-0.095644</td>\n",
       "      <td>-0.150441</td>\n",
       "      <td>1.833912</td>\n",
       "      <td>-0.145542</td>\n",
       "      <td>-0.597577</td>\n",
       "      <td>-0.258143</td>\n",
       "    </tr>\n",
       "  </tbody>\n",
       "</table>\n",
       "<p>12244 rows × 485 columns</p>\n",
       "</div>"
      ],
      "text/plain": [
       "            hid  der_hhsize  hld_rooms  hld_nbcellpho  hld_selfscale  \\\n",
       "0     -1.718803    0.631464  -0.512009      -0.604215      -0.019798   \n",
       "1     -1.718803   -0.268926   0.326771      -0.604215      -1.126661   \n",
       "2     -1.718803    2.432243   2.843110       0.395516      -1.126661   \n",
       "3     -1.718803    1.982048   0.326771      -0.604215      -0.019798   \n",
       "4     -1.718803   -1.619510  -0.512009      -0.604215       1.087066   \n",
       "...         ...         ...        ...            ...            ...   \n",
       "12239  1.041029   -0.719120  -0.512009       0.395516      -1.126661   \n",
       "12240  1.041029   -1.169315  -1.350789      -0.604215      -0.019798   \n",
       "12241  1.041029   -1.169315  -0.512009       0.395516      -0.019798   \n",
       "12242  1.041029    0.181269  -0.512009       0.395516      -1.126661   \n",
       "12243  1.041029    1.081659   1.165550       0.395516       1.087066   \n",
       "\n",
       "       der_nchild10under  der_nmalesover10  der_nfemalesover10  der_nliterate  \\\n",
       "0               1.707131         -0.405264           -0.546902      -0.086940   \n",
       "1              -0.478749          0.561432           -0.546902      -0.661407   \n",
       "2               1.707131          1.528128            1.619474       1.061995   \n",
       "3               1.707131          1.528128            0.536286       2.210930   \n",
       "4              -1.207376         -0.405264           -1.630090      -0.661407   \n",
       "...                  ...               ...                 ...            ...   \n",
       "12239          -0.478749         -0.405264           -0.546902      -0.086940   \n",
       "12240          -1.207376         -0.405264           -0.546902      -0.661407   \n",
       "12241          -1.207376         -0.405264           -0.546902      -0.086940   \n",
       "12242           0.249878          0.561432           -0.546902      -0.086940   \n",
       "12243           0.249878          0.561432            1.619474       2.785397   \n",
       "\n",
       "       der_nemployedpastyear  ...  com_medicines__Yes  com_clinic__Yes  \\\n",
       "0                  -0.511519  ...           -1.719993        -0.597577   \n",
       "1                  -0.511519  ...           -1.719993        -0.597577   \n",
       "2                   1.312845  ...           -1.719993        -0.597577   \n",
       "3                  -0.511519  ...           -1.719993        -0.597577   \n",
       "4                  -0.511519  ...           -1.719993        -0.597577   \n",
       "...                      ...  ...                 ...              ...   \n",
       "12239               1.312845  ...            0.581350        -0.597577   \n",
       "12240               1.312845  ...            0.581350        -0.597577   \n",
       "12241               1.312845  ...            0.581350        -0.597577   \n",
       "12242               3.137210  ...            0.581350        -0.597577   \n",
       "12243               1.312845  ...            0.581350        -0.597577   \n",
       "\n",
       "       com_distclinic__11 to 15 kilometers  \\\n",
       "0                                -0.321176   \n",
       "1                                -0.321176   \n",
       "2                                -0.321176   \n",
       "3                                -0.321176   \n",
       "4                                -0.321176   \n",
       "...                                    ...   \n",
       "12239                            -0.321176   \n",
       "12240                            -0.321176   \n",
       "12241                            -0.321176   \n",
       "12242                            -0.321176   \n",
       "12243                            -0.321176   \n",
       "\n",
       "       com_distclinic__16 to 20 kilometers  \\\n",
       "0                                -0.198458   \n",
       "1                                -0.198458   \n",
       "2                                -0.198458   \n",
       "3                                -0.198458   \n",
       "4                                -0.198458   \n",
       "...                                    ...   \n",
       "12239                            -0.198458   \n",
       "12240                            -0.198458   \n",
       "12241                            -0.198458   \n",
       "12242                            -0.198458   \n",
       "12243                            -0.198458   \n",
       "\n",
       "       com_distclinic__21 to 25 kilometers  \\\n",
       "0                                10.454539   \n",
       "1                                10.454539   \n",
       "2                                10.454539   \n",
       "3                                10.454539   \n",
       "4                                10.454539   \n",
       "...                                    ...   \n",
       "12239                            -0.095644   \n",
       "12240                            -0.095644   \n",
       "12241                            -0.095644   \n",
       "12242                            -0.095644   \n",
       "12243                            -0.095644   \n",
       "\n",
       "       com_distclinic__26 to 30 kilometers  \\\n",
       "0                                -0.150441   \n",
       "1                                -0.150441   \n",
       "2                                -0.150441   \n",
       "3                                -0.150441   \n",
       "4                                -0.150441   \n",
       "...                                    ...   \n",
       "12239                            -0.150441   \n",
       "12240                            -0.150441   \n",
       "12241                            -0.150441   \n",
       "12242                            -0.150441   \n",
       "12243                            -0.150441   \n",
       "\n",
       "       com_distclinic__6 to 10 kilometers  \\\n",
       "0                               -0.545238   \n",
       "1                               -0.545238   \n",
       "2                               -0.545238   \n",
       "3                               -0.545238   \n",
       "4                               -0.545238   \n",
       "...                                   ...   \n",
       "12239                            1.833912   \n",
       "12240                            1.833912   \n",
       "12241                            1.833912   \n",
       "12242                            1.833912   \n",
       "12243                            1.833912   \n",
       "\n",
       "       com_distclinic__Above 30 kilometers  com_distclinic__nan  com_bank__Yes  \n",
       "0                                -0.145542            -0.597577      -0.258143  \n",
       "1                                -0.145542            -0.597577      -0.258143  \n",
       "2                                -0.145542            -0.597577      -0.258143  \n",
       "3                                -0.145542            -0.597577      -0.258143  \n",
       "4                                -0.145542            -0.597577      -0.258143  \n",
       "...                                    ...                  ...            ...  \n",
       "12239                            -0.145542            -0.597577      -0.258143  \n",
       "12240                            -0.145542            -0.597577      -0.258143  \n",
       "12241                            -0.145542            -0.597577      -0.258143  \n",
       "12242                            -0.145542            -0.597577      -0.258143  \n",
       "12243                            -0.145542            -0.597577      -0.258143  \n",
       "\n",
       "[12244 rows x 485 columns]"
      ]
=======
      "text/plain": "            hid  der_hhsize  hld_rooms  hld_nbcellpho  hld_selfscale  \\\n10396  0.967268    1.061136  -0.511339      -0.625151       1.079129   \n5957  -0.320235    0.617886   0.328816       4.437249       2.174723   \n7847   0.877661    0.617886   2.009127       0.387329       1.079129   \n10050  0.954167    1.061136  -0.511339      -0.625151      -0.016464   \n7475   0.865135   -1.155115  -0.511339       0.387329      -0.016464   \n...         ...         ...        ...            ...            ...   \n6461  -0.313776    0.617886   2.009127       1.399809      -0.016464   \n6367  -0.314538    1.947636   3.689437       1.399809       1.079129   \n1624  -1.667554   -0.268614   0.328816       0.387329      -1.112058   \n1780  -1.667140    1.061136   1.168971      -0.625151      -1.112058   \n7889   0.877702   -1.598365  -0.511339      -0.625151      -1.112058   \n\n       der_nchild10under  der_nmalesover10  der_nfemalesover10  der_nliterate  \\\n10396          -1.189113          1.485105            2.697553      -1.242231   \n5957           -1.189113          2.440530            0.539933       1.045312   \n7847            0.982650          0.529681           -0.538876      -0.098459   \n10050           1.706571         -0.425743            0.539933      -0.098459   \n7475           -1.189113         -0.425743           -0.538876      -0.098459   \n...                  ...               ...                 ...            ...   \n6461            0.982650         -0.425743            0.539933       1.045312   \n6367            0.982650          0.529681            2.697553       2.189084   \n1624            0.258729         -0.425743           -0.538876      -0.098459   \n1780            0.258729          0.529681            1.618743       2.189084   \n7889           -1.189113         -1.381167           -0.538876      -1.242231   \n\n       der_nemployedpastyear  ...  com_medicines__Yes  com_clinic__Yes  \\\n10396              -0.536733  ...            0.561538        -0.609843   \n5957                1.294862  ...            0.561538        -0.609843   \n7847                1.294862  ...            0.561538         1.639230   \n10050              -0.536733  ...            0.561538        -0.609843   \n7475               -0.536733  ...            0.561538        -0.609843   \n...                      ...  ...                 ...              ...   \n6461               -0.536733  ...            0.561538        -0.609843   \n6367                1.294862  ...            0.561538        -0.609843   \n1624               -0.536733  ...            0.561538        -0.609843   \n1780               -0.536733  ...            0.561538        -0.609843   \n7889               -0.536733  ...           -1.780243        -0.609843   \n\n       com_distclinic__11 to 15 kilometers  \\\n10396                            -0.319742   \n5957                             -0.319742   \n7847                             -0.319742   \n10050                            -0.319742   \n7475                             -0.319742   \n...                                    ...   \n6461                             -0.319742   \n6367                             -0.319742   \n1624                              3.126496   \n1780                             -0.319742   \n7889                             -0.319742   \n\n       com_distclinic__16 to 20 kilometers  \\\n10396                            -0.199321   \n5957                             -0.199321   \n7847                             -0.199321   \n10050                            -0.199321   \n7475                             -0.199321   \n...                                    ...   \n6461                             -0.199321   \n6367                             -0.199321   \n1624                             -0.199321   \n1780                             -0.199321   \n7889                             -0.199321   \n\n       com_distclinic__21 to 25 kilometers  \\\n10396                             -0.09432   \n5957                              -0.09432   \n7847                              -0.09432   \n10050                             -0.09432   \n7475                              -0.09432   \n...                                    ...   \n6461                              -0.09432   \n6367                              -0.09432   \n1624                              -0.09432   \n1780                              -0.09432   \n7889                              -0.09432   \n\n       com_distclinic__26 to 30 kilometers  \\\n10396                            -0.150706   \n5957                             -0.150706   \n7847                             -0.150706   \n10050                            -0.150706   \n7475                             -0.150706   \n...                                    ...   \n6461                             -0.150706   \n6367                             -0.150706   \n1624                             -0.150706   \n1780                             -0.150706   \n7889                             -0.150706   \n\n       com_distclinic__6 to 10 kilometers  \\\n10396                           -0.542902   \n5957                            -0.542902   \n7847                            -0.542902   \n10050                            1.841350   \n7475                            -0.542902   \n...                                   ...   \n6461                            -0.542902   \n6367                            -0.542902   \n1624                            -0.542902   \n1780                            -0.542902   \n7889                            -0.542902   \n\n       com_distclinic__Above 30 kilometers  com_distclinic__nan  com_bank__Yes  \n10396                            -0.130146            -0.611860      -0.257211  \n5957                             -0.130146            -0.611860      -0.257211  \n7847                             -0.130146             1.633827      -0.257211  \n10050                            -0.130146            -0.611860      -0.257211  \n7475                             -0.130146            -0.611860      -0.257211  \n...                                    ...                  ...            ...  \n6461                             -0.130146            -0.611860      -0.257211  \n6367                             -0.130146            -0.611860      -0.257211  \n1624                             -0.130146            -0.611860      -0.257211  \n1780                             -0.130146            -0.611860      -0.257211  \n7889                             -0.130146            -0.611860      -0.257211  \n\n[3061 rows x 485 columns]",
      "text/html": "<div>\n<style scoped>\n    .dataframe tbody tr th:only-of-type {\n        vertical-align: middle;\n    }\n\n    .dataframe tbody tr th {\n        vertical-align: top;\n    }\n\n    .dataframe thead th {\n        text-align: right;\n    }\n</style>\n<table border=\"1\" class=\"dataframe\">\n  <thead>\n    <tr style=\"text-align: right;\">\n      <th></th>\n      <th>hid</th>\n      <th>der_hhsize</th>\n      <th>hld_rooms</th>\n      <th>hld_nbcellpho</th>\n      <th>hld_selfscale</th>\n      <th>der_nchild10under</th>\n      <th>der_nmalesover10</th>\n      <th>der_nfemalesover10</th>\n      <th>der_nliterate</th>\n      <th>der_nemployedpastyear</th>\n      <th>...</th>\n      <th>com_medicines__Yes</th>\n      <th>com_clinic__Yes</th>\n      <th>com_distclinic__11 to 15 kilometers</th>\n      <th>com_distclinic__16 to 20 kilometers</th>\n      <th>com_distclinic__21 to 25 kilometers</th>\n      <th>com_distclinic__26 to 30 kilometers</th>\n      <th>com_distclinic__6 to 10 kilometers</th>\n      <th>com_distclinic__Above 30 kilometers</th>\n      <th>com_distclinic__nan</th>\n      <th>com_bank__Yes</th>\n    </tr>\n  </thead>\n  <tbody>\n    <tr>\n      <th>10396</th>\n      <td>0.967268</td>\n      <td>1.061136</td>\n      <td>-0.511339</td>\n      <td>-0.625151</td>\n      <td>1.079129</td>\n      <td>-1.189113</td>\n      <td>1.485105</td>\n      <td>2.697553</td>\n      <td>-1.242231</td>\n      <td>-0.536733</td>\n      <td>...</td>\n      <td>0.561538</td>\n      <td>-0.609843</td>\n      <td>-0.319742</td>\n      <td>-0.199321</td>\n      <td>-0.09432</td>\n      <td>-0.150706</td>\n      <td>-0.542902</td>\n      <td>-0.130146</td>\n      <td>-0.611860</td>\n      <td>-0.257211</td>\n    </tr>\n    <tr>\n      <th>5957</th>\n      <td>-0.320235</td>\n      <td>0.617886</td>\n      <td>0.328816</td>\n      <td>4.437249</td>\n      <td>2.174723</td>\n      <td>-1.189113</td>\n      <td>2.440530</td>\n      <td>0.539933</td>\n      <td>1.045312</td>\n      <td>1.294862</td>\n      <td>...</td>\n      <td>0.561538</td>\n      <td>-0.609843</td>\n      <td>-0.319742</td>\n      <td>-0.199321</td>\n      <td>-0.09432</td>\n      <td>-0.150706</td>\n      <td>-0.542902</td>\n      <td>-0.130146</td>\n      <td>-0.611860</td>\n      <td>-0.257211</td>\n    </tr>\n    <tr>\n      <th>7847</th>\n      <td>0.877661</td>\n      <td>0.617886</td>\n      <td>2.009127</td>\n      <td>0.387329</td>\n      <td>1.079129</td>\n      <td>0.982650</td>\n      <td>0.529681</td>\n      <td>-0.538876</td>\n      <td>-0.098459</td>\n      <td>1.294862</td>\n      <td>...</td>\n      <td>0.561538</td>\n      <td>1.639230</td>\n      <td>-0.319742</td>\n      <td>-0.199321</td>\n      <td>-0.09432</td>\n      <td>-0.150706</td>\n      <td>-0.542902</td>\n      <td>-0.130146</td>\n      <td>1.633827</td>\n      <td>-0.257211</td>\n    </tr>\n    <tr>\n      <th>10050</th>\n      <td>0.954167</td>\n      <td>1.061136</td>\n      <td>-0.511339</td>\n      <td>-0.625151</td>\n      <td>-0.016464</td>\n      <td>1.706571</td>\n      <td>-0.425743</td>\n      <td>0.539933</td>\n      <td>-0.098459</td>\n      <td>-0.536733</td>\n      <td>...</td>\n      <td>0.561538</td>\n      <td>-0.609843</td>\n      <td>-0.319742</td>\n      <td>-0.199321</td>\n      <td>-0.09432</td>\n      <td>-0.150706</td>\n      <td>1.841350</td>\n      <td>-0.130146</td>\n      <td>-0.611860</td>\n      <td>-0.257211</td>\n    </tr>\n    <tr>\n      <th>7475</th>\n      <td>0.865135</td>\n      <td>-1.155115</td>\n      <td>-0.511339</td>\n      <td>0.387329</td>\n      <td>-0.016464</td>\n      <td>-1.189113</td>\n      <td>-0.425743</td>\n      <td>-0.538876</td>\n      <td>-0.098459</td>\n      <td>-0.536733</td>\n      <td>...</td>\n      <td>0.561538</td>\n      <td>-0.609843</td>\n      <td>-0.319742</td>\n      <td>-0.199321</td>\n      <td>-0.09432</td>\n      <td>-0.150706</td>\n      <td>-0.542902</td>\n      <td>-0.130146</td>\n      <td>-0.611860</td>\n      <td>-0.257211</td>\n    </tr>\n    <tr>\n      <th>...</th>\n      <td>...</td>\n      <td>...</td>\n      <td>...</td>\n      <td>...</td>\n      <td>...</td>\n      <td>...</td>\n      <td>...</td>\n      <td>...</td>\n      <td>...</td>\n      <td>...</td>\n      <td>...</td>\n      <td>...</td>\n      <td>...</td>\n      <td>...</td>\n      <td>...</td>\n      <td>...</td>\n      <td>...</td>\n      <td>...</td>\n      <td>...</td>\n      <td>...</td>\n      <td>...</td>\n    </tr>\n    <tr>\n      <th>6461</th>\n      <td>-0.313776</td>\n      <td>0.617886</td>\n      <td>2.009127</td>\n      <td>1.399809</td>\n      <td>-0.016464</td>\n      <td>0.982650</td>\n      <td>-0.425743</td>\n      <td>0.539933</td>\n      <td>1.045312</td>\n      <td>-0.536733</td>\n      <td>...</td>\n      <td>0.561538</td>\n      <td>-0.609843</td>\n      <td>-0.319742</td>\n      <td>-0.199321</td>\n      <td>-0.09432</td>\n      <td>-0.150706</td>\n      <td>-0.542902</td>\n      <td>-0.130146</td>\n      <td>-0.611860</td>\n      <td>-0.257211</td>\n    </tr>\n    <tr>\n      <th>6367</th>\n      <td>-0.314538</td>\n      <td>1.947636</td>\n      <td>3.689437</td>\n      <td>1.399809</td>\n      <td>1.079129</td>\n      <td>0.982650</td>\n      <td>0.529681</td>\n      <td>2.697553</td>\n      <td>2.189084</td>\n      <td>1.294862</td>\n      <td>...</td>\n      <td>0.561538</td>\n      <td>-0.609843</td>\n      <td>-0.319742</td>\n      <td>-0.199321</td>\n      <td>-0.09432</td>\n      <td>-0.150706</td>\n      <td>-0.542902</td>\n      <td>-0.130146</td>\n      <td>-0.611860</td>\n      <td>-0.257211</td>\n    </tr>\n    <tr>\n      <th>1624</th>\n      <td>-1.667554</td>\n      <td>-0.268614</td>\n      <td>0.328816</td>\n      <td>0.387329</td>\n      <td>-1.112058</td>\n      <td>0.258729</td>\n      <td>-0.425743</td>\n      <td>-0.538876</td>\n      <td>-0.098459</td>\n      <td>-0.536733</td>\n      <td>...</td>\n      <td>0.561538</td>\n      <td>-0.609843</td>\n      <td>3.126496</td>\n      <td>-0.199321</td>\n      <td>-0.09432</td>\n      <td>-0.150706</td>\n      <td>-0.542902</td>\n      <td>-0.130146</td>\n      <td>-0.611860</td>\n      <td>-0.257211</td>\n    </tr>\n    <tr>\n      <th>1780</th>\n      <td>-1.667140</td>\n      <td>1.061136</td>\n      <td>1.168971</td>\n      <td>-0.625151</td>\n      <td>-1.112058</td>\n      <td>0.258729</td>\n      <td>0.529681</td>\n      <td>1.618743</td>\n      <td>2.189084</td>\n      <td>-0.536733</td>\n      <td>...</td>\n      <td>0.561538</td>\n      <td>-0.609843</td>\n      <td>-0.319742</td>\n      <td>-0.199321</td>\n      <td>-0.09432</td>\n      <td>-0.150706</td>\n      <td>-0.542902</td>\n      <td>-0.130146</td>\n      <td>-0.611860</td>\n      <td>-0.257211</td>\n    </tr>\n    <tr>\n      <th>7889</th>\n      <td>0.877702</td>\n      <td>-1.598365</td>\n      <td>-0.511339</td>\n      <td>-0.625151</td>\n      <td>-1.112058</td>\n      <td>-1.189113</td>\n      <td>-1.381167</td>\n      <td>-0.538876</td>\n      <td>-1.242231</td>\n      <td>-0.536733</td>\n      <td>...</td>\n      <td>-1.780243</td>\n      <td>-0.609843</td>\n      <td>-0.319742</td>\n      <td>-0.199321</td>\n      <td>-0.09432</td>\n      <td>-0.150706</td>\n      <td>-0.542902</td>\n      <td>-0.130146</td>\n      <td>-0.611860</td>\n      <td>-0.257211</td>\n    </tr>\n  </tbody>\n</table>\n<p>3061 rows × 485 columns</p>\n</div>"
>>>>>>> b3ed9f8899027b655fd03724d2ac40c7f315cd0e
     },
     "execution_count": 21,
     "metadata": {},
<<<<<<< HEAD
     "output_type": "execute_result"
=======
     "execution_count": 22
>>>>>>> b3ed9f8899027b655fd03724d2ac40c7f315cd0e
    }
   ],
   "source": [
    "standardize(X_test)"
   ]
  },
  {
   "cell_type": "code",
<<<<<<< HEAD
   "execution_count": 22,
=======
   "execution_count": 23,
>>>>>>> b3ed9f8899027b655fd03724d2ac40c7f315cd0e
   "metadata": {},
   "outputs": [
    {
     "data": {
<<<<<<< HEAD
      "text/plain": [
       "0    0.969189\n",
       "1    0.949985\n",
       "2    0.126806\n",
       "3    0.283278\n",
       "4    0.894363\n",
       "dtype: float64"
      ]
=======
      "text/plain": "10396    9.781147e-01\n5957     4.041793e-09\n7847     8.658366e-01\n10050    9.820115e-01\n7475     9.063613e-01\ndtype: float64"
>>>>>>> b3ed9f8899027b655fd03724d2ac40c7f315cd0e
     },
     "execution_count": 22,
     "metadata": {},
<<<<<<< HEAD
     "output_type": "execute_result"
=======
     "execution_count": 23
>>>>>>> b3ed9f8899027b655fd03724d2ac40c7f315cd0e
    }
   ],
   "source": [
    "# Run the model\n",
    "y_prob = model.predict(X_test[selected_columns])\n",
    "y_prob.head()"
   ]
  },
  {
   "cell_type": "code",
   "execution_count": null,
   "metadata": {},
   "outputs": [],
   "source": []
  },
  {
   "cell_type": "code",
<<<<<<< HEAD
   "execution_count": 23,
=======
   "execution_count": 24,
>>>>>>> b3ed9f8899027b655fd03724d2ac40c7f315cd0e
   "metadata": {},
   "outputs": [
    {
     "data": {
<<<<<<< HEAD
      "text/plain": [
       "0     True\n",
       "1     True\n",
       "2    False\n",
       "3    False\n",
       "4     True\n",
       "dtype: bool"
      ]
=======
      "text/plain": "10396     True\n5957     False\n7847      True\n10050     True\n7475      True\ndtype: bool"
>>>>>>> b3ed9f8899027b655fd03724d2ac40c7f315cd0e
     },
     "execution_count": 23,
     "metadata": {},
<<<<<<< HEAD
     "output_type": "execute_result"
=======
     "execution_count": 24
>>>>>>> b3ed9f8899027b655fd03724d2ac40c7f315cd0e
    }
   ],
   "source": [
    "y_pred = (y_prob > 0.5)\n",
    "y_pred.head()"
   ]
  },
  {
   "cell_type": "code",
<<<<<<< HEAD
   "execution_count": 24,
   "metadata": {},
   "outputs": [
    {
     "data": {
      "image/png": "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\n",
      "text/plain": [
       "<Figure size 720x288 with 3 Axes>"
      ]
     },
     "metadata": {},
     "output_type": "display_data"
    },
    {
     "data": {
      "text/html": [
       "<style  type=\"text/css\" >\n",
       "</style><table id=\"T_bff3e19e_a71e_11ea_a5ab_00155d00320e\" ><caption>Model Scores</caption><thead>    <tr>        <th class=\"blank level0\" ></th>        <th class=\"col_heading level0 col0\" >lr_logit_simple</th>    </tr></thead><tbody>\n",
       "                <tr>\n",
       "                        <th id=\"T_bff3e19e_a71e_11ea_a5ab_00155d00320elevel0_row0\" class=\"row_heading level0 row0\" >accuracy</th>\n",
       "                        <td id=\"T_bff3e19e_a71e_11ea_a5ab_00155d00320erow0_col0\" class=\"data row0 col0\" >0.660405</td>\n",
       "            </tr>\n",
       "            <tr>\n",
       "                        <th id=\"T_bff3e19e_a71e_11ea_a5ab_00155d00320elevel0_row1\" class=\"row_heading level0 row1\" >recall</th>\n",
       "                        <td id=\"T_bff3e19e_a71e_11ea_a5ab_00155d00320erow1_col0\" class=\"data row1 col0\" >0.889090</td>\n",
       "            </tr>\n",
       "            <tr>\n",
       "                        <th id=\"T_bff3e19e_a71e_11ea_a5ab_00155d00320elevel0_row2\" class=\"row_heading level0 row2\" >precision</th>\n",
       "                        <td id=\"T_bff3e19e_a71e_11ea_a5ab_00155d00320erow2_col0\" class=\"data row2 col0\" >0.580920</td>\n",
       "            </tr>\n",
       "            <tr>\n",
       "                        <th id=\"T_bff3e19e_a71e_11ea_a5ab_00155d00320elevel0_row3\" class=\"row_heading level0 row3\" >f1</th>\n",
       "                        <td id=\"T_bff3e19e_a71e_11ea_a5ab_00155d00320erow3_col0\" class=\"data row3 col0\" >0.702703</td>\n",
       "            </tr>\n",
       "            <tr>\n",
       "                        <th id=\"T_bff3e19e_a71e_11ea_a5ab_00155d00320elevel0_row4\" class=\"row_heading level0 row4\" >cross_entropy</th>\n",
       "                        <td id=\"T_bff3e19e_a71e_11ea_a5ab_00155d00320erow4_col0\" class=\"data row4 col0\" >0.871514</td>\n",
       "            </tr>\n",
       "            <tr>\n",
       "                        <th id=\"T_bff3e19e_a71e_11ea_a5ab_00155d00320elevel0_row5\" class=\"row_heading level0 row5\" >roc_auc</th>\n",
       "                        <td id=\"T_bff3e19e_a71e_11ea_a5ab_00155d00320erow5_col0\" class=\"data row5 col0\" >0.812772</td>\n",
       "            </tr>\n",
       "            <tr>\n",
       "                        <th id=\"T_bff3e19e_a71e_11ea_a5ab_00155d00320elevel0_row6\" class=\"row_heading level0 row6\" >cohen_kappa</th>\n",
       "                        <td id=\"T_bff3e19e_a71e_11ea_a5ab_00155d00320erow6_col0\" class=\"data row6 col0\" >0.345108</td>\n",
       "            </tr>\n",
       "    </tbody></table>"
      ],
      "text/plain": [
       "<pandas.io.formats.style.Styler at 0x21882e6ab88>"
      ]
     },
     "metadata": {},
     "output_type": "display_data"
    },
    {
     "ename": "NameError",
     "evalue": "name 'pov_rate_actual' is not defined",
     "output_type": "error",
     "traceback": [
      "\u001b[1;31m---------------------------------------------------------------------------\u001b[0m",
      "\u001b[1;31mNameError\u001b[0m                                 Traceback (most recent call last)",
      "\u001b[1;32m<ipython-input-24-7ddeb4db2df3>\u001b[0m in \u001b[0;36m<module>\u001b[1;34m\u001b[0m\n\u001b[0;32m      6\u001b[0m                                     \u001b[0mcountry\u001b[0m\u001b[1;33m=\u001b[0m\u001b[0mCOUNTRY\u001b[0m\u001b[1;33m,\u001b[0m\u001b[1;33m\u001b[0m\u001b[1;33m\u001b[0m\u001b[0m\n\u001b[0;32m      7\u001b[0m                                     \u001b[0mmodel\u001b[0m\u001b[1;33m=\u001b[0m\u001b[0mmodel\u001b[0m\u001b[1;33m,\u001b[0m\u001b[1;33m\u001b[0m\u001b[1;33m\u001b[0m\u001b[0m\n\u001b[1;32m----> 8\u001b[1;33m                                     features=coefs)\n\u001b[0m",
      "\u001b[1;32m~\\Documents\\GitHub\\mkp_code\\Institute of Data Course\\Project 3\\src\\models\\evaluation.py\u001b[0m in \u001b[0;36mevaluate_model\u001b[1;34m(y_test, y_pred, y_prob, sample_weights, show, compare_models, store_model, model_name, prefix, country, model, features, predict_pov_rate)\u001b[0m\n\u001b[0;32m    166\u001b[0m \u001b[1;33m\u001b[0m\u001b[0m\n\u001b[0;32m    167\u001b[0m         \u001b[1;32mif\u001b[0m \u001b[1;33m(\u001b[0m\u001b[0mpredict_pov_rate\u001b[0m \u001b[1;33m==\u001b[0m \u001b[1;32mTrue\u001b[0m\u001b[1;33m)\u001b[0m \u001b[1;33m&\u001b[0m \u001b[1;33m(\u001b[0m\u001b[0mcountry\u001b[0m \u001b[1;32mis\u001b[0m \u001b[1;32mnot\u001b[0m \u001b[1;32mNone\u001b[0m\u001b[1;33m)\u001b[0m\u001b[1;33m:\u001b[0m\u001b[1;33m\u001b[0m\u001b[1;33m\u001b[0m\u001b[0m\n\u001b[1;32m--> 168\u001b[1;33m             \u001b[0mprint\u001b[0m\u001b[1;33m(\u001b[0m\u001b[1;34m\"Actual poverty rate: {:0.2%} \"\u001b[0m\u001b[1;33m.\u001b[0m\u001b[0mformat\u001b[0m\u001b[1;33m(\u001b[0m\u001b[0mpov_rate_actual\u001b[0m\u001b[1;33m)\u001b[0m\u001b[1;33m)\u001b[0m\u001b[1;33m\u001b[0m\u001b[1;33m\u001b[0m\u001b[0m\n\u001b[0m\u001b[0;32m    169\u001b[0m             \u001b[0mprint\u001b[0m\u001b[1;33m(\u001b[0m\u001b[1;34m\"Predicted poverty rate: {:0.2%} \"\u001b[0m\u001b[1;33m.\u001b[0m\u001b[0mformat\u001b[0m\u001b[1;33m(\u001b[0m\u001b[0mpov_rate_pred\u001b[0m\u001b[1;33m)\u001b[0m\u001b[1;33m)\u001b[0m\u001b[1;33m\u001b[0m\u001b[1;33m\u001b[0m\u001b[0m\n\u001b[0;32m    170\u001b[0m \u001b[1;33m\u001b[0m\u001b[0m\n",
      "\u001b[1;31mNameError\u001b[0m: name 'pov_rate_actual' is not defined"
=======
   "execution_count": 25,
   "metadata": {},
   "outputs": [
    {
     "output_type": "display_data",
     "data": {
      "text/plain": "<Figure size 720x288 with 3 Axes>",
      "image/svg+xml": "<?xml version=\"1.0\" encoding=\"utf-8\" standalone=\"no\"?>\n<!DOCTYPE svg PUBLIC \"-//W3C//DTD SVG 1.1//EN\"\n  \"http://www.w3.org/Graphics/SVG/1.1/DTD/svg11.dtd\">\n<!-- Created with matplotlib (https://matplotlib.org/) -->\n<svg height=\"274.857813pt\" version=\"1.1\" viewBox=\"0 0 704.187475 274.857813\" width=\"704.187475pt\" xmlns=\"http://www.w3.org/2000/svg\" xmlns:xlink=\"http://www.w3.org/1999/xlink\">\n <defs>\n  <style type=\"text/css\">\n*{stroke-linecap:butt;stroke-linejoin:round;}\n  </style>\n </defs>\n <g id=\"figure_1\">\n  <g id=\"patch_1\">\n   <path d=\"M 0 274.857813 \nL 704.187475 274.857813 \nL 704.187475 0 \nL 0 0 \nz\n\" style=\"fill:#ffffff;\"/>\n  </g>\n  <g id=\"axes_1\">\n   <g id=\"patch_2\">\n    <path d=\"M 49.807188 231.898125 \nL 321.740965 231.898125 \nL 321.740965 22.318125 \nL 49.807188 22.318125 \nz\n\" style=\"fill:#eaeaf2;\"/>\n   </g>\n   <g id=\"matplotlib.axis_1\">\n    <g id=\"xtick_1\">\n     <g id=\"line2d_1\">\n      <path clip-path=\"url(#pc2ffb6b500)\" d=\"M 52.499601 231.898125 \nL 52.499601 22.318125 \n\" style=\"fill:none;stroke:#ffffff;stroke-linecap:round;\"/>\n     </g>\n     <g id=\"text_1\">\n      <!-- 0.0 -->\n      <defs>\n       <path d=\"M 31.78125 66.40625 \nQ 24.171875 66.40625 20.328125 58.90625 \nQ 16.5 51.421875 16.5 36.375 \nQ 16.5 21.390625 20.328125 13.890625 \nQ 24.171875 6.390625 31.78125 6.390625 \nQ 39.453125 6.390625 43.28125 13.890625 \nQ 47.125 21.390625 47.125 36.375 \nQ 47.125 51.421875 43.28125 58.90625 \nQ 39.453125 66.40625 31.78125 66.40625 \nz\nM 31.78125 74.21875 \nQ 44.046875 74.21875 50.515625 64.515625 \nQ 56.984375 54.828125 56.984375 36.375 \nQ 56.984375 17.96875 50.515625 8.265625 \nQ 44.046875 -1.421875 31.78125 -1.421875 \nQ 19.53125 -1.421875 13.0625 8.265625 \nQ 6.59375 17.96875 6.59375 36.375 \nQ 6.59375 54.828125 13.0625 64.515625 \nQ 19.53125 74.21875 31.78125 74.21875 \nz\n\" id=\"DejaVuSans-48\"/>\n       <path d=\"M 10.6875 12.40625 \nL 21 12.40625 \nL 21 0 \nL 10.6875 0 \nz\n\" id=\"DejaVuSans-46\"/>\n      </defs>\n      <g style=\"fill:#262626;\" transform=\"translate(43.752882 249.756406)scale(0.11 -0.11)\">\n       <use xlink:href=\"#DejaVuSans-48\"/>\n       <use x=\"63.623047\" xlink:href=\"#DejaVuSans-46\"/>\n       <use x=\"95.410156\" xlink:href=\"#DejaVuSans-48\"/>\n      </g>\n     </g>\n    </g>\n    <g id=\"xtick_2\">\n     <g id=\"line2d_2\">\n      <path clip-path=\"url(#pc2ffb6b500)\" d=\"M 106.347874 231.898125 \nL 106.347874 22.318125 \n\" style=\"fill:none;stroke:#ffffff;stroke-linecap:round;\"/>\n     </g>\n     <g id=\"text_2\">\n      <!-- 0.2 -->\n      <defs>\n       <path d=\"M 19.1875 8.296875 \nL 53.609375 8.296875 \nL 53.609375 0 \nL 7.328125 0 \nL 7.328125 8.296875 \nQ 12.9375 14.109375 22.625 23.890625 \nQ 32.328125 33.6875 34.8125 36.53125 \nQ 39.546875 41.84375 41.421875 45.53125 \nQ 43.3125 49.21875 43.3125 52.78125 \nQ 43.3125 58.59375 39.234375 62.25 \nQ 35.15625 65.921875 28.609375 65.921875 \nQ 23.96875 65.921875 18.8125 64.3125 \nQ 13.671875 62.703125 7.8125 59.421875 \nL 7.8125 69.390625 \nQ 13.765625 71.78125 18.9375 73 \nQ 24.125 74.21875 28.421875 74.21875 \nQ 39.75 74.21875 46.484375 68.546875 \nQ 53.21875 62.890625 53.21875 53.421875 \nQ 53.21875 48.921875 51.53125 44.890625 \nQ 49.859375 40.875 45.40625 35.40625 \nQ 44.1875 33.984375 37.640625 27.21875 \nQ 31.109375 20.453125 19.1875 8.296875 \nz\n\" id=\"DejaVuSans-50\"/>\n      </defs>\n      <g style=\"fill:#262626;\" transform=\"translate(97.601155 249.756406)scale(0.11 -0.11)\">\n       <use xlink:href=\"#DejaVuSans-48\"/>\n       <use x=\"63.623047\" xlink:href=\"#DejaVuSans-46\"/>\n       <use x=\"95.410156\" xlink:href=\"#DejaVuSans-50\"/>\n      </g>\n     </g>\n    </g>\n    <g id=\"xtick_3\">\n     <g id=\"line2d_3\">\n      <path clip-path=\"url(#pc2ffb6b500)\" d=\"M 160.196147 231.898125 \nL 160.196147 22.318125 \n\" style=\"fill:none;stroke:#ffffff;stroke-linecap:round;\"/>\n     </g>\n     <g id=\"text_3\">\n      <!-- 0.4 -->\n      <defs>\n       <path d=\"M 37.796875 64.3125 \nL 12.890625 25.390625 \nL 37.796875 25.390625 \nz\nM 35.203125 72.90625 \nL 47.609375 72.90625 \nL 47.609375 25.390625 \nL 58.015625 25.390625 \nL 58.015625 17.1875 \nL 47.609375 17.1875 \nL 47.609375 0 \nL 37.796875 0 \nL 37.796875 17.1875 \nL 4.890625 17.1875 \nL 4.890625 26.703125 \nz\n\" id=\"DejaVuSans-52\"/>\n      </defs>\n      <g style=\"fill:#262626;\" transform=\"translate(151.449428 249.756406)scale(0.11 -0.11)\">\n       <use xlink:href=\"#DejaVuSans-48\"/>\n       <use x=\"63.623047\" xlink:href=\"#DejaVuSans-46\"/>\n       <use x=\"95.410156\" xlink:href=\"#DejaVuSans-52\"/>\n      </g>\n     </g>\n    </g>\n    <g id=\"xtick_4\">\n     <g id=\"line2d_4\">\n      <path clip-path=\"url(#pc2ffb6b500)\" d=\"M 214.044419 231.898125 \nL 214.044419 22.318125 \n\" style=\"fill:none;stroke:#ffffff;stroke-linecap:round;\"/>\n     </g>\n     <g id=\"text_4\">\n      <!-- 0.6 -->\n      <defs>\n       <path d=\"M 33.015625 40.375 \nQ 26.375 40.375 22.484375 35.828125 \nQ 18.609375 31.296875 18.609375 23.390625 \nQ 18.609375 15.53125 22.484375 10.953125 \nQ 26.375 6.390625 33.015625 6.390625 \nQ 39.65625 6.390625 43.53125 10.953125 \nQ 47.40625 15.53125 47.40625 23.390625 \nQ 47.40625 31.296875 43.53125 35.828125 \nQ 39.65625 40.375 33.015625 40.375 \nz\nM 52.59375 71.296875 \nL 52.59375 62.3125 \nQ 48.875 64.0625 45.09375 64.984375 \nQ 41.3125 65.921875 37.59375 65.921875 \nQ 27.828125 65.921875 22.671875 59.328125 \nQ 17.53125 52.734375 16.796875 39.40625 \nQ 19.671875 43.65625 24.015625 45.921875 \nQ 28.375 48.1875 33.59375 48.1875 \nQ 44.578125 48.1875 50.953125 41.515625 \nQ 57.328125 34.859375 57.328125 23.390625 \nQ 57.328125 12.15625 50.6875 5.359375 \nQ 44.046875 -1.421875 33.015625 -1.421875 \nQ 20.359375 -1.421875 13.671875 8.265625 \nQ 6.984375 17.96875 6.984375 36.375 \nQ 6.984375 53.65625 15.1875 63.9375 \nQ 23.390625 74.21875 37.203125 74.21875 \nQ 40.921875 74.21875 44.703125 73.484375 \nQ 48.484375 72.75 52.59375 71.296875 \nz\n\" id=\"DejaVuSans-54\"/>\n      </defs>\n      <g style=\"fill:#262626;\" transform=\"translate(205.297701 249.756406)scale(0.11 -0.11)\">\n       <use xlink:href=\"#DejaVuSans-48\"/>\n       <use x=\"63.623047\" xlink:href=\"#DejaVuSans-46\"/>\n       <use x=\"95.410156\" xlink:href=\"#DejaVuSans-54\"/>\n      </g>\n     </g>\n    </g>\n    <g id=\"xtick_5\">\n     <g id=\"line2d_5\">\n      <path clip-path=\"url(#pc2ffb6b500)\" d=\"M 267.892692 231.898125 \nL 267.892692 22.318125 \n\" style=\"fill:none;stroke:#ffffff;stroke-linecap:round;\"/>\n     </g>\n     <g id=\"text_5\">\n      <!-- 0.8 -->\n      <defs>\n       <path d=\"M 31.78125 34.625 \nQ 24.75 34.625 20.71875 30.859375 \nQ 16.703125 27.09375 16.703125 20.515625 \nQ 16.703125 13.921875 20.71875 10.15625 \nQ 24.75 6.390625 31.78125 6.390625 \nQ 38.8125 6.390625 42.859375 10.171875 \nQ 46.921875 13.96875 46.921875 20.515625 \nQ 46.921875 27.09375 42.890625 30.859375 \nQ 38.875 34.625 31.78125 34.625 \nz\nM 21.921875 38.8125 \nQ 15.578125 40.375 12.03125 44.71875 \nQ 8.5 49.078125 8.5 55.328125 \nQ 8.5 64.0625 14.71875 69.140625 \nQ 20.953125 74.21875 31.78125 74.21875 \nQ 42.671875 74.21875 48.875 69.140625 \nQ 55.078125 64.0625 55.078125 55.328125 \nQ 55.078125 49.078125 51.53125 44.71875 \nQ 48 40.375 41.703125 38.8125 \nQ 48.828125 37.15625 52.796875 32.3125 \nQ 56.78125 27.484375 56.78125 20.515625 \nQ 56.78125 9.90625 50.3125 4.234375 \nQ 43.84375 -1.421875 31.78125 -1.421875 \nQ 19.734375 -1.421875 13.25 4.234375 \nQ 6.78125 9.90625 6.78125 20.515625 \nQ 6.78125 27.484375 10.78125 32.3125 \nQ 14.796875 37.15625 21.921875 38.8125 \nz\nM 18.3125 54.390625 \nQ 18.3125 48.734375 21.84375 45.5625 \nQ 25.390625 42.390625 31.78125 42.390625 \nQ 38.140625 42.390625 41.71875 45.5625 \nQ 45.3125 48.734375 45.3125 54.390625 \nQ 45.3125 60.0625 41.71875 63.234375 \nQ 38.140625 66.40625 31.78125 66.40625 \nQ 25.390625 66.40625 21.84375 63.234375 \nQ 18.3125 60.0625 18.3125 54.390625 \nz\n\" id=\"DejaVuSans-56\"/>\n      </defs>\n      <g style=\"fill:#262626;\" transform=\"translate(259.145973 249.756406)scale(0.11 -0.11)\">\n       <use xlink:href=\"#DejaVuSans-48\"/>\n       <use x=\"63.623047\" xlink:href=\"#DejaVuSans-46\"/>\n       <use x=\"95.410156\" xlink:href=\"#DejaVuSans-56\"/>\n      </g>\n     </g>\n    </g>\n    <g id=\"xtick_6\">\n     <g id=\"line2d_6\">\n      <path clip-path=\"url(#pc2ffb6b500)\" d=\"M 321.740965 231.898125 \nL 321.740965 22.318125 \n\" style=\"fill:none;stroke:#ffffff;stroke-linecap:round;\"/>\n     </g>\n     <g id=\"text_6\">\n      <!-- 1.0 -->\n      <defs>\n       <path d=\"M 12.40625 8.296875 \nL 28.515625 8.296875 \nL 28.515625 63.921875 \nL 10.984375 60.40625 \nL 10.984375 69.390625 \nL 28.421875 72.90625 \nL 38.28125 72.90625 \nL 38.28125 8.296875 \nL 54.390625 8.296875 \nL 54.390625 0 \nL 12.40625 0 \nz\n\" id=\"DejaVuSans-49\"/>\n      </defs>\n      <g style=\"fill:#262626;\" transform=\"translate(312.994246 249.756406)scale(0.11 -0.11)\">\n       <use xlink:href=\"#DejaVuSans-49\"/>\n       <use x=\"63.623047\" xlink:href=\"#DejaVuSans-46\"/>\n       <use x=\"95.410156\" xlink:href=\"#DejaVuSans-48\"/>\n      </g>\n     </g>\n    </g>\n    <g id=\"text_7\">\n     <!-- False Positive Rate -->\n     <defs>\n      <path d=\"M 9.8125 72.90625 \nL 51.703125 72.90625 \nL 51.703125 64.59375 \nL 19.671875 64.59375 \nL 19.671875 43.109375 \nL 48.578125 43.109375 \nL 48.578125 34.8125 \nL 19.671875 34.8125 \nL 19.671875 0 \nL 9.8125 0 \nz\n\" id=\"DejaVuSans-70\"/>\n      <path d=\"M 34.28125 27.484375 \nQ 23.390625 27.484375 19.1875 25 \nQ 14.984375 22.515625 14.984375 16.5 \nQ 14.984375 11.71875 18.140625 8.90625 \nQ 21.296875 6.109375 26.703125 6.109375 \nQ 34.1875 6.109375 38.703125 11.40625 \nQ 43.21875 16.703125 43.21875 25.484375 \nL 43.21875 27.484375 \nz\nM 52.203125 31.203125 \nL 52.203125 0 \nL 43.21875 0 \nL 43.21875 8.296875 \nQ 40.140625 3.328125 35.546875 0.953125 \nQ 30.953125 -1.421875 24.3125 -1.421875 \nQ 15.921875 -1.421875 10.953125 3.296875 \nQ 6 8.015625 6 15.921875 \nQ 6 25.140625 12.171875 29.828125 \nQ 18.359375 34.515625 30.609375 34.515625 \nL 43.21875 34.515625 \nL 43.21875 35.40625 \nQ 43.21875 41.609375 39.140625 45 \nQ 35.0625 48.390625 27.6875 48.390625 \nQ 23 48.390625 18.546875 47.265625 \nQ 14.109375 46.140625 10.015625 43.890625 \nL 10.015625 52.203125 \nQ 14.9375 54.109375 19.578125 55.046875 \nQ 24.21875 56 28.609375 56 \nQ 40.484375 56 46.34375 49.84375 \nQ 52.203125 43.703125 52.203125 31.203125 \nz\n\" id=\"DejaVuSans-97\"/>\n      <path d=\"M 9.421875 75.984375 \nL 18.40625 75.984375 \nL 18.40625 0 \nL 9.421875 0 \nz\n\" id=\"DejaVuSans-108\"/>\n      <path d=\"M 44.28125 53.078125 \nL 44.28125 44.578125 \nQ 40.484375 46.53125 36.375 47.5 \nQ 32.28125 48.484375 27.875 48.484375 \nQ 21.1875 48.484375 17.84375 46.4375 \nQ 14.5 44.390625 14.5 40.28125 \nQ 14.5 37.15625 16.890625 35.375 \nQ 19.28125 33.59375 26.515625 31.984375 \nL 29.59375 31.296875 \nQ 39.15625 29.25 43.1875 25.515625 \nQ 47.21875 21.78125 47.21875 15.09375 \nQ 47.21875 7.46875 41.1875 3.015625 \nQ 35.15625 -1.421875 24.609375 -1.421875 \nQ 20.21875 -1.421875 15.453125 -0.5625 \nQ 10.6875 0.296875 5.421875 2 \nL 5.421875 11.28125 \nQ 10.40625 8.6875 15.234375 7.390625 \nQ 20.0625 6.109375 24.8125 6.109375 \nQ 31.15625 6.109375 34.5625 8.28125 \nQ 37.984375 10.453125 37.984375 14.40625 \nQ 37.984375 18.0625 35.515625 20.015625 \nQ 33.0625 21.96875 24.703125 23.78125 \nL 21.578125 24.515625 \nQ 13.234375 26.265625 9.515625 29.90625 \nQ 5.8125 33.546875 5.8125 39.890625 \nQ 5.8125 47.609375 11.28125 51.796875 \nQ 16.75 56 26.8125 56 \nQ 31.78125 56 36.171875 55.265625 \nQ 40.578125 54.546875 44.28125 53.078125 \nz\n\" id=\"DejaVuSans-115\"/>\n      <path d=\"M 56.203125 29.59375 \nL 56.203125 25.203125 \nL 14.890625 25.203125 \nQ 15.484375 15.921875 20.484375 11.0625 \nQ 25.484375 6.203125 34.421875 6.203125 \nQ 39.59375 6.203125 44.453125 7.46875 \nQ 49.3125 8.734375 54.109375 11.28125 \nL 54.109375 2.78125 \nQ 49.265625 0.734375 44.1875 -0.34375 \nQ 39.109375 -1.421875 33.890625 -1.421875 \nQ 20.796875 -1.421875 13.15625 6.1875 \nQ 5.515625 13.8125 5.515625 26.8125 \nQ 5.515625 40.234375 12.765625 48.109375 \nQ 20.015625 56 32.328125 56 \nQ 43.359375 56 49.78125 48.890625 \nQ 56.203125 41.796875 56.203125 29.59375 \nz\nM 47.21875 32.234375 \nQ 47.125 39.59375 43.09375 43.984375 \nQ 39.0625 48.390625 32.421875 48.390625 \nQ 24.90625 48.390625 20.390625 44.140625 \nQ 15.875 39.890625 15.1875 32.171875 \nz\n\" id=\"DejaVuSans-101\"/>\n      <path id=\"DejaVuSans-32\"/>\n      <path d=\"M 19.671875 64.796875 \nL 19.671875 37.40625 \nL 32.078125 37.40625 \nQ 38.96875 37.40625 42.71875 40.96875 \nQ 46.484375 44.53125 46.484375 51.125 \nQ 46.484375 57.671875 42.71875 61.234375 \nQ 38.96875 64.796875 32.078125 64.796875 \nz\nM 9.8125 72.90625 \nL 32.078125 72.90625 \nQ 44.34375 72.90625 50.609375 67.359375 \nQ 56.890625 61.8125 56.890625 51.125 \nQ 56.890625 40.328125 50.609375 34.8125 \nQ 44.34375 29.296875 32.078125 29.296875 \nL 19.671875 29.296875 \nL 19.671875 0 \nL 9.8125 0 \nz\n\" id=\"DejaVuSans-80\"/>\n      <path d=\"M 30.609375 48.390625 \nQ 23.390625 48.390625 19.1875 42.75 \nQ 14.984375 37.109375 14.984375 27.296875 \nQ 14.984375 17.484375 19.15625 11.84375 \nQ 23.34375 6.203125 30.609375 6.203125 \nQ 37.796875 6.203125 41.984375 11.859375 \nQ 46.1875 17.53125 46.1875 27.296875 \nQ 46.1875 37.015625 41.984375 42.703125 \nQ 37.796875 48.390625 30.609375 48.390625 \nz\nM 30.609375 56 \nQ 42.328125 56 49.015625 48.375 \nQ 55.71875 40.765625 55.71875 27.296875 \nQ 55.71875 13.875 49.015625 6.21875 \nQ 42.328125 -1.421875 30.609375 -1.421875 \nQ 18.84375 -1.421875 12.171875 6.21875 \nQ 5.515625 13.875 5.515625 27.296875 \nQ 5.515625 40.765625 12.171875 48.375 \nQ 18.84375 56 30.609375 56 \nz\n\" id=\"DejaVuSans-111\"/>\n      <path d=\"M 9.421875 54.6875 \nL 18.40625 54.6875 \nL 18.40625 0 \nL 9.421875 0 \nz\nM 9.421875 75.984375 \nL 18.40625 75.984375 \nL 18.40625 64.59375 \nL 9.421875 64.59375 \nz\n\" id=\"DejaVuSans-105\"/>\n      <path d=\"M 18.3125 70.21875 \nL 18.3125 54.6875 \nL 36.8125 54.6875 \nL 36.8125 47.703125 \nL 18.3125 47.703125 \nL 18.3125 18.015625 \nQ 18.3125 11.328125 20.140625 9.421875 \nQ 21.96875 7.515625 27.59375 7.515625 \nL 36.8125 7.515625 \nL 36.8125 0 \nL 27.59375 0 \nQ 17.1875 0 13.234375 3.875 \nQ 9.28125 7.765625 9.28125 18.015625 \nL 9.28125 47.703125 \nL 2.6875 47.703125 \nL 2.6875 54.6875 \nL 9.28125 54.6875 \nL 9.28125 70.21875 \nz\n\" id=\"DejaVuSans-116\"/>\n      <path d=\"M 2.984375 54.6875 \nL 12.5 54.6875 \nL 29.59375 8.796875 \nL 46.6875 54.6875 \nL 56.203125 54.6875 \nL 35.6875 0 \nL 23.484375 0 \nz\n\" id=\"DejaVuSans-118\"/>\n      <path d=\"M 44.390625 34.1875 \nQ 47.5625 33.109375 50.5625 29.59375 \nQ 53.5625 26.078125 56.59375 19.921875 \nL 66.609375 0 \nL 56 0 \nL 46.6875 18.703125 \nQ 43.0625 26.03125 39.671875 28.421875 \nQ 36.28125 30.8125 30.421875 30.8125 \nL 19.671875 30.8125 \nL 19.671875 0 \nL 9.8125 0 \nL 9.8125 72.90625 \nL 32.078125 72.90625 \nQ 44.578125 72.90625 50.734375 67.671875 \nQ 56.890625 62.453125 56.890625 51.90625 \nQ 56.890625 45.015625 53.6875 40.46875 \nQ 50.484375 35.9375 44.390625 34.1875 \nz\nM 19.671875 64.796875 \nL 19.671875 38.921875 \nL 32.078125 38.921875 \nQ 39.203125 38.921875 42.84375 42.21875 \nQ 46.484375 45.515625 46.484375 51.90625 \nQ 46.484375 58.296875 42.84375 61.546875 \nQ 39.203125 64.796875 32.078125 64.796875 \nz\n\" id=\"DejaVuSans-82\"/>\n     </defs>\n     <g style=\"fill:#262626;\" transform=\"translate(130.014389 265.162188)scale(0.12 -0.12)\">\n      <use xlink:href=\"#DejaVuSans-70\"/>\n      <use x=\"48.394531\" xlink:href=\"#DejaVuSans-97\"/>\n      <use x=\"109.673828\" xlink:href=\"#DejaVuSans-108\"/>\n      <use x=\"137.457031\" xlink:href=\"#DejaVuSans-115\"/>\n      <use x=\"189.556641\" xlink:href=\"#DejaVuSans-101\"/>\n      <use x=\"251.080078\" xlink:href=\"#DejaVuSans-32\"/>\n      <use x=\"282.867188\" xlink:href=\"#DejaVuSans-80\"/>\n      <use x=\"339.544922\" xlink:href=\"#DejaVuSans-111\"/>\n      <use x=\"400.726562\" xlink:href=\"#DejaVuSans-115\"/>\n      <use x=\"452.826172\" xlink:href=\"#DejaVuSans-105\"/>\n      <use x=\"480.609375\" xlink:href=\"#DejaVuSans-116\"/>\n      <use x=\"519.818359\" xlink:href=\"#DejaVuSans-105\"/>\n      <use x=\"547.601562\" xlink:href=\"#DejaVuSans-118\"/>\n      <use x=\"606.78125\" xlink:href=\"#DejaVuSans-101\"/>\n      <use x=\"668.304688\" xlink:href=\"#DejaVuSans-32\"/>\n      <use x=\"700.091797\" xlink:href=\"#DejaVuSans-82\"/>\n      <use x=\"767.324219\" xlink:href=\"#DejaVuSans-97\"/>\n      <use x=\"828.603516\" xlink:href=\"#DejaVuSans-116\"/>\n      <use x=\"867.8125\" xlink:href=\"#DejaVuSans-101\"/>\n     </g>\n    </g>\n   </g>\n   <g id=\"matplotlib.axis_2\">\n    <g id=\"ytick_1\">\n     <g id=\"line2d_7\">\n      <path clip-path=\"url(#pc2ffb6b500)\" d=\"M 49.807188 231.898125 \nL 321.740965 231.898125 \n\" style=\"fill:none;stroke:#ffffff;stroke-linecap:round;\"/>\n     </g>\n     <g id=\"text_8\">\n      <!-- 0.0 -->\n      <g style=\"fill:#262626;\" transform=\"translate(22.81375 236.077266)scale(0.11 -0.11)\">\n       <use xlink:href=\"#DejaVuSans-48\"/>\n       <use x=\"63.623047\" xlink:href=\"#DejaVuSans-46\"/>\n       <use x=\"95.410156\" xlink:href=\"#DejaVuSans-48\"/>\n      </g>\n     </g>\n    </g>\n    <g id=\"ytick_2\">\n     <g id=\"line2d_8\">\n      <path clip-path=\"url(#pc2ffb6b500)\" d=\"M 49.807188 190.397135 \nL 321.740965 190.397135 \n\" style=\"fill:none;stroke:#ffffff;stroke-linecap:round;\"/>\n     </g>\n     <g id=\"text_9\">\n      <!-- 0.2 -->\n      <g style=\"fill:#262626;\" transform=\"translate(22.81375 194.576276)scale(0.11 -0.11)\">\n       <use xlink:href=\"#DejaVuSans-48\"/>\n       <use x=\"63.623047\" xlink:href=\"#DejaVuSans-46\"/>\n       <use x=\"95.410156\" xlink:href=\"#DejaVuSans-50\"/>\n      </g>\n     </g>\n    </g>\n    <g id=\"ytick_3\">\n     <g id=\"line2d_9\">\n      <path clip-path=\"url(#pc2ffb6b500)\" d=\"M 49.807188 148.896145 \nL 321.740965 148.896145 \n\" style=\"fill:none;stroke:#ffffff;stroke-linecap:round;\"/>\n     </g>\n     <g id=\"text_10\">\n      <!-- 0.4 -->\n      <g style=\"fill:#262626;\" transform=\"translate(22.81375 153.075285)scale(0.11 -0.11)\">\n       <use xlink:href=\"#DejaVuSans-48\"/>\n       <use x=\"63.623047\" xlink:href=\"#DejaVuSans-46\"/>\n       <use x=\"95.410156\" xlink:href=\"#DejaVuSans-52\"/>\n      </g>\n     </g>\n    </g>\n    <g id=\"ytick_4\">\n     <g id=\"line2d_10\">\n      <path clip-path=\"url(#pc2ffb6b500)\" d=\"M 49.807188 107.395155 \nL 321.740965 107.395155 \n\" style=\"fill:none;stroke:#ffffff;stroke-linecap:round;\"/>\n     </g>\n     <g id=\"text_11\">\n      <!-- 0.6 -->\n      <g style=\"fill:#262626;\" transform=\"translate(22.81375 111.574295)scale(0.11 -0.11)\">\n       <use xlink:href=\"#DejaVuSans-48\"/>\n       <use x=\"63.623047\" xlink:href=\"#DejaVuSans-46\"/>\n       <use x=\"95.410156\" xlink:href=\"#DejaVuSans-54\"/>\n      </g>\n     </g>\n    </g>\n    <g id=\"ytick_5\">\n     <g id=\"line2d_11\">\n      <path clip-path=\"url(#pc2ffb6b500)\" d=\"M 49.807188 65.894165 \nL 321.740965 65.894165 \n\" style=\"fill:none;stroke:#ffffff;stroke-linecap:round;\"/>\n     </g>\n     <g id=\"text_12\">\n      <!-- 0.8 -->\n      <g style=\"fill:#262626;\" transform=\"translate(22.81375 70.073305)scale(0.11 -0.11)\">\n       <use xlink:href=\"#DejaVuSans-48\"/>\n       <use x=\"63.623047\" xlink:href=\"#DejaVuSans-46\"/>\n       <use x=\"95.410156\" xlink:href=\"#DejaVuSans-56\"/>\n      </g>\n     </g>\n    </g>\n    <g id=\"ytick_6\">\n     <g id=\"line2d_12\">\n      <path clip-path=\"url(#pc2ffb6b500)\" d=\"M 49.807188 24.393175 \nL 321.740965 24.393175 \n\" style=\"fill:none;stroke:#ffffff;stroke-linecap:round;\"/>\n     </g>\n     <g id=\"text_13\">\n      <!-- 1.0 -->\n      <g style=\"fill:#262626;\" transform=\"translate(22.81375 28.572315)scale(0.11 -0.11)\">\n       <use xlink:href=\"#DejaVuSans-49\"/>\n       <use x=\"63.623047\" xlink:href=\"#DejaVuSans-46\"/>\n       <use x=\"95.410156\" xlink:href=\"#DejaVuSans-48\"/>\n      </g>\n     </g>\n    </g>\n    <g id=\"text_14\">\n     <!-- True Positive Rate -->\n     <defs>\n      <path d=\"M -0.296875 72.90625 \nL 61.375 72.90625 \nL 61.375 64.59375 \nL 35.5 64.59375 \nL 35.5 0 \nL 25.59375 0 \nL 25.59375 64.59375 \nL -0.296875 64.59375 \nz\n\" id=\"DejaVuSans-84\"/>\n      <path d=\"M 41.109375 46.296875 \nQ 39.59375 47.171875 37.8125 47.578125 \nQ 36.03125 48 33.890625 48 \nQ 26.265625 48 22.1875 43.046875 \nQ 18.109375 38.09375 18.109375 28.8125 \nL 18.109375 0 \nL 9.078125 0 \nL 9.078125 54.6875 \nL 18.109375 54.6875 \nL 18.109375 46.1875 \nQ 20.953125 51.171875 25.484375 53.578125 \nQ 30.03125 56 36.53125 56 \nQ 37.453125 56 38.578125 55.875 \nQ 39.703125 55.765625 41.0625 55.515625 \nz\n\" id=\"DejaVuSans-114\"/>\n      <path d=\"M 8.5 21.578125 \nL 8.5 54.6875 \nL 17.484375 54.6875 \nL 17.484375 21.921875 \nQ 17.484375 14.15625 20.5 10.265625 \nQ 23.53125 6.390625 29.59375 6.390625 \nQ 36.859375 6.390625 41.078125 11.03125 \nQ 45.3125 15.671875 45.3125 23.6875 \nL 45.3125 54.6875 \nL 54.296875 54.6875 \nL 54.296875 0 \nL 45.3125 0 \nL 45.3125 8.40625 \nQ 42.046875 3.421875 37.71875 1 \nQ 33.40625 -1.421875 27.6875 -1.421875 \nQ 18.265625 -1.421875 13.375 4.4375 \nQ 8.5 10.296875 8.5 21.578125 \nz\nM 31.109375 56 \nz\n\" id=\"DejaVuSans-117\"/>\n     </defs>\n     <g style=\"fill:#262626;\" transform=\"translate(16.318125 180.54375)rotate(-90)scale(0.12 -0.12)\">\n      <use xlink:href=\"#DejaVuSans-84\"/>\n      <use x=\"46.333984\" xlink:href=\"#DejaVuSans-114\"/>\n      <use x=\"87.447266\" xlink:href=\"#DejaVuSans-117\"/>\n      <use x=\"150.826172\" xlink:href=\"#DejaVuSans-101\"/>\n      <use x=\"212.349609\" xlink:href=\"#DejaVuSans-32\"/>\n      <use x=\"244.136719\" xlink:href=\"#DejaVuSans-80\"/>\n      <use x=\"300.814453\" xlink:href=\"#DejaVuSans-111\"/>\n      <use x=\"361.996094\" xlink:href=\"#DejaVuSans-115\"/>\n      <use x=\"414.095703\" xlink:href=\"#DejaVuSans-105\"/>\n      <use x=\"441.878906\" xlink:href=\"#DejaVuSans-116\"/>\n      <use x=\"481.087891\" xlink:href=\"#DejaVuSans-105\"/>\n      <use x=\"508.871094\" xlink:href=\"#DejaVuSans-118\"/>\n      <use x=\"568.050781\" xlink:href=\"#DejaVuSans-101\"/>\n      <use x=\"629.574219\" xlink:href=\"#DejaVuSans-32\"/>\n      <use x=\"661.361328\" xlink:href=\"#DejaVuSans-82\"/>\n      <use x=\"728.59375\" xlink:href=\"#DejaVuSans-97\"/>\n      <use x=\"789.873047\" xlink:href=\"#DejaVuSans-116\"/>\n      <use x=\"829.082031\" xlink:href=\"#DejaVuSans-101\"/>\n     </g>\n    </g>\n   </g>\n   <g id=\"line2d_13\">\n    <path clip-path=\"url(#pc2ffb6b500)\" d=\"M 52.499601 231.898125 \nL 52.499601 231.747977 \nL 52.659959 231.747977 \nL 52.659959 230.396642 \nL 52.820317 230.396642 \nL 52.820317 229.495752 \nL 52.980676 229.495752 \nL 52.980676 224.841155 \nL 53.141034 224.841155 \nL 53.141034 223.790117 \nL 53.301392 223.790117 \nL 53.301392 220.336706 \nL 53.46175 220.036409 \nL 53.46175 217.483888 \nL 53.622108 217.483888 \nL 53.622108 216.282702 \nL 53.782466 216.132554 \nL 53.782466 215.832257 \nL 53.942825 215.682109 \nL 54.263541 214.480922 \nL 54.263541 214.180626 \nL 54.423899 214.180626 \nL 54.423899 211.027511 \nL 54.584257 211.027511 \nL 54.584257 209.225732 \nL 54.744615 208.925435 \nL 54.744615 208.324842 \nL 54.904974 208.324842 \nL 54.904974 207.423952 \nL 55.065332 207.423952 \nL 55.22569 207.123656 \nL 55.22569 206.072617 \nL 55.546406 203.820393 \nL 55.546406 201.568168 \nL 55.706764 201.41802 \nL 56.027481 200.667279 \nL 56.027481 198.114758 \nL 56.508555 197.213868 \nL 56.508555 196.312978 \nL 56.98963 195.412088 \nL 57.791421 192.709419 \nL 57.791421 192.108826 \nL 57.951779 191.508232 \nL 58.272495 191.207936 \nL 58.272495 190.006749 \nL 58.75357 188.054821 \nL 58.75357 187.604377 \nL 59.234644 187.003783 \nL 59.234644 186.703487 \nL 59.715719 186.40319 \nL 59.715719 186.102894 \nL 60.036435 184.301114 \nL 60.196793 184.000817 \nL 60.357151 183.250076 \nL 61.158942 182.499334 \nL 61.158942 182.199038 \nL 61.3193 182.048889 \nL 61.479659 181.298148 \nL 61.479659 180.997851 \nL 61.640017 180.847703 \nL 61.800375 179.796665 \nL 61.800375 179.196072 \nL 61.960733 178.895775 \nL 61.960733 177.844737 \nL 63.885031 174.09103 \nL 64.045389 174.09103 \nL 64.045389 171.688657 \nL 64.205747 171.688657 \nL 64.366106 171.38836 \nL 64.366106 170.037025 \nL 64.526464 170.037025 \nL 64.526464 169.886877 \nL 64.84718 169.136136 \nL 64.84718 167.634653 \nL 65.007538 166.883911 \nL 65.328255 166.733763 \nL 65.328255 165.532576 \nL 65.488613 165.532576 \nL 65.809329 165.23228 \nL 65.809329 164.481538 \nL 65.969687 164.33139 \nL 66.450762 163.130204 \nL 66.450762 162.679759 \nL 67.412911 160.277386 \nL 67.412911 159.977089 \nL 67.733627 159.226348 \nL 67.733627 158.025161 \nL 69.657925 153.520712 \nL 69.818283 153.520712 \nL 70.139 152.319526 \nL 70.139 151.718933 \nL 70.459716 151.718933 \nL 70.459716 150.667895 \nL 70.94079 150.21745 \nL 70.94079 149.616857 \nL 71.101149 149.166412 \nL 71.261507 149.166412 \nL 71.742581 147.965225 \nL 71.742581 147.664929 \nL 71.902939 147.364632 \nL 72.384014 146.163446 \nL 72.544372 146.163446 \nL 72.865088 145.713001 \nL 72.865088 144.962259 \nL 73.185805 144.211518 \nL 73.666879 143.761073 \nL 73.666879 143.16048 \nL 73.827237 142.409738 \nL 73.827237 141.959293 \nL 73.987596 141.658997 \nL 73.987596 141.208552 \nL 76.392968 137.755141 \nL 76.392968 137.154548 \nL 76.713684 136.704103 \nL 76.713684 135.653065 \nL 77.675833 135.352768 \nL 77.675833 135.20262 \nL 77.99655 135.20262 \nL 78.477624 134.451878 \nL 78.477624 134.151582 \nL 78.798341 132.49995 \nL 78.958699 132.49995 \nL 78.958699 132.349802 \nL 79.119057 132.199654 \nL 79.279415 131.448912 \nL 80.401922 129.797281 \nL 80.401922 129.196688 \nL 80.56228 129.196688 \nL 80.722639 128.596095 \nL 81.845146 128.445946 \nL 81.845146 128.295798 \nL 82.005504 128.295798 \nL 82.165862 127.995501 \nL 82.165862 127.24476 \nL 82.32622 127.24476 \nL 82.32622 126.944463 \nL 82.646937 126.193722 \nL 82.967653 126.193722 \nL 82.967653 126.043574 \nL 83.128011 125.593129 \nL 85.052309 122.890459 \nL 85.052309 121.839421 \nL 85.373026 121.238828 \nL 85.373026 120.938531 \nL 85.8541 120.337938 \nL 85.8541 119.437048 \nL 90.664845 112.980671 \nL 90.664845 112.380078 \nL 90.985561 111.629337 \nL 91.306278 111.479188 \nL 91.466636 110.578299 \nL 91.787352 110.578299 \nL 91.787352 110.42815 \nL 91.94771 110.42815 \nL 91.94771 110.278002 \nL 92.428785 109.677409 \nL 92.589143 109.677409 \nL 92.749501 109.377112 \nL 94.353083 106.974739 \nL 94.353083 106.674443 \nL 95.47559 105.623405 \nL 95.956665 105.473256 \nL 96.758455 104.121922 \nL 96.758455 103.821625 \nL 97.079172 103.37118 \nL 97.079172 102.019846 \nL 97.23953 101.869697 \nL 101.248484 99.317176 \nL 101.248484 99.01688 \nL 101.729559 98.716583 \nL 101.729559 98.266138 \nL 102.050275 97.965841 \nL 102.691708 97.815693 \nL 103.012424 97.365248 \nL 103.653857 97.2151 \nL 103.653857 97.064952 \nL 104.134931 96.464358 \nL 104.134931 95.863765 \nL 104.455647 95.41332 \nL 105.578155 94.212134 \nL 105.898871 94.212134 \nL 106.379945 93.611541 \nL 107.342095 93.461392 \nL 107.342095 92.860799 \nL 107.662811 92.860799 \nL 107.983527 92.410354 \nL 108.945676 92.410354 \nL 109.106034 91.659613 \nL 113.435705 88.656647 \nL 113.435705 88.35635 \nL 116.803226 87.45546 \nL 116.803226 87.005016 \nL 125.141851 82.500567 \nL 125.622926 82.350418 \nL 126.585075 82.350418 \nL 126.585075 82.20027 \nL 126.905791 81.749825 \nL 127.86794 80.39849 \nL 127.86794 80.248342 \nL 128.509373 79.647749 \nL 130.914745 78.746859 \nL 131.075103 78.746859 \nL 131.075103 78.596711 \nL 131.235461 78.596711 \nL 131.39582 78.296414 \nL 132.999401 78.146266 \nL 132.999401 77.845969 \nL 137.810146 76.04419 \nL 137.810146 75.894041 \nL 138.291221 75.894041 \nL 138.291221 75.743893 \nL 138.611937 74.993152 \nL 139.093012 74.843003 \nL 142.300175 74.843003 \nL 142.78125 74.542707 \nL 143.101966 74.542707 \nL 143.262324 74.392558 \nL 150.157725 73.34152 \nL 150.157725 73.191372 \nL 150.6388 73.191372 \nL 151.921665 72.891075 \nL 152.563098 72.891075 \nL 152.883814 72.740927 \nL 152.883814 72.290482 \nL 158.817066 71.840037 \nL 158.817066 71.539741 \nL 159.137783 71.389592 \nL 159.137783 71.239444 \nL 163.467453 71.239444 \nL 163.467453 71.089296 \nL 164.269244 70.788999 \nL 164.269244 70.338554 \nL 164.429602 70.338554 \nL 164.429602 70.038258 \nL 164.58996 70.038258 \nL 164.58996 67.335588 \nL 164.910677 67.18544 \nL 165.231393 67.18544 \nL 165.231393 67.035292 \nL 165.391751 67.035292 \nL 165.552109 66.734995 \nL 165.712468 66.434698 \nL 165.712468 65.984254 \nL 166.033184 65.984254 \nL 166.033184 65.533809 \nL 166.193542 64.632919 \nL 166.193542 62.831139 \nL 166.514258 62.380694 \nL 166.514258 62.080398 \nL 166.834975 61.930249 \nL 166.995333 61.479805 \nL 167.155691 61.479805 \nL 167.476407 60.729063 \nL 167.797124 60.278618 \nL 168.278198 60.278618 \nL 168.278198 60.12847 \nL 168.438556 59.828173 \nL 168.759273 59.828173 \nL 168.759273 59.678025 \nL 168.919631 59.678025 \nL 168.919631 59.527877 \nL 169.721422 58.927283 \nL 169.721422 58.176542 \nL 170.523213 58.176542 \nL 171.164645 57.726097 \nL 171.325003 57.726097 \nL 171.325003 57.125504 \nL 171.485362 57.125504 \nL 172.126794 56.975356 \nL 172.447511 56.675059 \nL 172.768227 56.675059 \nL 172.768227 56.524911 \nL 177.578972 55.323724 \nL 177.578972 55.173576 \nL 177.73933 55.173576 \nL 177.73933 54.723131 \nL 177.899688 54.723131 \nL 177.899688 54.272686 \nL 178.060046 54.272686 \nL 178.060046 54.122538 \nL 179.022195 53.371796 \nL 179.022195 52.921351 \nL 179.663628 52.921351 \nL 179.663628 52.320758 \nL 179.823986 52.320758 \nL 179.823986 52.17061 \nL 180.144703 52.17061 \nL 180.305061 52.020462 \nL 180.946493 52.020462 \nL 181.106852 51.720165 \nL 181.26721 51.720165 \nL 181.427568 51.419868 \nL 181.908643 51.419868 \nL 181.908643 50.969424 \nL 185.59688 50.218682 \nL 185.59688 49.918385 \nL 185.917597 49.918385 \nL 185.917597 49.768237 \nL 187.040104 49.768237 \nL 187.841895 49.467941 \nL 188.643686 49.017496 \nL 189.285118 49.017496 \nL 189.445476 48.867347 \nL 190.407625 48.867347 \nL 190.407625 48.717199 \nL 192.171565 48.717199 \nL 192.171565 48.567051 \nL 196.661594 48.567051 \nL 196.661594 48.266754 \nL 196.821952 48.266754 \nL 196.821952 47.966458 \nL 197.303027 47.966458 \nL 197.303027 47.365864 \nL 197.463385 47.365864 \nL 197.463385 46.615123 \nL 197.623743 46.615123 \nL 197.623743 46.01453 \nL 197.784101 46.01453 \nL 197.784101 45.864381 \nL 198.585892 45.11364 \nL 198.585892 44.813343 \nL 199.387683 44.813343 \nL 199.387683 44.362898 \nL 199.548041 44.362898 \nL 199.708399 44.21275 \nL 200.189474 44.21275 \nL 200.349832 43.912453 \nL 200.830906 43.912453 \nL 200.991264 43.612157 \nL 202.594846 43.612157 \nL 202.594846 43.161712 \nL 202.915562 43.161712 \nL 203.396637 43.011564 \nL 203.877711 42.561119 \nL 203.877711 42.110674 \nL 204.03807 42.110674 \nL 204.03807 41.960526 \nL 204.198428 41.660229 \nL 204.679502 41.660229 \nL 204.679502 41.359932 \nL 205.000219 41.359932 \nL 205.000219 40.609191 \nL 205.160577 40.609191 \nL 205.160577 40.308894 \nL 205.320935 40.308894 \nL 206.764159 39.107708 \nL 206.924517 39.107708 \nL 207.245233 38.807411 \nL 207.726308 38.807411 \nL 208.848815 38.507115 \nL 208.848815 38.356966 \nL 209.009173 38.356966 \nL 209.009173 38.206818 \nL 209.650606 38.206818 \nL 209.971322 37.906521 \nL 209.971322 37.606225 \nL 211.574904 37.606225 \nL 211.574904 37.15578 \nL 212.857769 37.15578 \nL 213.018127 36.705335 \nL 213.178485 36.705335 \nL 213.178485 36.405038 \nL 213.65956 36.104742 \nL 214.140634 36.104742 \nL 216.706365 35.804445 \nL 216.866723 35.654297 \nL 217.508156 35.654297 \nL 217.668514 35.504149 \nL 218.309947 35.354 \nL 218.951379 35.354 \nL 218.951379 35.203852 \nL 219.432454 35.203852 \nL 219.432454 35.053704 \nL 220.234245 34.753407 \nL 221.51711 34.753407 \nL 221.998184 34.453111 \nL 223.28105 34.453111 \nL 223.441408 34.302962 \nL 223.762124 34.302962 \nL 230.497167 34.002666 \nL 231.298958 34.002666 \nL 231.298958 33.702369 \nL 232.261107 33.702369 \nL 232.261107 33.552221 \nL 232.421465 33.552221 \nL 232.421465 33.402073 \nL 233.062898 33.402073 \nL 233.062898 33.101776 \nL 236.109703 33.101776 \nL 236.109703 32.951628 \nL 236.270061 32.951628 \nL 236.270061 31.750441 \nL 236.590778 31.450145 \nL 237.23221 31.450145 \nL 237.23221 31.299996 \nL 237.392569 31.149848 \nL 238.194359 31.149848 \nL 238.354718 30.9997 \nL 238.99615 30.9997 \nL 238.99615 30.849551 \nL 239.156508 30.849551 \nL 239.156508 30.699403 \nL 239.316867 30.699403 \nL 239.316867 30.549255 \nL 239.637583 30.549255 \nL 239.637583 30.09881 \nL 239.958299 30.09881 \nL 240.920448 29.948662 \nL 241.241165 29.498217 \nL 241.561881 29.498217 \nL 241.561881 29.19792 \nL 242.042955 29.19792 \nL 242.363672 29.047772 \nL 243.967253 29.047772 \nL 243.967253 28.747475 \nL 244.448328 28.747475 \nL 244.448328 28.447179 \nL 244.769044 28.447179 \nL 245.250119 28.29703 \nL 245.570835 28.29703 \nL 246.05191 28.146882 \nL 246.693342 28.146882 \nL 247.976208 27.996734 \nL 247.976208 27.696437 \nL 248.777998 27.696437 \nL 248.777998 27.546289 \nL 249.259073 27.546289 \nL 249.259073 27.396141 \nL 249.419431 27.396141 \nL 249.419431 27.245992 \nL 249.740147 27.095844 \nL 250.862655 27.095844 \nL 250.862655 26.945696 \nL 251.023013 26.795547 \nL 251.504087 26.795547 \nL 251.824804 26.495251 \nL 252.14552 26.495251 \nL 255.833758 26.194954 \nL 260.484145 26.194954 \nL 260.484145 26.044806 \nL 261.285936 26.044806 \nL 261.285936 25.894658 \nL 261.76701 25.894658 \nL 261.76701 25.744509 \nL 263.691308 25.744509 \nL 263.691308 25.594361 \nL 269.303844 25.594361 \nL 269.303844 25.444213 \nL 269.62456 25.444213 \nL 269.62456 25.294064 \nL 280.849632 25.294064 \nL 280.849632 25.143916 \nL 282.292856 25.143916 \nL 282.292856 24.993768 \nL 283.415363 24.993768 \nL 283.415363 24.843619 \nL 283.575721 24.843619 \nL 283.575721 24.693471 \nL 291.112555 24.693471 \nL 291.112555 24.543323 \nL 294.319718 24.543323 \nL 294.319718 24.393175 \nL 321.740965 24.393175 \nL 321.740965 24.393175 \n\" style=\"fill:none;stroke:#4c72b0;stroke-linecap:round;stroke-width:3;\"/>\n   </g>\n   <g id=\"line2d_14\">\n    <path clip-path=\"url(#pc2ffb6b500)\" d=\"M 52.499601 231.898125 \nL 321.740965 24.393175 \n\" style=\"fill:none;stroke:#1a1a1a;stroke-dasharray:5.55,2.4;stroke-dashoffset:0;stroke-width:1.5;\"/>\n   </g>\n   <g id=\"patch_3\">\n    <path d=\"M 49.807188 231.898125 \nL 49.807188 22.318125 \n\" style=\"fill:none;stroke:#ffffff;stroke-linecap:square;stroke-linejoin:miter;stroke-width:1.25;\"/>\n   </g>\n   <g id=\"patch_4\">\n    <path d=\"M 321.740965 231.898125 \nL 321.740965 22.318125 \n\" style=\"fill:none;stroke:#ffffff;stroke-linecap:square;stroke-linejoin:miter;stroke-width:1.25;\"/>\n   </g>\n   <g id=\"patch_5\">\n    <path d=\"M 49.807188 231.898125 \nL 321.740965 231.898125 \n\" style=\"fill:none;stroke:#ffffff;stroke-linecap:square;stroke-linejoin:miter;stroke-width:1.25;\"/>\n   </g>\n   <g id=\"patch_6\">\n    <path d=\"M 49.807188 22.318125 \nL 321.740965 22.318125 \n\" style=\"fill:none;stroke:#ffffff;stroke-linecap:square;stroke-linejoin:miter;stroke-width:1.25;\"/>\n   </g>\n   <g id=\"text_15\">\n    <!-- Receiver Operating Characteristic -->\n    <defs>\n     <path d=\"M 48.78125 52.59375 \nL 48.78125 44.1875 \nQ 44.96875 46.296875 41.140625 47.34375 \nQ 37.3125 48.390625 33.40625 48.390625 \nQ 24.65625 48.390625 19.8125 42.84375 \nQ 14.984375 37.3125 14.984375 27.296875 \nQ 14.984375 17.28125 19.8125 11.734375 \nQ 24.65625 6.203125 33.40625 6.203125 \nQ 37.3125 6.203125 41.140625 7.25 \nQ 44.96875 8.296875 48.78125 10.40625 \nL 48.78125 2.09375 \nQ 45.015625 0.34375 40.984375 -0.53125 \nQ 36.96875 -1.421875 32.421875 -1.421875 \nQ 20.0625 -1.421875 12.78125 6.34375 \nQ 5.515625 14.109375 5.515625 27.296875 \nQ 5.515625 40.671875 12.859375 48.328125 \nQ 20.21875 56 33.015625 56 \nQ 37.15625 56 41.109375 55.140625 \nQ 45.0625 54.296875 48.78125 52.59375 \nz\n\" id=\"DejaVuSans-99\"/>\n     <path d=\"M 39.40625 66.21875 \nQ 28.65625 66.21875 22.328125 58.203125 \nQ 16.015625 50.203125 16.015625 36.375 \nQ 16.015625 22.609375 22.328125 14.59375 \nQ 28.65625 6.59375 39.40625 6.59375 \nQ 50.140625 6.59375 56.421875 14.59375 \nQ 62.703125 22.609375 62.703125 36.375 \nQ 62.703125 50.203125 56.421875 58.203125 \nQ 50.140625 66.21875 39.40625 66.21875 \nz\nM 39.40625 74.21875 \nQ 54.734375 74.21875 63.90625 63.9375 \nQ 73.09375 53.65625 73.09375 36.375 \nQ 73.09375 19.140625 63.90625 8.859375 \nQ 54.734375 -1.421875 39.40625 -1.421875 \nQ 24.03125 -1.421875 14.8125 8.828125 \nQ 5.609375 19.09375 5.609375 36.375 \nQ 5.609375 53.65625 14.8125 63.9375 \nQ 24.03125 74.21875 39.40625 74.21875 \nz\n\" id=\"DejaVuSans-79\"/>\n     <path d=\"M 18.109375 8.203125 \nL 18.109375 -20.796875 \nL 9.078125 -20.796875 \nL 9.078125 54.6875 \nL 18.109375 54.6875 \nL 18.109375 46.390625 \nQ 20.953125 51.265625 25.265625 53.625 \nQ 29.59375 56 35.59375 56 \nQ 45.5625 56 51.78125 48.09375 \nQ 58.015625 40.1875 58.015625 27.296875 \nQ 58.015625 14.40625 51.78125 6.484375 \nQ 45.5625 -1.421875 35.59375 -1.421875 \nQ 29.59375 -1.421875 25.265625 0.953125 \nQ 20.953125 3.328125 18.109375 8.203125 \nz\nM 48.6875 27.296875 \nQ 48.6875 37.203125 44.609375 42.84375 \nQ 40.53125 48.484375 33.40625 48.484375 \nQ 26.265625 48.484375 22.1875 42.84375 \nQ 18.109375 37.203125 18.109375 27.296875 \nQ 18.109375 17.390625 22.1875 11.75 \nQ 26.265625 6.109375 33.40625 6.109375 \nQ 40.53125 6.109375 44.609375 11.75 \nQ 48.6875 17.390625 48.6875 27.296875 \nz\n\" id=\"DejaVuSans-112\"/>\n     <path d=\"M 54.890625 33.015625 \nL 54.890625 0 \nL 45.90625 0 \nL 45.90625 32.71875 \nQ 45.90625 40.484375 42.875 44.328125 \nQ 39.84375 48.1875 33.796875 48.1875 \nQ 26.515625 48.1875 22.3125 43.546875 \nQ 18.109375 38.921875 18.109375 30.90625 \nL 18.109375 0 \nL 9.078125 0 \nL 9.078125 54.6875 \nL 18.109375 54.6875 \nL 18.109375 46.1875 \nQ 21.34375 51.125 25.703125 53.5625 \nQ 30.078125 56 35.796875 56 \nQ 45.21875 56 50.046875 50.171875 \nQ 54.890625 44.34375 54.890625 33.015625 \nz\n\" id=\"DejaVuSans-110\"/>\n     <path d=\"M 45.40625 27.984375 \nQ 45.40625 37.75 41.375 43.109375 \nQ 37.359375 48.484375 30.078125 48.484375 \nQ 22.859375 48.484375 18.828125 43.109375 \nQ 14.796875 37.75 14.796875 27.984375 \nQ 14.796875 18.265625 18.828125 12.890625 \nQ 22.859375 7.515625 30.078125 7.515625 \nQ 37.359375 7.515625 41.375 12.890625 \nQ 45.40625 18.265625 45.40625 27.984375 \nz\nM 54.390625 6.78125 \nQ 54.390625 -7.171875 48.1875 -13.984375 \nQ 42 -20.796875 29.203125 -20.796875 \nQ 24.46875 -20.796875 20.265625 -20.09375 \nQ 16.0625 -19.390625 12.109375 -17.921875 \nL 12.109375 -9.1875 \nQ 16.0625 -11.328125 19.921875 -12.34375 \nQ 23.78125 -13.375 27.78125 -13.375 \nQ 36.625 -13.375 41.015625 -8.765625 \nQ 45.40625 -4.15625 45.40625 5.171875 \nL 45.40625 9.625 \nQ 42.625 4.78125 38.28125 2.390625 \nQ 33.9375 0 27.875 0 \nQ 17.828125 0 11.671875 7.65625 \nQ 5.515625 15.328125 5.515625 27.984375 \nQ 5.515625 40.671875 11.671875 48.328125 \nQ 17.828125 56 27.875 56 \nQ 33.9375 56 38.28125 53.609375 \nQ 42.625 51.21875 45.40625 46.390625 \nL 45.40625 54.6875 \nL 54.390625 54.6875 \nz\n\" id=\"DejaVuSans-103\"/>\n     <path d=\"M 64.40625 67.28125 \nL 64.40625 56.890625 \nQ 59.421875 61.53125 53.78125 63.8125 \nQ 48.140625 66.109375 41.796875 66.109375 \nQ 29.296875 66.109375 22.65625 58.46875 \nQ 16.015625 50.828125 16.015625 36.375 \nQ 16.015625 21.96875 22.65625 14.328125 \nQ 29.296875 6.6875 41.796875 6.6875 \nQ 48.140625 6.6875 53.78125 8.984375 \nQ 59.421875 11.28125 64.40625 15.921875 \nL 64.40625 5.609375 \nQ 59.234375 2.09375 53.4375 0.328125 \nQ 47.65625 -1.421875 41.21875 -1.421875 \nQ 24.65625 -1.421875 15.125 8.703125 \nQ 5.609375 18.84375 5.609375 36.375 \nQ 5.609375 53.953125 15.125 64.078125 \nQ 24.65625 74.21875 41.21875 74.21875 \nQ 47.75 74.21875 53.53125 72.484375 \nQ 59.328125 70.75 64.40625 67.28125 \nz\n\" id=\"DejaVuSans-67\"/>\n     <path d=\"M 54.890625 33.015625 \nL 54.890625 0 \nL 45.90625 0 \nL 45.90625 32.71875 \nQ 45.90625 40.484375 42.875 44.328125 \nQ 39.84375 48.1875 33.796875 48.1875 \nQ 26.515625 48.1875 22.3125 43.546875 \nQ 18.109375 38.921875 18.109375 30.90625 \nL 18.109375 0 \nL 9.078125 0 \nL 9.078125 75.984375 \nL 18.109375 75.984375 \nL 18.109375 46.1875 \nQ 21.34375 51.125 25.703125 53.5625 \nQ 30.078125 56 35.796875 56 \nQ 45.21875 56 50.046875 50.171875 \nQ 54.890625 44.34375 54.890625 33.015625 \nz\n\" id=\"DejaVuSans-104\"/>\n    </defs>\n    <g style=\"fill:#262626;\" transform=\"translate(84.270951 16.318125)scale(0.12 -0.12)\">\n     <use xlink:href=\"#DejaVuSans-82\"/>\n     <use x=\"64.982422\" xlink:href=\"#DejaVuSans-101\"/>\n     <use x=\"126.505859\" xlink:href=\"#DejaVuSans-99\"/>\n     <use x=\"181.486328\" xlink:href=\"#DejaVuSans-101\"/>\n     <use x=\"243.009766\" xlink:href=\"#DejaVuSans-105\"/>\n     <use x=\"270.792969\" xlink:href=\"#DejaVuSans-118\"/>\n     <use x=\"329.972656\" xlink:href=\"#DejaVuSans-101\"/>\n     <use x=\"391.496094\" xlink:href=\"#DejaVuSans-114\"/>\n     <use x=\"432.609375\" xlink:href=\"#DejaVuSans-32\"/>\n     <use x=\"464.396484\" xlink:href=\"#DejaVuSans-79\"/>\n     <use x=\"543.107422\" xlink:href=\"#DejaVuSans-112\"/>\n     <use x=\"606.583984\" xlink:href=\"#DejaVuSans-101\"/>\n     <use x=\"668.107422\" xlink:href=\"#DejaVuSans-114\"/>\n     <use x=\"709.220703\" xlink:href=\"#DejaVuSans-97\"/>\n     <use x=\"770.5\" xlink:href=\"#DejaVuSans-116\"/>\n     <use x=\"809.708984\" xlink:href=\"#DejaVuSans-105\"/>\n     <use x=\"837.492188\" xlink:href=\"#DejaVuSans-110\"/>\n     <use x=\"900.871094\" xlink:href=\"#DejaVuSans-103\"/>\n     <use x=\"964.347656\" xlink:href=\"#DejaVuSans-32\"/>\n     <use x=\"996.134766\" xlink:href=\"#DejaVuSans-67\"/>\n     <use x=\"1065.958984\" xlink:href=\"#DejaVuSans-104\"/>\n     <use x=\"1129.337891\" xlink:href=\"#DejaVuSans-97\"/>\n     <use x=\"1190.617188\" xlink:href=\"#DejaVuSans-114\"/>\n     <use x=\"1231.730469\" xlink:href=\"#DejaVuSans-97\"/>\n     <use x=\"1293.009766\" xlink:href=\"#DejaVuSans-99\"/>\n     <use x=\"1347.990234\" xlink:href=\"#DejaVuSans-116\"/>\n     <use x=\"1387.199219\" xlink:href=\"#DejaVuSans-101\"/>\n     <use x=\"1448.722656\" xlink:href=\"#DejaVuSans-114\"/>\n     <use x=\"1489.835938\" xlink:href=\"#DejaVuSans-105\"/>\n     <use x=\"1517.619141\" xlink:href=\"#DejaVuSans-115\"/>\n     <use x=\"1569.71875\" xlink:href=\"#DejaVuSans-116\"/>\n     <use x=\"1608.927734\" xlink:href=\"#DejaVuSans-105\"/>\n     <use x=\"1636.710938\" xlink:href=\"#DejaVuSans-99\"/>\n    </g>\n   </g>\n   <g id=\"legend_1\">\n    <g id=\"patch_7\">\n     <path d=\"M 132.362215 226.398125 \nL 314.040965 226.398125 \nQ 316.240965 226.398125 316.240965 224.198125 \nL 316.240965 208.84625 \nQ 316.240965 206.64625 314.040965 206.64625 \nL 132.362215 206.64625 \nQ 130.162215 206.64625 130.162215 208.84625 \nL 130.162215 224.198125 \nQ 130.162215 226.398125 132.362215 226.398125 \nz\n\" style=\"fill:#eaeaf2;opacity:0.8;stroke:#cccccc;stroke-linejoin:miter;\"/>\n    </g>\n    <g id=\"line2d_15\">\n     <path d=\"M 134.562215 215.554531 \nL 156.562215 215.554531 \n\" style=\"fill:none;stroke:#4c72b0;stroke-linecap:round;stroke-width:3;\"/>\n    </g>\n    <g id=\"line2d_16\"/>\n    <g id=\"text_16\">\n     <!-- lr_logit_simple AUC = 0.80 -->\n     <defs>\n      <path d=\"M 50.984375 -16.609375 \nL 50.984375 -23.578125 \nL -0.984375 -23.578125 \nL -0.984375 -16.609375 \nz\n\" id=\"DejaVuSans-95\"/>\n      <path d=\"M 52 44.1875 \nQ 55.375 50.25 60.0625 53.125 \nQ 64.75 56 71.09375 56 \nQ 79.640625 56 84.28125 50.015625 \nQ 88.921875 44.046875 88.921875 33.015625 \nL 88.921875 0 \nL 79.890625 0 \nL 79.890625 32.71875 \nQ 79.890625 40.578125 77.09375 44.375 \nQ 74.3125 48.1875 68.609375 48.1875 \nQ 61.625 48.1875 57.5625 43.546875 \nQ 53.515625 38.921875 53.515625 30.90625 \nL 53.515625 0 \nL 44.484375 0 \nL 44.484375 32.71875 \nQ 44.484375 40.625 41.703125 44.40625 \nQ 38.921875 48.1875 33.109375 48.1875 \nQ 26.21875 48.1875 22.15625 43.53125 \nQ 18.109375 38.875 18.109375 30.90625 \nL 18.109375 0 \nL 9.078125 0 \nL 9.078125 54.6875 \nL 18.109375 54.6875 \nL 18.109375 46.1875 \nQ 21.1875 51.21875 25.484375 53.609375 \nQ 29.78125 56 35.6875 56 \nQ 41.65625 56 45.828125 52.96875 \nQ 50 49.953125 52 44.1875 \nz\n\" id=\"DejaVuSans-109\"/>\n      <path d=\"M 34.1875 63.1875 \nL 20.796875 26.90625 \nL 47.609375 26.90625 \nz\nM 28.609375 72.90625 \nL 39.796875 72.90625 \nL 67.578125 0 \nL 57.328125 0 \nL 50.6875 18.703125 \nL 17.828125 18.703125 \nL 11.1875 0 \nL 0.78125 0 \nz\n\" id=\"DejaVuSans-65\"/>\n      <path d=\"M 8.6875 72.90625 \nL 18.609375 72.90625 \nL 18.609375 28.609375 \nQ 18.609375 16.890625 22.84375 11.734375 \nQ 27.09375 6.59375 36.625 6.59375 \nQ 46.09375 6.59375 50.34375 11.734375 \nQ 54.59375 16.890625 54.59375 28.609375 \nL 54.59375 72.90625 \nL 64.5 72.90625 \nL 64.5 27.390625 \nQ 64.5 13.140625 57.4375 5.859375 \nQ 50.390625 -1.421875 36.625 -1.421875 \nQ 22.796875 -1.421875 15.734375 5.859375 \nQ 8.6875 13.140625 8.6875 27.390625 \nz\n\" id=\"DejaVuSans-85\"/>\n      <path d=\"M 10.59375 45.40625 \nL 73.1875 45.40625 \nL 73.1875 37.203125 \nL 10.59375 37.203125 \nz\nM 10.59375 25.484375 \nL 73.1875 25.484375 \nL 73.1875 17.1875 \nL 10.59375 17.1875 \nz\n\" id=\"DejaVuSans-61\"/>\n     </defs>\n     <g style=\"fill:#262626;\" transform=\"translate(165.362215 219.404531)scale(0.11 -0.11)\">\n      <use xlink:href=\"#DejaVuSans-108\"/>\n      <use x=\"27.783203\" xlink:href=\"#DejaVuSans-114\"/>\n      <use x=\"68.896484\" xlink:href=\"#DejaVuSans-95\"/>\n      <use x=\"118.896484\" xlink:href=\"#DejaVuSans-108\"/>\n      <use x=\"146.679688\" xlink:href=\"#DejaVuSans-111\"/>\n      <use x=\"207.861328\" xlink:href=\"#DejaVuSans-103\"/>\n      <use x=\"271.337891\" xlink:href=\"#DejaVuSans-105\"/>\n      <use x=\"299.121094\" xlink:href=\"#DejaVuSans-116\"/>\n      <use x=\"338.330078\" xlink:href=\"#DejaVuSans-95\"/>\n      <use x=\"388.330078\" xlink:href=\"#DejaVuSans-115\"/>\n      <use x=\"440.429688\" xlink:href=\"#DejaVuSans-105\"/>\n      <use x=\"468.212891\" xlink:href=\"#DejaVuSans-109\"/>\n      <use x=\"565.625\" xlink:href=\"#DejaVuSans-112\"/>\n      <use x=\"629.101562\" xlink:href=\"#DejaVuSans-108\"/>\n      <use x=\"656.884766\" xlink:href=\"#DejaVuSans-101\"/>\n      <use x=\"718.408203\" xlink:href=\"#DejaVuSans-32\"/>\n      <use x=\"750.195312\" xlink:href=\"#DejaVuSans-65\"/>\n      <use x=\"818.603516\" xlink:href=\"#DejaVuSans-85\"/>\n      <use x=\"891.796875\" xlink:href=\"#DejaVuSans-67\"/>\n      <use x=\"961.621094\" xlink:href=\"#DejaVuSans-32\"/>\n      <use x=\"993.408203\" xlink:href=\"#DejaVuSans-61\"/>\n      <use x=\"1077.197266\" xlink:href=\"#DejaVuSans-32\"/>\n      <use x=\"1108.984375\" xlink:href=\"#DejaVuSans-48\"/>\n      <use x=\"1172.607422\" xlink:href=\"#DejaVuSans-46\"/>\n      <use x=\"1204.394531\" xlink:href=\"#DejaVuSans-56\"/>\n      <use x=\"1268.017578\" xlink:href=\"#DejaVuSans-48\"/>\n     </g>\n    </g>\n   </g>\n  </g>\n  <g id=\"axes_2\">\n   <g id=\"patch_8\">\n    <path d=\"M 428.980487 231.898125 \nL 638.560487 231.898125 \nL 638.560487 22.318125 \nL 428.980487 22.318125 \nz\n\" style=\"fill:#eaeaf2;\"/>\n   </g>\n   <g clip-path=\"url(#pec77456a6c)\">\n    <image height=\"210\" id=\"image5c390cd0eb\" transform=\"scale(1 -1)translate(0 -210)\" width=\"210\" x=\"428.980487\" xlink:href=\"data:image/png;base64,\niVBORw0KGgoAAAANSUhEUgAAANIAAADSCAYAAAA/mZ5CAAAABHNCSVQICAgIfAhkiAAAAodJREFUeJzt1TENwlAARVHK1K0KWBBA8FUPqKgcHCAGCcUBXW7yCTlHwVtu3nR7PPcTP+16WUZP4MB59AD4B0KCgJAgICQICAkCQoKAkCAgJAgICQJCgoCQICAkCAgJAkKCgJAgICQICAkCQoKAkCAgJAgICQJCgoCQICAkCAgJAkKCgJAgICQICAkCQoKAkCAgJAgICQJCgoCQICAkCAgJAkKCgJAgICQICAkCQoKAkCAgJAgICQJCgoCQICAkCAgJAkKCgJAgICQICAkCQoKAkCAgJAgICQJCgoCQICAkCAgJAkKCgJAgICQICAkCQoKAkCAgJAgICQJCgoCQICAkCAgJAkKCgJAgICQICAkCQoKAkCAgJAgICQJCgoCQICAkCAgJAkKCgJAgICQICAkCQoKAkCAgJAgICQJCgoCQICAkCAgJAkKCgJAgICQICAkCQoKAkCAgJAhM833dR4/gu/drGz2BAx4JAkKCgJAgICQICAkCQoKAkCAgJAgICQJCgoCQICAkCAgJAkKCgJAgICQICAkCQoKAkCAgJAgICQJCgoCQICAkCAgJAkKCgJAgICQICAkCQoKAkCAgJAgICQJCgoCQICAkCAgJAkKCgJAgICQICAkCQoKAkCAgJAgICQJCgoCQICAkCAgJAkKCgJAgICQICAkCQoKAkCAgJAgICQJCgoCQICAkCAgJAkKCgJAgICQICAkCQoKAkCAgJAgICQJCgoCQICAkCAgJAkKCgJAgICQICAkCQoKAkCAgJAgICQJCgoCQICAkCAgJAkKCgJAgICQICAkCQoKAkCAgJAgICQJCgoCQICAkCAgJAkKCgJAgICQICAkCQoKAkCAgJAh8AIZZCEgA5+wCAAAAAElFTkSuQmCC\" y=\"-21.898125\"/>\n   </g>\n   <g id=\"matplotlib.axis_3\">\n    <g id=\"xtick_7\">\n     <g id=\"line2d_17\">\n      <path clip-path=\"url(#pec77456a6c)\" d=\"M 481.375487 231.898125 \nL 481.375487 22.318125 \n\" style=\"fill:none;stroke:#ffffff;stroke-linecap:round;\"/>\n     </g>\n     <g id=\"text_17\">\n      <!-- Poor -->\n      <g style=\"fill:#262626;\" transform=\"translate(469.266893 249.756406)scale(0.11 -0.11)\">\n       <use xlink:href=\"#DejaVuSans-80\"/>\n       <use x=\"56.677734\" xlink:href=\"#DejaVuSans-111\"/>\n       <use x=\"117.859375\" xlink:href=\"#DejaVuSans-111\"/>\n       <use x=\"179.041016\" xlink:href=\"#DejaVuSans-114\"/>\n      </g>\n     </g>\n    </g>\n    <g id=\"xtick_8\">\n     <g id=\"line2d_18\">\n      <path clip-path=\"url(#pec77456a6c)\" d=\"M 586.165487 231.898125 \nL 586.165487 22.318125 \n\" style=\"fill:none;stroke:#ffffff;stroke-linecap:round;\"/>\n     </g>\n     <g id=\"text_18\">\n      <!-- Non-poor -->\n      <defs>\n       <path d=\"M 9.8125 72.90625 \nL 23.09375 72.90625 \nL 55.421875 11.921875 \nL 55.421875 72.90625 \nL 64.984375 72.90625 \nL 64.984375 0 \nL 51.703125 0 \nL 19.390625 60.984375 \nL 19.390625 0 \nL 9.8125 0 \nz\n\" id=\"DejaVuSans-78\"/>\n       <path d=\"M 4.890625 31.390625 \nL 31.203125 31.390625 \nL 31.203125 23.390625 \nL 4.890625 23.390625 \nz\n\" id=\"DejaVuSans-45\"/>\n      </defs>\n      <g style=\"fill:#262626;\" transform=\"translate(560.732283 249.756406)scale(0.11 -0.11)\">\n       <use xlink:href=\"#DejaVuSans-78\"/>\n       <use x=\"74.804688\" xlink:href=\"#DejaVuSans-111\"/>\n       <use x=\"135.986328\" xlink:href=\"#DejaVuSans-110\"/>\n       <use x=\"199.365234\" xlink:href=\"#DejaVuSans-45\"/>\n       <use x=\"235.449219\" xlink:href=\"#DejaVuSans-112\"/>\n       <use x=\"298.925781\" xlink:href=\"#DejaVuSans-111\"/>\n       <use x=\"360.107422\" xlink:href=\"#DejaVuSans-111\"/>\n       <use x=\"421.289062\" xlink:href=\"#DejaVuSans-114\"/>\n      </g>\n     </g>\n    </g>\n    <g id=\"text_19\">\n     <!-- Predicted label -->\n     <defs>\n      <path d=\"M 45.40625 46.390625 \nL 45.40625 75.984375 \nL 54.390625 75.984375 \nL 54.390625 0 \nL 45.40625 0 \nL 45.40625 8.203125 \nQ 42.578125 3.328125 38.25 0.953125 \nQ 33.9375 -1.421875 27.875 -1.421875 \nQ 17.96875 -1.421875 11.734375 6.484375 \nQ 5.515625 14.40625 5.515625 27.296875 \nQ 5.515625 40.1875 11.734375 48.09375 \nQ 17.96875 56 27.875 56 \nQ 33.9375 56 38.25 53.625 \nQ 42.578125 51.265625 45.40625 46.390625 \nz\nM 14.796875 27.296875 \nQ 14.796875 17.390625 18.875 11.75 \nQ 22.953125 6.109375 30.078125 6.109375 \nQ 37.203125 6.109375 41.296875 11.75 \nQ 45.40625 17.390625 45.40625 27.296875 \nQ 45.40625 37.203125 41.296875 42.84375 \nQ 37.203125 48.484375 30.078125 48.484375 \nQ 22.953125 48.484375 18.875 42.84375 \nQ 14.796875 37.203125 14.796875 27.296875 \nz\n\" id=\"DejaVuSans-100\"/>\n      <path d=\"M 48.6875 27.296875 \nQ 48.6875 37.203125 44.609375 42.84375 \nQ 40.53125 48.484375 33.40625 48.484375 \nQ 26.265625 48.484375 22.1875 42.84375 \nQ 18.109375 37.203125 18.109375 27.296875 \nQ 18.109375 17.390625 22.1875 11.75 \nQ 26.265625 6.109375 33.40625 6.109375 \nQ 40.53125 6.109375 44.609375 11.75 \nQ 48.6875 17.390625 48.6875 27.296875 \nz\nM 18.109375 46.390625 \nQ 20.953125 51.265625 25.265625 53.625 \nQ 29.59375 56 35.59375 56 \nQ 45.5625 56 51.78125 48.09375 \nQ 58.015625 40.1875 58.015625 27.296875 \nQ 58.015625 14.40625 51.78125 6.484375 \nQ 45.5625 -1.421875 35.59375 -1.421875 \nQ 29.59375 -1.421875 25.265625 0.953125 \nQ 20.953125 3.328125 18.109375 8.203125 \nL 18.109375 0 \nL 9.078125 0 \nL 9.078125 75.984375 \nL 18.109375 75.984375 \nz\n\" id=\"DejaVuSans-98\"/>\n     </defs>\n     <g style=\"fill:#262626;\" transform=\"translate(489.187674 265.162188)scale(0.12 -0.12)\">\n      <use xlink:href=\"#DejaVuSans-80\"/>\n      <use x=\"58.552734\" xlink:href=\"#DejaVuSans-114\"/>\n      <use x=\"97.416016\" xlink:href=\"#DejaVuSans-101\"/>\n      <use x=\"158.939453\" xlink:href=\"#DejaVuSans-100\"/>\n      <use x=\"222.416016\" xlink:href=\"#DejaVuSans-105\"/>\n      <use x=\"250.199219\" xlink:href=\"#DejaVuSans-99\"/>\n      <use x=\"305.179688\" xlink:href=\"#DejaVuSans-116\"/>\n      <use x=\"344.388672\" xlink:href=\"#DejaVuSans-101\"/>\n      <use x=\"405.912109\" xlink:href=\"#DejaVuSans-100\"/>\n      <use x=\"469.388672\" xlink:href=\"#DejaVuSans-32\"/>\n      <use x=\"501.175781\" xlink:href=\"#DejaVuSans-108\"/>\n      <use x=\"528.958984\" xlink:href=\"#DejaVuSans-97\"/>\n      <use x=\"590.238281\" xlink:href=\"#DejaVuSans-98\"/>\n      <use x=\"653.714844\" xlink:href=\"#DejaVuSans-101\"/>\n      <use x=\"715.238281\" xlink:href=\"#DejaVuSans-108\"/>\n     </g>\n    </g>\n   </g>\n   <g id=\"matplotlib.axis_4\">\n    <g id=\"ytick_7\">\n     <g id=\"line2d_19\">\n      <path clip-path=\"url(#pec77456a6c)\" d=\"M 428.980487 74.713125 \nL 638.560487 74.713125 \n\" style=\"fill:none;stroke:#ffffff;stroke-linecap:round;\"/>\n     </g>\n     <g id=\"text_20\">\n      <!-- Poor -->\n      <g style=\"fill:#262626;\" transform=\"translate(395.263299 78.892266)scale(0.11 -0.11)\">\n       <use xlink:href=\"#DejaVuSans-80\"/>\n       <use x=\"56.677734\" xlink:href=\"#DejaVuSans-111\"/>\n       <use x=\"117.859375\" xlink:href=\"#DejaVuSans-111\"/>\n       <use x=\"179.041016\" xlink:href=\"#DejaVuSans-114\"/>\n      </g>\n     </g>\n    </g>\n    <g id=\"ytick_8\">\n     <g id=\"line2d_20\">\n      <path clip-path=\"url(#pec77456a6c)\" d=\"M 428.980487 179.503125 \nL 638.560487 179.503125 \n\" style=\"fill:none;stroke:#ffffff;stroke-linecap:round;\"/>\n     </g>\n     <g id=\"text_21\">\n      <!-- Non-poor -->\n      <g style=\"fill:#262626;\" transform=\"translate(368.61408 183.682266)scale(0.11 -0.11)\">\n       <use xlink:href=\"#DejaVuSans-78\"/>\n       <use x=\"74.804688\" xlink:href=\"#DejaVuSans-111\"/>\n       <use x=\"135.986328\" xlink:href=\"#DejaVuSans-110\"/>\n       <use x=\"199.365234\" xlink:href=\"#DejaVuSans-45\"/>\n       <use x=\"235.449219\" xlink:href=\"#DejaVuSans-112\"/>\n       <use x=\"298.925781\" xlink:href=\"#DejaVuSans-111\"/>\n       <use x=\"360.107422\" xlink:href=\"#DejaVuSans-111\"/>\n       <use x=\"421.289062\" xlink:href=\"#DejaVuSans-114\"/>\n      </g>\n     </g>\n    </g>\n    <g id=\"text_22\">\n     <!-- True label -->\n     <g style=\"fill:#262626;\" transform=\"translate(362.118455 156.267188)rotate(-90)scale(0.12 -0.12)\">\n      <use xlink:href=\"#DejaVuSans-84\"/>\n      <use x=\"46.333984\" xlink:href=\"#DejaVuSans-114\"/>\n      <use x=\"87.447266\" xlink:href=\"#DejaVuSans-117\"/>\n      <use x=\"150.826172\" xlink:href=\"#DejaVuSans-101\"/>\n      <use x=\"212.349609\" xlink:href=\"#DejaVuSans-32\"/>\n      <use x=\"244.136719\" xlink:href=\"#DejaVuSans-108\"/>\n      <use x=\"271.919922\" xlink:href=\"#DejaVuSans-97\"/>\n      <use x=\"333.199219\" xlink:href=\"#DejaVuSans-98\"/>\n      <use x=\"396.675781\" xlink:href=\"#DejaVuSans-101\"/>\n      <use x=\"458.199219\" xlink:href=\"#DejaVuSans-108\"/>\n     </g>\n    </g>\n   </g>\n   <g id=\"patch_9\">\n    <path d=\"M 428.980487 231.898125 \nL 428.980487 22.318125 \n\" style=\"fill:none;stroke:#ffffff;stroke-linecap:square;stroke-linejoin:miter;stroke-width:1.25;\"/>\n   </g>\n   <g id=\"patch_10\">\n    <path d=\"M 638.560487 231.898125 \nL 638.560487 22.318125 \n\" style=\"fill:none;stroke:#ffffff;stroke-linecap:square;stroke-linejoin:miter;stroke-width:1.25;\"/>\n   </g>\n   <g id=\"patch_11\">\n    <path d=\"M 428.980487 231.898125 \nL 638.560487 231.898125 \n\" style=\"fill:none;stroke:#ffffff;stroke-linecap:square;stroke-linejoin:miter;stroke-width:1.25;\"/>\n   </g>\n   <g id=\"patch_12\">\n    <path d=\"M 428.980487 22.318125 \nL 638.560487 22.318125 \n\" style=\"fill:none;stroke:#ffffff;stroke-linecap:square;stroke-linejoin:miter;stroke-width:1.25;\"/>\n   </g>\n   <g id=\"text_23\">\n    <!-- 1225 -->\n    <defs>\n     <path d=\"M 11.71875 12.984375 \nL 28.328125 12.984375 \nL 28.328125 60.109375 \nL 11.28125 56.59375 \nL 11.28125 69.390625 \nL 28.21875 72.90625 \nL 46.09375 72.90625 \nL 46.09375 12.984375 \nL 62.703125 12.984375 \nL 62.703125 0 \nL 11.71875 0 \nz\n\" id=\"DejaVuSans-Bold-49\"/>\n     <path d=\"M 28.8125 13.8125 \nL 60.890625 13.8125 \nL 60.890625 0 \nL 7.90625 0 \nL 7.90625 13.8125 \nL 34.515625 37.3125 \nQ 38.09375 40.53125 39.796875 43.609375 \nQ 41.5 46.6875 41.5 50 \nQ 41.5 55.125 38.0625 58.25 \nQ 34.625 61.375 28.90625 61.375 \nQ 24.515625 61.375 19.28125 59.5 \nQ 14.0625 57.625 8.109375 53.90625 \nL 8.109375 69.921875 \nQ 14.453125 72.015625 20.65625 73.109375 \nQ 26.859375 74.21875 32.8125 74.21875 \nQ 45.90625 74.21875 53.15625 68.453125 \nQ 60.40625 62.703125 60.40625 52.390625 \nQ 60.40625 46.4375 57.328125 41.28125 \nQ 54.25 36.140625 44.390625 27.484375 \nz\n\" id=\"DejaVuSans-Bold-50\"/>\n     <path d=\"M 10.59375 72.90625 \nL 57.328125 72.90625 \nL 57.328125 59.078125 \nL 25.59375 59.078125 \nL 25.59375 47.796875 \nQ 27.734375 48.390625 29.90625 48.703125 \nQ 32.078125 49.03125 34.421875 49.03125 \nQ 47.75 49.03125 55.171875 42.359375 \nQ 62.59375 35.6875 62.59375 23.78125 \nQ 62.59375 11.96875 54.515625 5.265625 \nQ 46.4375 -1.421875 32.078125 -1.421875 \nQ 25.875 -1.421875 19.796875 -0.21875 \nQ 13.71875 0.984375 7.71875 3.421875 \nL 7.71875 18.21875 \nQ 13.671875 14.796875 19.015625 13.078125 \nQ 24.359375 11.375 29.109375 11.375 \nQ 35.9375 11.375 39.859375 14.71875 \nQ 43.796875 18.0625 43.796875 23.78125 \nQ 43.796875 29.546875 39.859375 32.859375 \nQ 35.9375 36.1875 29.109375 36.1875 \nQ 25.046875 36.1875 20.453125 35.125 \nQ 15.875 34.078125 10.59375 31.890625 \nz\n\" id=\"DejaVuSans-Bold-53\"/>\n    </defs>\n    <g style=\"fill:#ffffff;\" transform=\"translate(461.893612 70.737781)scale(0.14 -0.14)\">\n     <use xlink:href=\"#DejaVuSans-Bold-49\"/>\n     <use x=\"69.580078\" xlink:href=\"#DejaVuSans-Bold-50\"/>\n     <use x=\"139.160156\" xlink:href=\"#DejaVuSans-Bold-50\"/>\n     <use x=\"208.740234\" xlink:href=\"#DejaVuSans-Bold-53\"/>\n    </g>\n    <!-- 88.6% -->\n    <defs>\n     <path d=\"M 34.8125 32.625 \nQ 29.546875 32.625 26.703125 29.734375 \nQ 23.875 26.859375 23.875 21.484375 \nQ 23.875 16.109375 26.703125 13.25 \nQ 29.546875 10.40625 34.8125 10.40625 \nQ 40.046875 10.40625 42.828125 13.25 \nQ 45.609375 16.109375 45.609375 21.484375 \nQ 45.609375 26.90625 42.828125 29.765625 \nQ 40.046875 32.625 34.8125 32.625 \nz\nM 21.09375 38.8125 \nQ 14.453125 40.828125 11.078125 44.96875 \nQ 7.71875 49.125 7.71875 55.328125 \nQ 7.71875 64.546875 14.59375 69.375 \nQ 21.484375 74.21875 34.8125 74.21875 \nQ 48.046875 74.21875 54.921875 69.40625 \nQ 61.8125 64.59375 61.8125 55.328125 \nQ 61.8125 49.125 58.421875 44.96875 \nQ 55.03125 40.828125 48.390625 38.8125 \nQ 55.8125 36.765625 59.59375 32.15625 \nQ 63.375 27.546875 63.375 20.515625 \nQ 63.375 9.671875 56.171875 4.125 \nQ 48.96875 -1.421875 34.8125 -1.421875 \nQ 20.609375 -1.421875 13.359375 4.125 \nQ 6.109375 9.671875 6.109375 20.515625 \nQ 6.109375 27.546875 9.890625 32.15625 \nQ 13.671875 36.765625 21.09375 38.8125 \nz\nM 25.484375 53.421875 \nQ 25.484375 49.078125 27.90625 46.734375 \nQ 30.328125 44.390625 34.8125 44.390625 \nQ 39.203125 44.390625 41.59375 46.734375 \nQ 44 49.078125 44 53.421875 \nQ 44 57.765625 41.59375 60.078125 \nQ 39.203125 62.40625 34.8125 62.40625 \nQ 30.328125 62.40625 27.90625 60.0625 \nQ 25.484375 57.71875 25.484375 53.421875 \nz\n\" id=\"DejaVuSans-Bold-56\"/>\n     <path d=\"M 10.203125 18.890625 \nL 27.78125 18.890625 \nL 27.78125 0 \nL 10.203125 0 \nz\n\" id=\"DejaVuSans-Bold-46\"/>\n     <path d=\"M 36.1875 35.984375 \nQ 31.25 35.984375 28.78125 32.78125 \nQ 26.3125 29.59375 26.3125 23.1875 \nQ 26.3125 16.796875 28.78125 13.59375 \nQ 31.25 10.40625 36.1875 10.40625 \nQ 41.15625 10.40625 43.625 13.59375 \nQ 46.09375 16.796875 46.09375 23.1875 \nQ 46.09375 29.59375 43.625 32.78125 \nQ 41.15625 35.984375 36.1875 35.984375 \nz\nM 59.421875 71 \nL 59.421875 57.515625 \nQ 54.78125 59.71875 50.671875 60.765625 \nQ 46.578125 61.8125 42.671875 61.8125 \nQ 34.28125 61.8125 29.59375 57.140625 \nQ 24.90625 52.484375 24.125 43.3125 \nQ 27.34375 45.703125 31.09375 46.890625 \nQ 34.859375 48.09375 39.3125 48.09375 \nQ 50.484375 48.09375 57.34375 41.546875 \nQ 64.203125 35.015625 64.203125 24.421875 \nQ 64.203125 12.703125 56.53125 5.640625 \nQ 48.875 -1.421875 35.984375 -1.421875 \nQ 21.78125 -1.421875 13.984375 8.171875 \nQ 6.203125 17.78125 6.203125 35.40625 \nQ 6.203125 53.46875 15.3125 63.796875 \nQ 24.421875 74.125 40.28125 74.125 \nQ 45.3125 74.125 50.046875 73.34375 \nQ 54.78125 72.5625 59.421875 71 \nz\n\" id=\"DejaVuSans-Bold-54\"/>\n     <path d=\"M 77.484375 30.078125 \nQ 74.03125 30.078125 72.125 27.078125 \nQ 70.21875 24.078125 70.21875 18.5 \nQ 70.21875 12.890625 72.09375 9.890625 \nQ 73.96875 6.890625 77.484375 6.890625 \nQ 81 6.890625 82.859375 9.890625 \nQ 84.71875 12.890625 84.71875 18.5 \nQ 84.71875 24.078125 82.828125 27.078125 \nQ 80.953125 30.078125 77.484375 30.078125 \nz\nM 77.484375 38.28125 \nQ 86.578125 38.28125 91.796875 33 \nQ 97.015625 27.734375 97.015625 18.5 \nQ 97.015625 9.28125 91.796875 3.921875 \nQ 86.578125 -1.421875 77.484375 -1.421875 \nQ 68.40625 -1.421875 63.15625 3.921875 \nQ 57.90625 9.28125 57.90625 18.5 \nQ 57.90625 27.6875 63.15625 32.984375 \nQ 68.40625 38.28125 77.484375 38.28125 \nz\nM 32.71875 -1.421875 \nL 21.921875 -1.421875 \nL 67.484375 74.21875 \nL 78.328125 74.21875 \nz\nM 22.703125 74.21875 \nQ 31.78125 74.21875 36.984375 68.921875 \nQ 42.1875 63.625 42.1875 54.390625 \nQ 42.1875 45.171875 36.984375 39.84375 \nQ 31.78125 34.515625 22.703125 34.515625 \nQ 13.625 34.515625 8.421875 39.84375 \nQ 3.21875 45.171875 3.21875 54.390625 \nQ 3.21875 63.625 8.421875 68.921875 \nQ 13.625 74.21875 22.703125 74.21875 \nz\nM 22.703125 66.015625 \nQ 19.1875 66.015625 17.28125 62.984375 \nQ 15.375 59.96875 15.375 54.390625 \nQ 15.375 48.78125 17.28125 45.71875 \nQ 19.1875 42.671875 22.703125 42.671875 \nQ 26.21875 42.671875 28.09375 45.71875 \nQ 29.984375 48.78125 29.984375 54.390625 \nQ 29.984375 59.96875 28.078125 62.984375 \nQ 26.171875 66.015625 22.703125 66.015625 \nz\n\" id=\"DejaVuSans-Bold-37\"/>\n    </defs>\n    <g style=\"fill:#ffffff;\" transform=\"translate(457.090955 86.414719)scale(0.14 -0.14)\">\n     <use xlink:href=\"#DejaVuSans-Bold-56\"/>\n     <use x=\"69.580078\" xlink:href=\"#DejaVuSans-Bold-56\"/>\n     <use x=\"139.160156\" xlink:href=\"#DejaVuSans-Bold-46\"/>\n     <use x=\"177.148438\" xlink:href=\"#DejaVuSans-Bold-54\"/>\n     <use x=\"246.728516\" xlink:href=\"#DejaVuSans-Bold-37\"/>\n    </g>\n   </g>\n   <g id=\"text_24\">\n    <!-- 157 -->\n    <defs>\n     <path d=\"M 6.6875 72.90625 \nL 61.625 72.90625 \nL 61.625 62.3125 \nL 33.203125 0 \nL 14.890625 0 \nL 41.796875 59.078125 \nL 6.6875 59.078125 \nz\n\" id=\"DejaVuSans-Bold-55\"/>\n    </defs>\n    <g transform=\"translate(571.55408 70.737781)scale(0.14 -0.14)\">\n     <use xlink:href=\"#DejaVuSans-Bold-49\"/>\n     <use x=\"69.580078\" xlink:href=\"#DejaVuSans-Bold-53\"/>\n     <use x=\"139.160156\" xlink:href=\"#DejaVuSans-Bold-55\"/>\n    </g>\n    <!-- 11.4% -->\n    <defs>\n     <path d=\"M 36.8125 57.421875 \nL 16.21875 26.90625 \nL 36.8125 26.90625 \nz\nM 33.6875 72.90625 \nL 54.59375 72.90625 \nL 54.59375 26.90625 \nL 64.984375 26.90625 \nL 64.984375 13.28125 \nL 54.59375 13.28125 \nL 54.59375 0 \nL 36.8125 0 \nL 36.8125 13.28125 \nL 4.5 13.28125 \nL 4.5 29.390625 \nz\n\" id=\"DejaVuSans-Bold-52\"/>\n    </defs>\n    <g transform=\"translate(561.880955 86.414719)scale(0.14 -0.14)\">\n     <use xlink:href=\"#DejaVuSans-Bold-49\"/>\n     <use x=\"69.580078\" xlink:href=\"#DejaVuSans-Bold-49\"/>\n     <use x=\"139.160156\" xlink:href=\"#DejaVuSans-Bold-46\"/>\n     <use x=\"177.148438\" xlink:href=\"#DejaVuSans-Bold-52\"/>\n     <use x=\"246.728516\" xlink:href=\"#DejaVuSans-Bold-37\"/>\n    </g>\n   </g>\n   <g id=\"text_25\">\n    <!-- 902 -->\n    <defs>\n     <path d=\"M 10.015625 1.609375 \nL 10.015625 15.09375 \nQ 14.5 12.984375 18.59375 11.9375 \nQ 22.703125 10.890625 26.703125 10.890625 \nQ 35.109375 10.890625 39.796875 15.546875 \nQ 44.484375 20.21875 45.3125 29.390625 \nQ 42 26.953125 38.234375 25.734375 \nQ 34.46875 24.515625 30.078125 24.515625 \nQ 18.890625 24.515625 12.03125 31.03125 \nQ 5.171875 37.546875 5.171875 48.1875 \nQ 5.171875 59.96875 12.8125 67.046875 \nQ 20.453125 74.125 33.296875 74.125 \nQ 47.5625 74.125 55.375 64.5 \nQ 63.1875 54.890625 63.1875 37.3125 \nQ 63.1875 19.234375 54.046875 8.90625 \nQ 44.921875 -1.421875 29 -1.421875 \nQ 23.875 -1.421875 19.1875 -0.65625 \nQ 14.5 0.09375 10.015625 1.609375 \nz\nM 33.203125 36.71875 \nQ 38.140625 36.71875 40.625 39.90625 \nQ 43.109375 43.109375 43.109375 49.515625 \nQ 43.109375 55.859375 40.625 59.078125 \nQ 38.140625 62.3125 33.203125 62.3125 \nQ 28.265625 62.3125 25.78125 59.078125 \nQ 23.296875 55.859375 23.296875 49.515625 \nQ 23.296875 43.109375 25.78125 39.90625 \nQ 28.265625 36.71875 33.203125 36.71875 \nz\n\" id=\"DejaVuSans-Bold-57\"/>\n     <path d=\"M 46 36.53125 \nQ 46 50.203125 43.4375 55.78125 \nQ 40.875 61.375 34.8125 61.375 \nQ 28.765625 61.375 26.171875 55.78125 \nQ 23.578125 50.203125 23.578125 36.53125 \nQ 23.578125 22.703125 26.171875 17.03125 \nQ 28.765625 11.375 34.8125 11.375 \nQ 40.828125 11.375 43.40625 17.03125 \nQ 46 22.703125 46 36.53125 \nz\nM 64.796875 36.375 \nQ 64.796875 18.265625 56.984375 8.421875 \nQ 49.171875 -1.421875 34.8125 -1.421875 \nQ 20.40625 -1.421875 12.59375 8.421875 \nQ 4.78125 18.265625 4.78125 36.375 \nQ 4.78125 54.546875 12.59375 64.375 \nQ 20.40625 74.21875 34.8125 74.21875 \nQ 49.171875 74.21875 56.984375 64.375 \nQ 64.796875 54.546875 64.796875 36.375 \nz\n\" id=\"DejaVuSans-Bold-48\"/>\n    </defs>\n    <g style=\"fill:#ffffff;\" transform=\"translate(466.76408 175.527781)scale(0.14 -0.14)\">\n     <use xlink:href=\"#DejaVuSans-Bold-57\"/>\n     <use x=\"69.580078\" xlink:href=\"#DejaVuSans-Bold-48\"/>\n     <use x=\"139.160156\" xlink:href=\"#DejaVuSans-Bold-50\"/>\n    </g>\n    <!-- 53.7% -->\n    <defs>\n     <path d=\"M 46.578125 39.3125 \nQ 53.953125 37.40625 57.78125 32.6875 \nQ 61.625 27.984375 61.625 20.703125 \nQ 61.625 9.859375 53.3125 4.21875 \nQ 45.015625 -1.421875 29.109375 -1.421875 \nQ 23.484375 -1.421875 17.84375 -0.515625 \nQ 12.203125 0.390625 6.6875 2.203125 \nL 6.6875 16.703125 \nQ 11.96875 14.0625 17.15625 12.71875 \nQ 22.359375 11.375 27.390625 11.375 \nQ 34.859375 11.375 38.84375 13.953125 \nQ 42.828125 16.546875 42.828125 21.390625 \nQ 42.828125 26.375 38.75 28.9375 \nQ 34.671875 31.5 26.703125 31.5 \nL 19.1875 31.5 \nL 19.1875 43.609375 \nL 27.09375 43.609375 \nQ 34.1875 43.609375 37.640625 45.828125 \nQ 41.109375 48.046875 41.109375 52.59375 \nQ 41.109375 56.78125 37.734375 59.078125 \nQ 34.375 61.375 28.21875 61.375 \nQ 23.6875 61.375 19.046875 60.34375 \nQ 14.40625 59.328125 9.8125 57.328125 \nL 9.8125 71.09375 \nQ 15.375 72.65625 20.84375 73.4375 \nQ 26.3125 74.21875 31.59375 74.21875 \nQ 45.796875 74.21875 52.84375 69.546875 \nQ 59.90625 64.890625 59.90625 55.515625 \nQ 59.90625 49.125 56.53125 45.046875 \nQ 53.171875 40.96875 46.578125 39.3125 \nz\n\" id=\"DejaVuSans-Bold-51\"/>\n    </defs>\n    <g style=\"fill:#ffffff;\" transform=\"translate(457.090955 191.204719)scale(0.14 -0.14)\">\n     <use xlink:href=\"#DejaVuSans-Bold-53\"/>\n     <use x=\"69.580078\" xlink:href=\"#DejaVuSans-Bold-51\"/>\n     <use x=\"139.160156\" xlink:href=\"#DejaVuSans-Bold-46\"/>\n     <use x=\"177.148438\" xlink:href=\"#DejaVuSans-Bold-55\"/>\n     <use x=\"246.728516\" xlink:href=\"#DejaVuSans-Bold-37\"/>\n    </g>\n   </g>\n   <g id=\"text_26\">\n    <!-- 777 -->\n    <g style=\"fill:#ffffff;\" transform=\"translate(571.55408 175.527781)scale(0.14 -0.14)\">\n     <use xlink:href=\"#DejaVuSans-Bold-55\"/>\n     <use x=\"69.580078\" xlink:href=\"#DejaVuSans-Bold-55\"/>\n     <use x=\"139.160156\" xlink:href=\"#DejaVuSans-Bold-55\"/>\n    </g>\n    <!-- 46.3% -->\n    <g style=\"fill:#ffffff;\" transform=\"translate(561.880955 191.204719)scale(0.14 -0.14)\">\n     <use xlink:href=\"#DejaVuSans-Bold-52\"/>\n     <use x=\"69.580078\" xlink:href=\"#DejaVuSans-Bold-54\"/>\n     <use x=\"139.160156\" xlink:href=\"#DejaVuSans-Bold-46\"/>\n     <use x=\"177.148438\" xlink:href=\"#DejaVuSans-Bold-51\"/>\n     <use x=\"246.728516\" xlink:href=\"#DejaVuSans-Bold-37\"/>\n    </g>\n   </g>\n   <g id=\"text_27\">\n    <!-- Confusion matrix -->\n    <defs>\n     <path d=\"M 37.109375 75.984375 \nL 37.109375 68.5 \nL 28.515625 68.5 \nQ 23.6875 68.5 21.796875 66.546875 \nQ 19.921875 64.59375 19.921875 59.515625 \nL 19.921875 54.6875 \nL 34.71875 54.6875 \nL 34.71875 47.703125 \nL 19.921875 47.703125 \nL 19.921875 0 \nL 10.890625 0 \nL 10.890625 47.703125 \nL 2.296875 47.703125 \nL 2.296875 54.6875 \nL 10.890625 54.6875 \nL 10.890625 58.5 \nQ 10.890625 67.625 15.140625 71.796875 \nQ 19.390625 75.984375 28.609375 75.984375 \nz\n\" id=\"DejaVuSans-102\"/>\n     <path d=\"M 54.890625 54.6875 \nL 35.109375 28.078125 \nL 55.90625 0 \nL 45.3125 0 \nL 29.390625 21.484375 \nL 13.484375 0 \nL 2.875 0 \nL 24.125 28.609375 \nL 4.6875 54.6875 \nL 15.28125 54.6875 \nL 29.78125 35.203125 \nL 44.28125 54.6875 \nz\n\" id=\"DejaVuSans-120\"/>\n    </defs>\n    <g style=\"fill:#262626;\" transform=\"translate(482.461112 16.318125)scale(0.12 -0.12)\">\n     <use xlink:href=\"#DejaVuSans-67\"/>\n     <use x=\"69.824219\" xlink:href=\"#DejaVuSans-111\"/>\n     <use x=\"131.005859\" xlink:href=\"#DejaVuSans-110\"/>\n     <use x=\"194.384766\" xlink:href=\"#DejaVuSans-102\"/>\n     <use x=\"229.589844\" xlink:href=\"#DejaVuSans-117\"/>\n     <use x=\"292.96875\" xlink:href=\"#DejaVuSans-115\"/>\n     <use x=\"345.068359\" xlink:href=\"#DejaVuSans-105\"/>\n     <use x=\"372.851562\" xlink:href=\"#DejaVuSans-111\"/>\n     <use x=\"434.033203\" xlink:href=\"#DejaVuSans-110\"/>\n     <use x=\"497.412109\" xlink:href=\"#DejaVuSans-32\"/>\n     <use x=\"529.199219\" xlink:href=\"#DejaVuSans-109\"/>\n     <use x=\"626.611328\" xlink:href=\"#DejaVuSans-97\"/>\n     <use x=\"687.890625\" xlink:href=\"#DejaVuSans-116\"/>\n     <use x=\"727.099609\" xlink:href=\"#DejaVuSans-114\"/>\n     <use x=\"768.212891\" xlink:href=\"#DejaVuSans-105\"/>\n     <use x=\"795.996094\" xlink:href=\"#DejaVuSans-120\"/>\n    </g>\n   </g>\n  </g>\n  <g id=\"axes_3\">\n   <g id=\"patch_13\">\n    <path clip-path=\"url(#p68138d330d)\" d=\"M 652.157175 200.461125 \nL 652.157175 199.888055 \nL 652.157175 54.328195 \nL 652.157175 53.755125 \nL 659.492475 53.755125 \nL 659.492475 54.328195 \nL 659.492475 199.888055 \nL 659.492475 200.461125 \nz\n\" style=\"fill:#eaeaf2;stroke:#eaeaf2;stroke-linejoin:miter;stroke-width:0.01;\"/>\n   </g>\n   <g id=\"matplotlib.axis_5\"/>\n   <g id=\"matplotlib.axis_6\">\n    <g id=\"ytick_9\">\n     <g id=\"line2d_21\">\n      <defs>\n       <path d=\"M 0 0 \nL 6 0 \n\" id=\"m5abc78a70b\" style=\"stroke:#262626;stroke-width:1.25;\"/>\n      </defs>\n      <g>\n       <use style=\"fill:#262626;stroke:#262626;stroke-width:1.25;\" x=\"659.492475\" xlink:href=\"#m5abc78a70b\" y=\"194.554423\"/>\n      </g>\n     </g>\n     <g id=\"text_28\">\n      <!-- 200 -->\n      <g style=\"fill:#262626;\" transform=\"translate(668.992475 198.733563)scale(0.11 -0.11)\">\n       <use xlink:href=\"#DejaVuSans-50\"/>\n       <use x=\"63.623047\" xlink:href=\"#DejaVuSans-48\"/>\n       <use x=\"127.246094\" xlink:href=\"#DejaVuSans-48\"/>\n      </g>\n     </g>\n    </g>\n    <g id=\"ytick_10\">\n     <g id=\"line2d_22\">\n      <g>\n       <use style=\"fill:#262626;stroke:#262626;stroke-width:1.25;\" x=\"659.492475\" xlink:href=\"#m5abc78a70b\" y=\"167.081389\"/>\n      </g>\n     </g>\n     <g id=\"text_29\">\n      <!-- 400 -->\n      <g style=\"fill:#262626;\" transform=\"translate(668.992475 171.26053)scale(0.11 -0.11)\">\n       <use xlink:href=\"#DejaVuSans-52\"/>\n       <use x=\"63.623047\" xlink:href=\"#DejaVuSans-48\"/>\n       <use x=\"127.246094\" xlink:href=\"#DejaVuSans-48\"/>\n      </g>\n     </g>\n    </g>\n    <g id=\"ytick_11\">\n     <g id=\"line2d_23\">\n      <g>\n       <use style=\"fill:#262626;stroke:#262626;stroke-width:1.25;\" x=\"659.492475\" xlink:href=\"#m5abc78a70b\" y=\"139.608355\"/>\n      </g>\n     </g>\n     <g id=\"text_30\">\n      <!-- 600 -->\n      <g style=\"fill:#262626;\" transform=\"translate(668.992475 143.787496)scale(0.11 -0.11)\">\n       <use xlink:href=\"#DejaVuSans-54\"/>\n       <use x=\"63.623047\" xlink:href=\"#DejaVuSans-48\"/>\n       <use x=\"127.246094\" xlink:href=\"#DejaVuSans-48\"/>\n      </g>\n     </g>\n    </g>\n    <g id=\"ytick_12\">\n     <g id=\"line2d_24\">\n      <g>\n       <use style=\"fill:#262626;stroke:#262626;stroke-width:1.25;\" x=\"659.492475\" xlink:href=\"#m5abc78a70b\" y=\"112.135322\"/>\n      </g>\n     </g>\n     <g id=\"text_31\">\n      <!-- 800 -->\n      <g style=\"fill:#262626;\" transform=\"translate(668.992475 116.314462)scale(0.11 -0.11)\">\n       <use xlink:href=\"#DejaVuSans-56\"/>\n       <use x=\"63.623047\" xlink:href=\"#DejaVuSans-48\"/>\n       <use x=\"127.246094\" xlink:href=\"#DejaVuSans-48\"/>\n      </g>\n     </g>\n    </g>\n    <g id=\"ytick_13\">\n     <g id=\"line2d_25\">\n      <g>\n       <use style=\"fill:#262626;stroke:#262626;stroke-width:1.25;\" x=\"659.492475\" xlink:href=\"#m5abc78a70b\" y=\"84.662288\"/>\n      </g>\n     </g>\n     <g id=\"text_32\">\n      <!-- 1000 -->\n      <g style=\"fill:#262626;\" transform=\"translate(668.992475 88.841429)scale(0.11 -0.11)\">\n       <use xlink:href=\"#DejaVuSans-49\"/>\n       <use x=\"63.623047\" xlink:href=\"#DejaVuSans-48\"/>\n       <use x=\"127.246094\" xlink:href=\"#DejaVuSans-48\"/>\n       <use x=\"190.869141\" xlink:href=\"#DejaVuSans-48\"/>\n      </g>\n     </g>\n    </g>\n    <g id=\"ytick_14\">\n     <g id=\"line2d_26\">\n      <g>\n       <use style=\"fill:#262626;stroke:#262626;stroke-width:1.25;\" x=\"659.492475\" xlink:href=\"#m5abc78a70b\" y=\"57.189254\"/>\n      </g>\n     </g>\n     <g id=\"text_33\">\n      <!-- 1200 -->\n      <g style=\"fill:#262626;\" transform=\"translate(668.992475 61.368395)scale(0.11 -0.11)\">\n       <use xlink:href=\"#DejaVuSans-49\"/>\n       <use x=\"63.623047\" xlink:href=\"#DejaVuSans-50\"/>\n       <use x=\"127.246094\" xlink:href=\"#DejaVuSans-48\"/>\n       <use x=\"190.869141\" xlink:href=\"#DejaVuSans-48\"/>\n      </g>\n     </g>\n    </g>\n   </g>\n   <image height=\"147\" id=\"image6feda93802\" transform=\"scale(1 -1)translate(0 -147)\" width=\"7\" x=\"652\" xlink:href=\"data:image/png;base64,\niVBORw0KGgoAAAANSUhEUgAAAAcAAACTCAYAAABCpQOGAAAABHNCSVQICAgIfAhkiAAAANNJREFUWIXtl1EOwzAIQ5nE/Y+7jymBnoCH5IhtldpfZIxtkrav9yfTisfTypp5jTPzgCojh9oysgaaJyGDOMG9ZiBsiwOhlCH7Gp1Q1L39u9U8kHKrPLesE5GYJ07LAwUMFEOccthNWxWJm3DCCW0ZCRb5psgOto85R5YapSzi5MgIueSBcDWXngp7qyKbyNQ8xzhndMp7q5/PoTz1Ir95pzjL2t10brjHpzj5k4fb1hcRIxspaltGPjq7aamtxYZiyki9+AtOss9ijXDi78H3vb0AL/F6+9ia/8gAAAAASUVORK5CYII=\" y=\"-53\"/>\n   <g id=\"patch_14\">\n    <path d=\"M 652.157175 200.461125 \nL 652.157175 199.888055 \nL 652.157175 54.328195 \nL 652.157175 53.755125 \nL 659.492475 53.755125 \nL 659.492475 54.328195 \nL 659.492475 199.888055 \nL 659.492475 200.461125 \nz\n\" style=\"fill:none;stroke:#ffffff;stroke-linejoin:miter;stroke-width:1.25;\"/>\n   </g>\n  </g>\n </g>\n <defs>\n  <clipPath id=\"pc2ffb6b500\">\n   <rect height=\"209.58\" width=\"271.933777\" x=\"49.807188\" y=\"22.318125\"/>\n  </clipPath>\n  <clipPath id=\"pec77456a6c\">\n   <rect height=\"209.58\" width=\"209.58\" x=\"428.980487\" y=\"22.318125\"/>\n  </clipPath>\n  <clipPath id=\"p68138d330d\">\n   <rect height=\"146.706\" width=\"7.3353\" x=\"652.157175\" y=\"53.755125\"/>\n  </clipPath>\n </defs>\n</svg>\n",
      "image/png": "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\n"
     },
     "metadata": {}
    },
    {
     "output_type": "display_data",
     "data": {
      "text/plain": "<pandas.io.formats.style.Styler at 0x7fe8c66183c8>",
      "text/html": "<style  type=\"text/css\" >\n</style><table id=\"T_1398c6fa_ac63_11ea_bd14_00155d003219\" ><caption>Model Scores</caption><thead>    <tr>        <th class=\"blank level0\" ></th>        <th class=\"col_heading level0 col0\" >lr_logit_simple</th>    </tr></thead><tbody>\n                <tr>\n                        <th id=\"T_1398c6fa_ac63_11ea_bd14_00155d003219level0_row0\" class=\"row_heading level0 row0\" >accuracy</th>\n                        <td id=\"T_1398c6fa_ac63_11ea_bd14_00155d003219row0_col0\" class=\"data row0 col0\" >0.654035</td>\n            </tr>\n            <tr>\n                        <th id=\"T_1398c6fa_ac63_11ea_bd14_00155d003219level0_row1\" class=\"row_heading level0 row1\" >recall</th>\n                        <td id=\"T_1398c6fa_ac63_11ea_bd14_00155d003219row1_col0\" class=\"data row1 col0\" >0.886397</td>\n            </tr>\n            <tr>\n                        <th id=\"T_1398c6fa_ac63_11ea_bd14_00155d003219level0_row2\" class=\"row_heading level0 row2\" >precision</th>\n                        <td id=\"T_1398c6fa_ac63_11ea_bd14_00155d003219row2_col0\" class=\"data row2 col0\" >0.575929</td>\n            </tr>\n            <tr>\n                        <th id=\"T_1398c6fa_ac63_11ea_bd14_00155d003219level0_row3\" class=\"row_heading level0 row3\" >f1</th>\n                        <td id=\"T_1398c6fa_ac63_11ea_bd14_00155d003219row3_col0\" class=\"data row3 col0\" >0.698205</td>\n            </tr>\n            <tr>\n                        <th id=\"T_1398c6fa_ac63_11ea_bd14_00155d003219level0_row4\" class=\"row_heading level0 row4\" >cross_entropy</th>\n                        <td id=\"T_1398c6fa_ac63_11ea_bd14_00155d003219row4_col0\" class=\"data row4 col0\" >0.902857</td>\n            </tr>\n            <tr>\n                        <th id=\"T_1398c6fa_ac63_11ea_bd14_00155d003219level0_row5\" class=\"row_heading level0 row5\" >roc_auc</th>\n                        <td id=\"T_1398c6fa_ac63_11ea_bd14_00155d003219row5_col0\" class=\"data row5 col0\" >0.804231</td>\n            </tr>\n            <tr>\n                        <th id=\"T_1398c6fa_ac63_11ea_bd14_00155d003219level0_row6\" class=\"row_heading level0 row6\" >cohen_kappa</th>\n                        <td id=\"T_1398c6fa_ac63_11ea_bd14_00155d003219row6_col0\" class=\"data row6 col0\" >0.333282</td>\n            </tr>\n    </tbody></table>"
     },
     "metadata": {}
    },
    {
     "output_type": "error",
     "ename": "NameError",
     "evalue": "name 'pov_rate_actual' is not defined",
     "traceback": [
      "\u001b[0;31m---------------------------------------------------------------------------\u001b[0m",
      "\u001b[0;31mNameError\u001b[0m                                 Traceback (most recent call last)",
      "\u001b[0;32m<ipython-input-25-7ddeb4db2df3>\u001b[0m in \u001b[0;36m<module>\u001b[0;34m\u001b[0m\n\u001b[1;32m      6\u001b[0m                                     \u001b[0mcountry\u001b[0m\u001b[0;34m=\u001b[0m\u001b[0mCOUNTRY\u001b[0m\u001b[0;34m,\u001b[0m\u001b[0;34m\u001b[0m\u001b[0;34m\u001b[0m\u001b[0m\n\u001b[1;32m      7\u001b[0m                                     \u001b[0mmodel\u001b[0m\u001b[0;34m=\u001b[0m\u001b[0mmodel\u001b[0m\u001b[0;34m,\u001b[0m\u001b[0;34m\u001b[0m\u001b[0;34m\u001b[0m\u001b[0m\n\u001b[0;32m----> 8\u001b[0;31m                                     features=coefs)\n\u001b[0m",
      "\u001b[0;32m~/Documents/mkp_code/Institute of Data Course/Project 3/src/models/evaluation.py\u001b[0m in \u001b[0;36mevaluate_model\u001b[0;34m(y_test, y_pred, y_prob, sample_weights, show, compare_models, store_model, model_name, prefix, country, model, features, predict_pov_rate)\u001b[0m\n\u001b[1;32m    166\u001b[0m \u001b[0;34m\u001b[0m\u001b[0m\n\u001b[1;32m    167\u001b[0m         \u001b[0;32mif\u001b[0m \u001b[0;34m(\u001b[0m\u001b[0mpredict_pov_rate\u001b[0m \u001b[0;34m==\u001b[0m \u001b[0;32mTrue\u001b[0m\u001b[0;34m)\u001b[0m \u001b[0;34m&\u001b[0m \u001b[0;34m(\u001b[0m\u001b[0mcountry\u001b[0m \u001b[0;32mis\u001b[0m \u001b[0;32mnot\u001b[0m \u001b[0;32mNone\u001b[0m\u001b[0;34m)\u001b[0m\u001b[0;34m:\u001b[0m\u001b[0;34m\u001b[0m\u001b[0;34m\u001b[0m\u001b[0m\n\u001b[0;32m--> 168\u001b[0;31m             \u001b[0mprint\u001b[0m\u001b[0;34m(\u001b[0m\u001b[0;34m\"Actual poverty rate: {:0.2%} \"\u001b[0m\u001b[0;34m.\u001b[0m\u001b[0mformat\u001b[0m\u001b[0;34m(\u001b[0m\u001b[0mpov_rate_actual\u001b[0m\u001b[0;34m)\u001b[0m\u001b[0;34m)\u001b[0m\u001b[0;34m\u001b[0m\u001b[0;34m\u001b[0m\u001b[0m\n\u001b[0m\u001b[1;32m    169\u001b[0m             \u001b[0mprint\u001b[0m\u001b[0;34m(\u001b[0m\u001b[0;34m\"Predicted poverty rate: {:0.2%} \"\u001b[0m\u001b[0;34m.\u001b[0m\u001b[0mformat\u001b[0m\u001b[0;34m(\u001b[0m\u001b[0mpov_rate_pred\u001b[0m\u001b[0;34m)\u001b[0m\u001b[0;34m)\u001b[0m\u001b[0;34m\u001b[0m\u001b[0;34m\u001b[0m\u001b[0m\n\u001b[1;32m    170\u001b[0m \u001b[0;34m\u001b[0m\u001b[0m\n",
      "\u001b[0;31mNameError\u001b[0m: name 'pov_rate_actual' is not defined"
>>>>>>> b3ed9f8899027b655fd03724d2ac40c7f315cd0e
     ]
    }
   ],
   "source": [
    "# Evaluate performance\n",
    "metrics = evaluation.evaluate_model(y_test, y_pred, y_prob, \n",
    "                                    store_model=True, \n",
    "                                    model_name='logit_simple', \n",
    "                                    prefix=ALGORITHM_NAME, \n",
    "                                    country=COUNTRY, \n",
    "                                    model=model, \n",
    "                                    features=coefs)"
   ]
  },
  {
   "cell_type": "code",
   "execution_count": null,
   "metadata": {},
   "outputs": [],
   "source": []
  },
  {
   "cell_type": "code",
   "execution_count": null,
   "metadata": {},
   "outputs": [],
   "source": []
  },
  {
   "cell_type": "code",
   "execution_count": null,
   "metadata": {},
   "outputs": [],
   "source": []
  }
 ],
 "metadata": {
  "kernelspec": {
   "display_name": "Python 3.6.9 64-bit",
   "language": "python",
   "name": "python36964bita7d32479a3264c2d9b930403e542f58b"
  },
  "language_info": {
   "codemirror_mode": {
    "name": "ipython",
    "version": 3
   },
   "file_extension": ".py",
   "mimetype": "text/x-python",
   "name": "python",
   "nbconvert_exporter": "python",
   "pygments_lexer": "ipython3",
<<<<<<< HEAD
   "version": "3.7.7"
=======
   "version": "3.6.9-final"
>>>>>>> b3ed9f8899027b655fd03724d2ac40c7f315cd0e
  }
 },
 "nbformat": 4,
 "nbformat_minor": 4
}
