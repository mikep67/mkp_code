{
 "cells": [
  {
   "cell_type": "code",
   "execution_count": null,
   "metadata": {},
   "outputs": [],
   "source": []
  },
  {
   "cell_type": "markdown",
   "metadata": {},
   "source": [
    "### Logistic Regression Classifier - Malwai"
   ]
  },
  {
   "cell_type": "code",
   "execution_count": 1,
   "metadata": {},
   "outputs": [
    {
     "output_type": "stream",
     "name": "stderr",
     "text": "Using TensorFlow backend.\n"
    }
   ],
   "source": [
    "%matplotlib inline\n",
    "\n",
    "import os\n",
    "import sys\n",
    "import json\n",
    "import keras\n",
    "\n",
    "import numpy as np\n",
    "import pandas as pd\n",
    "\n",
    "from pathlib import Path\n",
    "from pathlib import PureWindowsPath\n",
    "\n",
    "from matplotlib import pyplot as plt\n",
    "from IPython.display import display\n",
    "import seaborn as sns\n",
    "sns.set()\n",
    "\n",
    "\n",
    "import statsmodels.api as sm\n",
    "from statsmodels.stats.outliers_influence import variance_inflation_factor\n",
    "\n",
    "from sklearn.model_selection import train_test_split\n",
    "from sklearn.linear_model import LogisticRegression\n",
    "from sklearn.model_selection import cross_val_score\n",
    "from sklearn.model_selection import KFold\n",
    "from sklearn import metrics\n",
    "\n",
    "# Add our local functions to the path\n",
    "sys.path.append(os.path.join(os.pardir, 'src'))\n",
    "from models import evaluation\n",
    "from data.load_data import (get_country_filepaths, \n",
    "                            split_features_labels_weights)\n",
    "\n",
    "\n",
    "ALGORITHM_NAME = 'lr'\n",
    "COUNTRY = 'mwi'\n"
   ]
  },
  {
   "cell_type": "code",
   "execution_count": null,
   "metadata": {},
   "outputs": [],
   "source": []
  },
  {
   "cell_type": "code",
   "execution_count": 2,
   "metadata": {},
   "outputs": [],
   "source": [
    "# Load the processed Mwai household:\n",
    "mwi_hhold = pd.read_csv(r\"C:\\Users\\micha\\Documents\\GitHub\\mkp_code\\Institute of Data Course\\Project 3\\data\\csv_data\\MWI_2010_household.csv\")"
   ]
  },
  {
   "cell_type": "code",
   "execution_count": null,
   "metadata": {},
   "outputs": [],
   "source": []
  },
  {
   "cell_type": "code",
   "execution_count": 73,
   "metadata": {},
   "outputs": [
    {
     "output_type": "execute_result",
     "data": {
      "text/plain": "<bound method NDFrame.head of 0        0\n1        0\n2        0\n3        0\n4        1\n        ..\n12239    1\n12240    1\n12241    1\n12242    0\n12243    1\nName: poor, Length: 12244, dtype: int64>"
     },
     "metadata": {},
     "execution_count": 73
    }
   ],
   "source": [
    "mwi_hhold.poor.head"
   ]
  },
  {
   "cell_type": "code",
   "execution_count": null,
   "metadata": {},
   "outputs": [],
   "source": []
  },
  {
   "cell_type": "code",
   "execution_count": 74,
   "metadata": {},
   "outputs": [],
   "source": [
    "y_test = mwi_hhold.poor"
   ]
  },
  {
   "cell_type": "code",
   "execution_count": null,
   "metadata": {},
   "outputs": [],
   "source": []
  },
  {
   "cell_type": "code",
   "execution_count": 3,
   "metadata": {},
   "outputs": [],
   "source": [
    "# Split Malawi data and Indonesia data\n",
    "mwi_train, mwi_test = train_test_split(mwi_hhold, \n",
    "                                       test_size=0.25,\n",
    "                                       random_state=1443,\n",
    "                                       stratify=mwi_hhold.poor)"
   ]
  },
  {
   "cell_type": "code",
   "execution_count": 4,
   "metadata": {},
   "outputs": [
    {
     "output_type": "stream",
     "name": "stdout",
     "text": "Data has 9,183 rows and 488 columns\nPercent poor: 45.1% \tPercent non-poor: 54.9%\n"
    },
    {
     "output_type": "execute_result",
     "data": {
      "text/plain": "                hid    wta_hh   wta_pop  der_hhsize   poor  hld_rooms  \\\n7927   304044580160  170.1948  850.9740           5   True          3   \n4210   205205820123  188.8692  566.6076           3  False          2   \n457    102016880095  143.9194  863.5164           6   True          5   \n11951  315356330210  234.7279  704.1837           3  False          3   \n11428  313061660067   78.5482  157.0964           2  False          1   \n\n       hld_nbcellpho  hld_selfscale  der_nchild10under  der_nmalesover10  ...  \\\n7927             0.0            1.0                  3                 1  ...   \n4210             1.0            3.0                  1                 1  ...   \n457              0.0            2.0                  3                 1  ...   \n11951            3.0            3.0                  1                 1  ...   \n11428            0.0            2.0                  0                 1  ...   \n\n       com_medicines__Yes  com_clinic__Yes  \\\n7927                    0                0   \n4210                    1                0   \n457                     0                0   \n11951                   1                1   \n11428                   1                0   \n\n       com_distclinic__11 to 15 kilometers  \\\n7927                                     0   \n4210                                     0   \n457                                      0   \n11951                                    0   \n11428                                    0   \n\n       com_distclinic__16 to 20 kilometers  \\\n7927                                     0   \n4210                                     0   \n457                                      0   \n11951                                    0   \n11428                                    1   \n\n       com_distclinic__21 to 25 kilometers  \\\n7927                                     0   \n4210                                     0   \n457                                      0   \n11951                                    0   \n11428                                    0   \n\n       com_distclinic__26 to 30 kilometers  \\\n7927                                     0   \n4210                                     0   \n457                                      0   \n11951                                    0   \n11428                                    0   \n\n       com_distclinic__6 to 10 kilometers  \\\n7927                                    0   \n4210                                    0   \n457                                     0   \n11951                                   0   \n11428                                   0   \n\n       com_distclinic__Above 30 kilometers  com_distclinic__nan  com_bank__Yes  \n7927                                     0                    0              0  \n4210                                     0                    0              0  \n457                                      0                    0              0  \n11951                                    0                    1              1  \n11428                                    0                    0              0  \n\n[5 rows x 488 columns]",
      "text/html": "<div>\n<style scoped>\n    .dataframe tbody tr th:only-of-type {\n        vertical-align: middle;\n    }\n\n    .dataframe tbody tr th {\n        vertical-align: top;\n    }\n\n    .dataframe thead th {\n        text-align: right;\n    }\n</style>\n<table border=\"1\" class=\"dataframe\">\n  <thead>\n    <tr style=\"text-align: right;\">\n      <th></th>\n      <th>hid</th>\n      <th>wta_hh</th>\n      <th>wta_pop</th>\n      <th>der_hhsize</th>\n      <th>poor</th>\n      <th>hld_rooms</th>\n      <th>hld_nbcellpho</th>\n      <th>hld_selfscale</th>\n      <th>der_nchild10under</th>\n      <th>der_nmalesover10</th>\n      <th>...</th>\n      <th>com_medicines__Yes</th>\n      <th>com_clinic__Yes</th>\n      <th>com_distclinic__11 to 15 kilometers</th>\n      <th>com_distclinic__16 to 20 kilometers</th>\n      <th>com_distclinic__21 to 25 kilometers</th>\n      <th>com_distclinic__26 to 30 kilometers</th>\n      <th>com_distclinic__6 to 10 kilometers</th>\n      <th>com_distclinic__Above 30 kilometers</th>\n      <th>com_distclinic__nan</th>\n      <th>com_bank__Yes</th>\n    </tr>\n  </thead>\n  <tbody>\n    <tr>\n      <th>7927</th>\n      <td>304044580160</td>\n      <td>170.1948</td>\n      <td>850.9740</td>\n      <td>5</td>\n      <td>True</td>\n      <td>3</td>\n      <td>0.0</td>\n      <td>1.0</td>\n      <td>3</td>\n      <td>1</td>\n      <td>...</td>\n      <td>0</td>\n      <td>0</td>\n      <td>0</td>\n      <td>0</td>\n      <td>0</td>\n      <td>0</td>\n      <td>0</td>\n      <td>0</td>\n      <td>0</td>\n      <td>0</td>\n    </tr>\n    <tr>\n      <th>4210</th>\n      <td>205205820123</td>\n      <td>188.8692</td>\n      <td>566.6076</td>\n      <td>3</td>\n      <td>False</td>\n      <td>2</td>\n      <td>1.0</td>\n      <td>3.0</td>\n      <td>1</td>\n      <td>1</td>\n      <td>...</td>\n      <td>1</td>\n      <td>0</td>\n      <td>0</td>\n      <td>0</td>\n      <td>0</td>\n      <td>0</td>\n      <td>0</td>\n      <td>0</td>\n      <td>0</td>\n      <td>0</td>\n    </tr>\n    <tr>\n      <th>457</th>\n      <td>102016880095</td>\n      <td>143.9194</td>\n      <td>863.5164</td>\n      <td>6</td>\n      <td>True</td>\n      <td>5</td>\n      <td>0.0</td>\n      <td>2.0</td>\n      <td>3</td>\n      <td>1</td>\n      <td>...</td>\n      <td>0</td>\n      <td>0</td>\n      <td>0</td>\n      <td>0</td>\n      <td>0</td>\n      <td>0</td>\n      <td>0</td>\n      <td>0</td>\n      <td>0</td>\n      <td>0</td>\n    </tr>\n    <tr>\n      <th>11951</th>\n      <td>315356330210</td>\n      <td>234.7279</td>\n      <td>704.1837</td>\n      <td>3</td>\n      <td>False</td>\n      <td>3</td>\n      <td>3.0</td>\n      <td>3.0</td>\n      <td>1</td>\n      <td>1</td>\n      <td>...</td>\n      <td>1</td>\n      <td>1</td>\n      <td>0</td>\n      <td>0</td>\n      <td>0</td>\n      <td>0</td>\n      <td>0</td>\n      <td>0</td>\n      <td>1</td>\n      <td>1</td>\n    </tr>\n    <tr>\n      <th>11428</th>\n      <td>313061660067</td>\n      <td>78.5482</td>\n      <td>157.0964</td>\n      <td>2</td>\n      <td>False</td>\n      <td>1</td>\n      <td>0.0</td>\n      <td>2.0</td>\n      <td>0</td>\n      <td>1</td>\n      <td>...</td>\n      <td>1</td>\n      <td>0</td>\n      <td>0</td>\n      <td>1</td>\n      <td>0</td>\n      <td>0</td>\n      <td>0</td>\n      <td>0</td>\n      <td>0</td>\n      <td>0</td>\n    </tr>\n  </tbody>\n</table>\n<p>5 rows × 488 columns</p>\n</div>"
     },
     "metadata": {},
     "execution_count": 4
    }
   ],
   "source": [
    "# summarize Train loaded data\n",
    "print('Data has {:,} rows and {:,} columns' \\\n",
    "        .format(*mwi_train.shape))\n",
    "\n",
    "print('Percent poor: {:0.1%} \\tPercent non-poor: {:0.1%}' \\\n",
    "        .format(*mwi_train.poor.value_counts(normalize=True, ascending=True)))\n",
    "\n",
    "# print first 5 rows of data\n",
    "mwi_train.head()"
   ]
  },
  {
   "cell_type": "code",
   "execution_count": null,
   "metadata": {},
   "outputs": [],
   "source": []
  },
  {
   "cell_type": "code",
   "execution_count": 5,
   "metadata": {},
   "outputs": [
    {
     "output_type": "stream",
     "name": "stdout",
     "text": "X shape with selected columns: (9183, 10)\n"
    }
   ],
   "source": [
    "# Select a few columns for this example\n",
    "selected_columns = [\n",
    "    'der_hhsize', \n",
    "    'der_nchild10under', \n",
    "    'der_nmalesover10', \n",
    "    'der_nfemalesover10',\n",
    "    'der_nliterate', \n",
    "    'der_nemployedpastyear',\n",
    "    'hld_electricity__Yes',\n",
    "    'hld_toilet__None',\n",
    "    'cons_0504__Yes',\n",
    "    'cons_0508__Yes'\n",
    "]\n",
    "\n",
    "print(\"X shape with selected columns:\", mwi_train[selected_columns].shape)"
   ]
  },
  {
   "cell_type": "markdown",
   "metadata": {},
   "source": [
    "## Checking for Multicollinearity:\n",
    "### Calcualting the variance inflation factor (VIF) of each feature."
   ]
  },
  {
   "cell_type": "code",
   "execution_count": 6,
   "metadata": {},
   "outputs": [],
   "source": [
    "def get_vif(X, intercept_col='intercept'):\n",
    "    if intercept_col is not None and intercept_col in X.columns:\n",
    "        X = X.copy().drop(intercept_col, axis=1)\n",
    "    \n",
    "    vi_factors = [variance_inflation_factor(X.values, i)\n",
    "                             for i in range(X.shape[1])]\n",
    "    \n",
    "    return pd.Series(vi_factors,\n",
    "                     index=X.columns,\n",
    "                     name='variance_inflaction_factor')"
   ]
  },
  {
   "cell_type": "code",
   "execution_count": null,
   "metadata": {},
   "outputs": [],
   "source": []
  },
  {
   "cell_type": "code",
   "execution_count": 7,
   "metadata": {},
   "outputs": [
    {
     "output_type": "execute_result",
     "data": {
      "text/plain": "der_hhsize               1142.050480\nder_nchild10under         206.466307\nder_nmalesover10          138.021692\nder_nfemalesover10        141.867242\nder_nliterate               5.616642\nder_nemployedpastyear       1.533041\nhld_electricity__Yes        1.471163\nhld_toilet__None            1.091630\ncons_0504__Yes              1.344652\ncons_0508__Yes              1.341629\nName: variance_inflaction_factor, dtype: float64"
     },
     "metadata": {},
     "execution_count": 7
    }
   ],
   "source": [
    "get_vif(mwi_train[selected_columns])"
   ]
  },
  {
   "cell_type": "code",
   "execution_count": null,
   "metadata": {},
   "outputs": [],
   "source": []
  },
  {
   "cell_type": "markdown",
   "metadata": {},
   "source": [
    "### Standardization "
   ]
  },
  {
   "cell_type": "code",
   "execution_count": 8,
   "metadata": {},
   "outputs": [],
   "source": [
    "# Standardize features\n",
    "def standardize(df, numeric_only=True):\n",
    "    if numeric_only is True:\n",
    "    # find non-boolean columns\n",
    "        cols = df.loc[:, df.dtypes != 'uint8'].columns\n",
    "    else:\n",
    "        cols = df.columns\n",
    "    for field in cols:\n",
    "        mean, std = df[field].mean(), df[field].std()\n",
    "        # account for constant columns\n",
    "        if np.all(df[field] - mean != 0):\n",
    "            df.loc[:, field] = (df[field] - mean) / std\n",
    "    \n",
    "    return df"
   ]
  },
  {
   "cell_type": "code",
   "execution_count": null,
   "metadata": {},
   "outputs": [],
   "source": []
  },
  {
   "cell_type": "code",
   "execution_count": 81,
   "metadata": {},
   "outputs": [
    {
     "output_type": "execute_result",
     "data": {
      "text/plain": "            hid    wta_hh   wta_pop  der_hhsize      poor  hld_rooms  \\\n7517   0.877705  0.349928  0.391977    0.176255  0.907005   1.167342   \n5259  -0.344649  0.460407  0.801713    0.626351 -1.102410  -0.520933   \n6703   0.851865  0.688945  0.677486    0.176255 -1.102410  -1.365070   \n10973  0.993296 -0.168602  0.166037    0.626351 -1.102410  -1.365070   \n7994   0.890670 -0.433803 -0.101975    0.626351 -1.102410  -0.520933   \n\n       hld_nbcellpho  hld_selfscale  der_nchild10under  der_nmalesover10  ...  \\\n7517       -0.612173       1.096303          -1.208830          1.497847  ...   \n5259       -0.612173      -1.132960           0.249676          0.545039  ...   \n6703       -0.612173       1.096303           0.249676         -0.407768  ...   \n10973      -0.612173      -1.132960           0.249676          0.545039  ...   \n7994       -0.612173      -0.018328           1.708181         -0.407768  ...   \n\n       com_medicines__Yes  com_clinic__Yes  \\\n7517            -1.708513        -0.591278   \n5259             0.585241         1.691069   \n6703            -1.708513        -0.591278   \n10973            0.585241        -0.591278   \n7994            -1.708513         1.691069   \n\n       com_distclinic__11 to 15 kilometers  \\\n7517                              3.098851   \n5259                             -0.322665   \n6703                             -0.322665   \n10973                            -0.322665   \n7994                             -0.322665   \n\n       com_distclinic__16 to 20 kilometers  \\\n7517                             -0.198751   \n5259                             -0.198751   \n6703                             -0.198751   \n10973                            -0.198751   \n7994                             -0.198751   \n\n       com_distclinic__21 to 25 kilometers  \\\n7517                             -0.091951   \n5259                             -0.091951   \n6703                             10.874137   \n10973                            -0.091951   \n7994                             -0.091951   \n\n       com_distclinic__26 to 30 kilometers  \\\n7517                             -0.152601   \n5259                             -0.152601   \n6703                             -0.152601   \n10973                            -0.152601   \n7994                             -0.152601   \n\n       com_distclinic__6 to 10 kilometers  \\\n7517                            -0.541448   \n5259                            -0.541448   \n6703                            -0.541448   \n10973                            1.846697   \n7994                            -0.541448   \n\n       com_distclinic__Above 30 kilometers  com_distclinic__nan  com_bank__Yes  \n7517                              -0.14179            -0.591278       -0.25068  \n5259                              -0.14179             1.691069       -0.25068  \n6703                              -0.14179            -0.591278       -0.25068  \n10973                             -0.14179            -0.591278       -0.25068  \n7994                              -0.14179             1.691069       -0.25068  \n\n[5 rows x 488 columns]",
      "text/html": "<div>\n<style scoped>\n    .dataframe tbody tr th:only-of-type {\n        vertical-align: middle;\n    }\n\n    .dataframe tbody tr th {\n        vertical-align: top;\n    }\n\n    .dataframe thead th {\n        text-align: right;\n    }\n</style>\n<table border=\"1\" class=\"dataframe\">\n  <thead>\n    <tr style=\"text-align: right;\">\n      <th></th>\n      <th>hid</th>\n      <th>wta_hh</th>\n      <th>wta_pop</th>\n      <th>der_hhsize</th>\n      <th>poor</th>\n      <th>hld_rooms</th>\n      <th>hld_nbcellpho</th>\n      <th>hld_selfscale</th>\n      <th>der_nchild10under</th>\n      <th>der_nmalesover10</th>\n      <th>...</th>\n      <th>com_medicines__Yes</th>\n      <th>com_clinic__Yes</th>\n      <th>com_distclinic__11 to 15 kilometers</th>\n      <th>com_distclinic__16 to 20 kilometers</th>\n      <th>com_distclinic__21 to 25 kilometers</th>\n      <th>com_distclinic__26 to 30 kilometers</th>\n      <th>com_distclinic__6 to 10 kilometers</th>\n      <th>com_distclinic__Above 30 kilometers</th>\n      <th>com_distclinic__nan</th>\n      <th>com_bank__Yes</th>\n    </tr>\n  </thead>\n  <tbody>\n    <tr>\n      <th>7517</th>\n      <td>0.877705</td>\n      <td>0.349928</td>\n      <td>0.391977</td>\n      <td>0.176255</td>\n      <td>0.907005</td>\n      <td>1.167342</td>\n      <td>-0.612173</td>\n      <td>1.096303</td>\n      <td>-1.208830</td>\n      <td>1.497847</td>\n      <td>...</td>\n      <td>-1.708513</td>\n      <td>-0.591278</td>\n      <td>3.098851</td>\n      <td>-0.198751</td>\n      <td>-0.091951</td>\n      <td>-0.152601</td>\n      <td>-0.541448</td>\n      <td>-0.14179</td>\n      <td>-0.591278</td>\n      <td>-0.25068</td>\n    </tr>\n    <tr>\n      <th>5259</th>\n      <td>-0.344649</td>\n      <td>0.460407</td>\n      <td>0.801713</td>\n      <td>0.626351</td>\n      <td>-1.102410</td>\n      <td>-0.520933</td>\n      <td>-0.612173</td>\n      <td>-1.132960</td>\n      <td>0.249676</td>\n      <td>0.545039</td>\n      <td>...</td>\n      <td>0.585241</td>\n      <td>1.691069</td>\n      <td>-0.322665</td>\n      <td>-0.198751</td>\n      <td>-0.091951</td>\n      <td>-0.152601</td>\n      <td>-0.541448</td>\n      <td>-0.14179</td>\n      <td>1.691069</td>\n      <td>-0.25068</td>\n    </tr>\n    <tr>\n      <th>6703</th>\n      <td>0.851865</td>\n      <td>0.688945</td>\n      <td>0.677486</td>\n      <td>0.176255</td>\n      <td>-1.102410</td>\n      <td>-1.365070</td>\n      <td>-0.612173</td>\n      <td>1.096303</td>\n      <td>0.249676</td>\n      <td>-0.407768</td>\n      <td>...</td>\n      <td>-1.708513</td>\n      <td>-0.591278</td>\n      <td>-0.322665</td>\n      <td>-0.198751</td>\n      <td>10.874137</td>\n      <td>-0.152601</td>\n      <td>-0.541448</td>\n      <td>-0.14179</td>\n      <td>-0.591278</td>\n      <td>-0.25068</td>\n    </tr>\n    <tr>\n      <th>10973</th>\n      <td>0.993296</td>\n      <td>-0.168602</td>\n      <td>0.166037</td>\n      <td>0.626351</td>\n      <td>-1.102410</td>\n      <td>-1.365070</td>\n      <td>-0.612173</td>\n      <td>-1.132960</td>\n      <td>0.249676</td>\n      <td>0.545039</td>\n      <td>...</td>\n      <td>0.585241</td>\n      <td>-0.591278</td>\n      <td>-0.322665</td>\n      <td>-0.198751</td>\n      <td>-0.091951</td>\n      <td>-0.152601</td>\n      <td>1.846697</td>\n      <td>-0.14179</td>\n      <td>-0.591278</td>\n      <td>-0.25068</td>\n    </tr>\n    <tr>\n      <th>7994</th>\n      <td>0.890670</td>\n      <td>-0.433803</td>\n      <td>-0.101975</td>\n      <td>0.626351</td>\n      <td>-1.102410</td>\n      <td>-0.520933</td>\n      <td>-0.612173</td>\n      <td>-0.018328</td>\n      <td>1.708181</td>\n      <td>-0.407768</td>\n      <td>...</td>\n      <td>-1.708513</td>\n      <td>1.691069</td>\n      <td>-0.322665</td>\n      <td>-0.198751</td>\n      <td>-0.091951</td>\n      <td>-0.152601</td>\n      <td>-0.541448</td>\n      <td>-0.14179</td>\n      <td>1.691069</td>\n      <td>-0.25068</td>\n    </tr>\n  </tbody>\n</table>\n<p>5 rows × 488 columns</p>\n</div>"
     },
     "metadata": {},
     "execution_count": 81
    }
   ],
   "source": [
    "standardize(mwi_train)\n",
    "mwi_train.head()"
   ]
  },
  {
   "cell_type": "code",
   "execution_count": null,
   "metadata": {},
   "outputs": [],
   "source": []
  },
  {
   "cell_type": "code",
   "execution_count": 9,
   "metadata": {},
   "outputs": [
    {
     "output_type": "execute_result",
     "data": {
      "text/plain": "der_hhsize               1142.050480\nder_nchild10under         206.466307\nder_nmalesover10          138.021692\nder_nfemalesover10        141.867242\nder_nliterate               5.616642\nder_nemployedpastyear       1.533041\nhld_electricity__Yes        1.471163\nhld_toilet__None            1.091630\ncons_0504__Yes              1.344652\ncons_0508__Yes              1.341629\nName: variance_inflaction_factor, dtype: float64"
     },
     "metadata": {},
     "execution_count": 9
    }
   ],
   "source": [
    "get_vif(mwi_train[selected_columns])"
   ]
  },
  {
   "cell_type": "code",
   "execution_count": 10,
   "metadata": {},
   "outputs": [
    {
     "output_type": "stream",
     "name": "stdout",
     "text": "['der_nchild10under', 'der_nmalesover10', 'der_nfemalesover10', 'der_nliterate', 'der_nemployedpastyear', 'hld_electricity__Yes', 'hld_toilet__None', 'cons_0504__Yes', 'cons_0508__Yes']\n"
    },
    {
     "output_type": "execute_result",
     "data": {
      "text/plain": "der_nchild10under        2.228858\nder_nmalesover10         3.678918\nder_nfemalesover10       4.027538\nder_nliterate            5.616554\nder_nemployedpastyear    1.528315\nhld_electricity__Yes     1.470804\nhld_toilet__None         1.091630\ncons_0504__Yes           1.344010\ncons_0508__Yes           1.341605\nName: variance_inflaction_factor, dtype: float64"
     },
     "metadata": {},
     "execution_count": 10
    }
   ],
   "source": [
    "selected_columns.remove('der_hhsize')\n",
    "print(selected_columns)\n",
    "\n",
    "get_vif(mwi_train[selected_columns])"
   ]
  },
  {
   "cell_type": "code",
   "execution_count": null,
   "metadata": {},
   "outputs": [],
   "source": []
  },
  {
   "cell_type": "code",
   "execution_count": 11,
   "metadata": {},
   "outputs": [
    {
     "output_type": "execute_result",
     "data": {
      "text/plain": "7927      True\n4210     False\n457       True\n11951    False\n11428    False\n         ...  \n5430      True\n11107    False\n769      False\n8471     False\n7712     False\nName: poor, Length: 9183, dtype: bool"
     },
     "metadata": {},
     "execution_count": 11
    }
   ],
   "source": [
    " mwi_train.poor"
   ]
  },
  {
   "cell_type": "code",
   "execution_count": 13,
   "metadata": {},
   "outputs": [],
   "source": [
    "# X is standardised - prepare for model\n",
    "y_train = mwi_train.poor\n",
    "X_train = mwi_train[selected_columns]"
   ]
  },
  {
   "cell_type": "code",
   "execution_count": 14,
   "metadata": {},
   "outputs": [
    {
     "output_type": "stream",
     "name": "stdout",
     "text": "Optimization terminated successfully.\n         Current function value: 0.517076\n         Iterations 8\n"
    }
   ],
   "source": [
    "model = sm.Logit(y_train, X_train[selected_columns])\n",
    "model = model.fit()"
   ]
  },
  {
   "cell_type": "code",
   "execution_count": null,
   "metadata": {},
   "outputs": [],
   "source": []
  },
  {
   "cell_type": "code",
   "execution_count": null,
   "metadata": {},
   "outputs": [],
   "source": []
  },
  {
   "cell_type": "code",
   "execution_count": null,
   "metadata": {},
   "outputs": [],
   "source": []
  },
  {
   "cell_type": "code",
   "execution_count": null,
   "metadata": {},
   "outputs": [],
   "source": []
  },
  {
   "cell_type": "code",
   "execution_count": null,
   "metadata": {},
   "outputs": [],
   "source": []
  },
  {
   "cell_type": "code",
   "execution_count": null,
   "metadata": {},
   "outputs": [],
   "source": []
  },
  {
   "cell_type": "code",
   "execution_count": null,
   "metadata": {},
   "outputs": [],
   "source": []
  },
  {
   "cell_type": "code",
   "execution_count": null,
   "metadata": {},
   "outputs": [],
   "source": []
  },
  {
   "cell_type": "code",
   "execution_count": null,
   "metadata": {},
   "outputs": [],
   "source": []
  },
  {
   "cell_type": "code",
   "execution_count": null,
   "metadata": {},
   "outputs": [],
   "source": []
  },
  {
   "cell_type": "code",
   "execution_count": 15,
   "metadata": {},
   "outputs": [
    {
     "output_type": "error",
     "ename": "NameError",
     "evalue": "name 'X' is not defined",
     "traceback": [
      "\u001b[1;31m---------------------------------------------------------------------------\u001b[0m",
      "\u001b[1;31mNameError\u001b[0m                                 Traceback (most recent call last)",
      "\u001b[1;32m<ipython-input-15-fdc383a63b9e>\u001b[0m in \u001b[0;36m<module>\u001b[1;34m\u001b[0m\n\u001b[0;32m      1\u001b[0m \u001b[1;31m# Split the dataset\u001b[0m\u001b[1;33m\u001b[0m\u001b[1;33m\u001b[0m\u001b[1;33m\u001b[0m\u001b[0m\n\u001b[1;32m----> 2\u001b[1;33m \u001b[0mX_train\u001b[0m\u001b[1;33m,\u001b[0m \u001b[0mX_test\u001b[0m\u001b[1;33m,\u001b[0m \u001b[0my_train\u001b[0m\u001b[1;33m,\u001b[0m \u001b[0my_test\u001b[0m \u001b[1;33m=\u001b[0m \u001b[0mtrain_test_split\u001b[0m\u001b[1;33m(\u001b[0m\u001b[0mX\u001b[0m\u001b[1;33m,\u001b[0m \u001b[0my\u001b[0m\u001b[1;33m,\u001b[0m \u001b[0mrandom_state\u001b[0m\u001b[1;33m=\u001b[0m\u001b[1;36m1\u001b[0m\u001b[1;33m)\u001b[0m\u001b[1;33m\u001b[0m\u001b[1;33m\u001b[0m\u001b[0m\n\u001b[0m",
      "\u001b[1;31mNameError\u001b[0m: name 'X' is not defined"
     ]
    }
   ],
   "source": [
    "# Split the dataset\n",
    "X_train, X_test, y_train, y_test = train_test_split(X, y, random_state=1)"
   ]
  },
  {
   "cell_type": "code",
   "execution_count": null,
   "metadata": {},
   "outputs": [],
   "source": []
  },
  {
   "cell_type": "code",
   "execution_count": null,
   "metadata": {},
   "outputs": [],
   "source": []
  },
  {
   "cell_type": "code",
   "execution_count": null,
   "metadata": {},
   "outputs": [],
   "source": []
  },
  {
   "cell_type": "code",
   "execution_count": null,
   "metadata": {},
   "outputs": [],
   "source": []
  },
  {
   "cell_type": "code",
   "execution_count": null,
   "metadata": {},
   "outputs": [],
   "source": []
  }
 ],
 "metadata": {
  "kernelspec": {
   "display_name": "Python 3",
   "language": "python",
   "name": "python3"
  },
  "language_info": {
   "codemirror_mode": {
    "name": "ipython",
    "version": 3
   },
   "file_extension": ".py",
   "mimetype": "text/x-python",
   "name": "python",
   "nbconvert_exporter": "python",
   "pygments_lexer": "ipython3",
   "version": "3.7.7-final"
  }
 },
 "nbformat": 4,
 "nbformat_minor": 4
}