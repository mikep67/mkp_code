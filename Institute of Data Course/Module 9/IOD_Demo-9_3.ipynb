{
 "cells": [
  {
   "cell_type": "markdown",
   "metadata": {
    "colab_type": "text",
    "id": "g5Py-h5uKz_h"
   },
   "source": [
    "<div>\n",
    "<img src=https://www.institutedata.com/wp-content/uploads/2019/10/iod_h_tp_primary_c.svg width=\"300\">\n",
    "</div>\n",
    "\n"
   ]
  },
  {
   "cell_type": "markdown",
   "metadata": {
    "colab_type": "text",
    "id": "1tNoh0nfKz_l"
   },
   "source": [
    "# Demo 9.3: Web Scraping\n",
    "\n",
    "INSTRUCTIONS:\n",
    "\n",
    "- Run the cells\n",
    "- Observe and understand the results\n",
    "- Answer the questions"
   ]
  },
  {
   "cell_type": "markdown",
   "metadata": {
    "colab_type": "text",
    "id": "WMdVz2YLKz_p"
   },
   "source": [
    "# Web Scraping in Python (using BeautifulSoup)"
   ]
  },
  {
   "cell_type": "markdown",
   "metadata": {
    "colab_type": "text",
    "id": "cczGo5RcKz_s"
   },
   "source": [
    "# Basics HTML\n",
    "Before starting with the code, let’s understand the basics of HTML and some rules of scraping.\n",
    "\n",
    "## HTML tags\n",
    "Below is the source code for a simple HTML webpage.\n",
    "\n",
    "    <!DOCTYPE html>  \n",
    "    <html>  \n",
    "        <head>\n",
    "        </head>\n",
    "        <body>\n",
    "            <h1> First Scraping </h1>\n",
    "            <p> Hello World </p>\n",
    "        <body>\n",
    "    </html>\n",
    "    \n",
    "This is the basic syntax of an HTML webpage. Every `<tag>` serves a block inside the webpage:\n",
    "1. `<!DOCTYPE html>` HTML documents must start with a type declaration.\n",
    "2. The HTML document is contained between `<html>` and `</html>`.\n",
    "3. The meta and script declaration of the HTML document is between `<head>` and `</head>`.\n",
    "4. The visible part of the HTML document is between `<body>` and `</body>` tags.\n",
    "5. Title headings are defined with the `<h1>` through `<h6>` tags.\n",
    "6. Paragraphs are defined with the `<p>` tag.\n",
    "\n",
    "Other useful tags include `<a>` for hyperlinks, `<table>` for tables, `<tr>` for table rows, and `<td>` for table columns.\n",
    "\n",
    "Also, HTML tags sometimes come with `id` or `class` attributes. The `id` attribute specifies a unique id for an HTML tag and the value must be unique within the HTML document. The `class` attribute is used to define equal styles for HTML tags with the same class. We can make use of these ids and classes to help us locate the data we want.\n",
    "\n",
    "## Scraping Rules\n",
    "1. **Always** check a website’s **Terms and Conditions** before you scrape it. Be careful to read the statements about legal use of data. Usually, the retrieved data should not be used for commercial purposes.\n",
    "2. **Do not** request data from the website too aggressively with a program (also known as spamming), as this may break the website. Make sure the program behaves in a reasonable manner (i.e. acts like a human). One request for one webpage per second is good practice.\n",
    "3. The layout of a website may change from time to time, so make sure to revisit the site and rewrite the code as needed"
   ]
  },
  {
   "cell_type": "markdown",
   "metadata": {
    "colab_type": "text",
    "id": "TfxsS1dnKz_v"
   },
   "source": [
    "## Inspecting the Page\n",
    "Let’s take one page from the **Memory Alpha** website as an example.\n",
    "\n",
    "To investigate some relationships let's get the links from this page."
   ]
  },
  {
   "cell_type": "markdown",
   "metadata": {
    "colab_type": "text",
    "id": "R7yt4vvvKz_y"
   },
   "source": [
    "Open the web page on [Prinadora](http://memory-alpha.wikia.com/wiki/Prinadora) with the browser and inspect it.\n",
    "\n",
    "Hover the cursor on the text and follow the shaded box surrounding the main text.\n",
    "\n",
    "From the result, check the main text inside a few levels of HTML tags, which is `<section id=\"WikiaPage\" ...>` → `<div class=\"WikiaPageContentWrapper\">` → `<article id=\"WikiaMainContent\" class=\"WikiaMainContent\">`.\n",
    "\n",
    "It is now known the unique location of the data."
   ]
  },
  {
   "cell_type": "markdown",
   "metadata": {
    "colab_type": "text",
    "id": "4njfjuJcKz_2"
   },
   "source": [
    "![image.png](attachment:image.png)"
   ]
  },
  {
   "cell_type": "code",
   "execution_count": 1,
   "metadata": {
    "colab": {},
    "colab_type": "code",
    "id": "GHnB_5JLKz_5"
   },
   "outputs": [],
   "source": [
    "## Import Libraries\n",
    "import regex as re\n",
    "\n",
    "from urllib.parse import unquote\n",
    "import urllib3\n",
    "from bs4 import BeautifulSoup\n",
    "\n",
    "import warnings\n",
    "warnings.filterwarnings('ignore')"
   ]
  },
  {
   "cell_type": "markdown",
   "metadata": {
    "colab_type": "text",
    "id": "kLPwo1PTK0AB"
   },
   "source": [
    "### Define the content to retrieve (webpage's URL)"
   ]
  },
  {
   "cell_type": "code",
   "execution_count": 2,
   "metadata": {
    "colab": {},
    "colab_type": "code",
    "id": "PiR0AEi0K0AC"
   },
   "outputs": [],
   "source": [
    "# specify the url\n",
    "quote_page = 'http://memory-alpha.wikia.com/wiki/Prinadora'"
   ]
  },
  {
   "cell_type": "markdown",
   "metadata": {
    "colab_type": "text",
    "id": "O6Pdi7U6K0AF"
   },
   "source": [
    "### Retrieve the page\n",
    "- Require Internet connection"
   ]
  },
  {
   "cell_type": "code",
   "execution_count": 3,
   "metadata": {
    "colab": {},
    "colab_type": "code",
    "id": "PO1S9OLOK0AG"
   },
   "outputs": [
    {
     "output_type": "stream",
     "name": "stdout",
     "text": "Type of the variable 'page': bytes\nPage Retrieved. Request Status: 200, Page Size: 234539\n"
    }
   ],
   "source": [
    "# query the website and return the html to the variable ‘page’\n",
    "http = urllib3.PoolManager()\n",
    "r = http.request('GET', quote_page)\n",
    "if r.status == 200:\n",
    "    page = r.data\n",
    "    print('Type of the variable \\'page\\':', page.__class__.__name__)\n",
    "    print('Page Retrieved. Request Status: %d, Page Size: %d' % (r.status, len(page)))\n",
    "else:\n",
    "    print('Some problem occurred. Request Status: %s' % r.status)"
   ]
  },
  {
   "cell_type": "markdown",
   "metadata": {
    "colab_type": "text",
    "id": "XaVlRuBAK0AI"
   },
   "source": [
    "### Convert the stream of bytes into a BeautifulSoup representation"
   ]
  },
  {
   "cell_type": "code",
   "execution_count": 4,
   "metadata": {
    "colab": {},
    "colab_type": "code",
    "id": "dxwddKYZK0AJ"
   },
   "outputs": [
    {
     "output_type": "stream",
     "name": "stdout",
     "text": "Type of the variable 'soup': BeautifulSoup\n"
    }
   ],
   "source": [
    "# parse the html using beautiful soup and store in variable `soup`\n",
    "soup = BeautifulSoup(page, 'html.parser')\n",
    "print('Type of the variable \\'soup\\':', soup.__class__.__name__)"
   ]
  },
  {
   "cell_type": "markdown",
   "metadata": {
    "colab_type": "text",
    "id": "pVw8D21eK0AM"
   },
   "source": [
    "### Check the content\n",
    "- The HTML source\n",
    "- Includes all tags and scripts\n",
    "- Can be long!"
   ]
  },
  {
   "cell_type": "code",
   "execution_count": 5,
   "metadata": {
    "colab": {},
    "colab_type": "code",
    "id": "x5oIwB2tK0AM"
   },
   "outputs": [
    {
     "output_type": "stream",
     "name": "stdout",
     "text": "<!DOCTYPE html>\n<html class=\"\" dir=\"ltr\" lang=\"en\">\n <head>\n  <meta content=\"text/html; charset=utf-8\" http-equiv=\"Content-Type\"/>\n  <meta content=\"width=device-width, user-scalable=yes\" name=\"viewport\"/>\n  <meta content=\"MediaWiki 1.19.24\" name=\"generator\">\n   <meta content=\"Memory Alpha,enmemoryalpha,Prinadora,Ferengi,2373,Divorce,Prinadora's richer man 001,Rom,Son,Nog,Female,Wife,Mother\" name=\"keywords\">\n    <meta content=\"Prinadora was a Ferengi female, the first – and former – wife of Rom and mother of Nog. Rom's first marriage began when he signed a standard five-year marriage contract with Prinadora's father to produce a child. He then made the mistake of falling in love with his wife. As a result, he signed...\" name=\"description\"/>\n    <meta content=\"summary\" name=\"twitter:card\"/>\n    <meta content=\"@getfandom\" name=\"twitter:site\"/>\n    <meta content=\"https://memory-alpha.fandom.com/wiki/Prinadora\" name=\"twitter:url\"/>\n    <meta content=\"Prinadora | Memory Alpha | Fandom\" name=\n"
    }
   ],
   "source": [
    "print(soup.prettify()[:1000])"
   ]
  },
  {
   "cell_type": "markdown",
   "metadata": {
    "colab_type": "text",
    "id": "PJdaDTvYK0AP"
   },
   "source": [
    "### Check the HTML's Title"
   ]
  },
  {
   "cell_type": "code",
   "execution_count": 19,
   "metadata": {
    "colab": {},
    "colab_type": "code",
    "id": "OC0D540CK0AQ",
    "scrolled": false
   },
   "outputs": [
    {
     "name": "stdout",
     "output_type": "stream",
     "text": [
      "Title tag :<title>Prinadora | Memory Alpha | Fandom</title>:\n",
      "Title text:Prinadora | Memory Alpha | Fandom:\n"
     ]
    }
   ],
   "source": [
    "print('Title tag :%s:' % soup.title)\n",
    "print('Title text:%s:' % soup.title.string)"
   ]
  },
  {
   "cell_type": "markdown",
   "metadata": {
    "colab_type": "text",
    "id": "vaFq7vsOK0AY"
   },
   "source": [
    "### Wikimedia's article\n",
    "- Wiki pages use the tag `article` for the actual content of the page\n",
    "\n",
    "        <article class=\"WikiaMainContent\" id=\"WikiaMainContent\">\n",
    "            <div class=\"WikiaMainContentContainer\" id=\"WikiaMainContentContainer\">\n",
    "                <div class=\"WikiaArticle\" id=\"WikiaArticle\">"
   ]
  },
  {
   "cell_type": "code",
   "execution_count": 27,
   "metadata": {
    "colab": {},
    "colab_type": "code",
    "id": "k-HJ_xyiK0AY"
   },
   "outputs": [
    {
     "name": "stdout",
     "output_type": "stream",
     "text": [
      "Type of the variable 'article': Tag\n"
     ]
    }
   ],
   "source": [
    "tag = 'article'\n",
    "article = soup.find_all(tag)[0]\n",
    "# Alternatively, you can get the page content by the id value of the tag\n",
    "# article = soup.find_all(id=\"WikiaMainContent\")[0]\n",
    "print('Type of the variable \\'article\\':', article.__class__.__name__)"
   ]
  },
  {
   "cell_type": "markdown",
   "metadata": {
    "colab_type": "text",
    "id": "38cw389dK0Aa"
   },
   "source": [
    "### Get some of the text\n",
    "- Plain text without HTML tags"
   ]
  },
  {
   "cell_type": "code",
   "execution_count": 29,
   "metadata": {
    "colab": {},
    "colab_type": "code",
    "id": "Ptx4JvLaK0Ab",
    "scrolled": true
   },
   "outputs": [
    {
     "name": "stdout",
     "output_type": "stream",
     "text": [
      "\n",
      "Gender:\n",
      "Female\n",
      "Species:\n",
      "Ferengi\n",
      "Status:\n",
      "Active (2373)\n",
      "Marital Status:\n",
      "Divorced and in another relationship\n",
      "Spouse(s):\n",
      "Rom (ex)\n",
      "Children:\n",
      "One son, Nog\n",
      "Prinadora was a Ferengi female, the first – and former – wife of Rom and mother of Nog. \n",
      "Rom's first marriage began when he signed a standard five-year marriage contract with Prinadora's father to produce a child. He then made the mistake of falling in love with his wife. As a result, he signed an extension to the contract without reading the fine\n"
     ]
    }
   ],
   "source": [
    "# show the first 500 characters after removing redundant newlines\n",
    "print(re.sub(r'\\n\\n+', '\\n', article.text)[:500])"
   ]
  },
  {
   "cell_type": "markdown",
   "metadata": {
    "colab_type": "text",
    "id": "hCV5HRw3K0Ad"
   },
   "source": [
    "### Find the links in the text"
   ]
  },
  {
   "cell_type": "code",
   "execution_count": 12,
   "metadata": {
    "colab": {},
    "colab_type": "code",
    "id": "TJNCkV4oK0Ad"
   },
   "outputs": [
    {
     "data": {
      "text/plain": [
       "['/wiki/Ferengi',\n",
       " '/wiki/2373',\n",
       " '/wiki/Divorce',\n",
       " '/wiki/Prinadora%27s_richer_man_001',\n",
       " '/wiki/Rom',\n",
       " '/wiki/Son',\n",
       " '/wiki/Nog',\n",
       " '/wiki/Ferengi',\n",
       " '/wiki/Female',\n",
       " '/wiki/Wife',\n",
       " '/wiki/Rom',\n",
       " '/wiki/Mother',\n",
       " '/wiki/Nog',\n",
       " '/wiki/Marriage',\n",
       " None,\n",
       " '/wiki/Prinadora%27s_father_001',\n",
       " '/wiki/Child',\n",
       " '/wiki/Love',\n",
       " '/wiki/Prinadora%27s_richer_man_001',\n",
       " '/wiki/Star_Trek:_Deep_Space_Nine',\n",
       " '/wiki/Doctor_Bashir,_I_Presume_(episode)',\n",
       " '/wiki/2373',\n",
       " '/wiki/Leeta',\n",
       " '/wiki/Star_Trek:_Deep_Space_Nine',\n",
       " '/wiki/Ferengi_Love_Songs_(episode)',\n",
       " '#',\n",
       " '/wiki/Prinadora?action=edit&section=1',\n",
       " '/wiki/Prinadora?action=edit&section=2',\n",
       " '/wiki/DS9_Season_6',\n",
       " '/wiki/Change_of_Heart_(episode)',\n",
       " '/wiki/Star_Trek:_Deep_Space_Nine_Companion',\n",
       " '/wiki/Prinadora?action=edit&section=3',\n",
       " '/wiki/Lolita_Fatjo',\n",
       " '/wiki/Max_Grodenchik',\n",
       " '/wiki/Aron_Eisenberg',\n",
       " '/wiki/Chase_Masterson',\n",
       " '/wiki/Change_of_Heart_(episode)',\n",
       " '/wiki/Deep_Space_9',\n",
       " 'http://www.treknation.com/articles/a_weekend_with_the_stars_part_one.shtml',\n",
       " '/wiki/Worlds_of_Star_Trek:_Deep_Space_Nine,_Volume_Three',\n",
       " '/wiki/Worlds_of_Star_Trek:_Deep_Space_Nine',\n",
       " '/wiki/Grand_Nagus',\n",
       " '/wiki/Ro_Laren',\n",
       " '/wiki/Prinadora?action=edit&section=4',\n",
       " '//memory-beta.fandom.com/wiki/Prinadora',\n",
       " '//memory-beta.fandom.com/wiki/',\n",
       " 'https://memory-alpha.fandom.com/wiki/Prinadora?oldid=2423535',\n",
       " '/wiki/Special:Categories',\n",
       " '/wiki/Category:Ferengi',\n",
       " 'https://memory-alpha.fandom.com/de/wiki/Prinadora',\n",
       " 'https://www.fandom.com/licensing']"
      ]
     },
     "execution_count": 12,
     "metadata": {},
     "output_type": "execute_result"
    }
   ],
   "source": [
    "# identify the type of tag to retrieve\n",
    "tag = 'a'\n",
    "# create a list with the links from the `<a>` tag\n",
    "tag_list = [t.get('href') for t in article.find_all(tag)]\n",
    "tag_list"
   ]
  },
  {
   "cell_type": "code",
   "execution_count": 13,
   "metadata": {
    "colab": {},
    "colab_type": "code",
    "id": "8zIsCxQMK0Ag"
   },
   "outputs": [
    {
     "data": {
      "text/plain": [
       "['Ferengi',\n",
       " '2373',\n",
       " 'Divorce',\n",
       " 'Prinadora%27s_richer_man_001',\n",
       " 'Rom',\n",
       " 'Son',\n",
       " 'Nog',\n",
       " 'Ferengi',\n",
       " 'Female',\n",
       " 'Wife',\n",
       " 'Rom',\n",
       " 'Mother',\n",
       " 'Nog',\n",
       " 'Marriage',\n",
       " 'Prinadora%27s_father_001',\n",
       " 'Child',\n",
       " 'Love',\n",
       " 'Prinadora%27s_richer_man_001',\n",
       " 'Star_Trek:_Deep_Space_Nine',\n",
       " 'Doctor_Bashir,_I_Presume_(episode)',\n",
       " '2373',\n",
       " 'Leeta',\n",
       " 'Star_Trek:_Deep_Space_Nine',\n",
       " 'Ferengi_Love_Songs_(episode)',\n",
       " 'Prinadora?action=edit&section=1',\n",
       " 'Prinadora?action=edit&section=2',\n",
       " 'DS9_Season_6',\n",
       " 'Change_of_Heart_(episode)',\n",
       " 'Star_Trek:_Deep_Space_Nine_Companion',\n",
       " 'Prinadora?action=edit&section=3',\n",
       " 'Lolita_Fatjo',\n",
       " 'Max_Grodenchik',\n",
       " 'Aron_Eisenberg',\n",
       " 'Chase_Masterson',\n",
       " 'Change_of_Heart_(episode)',\n",
       " 'Deep_Space_9',\n",
       " 'Worlds_of_Star_Trek:_Deep_Space_Nine,_Volume_Three',\n",
       " 'Worlds_of_Star_Trek:_Deep_Space_Nine',\n",
       " 'Grand_Nagus',\n",
       " 'Ro_Laren',\n",
       " 'Prinadora?action=edit&section=4',\n",
       " 'Special:Categories',\n",
       " 'Category:Ferengi']"
      ]
     },
     "execution_count": 13,
     "metadata": {},
     "output_type": "execute_result"
    }
   ],
   "source": [
    "# keep only the links to the wiki itself\n",
    "tag_list = [t[6:] for t in tag_list if (t) and (t.startswith('/wiki/'))]\n",
    "tag_list"
   ]
  },
  {
   "cell_type": "code",
   "execution_count": 15,
   "metadata": {
    "colab": {},
    "colab_type": "code",
    "id": "hO5dSet3K0Ai"
   },
   "outputs": [
    {
     "data": {
      "text/plain": [
       "['Ferengi',\n",
       " '2373',\n",
       " 'Divorce',\n",
       " 'Prinadora%27s_richer_man_001',\n",
       " 'Rom',\n",
       " 'Son',\n",
       " 'Nog',\n",
       " 'Ferengi',\n",
       " 'Female',\n",
       " 'Wife',\n",
       " 'Rom',\n",
       " 'Mother',\n",
       " 'Nog',\n",
       " 'Marriage',\n",
       " 'Prinadora%27s_father_001',\n",
       " 'Child',\n",
       " 'Love',\n",
       " 'Prinadora%27s_richer_man_001',\n",
       " 'Doctor_Bashir,_I_Presume_(episode)',\n",
       " '2373',\n",
       " 'Leeta',\n",
       " 'Ferengi_Love_Songs_(episode)',\n",
       " 'DS9_Season_6',\n",
       " 'Change_of_Heart_(episode)',\n",
       " 'Lolita_Fatjo',\n",
       " 'Max_Grodenchik',\n",
       " 'Aron_Eisenberg',\n",
       " 'Chase_Masterson',\n",
       " 'Change_of_Heart_(episode)',\n",
       " 'Deep_Space_9',\n",
       " 'Grand_Nagus',\n",
       " 'Ro_Laren']"
      ]
     },
     "execution_count": 15,
     "metadata": {},
     "output_type": "execute_result"
    }
   ],
   "source": [
    "# create a filter for undesired links\n",
    "filter  = '(%s)' % '|'.join([\n",
    "    'Category:',\n",
    "    'File:',\n",
    "    'Help:',\n",
    "    'Memory_Alpha:',\n",
    "    'Portal:',\n",
    "    'action=',\n",
    "    'Special:',\n",
    "    'Star_Trek:',\n",
    "    'Star_Trek_',\n",
    "    'Talk:'\n",
    "])\n",
    "# remove the links that are found in the filter\n",
    "tag_list = [t for t in tag_list if not re.search(filter, t)]\n",
    "tag_list"
   ]
  },
  {
   "cell_type": "code",
   "execution_count": 16,
   "metadata": {
    "colab": {},
    "colab_type": "code",
    "id": "4N0NWnoPK0Ak"
   },
   "outputs": [
    {
     "data": {
      "text/plain": [
       "['Marriage',\n",
       " 'Ferengi',\n",
       " 'Max_Grodenchik',\n",
       " 'DS9_Season_6',\n",
       " 'Nog',\n",
       " '2373',\n",
       " 'Love',\n",
       " 'Mother',\n",
       " 'Deep_Space_9',\n",
       " 'Divorce',\n",
       " 'Child',\n",
       " 'Doctor_Bashir,_I_Presume_(episode)',\n",
       " 'Ferengi_Love_Songs_(episode)',\n",
       " 'Prinadora%27s_richer_man_001',\n",
       " 'Son',\n",
       " 'Grand_Nagus',\n",
       " 'Leeta',\n",
       " 'Prinadora%27s_father_001',\n",
       " 'Aron_Eisenberg',\n",
       " 'Ro_Laren',\n",
       " 'Lolita_Fatjo',\n",
       " 'Change_of_Heart_(episode)',\n",
       " 'Rom',\n",
       " 'Chase_Masterson',\n",
       " 'Wife',\n",
       " 'Female']"
      ]
     },
     "execution_count": 16,
     "metadata": {},
     "output_type": "execute_result"
    }
   ],
   "source": [
    "# remove duplicates\n",
    "tag_list = list(set(tag_list))\n",
    "tag_list"
   ]
  },
  {
   "cell_type": "code",
   "execution_count": 17,
   "metadata": {
    "colab": {},
    "colab_type": "code",
    "id": "NJ-92iBZK0Am"
   },
   "outputs": [
    {
     "data": {
      "text/plain": [
       "['Marriage',\n",
       " 'Ferengi',\n",
       " 'Max_Grodenchik',\n",
       " 'DS9_Season_6',\n",
       " 'Nog',\n",
       " '2373',\n",
       " 'Love',\n",
       " 'Mother',\n",
       " 'Deep_Space_9',\n",
       " 'Divorce',\n",
       " 'Child',\n",
       " 'Doctor_Bashir,_I_Presume_(episode)',\n",
       " 'Ferengi_Love_Songs_(episode)',\n",
       " \"Prinadora's_richer_man_001\",\n",
       " 'Son',\n",
       " 'Grand_Nagus',\n",
       " 'Leeta',\n",
       " \"Prinadora's_father_001\",\n",
       " 'Aron_Eisenberg',\n",
       " 'Ro_Laren',\n",
       " 'Lolita_Fatjo',\n",
       " 'Change_of_Heart_(episode)',\n",
       " 'Rom',\n",
       " 'Chase_Masterson',\n",
       " 'Wife',\n",
       " 'Female']"
      ]
     },
     "execution_count": 17,
     "metadata": {},
     "output_type": "execute_result"
    }
   ],
   "source": [
    "# convert escaped sequences\n",
    "tag_list = [unquote(t) for t in tag_list]\n",
    "tag_list"
   ]
  },
  {
   "cell_type": "code",
   "execution_count": 18,
   "metadata": {
    "colab": {},
    "colab_type": "code",
    "id": "ODJEoku8K0An"
   },
   "outputs": [
    {
     "data": {
      "text/plain": [
       "['Marriage',\n",
       " 'Ferengi',\n",
       " 'Max Grodenchik',\n",
       " 'DS9 Season 6',\n",
       " 'Nog',\n",
       " '2373',\n",
       " 'Love',\n",
       " 'Mother',\n",
       " 'Deep Space 9',\n",
       " 'Divorce',\n",
       " 'Child',\n",
       " 'Doctor Bashir, I Presume (episode)',\n",
       " 'Ferengi Love Songs (episode)',\n",
       " \"Prinadora's richer man 001\",\n",
       " 'Son',\n",
       " 'Grand Nagus',\n",
       " 'Leeta',\n",
       " \"Prinadora's father 001\",\n",
       " 'Aron Eisenberg',\n",
       " 'Ro Laren',\n",
       " 'Lolita Fatjo',\n",
       " 'Change of Heart (episode)',\n",
       " 'Rom',\n",
       " 'Chase Masterson',\n",
       " 'Wife',\n",
       " 'Female']"
      ]
     },
     "execution_count": 18,
     "metadata": {},
     "output_type": "execute_result"
    }
   ],
   "source": [
    "# convert underscore to space\n",
    "tag_list = [re.sub('_', ' ', t) for t in tag_list]\n",
    "tag_list"
   ]
  },
  {
   "cell_type": "code",
   "execution_count": 19,
   "metadata": {
    "colab": {},
    "colab_type": "code",
    "id": "hc77nPaDK0Ao",
    "scrolled": false
   },
   "outputs": [
    {
     "data": {
      "text/plain": [
       "['2373',\n",
       " 'Aron Eisenberg',\n",
       " 'Change of Heart (episode)',\n",
       " 'Chase Masterson',\n",
       " 'Child',\n",
       " 'DS9 Season 6',\n",
       " 'Deep Space 9',\n",
       " 'Divorce',\n",
       " 'Doctor Bashir, I Presume (episode)',\n",
       " 'Female',\n",
       " 'Ferengi',\n",
       " 'Ferengi Love Songs (episode)',\n",
       " 'Grand Nagus',\n",
       " 'Leeta',\n",
       " 'Lolita Fatjo',\n",
       " 'Love',\n",
       " 'Marriage',\n",
       " 'Max Grodenchik',\n",
       " 'Mother',\n",
       " 'Nog',\n",
       " \"Prinadora's father 001\",\n",
       " \"Prinadora's richer man 001\",\n",
       " 'Ro Laren',\n",
       " 'Rom',\n",
       " 'Son',\n",
       " 'Wife']"
      ]
     },
     "execution_count": 19,
     "metadata": {},
     "output_type": "execute_result"
    }
   ],
   "source": [
    "# order the list\n",
    "tag_list.sort()\n",
    "tag_list"
   ]
  },
  {
   "cell_type": "markdown",
   "metadata": {
    "colab_type": "text",
    "id": "Vh4ag5cSK0Ar"
   },
   "source": [
    "### Create a filter for unwanted types of articles"
   ]
  },
  {
   "cell_type": "code",
   "execution_count": 20,
   "metadata": {
    "colab": {},
    "colab_type": "code",
    "id": "zdXMj4CSK0Ar"
   },
   "outputs": [
    {
     "data": {
      "text/plain": [
       "['2373',\n",
       " 'Aron Eisenberg',\n",
       " 'Chase Masterson',\n",
       " 'Child',\n",
       " 'Deep Space 9',\n",
       " 'Divorce',\n",
       " 'Female',\n",
       " 'Ferengi',\n",
       " 'Grand Nagus',\n",
       " 'Leeta',\n",
       " 'Lolita Fatjo',\n",
       " 'Love',\n",
       " 'Marriage',\n",
       " 'Max Grodenchik',\n",
       " 'Mother',\n",
       " 'Nog',\n",
       " \"Prinadora's father 001\",\n",
       " \"Prinadora's richer man 001\",\n",
       " 'Ro Laren',\n",
       " 'Rom',\n",
       " 'Son',\n",
       " 'Wife']"
      ]
     },
     "execution_count": 20,
     "metadata": {},
     "output_type": "execute_result"
    }
   ],
   "source": [
    "filter  = '(%s)' % '|'.join([\n",
    "    'episode',\n",
    "    'lternate_reality', # both Alternate_reality and alternate_reality\n",
    "    'mirror',\n",
    "    'rank',\n",
    "    'production',\n",
    "    'Season'\n",
    "])\n",
    "# remove the links that are found in the filter\n",
    "tag_list = [t for t in tag_list if not re.search(filter, t)]\n",
    "tag_list"
   ]
  },
  {
   "cell_type": "code",
   "execution_count": 21,
   "metadata": {},
   "outputs": [
    {
     "data": {
      "text/plain": [
       "'(episode|lternate_reality|mirror|rank|production|Season)'"
      ]
     },
     "execution_count": 21,
     "metadata": {},
     "output_type": "execute_result"
    }
   ],
   "source": [
    "filter"
   ]
  },
  {
   "cell_type": "markdown",
   "metadata": {
    "colab_type": "text",
    "id": "RERADKgNFq9T"
   },
   "source": [
    "\n",
    "\n",
    "---\n",
    "\n",
    "\n",
    "\n",
    "---\n",
    "\n",
    "\n",
    "\n",
    "> > > > > > > > > © 2019 Institute of Data\n",
    "\n",
    "\n",
    "---\n",
    "\n",
    "\n",
    "\n",
    "---\n",
    "\n",
    "\n",
    "\n"
   ]
  }
 ],
 "metadata": {
  "colab": {
   "collapsed_sections": [],
   "name": "DSIA Demo-9_3.ipynb",
   "provenance": []
  },
  "kernelspec": {
   "display_name": "Python 3",
   "language": "python",
   "name": "python3"
  },
  "language_info": {
   "codemirror_mode": {
    "name": "ipython",
    "version": 3
   },
   "file_extension": ".py",
   "mimetype": "text/x-python",
   "name": "python",
   "nbconvert_exporter": "python",
   "pygments_lexer": "ipython3",
   "version": "3.7.7-final"
  }
 },
 "nbformat": 4,
 "nbformat_minor": 1
}