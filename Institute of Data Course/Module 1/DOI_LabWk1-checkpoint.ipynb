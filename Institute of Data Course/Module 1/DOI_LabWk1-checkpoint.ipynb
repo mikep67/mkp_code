{
 "cells": [
  {
   "cell_type": "code",
   "execution_count": 1,
   "metadata": {},
   "outputs": [
    {
     "ename": "SyntaxError",
     "evalue": "invalid syntax (<ipython-input-1-eba3e3198cfe>, line 13)",
     "output_type": "error",
     "traceback": [
      "\u001b[1;36m  File \u001b[1;32m\"<ipython-input-1-eba3e3198cfe>\"\u001b[1;36m, line \u001b[1;32m13\u001b[0m\n\u001b[1;33m    b =\u001b[0m\n\u001b[1;37m        ^\u001b[0m\n\u001b[1;31mSyntaxError\u001b[0m\u001b[1;31m:\u001b[0m invalid syntax\n"
     ]
    }
   ],
   "source": [
    "# Week 1:\n",
    "# Introduction to Python for Data Science - Labs 29/02/20\n",
    "#\n",
    "# Variables - Types\n",
    "#\n",
    "# The most common is a string\n",
    "\n",
    "a = \"This is a test\"\n",
    "Print(a)\n",
    "\n",
    "# Double or single quotes works in Python\n",
    "\n",
    "b = 'This is also a test'"
   ]
  },
  {
   "cell_type": "code",
   "execution_count": null,
   "metadata": {},
   "outputs": [],
   "source": [
    "# Print "
   ]
  }
 ],
 "metadata": {
  "kernelspec": {
   "display_name": "Python 3",
   "language": "python",
   "name": "python3"
  },
  "language_info": {
   "codemirror_mode": {
    "name": "ipython",
    "version": 3
   },
   "file_extension": ".py",
   "mimetype": "text/x-python",
   "name": "python",
   "nbconvert_exporter": "python",
   "pygments_lexer": "ipython3",
   "version": "3.7.4"
  }
 },
 "nbformat": 4,
 "nbformat_minor": 2
}
