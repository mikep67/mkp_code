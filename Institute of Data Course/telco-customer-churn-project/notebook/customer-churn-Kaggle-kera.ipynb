{
 "cells": [
  {
   "cell_type": "code",
   "execution_count": null,
   "metadata": {},
   "outputs": [],
   "source": []
  },
  {
   "cell_type": "markdown",
   "metadata": {},
   "source": [
    "## DNN - Keras and categorical feature embedding\n",
    "### Demostration code from Kaggle:\n",
    "#### https://www.kaggle.com/blaskowitz100/dnn-keras-and-categorical-feature-embedding"
   ]
  },
  {
   "cell_type": "code",
   "execution_count": null,
   "metadata": {},
   "outputs": [],
   "source": []
  },
  {
   "cell_type": "code",
   "execution_count": 1,
   "metadata": {
    "tags": []
   },
   "outputs": [
    {
     "output_type": "stream",
     "name": "stderr",
     "text": "Using TensorFlow backend.\n"
    }
   ],
   "source": [
    "# Import the necessary libraries\n",
    "import os\n",
    "import time\n",
    "import datetime\n",
    "import numpy as np\n",
    "import pandas as pd\n",
    "\n",
    "# Keras\n",
    "import tensorflow.keras as keras\n",
    "from tensorflow.keras import layers\n",
    "from tensorflow.keras import models\n",
    "from tensorflow.keras import callbacks\n",
    "from tensorflow.keras import backend as K\n",
    "\n",
    "# Standard ML stuff\n",
    "from sklearn.preprocessing import LabelEncoder\n",
    "from sklearn.preprocessing import MinMaxScaler \n",
    "from sklearn.preprocessing import StandardScaler\n",
    "from sklearn.model_selection import train_test_split\n",
    "from sklearn.metrics import classification_report\n",
    "from sklearn.metrics import accuracy_score\n",
    "from sklearn.manifold import TSNE\n",
    "from sklearn.decomposition import PCA\n",
    "from sklearn.decomposition import TruncatedSVD\n",
    "from sklearn.decomposition import FastICA\n",
    "from sklearn.random_projection import GaussianRandomProjection \n",
    "from sklearn.random_projection import SparseRandomProjection\n",
    "\n",
    "from keras.models import Sequential\n",
    "from keras.layers import Dense\n",
    "\n",
    "# Oversampling of minority class 'Churn customers'\n",
    "from imblearn.over_sampling import SMOTE\n",
    "\n",
    "# Plotting\n",
    "%matplotlib inline\n",
    "import matplotlib.pyplot as plt\n",
    "import seaborn as sns"
   ]
  },
  {
   "cell_type": "code",
   "execution_count": null,
   "metadata": {},
   "outputs": [],
   "source": []
  },
  {
   "cell_type": "code",
   "execution_count": 2,
   "metadata": {},
   "outputs": [],
   "source": [
    "#setting the data directory\n",
    "os.chdir('/home/mike/Documents/mkp_code/Institute of Data Course/telco-customer-churn-project/data/processed')"
   ]
  },
  {
   "cell_type": "code",
   "execution_count": null,
   "metadata": {},
   "outputs": [],
   "source": []
  },
  {
   "cell_type": "code",
   "execution_count": 3,
   "metadata": {},
   "outputs": [],
   "source": [
    "customer_data = pd.read_csv('Telco-Customer-Churn-Processed.csv')"
   ]
  },
  {
   "cell_type": "code",
   "execution_count": null,
   "metadata": {},
   "outputs": [],
   "source": []
  },
  {
   "cell_type": "markdown",
   "metadata": {},
   "source": [
    "* Remove the Unnamed: 0 Column"
   ]
  },
  {
   "cell_type": "code",
   "execution_count": 4,
   "metadata": {},
   "outputs": [],
   "source": [
    "# Remove an unnecessary columns\n",
    "customer_data.drop('Unnamed: 0',axis =1, inplace=True)"
   ]
  },
  {
   "cell_type": "code",
   "execution_count": null,
   "metadata": {},
   "outputs": [],
   "source": []
  },
  {
   "cell_type": "code",
   "execution_count": 5,
   "metadata": {},
   "outputs": [],
   "source": [
    "# Set Constants\n",
    "\n",
    "# Divide the numeric columns from the non-numeric \n",
    "numeric_cols = ['MonthlyCharges', 'TotalCharges', 'tenure']\n",
    "target_col = ['Churn']\n",
    "\n",
    "categorical_cols = ['gender', 'Partner', 'Dependents', 'PhoneService','MultipleLines', 'InternetService', 'OnlineSecurity', 'OnlineBackup', 'DeviceProtection', 'TechSupport', 'StreamingTV', 'StreamingMovies', 'Contract', 'PaperlessBilling', 'PaymentMethod', 'tenure_group']\n",
    "\n",
    "FEATURE_COLS = customer_data.columns\n",
    "TARGET_COL = 'Churn'\n",
    "EPOCHS = 50\n",
    "BATCH_SIZE = 4\n",
    "CLASS_WEIGHTS = {0 : 1., 1 : 2.5}"
   ]
  },
  {
   "cell_type": "code",
   "execution_count": null,
   "metadata": {},
   "outputs": [],
   "source": []
  },
  {
   "cell_type": "code",
   "execution_count": 6,
   "metadata": {},
   "outputs": [],
   "source": [
    "pca = PCA(n_components=3)\n",
    "_X = pca.fit_transform(customer_data)\n",
    "pca_data = pd.DataFrame(_X, columns=[\"PCA1\", \"PCA2\", \"PCA3\"])\n",
    "customer_data[[\"PCA1\", \"PCA2\", \"PCA3\"]] = pca_data\n",
    "\n",
    "fica = FastICA(n_components=3)\n",
    "_X = fica.fit_transform(customer_data)\n",
    "fica_data = pd.DataFrame(_X, columns=[\"FICA1\", \"FICA2\", \"FICA3\"])\n",
    "customer_data[[\"FICA1\", \"FICA2\", \"FICA3\"]] = fica_data\n",
    "\n",
    "tsvd = TruncatedSVD(n_components=3)\n",
    "_X = tsvd.fit_transform(customer_data)\n",
    "tsvd_data = pd.DataFrame(_X, columns=[\"TSVD1\", \"TSVD2\", \"TSVD3\"])\n",
    "customer_data[[\"TSVD1\", \"TSVD2\", \"TSVD3\"]] = tsvd_data\n",
    "\n",
    "grp = GaussianRandomProjection(n_components=3)\n",
    "_X = grp.fit_transform(customer_data)\n",
    "grp_data = pd.DataFrame(_X, columns=[\"GRP1\", \"GRP2\", \"GRP3\"])\n",
    "customer_data[[\"GRP1\", \"GRP2\", \"GRP3\"]] = grp_data\n",
    "\n",
    "srp = SparseRandomProjection(n_components=3)\n",
    "_X = srp.fit_transform(customer_data)\n",
    "srp_data = pd.DataFrame(_X, columns=[\"SRP1\", \"SRP2\", \"SRP3\"])\n",
    "customer_data[[\"SRP1\", \"SRP2\", \"SRP3\"]] = srp_data\n",
    "\n",
    "numeric_cols.extend(pca_data.columns.values)\n",
    "numeric_cols.extend(fica_data.columns.values)\n",
    "numeric_cols.extend(tsvd_data.columns.values)\n",
    "numeric_cols.extend(grp_data.columns.values)\n",
    "numeric_cols.extend(srp_data.columns.values)"
   ]
  },
  {
   "cell_type": "code",
   "execution_count": null,
   "metadata": {},
   "outputs": [],
   "source": []
  },
  {
   "cell_type": "code",
   "execution_count": 7,
   "metadata": {},
   "outputs": [],
   "source": [
    "# Placeholders for the model\n",
    "cat_inputs = []\n",
    "num_inputs = []\n",
    "embeddings = []\n",
    "embedding_layer_names = []\n",
    "emb_n = 10"
   ]
  },
  {
   "cell_type": "code",
   "execution_count": null,
   "metadata": {},
   "outputs": [],
   "source": []
  },
  {
   "cell_type": "code",
   "execution_count": 8,
   "metadata": {
    "tags": []
   },
   "outputs": [
    {
     "output_type": "stream",
     "name": "stdout",
     "text": "WARNING:tensorflow:From /home/mike/.local/lib/python3.6/site-packages/tensorflow_core/python/keras/initializers.py:119: calling RandomUniform.__init__ (from tensorflow.python.ops.init_ops) with dtype is deprecated and will be removed in a future version.\nInstructions for updating:\nCall initializer instance with the dtype argument instead of passing it to the constructor\nWARNING:tensorflow:From /home/mike/.local/lib/python3.6/site-packages/tensorflow_core/python/ops/resource_variable_ops.py:1630: calling BaseResourceVariable.__init__ (from tensorflow.python.ops.resource_variable_ops) with constraint is deprecated and will be removed in a future version.\nInstructions for updating:\nIf using Keras pass *_constraint arguments to layers.\n"
    }
   ],
   "source": [
    "# Embedding for categorical features\n",
    "for col in categorical_cols:\n",
    "    _input = layers.Input(shape=[1], name=col)\n",
    "    _embed = layers.Embedding(customer_data[col].max() + 1, emb_n, name=col+'_emb')(_input)\n",
    "    cat_inputs.append(_input)\n",
    "    embeddings.append(_embed)\n",
    "    embedding_layer_names.append(col+'_emb')\n",
    "    \n",
    "# Simple inputs for the numeric features\n",
    "for col in numeric_cols:\n",
    "    numeric_input = layers.Input(shape=(1,), name=col)\n",
    "    num_inputs.append(numeric_input)\n",
    "    \n",
    "# Merge the numeric inputs\n",
    "merged_num_inputs = layers.concatenate(num_inputs)\n",
    "#numeric_dense = layers.Dense(20, activation='relu')(merged_num_inputs)\n",
    "\n",
    "# Merge embedding and use a Droput to prevent overfittting\n",
    "merged_inputs = layers.concatenate(embeddings)\n",
    "spatial_dropout = layers.SpatialDropout1D(0.2)(merged_inputs)\n",
    "flat_embed = layers.Flatten()(spatial_dropout)\n",
    "\n",
    "# Merge embedding and numeric features\n",
    "all_features = layers.concatenate([flat_embed, merged_num_inputs])\n",
    "\n",
    "# MLP for classification\n",
    "x = layers.Dropout(0.2)(layers.Dense(100, activation='relu')(all_features))\n",
    "x = layers.Dropout(0.2)(layers.Dense(50, activation='relu')(x))\n",
    "x = layers.Dropout(0.2)(layers.Dense(25, activation='relu')(x))\n",
    "x = layers.Dropout(0.2)(layers.Dense(15, activation='relu')(x))\n",
    "\n",
    "# Final model\n",
    "output = layers.Dense(1, activation='sigmoid')(x)\n",
    "model = models.Model(inputs=cat_inputs + num_inputs, outputs=output)"
   ]
  },
  {
   "cell_type": "code",
   "execution_count": null,
   "metadata": {},
   "outputs": [],
   "source": []
  },
  {
   "cell_type": "code",
   "execution_count": 9,
   "metadata": {
    "tags": []
   },
   "outputs": [
    {
     "output_type": "stream",
     "name": "stdout",
     "text": "WARNING:tensorflow:From /home/mike/.local/lib/python3.6/site-packages/tensorflow_core/python/ops/nn_impl.py:183: where (from tensorflow.python.ops.array_ops) is deprecated and will be removed in a future version.\nInstructions for updating:\nUse tf.where in 2.0, which has the same broadcast rule as np.where\nModel: \"model\"\n__________________________________________________________________________________________________\nLayer (type)                    Output Shape         Param #     Connected to                     \n==================================================================================================\ngender (InputLayer)             [(None, 1)]          0                                            \n__________________________________________________________________________________________________\nPartner (InputLayer)            [(None, 1)]          0                                            \n__________________________________________________________________________________________________\nDependents (InputLayer)         [(None, 1)]          0                                            \n__________________________________________________________________________________________________\nPhoneService (InputLayer)       [(None, 1)]          0                                            \n__________________________________________________________________________________________________\nMultipleLines (InputLayer)      [(None, 1)]          0                                            \n__________________________________________________________________________________________________\nInternetService (InputLayer)    [(None, 1)]          0                                            \n__________________________________________________________________________________________________\nOnlineSecurity (InputLayer)     [(None, 1)]          0                                            \n__________________________________________________________________________________________________\nOnlineBackup (InputLayer)       [(None, 1)]          0                                            \n__________________________________________________________________________________________________\nDeviceProtection (InputLayer)   [(None, 1)]          0                                            \n__________________________________________________________________________________________________\nTechSupport (InputLayer)        [(None, 1)]          0                                            \n__________________________________________________________________________________________________\nStreamingTV (InputLayer)        [(None, 1)]          0                                            \n__________________________________________________________________________________________________\nStreamingMovies (InputLayer)    [(None, 1)]          0                                            \n__________________________________________________________________________________________________\nContract (InputLayer)           [(None, 1)]          0                                            \n__________________________________________________________________________________________________\nPaperlessBilling (InputLayer)   [(None, 1)]          0                                            \n__________________________________________________________________________________________________\nPaymentMethod (InputLayer)      [(None, 1)]          0                                            \n__________________________________________________________________________________________________\ntenure_group (InputLayer)       [(None, 1)]          0                                            \n__________________________________________________________________________________________________\ngender_emb (Embedding)          (None, 1, 10)        20          gender[0][0]                     \n__________________________________________________________________________________________________\nPartner_emb (Embedding)         (None, 1, 10)        20          Partner[0][0]                    \n__________________________________________________________________________________________________\nDependents_emb (Embedding)      (None, 1, 10)        20          Dependents[0][0]                 \n__________________________________________________________________________________________________\nPhoneService_emb (Embedding)    (None, 1, 10)        20          PhoneService[0][0]               \n__________________________________________________________________________________________________\nMultipleLines_emb (Embedding)   (None, 1, 10)        30          MultipleLines[0][0]              \n__________________________________________________________________________________________________\nInternetService_emb (Embedding) (None, 1, 10)        30          InternetService[0][0]            \n__________________________________________________________________________________________________\nOnlineSecurity_emb (Embedding)  (None, 1, 10)        30          OnlineSecurity[0][0]             \n__________________________________________________________________________________________________\nOnlineBackup_emb (Embedding)    (None, 1, 10)        30          OnlineBackup[0][0]               \n__________________________________________________________________________________________________\nDeviceProtection_emb (Embedding (None, 1, 10)        30          DeviceProtection[0][0]           \n__________________________________________________________________________________________________\nTechSupport_emb (Embedding)     (None, 1, 10)        30          TechSupport[0][0]                \n__________________________________________________________________________________________________\nStreamingTV_emb (Embedding)     (None, 1, 10)        30          StreamingTV[0][0]                \n__________________________________________________________________________________________________\nStreamingMovies_emb (Embedding) (None, 1, 10)        30          StreamingMovies[0][0]            \n__________________________________________________________________________________________________\nContract_emb (Embedding)        (None, 1, 10)        30          Contract[0][0]                   \n__________________________________________________________________________________________________\nPaperlessBilling_emb (Embedding (None, 1, 10)        20          PaperlessBilling[0][0]           \n__________________________________________________________________________________________________\nPaymentMethod_emb (Embedding)   (None, 1, 10)        40          PaymentMethod[0][0]              \n__________________________________________________________________________________________________\ntenure_group_emb (Embedding)    (None, 1, 10)        50          tenure_group[0][0]               \n__________________________________________________________________________________________________\nconcatenate_1 (Concatenate)     (None, 1, 160)       0           gender_emb[0][0]                 \n                                                                 Partner_emb[0][0]                \n                                                                 Dependents_emb[0][0]             \n                                                                 PhoneService_emb[0][0]           \n                                                                 MultipleLines_emb[0][0]          \n                                                                 InternetService_emb[0][0]        \n                                                                 OnlineSecurity_emb[0][0]         \n                                                                 OnlineBackup_emb[0][0]           \n                                                                 DeviceProtection_emb[0][0]       \n                                                                 TechSupport_emb[0][0]            \n                                                                 StreamingTV_emb[0][0]            \n                                                                 StreamingMovies_emb[0][0]        \n                                                                 Contract_emb[0][0]               \n                                                                 PaperlessBilling_emb[0][0]       \n                                                                 PaymentMethod_emb[0][0]          \n                                                                 tenure_group_emb[0][0]           \n__________________________________________________________________________________________________\nspatial_dropout1d (SpatialDropo (None, 1, 160)       0           concatenate_1[0][0]              \n__________________________________________________________________________________________________\nMonthlyCharges (InputLayer)     [(None, 1)]          0                                            \n__________________________________________________________________________________________________\nTotalCharges (InputLayer)       [(None, 1)]          0                                            \n__________________________________________________________________________________________________\ntenure (InputLayer)             [(None, 1)]          0                                            \n__________________________________________________________________________________________________\nPCA1 (InputLayer)               [(None, 1)]          0                                            \n__________________________________________________________________________________________________\nPCA2 (InputLayer)               [(None, 1)]          0                                            \n__________________________________________________________________________________________________\nPCA3 (InputLayer)               [(None, 1)]          0                                            \n__________________________________________________________________________________________________\nFICA1 (InputLayer)              [(None, 1)]          0                                            \n__________________________________________________________________________________________________\nFICA2 (InputLayer)              [(None, 1)]          0                                            \n__________________________________________________________________________________________________\nFICA3 (InputLayer)              [(None, 1)]          0                                            \n__________________________________________________________________________________________________\nTSVD1 (InputLayer)              [(None, 1)]          0                                            \n__________________________________________________________________________________________________\nTSVD2 (InputLayer)              [(None, 1)]          0                                            \n__________________________________________________________________________________________________\nTSVD3 (InputLayer)              [(None, 1)]          0                                            \n__________________________________________________________________________________________________\nGRP1 (InputLayer)               [(None, 1)]          0                                            \n__________________________________________________________________________________________________\nGRP2 (InputLayer)               [(None, 1)]          0                                            \n__________________________________________________________________________________________________\nGRP3 (InputLayer)               [(None, 1)]          0                                            \n__________________________________________________________________________________________________\nSRP1 (InputLayer)               [(None, 1)]          0                                            \n__________________________________________________________________________________________________\nSRP2 (InputLayer)               [(None, 1)]          0                                            \n__________________________________________________________________________________________________\nSRP3 (InputLayer)               [(None, 1)]          0                                            \n__________________________________________________________________________________________________\nflatten (Flatten)               (None, 160)          0           spatial_dropout1d[0][0]          \n__________________________________________________________________________________________________\nconcatenate (Concatenate)       (None, 18)           0           MonthlyCharges[0][0]             \n                                                                 TotalCharges[0][0]               \n                                                                 tenure[0][0]                     \n                                                                 PCA1[0][0]                       \n                                                                 PCA2[0][0]                       \n                                                                 PCA3[0][0]                       \n                                                                 FICA1[0][0]                      \n                                                                 FICA2[0][0]                      \n                                                                 FICA3[0][0]                      \n                                                                 TSVD1[0][0]                      \n                                                                 TSVD2[0][0]                      \n                                                                 TSVD3[0][0]                      \n                                                                 GRP1[0][0]                       \n                                                                 GRP2[0][0]                       \n                                                                 GRP3[0][0]                       \n                                                                 SRP1[0][0]                       \n                                                                 SRP2[0][0]                       \n                                                                 SRP3[0][0]                       \n__________________________________________________________________________________________________\nconcatenate_2 (Concatenate)     (None, 178)          0           flatten[0][0]                    \n                                                                 concatenate[0][0]                \n__________________________________________________________________________________________________\ndense (Dense)                   (None, 100)          17900       concatenate_2[0][0]              \n__________________________________________________________________________________________________\ndropout (Dropout)               (None, 100)          0           dense[0][0]                      \n__________________________________________________________________________________________________\ndense_1 (Dense)                 (None, 50)           5050        dropout[0][0]                    \n__________________________________________________________________________________________________\ndropout_1 (Dropout)             (None, 50)           0           dense_1[0][0]                    \n__________________________________________________________________________________________________\ndense_2 (Dense)                 (None, 25)           1275        dropout_1[0][0]                  \n__________________________________________________________________________________________________\ndropout_2 (Dropout)             (None, 25)           0           dense_2[0][0]                    \n__________________________________________________________________________________________________\ndense_3 (Dense)                 (None, 15)           390         dropout_2[0][0]                  \n__________________________________________________________________________________________________\ndropout_3 (Dropout)             (None, 15)           0           dense_3[0][0]                    \n__________________________________________________________________________________________________\ndense_4 (Dense)                 (None, 1)            16          dropout_3[0][0]                  \n==================================================================================================\nTotal params: 25,091\nTrainable params: 25,091\nNon-trainable params: 0\n__________________________________________________________________________________________________\nNone\n"
    }
   ],
   "source": [
    "model.compile(loss='binary_crossentropy', optimizer='adam', metrics=['accuracy'])\n",
    "print(model.summary())"
   ]
  },
  {
   "cell_type": "code",
   "execution_count": null,
   "metadata": {},
   "outputs": [],
   "source": []
  },
  {
   "cell_type": "code",
   "execution_count": 10,
   "metadata": {},
   "outputs": [],
   "source": [
    "# TB Callback\n",
    "log_folder = datetime.datetime.fromtimestamp(time.time()).strftime('%Y-%m-%d-%H-%M-%S')\n",
    "tb_callback = callbacks.TensorBoard(\n",
    "    log_dir=os.path.join('tb-logs', log_folder),)"
   ]
  },
  {
   "cell_type": "code",
   "execution_count": null,
   "metadata": {},
   "outputs": [],
   "source": []
  },
  {
   "cell_type": "code",
   "execution_count": 11,
   "metadata": {},
   "outputs": [],
   "source": [
    "# Best model callback\n",
    "bm_callback = callbacks.ModelCheckpoint(\n",
    "    filepath=os.path.join('tb-logs', log_folder, 'bm.h5'),\n",
    "    save_best_only=True,\n",
    "    save_weights_only=False\n",
    ")"
   ]
  },
  {
   "cell_type": "code",
   "execution_count": null,
   "metadata": {},
   "outputs": [],
   "source": []
  },
  {
   "cell_type": "code",
   "execution_count": 12,
   "metadata": {
    "tags": []
   },
   "outputs": [
    {
     "output_type": "stream",
     "name": "stdout",
     "text": "(5986, 36)\n"
    }
   ],
   "source": [
    "train_df, test_df = train_test_split(customer_data, test_size=0.15, random_state=42)\n",
    "print(train_df.shape)"
   ]
  },
  {
   "cell_type": "code",
   "execution_count": null,
   "metadata": {},
   "outputs": [],
   "source": []
  },
  {
   "cell_type": "code",
   "execution_count": null,
   "metadata": {},
   "outputs": [],
   "source": []
  },
  {
   "cell_type": "code",
   "execution_count": null,
   "metadata": {},
   "outputs": [],
   "source": []
  },
  {
   "cell_type": "code",
   "execution_count": 13,
   "metadata": {},
   "outputs": [],
   "source": [
    "def get_keras_dataset(df):\n",
    "    X = {str(col) : np.array(df[col]) for col in df.columns}\n",
    "    return X"
   ]
  },
  {
   "cell_type": "code",
   "execution_count": null,
   "metadata": {},
   "outputs": [],
   "source": []
  },
  {
   "cell_type": "code",
   "execution_count": 14,
   "metadata": {
    "tags": []
   },
   "outputs": [
    {
     "output_type": "error",
     "ename": "ValueError",
     "evalue": "No data provided for \"PCA1\". Need data for each key in: ['gender', 'Partner', 'Dependents', 'PhoneService', 'MultipleLines', 'InternetService', 'OnlineSecurity', 'OnlineBackup', 'DeviceProtection', 'TechSupport', 'StreamingTV', 'StreamingMovies', 'Contract', 'PaperlessBilling', 'PaymentMethod', 'tenure_group', 'MonthlyCharges', 'TotalCharges', 'tenure', 'PCA1', 'PCA2', 'PCA3', 'FICA1', 'FICA2', 'FICA3', 'TSVD1', 'TSVD2', 'TSVD3', 'GRP1', 'GRP2', 'GRP3', 'SRP1', 'SRP2', 'SRP3']",
     "traceback": [
      "\u001b[0;31m---------------------------------------------------------------------------\u001b[0m",
      "\u001b[0;31mKeyError\u001b[0m                                  Traceback (most recent call last)",
      "\u001b[0;32m~/.local/lib/python3.6/site-packages/tensorflow_core/python/keras/engine/training_utils.py\u001b[0m in \u001b[0;36mstandardize_input_data\u001b[0;34m(data, names, shapes, check_batch_axis, exception_prefix)\u001b[0m\n\u001b[1;32m    496\u001b[0m           \u001b[0;32mif\u001b[0m \u001b[0mdata\u001b[0m\u001b[0;34m[\u001b[0m\u001b[0mx\u001b[0m\u001b[0;34m]\u001b[0m\u001b[0;34m.\u001b[0m\u001b[0m__class__\u001b[0m\u001b[0;34m.\u001b[0m\u001b[0m__name__\u001b[0m \u001b[0;34m==\u001b[0m \u001b[0;34m'DataFrame'\u001b[0m \u001b[0;32melse\u001b[0m \u001b[0mdata\u001b[0m\u001b[0;34m[\u001b[0m\u001b[0mx\u001b[0m\u001b[0;34m]\u001b[0m\u001b[0;34m\u001b[0m\u001b[0;34m\u001b[0m\u001b[0m\n\u001b[0;32m--> 497\u001b[0;31m           \u001b[0;32mfor\u001b[0m \u001b[0mx\u001b[0m \u001b[0;32min\u001b[0m \u001b[0mnames\u001b[0m\u001b[0;34m\u001b[0m\u001b[0;34m\u001b[0m\u001b[0m\n\u001b[0m\u001b[1;32m    498\u001b[0m       ]\n",
      "\u001b[0;32m~/.local/lib/python3.6/site-packages/tensorflow_core/python/keras/engine/training_utils.py\u001b[0m in \u001b[0;36m<listcomp>\u001b[0;34m(.0)\u001b[0m\n\u001b[1;32m    496\u001b[0m           \u001b[0;32mif\u001b[0m \u001b[0mdata\u001b[0m\u001b[0;34m[\u001b[0m\u001b[0mx\u001b[0m\u001b[0;34m]\u001b[0m\u001b[0;34m.\u001b[0m\u001b[0m__class__\u001b[0m\u001b[0;34m.\u001b[0m\u001b[0m__name__\u001b[0m \u001b[0;34m==\u001b[0m \u001b[0;34m'DataFrame'\u001b[0m \u001b[0;32melse\u001b[0m \u001b[0mdata\u001b[0m\u001b[0;34m[\u001b[0m\u001b[0mx\u001b[0m\u001b[0;34m]\u001b[0m\u001b[0;34m\u001b[0m\u001b[0;34m\u001b[0m\u001b[0m\n\u001b[0;32m--> 497\u001b[0;31m           \u001b[0;32mfor\u001b[0m \u001b[0mx\u001b[0m \u001b[0;32min\u001b[0m \u001b[0mnames\u001b[0m\u001b[0;34m\u001b[0m\u001b[0;34m\u001b[0m\u001b[0m\n\u001b[0m\u001b[1;32m    498\u001b[0m       ]\n",
      "\u001b[0;31mKeyError\u001b[0m: 'PCA1'",
      "\nDuring handling of the above exception, another exception occurred:\n",
      "\u001b[0;31mValueError\u001b[0m                                Traceback (most recent call last)",
      "\u001b[0;32m<ipython-input-14-67c37dd1ab5e>\u001b[0m in \u001b[0;36m<module>\u001b[0;34m\u001b[0m\n\u001b[1;32m      7\u001b[0m     \u001b[0mclass_weight\u001b[0m\u001b[0;34m=\u001b[0m\u001b[0mCLASS_WEIGHTS\u001b[0m\u001b[0;34m,\u001b[0m\u001b[0;34m\u001b[0m\u001b[0;34m\u001b[0m\u001b[0m\n\u001b[1;32m      8\u001b[0m     \u001b[0mcallbacks\u001b[0m\u001b[0;34m=\u001b[0m\u001b[0;34m[\u001b[0m\u001b[0mtb_callback\u001b[0m\u001b[0;34m,\u001b[0m \u001b[0mbm_callback\u001b[0m\u001b[0;34m]\u001b[0m\u001b[0;34m,\u001b[0m\u001b[0;34m\u001b[0m\u001b[0;34m\u001b[0m\u001b[0m\n\u001b[0;32m----> 9\u001b[0;31m     \u001b[0mverbose\u001b[0m\u001b[0;34m=\u001b[0m\u001b[0;36m2\u001b[0m\u001b[0;34m\u001b[0m\u001b[0;34m\u001b[0m\u001b[0m\n\u001b[0m\u001b[1;32m     10\u001b[0m )\n",
      "\u001b[0;32m~/.local/lib/python3.6/site-packages/tensorflow_core/python/keras/engine/training.py\u001b[0m in \u001b[0;36mfit\u001b[0;34m(self, x, y, batch_size, epochs, verbose, callbacks, validation_split, validation_data, shuffle, class_weight, sample_weight, initial_epoch, steps_per_epoch, validation_steps, validation_freq, max_queue_size, workers, use_multiprocessing, **kwargs)\u001b[0m\n\u001b[1;32m    725\u001b[0m         \u001b[0mmax_queue_size\u001b[0m\u001b[0;34m=\u001b[0m\u001b[0mmax_queue_size\u001b[0m\u001b[0;34m,\u001b[0m\u001b[0;34m\u001b[0m\u001b[0;34m\u001b[0m\u001b[0m\n\u001b[1;32m    726\u001b[0m         \u001b[0mworkers\u001b[0m\u001b[0;34m=\u001b[0m\u001b[0mworkers\u001b[0m\u001b[0;34m,\u001b[0m\u001b[0;34m\u001b[0m\u001b[0;34m\u001b[0m\u001b[0m\n\u001b[0;32m--> 727\u001b[0;31m         use_multiprocessing=use_multiprocessing)\n\u001b[0m\u001b[1;32m    728\u001b[0m \u001b[0;34m\u001b[0m\u001b[0m\n\u001b[1;32m    729\u001b[0m   def evaluate(self,\n",
      "\u001b[0;32m~/.local/lib/python3.6/site-packages/tensorflow_core/python/keras/engine/training_arrays.py\u001b[0m in \u001b[0;36mfit\u001b[0;34m(self, model, x, y, batch_size, epochs, verbose, callbacks, validation_split, validation_data, shuffle, class_weight, sample_weight, initial_epoch, steps_per_epoch, validation_steps, validation_freq, **kwargs)\u001b[0m\n\u001b[1;32m    641\u001b[0m         \u001b[0msteps\u001b[0m\u001b[0;34m=\u001b[0m\u001b[0msteps_per_epoch\u001b[0m\u001b[0;34m,\u001b[0m\u001b[0;34m\u001b[0m\u001b[0;34m\u001b[0m\u001b[0m\n\u001b[1;32m    642\u001b[0m         \u001b[0mvalidation_split\u001b[0m\u001b[0;34m=\u001b[0m\u001b[0mvalidation_split\u001b[0m\u001b[0;34m,\u001b[0m\u001b[0;34m\u001b[0m\u001b[0;34m\u001b[0m\u001b[0m\n\u001b[0;32m--> 643\u001b[0;31m         shuffle=shuffle)\n\u001b[0m\u001b[1;32m    644\u001b[0m \u001b[0;34m\u001b[0m\u001b[0m\n\u001b[1;32m    645\u001b[0m     \u001b[0;32mif\u001b[0m \u001b[0mvalidation_data\u001b[0m\u001b[0;34m:\u001b[0m\u001b[0;34m\u001b[0m\u001b[0;34m\u001b[0m\u001b[0m\n",
      "\u001b[0;32m~/.local/lib/python3.6/site-packages/tensorflow_core/python/keras/engine/training.py\u001b[0m in \u001b[0;36m_standardize_user_data\u001b[0;34m(self, x, y, sample_weight, class_weight, batch_size, check_steps, steps_name, steps, validation_split, shuffle, extract_tensors_from_dataset)\u001b[0m\n\u001b[1;32m   2469\u001b[0m           \u001b[0mfeed_input_shapes\u001b[0m\u001b[0;34m,\u001b[0m\u001b[0;34m\u001b[0m\u001b[0;34m\u001b[0m\u001b[0m\n\u001b[1;32m   2470\u001b[0m           \u001b[0mcheck_batch_axis\u001b[0m\u001b[0;34m=\u001b[0m\u001b[0;32mFalse\u001b[0m\u001b[0;34m,\u001b[0m  \u001b[0;31m# Don't enforce the batch size.\u001b[0m\u001b[0;34m\u001b[0m\u001b[0;34m\u001b[0m\u001b[0m\n\u001b[0;32m-> 2471\u001b[0;31m           exception_prefix='input')\n\u001b[0m\u001b[1;32m   2472\u001b[0m \u001b[0;34m\u001b[0m\u001b[0m\n\u001b[1;32m   2473\u001b[0m     \u001b[0;31m# Get typespecs for the input data and sanitize it if necessary.\u001b[0m\u001b[0;34m\u001b[0m\u001b[0;34m\u001b[0m\u001b[0;34m\u001b[0m\u001b[0m\n",
      "\u001b[0;32m~/.local/lib/python3.6/site-packages/tensorflow_core/python/keras/engine/training_utils.py\u001b[0m in \u001b[0;36mstandardize_input_data\u001b[0;34m(data, names, shapes, check_batch_axis, exception_prefix)\u001b[0m\n\u001b[1;32m    499\u001b[0m     \u001b[0;32mexcept\u001b[0m \u001b[0mKeyError\u001b[0m \u001b[0;32mas\u001b[0m \u001b[0me\u001b[0m\u001b[0;34m:\u001b[0m\u001b[0;34m\u001b[0m\u001b[0;34m\u001b[0m\u001b[0m\n\u001b[1;32m    500\u001b[0m       raise ValueError('No data provided for \"' + e.args[0] + '\". Need data '\n\u001b[0;32m--> 501\u001b[0;31m                        'for each key in: ' + str(names))\n\u001b[0m\u001b[1;32m    502\u001b[0m   \u001b[0;32melif\u001b[0m \u001b[0misinstance\u001b[0m\u001b[0;34m(\u001b[0m\u001b[0mdata\u001b[0m\u001b[0;34m,\u001b[0m \u001b[0;34m(\u001b[0m\u001b[0mlist\u001b[0m\u001b[0;34m,\u001b[0m \u001b[0mtuple\u001b[0m\u001b[0;34m)\u001b[0m\u001b[0;34m)\u001b[0m\u001b[0;34m:\u001b[0m\u001b[0;34m\u001b[0m\u001b[0;34m\u001b[0m\u001b[0m\n\u001b[1;32m    503\u001b[0m     \u001b[0;32mif\u001b[0m \u001b[0misinstance\u001b[0m\u001b[0;34m(\u001b[0m\u001b[0mdata\u001b[0m\u001b[0;34m[\u001b[0m\u001b[0;36m0\u001b[0m\u001b[0;34m]\u001b[0m\u001b[0;34m,\u001b[0m \u001b[0;34m(\u001b[0m\u001b[0mlist\u001b[0m\u001b[0;34m,\u001b[0m \u001b[0mtuple\u001b[0m\u001b[0;34m)\u001b[0m\u001b[0;34m)\u001b[0m\u001b[0;34m:\u001b[0m\u001b[0;34m\u001b[0m\u001b[0;34m\u001b[0m\u001b[0m\n",
      "\u001b[0;31mValueError\u001b[0m: No data provided for \"PCA1\". Need data for each key in: ['gender', 'Partner', 'Dependents', 'PhoneService', 'MultipleLines', 'InternetService', 'OnlineSecurity', 'OnlineBackup', 'DeviceProtection', 'TechSupport', 'StreamingTV', 'StreamingMovies', 'Contract', 'PaperlessBilling', 'PaymentMethod', 'tenure_group', 'MonthlyCharges', 'TotalCharges', 'tenure', 'PCA1', 'PCA2', 'PCA3', 'FICA1', 'FICA2', 'FICA3', 'TSVD1', 'TSVD2', 'TSVD3', 'GRP1', 'GRP2', 'GRP3', 'SRP1', 'SRP2', 'SRP3']"
     ]
    }
   ],
   "source": [
    "_hist = model.fit(\n",
    "    x=get_keras_dataset(train_df[FEATURE_COLS]),\n",
    "    y=train_df[TARGET_COL],\n",
    "    validation_data=(get_keras_dataset(test_df[FEATURE_COLS]), test_df[TARGET_COL]),\n",
    "    epochs=EPOCHS,\n",
    "    batch_size=BATCH_SIZE,\n",
    "    class_weight=CLASS_WEIGHTS,\n",
    "    callbacks=[tb_callback, bm_callback],\n",
    "    verbose=2\n",
    ")"
   ]
  },
  {
   "cell_type": "code",
   "execution_count": null,
   "metadata": {},
   "outputs": [],
   "source": []
  },
  {
   "cell_type": "code",
   "execution_count": null,
   "metadata": {},
   "outputs": [],
   "source": []
  },
  {
   "cell_type": "code",
   "execution_count": null,
   "metadata": {},
   "outputs": [],
   "source": []
  },
  {
   "cell_type": "code",
   "execution_count": 15,
   "metadata": {},
   "outputs": [],
   "source": [
    "# Plot the results of the training\n",
    "def plot_history(history):\n",
    "    fig = plt.figure(figsize=(15,8))\n",
    "    ax = plt.subplot(211)\n",
    "    \n",
    "    plt.xlabel('Epoch')\n",
    "    plt.ylabel('loss, acc')\n",
    "    \n",
    "    # losses\n",
    "    ax.plot(history.epoch, history.history['loss'], label='Train LOSS')\n",
    "    ax.plot(history.epoch, history.history['val_loss'], label='Val LOSS')\n",
    "    ax.plot(history.epoch, history.history['acc'], label ='Train Accuracy')\n",
    "    ax.plot(history.epoch, history.history['val_acc'], label='Val Accuracy')\n",
    "    plt.legend()\n",
    "    \n",
    "    # Plot the learning_rate\n",
    "    if 'lr' in history.history:\n",
    "        ax = plt.subplot(212)\n",
    "        plt.ylabel('Learning rate')\n",
    "        ax.plot(history.epoch, history.history['lr'], label='learning_rate')\n",
    "        plt.legend()\n",
    "    plt.show()"
   ]
  },
  {
   "cell_type": "code",
   "execution_count": null,
   "metadata": {},
   "outputs": [],
   "source": []
  },
  {
   "cell_type": "code",
   "execution_count": null,
   "metadata": {},
   "outputs": [],
   "source": []
  },
  {
   "cell_type": "code",
   "execution_count": null,
   "metadata": {},
   "outputs": [],
   "source": []
  },
  {
   "cell_type": "code",
   "execution_count": null,
   "metadata": {},
   "outputs": [],
   "source": []
  },
  {
   "cell_type": "code",
   "execution_count": null,
   "metadata": {},
   "outputs": [],
   "source": []
  },
  {
   "cell_type": "code",
   "execution_count": null,
   "metadata": {},
   "outputs": [],
   "source": []
  },
  {
   "cell_type": "code",
   "execution_count": null,
   "metadata": {},
   "outputs": [],
   "source": []
  },
  {
   "cell_type": "code",
   "execution_count": null,
   "metadata": {},
   "outputs": [],
   "source": []
  },
  {
   "cell_type": "code",
   "execution_count": null,
   "metadata": {},
   "outputs": [],
   "source": []
  },
  {
   "cell_type": "code",
   "execution_count": null,
   "metadata": {},
   "outputs": [],
   "source": []
  },
  {
   "cell_type": "code",
   "execution_count": null,
   "metadata": {},
   "outputs": [],
   "source": []
  },
  {
   "cell_type": "code",
   "execution_count": null,
   "metadata": {},
   "outputs": [],
   "source": []
  },
  {
   "cell_type": "code",
   "execution_count": 16,
   "metadata": {},
   "outputs": [],
   "source": [
    "# Export the transformed data to verify \n",
    "customer_data.to_csv('/home/mike/Documents/mkp_code/Institute of Data Course/telco-customer-churn-project/data/processed/Telco-Customer-Churn-Keras.csv')"
   ]
  },
  {
   "cell_type": "code",
   "execution_count": null,
   "metadata": {},
   "outputs": [],
   "source": []
  }
 ],
 "metadata": {
  "language_info": {
   "codemirror_mode": {
    "name": "ipython",
    "version": 3
   },
   "file_extension": ".py",
   "mimetype": "text/x-python",
   "name": "python",
   "nbconvert_exporter": "python",
   "pygments_lexer": "ipython3",
   "version": "3.6.9-final"
  },
  "orig_nbformat": 2,
  "kernelspec": {
   "name": "python36964bita7d32479a3264c2d9b930403e542f58b",
   "display_name": "Python 3.6.9 64-bit"
  }
 },
 "nbformat": 4,
 "nbformat_minor": 2
}