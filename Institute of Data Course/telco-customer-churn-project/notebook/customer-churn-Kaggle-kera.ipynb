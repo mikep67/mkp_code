{
 "cells": [
  {
   "cell_type": "code",
   "execution_count": null,
   "metadata": {},
   "outputs": [],
   "source": []
  },
  {
   "cell_type": "markdown",
   "metadata": {},
   "source": [
    "## DNN - Keras and categorical feature embedding\n",
    "### Demostration code from Kaggle:\n",
    "#### https://www.kaggle.com/blaskowitz100/dnn-keras-and-categorical-feature-embedding"
   ]
  },
  {
   "cell_type": "code",
   "execution_count": null,
   "metadata": {},
   "outputs": [],
   "source": []
  },
  {
   "cell_type": "code",
   "execution_count": 43,
   "metadata": {
    "tags": []
   },
   "outputs": [],
   "source": [
    "# Import the necessary libraries\n",
    "import os\n",
    "import time\n",
    "import datetime\n",
    "import numpy as np\n",
    "import pandas as pd\n",
    "\n",
    "# Keras\n",
    "import tensorflow.keras as keras\n",
    "from tensorflow.keras import layers\n",
    "from tensorflow.keras import models\n",
    "from tensorflow.keras import callbacks\n",
    "from tensorflow.keras import backend as K\n",
    "\n",
    "# Standard ML stuff\n",
    "from sklearn.preprocessing import LabelEncoder\n",
    "from sklearn.preprocessing import MinMaxScaler \n",
    "from sklearn.preprocessing import StandardScaler\n",
    "from sklearn.model_selection import train_test_split\n",
    "from sklearn.metrics import classification_report\n",
    "from sklearn.metrics import accuracy_score\n",
    "from sklearn.manifold import TSNE\n",
    "from sklearn.decomposition import PCA\n",
    "from sklearn.decomposition import TruncatedSVD\n",
    "from sklearn.decomposition import FastICA\n",
    "from sklearn.random_projection import GaussianRandomProjection \n",
    "from sklearn.random_projection import SparseRandomProjection\n",
    "\n",
    "from keras.models import Sequential\n",
    "from keras.layers import Dense\n",
    "\n",
    "# Oversampling of minority class 'Churn customers'\n",
    "from imblearn.over_sampling import SMOTE\n",
    "\n",
    "# Plotting\n",
    "%matplotlib inline\n",
    "import matplotlib.pyplot as plt\n",
    "import seaborn as sns"
   ]
  },
  {
   "cell_type": "code",
   "execution_count": null,
   "metadata": {},
   "outputs": [],
   "source": []
  },
  {
   "cell_type": "code",
   "execution_count": 44,
   "metadata": {},
   "outputs": [],
   "source": [
    "#setting the data directory\n",
    "os.chdir('/home/mike/Documents/mkp_code/Institute of Data Course/telco-customer-churn-project/data/processed')"
   ]
  },
  {
   "cell_type": "code",
   "execution_count": null,
   "metadata": {},
   "outputs": [],
   "source": []
  },
  {
   "cell_type": "code",
   "execution_count": 45,
   "metadata": {},
   "outputs": [],
   "source": [
    "customer_data = pd.read_csv('Telco-Customer-Churn-Processed.csv')"
   ]
  },
  {
   "cell_type": "code",
   "execution_count": null,
   "metadata": {},
   "outputs": [],
   "source": []
  },
  {
   "cell_type": "markdown",
   "metadata": {},
   "source": [
    "* Remove the Unnamed: 0 Column"
   ]
  },
  {
   "cell_type": "code",
   "execution_count": 46,
   "metadata": {},
   "outputs": [],
   "source": [
    "# Remove an unnecessary columns\n",
    "customer_data.drop('Unnamed: 0',axis =1, inplace=True)"
   ]
  },
  {
   "cell_type": "code",
   "execution_count": null,
   "metadata": {},
   "outputs": [],
   "source": []
  },
  {
   "cell_type": "code",
   "execution_count": null,
   "metadata": {},
   "outputs": [],
   "source": []
  },
  {
   "cell_type": "code",
   "execution_count": null,
   "metadata": {},
   "outputs": [],
   "source": []
  },
  {
   "cell_type": "code",
   "execution_count": null,
   "metadata": {},
   "outputs": [],
   "source": []
  },
  {
   "cell_type": "code",
   "execution_count": 62,
   "metadata": {},
   "outputs": [],
   "source": [
    "pca = PCA(n_components=3)\n",
    "_X = pca.fit_transform(customer_data)\n",
    "pca_data = pd.DataFrame(_X, columns=[\"PCA1\", \"PCA2\", \"PCA3\"])\n",
    "customer_data[[\"PCA1\", \"PCA2\", \"PCA3\"]] = pca_data\n",
    "\n",
    "fica = FastICA(n_components=3)\n",
    "_X = fica.fit_transform(customer_data)\n",
    "fica_data = pd.DataFrame(_X, columns=[\"FICA1\", \"FICA2\", \"FICA3\"])\n",
    "customer_data[[\"FICA1\", \"FICA2\", \"FICA3\"]] = fica_data\n",
    "\n",
    "tsvd = TruncatedSVD(n_components=3)\n",
    "_X = tsvd.fit_transform(customer_data)\n",
    "tsvd_data = pd.DataFrame(_X, columns=[\"TSVD1\", \"TSVD2\", \"TSVD3\"])\n",
    "customer_data[[\"TSVD1\", \"TSVD2\", \"TSVD3\"]] = tsvd_data\n",
    "\n",
    "grp = GaussianRandomProjection(n_components=3)\n",
    "_X = grp.fit_transform(customer_data)\n",
    "grp_data = pd.DataFrame(_X, columns=[\"GRP1\", \"GRP2\", \"GRP3\"])\n",
    "customer_data[[\"GRP1\", \"GRP2\", \"GRP3\"]] = grp_data\n",
    "\n",
    "srp = SparseRandomProjection(n_components=3)\n",
    "_X = srp.fit_transform(customer_data)\n",
    "srp_data = pd.DataFrame(_X, columns=[\"SRP1\", \"SRP2\", \"SRP3\"])\n",
    "customer_data[[\"SRP1\", \"SRP2\", \"SRP3\"]] = srp_data\n",
    "\n",
    "numeric_cols.extend(pca_data.columns.values)\n",
    "numeric_cols.extend(fica_data.columns.values)\n",
    "numeric_cols.extend(tsvd_data.columns.values)\n",
    "numeric_cols.extend(grp_data.columns.values)\n",
    "numeric_cols.extend(srp_data.columns.values)\n",
    "\n"
   ]
  },
  {
   "cell_type": "code",
   "execution_count": null,
   "metadata": {},
   "outputs": [],
   "source": []
  },
  {
   "cell_type": "code",
   "execution_count": 66,
   "metadata": {},
   "outputs": [],
   "source": [
    "# Set Constants\n",
    "categorical_cols = ['gender', 'Partner', 'Dependents', 'PhoneService','MultipleLines', 'InternetService', 'OnlineSecurity', 'OnlineBackup', 'DeviceProtection', 'TechSupport', 'StreamingTV', 'StreamingMovies', 'Contract', 'PaperlessBilling', 'PaymentMethod', 'tenure_group']\n",
    "\n",
    "FEATURE_COLS = customer_data.columns\n",
    "TARGET_COL = 'Churn'\n",
    "EPOCHS = 50\n",
    "BATCH_SIZE = 4\n",
    "CLASS_WEIGHTS = {0 : 1., 1 : 2.5}"
   ]
  },
  {
   "cell_type": "code",
   "execution_count": null,
   "metadata": {},
   "outputs": [],
   "source": []
  },
  {
   "cell_type": "code",
   "execution_count": 67,
   "metadata": {},
   "outputs": [],
   "source": [
    "# Placeholders for the model\n",
    "cat_inputs = []\n",
    "num_inputs = []\n",
    "embeddings = []\n",
    "embedding_layer_names = []\n",
    "emb_n = 10"
   ]
  },
  {
   "cell_type": "code",
   "execution_count": null,
   "metadata": {},
   "outputs": [],
   "source": []
  },
  {
   "cell_type": "code",
   "execution_count": 69,
   "metadata": {
    "tags": []
   },
   "outputs": [
    {
     "output_type": "stream",
     "name": "stdout",
     "text": "WARNING:tensorflow:From /home/mike/.local/lib/python3.6/site-packages/tensorflow_core/python/keras/initializers.py:119: calling RandomUniform.__init__ (from tensorflow.python.ops.init_ops) with dtype is deprecated and will be removed in a future version.\nInstructions for updating:\nCall initializer instance with the dtype argument instead of passing it to the constructor\nWARNING:tensorflow:From /home/mike/.local/lib/python3.6/site-packages/tensorflow_core/python/ops/resource_variable_ops.py:1630: calling BaseResourceVariable.__init__ (from tensorflow.python.ops.resource_variable_ops) with constraint is deprecated and will be removed in a future version.\nInstructions for updating:\nIf using Keras pass *_constraint arguments to layers.\n"
    }
   ],
   "source": [
    "# Embedding for categorical features\n",
    "for col in categorical_cols:\n",
    "    _input = layers.Input(shape=[1], name=col)\n",
    "    _embed = layers.Embedding(customer_data[col].max() + 1, emb_n, name=col+'_emb')(_input)\n",
    "    cat_inputs.append(_input)\n",
    "    embeddings.append(_embed)\n",
    "    embedding_layer_names.append(col+'_emb')\n",
    "    \n",
    "# Simple inputs for the numeric features\n",
    "for col in numeric_cols:\n",
    "    numeric_input = layers.Input(shape=(1,), name=col)\n",
    "    num_inputs.append(numeric_input)\n",
    "    \n",
    "# Merge the numeric inputs\n",
    "merged_num_inputs = layers.concatenate(num_inputs)\n",
    "#numeric_dense = layers.Dense(20, activation='relu')(merged_num_inputs)\n",
    "\n",
    "# Merge embedding and use a Droput to prevent overfittting\n",
    "merged_inputs = layers.concatenate(embeddings)\n",
    "spatial_dropout = layers.SpatialDropout1D(0.2)(merged_inputs)\n",
    "flat_embed = layers.Flatten()(spatial_dropout)\n",
    "\n",
    "# Merge embedding and numeric features\n",
    "all_features = layers.concatenate([flat_embed, merged_num_inputs])\n",
    "\n",
    "# MLP for classification\n",
    "x = layers.Dropout(0.2)(layers.Dense(100, activation='relu')(all_features))\n",
    "x = layers.Dropout(0.2)(layers.Dense(50, activation='relu')(x))\n",
    "x = layers.Dropout(0.2)(layers.Dense(25, activation='relu')(x))\n",
    "x = layers.Dropout(0.2)(layers.Dense(15, activation='relu')(x))\n",
    "\n",
    "# Final model\n",
    "output = layers.Dense(1, activation='sigmoid')(x)\n",
    "model = models.Model(inputs=cat_inputs + num_inputs, outputs=output)"
   ]
  },
  {
   "cell_type": "code",
   "execution_count": null,
   "metadata": {},
   "outputs": [],
   "source": []
  },
  {
   "cell_type": "code",
   "execution_count": 70,
   "metadata": {
    "tags": []
   },
   "outputs": [
    {
     "output_type": "stream",
     "name": "stdout",
     "text": "WARNING:tensorflow:From /home/mike/.local/lib/python3.6/site-packages/tensorflow_core/python/ops/nn_impl.py:183: where (from tensorflow.python.ops.array_ops) is deprecated and will be removed in a future version.\nInstructions for updating:\nUse tf.where in 2.0, which has the same broadcast rule as np.where\nModel: \"model\"\n__________________________________________________________________________________________________\nLayer (type)                    Output Shape         Param #     Connected to                     \n==================================================================================================\ngender (InputLayer)             [(None, 1)]          0                                            \n__________________________________________________________________________________________________\nPartner (InputLayer)            [(None, 1)]          0                                            \n__________________________________________________________________________________________________\nDependents (InputLayer)         [(None, 1)]          0                                            \n__________________________________________________________________________________________________\nPhoneService (InputLayer)       [(None, 1)]          0                                            \n__________________________________________________________________________________________________\nMultipleLines (InputLayer)      [(None, 1)]          0                                            \n__________________________________________________________________________________________________\nInternetService (InputLayer)    [(None, 1)]          0                                            \n__________________________________________________________________________________________________\nOnlineSecurity (InputLayer)     [(None, 1)]          0                                            \n__________________________________________________________________________________________________\nOnlineBackup (InputLayer)       [(None, 1)]          0                                            \n__________________________________________________________________________________________________\nDeviceProtection (InputLayer)   [(None, 1)]          0                                            \n__________________________________________________________________________________________________\nTechSupport (InputLayer)        [(None, 1)]          0                                            \n__________________________________________________________________________________________________\nStreamingTV (InputLayer)        [(None, 1)]          0                                            \n__________________________________________________________________________________________________\nStreamingMovies (InputLayer)    [(None, 1)]          0                                            \n__________________________________________________________________________________________________\nContract (InputLayer)           [(None, 1)]          0                                            \n__________________________________________________________________________________________________\nPaperlessBilling (InputLayer)   [(None, 1)]          0                                            \n__________________________________________________________________________________________________\nPaymentMethod (InputLayer)      [(None, 1)]          0                                            \n__________________________________________________________________________________________________\ntenure_group (InputLayer)       [(None, 1)]          0                                            \n__________________________________________________________________________________________________\ngender_emb (Embedding)          (None, 1, 10)        20          gender[0][0]                     \n__________________________________________________________________________________________________\nPartner_emb (Embedding)         (None, 1, 10)        20          Partner[0][0]                    \n__________________________________________________________________________________________________\nDependents_emb (Embedding)      (None, 1, 10)        20          Dependents[0][0]                 \n__________________________________________________________________________________________________\nPhoneService_emb (Embedding)    (None, 1, 10)        20          PhoneService[0][0]               \n__________________________________________________________________________________________________\nMultipleLines_emb (Embedding)   (None, 1, 10)        30          MultipleLines[0][0]              \n__________________________________________________________________________________________________\nInternetService_emb (Embedding) (None, 1, 10)        30          InternetService[0][0]            \n__________________________________________________________________________________________________\nOnlineSecurity_emb (Embedding)  (None, 1, 10)        30          OnlineSecurity[0][0]             \n__________________________________________________________________________________________________\nOnlineBackup_emb (Embedding)    (None, 1, 10)        30          OnlineBackup[0][0]               \n__________________________________________________________________________________________________\nDeviceProtection_emb (Embedding (None, 1, 10)        30          DeviceProtection[0][0]           \n__________________________________________________________________________________________________\nTechSupport_emb (Embedding)     (None, 1, 10)        30          TechSupport[0][0]                \n__________________________________________________________________________________________________\nStreamingTV_emb (Embedding)     (None, 1, 10)        30          StreamingTV[0][0]                \n__________________________________________________________________________________________________\nStreamingMovies_emb (Embedding) (None, 1, 10)        30          StreamingMovies[0][0]            \n__________________________________________________________________________________________________\nContract_emb (Embedding)        (None, 1, 10)        30          Contract[0][0]                   \n__________________________________________________________________________________________________\nPaperlessBilling_emb (Embedding (None, 1, 10)        20          PaperlessBilling[0][0]           \n__________________________________________________________________________________________________\nPaymentMethod_emb (Embedding)   (None, 1, 10)        40          PaymentMethod[0][0]              \n__________________________________________________________________________________________________\ntenure_group_emb (Embedding)    (None, 1, 10)        50          tenure_group[0][0]               \n__________________________________________________________________________________________________\nconcatenate_2 (Concatenate)     (None, 1, 160)       0           gender_emb[0][0]                 \n                                                                 Partner_emb[0][0]                \n                                                                 Dependents_emb[0][0]             \n                                                                 PhoneService_emb[0][0]           \n                                                                 MultipleLines_emb[0][0]          \n                                                                 InternetService_emb[0][0]        \n                                                                 OnlineSecurity_emb[0][0]         \n                                                                 OnlineBackup_emb[0][0]           \n                                                                 DeviceProtection_emb[0][0]       \n                                                                 TechSupport_emb[0][0]            \n                                                                 StreamingTV_emb[0][0]            \n                                                                 StreamingMovies_emb[0][0]        \n                                                                 Contract_emb[0][0]               \n                                                                 PaperlessBilling_emb[0][0]       \n                                                                 PaymentMethod_emb[0][0]          \n                                                                 tenure_group_emb[0][0]           \n__________________________________________________________________________________________________\nspatial_dropout1d (SpatialDropo (None, 1, 160)       0           concatenate_2[0][0]              \n__________________________________________________________________________________________________\nMonthlyCharges (InputLayer)     [(None, 1)]          0                                            \n__________________________________________________________________________________________________\nTotalCharges (InputLayer)       [(None, 1)]          0                                            \n__________________________________________________________________________________________________\ntenure (InputLayer)             [(None, 1)]          0                                            \n__________________________________________________________________________________________________\nPCA1 (InputLayer)               [(None, 1)]          0                                            \n__________________________________________________________________________________________________\nPCA2 (InputLayer)               [(None, 1)]          0                                            \n__________________________________________________________________________________________________\nPCA3 (InputLayer)               [(None, 1)]          0                                            \n__________________________________________________________________________________________________\nFICA1 (InputLayer)              [(None, 1)]          0                                            \n__________________________________________________________________________________________________\nFICA2 (InputLayer)              [(None, 1)]          0                                            \n__________________________________________________________________________________________________\nFICA3 (InputLayer)              [(None, 1)]          0                                            \n__________________________________________________________________________________________________\nTSVD1 (InputLayer)              [(None, 1)]          0                                            \n__________________________________________________________________________________________________\nTSVD2 (InputLayer)              [(None, 1)]          0                                            \n__________________________________________________________________________________________________\nTSVD3 (InputLayer)              [(None, 1)]          0                                            \n__________________________________________________________________________________________________\nGRP1 (InputLayer)               [(None, 1)]          0                                            \n__________________________________________________________________________________________________\nGRP2 (InputLayer)               [(None, 1)]          0                                            \n__________________________________________________________________________________________________\nGRP3 (InputLayer)               [(None, 1)]          0                                            \n__________________________________________________________________________________________________\nSRP1 (InputLayer)               [(None, 1)]          0                                            \n__________________________________________________________________________________________________\nSRP2 (InputLayer)               [(None, 1)]          0                                            \n__________________________________________________________________________________________________\nSRP3 (InputLayer)               [(None, 1)]          0                                            \n__________________________________________________________________________________________________\nflatten (Flatten)               (None, 160)          0           spatial_dropout1d[0][0]          \n__________________________________________________________________________________________________\nconcatenate_1 (Concatenate)     (None, 18)           0           MonthlyCharges[0][0]             \n                                                                 TotalCharges[0][0]               \n                                                                 tenure[0][0]                     \n                                                                 PCA1[0][0]                       \n                                                                 PCA2[0][0]                       \n                                                                 PCA3[0][0]                       \n                                                                 FICA1[0][0]                      \n                                                                 FICA2[0][0]                      \n                                                                 FICA3[0][0]                      \n                                                                 TSVD1[0][0]                      \n                                                                 TSVD2[0][0]                      \n                                                                 TSVD3[0][0]                      \n                                                                 GRP1[0][0]                       \n                                                                 GRP2[0][0]                       \n                                                                 GRP3[0][0]                       \n                                                                 SRP1[0][0]                       \n                                                                 SRP2[0][0]                       \n                                                                 SRP3[0][0]                       \n__________________________________________________________________________________________________\nconcatenate_3 (Concatenate)     (None, 178)          0           flatten[0][0]                    \n                                                                 concatenate_1[0][0]              \n__________________________________________________________________________________________________\ndense_2 (Dense)                 (None, 100)          17900       concatenate_3[0][0]              \n__________________________________________________________________________________________________\ndropout_1 (Dropout)             (None, 100)          0           dense_2[0][0]                    \n__________________________________________________________________________________________________\ndense_3 (Dense)                 (None, 50)           5050        dropout_1[0][0]                  \n__________________________________________________________________________________________________\ndropout_2 (Dropout)             (None, 50)           0           dense_3[0][0]                    \n__________________________________________________________________________________________________\ndense_4 (Dense)                 (None, 25)           1275        dropout_2[0][0]                  \n__________________________________________________________________________________________________\ndropout_3 (Dropout)             (None, 25)           0           dense_4[0][0]                    \n__________________________________________________________________________________________________\ndense_5 (Dense)                 (None, 15)           390         dropout_3[0][0]                  \n__________________________________________________________________________________________________\ndropout_4 (Dropout)             (None, 15)           0           dense_5[0][0]                    \n__________________________________________________________________________________________________\ndense_6 (Dense)                 (None, 1)            16          dropout_4[0][0]                  \n==================================================================================================\nTotal params: 25,091\nTrainable params: 25,091\nNon-trainable params: 0\n__________________________________________________________________________________________________\nNone\n"
    }
   ],
   "source": [
    "model.compile(loss='binary_crossentropy', optimizer='adam', metrics=['accuracy'])\n",
    "print(model.summary())"
   ]
  },
  {
   "cell_type": "code",
   "execution_count": null,
   "metadata": {},
   "outputs": [],
   "source": []
  },
  {
   "cell_type": "code",
   "execution_count": 86,
   "metadata": {},
   "outputs": [],
   "source": [
    "# TB Callback\n",
    "log_folder = datetime.datetime.fromtimestamp(time.time()).strftime('%Y-%m-%d-%H-%M-%S')\n",
    "tb_callback = callbacks.TensorBoard(\n",
    "    log_dir=os.path.join('tb-logs', log_folder),)"
   ]
  },
  {
   "cell_type": "code",
   "execution_count": null,
   "metadata": {},
   "outputs": [],
   "source": []
  },
  {
   "cell_type": "code",
   "execution_count": 87,
   "metadata": {},
   "outputs": [],
   "source": [
    "# Best model callback\n",
    "bm_callback = callbacks.ModelCheckpoint(\n",
    "    filepath=os.path.join('tb-logs', log_folder, 'bm.h5'),\n",
    "    save_best_only=True,\n",
    "    save_weights_only=False\n",
    ")"
   ]
  },
  {
   "cell_type": "code",
   "execution_count": null,
   "metadata": {},
   "outputs": [],
   "source": []
  },
  {
   "cell_type": "code",
   "execution_count": 94,
   "metadata": {
    "tags": []
   },
   "outputs": [
    {
     "output_type": "stream",
     "name": "stdout",
     "text": "(5986, 36)\n"
    }
   ],
   "source": [
    "train_df, test_df = train_test_split(customer_data, test_size=0.15, random_state=42)\n",
    "print(train_df.shape)"
   ]
  },
  {
   "cell_type": "code",
   "execution_count": null,
   "metadata": {},
   "outputs": [],
   "source": []
  },
  {
   "cell_type": "code",
   "execution_count": null,
   "metadata": {},
   "outputs": [],
   "source": []
  },
  {
   "cell_type": "code",
   "execution_count": null,
   "metadata": {},
   "outputs": [],
   "source": []
  },
  {
   "cell_type": "code",
   "execution_count": 95,
   "metadata": {},
   "outputs": [],
   "source": [
    "def get_keras_dataset(df):\n",
    "    X = {str(col) : np.array(df[col]) for col in df.columns}\n",
    "    return X"
   ]
  },
  {
   "cell_type": "code",
   "execution_count": null,
   "metadata": {},
   "outputs": [],
   "source": []
  },
  {
   "cell_type": "code",
   "execution_count": 96,
   "metadata": {
    "tags": []
   },
   "outputs": [
    {
     "output_type": "stream",
     "name": "stdout",
     "text": "Train on 5986 samples, validate on 1057 samples\nEpoch 1/50\n"
    },
    {
     "output_type": "error",
     "ename": "ValueError",
     "evalue": "Could not pack sequence. Structure had 48 elements, but flat_sequence had 16 elements.  Structure: [<tf.Tensor 'gender_emb/embedding_lookup/Identity_1:0' shape=(?, 1, 10) dtype=float32>, <tf.Tensor 'Partner_emb/embedding_lookup/Identity_1:0' shape=(?, 1, 10) dtype=float32>, <tf.Tensor 'Dependents_emb/embedding_lookup/Identity_1:0' shape=(?, 1, 10) dtype=float32>, <tf.Tensor 'PhoneService_emb/embedding_lookup/Identity_1:0' shape=(?, 1, 10) dtype=float32>, <tf.Tensor 'MultipleLines_emb/embedding_lookup/Identity_1:0' shape=(?, 1, 10) dtype=float32>, <tf.Tensor 'InternetService_emb/embedding_lookup/Identity_1:0' shape=(?, 1, 10) dtype=float32>, <tf.Tensor 'OnlineSecurity_emb/embedding_lookup/Identity_1:0' shape=(?, 1, 10) dtype=float32>, <tf.Tensor 'OnlineBackup_emb/embedding_lookup/Identity_1:0' shape=(?, 1, 10) dtype=float32>, <tf.Tensor 'DeviceProtection_emb/embedding_lookup/Identity_1:0' shape=(?, 1, 10) dtype=float32>, <tf.Tensor 'TechSupport_emb/embedding_lookup/Identity_1:0' shape=(?, 1, 10) dtype=float32>, <tf.Tensor 'StreamingTV_emb/embedding_lookup/Identity_1:0' shape=(?, 1, 10) dtype=float32>, <tf.Tensor 'StreamingMovies_emb/embedding_lookup/Identity_1:0' shape=(?, 1, 10) dtype=float32>, <tf.Tensor 'Contract_emb/embedding_lookup/Identity_1:0' shape=(?, 1, 10) dtype=float32>, <tf.Tensor 'PaperlessBilling_emb/embedding_lookup/Identity_1:0' shape=(?, 1, 10) dtype=float32>, <tf.Tensor 'PaymentMethod_emb/embedding_lookup/Identity_1:0' shape=(?, 1, 10) dtype=float32>, <tf.Tensor 'tenure_group_emb/embedding_lookup/Identity_1:0' shape=(?, 1, 10) dtype=float32>, <tf.Tensor 'gender_emb_1/embedding_lookup/Identity_1:0' shape=(?, 1, 10) dtype=float32>, <tf.Tensor 'Partner_emb_1/embedding_lookup/Identity_1:0' shape=(?, 1, 10) dtype=float32>, <tf.Tensor 'Dependents_emb_1/embedding_lookup/Identity_1:0' shape=(?, 1, 10) dtype=float32>, <tf.Tensor 'PhoneService_emb_1/embedding_lookup/Identity_1:0' shape=(?, 1, 10) dtype=float32>, <tf.Tensor 'MultipleLines_emb_1/embedding_lookup/Identity_1:0' shape=(?, 1, 10) dtype=float32>, <tf.Tensor 'InternetService_emb_1/embedding_lookup/Identity_1:0' shape=(?, 1, 10) dtype=float32>, <tf.Tensor 'OnlineSecurity_emb_1/embedding_lookup/Identity_1:0' shape=(?, 1, 10) dtype=float32>, <tf.Tensor 'OnlineBackup_emb_1/embedding_lookup/Identity_1:0' shape=(?, 1, 10) dtype=float32>, <tf.Tensor 'DeviceProtection_emb_1/embedding_lookup/Identity_1:0' shape=(?, 1, 10) dtype=float32>, <tf.Tensor 'TechSupport_emb_1/embedding_lookup/Identity_1:0' shape=(?, 1, 10) dtype=float32>, <tf.Tensor 'StreamingTV_emb_1/embedding_lookup/Identity_1:0' shape=(?, 1, 10) dtype=float32>, <tf.Tensor 'StreamingMovies_emb_1/embedding_lookup/Identity_1:0' shape=(?, 1, 10) dtype=float32>, <tf.Tensor 'Contract_emb_1/embedding_lookup/Identity_1:0' shape=(?, 1, 10) dtype=float32>, <tf.Tensor 'PaperlessBilling_emb_1/embedding_lookup/Identity_1:0' shape=(?, 1, 10) dtype=float32>, <tf.Tensor 'PaymentMethod_emb_1/embedding_lookup/Identity_1:0' shape=(?, 1, 10) dtype=float32>, <tf.Tensor 'tenure_group_emb_1/embedding_lookup/Identity_1:0' shape=(?, 1, 10) dtype=float32>, <tf.Tensor 'gender_emb_2/embedding_lookup/Identity_1:0' shape=(?, 1, 10) dtype=float32>, <tf.Tensor 'Partner_emb_2/embedding_lookup/Identity_1:0' shape=(?, 1, 10) dtype=float32>, <tf.Tensor 'Dependents_emb_2/embedding_lookup/Identity_1:0' shape=(?, 1, 10) dtype=float32>, <tf.Tensor 'PhoneService_emb_2/embedding_lookup/Identity_1:0' shape=(?, 1, 10) dtype=float32>, <tf.Tensor 'MultipleLines_emb_2/embedding_lookup/Identity_1:0' shape=(?, 1, 10) dtype=float32>, <tf.Tensor 'InternetService_emb_2/embedding_lookup/Identity_1:0' shape=(?, 1, 10) dtype=float32>, <tf.Tensor 'OnlineSecurity_emb_2/embedding_lookup/Identity_1:0' shape=(?, 1, 10) dtype=float32>, <tf.Tensor 'OnlineBackup_emb_2/embedding_lookup/Identity_1:0' shape=(?, 1, 10) dtype=float32>, <tf.Tensor 'DeviceProtection_emb_2/embedding_lookup/Identity_1:0' shape=(?, 1, 10) dtype=float32>, <tf.Tensor 'TechSupport_emb_2/embedding_lookup/Identity_1:0' shape=(?, 1, 10) dtype=float32>, <tf.Tensor 'StreamingTV_emb_2/embedding_lookup/Identity_1:0' shape=(?, 1, 10) dtype=float32>, <tf.Tensor 'StreamingMovies_emb_2/embedding_lookup/Identity_1:0' shape=(?, 1, 10) dtype=float32>, <tf.Tensor 'Contract_emb_2/embedding_lookup/Identity_1:0' shape=(?, 1, 10) dtype=float32>, <tf.Tensor 'PaperlessBilling_emb_2/embedding_lookup/Identity_1:0' shape=(?, 1, 10) dtype=float32>, <tf.Tensor 'PaymentMethod_emb_2/embedding_lookup/Identity_1:0' shape=(?, 1, 10) dtype=float32>, <tf.Tensor 'tenure_group_emb_2/embedding_lookup/Identity_1:0' shape=(?, 1, 10) dtype=float32>], flat_sequence: [<tensorflow.python.keras.utils.tf_utils.ListWrapper object at 0x7f546010db38>, <tensorflow.python.keras.utils.tf_utils.ListWrapper object at 0x7f546010d3c8>, <tensorflow.python.keras.utils.tf_utils.ListWrapper object at 0x7f546010dfd0>, <tensorflow.python.keras.utils.tf_utils.ListWrapper object at 0x7f546010d978>, <tensorflow.python.keras.utils.tf_utils.ListWrapper object at 0x7f5460123e48>, <tensorflow.python.keras.utils.tf_utils.ListWrapper object at 0x7f5460123748>, <tensorflow.python.keras.utils.tf_utils.ListWrapper object at 0x7f5460123b38>, <tensorflow.python.keras.utils.tf_utils.ListWrapper object at 0x7f5460123c88>, <tensorflow.python.keras.utils.tf_utils.ListWrapper object at 0x7f5460123ac8>, <tensorflow.python.keras.utils.tf_utils.ListWrapper object at 0x7f5460123f98>, <tensorflow.python.keras.utils.tf_utils.ListWrapper object at 0x7f5460123908>, <tensorflow.python.keras.utils.tf_utils.ListWrapper object at 0x7f54601235f8>, <tensorflow.python.keras.utils.tf_utils.ListWrapper object at 0x7f5460123f60>, <tensorflow.python.keras.utils.tf_utils.ListWrapper object at 0x7f5460123208>, <tensorflow.python.keras.utils.tf_utils.ListWrapper object at 0x7f5460123cf8>, <tensorflow.python.keras.utils.tf_utils.ListWrapper object at 0x7f54601233c8>].",
     "traceback": [
      "\u001b[0;31m---------------------------------------------------------------------------\u001b[0m",
      "\u001b[0;31mIndexError\u001b[0m                                Traceback (most recent call last)",
      "\u001b[0;32m~/.local/lib/python3.6/site-packages/tensorflow_core/python/util/nest.py\u001b[0m in \u001b[0;36mpack_sequence_as\u001b[0;34m(structure, flat_sequence, expand_composites)\u001b[0m\n\u001b[1;32m    461\u001b[0m     final_index, packed = _packed_nest_with_indices(structure, flat_sequence,\n\u001b[0;32m--> 462\u001b[0;31m                                                     0, is_seq)\n\u001b[0m\u001b[1;32m    463\u001b[0m     \u001b[0;32mif\u001b[0m \u001b[0mfinal_index\u001b[0m \u001b[0;34m<\u001b[0m \u001b[0mlen\u001b[0m\u001b[0;34m(\u001b[0m\u001b[0mflat_sequence\u001b[0m\u001b[0;34m)\u001b[0m\u001b[0;34m:\u001b[0m\u001b[0;34m\u001b[0m\u001b[0;34m\u001b[0m\u001b[0m\n",
      "\u001b[0;32m~/.local/lib/python3.6/site-packages/tensorflow_core/python/util/nest.py\u001b[0m in \u001b[0;36m_packed_nest_with_indices\u001b[0;34m(structure, flat, index, is_seq)\u001b[0m\n\u001b[1;32m    411\u001b[0m     \u001b[0;32melse\u001b[0m\u001b[0;34m:\u001b[0m\u001b[0;34m\u001b[0m\u001b[0;34m\u001b[0m\u001b[0m\n\u001b[0;32m--> 412\u001b[0;31m       \u001b[0mpacked\u001b[0m\u001b[0;34m.\u001b[0m\u001b[0mappend\u001b[0m\u001b[0;34m(\u001b[0m\u001b[0mflat\u001b[0m\u001b[0;34m[\u001b[0m\u001b[0mindex\u001b[0m\u001b[0;34m]\u001b[0m\u001b[0;34m)\u001b[0m\u001b[0;34m\u001b[0m\u001b[0;34m\u001b[0m\u001b[0m\n\u001b[0m\u001b[1;32m    413\u001b[0m       \u001b[0mindex\u001b[0m \u001b[0;34m+=\u001b[0m \u001b[0;36m1\u001b[0m\u001b[0;34m\u001b[0m\u001b[0;34m\u001b[0m\u001b[0m\n",
      "\u001b[0;31mIndexError\u001b[0m: list index out of range",
      "\nDuring handling of the above exception, another exception occurred:\n",
      "\u001b[0;31mValueError\u001b[0m                                Traceback (most recent call last)",
      "\u001b[0;32m<ipython-input-96-67c37dd1ab5e>\u001b[0m in \u001b[0;36m<module>\u001b[0;34m\u001b[0m\n\u001b[1;32m      7\u001b[0m     \u001b[0mclass_weight\u001b[0m\u001b[0;34m=\u001b[0m\u001b[0mCLASS_WEIGHTS\u001b[0m\u001b[0;34m,\u001b[0m\u001b[0;34m\u001b[0m\u001b[0;34m\u001b[0m\u001b[0m\n\u001b[1;32m      8\u001b[0m     \u001b[0mcallbacks\u001b[0m\u001b[0;34m=\u001b[0m\u001b[0;34m[\u001b[0m\u001b[0mtb_callback\u001b[0m\u001b[0;34m,\u001b[0m \u001b[0mbm_callback\u001b[0m\u001b[0;34m]\u001b[0m\u001b[0;34m,\u001b[0m\u001b[0;34m\u001b[0m\u001b[0;34m\u001b[0m\u001b[0m\n\u001b[0;32m----> 9\u001b[0;31m     \u001b[0mverbose\u001b[0m\u001b[0;34m=\u001b[0m\u001b[0;36m2\u001b[0m\u001b[0;34m\u001b[0m\u001b[0;34m\u001b[0m\u001b[0m\n\u001b[0m\u001b[1;32m     10\u001b[0m )\n",
      "\u001b[0;32m~/.local/lib/python3.6/site-packages/tensorflow_core/python/keras/engine/training.py\u001b[0m in \u001b[0;36mfit\u001b[0;34m(self, x, y, batch_size, epochs, verbose, callbacks, validation_split, validation_data, shuffle, class_weight, sample_weight, initial_epoch, steps_per_epoch, validation_steps, validation_freq, max_queue_size, workers, use_multiprocessing, **kwargs)\u001b[0m\n\u001b[1;32m    725\u001b[0m         \u001b[0mmax_queue_size\u001b[0m\u001b[0;34m=\u001b[0m\u001b[0mmax_queue_size\u001b[0m\u001b[0;34m,\u001b[0m\u001b[0;34m\u001b[0m\u001b[0;34m\u001b[0m\u001b[0m\n\u001b[1;32m    726\u001b[0m         \u001b[0mworkers\u001b[0m\u001b[0;34m=\u001b[0m\u001b[0mworkers\u001b[0m\u001b[0;34m,\u001b[0m\u001b[0;34m\u001b[0m\u001b[0;34m\u001b[0m\u001b[0m\n\u001b[0;32m--> 727\u001b[0;31m         use_multiprocessing=use_multiprocessing)\n\u001b[0m\u001b[1;32m    728\u001b[0m \u001b[0;34m\u001b[0m\u001b[0m\n\u001b[1;32m    729\u001b[0m   def evaluate(self,\n",
      "\u001b[0;32m~/.local/lib/python3.6/site-packages/tensorflow_core/python/keras/engine/training_arrays.py\u001b[0m in \u001b[0;36mfit\u001b[0;34m(self, model, x, y, batch_size, epochs, verbose, callbacks, validation_split, validation_data, shuffle, class_weight, sample_weight, initial_epoch, steps_per_epoch, validation_steps, validation_freq, **kwargs)\u001b[0m\n\u001b[1;32m    673\u001b[0m         \u001b[0mvalidation_steps\u001b[0m\u001b[0;34m=\u001b[0m\u001b[0mvalidation_steps\u001b[0m\u001b[0;34m,\u001b[0m\u001b[0;34m\u001b[0m\u001b[0;34m\u001b[0m\u001b[0m\n\u001b[1;32m    674\u001b[0m         \u001b[0mvalidation_freq\u001b[0m\u001b[0;34m=\u001b[0m\u001b[0mvalidation_freq\u001b[0m\u001b[0;34m,\u001b[0m\u001b[0;34m\u001b[0m\u001b[0;34m\u001b[0m\u001b[0m\n\u001b[0;32m--> 675\u001b[0;31m         steps_name='steps_per_epoch')\n\u001b[0m\u001b[1;32m    676\u001b[0m \u001b[0;34m\u001b[0m\u001b[0m\n\u001b[1;32m    677\u001b[0m   def evaluate(self,\n",
      "\u001b[0;32m~/.local/lib/python3.6/site-packages/tensorflow_core/python/keras/engine/training_arrays.py\u001b[0m in \u001b[0;36mmodel_iteration\u001b[0;34m(model, inputs, targets, sample_weights, batch_size, epochs, verbose, callbacks, val_inputs, val_targets, val_sample_weights, shuffle, initial_epoch, steps_per_epoch, validation_steps, validation_freq, mode, validation_in_fit, prepared_feed_values_from_dataset, steps_name, **kwargs)\u001b[0m\n\u001b[1;32m    448\u001b[0m     \u001b[0;32mif\u001b[0m \u001b[0mmode\u001b[0m \u001b[0;34m==\u001b[0m \u001b[0mModeKeys\u001b[0m\u001b[0;34m.\u001b[0m\u001b[0mTRAIN\u001b[0m\u001b[0;34m:\u001b[0m\u001b[0;34m\u001b[0m\u001b[0;34m\u001b[0m\u001b[0m\n\u001b[1;32m    449\u001b[0m       \u001b[0;31m# Epochs only apply to `fit`.\u001b[0m\u001b[0;34m\u001b[0m\u001b[0;34m\u001b[0m\u001b[0;34m\u001b[0m\u001b[0m\n\u001b[0;32m--> 450\u001b[0;31m       \u001b[0mcallbacks\u001b[0m\u001b[0;34m.\u001b[0m\u001b[0mon_epoch_end\u001b[0m\u001b[0;34m(\u001b[0m\u001b[0mepoch\u001b[0m\u001b[0;34m,\u001b[0m \u001b[0mepoch_logs\u001b[0m\u001b[0;34m)\u001b[0m\u001b[0;34m\u001b[0m\u001b[0;34m\u001b[0m\u001b[0m\n\u001b[0m\u001b[1;32m    451\u001b[0m     \u001b[0mprogbar\u001b[0m\u001b[0;34m.\u001b[0m\u001b[0mon_epoch_end\u001b[0m\u001b[0;34m(\u001b[0m\u001b[0mepoch\u001b[0m\u001b[0;34m,\u001b[0m \u001b[0mepoch_logs\u001b[0m\u001b[0;34m)\u001b[0m\u001b[0;34m\u001b[0m\u001b[0;34m\u001b[0m\u001b[0m\n\u001b[1;32m    452\u001b[0m \u001b[0;34m\u001b[0m\u001b[0m\n",
      "\u001b[0;32m~/.local/lib/python3.6/site-packages/tensorflow_core/python/keras/callbacks.py\u001b[0m in \u001b[0;36mon_epoch_end\u001b[0;34m(self, epoch, logs)\u001b[0m\n\u001b[1;32m    297\u001b[0m     \u001b[0mlogs\u001b[0m \u001b[0;34m=\u001b[0m \u001b[0mlogs\u001b[0m \u001b[0;32mor\u001b[0m \u001b[0;34m{\u001b[0m\u001b[0;34m}\u001b[0m\u001b[0;34m\u001b[0m\u001b[0;34m\u001b[0m\u001b[0m\n\u001b[1;32m    298\u001b[0m     \u001b[0;32mfor\u001b[0m \u001b[0mcallback\u001b[0m \u001b[0;32min\u001b[0m \u001b[0mself\u001b[0m\u001b[0;34m.\u001b[0m\u001b[0mcallbacks\u001b[0m\u001b[0;34m:\u001b[0m\u001b[0;34m\u001b[0m\u001b[0;34m\u001b[0m\u001b[0m\n\u001b[0;32m--> 299\u001b[0;31m       \u001b[0mcallback\u001b[0m\u001b[0;34m.\u001b[0m\u001b[0mon_epoch_end\u001b[0m\u001b[0;34m(\u001b[0m\u001b[0mepoch\u001b[0m\u001b[0;34m,\u001b[0m \u001b[0mlogs\u001b[0m\u001b[0;34m)\u001b[0m\u001b[0;34m\u001b[0m\u001b[0;34m\u001b[0m\u001b[0m\n\u001b[0m\u001b[1;32m    300\u001b[0m \u001b[0;34m\u001b[0m\u001b[0m\n\u001b[1;32m    301\u001b[0m   \u001b[0;32mdef\u001b[0m \u001b[0mon_train_batch_begin\u001b[0m\u001b[0;34m(\u001b[0m\u001b[0mself\u001b[0m\u001b[0;34m,\u001b[0m \u001b[0mbatch\u001b[0m\u001b[0;34m,\u001b[0m \u001b[0mlogs\u001b[0m\u001b[0;34m=\u001b[0m\u001b[0;32mNone\u001b[0m\u001b[0;34m)\u001b[0m\u001b[0;34m:\u001b[0m\u001b[0;34m\u001b[0m\u001b[0;34m\u001b[0m\u001b[0m\n",
      "\u001b[0;32m~/.local/lib/python3.6/site-packages/tensorflow_core/python/keras/callbacks.py\u001b[0m in \u001b[0;36mon_epoch_end\u001b[0;34m(self, epoch, logs)\u001b[0m\n\u001b[1;32m    966\u001b[0m           \u001b[0mself\u001b[0m\u001b[0;34m.\u001b[0m\u001b[0m_save_model\u001b[0m\u001b[0;34m(\u001b[0m\u001b[0mepoch\u001b[0m\u001b[0;34m=\u001b[0m\u001b[0mepoch\u001b[0m\u001b[0;34m,\u001b[0m \u001b[0mlogs\u001b[0m\u001b[0;34m=\u001b[0m\u001b[0mlogs\u001b[0m\u001b[0;34m)\u001b[0m\u001b[0;34m\u001b[0m\u001b[0;34m\u001b[0m\u001b[0m\n\u001b[1;32m    967\u001b[0m       \u001b[0;32melse\u001b[0m\u001b[0;34m:\u001b[0m\u001b[0;34m\u001b[0m\u001b[0;34m\u001b[0m\u001b[0m\n\u001b[0;32m--> 968\u001b[0;31m         \u001b[0mself\u001b[0m\u001b[0;34m.\u001b[0m\u001b[0m_save_model\u001b[0m\u001b[0;34m(\u001b[0m\u001b[0mepoch\u001b[0m\u001b[0;34m=\u001b[0m\u001b[0mepoch\u001b[0m\u001b[0;34m,\u001b[0m \u001b[0mlogs\u001b[0m\u001b[0;34m=\u001b[0m\u001b[0mlogs\u001b[0m\u001b[0;34m)\u001b[0m\u001b[0;34m\u001b[0m\u001b[0;34m\u001b[0m\u001b[0m\n\u001b[0m\u001b[1;32m    969\u001b[0m     \u001b[0;32mif\u001b[0m \u001b[0mself\u001b[0m\u001b[0;34m.\u001b[0m\u001b[0mmodel\u001b[0m\u001b[0;34m.\u001b[0m\u001b[0m_in_multi_worker_mode\u001b[0m\u001b[0;34m(\u001b[0m\u001b[0;34m)\u001b[0m\u001b[0;34m:\u001b[0m\u001b[0;34m\u001b[0m\u001b[0;34m\u001b[0m\u001b[0m\n\u001b[1;32m    970\u001b[0m       \u001b[0;31m# For multi-worker training, back up the weights and current training\u001b[0m\u001b[0;34m\u001b[0m\u001b[0;34m\u001b[0m\u001b[0;34m\u001b[0m\u001b[0m\n",
      "\u001b[0;32m~/.local/lib/python3.6/site-packages/tensorflow_core/python/keras/callbacks.py\u001b[0m in \u001b[0;36m_save_model\u001b[0;34m(self, epoch, logs)\u001b[0m\n\u001b[1;32m   1002\u001b[0m               \u001b[0mself\u001b[0m\u001b[0;34m.\u001b[0m\u001b[0mmodel\u001b[0m\u001b[0;34m.\u001b[0m\u001b[0msave_weights\u001b[0m\u001b[0;34m(\u001b[0m\u001b[0mfilepath\u001b[0m\u001b[0;34m,\u001b[0m \u001b[0moverwrite\u001b[0m\u001b[0;34m=\u001b[0m\u001b[0;32mTrue\u001b[0m\u001b[0;34m)\u001b[0m\u001b[0;34m\u001b[0m\u001b[0;34m\u001b[0m\u001b[0m\n\u001b[1;32m   1003\u001b[0m             \u001b[0;32melse\u001b[0m\u001b[0;34m:\u001b[0m\u001b[0;34m\u001b[0m\u001b[0;34m\u001b[0m\u001b[0m\n\u001b[0;32m-> 1004\u001b[0;31m               \u001b[0mself\u001b[0m\u001b[0;34m.\u001b[0m\u001b[0mmodel\u001b[0m\u001b[0;34m.\u001b[0m\u001b[0msave\u001b[0m\u001b[0;34m(\u001b[0m\u001b[0mfilepath\u001b[0m\u001b[0;34m,\u001b[0m \u001b[0moverwrite\u001b[0m\u001b[0;34m=\u001b[0m\u001b[0;32mTrue\u001b[0m\u001b[0;34m)\u001b[0m\u001b[0;34m\u001b[0m\u001b[0;34m\u001b[0m\u001b[0m\n\u001b[0m\u001b[1;32m   1005\u001b[0m           \u001b[0;32melse\u001b[0m\u001b[0;34m:\u001b[0m\u001b[0;34m\u001b[0m\u001b[0;34m\u001b[0m\u001b[0m\n\u001b[1;32m   1006\u001b[0m             \u001b[0;32mif\u001b[0m \u001b[0mself\u001b[0m\u001b[0;34m.\u001b[0m\u001b[0mverbose\u001b[0m \u001b[0;34m>\u001b[0m \u001b[0;36m0\u001b[0m\u001b[0;34m:\u001b[0m\u001b[0;34m\u001b[0m\u001b[0;34m\u001b[0m\u001b[0m\n",
      "\u001b[0;32m~/.local/lib/python3.6/site-packages/tensorflow_core/python/keras/engine/network.py\u001b[0m in \u001b[0;36msave\u001b[0;34m(self, filepath, overwrite, include_optimizer, save_format, signatures)\u001b[0m\n\u001b[1;32m   1169\u001b[0m     \"\"\"\n\u001b[1;32m   1170\u001b[0m     saving.save_model(self, filepath, overwrite, include_optimizer, save_format,\n\u001b[0;32m-> 1171\u001b[0;31m                       signatures)\n\u001b[0m\u001b[1;32m   1172\u001b[0m \u001b[0;34m\u001b[0m\u001b[0m\n\u001b[1;32m   1173\u001b[0m   \u001b[0;32mdef\u001b[0m \u001b[0msave_weights\u001b[0m\u001b[0;34m(\u001b[0m\u001b[0mself\u001b[0m\u001b[0;34m,\u001b[0m \u001b[0mfilepath\u001b[0m\u001b[0;34m,\u001b[0m \u001b[0moverwrite\u001b[0m\u001b[0;34m=\u001b[0m\u001b[0;32mTrue\u001b[0m\u001b[0;34m,\u001b[0m \u001b[0msave_format\u001b[0m\u001b[0;34m=\u001b[0m\u001b[0;32mNone\u001b[0m\u001b[0;34m)\u001b[0m\u001b[0;34m:\u001b[0m\u001b[0;34m\u001b[0m\u001b[0;34m\u001b[0m\u001b[0m\n",
      "\u001b[0;32m~/.local/lib/python3.6/site-packages/tensorflow_core/python/keras/saving/save.py\u001b[0m in \u001b[0;36msave_model\u001b[0;34m(model, filepath, overwrite, include_optimizer, save_format, signatures)\u001b[0m\n\u001b[1;32m    107\u001b[0m           'or using `save_weights`.')\n\u001b[1;32m    108\u001b[0m     hdf5_format.save_model_to_hdf5(\n\u001b[0;32m--> 109\u001b[0;31m         model, filepath, overwrite, include_optimizer)\n\u001b[0m\u001b[1;32m    110\u001b[0m   \u001b[0;32melse\u001b[0m\u001b[0;34m:\u001b[0m\u001b[0;34m\u001b[0m\u001b[0;34m\u001b[0m\u001b[0m\n\u001b[1;32m    111\u001b[0m     saved_model_save.save(model, filepath, overwrite, include_optimizer,\n",
      "\u001b[0;32m~/.local/lib/python3.6/site-packages/tensorflow_core/python/keras/saving/hdf5_format.py\u001b[0m in \u001b[0;36msave_model_to_hdf5\u001b[0;34m(model, filepath, overwrite, include_optimizer)\u001b[0m\n\u001b[1;32m     91\u001b[0m \u001b[0;34m\u001b[0m\u001b[0m\n\u001b[1;32m     92\u001b[0m   \u001b[0;32mtry\u001b[0m\u001b[0;34m:\u001b[0m\u001b[0;34m\u001b[0m\u001b[0;34m\u001b[0m\u001b[0m\n\u001b[0;32m---> 93\u001b[0;31m     \u001b[0mmodel_metadata\u001b[0m \u001b[0;34m=\u001b[0m \u001b[0msaving_utils\u001b[0m\u001b[0;34m.\u001b[0m\u001b[0mmodel_metadata\u001b[0m\u001b[0;34m(\u001b[0m\u001b[0mmodel\u001b[0m\u001b[0;34m,\u001b[0m \u001b[0minclude_optimizer\u001b[0m\u001b[0;34m)\u001b[0m\u001b[0;34m\u001b[0m\u001b[0;34m\u001b[0m\u001b[0m\n\u001b[0m\u001b[1;32m     94\u001b[0m     \u001b[0;32mfor\u001b[0m \u001b[0mk\u001b[0m\u001b[0;34m,\u001b[0m \u001b[0mv\u001b[0m \u001b[0;32min\u001b[0m \u001b[0mmodel_metadata\u001b[0m\u001b[0;34m.\u001b[0m\u001b[0mitems\u001b[0m\u001b[0;34m(\u001b[0m\u001b[0;34m)\u001b[0m\u001b[0;34m:\u001b[0m\u001b[0;34m\u001b[0m\u001b[0;34m\u001b[0m\u001b[0m\n\u001b[1;32m     95\u001b[0m       \u001b[0;32mif\u001b[0m \u001b[0misinstance\u001b[0m\u001b[0;34m(\u001b[0m\u001b[0mv\u001b[0m\u001b[0;34m,\u001b[0m \u001b[0;34m(\u001b[0m\u001b[0mdict\u001b[0m\u001b[0;34m,\u001b[0m \u001b[0mlist\u001b[0m\u001b[0;34m,\u001b[0m \u001b[0mtuple\u001b[0m\u001b[0;34m)\u001b[0m\u001b[0;34m)\u001b[0m\u001b[0;34m:\u001b[0m\u001b[0;34m\u001b[0m\u001b[0;34m\u001b[0m\u001b[0m\n",
      "\u001b[0;32m~/.local/lib/python3.6/site-packages/tensorflow_core/python/keras/saving/saving_utils.py\u001b[0m in \u001b[0;36mmodel_metadata\u001b[0;34m(model, include_optimizer, require_config)\u001b[0m\n\u001b[1;32m    155\u001b[0m   \u001b[0mmodel_config\u001b[0m \u001b[0;34m=\u001b[0m \u001b[0;34m{\u001b[0m\u001b[0;34m'class_name'\u001b[0m\u001b[0;34m:\u001b[0m \u001b[0mmodel\u001b[0m\u001b[0;34m.\u001b[0m\u001b[0m__class__\u001b[0m\u001b[0;34m.\u001b[0m\u001b[0m__name__\u001b[0m\u001b[0;34m}\u001b[0m\u001b[0;34m\u001b[0m\u001b[0;34m\u001b[0m\u001b[0m\n\u001b[1;32m    156\u001b[0m   \u001b[0;32mtry\u001b[0m\u001b[0;34m:\u001b[0m\u001b[0;34m\u001b[0m\u001b[0;34m\u001b[0m\u001b[0m\n\u001b[0;32m--> 157\u001b[0;31m     \u001b[0mmodel_config\u001b[0m\u001b[0;34m[\u001b[0m\u001b[0;34m'config'\u001b[0m\u001b[0;34m]\u001b[0m \u001b[0;34m=\u001b[0m \u001b[0mmodel\u001b[0m\u001b[0;34m.\u001b[0m\u001b[0mget_config\u001b[0m\u001b[0;34m(\u001b[0m\u001b[0;34m)\u001b[0m\u001b[0;34m\u001b[0m\u001b[0;34m\u001b[0m\u001b[0m\n\u001b[0m\u001b[1;32m    158\u001b[0m   \u001b[0;32mexcept\u001b[0m \u001b[0mNotImplementedError\u001b[0m \u001b[0;32mas\u001b[0m \u001b[0me\u001b[0m\u001b[0;34m:\u001b[0m\u001b[0;34m\u001b[0m\u001b[0;34m\u001b[0m\u001b[0m\n\u001b[1;32m    159\u001b[0m     \u001b[0;32mif\u001b[0m \u001b[0mrequire_config\u001b[0m\u001b[0;34m:\u001b[0m\u001b[0;34m\u001b[0m\u001b[0;34m\u001b[0m\u001b[0m\n",
      "\u001b[0;32m~/.local/lib/python3.6/site-packages/tensorflow_core/python/keras/engine/network.py\u001b[0m in \u001b[0;36mget_config\u001b[0;34m(self)\u001b[0m\n\u001b[1;32m    914\u001b[0m                   tf_utils.ListWrapper(\n\u001b[1;32m    915\u001b[0m                       [inbound_layer.name, new_node_index, tensor_id, kwargs]))\n\u001b[0;32m--> 916\u001b[0;31m             \u001b[0mnode_data\u001b[0m \u001b[0;34m=\u001b[0m \u001b[0mnest\u001b[0m\u001b[0;34m.\u001b[0m\u001b[0mpack_sequence_as\u001b[0m\u001b[0;34m(\u001b[0m\u001b[0mnode\u001b[0m\u001b[0;34m.\u001b[0m\u001b[0minput_tensors\u001b[0m\u001b[0;34m,\u001b[0m \u001b[0mnode_data\u001b[0m\u001b[0;34m)\u001b[0m\u001b[0;34m\u001b[0m\u001b[0;34m\u001b[0m\u001b[0m\n\u001b[0m\u001b[1;32m    917\u001b[0m             \u001b[0;32mif\u001b[0m \u001b[0;32mnot\u001b[0m \u001b[0mnest\u001b[0m\u001b[0;34m.\u001b[0m\u001b[0mis_sequence\u001b[0m\u001b[0;34m(\u001b[0m\u001b[0mnode_data\u001b[0m\u001b[0;34m)\u001b[0m\u001b[0;34m:\u001b[0m\u001b[0;34m\u001b[0m\u001b[0;34m\u001b[0m\u001b[0m\n\u001b[1;32m    918\u001b[0m               \u001b[0mnode_data\u001b[0m \u001b[0;34m=\u001b[0m \u001b[0;34m[\u001b[0m\u001b[0mnode_data\u001b[0m\u001b[0;34m]\u001b[0m\u001b[0;34m\u001b[0m\u001b[0;34m\u001b[0m\u001b[0m\n",
      "\u001b[0;32m~/.local/lib/python3.6/site-packages/tensorflow_core/python/util/nest.py\u001b[0m in \u001b[0;36mpack_sequence_as\u001b[0;34m(structure, flat_sequence, expand_composites)\u001b[0m\n\u001b[1;32m    469\u001b[0m           \u001b[0;34m\"Could not pack sequence. Structure had %d elements, but \"\u001b[0m\u001b[0;34m\u001b[0m\u001b[0;34m\u001b[0m\u001b[0m\n\u001b[1;32m    470\u001b[0m           \u001b[0;34m\"flat_sequence had %d elements.  Structure: %s, flat_sequence: %s.\"\u001b[0m \u001b[0;34m%\u001b[0m\u001b[0;34m\u001b[0m\u001b[0;34m\u001b[0m\u001b[0m\n\u001b[0;32m--> 471\u001b[0;31m           (len(flat_structure), len(flat_sequence), structure, flat_sequence))\n\u001b[0m\u001b[1;32m    472\u001b[0m   \u001b[0;32mreturn\u001b[0m \u001b[0m_sequence_like\u001b[0m\u001b[0;34m(\u001b[0m\u001b[0mstructure\u001b[0m\u001b[0;34m,\u001b[0m \u001b[0mpacked\u001b[0m\u001b[0;34m)\u001b[0m\u001b[0;34m\u001b[0m\u001b[0;34m\u001b[0m\u001b[0m\n\u001b[1;32m    473\u001b[0m \u001b[0;34m\u001b[0m\u001b[0m\n",
      "\u001b[0;31mValueError\u001b[0m: Could not pack sequence. Structure had 48 elements, but flat_sequence had 16 elements.  Structure: [<tf.Tensor 'gender_emb/embedding_lookup/Identity_1:0' shape=(?, 1, 10) dtype=float32>, <tf.Tensor 'Partner_emb/embedding_lookup/Identity_1:0' shape=(?, 1, 10) dtype=float32>, <tf.Tensor 'Dependents_emb/embedding_lookup/Identity_1:0' shape=(?, 1, 10) dtype=float32>, <tf.Tensor 'PhoneService_emb/embedding_lookup/Identity_1:0' shape=(?, 1, 10) dtype=float32>, <tf.Tensor 'MultipleLines_emb/embedding_lookup/Identity_1:0' shape=(?, 1, 10) dtype=float32>, <tf.Tensor 'InternetService_emb/embedding_lookup/Identity_1:0' shape=(?, 1, 10) dtype=float32>, <tf.Tensor 'OnlineSecurity_emb/embedding_lookup/Identity_1:0' shape=(?, 1, 10) dtype=float32>, <tf.Tensor 'OnlineBackup_emb/embedding_lookup/Identity_1:0' shape=(?, 1, 10) dtype=float32>, <tf.Tensor 'DeviceProtection_emb/embedding_lookup/Identity_1:0' shape=(?, 1, 10) dtype=float32>, <tf.Tensor 'TechSupport_emb/embedding_lookup/Identity_1:0' shape=(?, 1, 10) dtype=float32>, <tf.Tensor 'StreamingTV_emb/embedding_lookup/Identity_1:0' shape=(?, 1, 10) dtype=float32>, <tf.Tensor 'StreamingMovies_emb/embedding_lookup/Identity_1:0' shape=(?, 1, 10) dtype=float32>, <tf.Tensor 'Contract_emb/embedding_lookup/Identity_1:0' shape=(?, 1, 10) dtype=float32>, <tf.Tensor 'PaperlessBilling_emb/embedding_lookup/Identity_1:0' shape=(?, 1, 10) dtype=float32>, <tf.Tensor 'PaymentMethod_emb/embedding_lookup/Identity_1:0' shape=(?, 1, 10) dtype=float32>, <tf.Tensor 'tenure_group_emb/embedding_lookup/Identity_1:0' shape=(?, 1, 10) dtype=float32>, <tf.Tensor 'gender_emb_1/embedding_lookup/Identity_1:0' shape=(?, 1, 10) dtype=float32>, <tf.Tensor 'Partner_emb_1/embedding_lookup/Identity_1:0' shape=(?, 1, 10) dtype=float32>, <tf.Tensor 'Dependents_emb_1/embedding_lookup/Identity_1:0' shape=(?, 1, 10) dtype=float32>, <tf.Tensor 'PhoneService_emb_1/embedding_lookup/Identity_1:0' shape=(?, 1, 10) dtype=float32>, <tf.Tensor 'MultipleLines_emb_1/embedding_lookup/Identity_1:0' shape=(?, 1, 10) dtype=float32>, <tf.Tensor 'InternetService_emb_1/embedding_lookup/Identity_1:0' shape=(?, 1, 10) dtype=float32>, <tf.Tensor 'OnlineSecurity_emb_1/embedding_lookup/Identity_1:0' shape=(?, 1, 10) dtype=float32>, <tf.Tensor 'OnlineBackup_emb_1/embedding_lookup/Identity_1:0' shape=(?, 1, 10) dtype=float32>, <tf.Tensor 'DeviceProtection_emb_1/embedding_lookup/Identity_1:0' shape=(?, 1, 10) dtype=float32>, <tf.Tensor 'TechSupport_emb_1/embedding_lookup/Identity_1:0' shape=(?, 1, 10) dtype=float32>, <tf.Tensor 'StreamingTV_emb_1/embedding_lookup/Identity_1:0' shape=(?, 1, 10) dtype=float32>, <tf.Tensor 'StreamingMovies_emb_1/embedding_lookup/Identity_1:0' shape=(?, 1, 10) dtype=float32>, <tf.Tensor 'Contract_emb_1/embedding_lookup/Identity_1:0' shape=(?, 1, 10) dtype=float32>, <tf.Tensor 'PaperlessBilling_emb_1/embedding_lookup/Identity_1:0' shape=(?, 1, 10) dtype=float32>, <tf.Tensor 'PaymentMethod_emb_1/embedding_lookup/Identity_1:0' shape=(?, 1, 10) dtype=float32>, <tf.Tensor 'tenure_group_emb_1/embedding_lookup/Identity_1:0' shape=(?, 1, 10) dtype=float32>, <tf.Tensor 'gender_emb_2/embedding_lookup/Identity_1:0' shape=(?, 1, 10) dtype=float32>, <tf.Tensor 'Partner_emb_2/embedding_lookup/Identity_1:0' shape=(?, 1, 10) dtype=float32>, <tf.Tensor 'Dependents_emb_2/embedding_lookup/Identity_1:0' shape=(?, 1, 10) dtype=float32>, <tf.Tensor 'PhoneService_emb_2/embedding_lookup/Identity_1:0' shape=(?, 1, 10) dtype=float32>, <tf.Tensor 'MultipleLines_emb_2/embedding_lookup/Identity_1:0' shape=(?, 1, 10) dtype=float32>, <tf.Tensor 'InternetService_emb_2/embedding_lookup/Identity_1:0' shape=(?, 1, 10) dtype=float32>, <tf.Tensor 'OnlineSecurity_emb_2/embedding_lookup/Identity_1:0' shape=(?, 1, 10) dtype=float32>, <tf.Tensor 'OnlineBackup_emb_2/embedding_lookup/Identity_1:0' shape=(?, 1, 10) dtype=float32>, <tf.Tensor 'DeviceProtection_emb_2/embedding_lookup/Identity_1:0' shape=(?, 1, 10) dtype=float32>, <tf.Tensor 'TechSupport_emb_2/embedding_lookup/Identity_1:0' shape=(?, 1, 10) dtype=float32>, <tf.Tensor 'StreamingTV_emb_2/embedding_lookup/Identity_1:0' shape=(?, 1, 10) dtype=float32>, <tf.Tensor 'StreamingMovies_emb_2/embedding_lookup/Identity_1:0' shape=(?, 1, 10) dtype=float32>, <tf.Tensor 'Contract_emb_2/embedding_lookup/Identity_1:0' shape=(?, 1, 10) dtype=float32>, <tf.Tensor 'PaperlessBilling_emb_2/embedding_lookup/Identity_1:0' shape=(?, 1, 10) dtype=float32>, <tf.Tensor 'PaymentMethod_emb_2/embedding_lookup/Identity_1:0' shape=(?, 1, 10) dtype=float32>, <tf.Tensor 'tenure_group_emb_2/embedding_lookup/Identity_1:0' shape=(?, 1, 10) dtype=float32>], flat_sequence: [<tensorflow.python.keras.utils.tf_utils.ListWrapper object at 0x7f546010db38>, <tensorflow.python.keras.utils.tf_utils.ListWrapper object at 0x7f546010d3c8>, <tensorflow.python.keras.utils.tf_utils.ListWrapper object at 0x7f546010dfd0>, <tensorflow.python.keras.utils.tf_utils.ListWrapper object at 0x7f546010d978>, <tensorflow.python.keras.utils.tf_utils.ListWrapper object at 0x7f5460123e48>, <tensorflow.python.keras.utils.tf_utils.ListWrapper object at 0x7f5460123748>, <tensorflow.python.keras.utils.tf_utils.ListWrapper object at 0x7f5460123b38>, <tensorflow.python.keras.utils.tf_utils.ListWrapper object at 0x7f5460123c88>, <tensorflow.python.keras.utils.tf_utils.ListWrapper object at 0x7f5460123ac8>, <tensorflow.python.keras.utils.tf_utils.ListWrapper object at 0x7f5460123f98>, <tensorflow.python.keras.utils.tf_utils.ListWrapper object at 0x7f5460123908>, <tensorflow.python.keras.utils.tf_utils.ListWrapper object at 0x7f54601235f8>, <tensorflow.python.keras.utils.tf_utils.ListWrapper object at 0x7f5460123f60>, <tensorflow.python.keras.utils.tf_utils.ListWrapper object at 0x7f5460123208>, <tensorflow.python.keras.utils.tf_utils.ListWrapper object at 0x7f5460123cf8>, <tensorflow.python.keras.utils.tf_utils.ListWrapper object at 0x7f54601233c8>]."
     ]
    }
   ],
   "source": [
    "_hist = model.fit(\n",
    "    x=get_keras_dataset(train_df[FEATURE_COLS]),\n",
    "    y=train_df[TARGET_COL],\n",
    "    validation_data=(get_keras_dataset(test_df[FEATURE_COLS]), test_df[TARGET_COL]),\n",
    "    epochs=EPOCHS,\n",
    "    batch_size=BATCH_SIZE,\n",
    "    class_weight=CLASS_WEIGHTS,\n",
    "    callbacks=[tb_callback, bm_callback],\n",
    "    verbose=2\n",
    ")"
   ]
  },
  {
   "cell_type": "code",
   "execution_count": null,
   "metadata": {},
   "outputs": [],
   "source": []
  },
  {
   "cell_type": "code",
   "execution_count": null,
   "metadata": {},
   "outputs": [],
   "source": []
  },
  {
   "cell_type": "code",
   "execution_count": null,
   "metadata": {},
   "outputs": [],
   "source": []
  },
  {
   "cell_type": "code",
   "execution_count": 72,
   "metadata": {},
   "outputs": [],
   "source": [
    "# Plot the results of the training\n",
    "def plot_history(history):\n",
    "    fig = plt.figure(figsize=(15,8))\n",
    "    ax = plt.subplot(211)\n",
    "    \n",
    "    plt.xlabel('Epoch')\n",
    "    plt.ylabel('loss, acc')\n",
    "    \n",
    "    # losses\n",
    "    ax.plot(history.epoch, history.history['loss'], label='Train LOSS')\n",
    "    ax.plot(history.epoch, history.history['val_loss'], label='Val LOSS')\n",
    "    ax.plot(history.epoch, history.history['acc'], label ='Train Accuracy')\n",
    "    ax.plot(history.epoch, history.history['val_acc'], label='Val Accuracy')\n",
    "    plt.legend()\n",
    "    \n",
    "    # Plot the learning_rate\n",
    "    if 'lr' in history.history:\n",
    "        ax = plt.subplot(212)\n",
    "        plt.ylabel('Learning rate')\n",
    "        ax.plot(history.epoch, history.history['lr'], label='learning_rate')\n",
    "        plt.legend()\n",
    "    plt.show()"
   ]
  },
  {
   "cell_type": "code",
   "execution_count": null,
   "metadata": {},
   "outputs": [],
   "source": []
  },
  {
   "cell_type": "code",
   "execution_count": null,
   "metadata": {},
   "outputs": [],
   "source": []
  },
  {
   "cell_type": "code",
   "execution_count": null,
   "metadata": {},
   "outputs": [],
   "source": []
  },
  {
   "cell_type": "code",
   "execution_count": null,
   "metadata": {},
   "outputs": [],
   "source": []
  },
  {
   "cell_type": "code",
   "execution_count": null,
   "metadata": {},
   "outputs": [],
   "source": []
  },
  {
   "cell_type": "code",
   "execution_count": null,
   "metadata": {},
   "outputs": [],
   "source": []
  },
  {
   "cell_type": "code",
   "execution_count": null,
   "metadata": {},
   "outputs": [],
   "source": []
  },
  {
   "cell_type": "code",
   "execution_count": null,
   "metadata": {},
   "outputs": [],
   "source": []
  },
  {
   "cell_type": "code",
   "execution_count": null,
   "metadata": {},
   "outputs": [],
   "source": []
  },
  {
   "cell_type": "code",
   "execution_count": null,
   "metadata": {},
   "outputs": [],
   "source": []
  },
  {
   "cell_type": "code",
   "execution_count": null,
   "metadata": {},
   "outputs": [],
   "source": []
  },
  {
   "cell_type": "code",
   "execution_count": null,
   "metadata": {},
   "outputs": [],
   "source": []
  },
  {
   "cell_type": "code",
   "execution_count": 59,
   "metadata": {},
   "outputs": [],
   "source": [
    "# Export the transformed data to verify \n",
    "customer_data.to_csv('/home/mike/Documents/mkp_code/Institute of Data Course/telco-customer-churn-project/data/processed/Telco-Customer-Churn-Keras.csv')"
   ]
  },
  {
   "cell_type": "code",
   "execution_count": null,
   "metadata": {},
   "outputs": [],
   "source": []
  }
 ],
 "metadata": {
  "language_info": {
   "codemirror_mode": {
    "name": "ipython",
    "version": 3
   },
   "file_extension": ".py",
   "mimetype": "text/x-python",
   "name": "python",
   "nbconvert_exporter": "python",
   "pygments_lexer": "ipython3",
   "version": "3.6.9-final"
  },
  "orig_nbformat": 2,
  "kernelspec": {
   "name": "python36964bita7d32479a3264c2d9b930403e542f58b",
   "display_name": "Python 3.6.9 64-bit"
  }
 },
 "nbformat": 4,
 "nbformat_minor": 2
}