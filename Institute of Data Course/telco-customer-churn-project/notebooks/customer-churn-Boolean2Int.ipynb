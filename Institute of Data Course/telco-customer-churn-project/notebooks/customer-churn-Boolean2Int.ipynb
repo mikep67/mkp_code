{
 "cells": [
  {
   "cell_type": "code",
   "execution_count": null,
   "metadata": {},
   "outputs": [],
   "source": []
  },
  {
   "cell_type": "markdown",
   "metadata": {},
   "source": [
    "## Data Processing Extra: <br> Covert all Categories to Numeric for Linear Analysis"
   ]
  },
  {
   "cell_type": "code",
   "execution_count": null,
   "metadata": {},
   "outputs": [],
   "source": []
  },
  {
   "cell_type": "code",
   "execution_count": 8,
   "metadata": {},
   "outputs": [],
   "source": [
    "import os\n",
    "import time\n",
    "import datetime\n",
    "import numpy as np\n",
    "import pandas as pd\n",
    "\n",
    "# Keras\n",
    "import tensorflow.keras as keras\n",
    "from tensorflow.keras import layers\n",
    "from tensorflow.keras import models\n",
    "from tensorflow.keras import callbacks\n",
    "from tensorflow.keras import backend as K\n",
    "\n",
    "# Standard ML stuff\n",
    "from sklearn.preprocessing import LabelEncoder\n",
    "from sklearn.preprocessing import MinMaxScaler \n",
    "from sklearn.preprocessing import StandardScaler\n",
    "from sklearn.model_selection import train_test_split\n",
    "from sklearn.metrics import classification_report\n",
    "from sklearn.metrics import accuracy_score\n",
    "from sklearn.manifold import TSNE\n",
    "from sklearn.decomposition import PCA, TruncatedSVD, FastICA\n",
    "from sklearn.random_projection import GaussianRandomProjection, SparseRandomProjection\n",
    "\n",
    "# Oversampling of minority class 'Churn customers'\n",
    "# from imblearn.over_sampling import SMOTE\n",
    "\n",
    "# Plotting\n",
    "import matplotlib.pyplot as plt\n",
    "import seaborn as sns"
   ]
  },
  {
   "cell_type": "code",
   "execution_count": null,
   "metadata": {},
   "outputs": [],
   "source": []
  },
  {
   "cell_type": "code",
   "execution_count": 9,
   "metadata": {},
   "outputs": [],
   "source": [
    "#setting the data directory\n",
    "os.chdir('/home/mike/Documents/mkp_code/Institute of Data Course/telco-customer-churn-project/data/processed')"
   ]
  },
  {
   "cell_type": "code",
   "execution_count": null,
   "metadata": {},
   "outputs": [],
   "source": []
  },
  {
   "cell_type": "code",
   "execution_count": 107,
   "metadata": {},
   "outputs": [],
   "source": [
    "customer_data = pd.read_csv('Telco-Customer-Churn-Processed.csv')"
   ]
  },
  {
   "cell_type": "code",
   "execution_count": null,
   "metadata": {},
   "outputs": [],
   "source": []
  },
  {
   "cell_type": "markdown",
   "metadata": {},
   "source": [
    "* Remove the Unnamed: 0 Column"
   ]
  },
  {
   "cell_type": "code",
   "execution_count": 108,
   "metadata": {},
   "outputs": [],
   "source": [
    "customer_data.drop('Unnamed: 0',axis =1, inplace=True)"
   ]
  },
  {
   "cell_type": "code",
   "execution_count": null,
   "metadata": {},
   "outputs": [],
   "source": []
  },
  {
   "cell_type": "markdown",
   "metadata": {},
   "source": [
    "### Change Boolean values to Integers"
   ]
  },
  {
   "cell_type": "code",
   "execution_count": 109,
   "metadata": {},
   "outputs": [],
   "source": [
    "# Update gender Yes - Male, Female - 0\n",
    "customer_data['gender'].replace('Male',1, inplace = True)\n",
    "customer_data['gender'].replace('Female',0, inplace = True)"
   ]
  },
  {
   "cell_type": "code",
   "execution_count": null,
   "metadata": {},
   "outputs": [],
   "source": []
  },
  {
   "cell_type": "code",
   "execution_count": 110,
   "metadata": {},
   "outputs": [],
   "source": [
    "# Update Partner Yes - 1, No - 0\n",
    "customer_data['Partner'].replace('Yes',1, inplace = True)\n",
    "customer_data['Partner'].replace('No',0, inplace = True)"
   ]
  },
  {
   "cell_type": "code",
   "execution_count": null,
   "metadata": {},
   "outputs": [],
   "source": []
  },
  {
   "cell_type": "code",
   "execution_count": 111,
   "metadata": {},
   "outputs": [],
   "source": [
    "# Update Dependents Yes - 1, No - 0\n",
    "customer_data['Dependents'].replace('Yes',1, inplace = True)\n",
    "customer_data['Dependents'].replace('No',0, inplace = True)"
   ]
  },
  {
   "cell_type": "code",
   "execution_count": null,
   "metadata": {},
   "outputs": [],
   "source": []
  },
  {
   "cell_type": "code",
   "execution_count": 112,
   "metadata": {},
   "outputs": [],
   "source": [
    "# Update PhoneService Yes - 1, No - 0\n",
    "customer_data['PhoneService'].replace('Yes',1, inplace = True)\n",
    "customer_data['PhoneService'].replace('No',0, inplace = True)"
   ]
  },
  {
   "cell_type": "code",
   "execution_count": null,
   "metadata": {},
   "outputs": [],
   "source": []
  },
  {
   "cell_type": "code",
   "execution_count": 113,
   "metadata": {},
   "outputs": [],
   "source": [
    "# Update MultipleLines Yes - 1, No - 0, No internet service - 3\n",
    "customer_data['MultipleLines'].replace('Yes',1, inplace = True)\n",
    "customer_data['MultipleLines'].replace('No',0, inplace = True)\n",
    "customer_data['MultipleLines'].replace('No phone service',2, inplace = True)"
   ]
  },
  {
   "cell_type": "code",
   "execution_count": null,
   "metadata": {},
   "outputs": [],
   "source": []
  },
  {
   "cell_type": "code",
   "execution_count": 114,
   "metadata": {},
   "outputs": [],
   "source": [
    "# InternetService type\n",
    "customer_data['InternetService'].replace('DSL',1, inplace = True)\n",
    "customer_data['InternetService'].replace('No',0, inplace = True)\n",
    "customer_data['InternetService'].replace('Fiber optic',2, inplace = True)"
   ]
  },
  {
   "cell_type": "code",
   "execution_count": null,
   "metadata": {},
   "outputs": [],
   "source": []
  },
  {
   "cell_type": "code",
   "execution_count": 115,
   "metadata": {},
   "outputs": [],
   "source": [
    "# Update OnlineSecurity Yes - 1, No - 0, No internet service - 3\n",
    "customer_data['OnlineSecurity'].replace('Yes',1, inplace = True)\n",
    "customer_data['OnlineSecurity'].replace('No',0, inplace = True)\n",
    "customer_data['OnlineSecurity'].replace('No internet service',2, inplace = True)"
   ]
  },
  {
   "cell_type": "code",
   "execution_count": null,
   "metadata": {},
   "outputs": [],
   "source": []
  },
  {
   "cell_type": "code",
   "execution_count": 116,
   "metadata": {},
   "outputs": [],
   "source": [
    "# Update OnlineBackup Yes - 1, No - 0, No internet service - 3\n",
    "customer_data['OnlineBackup'].replace('Yes',1, inplace = True)\n",
    "customer_data['OnlineBackup'].replace('No',0, inplace = True)\n",
    "customer_data['OnlineBackup'].replace('No internet service',2, inplace = True)"
   ]
  },
  {
   "cell_type": "code",
   "execution_count": null,
   "metadata": {},
   "outputs": [],
   "source": []
  },
  {
   "cell_type": "code",
   "execution_count": 117,
   "metadata": {},
   "outputs": [],
   "source": [
    "# Update DeviceProtection Yes - 1, No - 0, No internet service - 3\n",
    "customer_data['DeviceProtection'].replace('Yes',1, inplace = True)\n",
    "customer_data['DeviceProtection'].replace('No',0, inplace = True)\n",
    "customer_data['DeviceProtection'].replace('No internet service',2, inplace = True)"
   ]
  },
  {
   "cell_type": "code",
   "execution_count": null,
   "metadata": {},
   "outputs": [],
   "source": []
  },
  {
   "cell_type": "code",
   "execution_count": 118,
   "metadata": {},
   "outputs": [],
   "source": [
    "# Update TechSupport Yes - 1, No - 0, No internet service - 3\n",
    "customer_data['TechSupport'].replace('Yes',1, inplace = True)\n",
    "customer_data['TechSupport'].replace('No',0, inplace = True)\n",
    "customer_data['TechSupport'].replace('No internet service',2, inplace = True)"
   ]
  },
  {
   "cell_type": "code",
   "execution_count": null,
   "metadata": {},
   "outputs": [],
   "source": []
  },
  {
   "cell_type": "code",
   "execution_count": 119,
   "metadata": {},
   "outputs": [],
   "source": [
    "# Update StreamingTV Yes - 1, No - 0, No internet service - 3\n",
    "customer_data['StreamingTV'].replace('Yes',1, inplace = True)\n",
    "customer_data['StreamingTV'].replace('No',0, inplace = True)\n",
    "customer_data['StreamingTV'].replace('No internet service',2, inplace = True)"
   ]
  },
  {
   "cell_type": "code",
   "execution_count": null,
   "metadata": {},
   "outputs": [],
   "source": []
  },
  {
   "cell_type": "code",
   "execution_count": 120,
   "metadata": {},
   "outputs": [],
   "source": [
    "# Update StreamingMovies Yes - 1, No - 0, No internet service - 3\n",
    "customer_data['StreamingMovies'].replace('Yes',1, inplace = True)\n",
    "customer_data['StreamingMovies'].replace('No',0, inplace = True)\n",
    "customer_data['StreamingMovies'].replace('No internet service',2, inplace = True)"
   ]
  },
  {
   "cell_type": "code",
   "execution_count": null,
   "metadata": {},
   "outputs": [],
   "source": []
  },
  {
   "cell_type": "code",
   "execution_count": 121,
   "metadata": {},
   "outputs": [],
   "source": [
    "# Update Contract Type \n",
    "customer_data['Contract'].replace('Month-to-month',1, inplace = True)\n",
    "customer_data['Contract'].replace('One year',2, inplace = True)\n",
    "customer_data['Contract'].replace('Two year',3, inplace = True)"
   ]
  },
  {
   "cell_type": "code",
   "execution_count": null,
   "metadata": {},
   "outputs": [],
   "source": []
  },
  {
   "cell_type": "code",
   "execution_count": 122,
   "metadata": {},
   "outputs": [],
   "source": [
    "# Update PaperlessBilling\n",
    "customer_data['PaperlessBilling'].replace('Yes',1, inplace = True)\n",
    "customer_data['PaperlessBilling'].replace('No',0, inplace = True)"
   ]
  },
  {
   "cell_type": "code",
   "execution_count": null,
   "metadata": {},
   "outputs": [],
   "source": []
  },
  {
   "cell_type": "code",
   "execution_count": 123,
   "metadata": {},
   "outputs": [],
   "source": [
    "# Update PaymentMethod \n",
    "customer_data['PaymentMethod'].replace('Bank transfer (automatic)',1, inplace = True)\n",
    "customer_data['PaymentMethod'].replace('Credit card (automatic)',2, inplace = True)\n",
    "customer_data['PaymentMethod'].replace('Electronic check',3, inplace = True)\n",
    "customer_data['PaymentMethod'].replace('Mailed check',4, inplace = True)"
   ]
  },
  {
   "cell_type": "code",
   "execution_count": null,
   "metadata": {},
   "outputs": [],
   "source": []
  },
  {
   "cell_type": "code",
   "execution_count": 124,
   "metadata": {},
   "outputs": [],
   "source": [
    "# Churn - target column\n",
    "customer_data['Churn'].replace('Yes',1, inplace = True)\n",
    "customer_data['Churn'].replace('No',0, inplace = True)"
   ]
  },
  {
   "cell_type": "code",
   "execution_count": null,
   "metadata": {},
   "outputs": [],
   "source": []
  },
  {
   "cell_type": "code",
   "execution_count": 126,
   "metadata": {},
   "outputs": [],
   "source": [
    "customer_data.to_csv('/home/mike/Documents/mkp_code/Institute of Data Course/telco-customer-churn-project/data/processed/Telco-Customer-Churn-BooleanChange.csv')"
   ]
  },
  {
   "cell_type": "code",
   "execution_count": null,
   "metadata": {},
   "outputs": [],
   "source": []
  },
  {
   "cell_type": "code",
   "execution_count": null,
   "metadata": {},
   "outputs": [],
   "source": []
  },
  {
   "cell_type": "code",
   "execution_count": null,
   "metadata": {},
   "outputs": [],
   "source": []
  },
  {
   "cell_type": "code",
   "execution_count": null,
   "metadata": {},
   "outputs": [],
   "source": []
  }
 ],
 "metadata": {
  "language_info": {
   "codemirror_mode": {
    "name": "ipython",
    "version": 3
   },
   "file_extension": ".py",
   "mimetype": "text/x-python",
   "name": "python",
   "nbconvert_exporter": "python",
   "pygments_lexer": "ipython3",
   "version": "3.6.9-final"
  },
  "orig_nbformat": 2,
  "kernelspec": {
   "name": "python36964bita7d32479a3264c2d9b930403e542f58b",
   "display_name": "Python 3.6.9 64-bit"
  }
 },
 "nbformat": 4,
 "nbformat_minor": 2
}