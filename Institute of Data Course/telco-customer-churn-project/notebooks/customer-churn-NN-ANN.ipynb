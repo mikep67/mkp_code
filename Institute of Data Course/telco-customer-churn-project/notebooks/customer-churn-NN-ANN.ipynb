{
 "metadata": {
  "language_info": {
   "codemirror_mode": {
    "name": "ipython",
    "version": 3
   },
   "file_extension": ".py",
   "mimetype": "text/x-python",
   "name": "python",
   "nbconvert_exporter": "python",
   "pygments_lexer": "ipython3",
   "version": 3
  },
  "orig_nbformat": 2,
  "kernelspec": {
   "name": "python_defaultSpec_1597198558630",
   "display_name": "Python 3.6.9 64-bit"
  }
 },
 "nbformat": 4,
 "nbformat_minor": 2,
 "cells": [
  {
   "cell_type": "markdown",
   "metadata": {},
   "source": [
    "\n",
    "### Telco Customer Churn using ANN\n",
    "#### based on examples from: <br> https://www.kaggle.com/snehithatiger/telco-customer-churn-using-ann \n"
   ]
  },
  {
   "cell_type": "code",
   "execution_count": null,
   "metadata": {},
   "outputs": [],
   "source": []
  },
  {
   "cell_type": "code",
   "execution_count": 1,
   "metadata": {
    "tags": []
   },
   "outputs": [
    {
     "output_type": "stream",
     "name": "stdout",
     "text": "Using matplotlib backend: Qt5Agg\nUsing TensorFlow backend.\n"
    }
   ],
   "source": [
    "# linear algebra\n",
    "import numpy as np\n",
    "\n",
    "# data processing\n",
    "import pandas as pd \n",
    "\n",
    "#CSV file I/O (e.g. pd.read_csv)\n",
    "import os\n",
    "\n",
    "#plotting the graph\n",
    "import matplotlib.pyplot as plt\n",
    "import seaborn as sns\n",
    "%matplotlib\n",
    "\n",
    "# scki-learn library - converting the non-numeric data into numeric data.\n",
    "from sklearn.preprocessing import LabelEncoder\n",
    "\n",
    "# scki-learn library - partition the dataset for modelling\n",
    "from sklearn.model_selection import train_test_split\n",
    "\n",
    "# scki-learn library - metrics for ml models\n",
    "from sklearn.metrics import accuracy_score\n",
    "from sklearn.metrics import confusion_matrix\n",
    "from sklearn.metrics import precision_score\n",
    "from sklearn.metrics import recall_score\n",
    "from sklearn.metrics import precision_recall_curve\n",
    "\n",
    "#scki-learn library - KN Neighbors\n",
    "from sklearn.neighbors import KNeighborsClassifier\n",
    "\n",
    "#scki-learn library - Random Tree Models\n",
    "from sklearn.ensemble import RandomForestRegressor\n",
    "from sklearn.ensemble import RandomForestClassifier\n",
    "from sklearn.tree import DecisionTreeClassifier\n",
    "\n",
    "# xgboost - used for Tree Classifier Models\n",
    "from xgboost import XGBClassifier\n",
    "\n",
    "# scki-learn library - prediction using Naive Bayes Algorithm \n",
    "from sklearn.naive_bayes import GaussianNB\n",
    "\n",
    "# keras - tensorflow for artificial neutral networks\n",
    "import keras\n",
    "from keras.models import Sequential\n",
    "from keras.layers import Dense\n",
    "\n",
    "\n"
   ]
  },
  {
   "cell_type": "code",
   "execution_count": null,
   "metadata": {},
   "outputs": [],
   "source": []
  },
  {
   "cell_type": "code",
   "execution_count": 2,
   "metadata": {},
   "outputs": [],
   "source": [
    "# Set the active directory to access the data\n",
    "os.chdir('/home/mike/Documents/mkp_code/Institute of Data Course/telco-customer-churn-project/data/processed')"
   ]
  },
  {
   "cell_type": "code",
   "execution_count": null,
   "metadata": {},
   "outputs": [],
   "source": []
  },
  {
   "cell_type": "code",
   "execution_count": 3,
   "metadata": {},
   "outputs": [],
   "source": [
    "#importing the dataset\n",
    "customer_data = pd.read_csv('Telco-Customer-Churn-Processed.csv')"
   ]
  },
  {
   "cell_type": "code",
   "execution_count": null,
   "metadata": {},
   "outputs": [],
   "source": []
  },
  {
   "cell_type": "code",
   "execution_count": 4,
   "metadata": {},
   "outputs": [
    {
     "output_type": "execute_result",
     "data": {
      "text/plain": "   Unnamed: 0  gender  SeniorCitizen  Partner  Dependents    tenure  \\\n0           0       0              0        1           0 -1.277445   \n1           1       1              0        0           0  0.066327   \n2           2       1              0        0           0 -1.236724   \n3           3       1              0        0           0  0.514251   \n4           4       0              0        0           0 -1.236724   \n\n   PhoneService  MultipleLines  InternetService  OnlineSecurity  ...  \\\n0             0              1                0               0  ...   \n1             1              0                0               2  ...   \n2             1              0                0               2  ...   \n3             0              1                0               2  ...   \n4             1              0                1               0  ...   \n\n   TechSupport  StreamingTV  StreamingMovies  Contract  PaperlessBilling  \\\n0            0            0                0         0                 1   \n1            0            0                0         1                 0   \n2            0            0                0         0                 1   \n3            2            0                0         1                 0   \n4            0            0                0         0                 1   \n\n   PaymentMethod  MonthlyCharges  TotalCharges  Churn  tenure_group  \n0              2       -1.160323     -0.994971      0             0  \n1              3       -0.259629     -0.173876      0             2  \n2              3       -0.362660     -0.960399      1             0  \n3              0       -0.746535     -0.195400      0             2  \n4              2        0.197365     -0.941193      1             0  \n\n[5 rows x 22 columns]",
      "text/html": "<div>\n<style scoped>\n    .dataframe tbody tr th:only-of-type {\n        vertical-align: middle;\n    }\n\n    .dataframe tbody tr th {\n        vertical-align: top;\n    }\n\n    .dataframe thead th {\n        text-align: right;\n    }\n</style>\n<table border=\"1\" class=\"dataframe\">\n  <thead>\n    <tr style=\"text-align: right;\">\n      <th></th>\n      <th>Unnamed: 0</th>\n      <th>gender</th>\n      <th>SeniorCitizen</th>\n      <th>Partner</th>\n      <th>Dependents</th>\n      <th>tenure</th>\n      <th>PhoneService</th>\n      <th>MultipleLines</th>\n      <th>InternetService</th>\n      <th>OnlineSecurity</th>\n      <th>...</th>\n      <th>TechSupport</th>\n      <th>StreamingTV</th>\n      <th>StreamingMovies</th>\n      <th>Contract</th>\n      <th>PaperlessBilling</th>\n      <th>PaymentMethod</th>\n      <th>MonthlyCharges</th>\n      <th>TotalCharges</th>\n      <th>Churn</th>\n      <th>tenure_group</th>\n    </tr>\n  </thead>\n  <tbody>\n    <tr>\n      <th>0</th>\n      <td>0</td>\n      <td>0</td>\n      <td>0</td>\n      <td>1</td>\n      <td>0</td>\n      <td>-1.277445</td>\n      <td>0</td>\n      <td>1</td>\n      <td>0</td>\n      <td>0</td>\n      <td>...</td>\n      <td>0</td>\n      <td>0</td>\n      <td>0</td>\n      <td>0</td>\n      <td>1</td>\n      <td>2</td>\n      <td>-1.160323</td>\n      <td>-0.994971</td>\n      <td>0</td>\n      <td>0</td>\n    </tr>\n    <tr>\n      <th>1</th>\n      <td>1</td>\n      <td>1</td>\n      <td>0</td>\n      <td>0</td>\n      <td>0</td>\n      <td>0.066327</td>\n      <td>1</td>\n      <td>0</td>\n      <td>0</td>\n      <td>2</td>\n      <td>...</td>\n      <td>0</td>\n      <td>0</td>\n      <td>0</td>\n      <td>1</td>\n      <td>0</td>\n      <td>3</td>\n      <td>-0.259629</td>\n      <td>-0.173876</td>\n      <td>0</td>\n      <td>2</td>\n    </tr>\n    <tr>\n      <th>2</th>\n      <td>2</td>\n      <td>1</td>\n      <td>0</td>\n      <td>0</td>\n      <td>0</td>\n      <td>-1.236724</td>\n      <td>1</td>\n      <td>0</td>\n      <td>0</td>\n      <td>2</td>\n      <td>...</td>\n      <td>0</td>\n      <td>0</td>\n      <td>0</td>\n      <td>0</td>\n      <td>1</td>\n      <td>3</td>\n      <td>-0.362660</td>\n      <td>-0.960399</td>\n      <td>1</td>\n      <td>0</td>\n    </tr>\n    <tr>\n      <th>3</th>\n      <td>3</td>\n      <td>1</td>\n      <td>0</td>\n      <td>0</td>\n      <td>0</td>\n      <td>0.514251</td>\n      <td>0</td>\n      <td>1</td>\n      <td>0</td>\n      <td>2</td>\n      <td>...</td>\n      <td>2</td>\n      <td>0</td>\n      <td>0</td>\n      <td>1</td>\n      <td>0</td>\n      <td>0</td>\n      <td>-0.746535</td>\n      <td>-0.195400</td>\n      <td>0</td>\n      <td>2</td>\n    </tr>\n    <tr>\n      <th>4</th>\n      <td>4</td>\n      <td>0</td>\n      <td>0</td>\n      <td>0</td>\n      <td>0</td>\n      <td>-1.236724</td>\n      <td>1</td>\n      <td>0</td>\n      <td>1</td>\n      <td>0</td>\n      <td>...</td>\n      <td>0</td>\n      <td>0</td>\n      <td>0</td>\n      <td>0</td>\n      <td>1</td>\n      <td>2</td>\n      <td>0.197365</td>\n      <td>-0.941193</td>\n      <td>1</td>\n      <td>0</td>\n    </tr>\n  </tbody>\n</table>\n<p>5 rows × 22 columns</p>\n</div>"
     },
     "metadata": {},
     "execution_count": 4
    }
   ],
   "source": [
    "# Display the first 5 rows\n",
    "customer_data.head()"
   ]
  },
  {
   "cell_type": "code",
   "execution_count": null,
   "metadata": {},
   "outputs": [],
   "source": []
  },
  {
   "cell_type": "code",
   "execution_count": 5,
   "metadata": {},
   "outputs": [
    {
     "output_type": "execute_result",
     "data": {
      "text/plain": "        Unnamed: 0       gender  SeniorCitizen      Partner   Dependents  \\\ncount  7043.000000  7043.000000    7043.000000  7043.000000  7043.000000   \nmean   3521.000000     0.504756       0.162147     0.483033     0.299588   \nstd    2033.283305     0.500013       0.368612     0.499748     0.458110   \nmin       0.000000     0.000000       0.000000     0.000000     0.000000   \n25%    1760.500000     0.000000       0.000000     0.000000     0.000000   \n50%    3521.000000     1.000000       0.000000     0.000000     0.000000   \n75%    5281.500000     1.000000       0.000000     1.000000     1.000000   \nmax    7042.000000     1.000000       1.000000     1.000000     1.000000   \n\n             tenure  PhoneService  MultipleLines  InternetService  \\\ncount  7.043000e+03   7043.000000    7043.000000      7043.000000   \nmean  -2.219500e-17      0.903166       0.940508         0.872923   \nstd    1.000071e+00      0.295752       0.948554         0.737796   \nmin   -1.318165e+00      0.000000       0.000000         0.000000   \n25%   -9.516817e-01      1.000000       0.000000         0.000000   \n50%   -1.372744e-01      1.000000       1.000000         1.000000   \n75%    9.214551e-01      1.000000       2.000000         1.000000   \nmax    1.613701e+00      1.000000       2.000000         2.000000   \n\n       OnlineSecurity  ...  TechSupport  StreamingTV  StreamingMovies  \\\ncount     7043.000000  ...  7043.000000  7043.000000      7043.000000   \nmean         0.790004  ...     0.797104     0.985376         0.992475   \nstd          0.859848  ...     0.861551     0.885002         0.885091   \nmin          0.000000  ...     0.000000     0.000000         0.000000   \n25%          0.000000  ...     0.000000     0.000000         0.000000   \n50%          1.000000  ...     1.000000     1.000000         1.000000   \n75%          2.000000  ...     2.000000     2.000000         2.000000   \nmax          2.000000  ...     2.000000     2.000000         2.000000   \n\n          Contract  PaperlessBilling  PaymentMethod  MonthlyCharges  \\\ncount  7043.000000       7043.000000    7043.000000    7.043000e+03   \nmean      0.690473          0.592219       1.574329   -6.103626e-17   \nstd       0.833755          0.491457       1.068104    1.000071e+00   \nmin       0.000000          0.000000       0.000000   -1.545860e+00   \n25%       0.000000          0.000000       1.000000   -9.725399e-01   \n50%       0.000000          1.000000       2.000000    1.857327e-01   \n75%       1.000000          1.000000       2.000000    8.338335e-01   \nmax       2.000000          1.000000       3.000000    1.794352e+00   \n\n       TotalCharges        Churn  tenure_group  \ncount  7.043000e+03  7043.000000   7043.000000  \nmean   8.020467e-17     0.265370      1.751526  \nstd    1.000071e+00     0.441561      1.497568  \nmin   -9.998503e-01     0.000000      0.000000  \n25%   -8.305558e-01     0.000000      0.000000  \n50%   -3.897629e-01     0.000000      2.000000  \n75%    6.637555e-01     1.000000      3.000000  \nmax    2.826469e+00     1.000000      4.000000  \n\n[8 rows x 22 columns]",
      "text/html": "<div>\n<style scoped>\n    .dataframe tbody tr th:only-of-type {\n        vertical-align: middle;\n    }\n\n    .dataframe tbody tr th {\n        vertical-align: top;\n    }\n\n    .dataframe thead th {\n        text-align: right;\n    }\n</style>\n<table border=\"1\" class=\"dataframe\">\n  <thead>\n    <tr style=\"text-align: right;\">\n      <th></th>\n      <th>Unnamed: 0</th>\n      <th>gender</th>\n      <th>SeniorCitizen</th>\n      <th>Partner</th>\n      <th>Dependents</th>\n      <th>tenure</th>\n      <th>PhoneService</th>\n      <th>MultipleLines</th>\n      <th>InternetService</th>\n      <th>OnlineSecurity</th>\n      <th>...</th>\n      <th>TechSupport</th>\n      <th>StreamingTV</th>\n      <th>StreamingMovies</th>\n      <th>Contract</th>\n      <th>PaperlessBilling</th>\n      <th>PaymentMethod</th>\n      <th>MonthlyCharges</th>\n      <th>TotalCharges</th>\n      <th>Churn</th>\n      <th>tenure_group</th>\n    </tr>\n  </thead>\n  <tbody>\n    <tr>\n      <th>count</th>\n      <td>7043.000000</td>\n      <td>7043.000000</td>\n      <td>7043.000000</td>\n      <td>7043.000000</td>\n      <td>7043.000000</td>\n      <td>7.043000e+03</td>\n      <td>7043.000000</td>\n      <td>7043.000000</td>\n      <td>7043.000000</td>\n      <td>7043.000000</td>\n      <td>...</td>\n      <td>7043.000000</td>\n      <td>7043.000000</td>\n      <td>7043.000000</td>\n      <td>7043.000000</td>\n      <td>7043.000000</td>\n      <td>7043.000000</td>\n      <td>7.043000e+03</td>\n      <td>7.043000e+03</td>\n      <td>7043.000000</td>\n      <td>7043.000000</td>\n    </tr>\n    <tr>\n      <th>mean</th>\n      <td>3521.000000</td>\n      <td>0.504756</td>\n      <td>0.162147</td>\n      <td>0.483033</td>\n      <td>0.299588</td>\n      <td>-2.219500e-17</td>\n      <td>0.903166</td>\n      <td>0.940508</td>\n      <td>0.872923</td>\n      <td>0.790004</td>\n      <td>...</td>\n      <td>0.797104</td>\n      <td>0.985376</td>\n      <td>0.992475</td>\n      <td>0.690473</td>\n      <td>0.592219</td>\n      <td>1.574329</td>\n      <td>-6.103626e-17</td>\n      <td>8.020467e-17</td>\n      <td>0.265370</td>\n      <td>1.751526</td>\n    </tr>\n    <tr>\n      <th>std</th>\n      <td>2033.283305</td>\n      <td>0.500013</td>\n      <td>0.368612</td>\n      <td>0.499748</td>\n      <td>0.458110</td>\n      <td>1.000071e+00</td>\n      <td>0.295752</td>\n      <td>0.948554</td>\n      <td>0.737796</td>\n      <td>0.859848</td>\n      <td>...</td>\n      <td>0.861551</td>\n      <td>0.885002</td>\n      <td>0.885091</td>\n      <td>0.833755</td>\n      <td>0.491457</td>\n      <td>1.068104</td>\n      <td>1.000071e+00</td>\n      <td>1.000071e+00</td>\n      <td>0.441561</td>\n      <td>1.497568</td>\n    </tr>\n    <tr>\n      <th>min</th>\n      <td>0.000000</td>\n      <td>0.000000</td>\n      <td>0.000000</td>\n      <td>0.000000</td>\n      <td>0.000000</td>\n      <td>-1.318165e+00</td>\n      <td>0.000000</td>\n      <td>0.000000</td>\n      <td>0.000000</td>\n      <td>0.000000</td>\n      <td>...</td>\n      <td>0.000000</td>\n      <td>0.000000</td>\n      <td>0.000000</td>\n      <td>0.000000</td>\n      <td>0.000000</td>\n      <td>0.000000</td>\n      <td>-1.545860e+00</td>\n      <td>-9.998503e-01</td>\n      <td>0.000000</td>\n      <td>0.000000</td>\n    </tr>\n    <tr>\n      <th>25%</th>\n      <td>1760.500000</td>\n      <td>0.000000</td>\n      <td>0.000000</td>\n      <td>0.000000</td>\n      <td>0.000000</td>\n      <td>-9.516817e-01</td>\n      <td>1.000000</td>\n      <td>0.000000</td>\n      <td>0.000000</td>\n      <td>0.000000</td>\n      <td>...</td>\n      <td>0.000000</td>\n      <td>0.000000</td>\n      <td>0.000000</td>\n      <td>0.000000</td>\n      <td>0.000000</td>\n      <td>1.000000</td>\n      <td>-9.725399e-01</td>\n      <td>-8.305558e-01</td>\n      <td>0.000000</td>\n      <td>0.000000</td>\n    </tr>\n    <tr>\n      <th>50%</th>\n      <td>3521.000000</td>\n      <td>1.000000</td>\n      <td>0.000000</td>\n      <td>0.000000</td>\n      <td>0.000000</td>\n      <td>-1.372744e-01</td>\n      <td>1.000000</td>\n      <td>1.000000</td>\n      <td>1.000000</td>\n      <td>1.000000</td>\n      <td>...</td>\n      <td>1.000000</td>\n      <td>1.000000</td>\n      <td>1.000000</td>\n      <td>0.000000</td>\n      <td>1.000000</td>\n      <td>2.000000</td>\n      <td>1.857327e-01</td>\n      <td>-3.897629e-01</td>\n      <td>0.000000</td>\n      <td>2.000000</td>\n    </tr>\n    <tr>\n      <th>75%</th>\n      <td>5281.500000</td>\n      <td>1.000000</td>\n      <td>0.000000</td>\n      <td>1.000000</td>\n      <td>1.000000</td>\n      <td>9.214551e-01</td>\n      <td>1.000000</td>\n      <td>2.000000</td>\n      <td>1.000000</td>\n      <td>2.000000</td>\n      <td>...</td>\n      <td>2.000000</td>\n      <td>2.000000</td>\n      <td>2.000000</td>\n      <td>1.000000</td>\n      <td>1.000000</td>\n      <td>2.000000</td>\n      <td>8.338335e-01</td>\n      <td>6.637555e-01</td>\n      <td>1.000000</td>\n      <td>3.000000</td>\n    </tr>\n    <tr>\n      <th>max</th>\n      <td>7042.000000</td>\n      <td>1.000000</td>\n      <td>1.000000</td>\n      <td>1.000000</td>\n      <td>1.000000</td>\n      <td>1.613701e+00</td>\n      <td>1.000000</td>\n      <td>2.000000</td>\n      <td>2.000000</td>\n      <td>2.000000</td>\n      <td>...</td>\n      <td>2.000000</td>\n      <td>2.000000</td>\n      <td>2.000000</td>\n      <td>2.000000</td>\n      <td>1.000000</td>\n      <td>3.000000</td>\n      <td>1.794352e+00</td>\n      <td>2.826469e+00</td>\n      <td>1.000000</td>\n      <td>4.000000</td>\n    </tr>\n  </tbody>\n</table>\n<p>8 rows × 22 columns</p>\n</div>"
     },
     "metadata": {},
     "execution_count": 5
    }
   ],
   "source": [
    "# What does the data look like?\n",
    "customer_data.describe()"
   ]
  },
  {
   "cell_type": "code",
   "execution_count": null,
   "metadata": {},
   "outputs": [],
   "source": []
  },
  {
   "cell_type": "code",
   "execution_count": 6,
   "metadata": {},
   "outputs": [
    {
     "output_type": "execute_result",
     "data": {
      "text/plain": "Unnamed: 0          0\ngender              0\nSeniorCitizen       0\nPartner             0\nDependents          0\ntenure              0\nPhoneService        0\nMultipleLines       0\nInternetService     0\nOnlineSecurity      0\nOnlineBackup        0\nDeviceProtection    0\nTechSupport         0\nStreamingTV         0\nStreamingMovies     0\nContract            0\nPaperlessBilling    0\nPaymentMethod       0\nMonthlyCharges      0\nTotalCharges        0\nChurn               0\ntenure_group        0\ndtype: int64"
     },
     "metadata": {},
     "execution_count": 6
    }
   ],
   "source": [
    "# checking if any null data exists\n",
    "customer_data.isnull().sum()"
   ]
  },
  {
   "cell_type": "code",
   "execution_count": 7,
   "metadata": {},
   "outputs": [],
   "source": [
    "# drop a column that is not useful\n",
    "customer_data = customer_data.drop(columns = ['Unnamed: 0'])\n"
   ]
  },
  {
   "cell_type": "code",
   "execution_count": null,
   "metadata": {},
   "outputs": [],
   "source": []
  },
  {
   "cell_type": "code",
   "execution_count": 8,
   "metadata": {},
   "outputs": [
    {
     "output_type": "execute_result",
     "data": {
      "text/plain": "   gender  SeniorCitizen  Partner  Dependents    tenure  PhoneService  \\\n0       0              0        1           0 -1.277445             0   \n1       1              0        0           0  0.066327             1   \n2       1              0        0           0 -1.236724             1   \n3       1              0        0           0  0.514251             0   \n4       0              0        0           0 -1.236724             1   \n\n   MultipleLines  InternetService  OnlineSecurity  OnlineBackup  ...  \\\n0              1                0               0             2  ...   \n1              0                0               2             0  ...   \n2              0                0               2             2  ...   \n3              1                0               2             0  ...   \n4              0                1               0             0  ...   \n\n   TechSupport  StreamingTV  StreamingMovies  Contract  PaperlessBilling  \\\n0            0            0                0         0                 1   \n1            0            0                0         1                 0   \n2            0            0                0         0                 1   \n3            2            0                0         1                 0   \n4            0            0                0         0                 1   \n\n   PaymentMethod  MonthlyCharges  TotalCharges  Churn  tenure_group  \n0              2       -1.160323     -0.994971      0             0  \n1              3       -0.259629     -0.173876      0             2  \n2              3       -0.362660     -0.960399      1             0  \n3              0       -0.746535     -0.195400      0             2  \n4              2        0.197365     -0.941193      1             0  \n\n[5 rows x 21 columns]",
      "text/html": "<div>\n<style scoped>\n    .dataframe tbody tr th:only-of-type {\n        vertical-align: middle;\n    }\n\n    .dataframe tbody tr th {\n        vertical-align: top;\n    }\n\n    .dataframe thead th {\n        text-align: right;\n    }\n</style>\n<table border=\"1\" class=\"dataframe\">\n  <thead>\n    <tr style=\"text-align: right;\">\n      <th></th>\n      <th>gender</th>\n      <th>SeniorCitizen</th>\n      <th>Partner</th>\n      <th>Dependents</th>\n      <th>tenure</th>\n      <th>PhoneService</th>\n      <th>MultipleLines</th>\n      <th>InternetService</th>\n      <th>OnlineSecurity</th>\n      <th>OnlineBackup</th>\n      <th>...</th>\n      <th>TechSupport</th>\n      <th>StreamingTV</th>\n      <th>StreamingMovies</th>\n      <th>Contract</th>\n      <th>PaperlessBilling</th>\n      <th>PaymentMethod</th>\n      <th>MonthlyCharges</th>\n      <th>TotalCharges</th>\n      <th>Churn</th>\n      <th>tenure_group</th>\n    </tr>\n  </thead>\n  <tbody>\n    <tr>\n      <th>0</th>\n      <td>0</td>\n      <td>0</td>\n      <td>1</td>\n      <td>0</td>\n      <td>-1.277445</td>\n      <td>0</td>\n      <td>1</td>\n      <td>0</td>\n      <td>0</td>\n      <td>2</td>\n      <td>...</td>\n      <td>0</td>\n      <td>0</td>\n      <td>0</td>\n      <td>0</td>\n      <td>1</td>\n      <td>2</td>\n      <td>-1.160323</td>\n      <td>-0.994971</td>\n      <td>0</td>\n      <td>0</td>\n    </tr>\n    <tr>\n      <th>1</th>\n      <td>1</td>\n      <td>0</td>\n      <td>0</td>\n      <td>0</td>\n      <td>0.066327</td>\n      <td>1</td>\n      <td>0</td>\n      <td>0</td>\n      <td>2</td>\n      <td>0</td>\n      <td>...</td>\n      <td>0</td>\n      <td>0</td>\n      <td>0</td>\n      <td>1</td>\n      <td>0</td>\n      <td>3</td>\n      <td>-0.259629</td>\n      <td>-0.173876</td>\n      <td>0</td>\n      <td>2</td>\n    </tr>\n    <tr>\n      <th>2</th>\n      <td>1</td>\n      <td>0</td>\n      <td>0</td>\n      <td>0</td>\n      <td>-1.236724</td>\n      <td>1</td>\n      <td>0</td>\n      <td>0</td>\n      <td>2</td>\n      <td>2</td>\n      <td>...</td>\n      <td>0</td>\n      <td>0</td>\n      <td>0</td>\n      <td>0</td>\n      <td>1</td>\n      <td>3</td>\n      <td>-0.362660</td>\n      <td>-0.960399</td>\n      <td>1</td>\n      <td>0</td>\n    </tr>\n    <tr>\n      <th>3</th>\n      <td>1</td>\n      <td>0</td>\n      <td>0</td>\n      <td>0</td>\n      <td>0.514251</td>\n      <td>0</td>\n      <td>1</td>\n      <td>0</td>\n      <td>2</td>\n      <td>0</td>\n      <td>...</td>\n      <td>2</td>\n      <td>0</td>\n      <td>0</td>\n      <td>1</td>\n      <td>0</td>\n      <td>0</td>\n      <td>-0.746535</td>\n      <td>-0.195400</td>\n      <td>0</td>\n      <td>2</td>\n    </tr>\n    <tr>\n      <th>4</th>\n      <td>0</td>\n      <td>0</td>\n      <td>0</td>\n      <td>0</td>\n      <td>-1.236724</td>\n      <td>1</td>\n      <td>0</td>\n      <td>1</td>\n      <td>0</td>\n      <td>0</td>\n      <td>...</td>\n      <td>0</td>\n      <td>0</td>\n      <td>0</td>\n      <td>0</td>\n      <td>1</td>\n      <td>2</td>\n      <td>0.197365</td>\n      <td>-0.941193</td>\n      <td>1</td>\n      <td>0</td>\n    </tr>\n  </tbody>\n</table>\n<p>5 rows × 21 columns</p>\n</div>"
     },
     "metadata": {},
     "execution_count": 8
    }
   ],
   "source": [
    "# Check the dataset again\n",
    "customer_data.head()"
   ]
  },
  {
   "cell_type": "code",
   "execution_count": null,
   "metadata": {},
   "outputs": [],
   "source": []
  },
  {
   "cell_type": "code",
   "execution_count": 9,
   "metadata": {},
   "outputs": [],
   "source": [
    "# X=Features, y=Target\n",
    "X = customer_data.iloc[:, 0:19]\n",
    "y = customer_data.Churn"
   ]
  },
  {
   "cell_type": "code",
   "execution_count": null,
   "metadata": {},
   "outputs": [],
   "source": []
  },
  {
   "cell_type": "code",
   "execution_count": 10,
   "metadata": {},
   "outputs": [],
   "source": [
    "# train test spliting\n",
    "# split the data into a training and a test part.\n",
    "# the models will be trained on the training data set and tested on the test data set.\n",
    "X_train, X_test, y_train, y_test = train_test_split(X, y, test_size = 0.3)"
   ]
  },
  {
   "cell_type": "code",
   "execution_count": null,
   "metadata": {},
   "outputs": [],
   "source": []
  },
  {
   "cell_type": "code",
   "execution_count": 11,
   "metadata": {
    "tags": []
   },
   "outputs": [
    {
     "output_type": "stream",
     "name": "stdout",
     "text": "X_train:  4930\nX_test:  2113\ny_train:  4930\ny_test:  2113\n"
    }
   ],
   "source": [
    "#print length of X_train, X_test, y_train, y_test\n",
    "print (\"X_train: \", len(X_train))\n",
    "print(\"X_test: \", len(X_test))\n",
    "print(\"y_train: \", len(y_train))\n",
    "print(\"y_test: \", len(y_test))"
   ]
  },
  {
   "cell_type": "code",
   "execution_count": null,
   "metadata": {},
   "outputs": [],
   "source": []
  },
  {
   "cell_type": "code",
   "execution_count": 12,
   "metadata": {
    "tags": []
   },
   "outputs": [
    {
     "output_type": "stream",
     "name": "stdout",
     "text": "Accuracy score of KNN training set: 0.829\nAccuracy score of KNN test set: 0.780\n"
    }
   ],
   "source": [
    "# Model the K Neighbor\n",
    "knc = KNeighborsClassifier()\n",
    "knc.fit(X_train, y_train)\n",
    "knc.fit(X_train, y_train)\n",
    "print('Accuracy score of KNN training set: {:.3f}'.format(knc.score(X_train, y_train)))\n",
    "print('Accuracy score of KNN test set: {:.3f}'.format(knc.score(X_test, y_test)))\n"
   ]
  },
  {
   "cell_type": "code",
   "execution_count": null,
   "metadata": {},
   "outputs": [],
   "source": []
  },
  {
   "cell_type": "code",
   "execution_count": 13,
   "metadata": {
    "tags": []
   },
   "outputs": [
    {
     "output_type": "stream",
     "name": "stdout",
     "text": "confusion_matrix of KNN:  [[1351  196]\n [ 268  298]]\nprecision_score of KNN:  0.6032388663967612\nrecall_score of KNN:  0.5265017667844523\nprecision_recall_curve of KNN:  (array([0.26786559, 0.60323887, 1.        ]), array([1.        , 0.52650177, 0.        ]), array([0, 1]))\n"
    }
   ],
   "source": [
    "# Print Results - KNN Classifier\n",
    "y_knc = knc.predict(X_test)\n",
    "\n",
    "print('confusion_matrix of KNN: ', confusion_matrix(y_test, y_knc))\n",
    "print('precision_score of KNN: ', precision_score(y_test, y_knc))\n",
    "print('recall_score of KNN: ', recall_score(y_test, y_knc))\n",
    "print('precision_recall_curve of KNN: ', precision_recall_curve(y_test, y_knc))"
   ]
  },
  {
   "cell_type": "code",
   "execution_count": null,
   "metadata": {},
   "outputs": [],
   "source": []
  },
  {
   "cell_type": "code",
   "execution_count": 14,
   "metadata": {
    "tags": []
   },
   "outputs": [
    {
     "output_type": "stream",
     "name": "stdout",
     "text": "Accuracy score (training): 0.891\nAccuracy score (test): 0.274\n"
    }
   ],
   "source": [
    "# Model the Random Forest Regressor\n",
    "rfr = RandomForestRegressor()\n",
    "rfr.fit(X_train, y_train)\n",
    "print('Accuracy score (training): {:.3f}'.format(rfr.score(X_train, y_train)))\n",
    "print('Accuracy score (test): {:.3f}'.format(rfr.score(X_test, y_test)))"
   ]
  },
  {
   "cell_type": "code",
   "execution_count": null,
   "metadata": {},
   "outputs": [],
   "source": []
  },
  {
   "cell_type": "code",
   "execution_count": 15,
   "metadata": {
    "tags": []
   },
   "outputs": [
    {
     "output_type": "stream",
     "name": "stdout",
     "text": "Accuracy score Random Forest Classifier training set: 0.998\nAccuracy score Random Forest Classifier test set: 0.796\n"
    }
   ],
   "source": [
    "# Model Random Forest Classifier\n",
    "rfc = RandomForestClassifier()\n",
    "rfc.fit(X_train, y_train)\n",
    "print('Accuracy score Random Forest Classifier training set: {:.3f}'.format(rfc.score(X_train, y_train)))\n",
    "print('Accuracy score Random Forest Classifier test set: {:.3f}'.format(rfc.score(X_test, y_test)))"
   ]
  },
  {
   "cell_type": "code",
   "execution_count": null,
   "metadata": {},
   "outputs": [],
   "source": []
  },
  {
   "cell_type": "code",
   "execution_count": 16,
   "metadata": {
    "tags": []
   },
   "outputs": [
    {
     "output_type": "stream",
     "name": "stdout",
     "text": "confusion_matrix of Random Forest Classifier:  [[1414  133]\n [ 297  269]]\nprecision_score of Random Forest Classifier:  0.6691542288557214\nrecall_score of Random Forest Classifier:  0.4752650176678445\nprecision_recall_curve of Random Forest Classifier:  (array([0.26786559, 0.66915423, 1.        ]), array([1.        , 0.47526502, 0.        ]), array([0, 1]))\n"
    }
   ],
   "source": [
    "y_rfc = rfc.predict(X_test)\n",
    "\n",
    "print('confusion_matrix of Random Forest Classifier: ', confusion_matrix(y_test, y_rfc))\n",
    "print('precision_score of Random Forest Classifier: ', precision_score(y_test, y_rfc))\n",
    "print('recall_score of Random Forest Classifier: ', recall_score(y_test, y_rfc))\n",
    "print('precision_recall_curve of Random Forest Classifier: ', precision_recall_curve(y_test, y_rfc))"
   ]
  },
  {
   "cell_type": "code",
   "execution_count": null,
   "metadata": {},
   "outputs": [],
   "source": []
  },
  {
   "cell_type": "code",
   "execution_count": 17,
   "metadata": {
    "tags": []
   },
   "outputs": [
    {
     "output_type": "stream",
     "name": "stdout",
     "text": "accuracy of Decision Tree Classifier training set: 0.998\naccuaracy of Decision Tree Classifier test set: 0.734\n"
    }
   ],
   "source": [
    "# Model Decision Tree Classifier\n",
    "classifier = DecisionTreeClassifier(criterion = 'entropy', random_state = 42)\n",
    "classifier.fit(X_train, y_train)\n",
    "\n",
    "print('accuracy of Decision Tree Classifier training set: {:.3f}'.format(classifier.score(X_train,y_train)))\n",
    "print('accuaracy of Decision Tree Classifier test set: {:.3f}'.format(classifier.score(X_test, y_test)))"
   ]
  },
  {
   "cell_type": "code",
   "execution_count": null,
   "metadata": {},
   "outputs": [],
   "source": []
  },
  {
   "cell_type": "code",
   "execution_count": 18,
   "metadata": {
    "tags": []
   },
   "outputs": [
    {
     "output_type": "stream",
     "name": "stdout",
     "text": "accuracy_score of decision tree classifier:  0.7335541883577852\nconfusion_matrix of decision tree classifier:  [[1277  293]\n [ 270  273]]\nprecision_score of decision tree classifier:  0.4823321554770318\nrecall_score of decision tree classifier:  0.5027624309392266\nprecision_recall_curve of decision tree classifier:  (array([0.2569806 , 0.48233216, 1.        ]), array([1.        , 0.50276243, 0.        ]), array([0, 1]))\n"
    }
   ],
   "source": [
    "y_dtc = classifier.predict(X_test)\n",
    "print('accuracy_score of decision tree classifier: ', accuracy_score(y_dtc, y_test))\n",
    "print('confusion_matrix of decision tree classifier: ', confusion_matrix(y_dtc, y_test))\n",
    "print('precision_score of decision tree classifier: ', precision_score(y_dtc, y_test))\n",
    "print('recall_score of decision tree classifier: ', recall_score(y_dtc, y_test))\n",
    "print('precision_recall_curve of decision tree classifier: ', precision_recall_curve(y_dtc, y_test))"
   ]
  },
  {
   "cell_type": "code",
   "execution_count": null,
   "metadata": {},
   "outputs": [],
   "source": []
  },
  {
   "cell_type": "code",
   "execution_count": 19,
   "metadata": {
    "tags": []
   },
   "outputs": [
    {
     "output_type": "stream",
     "name": "stdout",
     "text": "Accuracy XGBclassifier on train set: 0.950\nAccuracy XGBClassifier on test set: 0.796\n"
    }
   ],
   "source": [
    "xgb = XGBClassifier()\n",
    "xgb.fit(X_train, y_train)\n",
    "print('Accuracy XGBclassifier on train set: {:.3f}'.format(xgb.score(X_train, y_train)))\n",
    "print('Accuracy XGBClassifier on test set: {:.3f}'.format(xgb.score(X_test, y_test)))"
   ]
  },
  {
   "cell_type": "code",
   "execution_count": null,
   "metadata": {},
   "outputs": [],
   "source": []
  },
  {
   "cell_type": "code",
   "execution_count": 20,
   "metadata": {
    "tags": []
   },
   "outputs": [
    {
     "output_type": "stream",
     "name": "stdout",
     "text": "accuracy_score of xgboost:  0.79649787032655\nconfusion_matrix of xgboost:  [[1408  139]\n [ 291  275]]\nprecision_score of xgboost:  0.6642512077294686\nrecall_score of xgboost:  0.48586572438162545\nprecision_recall_curve of xgboost:  (array([0.26786559, 0.66425121, 1.        ]), array([1.        , 0.48586572, 0.        ]), array([0, 1]))\n"
    }
   ],
   "source": [
    "y_xgbc = xgb.predict(X_test)\n",
    "\n",
    "# predicting Confusion matrix, accuracy score,precision score, recall score\n",
    "print('accuracy_score of xgboost: ', accuracy_score(y_test, y_xgbc))\n",
    "print('confusion_matrix of xgboost: ', confusion_matrix(y_test, y_xgbc))\n",
    "print('precision_score of xgboost: ', precision_score(y_test, y_xgbc))\n",
    "print('recall_score of xgboost: ', recall_score(y_test, y_xgbc))\n",
    "print('precision_recall_curve of xgboost: ', precision_recall_curve(y_test, y_xgbc))"
   ]
  },
  {
   "cell_type": "code",
   "execution_count": null,
   "metadata": {},
   "outputs": [],
   "source": []
  },
  {
   "cell_type": "code",
   "execution_count": 21,
   "metadata": {
    "tags": []
   },
   "outputs": [
    {
     "output_type": "stream",
     "name": "stdout",
     "text": "accuracy of Naive Bayes training set: 0.748\naccuaracy of Naive Bayes test set: 0.769\n"
    }
   ],
   "source": [
    "# prediction using Naive Bayes Algorithm \n",
    "nbc = GaussianNB()\n",
    "nbc.fit(X_train, y_train)\n",
    "\n",
    "print('accuracy of Naive Bayes training set: {:.3f}'.format(nbc.score(X_train,y_train)))\n",
    "print('accuaracy of Naive Bayes test set: {:.3f}'.format(nbc.score(X_test, y_test)))"
   ]
  },
  {
   "cell_type": "code",
   "execution_count": null,
   "metadata": {},
   "outputs": [],
   "source": []
  },
  {
   "cell_type": "code",
   "execution_count": 22,
   "metadata": {
    "tags": []
   },
   "outputs": [
    {
     "output_type": "stream",
     "name": "stdout",
     "text": "accuracy_score of Naive Bayes:  0.7685754850922859\nconfusion_matrix of Naive Bayes:  [[1204  343]\n [ 146  420]]\nprecision_score of Naive Bayes:  0.5504587155963303\nrecall_score of Naive Bayes:  0.7420494699646644\nprecision_recall_curve of Naive Bayes:  (array([0.26786559, 0.55045872, 1.        ]), array([1.        , 0.74204947, 0.        ]), array([0, 1]))\n"
    }
   ],
   "source": [
    "y_nb = nbc.predict(X_test)\n",
    "\n",
    "print('accuracy_score of Naive Bayes: ', accuracy_score(y_test, y_nb))\n",
    "print('confusion_matrix of Naive Bayes: ', confusion_matrix(y_test, y_nb))\n",
    "print('precision_score of Naive Bayes: ', precision_score(y_test, y_nb))\n",
    "print('recall_score of Naive Bayes: ', recall_score(y_test, y_nb))\n",
    "print('precision_recall_curve of Naive Bayes: ', precision_recall_curve(y_test, y_nb))"
   ]
  },
  {
   "cell_type": "code",
   "execution_count": null,
   "metadata": {},
   "outputs": [],
   "source": []
  },
  {
   "cell_type": "code",
   "execution_count": 23,
   "metadata": {},
   "outputs": [],
   "source": [
    "# Initialising the Multi Layer Perceptron (MLP)\n",
    "classifier = Sequential()"
   ]
  },
  {
   "cell_type": "code",
   "execution_count": null,
   "metadata": {},
   "outputs": [],
   "source": []
  },
  {
   "cell_type": "code",
   "execution_count": 24,
   "metadata": {
    "tags": []
   },
   "outputs": [
    {
     "output_type": "stream",
     "name": "stdout",
     "text": "WARNING:tensorflow:From /home/mike/.local/lib/python3.6/site-packages/tensorflow_core/python/keras/initializers.py:119: calling RandomUniform.__init__ (from tensorflow.python.ops.init_ops) with dtype is deprecated and will be removed in a future version.\nInstructions for updating:\nCall initializer instance with the dtype argument instead of passing it to the constructor\nWARNING:tensorflow:From /home/mike/.local/lib/python3.6/site-packages/tensorflow_core/python/ops/resource_variable_ops.py:1630: calling BaseResourceVariable.__init__ (from tensorflow.python.ops.resource_variable_ops) with constraint is deprecated and will be removed in a future version.\nInstructions for updating:\nIf using Keras pass *_constraint arguments to layers.\n"
    }
   ],
   "source": [
    "# Adding the input layer and the first hidden layer\n",
    "classifier.add(Dense(units = 16, kernel_initializer = 'uniform', activation = 'relu', input_dim = 19))"
   ]
  },
  {
   "cell_type": "code",
   "execution_count": null,
   "metadata": {},
   "outputs": [],
   "source": []
  },
  {
   "cell_type": "code",
   "execution_count": 25,
   "metadata": {},
   "outputs": [],
   "source": [
    "# Adding the second hidden layer\n",
    "classifier.add(Dense(units = 16, kernel_initializer = 'uniform', activation = 'relu'))"
   ]
  },
  {
   "cell_type": "code",
   "execution_count": null,
   "metadata": {},
   "outputs": [],
   "source": []
  },
  {
   "cell_type": "code",
   "execution_count": 26,
   "metadata": {},
   "outputs": [],
   "source": [
    "# Adding the output layer\n",
    "classifier.add(Dense(units = 1, kernel_initializer = 'uniform', activation = 'sigmoid'))"
   ]
  },
  {
   "cell_type": "code",
   "execution_count": null,
   "metadata": {},
   "outputs": [],
   "source": []
  },
  {
   "cell_type": "code",
   "execution_count": 27,
   "metadata": {
    "tags": []
   },
   "outputs": [
    {
     "output_type": "stream",
     "name": "stdout",
     "text": "WARNING:tensorflow:From /home/mike/.local/lib/python3.6/site-packages/tensorflow_core/python/ops/nn_impl.py:183: where (from tensorflow.python.ops.array_ops) is deprecated and will be removed in a future version.\nInstructions for updating:\nUse tf.where in 2.0, which has the same broadcast rule as np.where\n"
    }
   ],
   "source": [
    "# Compiling the MLP\n",
    "classifier.compile(optimizer = 'adam', loss = 'binary_crossentropy', metrics = ['accuracy'])"
   ]
  },
  {
   "cell_type": "code",
   "execution_count": null,
   "metadata": {},
   "outputs": [],
   "source": []
  },
  {
   "cell_type": "code",
   "execution_count": 28,
   "metadata": {
    "tags": []
   },
   "outputs": [
    {
     "output_type": "stream",
     "name": "stdout",
     "text": "Train on 4930 samples\nEpoch 1/100\n4930/4930 [==============================] - 2s 313us/sample - loss: 0.4677 - acc: 0.7698\nEpoch 2/100\n4930/4930 [==============================] - 1s 285us/sample - loss: 0.4295 - acc: 0.7895\nEpoch 3/100\n4930/4930 [==============================] - 1s 290us/sample - loss: 0.4241 - acc: 0.7919\nEpoch 4/100\n4930/4930 [==============================] - 1s 298us/sample - loss: 0.4226 - acc: 0.7963\nEpoch 5/100\n4930/4930 [==============================] - 1s 288us/sample - loss: 0.4192 - acc: 0.8028\nEpoch 6/100\n4930/4930 [==============================] - 1s 294us/sample - loss: 0.4190 - acc: 0.8006\nEpoch 7/100\n4930/4930 [==============================] - 2s 305us/sample - loss: 0.4180 - acc: 0.8012\nEpoch 8/100\n4930/4930 [==============================] - 1s 294us/sample - loss: 0.4161 - acc: 0.8032\nEpoch 9/100\n4930/4930 [==============================] - 1s 303us/sample - loss: 0.4161 - acc: 0.8010\nEpoch 10/100\n4930/4930 [==============================] - 1s 298us/sample - loss: 0.4155 - acc: 0.7992\nEpoch 11/100\n4930/4930 [==============================] - 1s 300us/sample - loss: 0.4141 - acc: 0.8024\nEpoch 12/100\n4930/4930 [==============================] - 1s 299us/sample - loss: 0.4156 - acc: 0.7990\nEpoch 13/100\n4930/4930 [==============================] - 1s 296us/sample - loss: 0.4144 - acc: 0.8024\nEpoch 14/100\n4930/4930 [==============================] - 1s 298us/sample - loss: 0.4134 - acc: 0.8057\nEpoch 15/100\n4930/4930 [==============================] - 1s 287us/sample - loss: 0.4134 - acc: 0.8041\nEpoch 16/100\n4930/4930 [==============================] - 1s 283us/sample - loss: 0.4122 - acc: 0.8051\nEpoch 17/100\n4930/4930 [==============================] - 1s 296us/sample - loss: 0.4111 - acc: 0.8016\nEpoch 18/100\n4930/4930 [==============================] - 1s 280us/sample - loss: 0.4116 - acc: 0.8041\nEpoch 19/100\n4930/4930 [==============================] - 1s 285us/sample - loss: 0.4116 - acc: 0.8024\nEpoch 20/100\n4930/4930 [==============================] - 1s 286us/sample - loss: 0.4108 - acc: 0.8055\nEpoch 21/100\n4930/4930 [==============================] - 2s 308us/sample - loss: 0.4101 - acc: 0.8039\nEpoch 22/100\n4930/4930 [==============================] - 1s 290us/sample - loss: 0.4084 - acc: 0.8055\nEpoch 23/100\n4930/4930 [==============================] - 1s 301us/sample - loss: 0.4079 - acc: 0.8087\nEpoch 24/100\n4930/4930 [==============================] - 1s 290us/sample - loss: 0.4084 - acc: 0.8061\nEpoch 25/100\n4930/4930 [==============================] - 1s 304us/sample - loss: 0.4077 - acc: 0.8024\nEpoch 26/100\n4930/4930 [==============================] - 1s 284us/sample - loss: 0.4065 - acc: 0.8067\nEpoch 27/100\n4930/4930 [==============================] - 1s 284us/sample - loss: 0.4069 - acc: 0.8073\nEpoch 28/100\n4930/4930 [==============================] - 1s 302us/sample - loss: 0.4055 - acc: 0.8059\nEpoch 29/100\n4930/4930 [==============================] - 1s 295us/sample - loss: 0.4046 - acc: 0.8097\nEpoch 30/100\n4930/4930 [==============================] - 1s 289us/sample - loss: 0.4035 - acc: 0.8097\nEpoch 31/100\n4930/4930 [==============================] - 1s 296us/sample - loss: 0.4043 - acc: 0.8093\nEpoch 32/100\n4930/4930 [==============================] - 1s 297us/sample - loss: 0.4040 - acc: 0.8079\nEpoch 33/100\n4930/4930 [==============================] - 1s 297us/sample - loss: 0.4027 - acc: 0.8099\nEpoch 34/100\n4930/4930 [==============================] - 1s 287us/sample - loss: 0.4018 - acc: 0.8122\nEpoch 35/100\n4930/4930 [==============================] - 2s 306us/sample - loss: 0.4028 - acc: 0.8108\nEpoch 36/100\n4930/4930 [==============================] - 1s 296us/sample - loss: 0.4023 - acc: 0.8108\nEpoch 37/100\n4930/4930 [==============================] - 1s 287us/sample - loss: 0.4007 - acc: 0.8101\nEpoch 38/100\n4930/4930 [==============================] - 1s 296us/sample - loss: 0.4011 - acc: 0.8101\nEpoch 39/100\n4930/4930 [==============================] - 1s 291us/sample - loss: 0.4004 - acc: 0.8095\nEpoch 40/100\n4930/4930 [==============================] - 1s 292us/sample - loss: 0.3994 - acc: 0.8122\nEpoch 41/100\n4930/4930 [==============================] - 2s 305us/sample - loss: 0.3996 - acc: 0.8095\nEpoch 42/100\n4930/4930 [==============================] - 1s 296us/sample - loss: 0.3980 - acc: 0.8138\nEpoch 43/100\n4930/4930 [==============================] - 1s 291us/sample - loss: 0.3982 - acc: 0.8105\nEpoch 44/100\n4930/4930 [==============================] - 1s 298us/sample - loss: 0.3976 - acc: 0.8112\nEpoch 45/100\n4930/4930 [==============================] - 1s 302us/sample - loss: 0.3978 - acc: 0.8122\nEpoch 46/100\n4930/4930 [==============================] - 2s 315us/sample - loss: 0.3961 - acc: 0.8122\nEpoch 47/100\n4930/4930 [==============================] - 2s 315us/sample - loss: 0.3964 - acc: 0.8087\nEpoch 48/100\n4930/4930 [==============================] - 2s 337us/sample - loss: 0.3955 - acc: 0.8122\nEpoch 49/100\n4930/4930 [==============================] - 2s 315us/sample - loss: 0.3957 - acc: 0.8126\nEpoch 50/100\n4930/4930 [==============================] - 2s 310us/sample - loss: 0.3962 - acc: 0.8099\nEpoch 51/100\n4930/4930 [==============================] - 2s 313us/sample - loss: 0.3951 - acc: 0.8130\nEpoch 52/100\n4930/4930 [==============================] - 2s 306us/sample - loss: 0.3934 - acc: 0.8134\nEpoch 53/100\n4930/4930 [==============================] - 1s 290us/sample - loss: 0.3932 - acc: 0.8116\nEpoch 54/100\n4930/4930 [==============================] - 1s 277us/sample - loss: 0.3925 - acc: 0.8140\nEpoch 55/100\n4930/4930 [==============================] - 2s 309us/sample - loss: 0.3928 - acc: 0.8136\nEpoch 56/100\n4930/4930 [==============================] - 1s 296us/sample - loss: 0.3922 - acc: 0.8152\nEpoch 57/100\n4930/4930 [==============================] - 1s 295us/sample - loss: 0.3920 - acc: 0.8124\nEpoch 58/100\n4930/4930 [==============================] - 2s 304us/sample - loss: 0.3916 - acc: 0.8112\nEpoch 59/100\n4930/4930 [==============================] - 1s 300us/sample - loss: 0.3906 - acc: 0.8168\nEpoch 60/100\n4930/4930 [==============================] - 1s 289us/sample - loss: 0.3916 - acc: 0.8122\nEpoch 61/100\n4930/4930 [==============================] - 2s 312us/sample - loss: 0.3902 - acc: 0.8170\nEpoch 62/100\n4930/4930 [==============================] - 1s 290us/sample - loss: 0.3895 - acc: 0.8156\nEpoch 63/100\n4930/4930 [==============================] - 1s 294us/sample - loss: 0.3891 - acc: 0.8140\nEpoch 64/100\n4930/4930 [==============================] - 1s 296us/sample - loss: 0.3897 - acc: 0.8140\nEpoch 65/100\n4930/4930 [==============================] - 1s 296us/sample - loss: 0.3887 - acc: 0.8158\nEpoch 66/100\n4930/4930 [==============================] - 1s 300us/sample - loss: 0.3880 - acc: 0.8158\nEpoch 67/100\n4930/4930 [==============================] - 1s 285us/sample - loss: 0.3876 - acc: 0.8136\nEpoch 68/100\n4930/4930 [==============================] - 1s 304us/sample - loss: 0.3870 - acc: 0.8168\nEpoch 69/100\n4930/4930 [==============================] - 1s 297us/sample - loss: 0.3869 - acc: 0.8193\nEpoch 70/100\n4930/4930 [==============================] - 1s 290us/sample - loss: 0.3864 - acc: 0.8160\nEpoch 71/100\n4930/4930 [==============================] - 1s 296us/sample - loss: 0.3875 - acc: 0.8148\nEpoch 72/100\n4930/4930 [==============================] - 1s 290us/sample - loss: 0.3852 - acc: 0.8178\nEpoch 73/100\n4930/4930 [==============================] - 1s 291us/sample - loss: 0.3851 - acc: 0.8166\nEpoch 74/100\n4930/4930 [==============================] - 1s 303us/sample - loss: 0.3852 - acc: 0.8199\nEpoch 75/100\n4930/4930 [==============================] - 1s 296us/sample - loss: 0.3853 - acc: 0.8203\nEpoch 76/100\n4930/4930 [==============================] - 1s 293us/sample - loss: 0.3846 - acc: 0.8223\nEpoch 77/100\n4930/4930 [==============================] - 1s 304us/sample - loss: 0.3844 - acc: 0.8193\nEpoch 78/100\n4930/4930 [==============================] - 1s 293us/sample - loss: 0.3828 - acc: 0.8201\nEpoch 79/100\n4930/4930 [==============================] - 2s 305us/sample - loss: 0.3838 - acc: 0.8199\nEpoch 80/100\n4930/4930 [==============================] - 1s 281us/sample - loss: 0.3834 - acc: 0.8193\nEpoch 81/100\n4930/4930 [==============================] - 1s 290us/sample - loss: 0.3813 - acc: 0.8199\nEpoch 82/100\n4930/4930 [==============================] - 2s 306us/sample - loss: 0.3819 - acc: 0.8227\nEpoch 83/100\n4930/4930 [==============================] - 1s 291us/sample - loss: 0.3800 - acc: 0.8191\nEpoch 84/100\n4930/4930 [==============================] - 1s 294us/sample - loss: 0.3810 - acc: 0.8237\nEpoch 85/100\n4930/4930 [==============================] - 1s 289us/sample - loss: 0.3807 - acc: 0.8221\nEpoch 86/100\n4930/4930 [==============================] - 1s 293us/sample - loss: 0.3794 - acc: 0.8193\nEpoch 87/100\n4930/4930 [==============================] - 1s 287us/sample - loss: 0.3800 - acc: 0.8217\nEpoch 88/100\n4930/4930 [==============================] - 1s 290us/sample - loss: 0.3787 - acc: 0.8223\nEpoch 89/100\n4930/4930 [==============================] - 1s 291us/sample - loss: 0.3787 - acc: 0.8227\nEpoch 90/100\n4930/4930 [==============================] - 1s 290us/sample - loss: 0.3783 - acc: 0.8199\nEpoch 91/100\n4930/4930 [==============================] - 1s 292us/sample - loss: 0.3779 - acc: 0.8252\nEpoch 92/100\n4930/4930 [==============================] - 1s 284us/sample - loss: 0.3771 - acc: 0.8211\nEpoch 93/100\n4930/4930 [==============================] - 1s 293us/sample - loss: 0.3775 - acc: 0.8256\nEpoch 94/100\n4930/4930 [==============================] - 1s 293us/sample - loss: 0.3784 - acc: 0.8260\nEpoch 95/100\n4930/4930 [==============================] - 1s 286us/sample - loss: 0.3762 - acc: 0.8260\nEpoch 96/100\n4930/4930 [==============================] - 2s 305us/sample - loss: 0.3752 - acc: 0.8254\nEpoch 97/100\n4930/4930 [==============================] - 1s 297us/sample - loss: 0.3758 - acc: 0.8237\nEpoch 98/100\n4930/4930 [==============================] - 1s 297us/sample - loss: 0.3756 - acc: 0.8239\nEpoch 99/100\n4930/4930 [==============================] - 1s 293us/sample - loss: 0.3749 - acc: 0.8288\nEpoch 100/100\n4930/4930 [==============================] - 1s 299us/sample - loss: 0.3752 - acc: 0.8272\n"
    },
    {
     "output_type": "execute_result",
     "data": {
      "text/plain": "<tensorflow.python.keras.callbacks.History at 0x7f38f6ca8e80>"
     },
     "metadata": {},
     "execution_count": 28
    }
   ],
   "source": [
    "# Fitting the MLP to the Training set\n",
    "classifier.fit(X_train, y_train, batch_size = 5, epochs = 100)"
   ]
  },
  {
   "cell_type": "code",
   "execution_count": null,
   "metadata": {},
   "outputs": [],
   "source": []
  },
  {
   "cell_type": "code",
   "execution_count": 32,
   "metadata": {
    "tags": []
   },
   "outputs": [
    {
     "output_type": "stream",
     "name": "stdout",
     "text": "Model: \"sequential\"\n_________________________________________________________________\nLayer (type)                 Output Shape              Param #   \n=================================================================\ndense (Dense)                (None, 16)                320       \n_________________________________________________________________\ndense_1 (Dense)              (None, 16)                272       \n_________________________________________________________________\ndense_2 (Dense)              (None, 1)                 17        \n=================================================================\nTotal params: 609\nTrainable params: 609\nNon-trainable params: 0\n_________________________________________________________________\n"
    }
   ],
   "source": [
    "classifier.summary()"
   ]
  },
  {
   "cell_type": "code",
   "execution_count": null,
   "metadata": {},
   "outputs": [],
   "source": []
  },
  {
   "cell_type": "code",
   "execution_count": 36,
   "metadata": {
    "tags": []
   },
   "outputs": [
    {
     "output_type": "error",
     "ename": "ValueError",
     "evalue": "Classification metrics can't handle a mix of binary and continuous targets",
     "traceback": [
      "\u001b[0;31m---------------------------------------------------------------------------\u001b[0m",
      "\u001b[0;31mValueError\u001b[0m                                Traceback (most recent call last)",
      "\u001b[0;32m<ipython-input-36-44605e54cc2b>\u001b[0m in \u001b[0;36m<module>\u001b[0;34m\u001b[0m\n\u001b[1;32m      3\u001b[0m \u001b[0;34m\u001b[0m\u001b[0m\n\u001b[1;32m      4\u001b[0m \u001b[0;31m# predicting Confusion matrix, accuracy score,precision score, recall score\u001b[0m\u001b[0;34m\u001b[0m\u001b[0;34m\u001b[0m\u001b[0;34m\u001b[0m\u001b[0m\n\u001b[0;32m----> 5\u001b[0;31m \u001b[0mprint\u001b[0m\u001b[0;34m(\u001b[0m\u001b[0;34m'accuracy_score of xgboost: '\u001b[0m\u001b[0;34m,\u001b[0m \u001b[0maccuracy_score\u001b[0m\u001b[0;34m(\u001b[0m\u001b[0my_test\u001b[0m\u001b[0;34m,\u001b[0m \u001b[0my_ann\u001b[0m\u001b[0;34m)\u001b[0m\u001b[0;34m)\u001b[0m\u001b[0;34m\u001b[0m\u001b[0;34m\u001b[0m\u001b[0m\n\u001b[0m\u001b[1;32m      6\u001b[0m \u001b[0mprint\u001b[0m\u001b[0;34m(\u001b[0m\u001b[0;34m'confusion_matrix of xgboost: '\u001b[0m\u001b[0;34m,\u001b[0m \u001b[0mconfusion_matrix\u001b[0m\u001b[0;34m(\u001b[0m\u001b[0my_test\u001b[0m\u001b[0;34m,\u001b[0m \u001b[0my_ann\u001b[0m\u001b[0;34m)\u001b[0m\u001b[0;34m)\u001b[0m\u001b[0;34m\u001b[0m\u001b[0;34m\u001b[0m\u001b[0m\n\u001b[1;32m      7\u001b[0m \u001b[0mprint\u001b[0m\u001b[0;34m(\u001b[0m\u001b[0;34m'precision_score of xgboost: '\u001b[0m\u001b[0;34m,\u001b[0m \u001b[0mprecision_score\u001b[0m\u001b[0;34m(\u001b[0m\u001b[0my_test\u001b[0m\u001b[0;34m,\u001b[0m \u001b[0my_ann\u001b[0m\u001b[0;34m)\u001b[0m\u001b[0;34m)\u001b[0m\u001b[0;34m\u001b[0m\u001b[0;34m\u001b[0m\u001b[0m\n",
      "\u001b[0;32m~/.local/lib/python3.6/site-packages/sklearn/utils/validation.py\u001b[0m in \u001b[0;36minner_f\u001b[0;34m(*args, **kwargs)\u001b[0m\n\u001b[1;32m     71\u001b[0m                           FutureWarning)\n\u001b[1;32m     72\u001b[0m         \u001b[0mkwargs\u001b[0m\u001b[0;34m.\u001b[0m\u001b[0mupdate\u001b[0m\u001b[0;34m(\u001b[0m\u001b[0;34m{\u001b[0m\u001b[0mk\u001b[0m\u001b[0;34m:\u001b[0m \u001b[0marg\u001b[0m \u001b[0;32mfor\u001b[0m \u001b[0mk\u001b[0m\u001b[0;34m,\u001b[0m \u001b[0marg\u001b[0m \u001b[0;32min\u001b[0m \u001b[0mzip\u001b[0m\u001b[0;34m(\u001b[0m\u001b[0msig\u001b[0m\u001b[0;34m.\u001b[0m\u001b[0mparameters\u001b[0m\u001b[0;34m,\u001b[0m \u001b[0margs\u001b[0m\u001b[0;34m)\u001b[0m\u001b[0;34m}\u001b[0m\u001b[0;34m)\u001b[0m\u001b[0;34m\u001b[0m\u001b[0;34m\u001b[0m\u001b[0m\n\u001b[0;32m---> 73\u001b[0;31m         \u001b[0;32mreturn\u001b[0m \u001b[0mf\u001b[0m\u001b[0;34m(\u001b[0m\u001b[0;34m**\u001b[0m\u001b[0mkwargs\u001b[0m\u001b[0;34m)\u001b[0m\u001b[0;34m\u001b[0m\u001b[0;34m\u001b[0m\u001b[0m\n\u001b[0m\u001b[1;32m     74\u001b[0m     \u001b[0;32mreturn\u001b[0m \u001b[0minner_f\u001b[0m\u001b[0;34m\u001b[0m\u001b[0;34m\u001b[0m\u001b[0m\n\u001b[1;32m     75\u001b[0m \u001b[0;34m\u001b[0m\u001b[0m\n",
      "\u001b[0;32m~/.local/lib/python3.6/site-packages/sklearn/metrics/_classification.py\u001b[0m in \u001b[0;36maccuracy_score\u001b[0;34m(y_true, y_pred, normalize, sample_weight)\u001b[0m\n\u001b[1;32m    185\u001b[0m \u001b[0;34m\u001b[0m\u001b[0m\n\u001b[1;32m    186\u001b[0m     \u001b[0;31m# Compute accuracy for each possible representation\u001b[0m\u001b[0;34m\u001b[0m\u001b[0;34m\u001b[0m\u001b[0;34m\u001b[0m\u001b[0m\n\u001b[0;32m--> 187\u001b[0;31m     \u001b[0my_type\u001b[0m\u001b[0;34m,\u001b[0m \u001b[0my_true\u001b[0m\u001b[0;34m,\u001b[0m \u001b[0my_pred\u001b[0m \u001b[0;34m=\u001b[0m \u001b[0m_check_targets\u001b[0m\u001b[0;34m(\u001b[0m\u001b[0my_true\u001b[0m\u001b[0;34m,\u001b[0m \u001b[0my_pred\u001b[0m\u001b[0;34m)\u001b[0m\u001b[0;34m\u001b[0m\u001b[0;34m\u001b[0m\u001b[0m\n\u001b[0m\u001b[1;32m    188\u001b[0m     \u001b[0mcheck_consistent_length\u001b[0m\u001b[0;34m(\u001b[0m\u001b[0my_true\u001b[0m\u001b[0;34m,\u001b[0m \u001b[0my_pred\u001b[0m\u001b[0;34m,\u001b[0m \u001b[0msample_weight\u001b[0m\u001b[0;34m)\u001b[0m\u001b[0;34m\u001b[0m\u001b[0;34m\u001b[0m\u001b[0m\n\u001b[1;32m    189\u001b[0m     \u001b[0;32mif\u001b[0m \u001b[0my_type\u001b[0m\u001b[0;34m.\u001b[0m\u001b[0mstartswith\u001b[0m\u001b[0;34m(\u001b[0m\u001b[0;34m'multilabel'\u001b[0m\u001b[0;34m)\u001b[0m\u001b[0;34m:\u001b[0m\u001b[0;34m\u001b[0m\u001b[0;34m\u001b[0m\u001b[0m\n",
      "\u001b[0;32m~/.local/lib/python3.6/site-packages/sklearn/metrics/_classification.py\u001b[0m in \u001b[0;36m_check_targets\u001b[0;34m(y_true, y_pred)\u001b[0m\n\u001b[1;32m     89\u001b[0m     \u001b[0;32mif\u001b[0m \u001b[0mlen\u001b[0m\u001b[0;34m(\u001b[0m\u001b[0my_type\u001b[0m\u001b[0;34m)\u001b[0m \u001b[0;34m>\u001b[0m \u001b[0;36m1\u001b[0m\u001b[0;34m:\u001b[0m\u001b[0;34m\u001b[0m\u001b[0;34m\u001b[0m\u001b[0m\n\u001b[1;32m     90\u001b[0m         raise ValueError(\"Classification metrics can't handle a mix of {0} \"\n\u001b[0;32m---> 91\u001b[0;31m                          \"and {1} targets\".format(type_true, type_pred))\n\u001b[0m\u001b[1;32m     92\u001b[0m \u001b[0;34m\u001b[0m\u001b[0m\n\u001b[1;32m     93\u001b[0m     \u001b[0;31m# We can't have more than one value on y_type => The set is no more needed\u001b[0m\u001b[0;34m\u001b[0m\u001b[0;34m\u001b[0m\u001b[0;34m\u001b[0m\u001b[0m\n",
      "\u001b[0;31mValueError\u001b[0m: Classification metrics can't handle a mix of binary and continuous targets"
     ]
    }
   ],
   "source": [
    "# prediction using Neural Networks \n",
    "y_ann =classifier.predict_proba(X_test)\n",
    "\n",
    "# predicting Confusion matrix, accuracy score,precision score, recall score\n",
    "print('accuracy_score of xgboost: ', accuracy_score(y_test, y_ann))\n",
    "print('confusion_matrix of xgboost: ', confusion_matrix(y_test, y_ann))\n",
    "print('precision_score of xgboost: ', precision_score(y_test, y_ann))\n",
    "print('recall_score of xgboost: ', recall_score(y_test, y_ann))\n",
    "print('precision_recall_curve of xgboost: ', precision_recall_curve(y_test, y_ann))"
   ]
  },
  {
   "cell_type": "code",
   "execution_count": null,
   "metadata": {},
   "outputs": [],
   "source": []
  },
  {
   "cell_type": "code",
   "execution_count": null,
   "metadata": {},
   "outputs": [],
   "source": []
  },
  {
   "cell_type": "code",
   "execution_count": null,
   "metadata": {},
   "outputs": [],
   "source": []
  },
  {
   "cell_type": "code",
   "execution_count": null,
   "metadata": {},
   "outputs": [],
   "source": []
  },
  {
   "cell_type": "code",
   "execution_count": null,
   "metadata": {},
   "outputs": [],
   "source": []
  },
  {
   "cell_type": "code",
   "execution_count": null,
   "metadata": {},
   "outputs": [],
   "source": []
  },
  {
   "cell_type": "code",
   "execution_count": null,
   "metadata": {},
   "outputs": [],
   "source": []
  },
  {
   "cell_type": "code",
   "execution_count": null,
   "metadata": {},
   "outputs": [],
   "source": []
  }
 ]
}