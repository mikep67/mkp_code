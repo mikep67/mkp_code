{
 "metadata": {
  "language_info": {
   "codemirror_mode": {
    "name": "ipython",
    "version": 3
   },
   "file_extension": ".py",
   "mimetype": "text/x-python",
   "name": "python",
   "nbconvert_exporter": "python",
   "pygments_lexer": "ipython3",
   "version": 3
  },
  "orig_nbformat": 2,
  "kernelspec": {
   "name": "python_defaultSpec_1597197402788",
   "display_name": "Python 3.6.9 64-bit"
  }
 },
 "nbformat": 4,
 "nbformat_minor": 2,
 "cells": [
  {
   "cell_type": "markdown",
   "metadata": {},
   "source": [
    "\n",
    "### Telco Customer Churn using ANN\n",
    "#### based on examples from: <br> https://www.kaggle.com/snehithatiger/telco-customer-churn-using-ann \n"
   ]
  },
  {
   "cell_type": "code",
   "execution_count": null,
   "metadata": {},
   "outputs": [],
   "source": []
  },
  {
   "cell_type": "code",
   "execution_count": 1,
   "metadata": {
    "tags": []
   },
   "outputs": [
    {
     "output_type": "stream",
     "name": "stdout",
     "text": "Using matplotlib backend: Qt5Agg\nUsing TensorFlow backend.\n"
    }
   ],
   "source": [
    "# linear algebra\n",
    "import numpy as np\n",
    "\n",
    "# data processing\n",
    "import pandas as pd \n",
    "\n",
    "#CSV file I/O (e.g. pd.read_csv)\n",
    "import os\n",
    "\n",
    "#plotting the graph\n",
    "import matplotlib.pyplot as plt\n",
    "import seaborn as sns\n",
    "%matplotlib\n",
    "\n",
    "# scki-learn library - converting the non-numeric data into numeric data.\n",
    "from sklearn.preprocessing import LabelEncoder\n",
    "\n",
    "# scki-learn library - partition the dataset for modelling\n",
    "from sklearn.model_selection import train_test_split\n",
    "\n",
    "# scki-learn library - metrics for ml models\n",
    "from sklearn.metrics import accuracy_score\n",
    "from sklearn.metrics import confusion_matrix\n",
    "from sklearn.metrics import precision_score\n",
    "from sklearn.metrics import recall_score\n",
    "from sklearn.metrics import precision_recall_curve\n",
    "\n",
    "#scki-learn library - KN Neighbors\n",
    "from sklearn.neighbors import KNeighborsClassifier\n",
    "\n",
    "#scki-learn library - Random Tree Models\n",
    "from sklearn.ensemble import RandomForestRegressor\n",
    "from sklearn.ensemble import RandomForestClassifier\n",
    "from sklearn.tree import DecisionTreeClassifier\n",
    "\n",
    "# xgboost - used for Tree Classifier Models\n",
    "from xgboost import XGBClassifier\n",
    "\n",
    "# scki-learn library - prediction using Naive Bayes Algorithm \n",
    "from sklearn.naive_bayes import GaussianNB\n",
    "\n",
    "# keras - tensorflow for artificial neutral networks\n",
    "import keras\n",
    "from keras.models import Sequential\n",
    "from keras.layers import Dense\n",
    "\n",
    "\n"
   ]
  },
  {
   "cell_type": "code",
   "execution_count": null,
   "metadata": {},
   "outputs": [],
   "source": []
  },
  {
   "cell_type": "code",
   "execution_count": 2,
   "metadata": {},
   "outputs": [],
   "source": [
    "# Set the active directory to access the data\n",
    "os.chdir('/home/mike/Documents/mkp_code/Institute of Data Course/telco-customer-churn-project/data/unprocessed')"
   ]
  },
  {
   "cell_type": "code",
   "execution_count": null,
   "metadata": {},
   "outputs": [],
   "source": []
  },
  {
   "cell_type": "code",
   "execution_count": 3,
   "metadata": {},
   "outputs": [],
   "source": [
    "#importing the dataset\n",
    "customer_data = pd.read_csv('datasets_13996_18858_WA_Fn-UseC_-Telco-Customer-Churn.csv')"
   ]
  },
  {
   "cell_type": "code",
   "execution_count": null,
   "metadata": {},
   "outputs": [],
   "source": []
  },
  {
   "cell_type": "code",
   "execution_count": 4,
   "metadata": {},
   "outputs": [
    {
     "output_type": "execute_result",
     "data": {
      "text/plain": "   customerID  gender  SeniorCitizen Partner Dependents  tenure PhoneService  \\\n0  7590-VHVEG  Female              0     Yes         No       1           No   \n1  5575-GNVDE    Male              0      No         No      34          Yes   \n2  3668-QPYBK    Male              0      No         No       2          Yes   \n3  7795-CFOCW    Male              0      No         No      45           No   \n4  9237-HQITU  Female              0      No         No       2          Yes   \n\n      MultipleLines InternetService OnlineSecurity  ... DeviceProtection  \\\n0  No phone service             DSL             No  ...               No   \n1                No             DSL            Yes  ...              Yes   \n2                No             DSL            Yes  ...               No   \n3  No phone service             DSL            Yes  ...              Yes   \n4                No     Fiber optic             No  ...               No   \n\n  TechSupport StreamingTV StreamingMovies        Contract PaperlessBilling  \\\n0          No          No              No  Month-to-month              Yes   \n1          No          No              No        One year               No   \n2          No          No              No  Month-to-month              Yes   \n3         Yes          No              No        One year               No   \n4          No          No              No  Month-to-month              Yes   \n\n               PaymentMethod MonthlyCharges  TotalCharges Churn  \n0           Electronic check          29.85         29.85    No  \n1               Mailed check          56.95        1889.5    No  \n2               Mailed check          53.85        108.15   Yes  \n3  Bank transfer (automatic)          42.30       1840.75    No  \n4           Electronic check          70.70        151.65   Yes  \n\n[5 rows x 21 columns]",
      "text/html": "<div>\n<style scoped>\n    .dataframe tbody tr th:only-of-type {\n        vertical-align: middle;\n    }\n\n    .dataframe tbody tr th {\n        vertical-align: top;\n    }\n\n    .dataframe thead th {\n        text-align: right;\n    }\n</style>\n<table border=\"1\" class=\"dataframe\">\n  <thead>\n    <tr style=\"text-align: right;\">\n      <th></th>\n      <th>customerID</th>\n      <th>gender</th>\n      <th>SeniorCitizen</th>\n      <th>Partner</th>\n      <th>Dependents</th>\n      <th>tenure</th>\n      <th>PhoneService</th>\n      <th>MultipleLines</th>\n      <th>InternetService</th>\n      <th>OnlineSecurity</th>\n      <th>...</th>\n      <th>DeviceProtection</th>\n      <th>TechSupport</th>\n      <th>StreamingTV</th>\n      <th>StreamingMovies</th>\n      <th>Contract</th>\n      <th>PaperlessBilling</th>\n      <th>PaymentMethod</th>\n      <th>MonthlyCharges</th>\n      <th>TotalCharges</th>\n      <th>Churn</th>\n    </tr>\n  </thead>\n  <tbody>\n    <tr>\n      <th>0</th>\n      <td>7590-VHVEG</td>\n      <td>Female</td>\n      <td>0</td>\n      <td>Yes</td>\n      <td>No</td>\n      <td>1</td>\n      <td>No</td>\n      <td>No phone service</td>\n      <td>DSL</td>\n      <td>No</td>\n      <td>...</td>\n      <td>No</td>\n      <td>No</td>\n      <td>No</td>\n      <td>No</td>\n      <td>Month-to-month</td>\n      <td>Yes</td>\n      <td>Electronic check</td>\n      <td>29.85</td>\n      <td>29.85</td>\n      <td>No</td>\n    </tr>\n    <tr>\n      <th>1</th>\n      <td>5575-GNVDE</td>\n      <td>Male</td>\n      <td>0</td>\n      <td>No</td>\n      <td>No</td>\n      <td>34</td>\n      <td>Yes</td>\n      <td>No</td>\n      <td>DSL</td>\n      <td>Yes</td>\n      <td>...</td>\n      <td>Yes</td>\n      <td>No</td>\n      <td>No</td>\n      <td>No</td>\n      <td>One year</td>\n      <td>No</td>\n      <td>Mailed check</td>\n      <td>56.95</td>\n      <td>1889.5</td>\n      <td>No</td>\n    </tr>\n    <tr>\n      <th>2</th>\n      <td>3668-QPYBK</td>\n      <td>Male</td>\n      <td>0</td>\n      <td>No</td>\n      <td>No</td>\n      <td>2</td>\n      <td>Yes</td>\n      <td>No</td>\n      <td>DSL</td>\n      <td>Yes</td>\n      <td>...</td>\n      <td>No</td>\n      <td>No</td>\n      <td>No</td>\n      <td>No</td>\n      <td>Month-to-month</td>\n      <td>Yes</td>\n      <td>Mailed check</td>\n      <td>53.85</td>\n      <td>108.15</td>\n      <td>Yes</td>\n    </tr>\n    <tr>\n      <th>3</th>\n      <td>7795-CFOCW</td>\n      <td>Male</td>\n      <td>0</td>\n      <td>No</td>\n      <td>No</td>\n      <td>45</td>\n      <td>No</td>\n      <td>No phone service</td>\n      <td>DSL</td>\n      <td>Yes</td>\n      <td>...</td>\n      <td>Yes</td>\n      <td>Yes</td>\n      <td>No</td>\n      <td>No</td>\n      <td>One year</td>\n      <td>No</td>\n      <td>Bank transfer (automatic)</td>\n      <td>42.30</td>\n      <td>1840.75</td>\n      <td>No</td>\n    </tr>\n    <tr>\n      <th>4</th>\n      <td>9237-HQITU</td>\n      <td>Female</td>\n      <td>0</td>\n      <td>No</td>\n      <td>No</td>\n      <td>2</td>\n      <td>Yes</td>\n      <td>No</td>\n      <td>Fiber optic</td>\n      <td>No</td>\n      <td>...</td>\n      <td>No</td>\n      <td>No</td>\n      <td>No</td>\n      <td>No</td>\n      <td>Month-to-month</td>\n      <td>Yes</td>\n      <td>Electronic check</td>\n      <td>70.70</td>\n      <td>151.65</td>\n      <td>Yes</td>\n    </tr>\n  </tbody>\n</table>\n<p>5 rows × 21 columns</p>\n</div>"
     },
     "metadata": {},
     "execution_count": 4
    }
   ],
   "source": [
    "# Display the first 5 rows\n",
    "customer_data.head()"
   ]
  },
  {
   "cell_type": "code",
   "execution_count": null,
   "metadata": {},
   "outputs": [],
   "source": []
  },
  {
   "cell_type": "code",
   "execution_count": 5,
   "metadata": {},
   "outputs": [
    {
     "output_type": "execute_result",
     "data": {
      "text/plain": "       SeniorCitizen       tenure  MonthlyCharges\ncount    7043.000000  7043.000000     7043.000000\nmean        0.162147    32.371149       64.761692\nstd         0.368612    24.559481       30.090047\nmin         0.000000     0.000000       18.250000\n25%         0.000000     9.000000       35.500000\n50%         0.000000    29.000000       70.350000\n75%         0.000000    55.000000       89.850000\nmax         1.000000    72.000000      118.750000",
      "text/html": "<div>\n<style scoped>\n    .dataframe tbody tr th:only-of-type {\n        vertical-align: middle;\n    }\n\n    .dataframe tbody tr th {\n        vertical-align: top;\n    }\n\n    .dataframe thead th {\n        text-align: right;\n    }\n</style>\n<table border=\"1\" class=\"dataframe\">\n  <thead>\n    <tr style=\"text-align: right;\">\n      <th></th>\n      <th>SeniorCitizen</th>\n      <th>tenure</th>\n      <th>MonthlyCharges</th>\n    </tr>\n  </thead>\n  <tbody>\n    <tr>\n      <th>count</th>\n      <td>7043.000000</td>\n      <td>7043.000000</td>\n      <td>7043.000000</td>\n    </tr>\n    <tr>\n      <th>mean</th>\n      <td>0.162147</td>\n      <td>32.371149</td>\n      <td>64.761692</td>\n    </tr>\n    <tr>\n      <th>std</th>\n      <td>0.368612</td>\n      <td>24.559481</td>\n      <td>30.090047</td>\n    </tr>\n    <tr>\n      <th>min</th>\n      <td>0.000000</td>\n      <td>0.000000</td>\n      <td>18.250000</td>\n    </tr>\n    <tr>\n      <th>25%</th>\n      <td>0.000000</td>\n      <td>9.000000</td>\n      <td>35.500000</td>\n    </tr>\n    <tr>\n      <th>50%</th>\n      <td>0.000000</td>\n      <td>29.000000</td>\n      <td>70.350000</td>\n    </tr>\n    <tr>\n      <th>75%</th>\n      <td>0.000000</td>\n      <td>55.000000</td>\n      <td>89.850000</td>\n    </tr>\n    <tr>\n      <th>max</th>\n      <td>1.000000</td>\n      <td>72.000000</td>\n      <td>118.750000</td>\n    </tr>\n  </tbody>\n</table>\n</div>"
     },
     "metadata": {},
     "execution_count": 5
    }
   ],
   "source": [
    "# What does the data look like?\n",
    "customer_data.describe()"
   ]
  },
  {
   "cell_type": "code",
   "execution_count": null,
   "metadata": {},
   "outputs": [],
   "source": []
  },
  {
   "cell_type": "code",
   "execution_count": 6,
   "metadata": {},
   "outputs": [
    {
     "output_type": "execute_result",
     "data": {
      "text/plain": "customerID          0\ngender              0\nSeniorCitizen       0\nPartner             0\nDependents          0\ntenure              0\nPhoneService        0\nMultipleLines       0\nInternetService     0\nOnlineSecurity      0\nOnlineBackup        0\nDeviceProtection    0\nTechSupport         0\nStreamingTV         0\nStreamingMovies     0\nContract            0\nPaperlessBilling    0\nPaymentMethod       0\nMonthlyCharges      0\nTotalCharges        0\nChurn               0\ndtype: int64"
     },
     "metadata": {},
     "execution_count": 6
    }
   ],
   "source": [
    "# checking if any null data exists\n",
    "customer_data.isnull().sum()"
   ]
  },
  {
   "cell_type": "code",
   "execution_count": 7,
   "metadata": {},
   "outputs": [],
   "source": [
    "# drop a column that is not useful\n",
    "customer_data = customer_data.drop(columns = ['customerID'])\n"
   ]
  },
  {
   "cell_type": "code",
   "execution_count": null,
   "metadata": {},
   "outputs": [],
   "source": []
  },
  {
   "cell_type": "code",
   "execution_count": 8,
   "metadata": {},
   "outputs": [
    {
     "output_type": "execute_result",
     "data": {
      "text/plain": "   gender  SeniorCitizen Partner Dependents  tenure PhoneService  \\\n0  Female              0     Yes         No       1           No   \n1    Male              0      No         No      34          Yes   \n2    Male              0      No         No       2          Yes   \n3    Male              0      No         No      45           No   \n4  Female              0      No         No       2          Yes   \n\n      MultipleLines InternetService OnlineSecurity OnlineBackup  \\\n0  No phone service             DSL             No          Yes   \n1                No             DSL            Yes           No   \n2                No             DSL            Yes          Yes   \n3  No phone service             DSL            Yes           No   \n4                No     Fiber optic             No           No   \n\n  DeviceProtection TechSupport StreamingTV StreamingMovies        Contract  \\\n0               No          No          No              No  Month-to-month   \n1              Yes          No          No              No        One year   \n2               No          No          No              No  Month-to-month   \n3              Yes         Yes          No              No        One year   \n4               No          No          No              No  Month-to-month   \n\n  PaperlessBilling              PaymentMethod  MonthlyCharges TotalCharges  \\\n0              Yes           Electronic check           29.85        29.85   \n1               No               Mailed check           56.95       1889.5   \n2              Yes               Mailed check           53.85       108.15   \n3               No  Bank transfer (automatic)           42.30      1840.75   \n4              Yes           Electronic check           70.70       151.65   \n\n  Churn  \n0    No  \n1    No  \n2   Yes  \n3    No  \n4   Yes  ",
      "text/html": "<div>\n<style scoped>\n    .dataframe tbody tr th:only-of-type {\n        vertical-align: middle;\n    }\n\n    .dataframe tbody tr th {\n        vertical-align: top;\n    }\n\n    .dataframe thead th {\n        text-align: right;\n    }\n</style>\n<table border=\"1\" class=\"dataframe\">\n  <thead>\n    <tr style=\"text-align: right;\">\n      <th></th>\n      <th>gender</th>\n      <th>SeniorCitizen</th>\n      <th>Partner</th>\n      <th>Dependents</th>\n      <th>tenure</th>\n      <th>PhoneService</th>\n      <th>MultipleLines</th>\n      <th>InternetService</th>\n      <th>OnlineSecurity</th>\n      <th>OnlineBackup</th>\n      <th>DeviceProtection</th>\n      <th>TechSupport</th>\n      <th>StreamingTV</th>\n      <th>StreamingMovies</th>\n      <th>Contract</th>\n      <th>PaperlessBilling</th>\n      <th>PaymentMethod</th>\n      <th>MonthlyCharges</th>\n      <th>TotalCharges</th>\n      <th>Churn</th>\n    </tr>\n  </thead>\n  <tbody>\n    <tr>\n      <th>0</th>\n      <td>Female</td>\n      <td>0</td>\n      <td>Yes</td>\n      <td>No</td>\n      <td>1</td>\n      <td>No</td>\n      <td>No phone service</td>\n      <td>DSL</td>\n      <td>No</td>\n      <td>Yes</td>\n      <td>No</td>\n      <td>No</td>\n      <td>No</td>\n      <td>No</td>\n      <td>Month-to-month</td>\n      <td>Yes</td>\n      <td>Electronic check</td>\n      <td>29.85</td>\n      <td>29.85</td>\n      <td>No</td>\n    </tr>\n    <tr>\n      <th>1</th>\n      <td>Male</td>\n      <td>0</td>\n      <td>No</td>\n      <td>No</td>\n      <td>34</td>\n      <td>Yes</td>\n      <td>No</td>\n      <td>DSL</td>\n      <td>Yes</td>\n      <td>No</td>\n      <td>Yes</td>\n      <td>No</td>\n      <td>No</td>\n      <td>No</td>\n      <td>One year</td>\n      <td>No</td>\n      <td>Mailed check</td>\n      <td>56.95</td>\n      <td>1889.5</td>\n      <td>No</td>\n    </tr>\n    <tr>\n      <th>2</th>\n      <td>Male</td>\n      <td>0</td>\n      <td>No</td>\n      <td>No</td>\n      <td>2</td>\n      <td>Yes</td>\n      <td>No</td>\n      <td>DSL</td>\n      <td>Yes</td>\n      <td>Yes</td>\n      <td>No</td>\n      <td>No</td>\n      <td>No</td>\n      <td>No</td>\n      <td>Month-to-month</td>\n      <td>Yes</td>\n      <td>Mailed check</td>\n      <td>53.85</td>\n      <td>108.15</td>\n      <td>Yes</td>\n    </tr>\n    <tr>\n      <th>3</th>\n      <td>Male</td>\n      <td>0</td>\n      <td>No</td>\n      <td>No</td>\n      <td>45</td>\n      <td>No</td>\n      <td>No phone service</td>\n      <td>DSL</td>\n      <td>Yes</td>\n      <td>No</td>\n      <td>Yes</td>\n      <td>Yes</td>\n      <td>No</td>\n      <td>No</td>\n      <td>One year</td>\n      <td>No</td>\n      <td>Bank transfer (automatic)</td>\n      <td>42.30</td>\n      <td>1840.75</td>\n      <td>No</td>\n    </tr>\n    <tr>\n      <th>4</th>\n      <td>Female</td>\n      <td>0</td>\n      <td>No</td>\n      <td>No</td>\n      <td>2</td>\n      <td>Yes</td>\n      <td>No</td>\n      <td>Fiber optic</td>\n      <td>No</td>\n      <td>No</td>\n      <td>No</td>\n      <td>No</td>\n      <td>No</td>\n      <td>No</td>\n      <td>Month-to-month</td>\n      <td>Yes</td>\n      <td>Electronic check</td>\n      <td>70.70</td>\n      <td>151.65</td>\n      <td>Yes</td>\n    </tr>\n  </tbody>\n</table>\n</div>"
     },
     "metadata": {},
     "execution_count": 8
    }
   ],
   "source": [
    "# Check the dataset again\n",
    "customer_data.head()"
   ]
  },
  {
   "cell_type": "code",
   "execution_count": null,
   "metadata": {},
   "outputs": [],
   "source": []
  },
  {
   "cell_type": "code",
   "execution_count": 9,
   "metadata": {},
   "outputs": [],
   "source": [
    "# converting the non-numeric data into numeric data.\n",
    "encoded = customer_data.apply(lambda x: LabelEncoder().fit_transform(x) if x.dtype == 'object' else x)"
   ]
  },
  {
   "cell_type": "code",
   "execution_count": null,
   "metadata": {},
   "outputs": [],
   "source": []
  },
  {
   "cell_type": "code",
   "execution_count": 10,
   "metadata": {},
   "outputs": [
    {
     "output_type": "execute_result",
     "data": {
      "text/plain": "   gender  SeniorCitizen  Partner  Dependents  tenure  PhoneService  \\\n0       0              0        1           0       1             0   \n1       1              0        0           0      34             1   \n2       1              0        0           0       2             1   \n3       1              0        0           0      45             0   \n4       0              0        0           0       2             1   \n\n   MultipleLines  InternetService  OnlineSecurity  OnlineBackup  \\\n0              1                0               0             2   \n1              0                0               2             0   \n2              0                0               2             2   \n3              1                0               2             0   \n4              0                1               0             0   \n\n   DeviceProtection  TechSupport  StreamingTV  StreamingMovies  Contract  \\\n0                 0            0            0                0         0   \n1                 2            0            0                0         1   \n2                 0            0            0                0         0   \n3                 2            2            0                0         1   \n4                 0            0            0                0         0   \n\n   PaperlessBilling  PaymentMethod  MonthlyCharges  TotalCharges  Churn  \n0                 1              2           29.85          2505      0  \n1                 0              3           56.95          1466      0  \n2                 1              3           53.85           157      1  \n3                 0              0           42.30          1400      0  \n4                 1              2           70.70           925      1  ",
      "text/html": "<div>\n<style scoped>\n    .dataframe tbody tr th:only-of-type {\n        vertical-align: middle;\n    }\n\n    .dataframe tbody tr th {\n        vertical-align: top;\n    }\n\n    .dataframe thead th {\n        text-align: right;\n    }\n</style>\n<table border=\"1\" class=\"dataframe\">\n  <thead>\n    <tr style=\"text-align: right;\">\n      <th></th>\n      <th>gender</th>\n      <th>SeniorCitizen</th>\n      <th>Partner</th>\n      <th>Dependents</th>\n      <th>tenure</th>\n      <th>PhoneService</th>\n      <th>MultipleLines</th>\n      <th>InternetService</th>\n      <th>OnlineSecurity</th>\n      <th>OnlineBackup</th>\n      <th>DeviceProtection</th>\n      <th>TechSupport</th>\n      <th>StreamingTV</th>\n      <th>StreamingMovies</th>\n      <th>Contract</th>\n      <th>PaperlessBilling</th>\n      <th>PaymentMethod</th>\n      <th>MonthlyCharges</th>\n      <th>TotalCharges</th>\n      <th>Churn</th>\n    </tr>\n  </thead>\n  <tbody>\n    <tr>\n      <th>0</th>\n      <td>0</td>\n      <td>0</td>\n      <td>1</td>\n      <td>0</td>\n      <td>1</td>\n      <td>0</td>\n      <td>1</td>\n      <td>0</td>\n      <td>0</td>\n      <td>2</td>\n      <td>0</td>\n      <td>0</td>\n      <td>0</td>\n      <td>0</td>\n      <td>0</td>\n      <td>1</td>\n      <td>2</td>\n      <td>29.85</td>\n      <td>2505</td>\n      <td>0</td>\n    </tr>\n    <tr>\n      <th>1</th>\n      <td>1</td>\n      <td>0</td>\n      <td>0</td>\n      <td>0</td>\n      <td>34</td>\n      <td>1</td>\n      <td>0</td>\n      <td>0</td>\n      <td>2</td>\n      <td>0</td>\n      <td>2</td>\n      <td>0</td>\n      <td>0</td>\n      <td>0</td>\n      <td>1</td>\n      <td>0</td>\n      <td>3</td>\n      <td>56.95</td>\n      <td>1466</td>\n      <td>0</td>\n    </tr>\n    <tr>\n      <th>2</th>\n      <td>1</td>\n      <td>0</td>\n      <td>0</td>\n      <td>0</td>\n      <td>2</td>\n      <td>1</td>\n      <td>0</td>\n      <td>0</td>\n      <td>2</td>\n      <td>2</td>\n      <td>0</td>\n      <td>0</td>\n      <td>0</td>\n      <td>0</td>\n      <td>0</td>\n      <td>1</td>\n      <td>3</td>\n      <td>53.85</td>\n      <td>157</td>\n      <td>1</td>\n    </tr>\n    <tr>\n      <th>3</th>\n      <td>1</td>\n      <td>0</td>\n      <td>0</td>\n      <td>0</td>\n      <td>45</td>\n      <td>0</td>\n      <td>1</td>\n      <td>0</td>\n      <td>2</td>\n      <td>0</td>\n      <td>2</td>\n      <td>2</td>\n      <td>0</td>\n      <td>0</td>\n      <td>1</td>\n      <td>0</td>\n      <td>0</td>\n      <td>42.30</td>\n      <td>1400</td>\n      <td>0</td>\n    </tr>\n    <tr>\n      <th>4</th>\n      <td>0</td>\n      <td>0</td>\n      <td>0</td>\n      <td>0</td>\n      <td>2</td>\n      <td>1</td>\n      <td>0</td>\n      <td>1</td>\n      <td>0</td>\n      <td>0</td>\n      <td>0</td>\n      <td>0</td>\n      <td>0</td>\n      <td>0</td>\n      <td>0</td>\n      <td>1</td>\n      <td>2</td>\n      <td>70.70</td>\n      <td>925</td>\n      <td>1</td>\n    </tr>\n  </tbody>\n</table>\n</div>"
     },
     "metadata": {},
     "execution_count": 10
    }
   ],
   "source": [
    "encoded.head()"
   ]
  },
  {
   "cell_type": "code",
   "execution_count": null,
   "metadata": {},
   "outputs": [],
   "source": []
  },
  {
   "cell_type": "code",
   "execution_count": 11,
   "metadata": {},
   "outputs": [],
   "source": [
    "# X=Features, y=Target\n",
    "X = encoded.iloc[:, 0:19]\n",
    "y = encoded.Churn"
   ]
  },
  {
   "cell_type": "code",
   "execution_count": null,
   "metadata": {},
   "outputs": [],
   "source": []
  },
  {
   "cell_type": "code",
   "execution_count": 12,
   "metadata": {},
   "outputs": [],
   "source": [
    "# train test spliting\n",
    "# split the data into a training and a test part.\n",
    "# the models will be trained on the training data set and tested on the test data set.\n",
    "X_train, X_test, y_train, y_test = train_test_split(X, y, test_size = 0.2)"
   ]
  },
  {
   "cell_type": "code",
   "execution_count": null,
   "metadata": {},
   "outputs": [],
   "source": []
  },
  {
   "cell_type": "code",
   "execution_count": 13,
   "metadata": {
    "tags": []
   },
   "outputs": [
    {
     "output_type": "stream",
     "name": "stdout",
     "text": "X_train:  5634\nX_test:  1409\ny_train:  5634\ny_test:  1409\n"
    }
   ],
   "source": [
    "#print length of X_train, X_test, y_train, y_test\n",
    "print (\"X_train: \", len(X_train))\n",
    "print(\"X_test: \", len(X_test))\n",
    "print(\"y_train: \", len(y_train))\n",
    "print(\"y_test: \", len(y_test))"
   ]
  },
  {
   "cell_type": "code",
   "execution_count": null,
   "metadata": {},
   "outputs": [],
   "source": []
  },
  {
   "cell_type": "code",
   "execution_count": 14,
   "metadata": {
    "tags": []
   },
   "outputs": [
    {
     "output_type": "stream",
     "name": "stdout",
     "text": "Accuracy score of KNN training set: 0.817\nAccuracy score of KNN test set: 0.765\n"
    }
   ],
   "source": [
    "# Model the K Neighbor\n",
    "knc = KNeighborsClassifier()\n",
    "knc.fit(X_train, y_train)\n",
    "knc.fit(X_train, y_train)\n",
    "print('Accuracy score of KNN training set: {:.3f}'.format(knc.score(X_train, y_train)))\n",
    "print('Accuracy score of KNN test set: {:.3f}'.format(knc.score(X_test, y_test)))\n"
   ]
  },
  {
   "cell_type": "code",
   "execution_count": null,
   "metadata": {},
   "outputs": [],
   "source": []
  },
  {
   "cell_type": "code",
   "execution_count": 15,
   "metadata": {
    "tags": []
   },
   "outputs": [
    {
     "output_type": "stream",
     "name": "stdout",
     "text": "confusion_matrix of KNN:  [[921 128]\n [203 157]]\nprecision_score of KNN:  0.5508771929824562\nrecall_score of KNN:  0.4361111111111111\nprecision_recall_curve of KNN:  (array([0.25550035, 0.55087719, 1.        ]), array([1.        , 0.43611111, 0.        ]), array([0, 1]))\n"
    }
   ],
   "source": [
    "# Print Results - KNN Classifier\n",
    "y_knc = knc.predict(X_test)\n",
    "\n",
    "print('confusion_matrix of KNN: ', confusion_matrix(y_test, y_knc))\n",
    "print('precision_score of KNN: ', precision_score(y_test, y_knc))\n",
    "print('recall_score of KNN: ', recall_score(y_test, y_knc))\n",
    "print('precision_recall_curve of KNN: ', precision_recall_curve(y_test, y_knc))"
   ]
  },
  {
   "cell_type": "code",
   "execution_count": null,
   "metadata": {},
   "outputs": [],
   "source": []
  },
  {
   "cell_type": "code",
   "execution_count": 16,
   "metadata": {
    "tags": []
   },
   "outputs": [
    {
     "output_type": "stream",
     "name": "stdout",
     "text": "Accuracy score (training): 0.889\nAccuracy score (test): 0.252\n"
    }
   ],
   "source": [
    "# Model the Random Forest Regressor\n",
    "rfr = RandomForestRegressor()\n",
    "rfr.fit(X_train, y_train)\n",
    "print('Accuracy score (training): {:.3f}'.format(rfr.score(X_train, y_train)))\n",
    "print('Accuracy score (test): {:.3f}'.format(rfr.score(X_test, y_test)))"
   ]
  },
  {
   "cell_type": "code",
   "execution_count": null,
   "metadata": {},
   "outputs": [],
   "source": []
  },
  {
   "cell_type": "code",
   "execution_count": 17,
   "metadata": {
    "tags": []
   },
   "outputs": [
    {
     "output_type": "stream",
     "name": "stdout",
     "text": "Accuracy score Random Forest Classifier training set: 0.997\nAccuracy score Random Forest Classifier test set: 0.787\n"
    }
   ],
   "source": [
    "# Model Random Forest Classifier\n",
    "rfc = RandomForestClassifier()\n",
    "rfc.fit(X_train, y_train)\n",
    "print('Accuracy score Random Forest Classifier training set: {:.3f}'.format(rfc.score(X_train, y_train)))\n",
    "print('Accuracy score Random Forest Classifier test set: {:.3f}'.format(rfc.score(X_test, y_test)))"
   ]
  },
  {
   "cell_type": "code",
   "execution_count": null,
   "metadata": {},
   "outputs": [],
   "source": []
  },
  {
   "cell_type": "code",
   "execution_count": 18,
   "metadata": {
    "tags": []
   },
   "outputs": [
    {
     "output_type": "stream",
     "name": "stdout",
     "text": "confusion_matrix of Random Forest Classifier:  [[938 111]\n [189 171]]\nprecision_score of Random Forest Classifier:  0.6063829787234043\nrecall_score of Random Forest Classifier:  0.475\nprecision_recall_curve of Random Forest Classifier:  (array([0.25550035, 0.60638298, 1.        ]), array([1.   , 0.475, 0.   ]), array([0, 1]))\n"
    }
   ],
   "source": [
    "y_rfc = rfc.predict(X_test)\n",
    "\n",
    "print('confusion_matrix of Random Forest Classifier: ', confusion_matrix(y_test, y_rfc))\n",
    "print('precision_score of Random Forest Classifier: ', precision_score(y_test, y_rfc))\n",
    "print('recall_score of Random Forest Classifier: ', recall_score(y_test, y_rfc))\n",
    "print('precision_recall_curve of Random Forest Classifier: ', precision_recall_curve(y_test, y_rfc))"
   ]
  },
  {
   "cell_type": "code",
   "execution_count": null,
   "metadata": {},
   "outputs": [],
   "source": []
  },
  {
   "cell_type": "code",
   "execution_count": 19,
   "metadata": {
    "tags": []
   },
   "outputs": [
    {
     "output_type": "stream",
     "name": "stdout",
     "text": "accuracy of Decision Tree Classifier training set: 0.997\naccuaracy of Decision Tree Classifier test set: 0.735\n"
    }
   ],
   "source": [
    "# Model Decision Tree Classifier\n",
    "classifier = DecisionTreeClassifier(criterion = 'entropy', random_state = 42)\n",
    "classifier.fit(X_train, y_train)\n",
    "\n",
    "print('accuracy of Decision Tree Classifier training set: {:.3f}'.format(classifier.score(X_train,y_train)))\n",
    "print('accuaracy of Decision Tree Classifier test set: {:.3f}'.format(classifier.score(X_test, y_test)))"
   ]
  },
  {
   "cell_type": "code",
   "execution_count": null,
   "metadata": {},
   "outputs": [],
   "source": []
  },
  {
   "cell_type": "code",
   "execution_count": 20,
   "metadata": {
    "tags": []
   },
   "outputs": [
    {
     "output_type": "stream",
     "name": "stdout",
     "text": "accuracy_score of decision tree classifier:  0.7352732434350603\nconfusion_matrix of decision tree classifier:  [[838 162]\n [211 198]]\nprecision_score of decision tree classifier:  0.55\nrecall_score of decision tree classifier:  0.4841075794621027\nprecision_recall_curve of decision tree classifier:  (array([0.29027679, 0.55      , 1.        ]), array([1.        , 0.48410758, 0.        ]), array([0, 1]))\n"
    }
   ],
   "source": [
    "y_dtc = classifier.predict(X_test)\n",
    "print('accuracy_score of decision tree classifier: ', accuracy_score(y_dtc, y_test))\n",
    "print('confusion_matrix of decision tree classifier: ', confusion_matrix(y_dtc, y_test))\n",
    "print('precision_score of decision tree classifier: ', precision_score(y_dtc, y_test))\n",
    "print('recall_score of decision tree classifier: ', recall_score(y_dtc, y_test))\n",
    "print('precision_recall_curve of decision tree classifier: ', precision_recall_curve(y_dtc, y_test))"
   ]
  },
  {
   "cell_type": "code",
   "execution_count": null,
   "metadata": {},
   "outputs": [],
   "source": []
  },
  {
   "cell_type": "code",
   "execution_count": 21,
   "metadata": {
    "tags": []
   },
   "outputs": [
    {
     "output_type": "stream",
     "name": "stdout",
     "text": "Accuracy XGBclassifier on train set: 0.945\nAccuracy XGBClassifier on test set: 0.793\n"
    }
   ],
   "source": [
    "xgb = XGBClassifier()\n",
    "xgb.fit(X_train, y_train)\n",
    "print('Accuracy XGBclassifier on train set: {:.3f}'.format(xgb.score(X_train, y_train)))\n",
    "print('Accuracy XGBClassifier on test set: {:.3f}'.format(xgb.score(X_test, y_test)))"
   ]
  },
  {
   "cell_type": "code",
   "execution_count": null,
   "metadata": {},
   "outputs": [],
   "source": []
  },
  {
   "cell_type": "code",
   "execution_count": 22,
   "metadata": {
    "tags": []
   },
   "outputs": [
    {
     "output_type": "stream",
     "name": "stdout",
     "text": "accuracy_score of xgboost:  0.7927608232789212\nconfusion_matrix of xgboost:  [[934 115]\n [177 183]]\nprecision_score of xgboost:  0.6140939597315436\nrecall_score of xgboost:  0.5083333333333333\nprecision_recall_curve of xgboost:  (array([0.25550035, 0.61409396, 1.        ]), array([1.        , 0.50833333, 0.        ]), array([0, 1]))\n"
    }
   ],
   "source": [
    "y_xgbc = xgb.predict(X_test)\n",
    "# predicting Confusion matrix, accuracy score,precision score, recall score\n",
    "print('accuracy_score of xgboost: ', accuracy_score(y_test, y_xgbc))\n",
    "print('confusion_matrix of xgboost: ', confusion_matrix(y_test, y_xgbc))\n",
    "print('precision_score of xgboost: ', precision_score(y_test, y_xgbc))\n",
    "print('recall_score of xgboost: ', recall_score(y_test, y_xgbc))\n",
    "print('precision_recall_curve of xgboost: ', precision_recall_curve(y_test, y_xgbc))"
   ]
  },
  {
   "cell_type": "code",
   "execution_count": null,
   "metadata": {},
   "outputs": [],
   "source": []
  },
  {
   "cell_type": "code",
   "execution_count": 23,
   "metadata": {
    "tags": []
   },
   "outputs": [
    {
     "output_type": "stream",
     "name": "stdout",
     "text": "accuracy of Naive Bayes training set: 0.754\naccuaracy of Naive Bayes test set: 0.752\n"
    }
   ],
   "source": [
    "# prediction using Naive Bayes Algorithm \n",
    "nbc = GaussianNB()\n",
    "nbc.fit(X_train, y_train)\n",
    "\n",
    "print('accuracy of Naive Bayes training set: {:.3f}'.format(nbc.score(X_train,y_train)))\n",
    "print('accuaracy of Naive Bayes test set: {:.3f}'.format(nbc.score(X_test, y_test)))"
   ]
  },
  {
   "cell_type": "code",
   "execution_count": null,
   "metadata": {},
   "outputs": [],
   "source": []
  },
  {
   "cell_type": "code",
   "execution_count": 24,
   "metadata": {
    "tags": []
   },
   "outputs": [
    {
     "output_type": "stream",
     "name": "stdout",
     "text": "accuracy_score of Naive Bayes:  0.752306600425834\nconfusion_matrix of Naive Bayes:  [[795 254]\n [ 95 265]]\nprecision_score of Naive Bayes:  0.5105973025048169\nrecall_score of Naive Bayes:  0.7361111111111112\nprecision_recall_curve of Naive Bayes:  (array([0.25550035, 0.5105973 , 1.        ]), array([1.        , 0.73611111, 0.        ]), array([0, 1]))\n"
    }
   ],
   "source": [
    "y_nb = nbc.predict(X_test)\n",
    "\n",
    "print('accuracy_score of Naive Bayes: ', accuracy_score(y_test, y_nb))\n",
    "print('confusion_matrix of Naive Bayes: ', confusion_matrix(y_test, y_nb))\n",
    "print('precision_score of Naive Bayes: ', precision_score(y_test, y_nb))\n",
    "print('recall_score of Naive Bayes: ', recall_score(y_test, y_nb))\n",
    "print('precision_recall_curve of Naive Bayes: ', precision_recall_curve(y_test, y_nb))"
   ]
  },
  {
   "cell_type": "code",
   "execution_count": null,
   "metadata": {},
   "outputs": [],
   "source": []
  },
  {
   "cell_type": "code",
   "execution_count": 25,
   "metadata": {},
   "outputs": [],
   "source": [
    "# Initialising the Multi Layer Perceptron (MLP)\n",
    "classifier = Sequential()"
   ]
  },
  {
   "cell_type": "code",
   "execution_count": null,
   "metadata": {},
   "outputs": [],
   "source": []
  },
  {
   "cell_type": "code",
   "execution_count": 26,
   "metadata": {
    "tags": []
   },
   "outputs": [
    {
     "output_type": "stream",
     "name": "stdout",
     "text": "WARNING:tensorflow:From /home/mike/.local/lib/python3.6/site-packages/tensorflow_core/python/keras/initializers.py:119: calling RandomUniform.__init__ (from tensorflow.python.ops.init_ops) with dtype is deprecated and will be removed in a future version.\nInstructions for updating:\nCall initializer instance with the dtype argument instead of passing it to the constructor\nWARNING:tensorflow:From /home/mike/.local/lib/python3.6/site-packages/tensorflow_core/python/ops/resource_variable_ops.py:1630: calling BaseResourceVariable.__init__ (from tensorflow.python.ops.resource_variable_ops) with constraint is deprecated and will be removed in a future version.\nInstructions for updating:\nIf using Keras pass *_constraint arguments to layers.\n"
    }
   ],
   "source": [
    "# Adding the input layer and the first hidden layer\n",
    "classifier.add(Dense(units = 16, kernel_initializer = 'uniform', activation = 'relu', input_dim = 19))"
   ]
  },
  {
   "cell_type": "code",
   "execution_count": null,
   "metadata": {},
   "outputs": [],
   "source": []
  },
  {
   "cell_type": "code",
   "execution_count": 27,
   "metadata": {},
   "outputs": [],
   "source": [
    "# Adding the second hidden layer\n",
    "classifier.add(Dense(units = 16, kernel_initializer = 'uniform', activation = 'relu'))"
   ]
  },
  {
   "cell_type": "code",
   "execution_count": null,
   "metadata": {},
   "outputs": [],
   "source": []
  },
  {
   "cell_type": "code",
   "execution_count": 28,
   "metadata": {},
   "outputs": [],
   "source": [
    "# Adding the output layer\n",
    "classifier.add(Dense(units = 1, kernel_initializer = 'uniform', activation = 'sigmoid'))"
   ]
  },
  {
   "cell_type": "code",
   "execution_count": null,
   "metadata": {},
   "outputs": [],
   "source": []
  },
  {
   "cell_type": "code",
   "execution_count": 29,
   "metadata": {
    "tags": []
   },
   "outputs": [
    {
     "output_type": "stream",
     "name": "stdout",
     "text": "WARNING:tensorflow:From /home/mike/.local/lib/python3.6/site-packages/tensorflow_core/python/ops/nn_impl.py:183: where (from tensorflow.python.ops.array_ops) is deprecated and will be removed in a future version.\nInstructions for updating:\nUse tf.where in 2.0, which has the same broadcast rule as np.where\n"
    }
   ],
   "source": [
    "# Compiling the MLP\n",
    "classifier.compile(optimizer = 'adam', loss = 'binary_crossentropy', metrics = ['accuracy'])"
   ]
  },
  {
   "cell_type": "code",
   "execution_count": null,
   "metadata": {},
   "outputs": [],
   "source": []
  },
  {
   "cell_type": "code",
   "execution_count": 30,
   "metadata": {
    "tags": []
   },
   "outputs": [
    {
     "output_type": "stream",
     "name": "stdout",
     "text": "Train on 5634 samples\nEpoch 1/100\n5634/5634 [==============================] - 2s 402us/sample - loss: 0.5535 - acc: 0.7355\nEpoch 2/100\n5634/5634 [==============================] - 2s 301us/sample - loss: 0.4854 - acc: 0.7673\nEpoch 3/100\n5634/5634 [==============================] - 2s 291us/sample - loss: 0.4701 - acc: 0.7746\nEpoch 4/100\n5634/5634 [==============================] - 2s 305us/sample - loss: 0.4639 - acc: 0.7806\nEpoch 5/100\n5634/5634 [==============================] - 2s 286us/sample - loss: 0.4570 - acc: 0.7797\nEpoch 6/100\n5634/5634 [==============================] - 2s 290us/sample - loss: 0.4571 - acc: 0.7792\nEpoch 7/100\n5634/5634 [==============================] - 2s 303us/sample - loss: 0.4592 - acc: 0.7824\nEpoch 8/100\n5634/5634 [==============================] - 2s 294us/sample - loss: 0.4501 - acc: 0.7820\nEpoch 9/100\n5634/5634 [==============================] - 2s 303us/sample - loss: 0.4521 - acc: 0.7765\nEpoch 10/100\n5634/5634 [==============================] - 2s 298us/sample - loss: 0.4461 - acc: 0.7852\nEpoch 11/100\n5634/5634 [==============================] - 2s 295us/sample - loss: 0.4456 - acc: 0.7900\nEpoch 12/100\n5634/5634 [==============================] - 2s 295us/sample - loss: 0.4431 - acc: 0.7867\nEpoch 13/100\n5634/5634 [==============================] - 2s 313us/sample - loss: 0.4451 - acc: 0.7872\nEpoch 14/100\n5634/5634 [==============================] - 2s 330us/sample - loss: 0.4401 - acc: 0.7916\nEpoch 15/100\n5634/5634 [==============================] - 2s 316us/sample - loss: 0.4405 - acc: 0.7904\nEpoch 16/100\n5634/5634 [==============================] - 2s 299us/sample - loss: 0.4378 - acc: 0.7891\nEpoch 17/100\n5634/5634 [==============================] - 2s 296us/sample - loss: 0.4407 - acc: 0.7897\nEpoch 18/100\n5634/5634 [==============================] - 2s 291us/sample - loss: 0.4411 - acc: 0.7854\nEpoch 19/100\n5634/5634 [==============================] - 2s 306us/sample - loss: 0.4383 - acc: 0.7898\nEpoch 20/100\n5634/5634 [==============================] - 2s 293us/sample - loss: 0.4361 - acc: 0.7909\nEpoch 21/100\n5634/5634 [==============================] - 2s 290us/sample - loss: 0.4377 - acc: 0.7891\nEpoch 22/100\n5634/5634 [==============================] - 2s 297us/sample - loss: 0.4397 - acc: 0.7868\nEpoch 23/100\n5634/5634 [==============================] - 2s 289us/sample - loss: 0.4401 - acc: 0.7872\nEpoch 24/100\n5634/5634 [==============================] - 2s 295us/sample - loss: 0.4431 - acc: 0.7817\nEpoch 25/100\n5634/5634 [==============================] - 2s 294us/sample - loss: 0.4347 - acc: 0.7943\nEpoch 26/100\n5634/5634 [==============================] - 2s 293us/sample - loss: 0.4366 - acc: 0.7884\nEpoch 27/100\n5634/5634 [==============================] - 2s 289us/sample - loss: 0.4349 - acc: 0.7906\nEpoch 28/100\n5634/5634 [==============================] - 2s 293us/sample - loss: 0.4348 - acc: 0.7884\nEpoch 29/100\n5634/5634 [==============================] - 2s 287us/sample - loss: 0.4380 - acc: 0.7847\nEpoch 30/100\n5634/5634 [==============================] - 2s 290us/sample - loss: 0.4353 - acc: 0.7907\nEpoch 31/100\n5634/5634 [==============================] - 2s 306us/sample - loss: 0.4359 - acc: 0.7895\nEpoch 32/100\n5634/5634 [==============================] - 2s 306us/sample - loss: 0.4356 - acc: 0.7884\nEpoch 33/100\n5460/5634 [============================>.] - ETA: 0s - loss: 0.4371 - acc: 0.7965634/5634 [==============================] - 2s 308us/sample - loss: 0.4358 - acc: 0.7961\nEpoch 34/100\n5634/5634 [==============================] - 2s 306us/sample - loss: 0.4354 - acc: 0.7929\nEpoch 35/100\n5634/5634 [==============================] - 2s 303us/sample - loss: 0.4321 - acc: 0.7929\nEpoch 36/100\n5634/5634 [==============================] - 2s 297us/sample - loss: 0.4343 - acc: 0.7934\nEpoch 37/100\n5634/5634 [==============================] - 2s 293us/sample - loss: 0.4335 - acc: 0.7936\nEpoch 38/100\n5634/5634 [==============================] - 2s 291us/sample - loss: 0.4332 - acc: 0.7923\nEpoch 39/100\n5634/5634 [==============================] - 2s 298us/sample - loss: 0.4321 - acc: 0.7922\nEpoch 40/100\n5634/5634 [==============================] - 2s 293us/sample - loss: 0.4323 - acc: 0.7948\nEpoch 41/100\n5634/5634 [==============================] - 2s 293us/sample - loss: 0.4334 - acc: 0.7923\nEpoch 42/100\n5634/5634 [==============================] - 2s 287us/sample - loss: 0.4320 - acc: 0.7913\nEpoch 43/100\n5634/5634 [==============================] - 2s 303us/sample - loss: 0.4343 - acc: 0.7888\nEpoch 44/100\n5634/5634 [==============================] - 2s 293us/sample - loss: 0.4303 - acc: 0.7955\nEpoch 45/100\n5634/5634 [==============================] - 2s 291us/sample - loss: 0.4333 - acc: 0.7906\nEpoch 46/100\n5634/5634 [==============================] - 2s 290us/sample - loss: 0.4280 - acc: 0.7948\nEpoch 47/100\n5634/5634 [==============================] - 2s 294us/sample - loss: 0.4310 - acc: 0.7961\nEpoch 48/100\n5634/5634 [==============================] - 2s 294us/sample - loss: 0.4305 - acc: 0.7929\nEpoch 49/100\n5634/5634 [==============================] - 2s 298us/sample - loss: 0.4313 - acc: 0.7902\nEpoch 50/100\n5634/5634 [==============================] - 2s 288us/sample - loss: 0.4300 - acc: 0.7982\nEpoch 51/100\n5634/5634 [==============================] - 2s 287us/sample - loss: 0.4307 - acc: 0.7927\nEpoch 52/100\n5634/5634 [==============================] - 2s 288us/sample - loss: 0.4298 - acc: 0.7953\nEpoch 53/100\n5634/5634 [==============================] - 2s 290us/sample - loss: 0.4292 - acc: 0.7966\nEpoch 54/100\n5634/5634 [==============================] - 2s 287us/sample - loss: 0.4311 - acc: 0.7925\nEpoch 55/100\n5634/5634 [==============================] - 2s 294us/sample - loss: 0.4312 - acc: 0.7953\nEpoch 56/100\n5634/5634 [==============================] - 2s 292us/sample - loss: 0.4269 - acc: 0.7936\nEpoch 57/100\n5634/5634 [==============================] - 2s 283us/sample - loss: 0.4299 - acc: 0.7882\nEpoch 58/100\n5634/5634 [==============================] - 2s 295us/sample - loss: 0.4301 - acc: 0.7964\nEpoch 59/100\n5634/5634 [==============================] - 2s 289us/sample - loss: 0.4305 - acc: 0.7925\nEpoch 60/100\n5634/5634 [==============================] - 2s 287us/sample - loss: 0.4304 - acc: 0.7918\nEpoch 61/100\n5634/5634 [==============================] - 2s 317us/sample - loss: 0.4298 - acc: 0.7950\nEpoch 62/100\n5634/5634 [==============================] - 2s 298us/sample - loss: 0.4316 - acc: 0.7909\nEpoch 63/100\n5634/5634 [==============================] - 2s 293us/sample - loss: 0.4342 - acc: 0.7941\nEpoch 64/100\n5634/5634 [==============================] - 2s 289us/sample - loss: 0.4312 - acc: 0.7945\nEpoch 65/100\n5634/5634 [==============================] - 2s 302us/sample - loss: 0.4289 - acc: 0.7938\nEpoch 66/100\n5634/5634 [==============================] - 2s 290us/sample - loss: 0.4281 - acc: 0.7957\nEpoch 67/100\n5634/5634 [==============================] - 2s 297us/sample - loss: 0.4279 - acc: 0.7969\nEpoch 68/100\n5634/5634 [==============================] - 2s 301us/sample - loss: 0.4310 - acc: 0.7890\nEpoch 69/100\n5634/5634 [==============================] - 2s 294us/sample - loss: 0.4278 - acc: 0.7909\nEpoch 70/100\n5634/5634 [==============================] - 2s 293us/sample - loss: 0.4275 - acc: 0.7939\nEpoch 71/100\n5634/5634 [==============================] - 2s 297us/sample - loss: 0.4274 - acc: 0.7923\nEpoch 72/100\n5634/5634 [==============================] - 2s 298us/sample - loss: 0.4255 - acc: 0.7939\nEpoch 73/100\n5634/5634 [==============================] - 2s 305us/sample - loss: 0.4271 - acc: 0.7950\nEpoch 74/100\n5634/5634 [==============================] - 2s 303us/sample - loss: 0.4276 - acc: 0.7957\nEpoch 75/100\n5634/5634 [==============================] - 2s 298us/sample - loss: 0.4268 - acc: 0.7948\nEpoch 76/100\n5634/5634 [==============================] - 2s 296us/sample - loss: 0.4269 - acc: 0.7971\nEpoch 77/100\n5634/5634 [==============================] - 2s 294us/sample - loss: 0.4341 - acc: 0.7938\nEpoch 78/100\n5634/5634 [==============================] - 2s 284us/sample - loss: 0.4286 - acc: 0.7936\nEpoch 79/100\n5634/5634 [==============================] - 2s 295us/sample - loss: 0.4275 - acc: 0.7934\nEpoch 80/100\n5634/5634 [==============================] - 2s 286us/sample - loss: 0.4259 - acc: 0.7943\nEpoch 81/100\n5634/5634 [==============================] - 2s 292us/sample - loss: 0.4286 - acc: 0.7957\nEpoch 82/100\n5634/5634 [==============================] - 2s 283us/sample - loss: 0.4277 - acc: 0.7961\nEpoch 83/100\n5634/5634 [==============================] - 2s 297us/sample - loss: 0.4238 - acc: 0.7973\nEpoch 84/100\n5634/5634 [==============================] - 2s 291us/sample - loss: 0.4266 - acc: 0.7955\nEpoch 85/100\n5634/5634 [==============================] - 2s 298us/sample - loss: 0.4268 - acc: 0.7943\nEpoch 86/100\n5634/5634 [==============================] - 2s 289us/sample - loss: 0.4282 - acc: 0.7929\nEpoch 87/100\n5634/5634 [==============================] - 2s 287us/sample - loss: 0.4242 - acc: 0.8017\nEpoch 88/100\n5634/5634 [==============================] - 2s 286us/sample - loss: 0.4260 - acc: 0.7922\nEpoch 89/100\n5634/5634 [==============================] - 2s 290us/sample - loss: 0.4243 - acc: 0.7966\nEpoch 90/100\n5634/5634 [==============================] - 2s 289us/sample - loss: 0.4276 - acc: 0.7909\nEpoch 91/100\n5634/5634 [==============================] - 2s 291us/sample - loss: 0.4230 - acc: 0.7964\nEpoch 92/100\n5634/5634 [==============================] - 2s 292us/sample - loss: 0.4246 - acc: 0.8000\nEpoch 93/100\n5634/5634 [==============================] - 2s 282us/sample - loss: 0.4247 - acc: 0.7977\nEpoch 94/100\n5634/5634 [==============================] - 2s 288us/sample - loss: 0.4270 - acc: 0.7946\nEpoch 95/100\n5634/5634 [==============================] - 2s 296us/sample - loss: 0.4259 - acc: 0.7925\nEpoch 96/100\n5634/5634 [==============================] - 2s 282us/sample - loss: 0.4278 - acc: 0.7922\nEpoch 97/100\n5634/5634 [==============================] - 2s 294us/sample - loss: 0.4250 - acc: 0.7980\nEpoch 98/100\n5634/5634 [==============================] - 2s 287us/sample - loss: 0.4251 - acc: 0.7923\nEpoch 99/100\n5634/5634 [==============================] - 2s 291us/sample - loss: 0.4225 - acc: 0.7984\nEpoch 100/100\n5634/5634 [==============================] - 2s 287us/sample - loss: 0.4266 - acc: 0.7943\n"
    },
    {
     "output_type": "execute_result",
     "data": {
      "text/plain": "<tensorflow.python.keras.callbacks.History at 0x7f2b87af6dd8>"
     },
     "metadata": {},
     "execution_count": 30
    }
   ],
   "source": [
    "# Fitting the MLP to the Training set\n",
    "classifier.fit(X_train, y_train, batch_size = 5, epochs = 100)"
   ]
  },
  {
   "cell_type": "code",
   "execution_count": null,
   "metadata": {},
   "outputs": [],
   "source": []
  },
  {
   "cell_type": "code",
   "execution_count": 31,
   "metadata": {
    "tags": []
   },
   "outputs": [
    {
     "output_type": "stream",
     "name": "stdout",
     "text": "Model: \"sequential\"\n_________________________________________________________________\nLayer (type)                 Output Shape              Param #   \n=================================================================\ndense (Dense)                (None, 16)                320       \n_________________________________________________________________\ndense_1 (Dense)              (None, 16)                272       \n_________________________________________________________________\ndense_2 (Dense)              (None, 1)                 17        \n=================================================================\nTotal params: 609\nTrainable params: 609\nNon-trainable params: 0\n_________________________________________________________________\n"
    }
   ],
   "source": [
    "classifier.summary()"
   ]
  },
  {
   "cell_type": "code",
   "execution_count": null,
   "metadata": {},
   "outputs": [],
   "source": []
  },
  {
   "cell_type": "code",
   "execution_count": 32,
   "metadata": {
    "tags": []
   },
   "outputs": [
    {
     "output_type": "error",
     "ename": "AttributeError",
     "evalue": "'Sequential' object has no attribute 'score'",
     "traceback": [
      "\u001b[0;31m---------------------------------------------------------------------------\u001b[0m",
      "\u001b[0;31mAttributeError\u001b[0m                            Traceback (most recent call last)",
      "\u001b[0;32m<ipython-input-32-82d685ac1dc7>\u001b[0m in \u001b[0;36m<module>\u001b[0;34m\u001b[0m\n\u001b[1;32m      1\u001b[0m \u001b[0;31m# prediction using Neural Networks\u001b[0m\u001b[0;34m\u001b[0m\u001b[0;34m\u001b[0m\u001b[0;34m\u001b[0m\u001b[0m\n\u001b[1;32m      2\u001b[0m \u001b[0;34m\u001b[0m\u001b[0m\n\u001b[0;32m----> 3\u001b[0;31m \u001b[0mprint\u001b[0m\u001b[0;34m(\u001b[0m\u001b[0;34m'accuracy of MLP training set: {:.3f}'\u001b[0m\u001b[0;34m.\u001b[0m\u001b[0mformat\u001b[0m\u001b[0;34m(\u001b[0m\u001b[0mclassifier\u001b[0m\u001b[0;34m.\u001b[0m\u001b[0mscore\u001b[0m\u001b[0;34m(\u001b[0m\u001b[0mX_train\u001b[0m\u001b[0;34m,\u001b[0m\u001b[0my_train\u001b[0m\u001b[0;34m)\u001b[0m\u001b[0;34m)\u001b[0m\u001b[0;34m)\u001b[0m\u001b[0;34m\u001b[0m\u001b[0;34m\u001b[0m\u001b[0m\n\u001b[0m\u001b[1;32m      4\u001b[0m \u001b[0mprint\u001b[0m\u001b[0;34m(\u001b[0m\u001b[0;34m'accuaracy of MLP test set: {:.3f}'\u001b[0m\u001b[0;34m.\u001b[0m\u001b[0mformat\u001b[0m\u001b[0;34m(\u001b[0m\u001b[0mclassifier\u001b[0m\u001b[0;34m.\u001b[0m\u001b[0mscore\u001b[0m\u001b[0;34m(\u001b[0m\u001b[0mX_test\u001b[0m\u001b[0;34m,\u001b[0m \u001b[0my_test\u001b[0m\u001b[0;34m)\u001b[0m\u001b[0;34m)\u001b[0m\u001b[0;34m)\u001b[0m\u001b[0;34m\u001b[0m\u001b[0;34m\u001b[0m\u001b[0m\n",
      "\u001b[0;31mAttributeError\u001b[0m: 'Sequential' object has no attribute 'score'"
     ]
    }
   ],
   "source": [
    "# prediction using Neural Networks \n",
    "\n",
    "print('accuracy of MLP training set: {:.3f}'.format(classifier.score(X_train,y_train)))\n",
    "print('accuaracy of MLP test set: {:.3f}'.format(classifier.score(X_test, y_test)))"
   ]
  },
  {
   "cell_type": "code",
   "execution_count": null,
   "metadata": {},
   "outputs": [],
   "source": []
  },
  {
   "cell_type": "code",
   "execution_count": null,
   "metadata": {},
   "outputs": [],
   "source": [
    "accuracy_score(y_test, y_pred)"
   ]
  },
  {
   "cell_type": "code",
   "execution_count": null,
   "metadata": {},
   "outputs": [],
   "source": []
  },
  {
   "cell_type": "code",
   "execution_count": null,
   "metadata": {},
   "outputs": [],
   "source": []
  },
  {
   "cell_type": "code",
   "execution_count": null,
   "metadata": {},
   "outputs": [],
   "source": []
  },
  {
   "cell_type": "code",
   "execution_count": null,
   "metadata": {},
   "outputs": [],
   "source": []
  },
  {
   "cell_type": "code",
   "execution_count": null,
   "metadata": {},
   "outputs": [],
   "source": []
  },
  {
   "cell_type": "code",
   "execution_count": null,
   "metadata": {},
   "outputs": [],
   "source": []
  }
 ]
}