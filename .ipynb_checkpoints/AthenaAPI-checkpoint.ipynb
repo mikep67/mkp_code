{
 "cells": [
  {
   "cell_type": "code",
   "execution_count": 4,
   "metadata": {},
   "outputs": [
    {
     "data": {
      "text/plain": [
       "'http://apps.who.int/gho/athena/api/GHO/WHOSIS_000001?format=csv'"
      ]
     },
     "execution_count": 4,
     "metadata": {},
     "output_type": "execute_result"
    }
   ],
   "source": [
    "# This is a test of the Athena API for Accessing AWS S3 cloud data\n",
    "# This is for data science projects with WHO data\n",
    "\n",
    "from pyathena import connect\n",
    "\n",
    "# https://www.who.int/data/gho/indicator-metadata-registry/imr-details/170\n",
    "\"http://apps.who.int/gho/athena/api/GHO/WHOSIS_000001?format=csv\""
   ]
  },
  {
   "cell_type": "code",
   "execution_count": null,
   "metadata": {},
   "outputs": [],
   "source": []
  }
 ],
 "metadata": {
  "kernelspec": {
   "display_name": "Python 3",
   "language": "python",
   "name": "python3"
  },
  "language_info": {
   "codemirror_mode": {
    "name": "ipython",
    "version": 3
   },
   "file_extension": ".py",
   "mimetype": "text/x-python",
   "name": "python",
   "nbconvert_exporter": "python",
   "pygments_lexer": "ipython3",
   "version": "3.7.6"
  }
 },
 "nbformat": 4,
 "nbformat_minor": 4
}
