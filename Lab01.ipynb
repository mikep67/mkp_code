{
 "cells": [
  {
   "cell_type": "markdown",
   "metadata": {
    "colab_type": "text",
    "id": "7KeNKtNL2Ix-"
   },
   "source": [
    "<div>\n",
    "<img src=https://www.institutedata.com/wp-content/uploads/2019/10/iod_h_tp_primary_c.svg width=\"300\">\n",
    "</div>\n",
    "\n",
    "# Python - Lab 1 \n",
    "\n",
    "## Learning objectives\n",
    "\n",
    "This lab demonstrates examples of: \n",
    "\n",
    "1. Creating and manipulating lists\n",
    "2. For loops\n",
    "3. Importing modules and functions\n",
    "4. Creating dictonaries\n",
    "\n",
    "## Instructions:\n",
    "\n",
    "1. Replace ??? with the appropriate code\n",
    "2. Press Shift + Enter to execute cell\n",
    "\n"
   ]
  },
  {
   "cell_type": "code",
   "execution_count": 0,
   "metadata": {
    "colab": {},
    "colab_type": "code",
    "id": "NaRcNY1l2LbD"
   },
   "outputs": [],
   "source": [
    "# create a list of 10 student (use just first name)\n",
    "students = \"Isabella,Anil,Rajas,Gavin,Alice,Bob,Pradeep,John,Jessica,Ella\""
   ]
  },
  {
   "cell_type": "code",
   "execution_count": 0,
   "metadata": {
    "colab": {},
    "colab_type": "code",
    "id": "lyMlOgoUZ2R4"
   },
   "outputs": [],
   "source": [
    "# Print the list"
   ]
  },
  {
   "cell_type": "code",
   "execution_count": 1,
   "metadata": {
    "scrolled": true
   },
   "outputs": [
    {
     "ename": "NameError",
     "evalue": "name 'Print' is not defined",
     "output_type": "error",
     "traceback": [
      "\u001b[1;31m---------------------------------------------------------------------------\u001b[0m",
      "\u001b[1;31mNameError\u001b[0m                                 Traceback (most recent call last)",
      "\u001b[1;32m<ipython-input-1-209238c0e09c>\u001b[0m in \u001b[0;36m<module>\u001b[1;34m\u001b[0m\n\u001b[1;32m----> 1\u001b[1;33m \u001b[0mPrint\u001b[0m\u001b[1;33m(\u001b[0m\u001b[0mstudents\u001b[0m\u001b[1;33m)\u001b[0m\u001b[1;33m\u001b[0m\u001b[1;33m\u001b[0m\u001b[0m\n\u001b[0m",
      "\u001b[1;31mNameError\u001b[0m: name 'Print' is not defined"
     ]
    }
   ],
   "source": [
    "Print(students)"
   ]
  },
  {
   "cell_type": "code",
   "execution_count": 1,
   "metadata": {},
   "outputs": [
    {
     "ename": "NameError",
     "evalue": "name 'students' is not defined",
     "output_type": "error",
     "traceback": [
      "\u001b[1;31m---------------------------------------------------------------------------\u001b[0m",
      "\u001b[1;31mNameError\u001b[0m                                 Traceback (most recent call last)",
      "\u001b[1;32m<ipython-input-1-612ff1199fdf>\u001b[0m in \u001b[0;36m<module>\u001b[1;34m\u001b[0m\n\u001b[1;32m----> 1\u001b[1;33m \u001b[0mprint\u001b[0m\u001b[1;33m(\u001b[0m\u001b[0mstudents\u001b[0m\u001b[1;33m)\u001b[0m\u001b[1;33m\u001b[0m\u001b[1;33m\u001b[0m\u001b[0m\n\u001b[0m",
      "\u001b[1;31mNameError\u001b[0m: name 'students' is not defined"
     ]
    }
   ],
   "source": [
    "print(students)"
   ]
  },
  {
   "cell_type": "code",
   "execution_count": 2,
   "metadata": {},
   "outputs": [
    {
     "name": "stdout",
     "output_type": "stream",
     "text": [
      "students\n"
     ]
    }
   ],
   "source": [
    "print('students')"
   ]
  },
  {
   "cell_type": "markdown",
   "metadata": {},
   "source": [
    "Print the values of the string\n",
    "*** Remember print NOT Print or PRINT"
   ]
  },
  {
   "cell_type": "code",
   "execution_count": 3,
   "metadata": {},
   "outputs": [
    {
     "ename": "NameError",
     "evalue": "name 'students' is not defined",
     "output_type": "error",
     "traceback": [
      "\u001b[1;31m---------------------------------------------------------------------------\u001b[0m",
      "\u001b[1;31mNameError\u001b[0m                                 Traceback (most recent call last)",
      "\u001b[1;32m<ipython-input-3-612ff1199fdf>\u001b[0m in \u001b[0;36m<module>\u001b[1;34m\u001b[0m\n\u001b[1;32m----> 1\u001b[1;33m \u001b[0mprint\u001b[0m\u001b[1;33m(\u001b[0m\u001b[0mstudents\u001b[0m\u001b[1;33m)\u001b[0m\u001b[1;33m\u001b[0m\u001b[1;33m\u001b[0m\u001b[0m\n\u001b[0m",
      "\u001b[1;31mNameError\u001b[0m: name 'students' is not defined"
     ]
    }
   ],
   "source": [
    "print(students)"
   ]
  },
  {
   "cell_type": "markdown",
   "metadata": {},
   "source": [
    "*** Remember to execute as a block ***\n",
    "In Jupyter each cell is self-contained"
   ]
  },
  {
   "cell_type": "code",
   "execution_count": 4,
   "metadata": {},
   "outputs": [
    {
     "name": "stdout",
     "output_type": "stream",
     "text": [
      "Isabella,Anil,Rajas,Gavin,Alice,Bob,Pradeep,John,Jessica,Ella\n"
     ]
    }
   ],
   "source": [
    "# create a list of 10 student (use just first name)\n",
    "students = \"Isabella,Anil,Rajas,Gavin,Alice,Bob,Pradeep,John,Jessica,Ella\"\n",
    "\n",
    "print(students)"
   ]
  },
  {
   "cell_type": "code",
   "execution_count": null,
   "metadata": {},
   "outputs": [],
   "source": [
    "# print the list of students\n",
    "# in the following format\n",
    "# Index 01 \t Alice\n",
    "# Index 02 \t Bob\n",
    "# Index 03 \t Pradeep\n",
    "for ???:\n",
    "    print(f'???')"
   ]
  },
  {
   "cell_type": "markdown",
   "metadata": {},
   "source": [
    "***This should be a List.***\n",
    "\n",
    "A string can be indexed but lets not raise the degree of difficulty unnecessarily\n",
    "\n",
    "Check first\n"
   ]
  },
  {
   "cell_type": "code",
   "execution_count": 1,
   "metadata": {},
   "outputs": [
    {
     "name": "stdout",
     "output_type": "stream",
     "text": [
      "['Isabella,Anil,Rajas,Gavin,Alice,Bob,Pradeep,John,Jessica,Ella']\n"
     ]
    }
   ],
   "source": [
    "students = [\"Isabella,Anil,Rajas,Gavin,Alice,Bob,Pradeep,John,Jessica,Ella\"]\n",
    "\n",
    "print(students)"
   ]
  },
  {
   "cell_type": "code",
   "execution_count": null,
   "metadata": {},
   "outputs": [],
   "source": [
    "students = \"Isabella,Anil,Rajas,Gavin,Alice,Bob,Pradeep,John,Jessica,Ella\""
   ]
  },
  {
   "cell_type": "code",
   "execution_count": null,
   "metadata": {},
   "outputs": [],
   "source": [
    "# print the list of students\n",
    "# in the following format\n",
    "# Index 01 \t Alice\n",
    "# Index 02 \t Bob\n",
    "# Index 03 \t Pradeep\n",
    "for ???:\n",
    "    print(f'???')"
   ]
  },
  {
   "cell_type": "markdown",
   "metadata": {},
   "source": [
    "Python List index()\n",
    "The index() method searches an element in the list and returns its index.\n",
    "In simple terms, the index() method finds the given element in a list and returns its position.\n",
    "If the same element is present more than once, the method returns the index of the first occurrence of the element.\n",
    "\n",
    "***Note: Index in Python starts from 0, not 1.\n",
    "\n"
   ]
  },
  {
   "cell_type": "code",
   "execution_count": 2,
   "metadata": {},
   "outputs": [
    {
     "name": "stdout",
     "output_type": "stream",
     "text": [
      "1\n"
     ]
    }
   ],
   "source": [
    "students = [\"Isabella,Anil,Rajas,Gavin,Alice,Bob,Pradeep,John,Jessica,Ella\"]\n",
    "\n",
    "# To print the index, change the order of the list\n",
    "\n",
    "i = len(students)\n",
    "print(i)\n",
    "\n"
   ]
  },
  {
   "cell_type": "markdown",
   "metadata": {},
   "source": [
    "## This is NOT a List\n",
    "\n",
    "This is a list"
   ]
  },
  {
   "cell_type": "code",
   "execution_count": null,
   "metadata": {},
   "outputs": [],
   "source": [
    "students = [\"Isabella\",\"Anil\",\"Rajas\",\"Gavin\",\"Alice\",\"Bob\",\"Pradeep\",\"John\",\"Jessica\",\"Ella\"]"
   ]
  },
  {
   "cell_type": "markdown",
   "metadata": {},
   "source": [
    "print the list of students\n",
    "in the following format\n",
    "Index 01 \t Alice\n",
    "Index 02 \t Bob\n",
    "Index 03 \t Pradeep\n",
    "\n",
    "**So change the order in the list according to the instruction:\n",
    "students = [\"Alice\",\"Bob\", \"Pradeep\",\"Anil\",\"Rajas\",\"Gavin\",\"John\",\"Jessica\",\"Ella\"]\n",
    "Now test it is a list"
   ]
  },
  {
   "cell_type": "code",
   "execution_count": 3,
   "metadata": {},
   "outputs": [
    {
     "name": "stdout",
     "output_type": "stream",
     "text": [
      "9\n"
     ]
    }
   ],
   "source": [
    "students = [\"Alice\",\"Bob\", \"Pradeep\",\"Anil\",\"Rajas\",\"Gavin\",\"John\",\"Jessica\",\"Ella\"]\n",
    "\n",
    "print(len(students))"
   ]
  },
  {
   "cell_type": "markdown",
   "metadata": {},
   "source": [
    "This is a definitely a list:\n",
    "now print the index"
   ]
  },
  {
   "cell_type": "code",
   "execution_count": 4,
   "metadata": {},
   "outputs": [
    {
     "ename": "ValueError",
     "evalue": "1 is not in list",
     "output_type": "error",
     "traceback": [
      "\u001b[1;31m---------------------------------------------------------------------------\u001b[0m",
      "\u001b[1;31mValueError\u001b[0m                                Traceback (most recent call last)",
      "\u001b[1;32m<ipython-input-4-62be83d28387>\u001b[0m in \u001b[0;36m<module>\u001b[1;34m\u001b[0m\n\u001b[0;32m      1\u001b[0m \u001b[0mstudents\u001b[0m \u001b[1;33m=\u001b[0m \u001b[1;33m[\u001b[0m\u001b[1;34m\"Isabella\"\u001b[0m\u001b[1;33m,\u001b[0m\u001b[1;34m\"Alice\"\u001b[0m\u001b[1;33m,\u001b[0m\u001b[1;34m\"Bob\"\u001b[0m\u001b[1;33m,\u001b[0m \u001b[1;34m\"Pradeep\"\u001b[0m\u001b[1;33m,\u001b[0m\u001b[1;34m\"Anil\"\u001b[0m\u001b[1;33m,\u001b[0m\u001b[1;34m\"Rajas\"\u001b[0m\u001b[1;33m,\u001b[0m\u001b[1;34m\"Gavin\"\u001b[0m\u001b[1;33m,\u001b[0m\u001b[1;34m\"John\"\u001b[0m\u001b[1;33m,\u001b[0m\u001b[1;34m\"Jessica\"\u001b[0m\u001b[1;33m,\u001b[0m\u001b[1;34m\"Ella\"\u001b[0m\u001b[1;33m]\u001b[0m\u001b[1;33m\u001b[0m\u001b[1;33m\u001b[0m\u001b[0m\n\u001b[0;32m      2\u001b[0m \u001b[1;33m\u001b[0m\u001b[0m\n\u001b[1;32m----> 3\u001b[1;33m \u001b[0mprint\u001b[0m\u001b[1;33m(\u001b[0m\u001b[0mstudents\u001b[0m\u001b[1;33m.\u001b[0m\u001b[0mindex\u001b[0m\u001b[1;33m(\u001b[0m\u001b[1;36m1\u001b[0m\u001b[1;33m)\u001b[0m\u001b[1;33m)\u001b[0m\u001b[1;33m\u001b[0m\u001b[1;33m\u001b[0m\u001b[0m\n\u001b[0m",
      "\u001b[1;31mValueError\u001b[0m: 1 is not in list"
     ]
    }
   ],
   "source": [
    "students = [\"Isabella\",\"Alice\",\"Bob\", \"Pradeep\",\"Anil\",\"Rajas\",\"Gavin\",\"John\",\"Jessica\",\"Ella\"]\n",
    "\n",
    "print(students.index(1))"
   ]
  },
  {
   "cell_type": "markdown",
   "metadata": {},
   "source": [
    "** Try Seting the index. Its not automatic\n"
   ]
  },
  {
   "cell_type": "code",
   "execution_count": 5,
   "metadata": {},
   "outputs": [
    {
     "name": "stdout",
     "output_type": "stream",
     "text": [
      "Isabella\n",
      "Alice\n",
      "Bob\n",
      "Pradeep\n",
      "Anil\n",
      "Rajas\n",
      "Gavin\n",
      "John\n",
      "Jessica\n",
      "Ella\n"
     ]
    }
   ],
   "source": [
    "students = [\"Isabella\",\"Alice\",\"Bob\", \"Pradeep\",\"Anil\",\"Rajas\",\"Gavin\",\"John\",\"Jessica\",\"Ella\"]\n"
   ]
  },
  {
   "cell_type": "markdown",
   "metadata": {},
   "source": [
    "**Enumerate\n",
    "Enumerate is a built-in function of Python. Its usefulness can not be summarized in a single line. Yet most of the newcomers and even some advanced programmers are unaware of it. It allows us to loop over something and have an automatic counter. "
   ]
  },
  {
   "cell_type": "code",
   "execution_count": 6,
   "metadata": {},
   "outputs": [
    {
     "name": "stdout",
     "output_type": "stream",
     "text": [
      "Isabella\n",
      "Alice\n",
      "Bob\n",
      "Pradeep\n",
      "Anil\n",
      "Rajas\n",
      "Gavin\n",
      "John\n",
      "Jessica\n",
      "Ella\n"
     ]
    }
   ],
   "source": [
    "students = [\"Isabella\",\"Alice\",\"Bob\", \"Pradeep\",\"Anil\",\"Rajas\",\"Gavin\",\"John\",\"Jessica\",\"Ella\"]\n",
    "\n",
    "for student in students:\n",
    "    print(student)"
   ]
  },
  {
   "cell_type": "code",
   "execution_count": 0,
   "metadata": {
    "colab": {},
    "colab_type": "code",
    "id": "OF5sj3CX1lHl"
   },
   "outputs": [],
   "source": [
    "# print the list of students in reverse order one student in a line with its index\n",
    "???\n",
    "for ???\n",
    "    ???"
   ]
  },
  {
   "cell_type": "markdown",
   "metadata": {},
   "source": [
    "***Reverse is an in built function of a list\n",
    "Just run once to work!"
   ]
  },
  {
   "cell_type": "code",
   "execution_count": 9,
   "metadata": {},
   "outputs": [
    {
     "data": {
      "text/plain": [
       "['Ella',\n",
       " 'Jessica',\n",
       " 'John',\n",
       " 'Gavin',\n",
       " 'Rajas',\n",
       " 'Anil',\n",
       " 'Pradeep',\n",
       " 'Bob',\n",
       " 'Alice',\n",
       " 'Isabella']"
      ]
     },
     "execution_count": 9,
     "metadata": {},
     "output_type": "execute_result"
    }
   ],
   "source": [
    "students.reverse()\n",
    "students"
   ]
  },
  {
   "cell_type": "code",
   "execution_count": 0,
   "metadata": {
    "colab": {},
    "colab_type": "code",
    "id": "eAdtim4G1pyV"
   },
   "outputs": [],
   "source": [
    "# print the student list in random order\n",
    "# hint look up the function random.sample\n",
    "??? random\n",
    "??? = random.sample(???)\n",
    "???"
   ]
  },
  {
   "cell_type": "code",
   "execution_count": 12,
   "metadata": {},
   "outputs": [
    {
     "ename": "TypeError",
     "evalue": "sample() missing 1 required positional argument: 'k'",
     "output_type": "error",
     "traceback": [
      "\u001b[1;31m---------------------------------------------------------------------------\u001b[0m",
      "\u001b[1;31mTypeError\u001b[0m                                 Traceback (most recent call last)",
      "\u001b[1;32m<ipython-input-12-6b6539d05053>\u001b[0m in \u001b[0;36m<module>\u001b[1;34m\u001b[0m\n\u001b[0;32m      3\u001b[0m \u001b[1;32mimport\u001b[0m \u001b[0mrandom\u001b[0m\u001b[1;33m\u001b[0m\u001b[1;33m\u001b[0m\u001b[0m\n\u001b[0;32m      4\u001b[0m \u001b[1;33m\u001b[0m\u001b[0m\n\u001b[1;32m----> 5\u001b[1;33m \u001b[0mr\u001b[0m \u001b[1;33m=\u001b[0m \u001b[0mrandom\u001b[0m\u001b[1;33m.\u001b[0m\u001b[0msample\u001b[0m\u001b[1;33m(\u001b[0m\u001b[1;36m3\u001b[0m\u001b[1;33m)\u001b[0m\u001b[1;33m\u001b[0m\u001b[1;33m\u001b[0m\u001b[0m\n\u001b[0m\u001b[0;32m      6\u001b[0m \u001b[1;33m\u001b[0m\u001b[0m\n\u001b[0;32m      7\u001b[0m \u001b[0mprint\u001b[0m\u001b[1;33m(\u001b[0m\u001b[0mr\u001b[0m\u001b[1;33m)\u001b[0m\u001b[1;33m\u001b[0m\u001b[1;33m\u001b[0m\u001b[0m\n",
      "\u001b[1;31mTypeError\u001b[0m: sample() missing 1 required positional argument: 'k'"
     ]
    }
   ],
   "source": [
    "students = [\"Isabella\",\"Alice\",\"Bob\", \"Pradeep\",\"Anil\",\"Rajas\",\"Gavin\",\"John\",\"Jessica\",\"Ella\"]\n",
    "\n",
    "import random\n",
    "\n",
    "r = random.sample(3)\n",
    "\n",
    "print(r)"
   ]
  },
  {
   "cell_type": "code",
   "execution_count": 16,
   "metadata": {},
   "outputs": [
    {
     "name": "stdout",
     "output_type": "stream",
     "text": [
      "['Anil', 'Bob', 'Gavin', 'Rajas', 'Ella']\n"
     ]
    }
   ],
   "source": [
    "students = [\"Isabella\",\"Alice\",\"Bob\", \"Pradeep\",\"Anil\",\"Rajas\",\"Gavin\",\"John\",\"Jessica\",\"Ella\"]\n",
    "\n",
    "import random\n",
    "\n",
    "r = random.sample(students,len(students) - 5)\n",
    "\n",
    "print(r)"
   ]
  },
  {
   "cell_type": "markdown",
   "metadata": {},
   "source": [
    "**Random needs to be imported\n",
    "Shift tab stab for definition although typeError is useful"
   ]
  },
  {
   "cell_type": "code",
   "execution_count": 0,
   "metadata": {
    "colab": {},
    "colab_type": "code",
    "id": "sfKkL5dt1tqG"
   },
   "outputs": [],
   "source": [
    "# list students in order of their exam marks in the following list\n",
    "marks = [87,45,76,64,66,90,55,73,69,75]\n",
    "??? = dict(zip(???))\n",
    "print(f\"Students and their marks: \\n {studentsAndMarks}\")\n",
    "???"
   ]
  },
  {
   "cell_type": "markdown",
   "metadata": {},
   "source": [
    "**The Zip funcion merges tuples of equal value***\n",
    "\n",
    "Return Value from zip()\n",
    "The zip()function returns an iterator of tuples based on the iterable objects.\n",
    "\n",
    "If we do not pass any parameter, zip() returns an empty iterator\n",
    "If a single iterable is passed, zip() returns an iterator of tuples with each tuple having only one element.\n",
    "If multiple iterables are passed, zip() returns an iterator of tuples with each tuple having elements from all the iterables.\n",
    "\n",
    "Suppose, two iterables are passed to zip(); one iterable containing three and other containing five elements. Then, the returned iterator will contain three tuples. It's because iterator stops when the shortest iterable is exhausted.\n",
    "\n",
    "\n",
    "***Unlike other other languages, the elements of each variable (list, dictionary, tuple, array) do not have to be equal. Refer \n",
    "https://www.programiz.com/python-programming/methods/built-in/zip"
   ]
  },
  {
   "cell_type": "code",
   "execution_count": 19,
   "metadata": {
    "colab": {},
    "colab_type": "code",
    "id": "9d9QrXRo182c"
   },
   "outputs": [
    {
     "name": "stdout",
     "output_type": "stream",
     "text": [
      "Students and their marks: \n",
      " {'Isabella': 87, 'Alice': 45, 'Bob': 76, 'Pradeep': 64, 'Anil': 66, 'Rajas': 90, 'Gavin': 55, 'John': 73, 'Jessica': 69, 'Ella': 75}\n"
     ]
    }
   ],
   "source": [
    "students = [\"Isabella\",\"Alice\",\"Bob\", \"Pradeep\",\"Anil\",\"Rajas\",\"Gavin\",\"John\",\"Jessica\",\"Ella\"]\n",
    "\n",
    "# list students in order of their exam marks in the following list\n",
    "marks = [87,45,76,64,66,90,55,73,69,75]\n",
    "StudentsAndMarks = dict(zip(students,marks))\n",
    "print(f\"Students and their marks: \\n {StudentsAndMarks}\")\n"
   ]
  },
  {
   "cell_type": "markdown",
   "metadata": {},
   "source": [
    "### Check the Values of Keys in a Dictionary ###\n"
   ]
  },
  {
   "cell_type": "code",
   "execution_count": null,
   "metadata": {},
   "outputs": [],
   "source": []
  }
 ],
 "metadata": {
  "colab": {
   "collapsed_sections": [],
   "name": "Lab01.ipynb",
   "provenance": []
  },
  "kernelspec": {
   "display_name": "Python 3",
   "language": "python",
   "name": "python3"
  },
  "language_info": {
   "codemirror_mode": {
    "name": "ipython",
    "version": 3
   },
   "file_extension": ".py",
   "mimetype": "text/x-python",
   "name": "python",
   "nbconvert_exporter": "python",
   "pygments_lexer": "ipython3",
   "version": "3.7.4"
  }
 },
 "nbformat": 4,
 "nbformat_minor": 1
}
